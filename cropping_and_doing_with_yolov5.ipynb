{
  "nbformat": 4,
  "nbformat_minor": 0,
  "metadata": {
    "colab": {
      "provenance": [],
      "gpuType": "T4",
      "mount_file_id": "1aONKctLNkvvEW30BeUBFokMF53PwUwNg",
      "authorship_tag": "ABX9TyOBFj7L0encAaMB3KiksKAK",
      "include_colab_link": true
    },
    "kernelspec": {
      "name": "python3",
      "display_name": "Python 3"
    },
    "language_info": {
      "name": "python"
    }
  },
  "cells": [
    {
      "cell_type": "markdown",
      "metadata": {
        "id": "view-in-github",
        "colab_type": "text"
      },
      "source": [
        "<a href=\"https://colab.research.google.com/github/nickthelegend/stable-diffusion-colab/blob/main/cropping_and_doing_with_yolov5.ipynb\" target=\"_parent\"><img src=\"https://colab.research.google.com/assets/colab-badge.svg\" alt=\"Open In Colab\"/></a>"
      ]
    },
    {
      "cell_type": "code",
      "source": [
        "!pip install pdf2image\n",
        "!apt-get install poppler-utils"
      ],
      "metadata": {
        "id": "bBN626F3u9HA",
        "colab": {
          "base_uri": "https://localhost:8080/"
        },
        "outputId": "b0606f03-c75c-47ed-8ad5-14e83475da55"
      },
      "execution_count": null,
      "outputs": [
        {
          "output_type": "stream",
          "name": "stdout",
          "text": [
            "Looking in indexes: https://pypi.org/simple, https://us-python.pkg.dev/colab-wheels/public/simple/\n",
            "Collecting pdf2image\n",
            "  Downloading pdf2image-1.16.3-py3-none-any.whl (11 kB)\n",
            "Requirement already satisfied: pillow in /usr/local/lib/python3.10/dist-packages (from pdf2image) (8.4.0)\n",
            "Installing collected packages: pdf2image\n",
            "Successfully installed pdf2image-1.16.3\n",
            "Reading package lists... Done\n",
            "Building dependency tree       \n",
            "Reading state information... Done\n",
            "The following NEW packages will be installed:\n",
            "  poppler-utils\n",
            "0 upgraded, 1 newly installed, 0 to remove and 16 not upgraded.\n",
            "Need to get 174 kB of archives.\n",
            "After this operation, 754 kB of additional disk space will be used.\n",
            "Get:1 http://archive.ubuntu.com/ubuntu focal-updates/main amd64 poppler-utils amd64 0.86.1-0ubuntu1.1 [174 kB]\n",
            "Fetched 174 kB in 1s (260 kB/s)\n",
            "Selecting previously unselected package poppler-utils.\n",
            "(Reading database ... 123069 files and directories currently installed.)\n",
            "Preparing to unpack .../poppler-utils_0.86.1-0ubuntu1.1_amd64.deb ...\n",
            "Unpacking poppler-utils (0.86.1-0ubuntu1.1) ...\n",
            "Setting up poppler-utils (0.86.1-0ubuntu1.1) ...\n",
            "Processing triggers for man-db (2.9.1-1) ...\n"
          ]
        }
      ]
    },
    {
      "cell_type": "code",
      "execution_count": null,
      "metadata": {
        "colab": {
          "base_uri": "https://localhost:8080/"
        },
        "id": "y7T2aWg2wUcp",
        "outputId": "7ea4d1b9-6b54-45a0-df0b-1e7ef3b029ad"
      },
      "outputs": [
        {
          "output_type": "stream",
          "name": "stdout",
          "text": [
            "Cloning into 'yolov5'...\n",
            "remote: Enumerating objects: 15996, done.\u001b[K\n",
            "remote: Counting objects: 100% (165/165), done.\u001b[K\n",
            "remote: Compressing objects: 100% (80/80), done.\u001b[K\n",
            "remote: Total 15996 (delta 100), reused 131 (delta 85), pack-reused 15831\u001b[K\n",
            "Receiving objects: 100% (15996/15996), 14.58 MiB | 25.84 MiB/s, done.\n",
            "Resolving deltas: 100% (10974/10974), done.\n",
            "/content/yolov5\n",
            "Looking in indexes: https://pypi.org/simple, https://us-python.pkg.dev/colab-wheels/public/simple/\n",
            "Collecting gitpython>=3.1.30 (from -r requirements.txt (line 5))\n",
            "  Downloading GitPython-3.1.31-py3-none-any.whl (184 kB)\n",
            "\u001b[2K     \u001b[90m━━━━━━━━━━━━━━━━━━━━━━━━━━━━━━━━━━━━━━━\u001b[0m \u001b[32m184.3/184.3 kB\u001b[0m \u001b[31m5.7 MB/s\u001b[0m eta \u001b[36m0:00:00\u001b[0m\n",
            "\u001b[?25hRequirement already satisfied: matplotlib>=3.3 in /usr/local/lib/python3.10/dist-packages (from -r requirements.txt (line 6)) (3.7.1)\n",
            "Requirement already satisfied: numpy>=1.18.5 in /usr/local/lib/python3.10/dist-packages (from -r requirements.txt (line 7)) (1.22.4)\n",
            "Requirement already satisfied: opencv-python>=4.1.1 in /usr/local/lib/python3.10/dist-packages (from -r requirements.txt (line 8)) (4.7.0.72)\n",
            "Requirement already satisfied: Pillow>=7.1.2 in /usr/local/lib/python3.10/dist-packages (from -r requirements.txt (line 9)) (8.4.0)\n",
            "Requirement already satisfied: psutil in /usr/local/lib/python3.10/dist-packages (from -r requirements.txt (line 10)) (5.9.5)\n",
            "Requirement already satisfied: PyYAML>=5.3.1 in /usr/local/lib/python3.10/dist-packages (from -r requirements.txt (line 11)) (6.0)\n",
            "Requirement already satisfied: requests>=2.23.0 in /usr/local/lib/python3.10/dist-packages (from -r requirements.txt (line 12)) (2.27.1)\n",
            "Requirement already satisfied: scipy>=1.4.1 in /usr/local/lib/python3.10/dist-packages (from -r requirements.txt (line 13)) (1.10.1)\n",
            "Collecting thop>=0.1.1 (from -r requirements.txt (line 14))\n",
            "  Downloading thop-0.1.1.post2209072238-py3-none-any.whl (15 kB)\n",
            "Requirement already satisfied: torch>=1.7.0 in /usr/local/lib/python3.10/dist-packages (from -r requirements.txt (line 15)) (2.0.1+cu118)\n",
            "Requirement already satisfied: torchvision>=0.8.1 in /usr/local/lib/python3.10/dist-packages (from -r requirements.txt (line 16)) (0.15.2+cu118)\n",
            "Requirement already satisfied: tqdm>=4.64.0 in /usr/local/lib/python3.10/dist-packages (from -r requirements.txt (line 17)) (4.65.0)\n",
            "Collecting ultralytics>=8.0.111 (from -r requirements.txt (line 18))\n",
            "  Downloading ultralytics-8.0.121-py3-none-any.whl (611 kB)\n",
            "\u001b[2K     \u001b[90m━━━━━━━━━━━━━━━━━━━━━━━━━━━━━━━━━━━━━━\u001b[0m \u001b[32m611.8/611.8 kB\u001b[0m \u001b[31m26.2 MB/s\u001b[0m eta \u001b[36m0:00:00\u001b[0m\n",
            "\u001b[?25hRequirement already satisfied: pandas>=1.1.4 in /usr/local/lib/python3.10/dist-packages (from -r requirements.txt (line 27)) (1.5.3)\n",
            "Requirement already satisfied: seaborn>=0.11.0 in /usr/local/lib/python3.10/dist-packages (from -r requirements.txt (line 28)) (0.12.2)\n",
            "Requirement already satisfied: setuptools>=65.5.1 in /usr/local/lib/python3.10/dist-packages (from -r requirements.txt (line 42)) (67.7.2)\n",
            "Collecting gitdb<5,>=4.0.1 (from gitpython>=3.1.30->-r requirements.txt (line 5))\n",
            "  Downloading gitdb-4.0.10-py3-none-any.whl (62 kB)\n",
            "\u001b[2K     \u001b[90m━━━━━━━━━━━━━━━━━━━━━━━━━━━━━━━━━━━━━━━━\u001b[0m \u001b[32m62.7/62.7 kB\u001b[0m \u001b[31m9.4 MB/s\u001b[0m eta \u001b[36m0:00:00\u001b[0m\n",
            "\u001b[?25hRequirement already satisfied: contourpy>=1.0.1 in /usr/local/lib/python3.10/dist-packages (from matplotlib>=3.3->-r requirements.txt (line 6)) (1.0.7)\n",
            "Requirement already satisfied: cycler>=0.10 in /usr/local/lib/python3.10/dist-packages (from matplotlib>=3.3->-r requirements.txt (line 6)) (0.11.0)\n",
            "Requirement already satisfied: fonttools>=4.22.0 in /usr/local/lib/python3.10/dist-packages (from matplotlib>=3.3->-r requirements.txt (line 6)) (4.39.3)\n",
            "Requirement already satisfied: kiwisolver>=1.0.1 in /usr/local/lib/python3.10/dist-packages (from matplotlib>=3.3->-r requirements.txt (line 6)) (1.4.4)\n",
            "Requirement already satisfied: packaging>=20.0 in /usr/local/lib/python3.10/dist-packages (from matplotlib>=3.3->-r requirements.txt (line 6)) (23.1)\n",
            "Requirement already satisfied: pyparsing>=2.3.1 in /usr/local/lib/python3.10/dist-packages (from matplotlib>=3.3->-r requirements.txt (line 6)) (3.0.9)\n",
            "Requirement already satisfied: python-dateutil>=2.7 in /usr/local/lib/python3.10/dist-packages (from matplotlib>=3.3->-r requirements.txt (line 6)) (2.8.2)\n",
            "Requirement already satisfied: urllib3<1.27,>=1.21.1 in /usr/local/lib/python3.10/dist-packages (from requests>=2.23.0->-r requirements.txt (line 12)) (1.26.15)\n",
            "Requirement already satisfied: certifi>=2017.4.17 in /usr/local/lib/python3.10/dist-packages (from requests>=2.23.0->-r requirements.txt (line 12)) (2022.12.7)\n",
            "Requirement already satisfied: charset-normalizer~=2.0.0 in /usr/local/lib/python3.10/dist-packages (from requests>=2.23.0->-r requirements.txt (line 12)) (2.0.12)\n",
            "Requirement already satisfied: idna<4,>=2.5 in /usr/local/lib/python3.10/dist-packages (from requests>=2.23.0->-r requirements.txt (line 12)) (3.4)\n",
            "Requirement already satisfied: filelock in /usr/local/lib/python3.10/dist-packages (from torch>=1.7.0->-r requirements.txt (line 15)) (3.12.0)\n",
            "Requirement already satisfied: typing-extensions in /usr/local/lib/python3.10/dist-packages (from torch>=1.7.0->-r requirements.txt (line 15)) (4.5.0)\n",
            "Requirement already satisfied: sympy in /usr/local/lib/python3.10/dist-packages (from torch>=1.7.0->-r requirements.txt (line 15)) (1.11.1)\n",
            "Requirement already satisfied: networkx in /usr/local/lib/python3.10/dist-packages (from torch>=1.7.0->-r requirements.txt (line 15)) (3.1)\n",
            "Requirement already satisfied: jinja2 in /usr/local/lib/python3.10/dist-packages (from torch>=1.7.0->-r requirements.txt (line 15)) (3.1.2)\n",
            "Requirement already satisfied: triton==2.0.0 in /usr/local/lib/python3.10/dist-packages (from torch>=1.7.0->-r requirements.txt (line 15)) (2.0.0)\n",
            "Requirement already satisfied: cmake in /usr/local/lib/python3.10/dist-packages (from triton==2.0.0->torch>=1.7.0->-r requirements.txt (line 15)) (3.25.2)\n",
            "Requirement already satisfied: lit in /usr/local/lib/python3.10/dist-packages (from triton==2.0.0->torch>=1.7.0->-r requirements.txt (line 15)) (16.0.5)\n",
            "Requirement already satisfied: pytz>=2020.1 in /usr/local/lib/python3.10/dist-packages (from pandas>=1.1.4->-r requirements.txt (line 27)) (2022.7.1)\n",
            "Collecting smmap<6,>=3.0.1 (from gitdb<5,>=4.0.1->gitpython>=3.1.30->-r requirements.txt (line 5))\n",
            "  Downloading smmap-5.0.0-py3-none-any.whl (24 kB)\n",
            "Requirement already satisfied: six>=1.5 in /usr/local/lib/python3.10/dist-packages (from python-dateutil>=2.7->matplotlib>=3.3->-r requirements.txt (line 6)) (1.16.0)\n",
            "Requirement already satisfied: MarkupSafe>=2.0 in /usr/local/lib/python3.10/dist-packages (from jinja2->torch>=1.7.0->-r requirements.txt (line 15)) (2.1.2)\n",
            "Requirement already satisfied: mpmath>=0.19 in /usr/local/lib/python3.10/dist-packages (from sympy->torch>=1.7.0->-r requirements.txt (line 15)) (1.3.0)\n",
            "Installing collected packages: smmap, gitdb, gitpython, ultralytics, thop\n",
            "Successfully installed gitdb-4.0.10 gitpython-3.1.31 smmap-5.0.0 thop-0.1.1.post2209072238 ultralytics-8.0.121\n"
          ]
        }
      ],
      "source": [
        "!git clone https://github.com/ultralytics/yolov5  # clone\n",
        "%cd yolov5\n",
        "!pip install -r requirements.txt  # install"
      ]
    },
    {
      "cell_type": "code",
      "source": [
        "!wget https://images.newindianexpress.com/uploads/user/imagelibrary/2012/5/15/22/w600X300/02savita.jpg"
      ],
      "metadata": {
        "colab": {
          "base_uri": "https://localhost:8080/"
        },
        "id": "-4RqLrgixN43",
        "outputId": "f5594d52-d1e4-4592-d7ce-5f48412d1415"
      },
      "execution_count": null,
      "outputs": [
        {
          "output_type": "stream",
          "name": "stdout",
          "text": [
            "--2023-06-02 09:43:44--  https://images.newindianexpress.com/uploads/user/imagelibrary/2012/5/15/22/w600X300/02savita.jpg\n",
            "Resolving images.newindianexpress.com (images.newindianexpress.com)... 18.64.174.18, 18.64.174.89, 18.64.174.11, ...\n",
            "Connecting to images.newindianexpress.com (images.newindianexpress.com)|18.64.174.18|:443... connected.\n",
            "HTTP request sent, awaiting response... 200 OK\n",
            "Length: 28766 (28K) [image/jpeg]\n",
            "Saving to: ‘02savita.jpg’\n",
            "\n",
            "02savita.jpg        100%[===================>]  28.09K  --.-KB/s    in 0.007s  \n",
            "\n",
            "2023-06-02 09:43:45 (3.70 MB/s) - ‘02savita.jpg’ saved [28766/28766]\n",
            "\n"
          ]
        }
      ]
    },
    {
      "cell_type": "code",
      "source": [
        "!python detect.py --source /content/yolov5/02savita.jpg --save-crop --classes 0"
      ],
      "metadata": {
        "colab": {
          "base_uri": "https://localhost:8080/"
        },
        "id": "PXj3VAZXwuy5",
        "outputId": "faf20762-c818-41a9-8bd9-96f1df354fcc"
      },
      "execution_count": null,
      "outputs": [
        {
          "output_type": "stream",
          "name": "stdout",
          "text": [
            "\u001b[34m\u001b[1mdetect: \u001b[0mweights=yolov5s.pt, source=/content/yolov5/02savita.jpg, data=data/coco128.yaml, imgsz=[640, 640], conf_thres=0.25, iou_thres=0.45, max_det=1000, device=, view_img=False, save_txt=False, save_conf=False, save_crop=True, nosave=False, classes=[0], agnostic_nms=False, augment=False, visualize=False, update=False, project=runs/detect, name=exp, exist_ok=False, line_thickness=3, hide_labels=False, hide_conf=False, half=False, dnn=False, vid_stride=1\n",
            "YOLOv5 🚀 v7.0-175-g5f11555 Python-3.10.11 torch-2.0.1+cu118 CPU\n",
            "\n",
            "Downloading https://github.com/ultralytics/yolov5/releases/download/v7.0/yolov5s.pt to yolov5s.pt...\n",
            "100% 14.1M/14.1M [00:00<00:00, 71.2MB/s]\n",
            "\n",
            "Fusing layers... \n",
            "YOLOv5s summary: 213 layers, 7225885 parameters, 0 gradients\n",
            "image 1/1 /content/yolov5/02savita.jpg: 320x640 2 persons, 350.1ms\n",
            "Speed: 2.1ms pre-process, 350.1ms inference, 37.2ms NMS per image at shape (1, 3, 640, 640)\n",
            "Results saved to \u001b[1mruns/detect/exp\u001b[0m\n"
          ]
        }
      ]
    },
    {
      "cell_type": "code",
      "source": [
        "!pip install ultralytics\n",
        "\n"
      ],
      "metadata": {
        "colab": {
          "base_uri": "https://localhost:8080/"
        },
        "id": "S33lxVETxFQr",
        "outputId": "15c56578-22da-4a95-f534-3982c89f52bb"
      },
      "execution_count": null,
      "outputs": [
        {
          "output_type": "stream",
          "name": "stdout",
          "text": [
            "Looking in indexes: https://pypi.org/simple, https://us-python.pkg.dev/colab-wheels/public/simple/\n",
            "Requirement already satisfied: ultralytics in /usr/local/lib/python3.10/dist-packages (8.0.112)\n",
            "Requirement already satisfied: matplotlib>=3.2.2 in /usr/local/lib/python3.10/dist-packages (from ultralytics) (3.7.1)\n",
            "Requirement already satisfied: opencv-python>=4.6.0 in /usr/local/lib/python3.10/dist-packages (from ultralytics) (4.7.0.72)\n",
            "Requirement already satisfied: Pillow>=7.1.2 in /usr/local/lib/python3.10/dist-packages (from ultralytics) (8.4.0)\n",
            "Requirement already satisfied: PyYAML>=5.3.1 in /usr/local/lib/python3.10/dist-packages (from ultralytics) (6.0)\n",
            "Requirement already satisfied: requests>=2.23.0 in /usr/local/lib/python3.10/dist-packages (from ultralytics) (2.27.1)\n",
            "Requirement already satisfied: scipy>=1.4.1 in /usr/local/lib/python3.10/dist-packages (from ultralytics) (1.10.1)\n",
            "Requirement already satisfied: torch>=1.7.0 in /usr/local/lib/python3.10/dist-packages (from ultralytics) (2.0.1+cu118)\n",
            "Requirement already satisfied: torchvision>=0.8.1 in /usr/local/lib/python3.10/dist-packages (from ultralytics) (0.15.2+cu118)\n",
            "Requirement already satisfied: tqdm>=4.64.0 in /usr/local/lib/python3.10/dist-packages (from ultralytics) (4.65.0)\n",
            "Requirement already satisfied: pandas>=1.1.4 in /usr/local/lib/python3.10/dist-packages (from ultralytics) (1.5.3)\n",
            "Requirement already satisfied: seaborn>=0.11.0 in /usr/local/lib/python3.10/dist-packages (from ultralytics) (0.12.2)\n",
            "Requirement already satisfied: psutil in /usr/local/lib/python3.10/dist-packages (from ultralytics) (5.9.5)\n",
            "Requirement already satisfied: contourpy>=1.0.1 in /usr/local/lib/python3.10/dist-packages (from matplotlib>=3.2.2->ultralytics) (1.0.7)\n",
            "Requirement already satisfied: cycler>=0.10 in /usr/local/lib/python3.10/dist-packages (from matplotlib>=3.2.2->ultralytics) (0.11.0)\n",
            "Requirement already satisfied: fonttools>=4.22.0 in /usr/local/lib/python3.10/dist-packages (from matplotlib>=3.2.2->ultralytics) (4.39.3)\n",
            "Requirement already satisfied: kiwisolver>=1.0.1 in /usr/local/lib/python3.10/dist-packages (from matplotlib>=3.2.2->ultralytics) (1.4.4)\n",
            "Requirement already satisfied: numpy>=1.20 in /usr/local/lib/python3.10/dist-packages (from matplotlib>=3.2.2->ultralytics) (1.22.4)\n",
            "Requirement already satisfied: packaging>=20.0 in /usr/local/lib/python3.10/dist-packages (from matplotlib>=3.2.2->ultralytics) (23.1)\n",
            "Requirement already satisfied: pyparsing>=2.3.1 in /usr/local/lib/python3.10/dist-packages (from matplotlib>=3.2.2->ultralytics) (3.0.9)\n",
            "Requirement already satisfied: python-dateutil>=2.7 in /usr/local/lib/python3.10/dist-packages (from matplotlib>=3.2.2->ultralytics) (2.8.2)\n",
            "Requirement already satisfied: pytz>=2020.1 in /usr/local/lib/python3.10/dist-packages (from pandas>=1.1.4->ultralytics) (2022.7.1)\n",
            "Requirement already satisfied: urllib3<1.27,>=1.21.1 in /usr/local/lib/python3.10/dist-packages (from requests>=2.23.0->ultralytics) (1.26.15)\n",
            "Requirement already satisfied: certifi>=2017.4.17 in /usr/local/lib/python3.10/dist-packages (from requests>=2.23.0->ultralytics) (2022.12.7)\n",
            "Requirement already satisfied: charset-normalizer~=2.0.0 in /usr/local/lib/python3.10/dist-packages (from requests>=2.23.0->ultralytics) (2.0.12)\n",
            "Requirement already satisfied: idna<4,>=2.5 in /usr/local/lib/python3.10/dist-packages (from requests>=2.23.0->ultralytics) (3.4)\n",
            "Requirement already satisfied: filelock in /usr/local/lib/python3.10/dist-packages (from torch>=1.7.0->ultralytics) (3.12.0)\n",
            "Requirement already satisfied: typing-extensions in /usr/local/lib/python3.10/dist-packages (from torch>=1.7.0->ultralytics) (4.5.0)\n",
            "Requirement already satisfied: sympy in /usr/local/lib/python3.10/dist-packages (from torch>=1.7.0->ultralytics) (1.11.1)\n",
            "Requirement already satisfied: networkx in /usr/local/lib/python3.10/dist-packages (from torch>=1.7.0->ultralytics) (3.1)\n",
            "Requirement already satisfied: jinja2 in /usr/local/lib/python3.10/dist-packages (from torch>=1.7.0->ultralytics) (3.1.2)\n",
            "Requirement already satisfied: triton==2.0.0 in /usr/local/lib/python3.10/dist-packages (from torch>=1.7.0->ultralytics) (2.0.0)\n",
            "Requirement already satisfied: cmake in /usr/local/lib/python3.10/dist-packages (from triton==2.0.0->torch>=1.7.0->ultralytics) (3.25.2)\n",
            "Requirement already satisfied: lit in /usr/local/lib/python3.10/dist-packages (from triton==2.0.0->torch>=1.7.0->ultralytics) (16.0.5)\n",
            "Requirement already satisfied: six>=1.5 in /usr/local/lib/python3.10/dist-packages (from python-dateutil>=2.7->matplotlib>=3.2.2->ultralytics) (1.16.0)\n",
            "Requirement already satisfied: MarkupSafe>=2.0 in /usr/local/lib/python3.10/dist-packages (from jinja2->torch>=1.7.0->ultralytics) (2.1.2)\n",
            "Requirement already satisfied: mpmath>=0.19 in /usr/local/lib/python3.10/dist-packages (from sympy->torch>=1.7.0->ultralytics) (1.3.0)\n"
          ]
        }
      ]
    },
    {
      "cell_type": "code",
      "source": [
        "!pip install Cython\n"
      ],
      "metadata": {
        "colab": {
          "base_uri": "https://localhost:8080/"
        },
        "id": "vg4ACiz6fquK",
        "outputId": "372fd773-8de8-4754-be56-3f53c54ab927"
      },
      "execution_count": null,
      "outputs": [
        {
          "output_type": "stream",
          "name": "stdout",
          "text": [
            "Looking in indexes: https://pypi.org/simple, https://us-python.pkg.dev/colab-wheels/public/simple/\n",
            "Requirement already satisfied: Cython in /usr/local/lib/python3.10/dist-packages (0.29.34)\n"
          ]
        }
      ]
    },
    {
      "cell_type": "code",
      "source": [
        "import torch\n",
        "\n",
        "# Model\n",
        "model = torch.hub.load('ultralytics/yolov5', 'yolov5s')  # or yolov5m, yolov5l, yolov5x, custom\n",
        "model.classes = [0]\n",
        "# Images\n",
        "img = 'https://ultralytics.com/images/zidane.jpg'  # or file, Path, PIL, OpenCV, numpy, list\n",
        "\n",
        "# Inference\n",
        "results = model(img)\n",
        "\n",
        "# Results\n",
        "crops = results.crop(save=True,save_dir=\"/content/sad\")  # or .show(), .save(), .print(), .pandas(), etc."
      ],
      "metadata": {
        "colab": {
          "base_uri": "https://localhost:8080/"
        },
        "id": "VMtzT0qwAFAQ",
        "outputId": "9f9c98c4-a466-457a-8dcf-a43aeaee323a"
      },
      "execution_count": null,
      "outputs": [
        {
          "output_type": "stream",
          "name": "stderr",
          "text": [
            "/usr/local/lib/python3.10/dist-packages/torch/hub.py:286: UserWarning: You are about to download and run code from an untrusted repository. In a future release, this won't be allowed. To add the repository to your trusted list, change the command to {calling_fn}(..., trust_repo=False) and a command prompt will appear asking for an explicit confirmation of trust, or load(..., trust_repo=True), which will assume that the prompt is to be answered with 'yes'. You can also use load(..., trust_repo='check') which will only prompt for confirmation if the repo is not already trusted. This will eventually be the default behaviour\n",
            "  warnings.warn(\n",
            "Downloading: \"https://github.com/ultralytics/yolov5/zipball/master\" to /root/.cache/torch/hub/master.zip\n",
            "YOLOv5 🚀 2023-6-22 Python-3.10.12 torch-2.0.1+cu118 CPU\n",
            "\n",
            "Downloading https://github.com/ultralytics/yolov5/releases/download/v7.0/yolov5s.pt to yolov5s.pt...\n",
            "100%|██████████| 14.1M/14.1M [00:00<00:00, 121MB/s] \n",
            "\n",
            "Fusing layers... \n",
            "YOLOv5s summary: 213 layers, 7225885 parameters, 0 gradients\n",
            "Adding AutoShape... \n",
            "Saved 1 image to \u001b[1m/content/sad\u001b[0m\n",
            "Saved results to /content/sad\n",
            "\n"
          ]
        }
      ]
    },
    {
      "cell_type": "code",
      "source": [
        "import os\n",
        "import requests\n",
        "from bs4 import BeautifulSoup\n",
        "from urllib.parse import urljoin\n",
        "\n",
        "visited_urls = set()  # Track visited URLs to avoid duplicates\n",
        "\n",
        "def crawl_website(url, save_directory):\n",
        "    # Check if the URL has already been visited\n",
        "    if url in visited_urls:\n",
        "        return\n",
        "\n",
        "    try:\n",
        "        # Send a GET request to the URL\n",
        "        response = requests.get(url)\n",
        "\n",
        "        # Create a BeautifulSoup object with the response content\n",
        "        soup = BeautifulSoup(response.content, 'html.parser')\n",
        "\n",
        "        # Find all image tags in the HTML\n",
        "        image_tags = soup.find_all('img')\n",
        "\n",
        "        # Download and save each image\n",
        "        for img in image_tags:\n",
        "            if 'data-src' in img.attrs:\n",
        "                image_url = urljoin(url, img['data-src'])\n",
        "                download_image(image_url, save_directory)\n",
        "\n",
        "        # Mark the URL as visited\n",
        "        visited_urls.add(url)\n",
        "\n",
        "    except Exception as e:\n",
        "        print(f\"Error crawling {url}: {str(e)}\")\n",
        "\n",
        "def download_image(url, save_directory):\n",
        "    # Create the save directory if it doesn't exist\n",
        "    os.makedirs(save_directory, exist_ok=True)\n",
        "\n",
        "    try:\n",
        "        # Send a GET request to the image URL\n",
        "        response = requests.get(url)\n",
        "\n",
        "        # Extract the filename from the URL\n",
        "        filename = url.split('/')[-1]\n",
        "\n",
        "        # Save the image to the specified directory\n",
        "        save_path = os.path.join(save_directory, filename)\n",
        "        with open(save_path, 'wb') as file:\n",
        "            file.write(response.content)\n",
        "\n",
        "        print(f\"Image saved: {save_path}\")\n",
        "    except Exception as e:\n",
        "        print(f\"Error downloading {url}: {str(e)}\")\n",
        "\n",
        "# Specify the save directory\n",
        "save_directory = '/content/sadbhay'\n",
        "\n",
        "# Start crawling from page 1 to 169\n",
        "for page_number in range(1, 169):\n",
        "    page_url = f\"https://uncutmaza.xyz/page/{page_number}/\"\n",
        "    crawl_website(page_url, save_directory)\n"
      ],
      "metadata": {
        "colab": {
          "base_uri": "https://localhost:8080/"
        },
        "id": "5SDpr2T50O5C",
        "outputId": "30d17b57-bec6-4083-96d4-e53d8a7b66be"
      },
      "execution_count": null,
      "outputs": [
        {
          "output_type": "stream",
          "name": "stdout",
          "text": [
            "Image saved: /content/sadbhay/akeli-ep2.jpg\n",
            "Image saved: /content/sadbhay/Galtiyan-1.jpg\n",
            "Image saved: /content/sadbhay/akeli-ep1.jpg\n",
            "Image saved: /content/sadbhay/as2909.jpeg.jpg\n",
            "Image saved: /content/sadbhay/good-luck-ep4.jpg\n",
            "Image saved: /content/sadbhay/good-luck-ep3.jpg\n",
            "Image saved: /content/sadbhay/good-luck-ep2.jpg\n",
            "Image saved: /content/sadbhay/good-luck-ep1.jpg\n",
            "Image saved: /content/sadbhay/ADLA-BADLI-ep2.jpg\n",
            "Image saved: /content/sadbhay/ADLA-BADLI-ep1.jpg\n",
            "Image saved: /content/sadbhay/car-washing-ep1.jpg\n",
            "Image saved: /content/sadbhay/blackmail-ep4.jpg\n",
            "Image saved: /content/sadbhay/blackmail-ep3.jpg\n",
            "Image saved: /content/sadbhay/AFTER-SCHOOL.jpg\n",
            "Image saved: /content/sadbhay/love-bites-eortv-episode2.jpg\n",
            "Image saved: /content/sadbhay/play-boy-2-fliz.jpg\n",
            "Image saved: /content/sadbhay/Masti-x-ep1.jpg\n",
            "Image saved: /content/sadbhay/chill-pill-01.jpg\n",
            "Image saved: /content/sadbhay/nath-ep6.jpg\n",
            "Image saved: /content/sadbhay/nath-ep5.jpg\n",
            "Image saved: /content/sadbhay/nath-ep5.jpg\n",
            "Image saved: /content/sadbhay/Rajneeti-ep6-.jpg\n",
            "Image saved: /content/sadbhay/Rajneeti-ep5-.jpg\n",
            "Image saved: /content/sadbhay/siskiyaan4e4-1.jpg\n",
            "Image saved: /content/sadbhay/siskiyaan4e3-1.jpg\n",
            "Image saved: /content/sadbhay/siskiyaan4e2-1.jpg\n",
            "Image saved: /content/sadbhay/siskiyaan4e1-1.jpg\n",
            "Image saved: /content/sadbhay/MRDSE6.jpg\n",
            "Image saved: /content/sadbhay/MRDSE5.jpg\n",
            "Image saved: /content/sadbhay/pahredar-4-ep4.jpg\n",
            "Image saved: /content/sadbhay/pahredar-4-ep3.jpg\n",
            "Image saved: /content/sadbhay/pahredar-4-ep2.jpg\n",
            "Image saved: /content/sadbhay/pahredar-4-ep1.jpg\n",
            "Image saved: /content/sadbhay/65.jpg\n",
            "Image saved: /content/sadbhay/Wife-In-A-Metro.jpg\n",
            "Image saved: /content/sadbhay/mr-teacher-ep5.jpg\n",
            "Image saved: /content/sadbhay/ye-ashiqui-ep3.jpg\n",
            "Image saved: /content/sadbhay/ye-ashiqui-ep2.jpg\n",
            "Image saved: /content/sadbhay/ye-ashiqui-ep1.jpg\n",
            "Image saved: /content/sadbhay/Ladies-Tailor-ep2.jpg\n",
            "Image saved: /content/sadbhay/Ladies-Tailor-ep1.jpg\n",
            "Image saved: /content/sadbhay/Vaidya-ep3.jpg\n",
            "Image saved: /content/sadbhay/Vaidya-ep2.jpg\n",
            "Image saved: /content/sadbhay/Vaidya-ep1.jpg\n",
            "Image saved: /content/sadbhay/Sandwitch.jpg\n",
            "Image saved: /content/sadbhay/lingx-ep5.jpg\n",
            "Image saved: /content/sadbhay/Tohfa-ep4.jpg\n",
            "Image saved: /content/sadbhay/Tohfa-ep3.jpg\n",
            "Image saved: /content/sadbhay/Tohfa-ep2.jpg\n",
            "Image saved: /content/sadbhay/Tohfa-ep1.jpg\n",
            "Image saved: /content/sadbhay/mr-teacher-ep4.jpg\n",
            "Image saved: /content/sadbhay/Kamasuthram-ep2.jpg\n",
            "Image saved: /content/sadbhay/Mr-teacher-ep3.jpg\n",
            "Image saved: /content/sadbhay/Ghar-Sasur-ep8.jpg\n",
            "Image saved: /content/sadbhay/damad-ne-saas-ne-ghapaghap-choda.jpg\n",
            "Image saved: /content/sadbhay/motherchod-.jpg\n",
            "Image saved: /content/sadbhay/Dirty-Doctor.jpg\n",
            "Image saved: /content/sadbhay/Ghar-Sasur-ep7.jpg\n",
            "Image saved: /content/sadbhay/Ghar-Sasur-ep6.jpg\n",
            "Image saved: /content/sadbhay/Ghar-Sasur-ep5.jpg\n",
            "Image saved: /content/sadbhay/Secret-Deal.jpg\n",
            "Image saved: /content/sadbhay/Firangi-Thakurain-2-ep2.jpg\n",
            "Image saved: /content/sadbhay/Firangi-Thakurain-2-ep1.jpg\n",
            "Image saved: /content/sadbhay/mr-teacher-ep2.jpg\n",
            "Image saved: /content/sadbhay/mr-teacher-ep1.jpg\n",
            "Image saved: /content/sadbhay/innocent.jpg\n",
            "Image saved: /content/sadbhay/Gaon-Ki-Biwi-ep4.jpg\n",
            "Image saved: /content/sadbhay/Gaon-Ki-Biwi-ep3.jpg\n",
            "Image saved: /content/sadbhay/Gaon-Ki-Biwi-ep2.jpg\n",
            "Image saved: /content/sadbhay/Gaon-Ki-Biwi-ep1.jpg\n",
            "Image saved: /content/sadbhay/ling-xep4.jpg\n",
            "Image saved: /content/sadbhay/choco-massage.jpg\n",
            "Image saved: /content/sadbhay/chachi-420.jpg\n",
            "Image saved: /content/sadbhay/the-maid-ep1.jpg\n",
            "Image saved: /content/sadbhay/nath-ep4.jpg\n",
            "Image saved: /content/sadbhay/nath-ep3.jpg\n",
            "Image saved: /content/sadbhay/Pyar-Idhar-Udhar-ep6.jpg\n",
            "Image saved: /content/sadbhay/Pyar-Idhar-Udhar-ep5.jpg\n",
            "Image saved: /content/sadbhay/Khalish-ep9.jpg\n",
            "Image saved: /content/sadbhay/Khalish-ep8.jpg\n",
            "Image saved: /content/sadbhay/Khalish-ep7.jpg\n",
            "Image saved: /content/sadbhay/saniya-Salman-ep6.jpg\n",
            "Image saved: /content/sadbhay/saniya-Salman-ep5.jpg\n",
            "Image saved: /content/sadbhay/ghar-ka-call-boy-ep6.jpg\n",
            "Image saved: /content/sadbhay/ghar-ka-call-boy-ep5.jpg\n",
            "Image saved: /content/sadbhay/ghar-ka-call-boy-ep4.jpg\n",
            "Image saved: /content/sadbhay/Selinte-Tuition-Class-ep2.jpg\n",
            "Image saved: /content/sadbhay/Selinte-Tuition-Class-ep1.jpg\n",
            "Image saved: /content/sadbhay/chaddha.jpg\n",
            "Image saved: /content/sadbhay/Desire-2ep2.jpg\n",
            "Image saved: /content/sadbhay/Desire-2ep1.jpg\n",
            "Image saved: /content/sadbhay/Sahara-ep7.jpg\n",
            "Image saved: /content/sadbhay/Sahara-ep6.jpg\n",
            "Image saved: /content/sadbhay/Sahara-ep5.jpg\n",
            "Image saved: /content/sadbhay/fragrance.jpg\n",
            "Image saved: /content/sadbhay/Ling-X-E03.jpg\n",
            "Image saved: /content/sadbhay/Loan-Maaf.jpg\n",
            "Image saved: /content/sadbhay/Tere-Jaisa-Yaar-Kaha-ep7.jpg\n",
            "Image saved: /content/sadbhay/Tere-Jaisa-Yaar-Kaha-ep6.jpg\n",
            "Image saved: /content/sadbhay/Tere-Jaisa-Yaar-Kaha-ep5.jpg\n",
            "Image saved: /content/sadbhay/Manchaha-ep4.jpg\n",
            "Image saved: /content/sadbhay/sex-game.jpg\n",
            "Image saved: /content/sadbhay/Love-Bites-ep1.jpg\n",
            "Image saved: /content/sadbhay/3-Sum-Baby.jpg\n",
            "Image saved: /content/sadbhay/manchaha-ep3.jpg\n",
            "Image saved: /content/sadbhay/amar-boudi.jpg\n",
            "Image saved: /content/sadbhay/manchaha-ep2-.jpg\n",
            "Image saved: /content/sadbhay/kamasuthram-ep1.jpg\n",
            "Image saved: /content/sadbhay/Ghar-Sasur-ep4.jpg\n",
            "Image saved: /content/sadbhay/Ghar-Sasur-ep3.jpg\n",
            "Image saved: /content/sadbhay/Ghar-Sasur-ep2-.jpg\n",
            "Image saved: /content/sadbhay/Ghar-Sasur-ep1-.jpg\n",
            "Image saved: /content/sadbhay/sajani-ep3.jpg\n",
            "Image saved: /content/sadbhay/Gubare-Wali-ep2.jpg\n",
            "Image saved: /content/sadbhay/Gubare-Wali-ep1.jpg\n",
            "Image saved: /content/sadbhay/Adhuri-Pyaas-ep2.jpg\n",
            "Image saved: /content/sadbhay/Adhuri-Pyaas-ep1.jpg\n",
            "Image saved: /content/sadbhay/Do-Haseena-Part2-ep2.jpg\n",
            "Image saved: /content/sadbhay/Do-Haseena-Part2-ep1.jpg\n",
            "Image saved: /content/sadbhay/wine-dine-69.jpg\n",
            "Image saved: /content/sadbhay/manchaha-ep1.jpg\n",
            "Image saved: /content/sadbhay/The-Neighbour.jpg\n",
            "Image saved: /content/sadbhay/nath-ep2.jpg\n",
            "Image saved: /content/sadbhay/nath-ep1.jpg\n",
            "Image saved: /content/sadbhay/Blackmail-ep2.jpg\n",
            "Image saved: /content/sadbhay/Blackmail-ep1.jpg\n",
            "Image saved: /content/sadbhay/Ling-x-ep2.jpg\n",
            "Image saved: /content/sadbhay/Salman-Ep4.jpg\n",
            "Image saved: /content/sadbhay/Salman-Ep3.jpg\n",
            "Image saved: /content/sadbhay/taak-jhaak-ep4.jpg\n",
            "Image saved: /content/sadbhay/taak-jhaak-ep3.jpg\n",
            "Image saved: /content/sadbhay/Khalish-ep6.jpg\n",
            "Image saved: /content/sadbhay/Khalish-ep5.jpg\n",
            "Image saved: /content/sadbhay/Khalish-ep4.jpg\n",
            "Image saved: /content/sadbhay/mardana-sasur-2-ep4.jpg\n",
            "Image saved: /content/sadbhay/mardana-sasur-2-ep3.jpg\n",
            "Image saved: /content/sadbhay/Ghar-Ka-Call-Boy-3.jpg\n",
            "Image saved: /content/sadbhay/Ghar-Ka-Call-Boy-2.jpg\n",
            "Image saved: /content/sadbhay/Ghar-Ka-Call-Boy-1.jpg\n",
            "Image saved: /content/sadbhay/Ghutan-4.jpg\n",
            "Image saved: /content/sadbhay/Ghutan-3.jpg\n",
            "Image saved: /content/sadbhay/shatir-maid-1.jpg\n",
            "Image saved: /content/sadbhay/Ghutan-2-.webp\n",
            "Image saved: /content/sadbhay/Ghutan-1-.webp\n",
            "Image saved: /content/sadbhay/harami-ep4.jpg\n",
            "Image saved: /content/sadbhay/desires-ep2.jpg\n",
            "Image saved: /content/sadbhay/desires-ep1.jpg\n",
            "Image saved: /content/sadbhay/Lucky-Gigolo.jpg\n",
            "Image saved: /content/sadbhay/sahara-ep4.webp\n",
            "Image saved: /content/sadbhay/sahara-ep3.webp\n",
            "Image saved: /content/sadbhay/sahara-ep2.webp\n",
            "Image saved: /content/sadbhay/sahara-ep1.webp\n",
            "Image saved: /content/sadbhay/LingX-1.webp\n",
            "Image saved: /content/sadbhay/sambhog-yatra.jpg\n",
            "Image saved: /content/sadbhay/rasmalai.jpg\n",
            "Image saved: /content/sadbhay/Tere-Jaisa-Yaar-Kaha-ep4.webp\n",
            "Image saved: /content/sadbhay/Tere-Jaisa-Yaar-Kaha-ep3.webp\n",
            "Image saved: /content/sadbhay/Tere-Jaisa-Yaar-Kaha-ep2.webp\n",
            "Image saved: /content/sadbhay/Tere-Jaisa-Yaar-Kaha-ep1.webp\n",
            "Image saved: /content/sadbhay/begam-ka-kotha-ep4-.jpg\n",
            "Image saved: /content/sadbhay/begam-ka-kotha-Ep3-.jpg\n",
            "Image saved: /content/sadbhay/begam-ka-kotha-Ep2-.jpg\n",
            "Image saved: /content/sadbhay/chor.jpg\n",
            "Image saved: /content/sadbhay/dost-se-pyar.jpg\n",
            "Image saved: /content/sadbhay/Adhi-Gharwali-.jpg\n",
            "Image saved: /content/sadbhay/SuhaniRaat.jpg\n",
            "Image saved: /content/sadbhay/nighty-student.jpg\n",
            "Image saved: /content/sadbhay/damad-ji-ep7.jpg\n",
            "Image saved: /content/sadbhay/damad-ji-ep6.jpg\n",
            "Image saved: /content/sadbhay/damad-jiep6.jpg\n",
            "Image saved: /content/sadbhay/damad-ji-ep4.jpg\n",
            "Image saved: /content/sadbhay/Kodaikanal-ep2.jpg\n",
            "Image saved: /content/sadbhay/GHPKNH.jpg\n",
            "Image saved: /content/sadbhay/ROZI-BHABHI-2.jpg\n",
            "Image saved: /content/sadbhay/Mere-Sapno-Ki-Rani-ep3.jpg\n",
            "Image saved: /content/sadbhay/Mere-Sapno-Ki-Rani-ep2.jpg\n",
            "Image saved: /content/sadbhay/naughty-Ishq-ep2.jpg\n",
            "Image saved: /content/sadbhay/naughty-Ishq-ep1.jpg\n",
            "Image saved: /content/sadbhay/room-service-ep2.jpg\n",
            "Image saved: /content/sadbhay/room-service-ep1.jpg\n",
            "Image saved: /content/sadbhay/Firangi-Thakurain-ep2.jpg\n",
            "Image saved: /content/sadbhay/Firangi-Thakurain-ep1.jpg\n",
            "Image saved: /content/sadbhay/Tuition-kand-ep1-1.jpg\n",
            "Image saved: /content/sadbhay/taak-jhaak-ep2.jpg\n",
            "Image saved: /content/sadbhay/taak-jhaak-ep1.jpg\n",
            "Image saved: /content/sadbhay/Sarkunam-E02.jpg\n",
            "Image saved: /content/sadbhay/sudha-bhabhi.jpg\n",
            "Image saved: /content/sadbhay/Do-Haseena-2.jpg\n",
            "Image saved: /content/sadbhay/Do-Haseena-1.jpg\n",
            "Image saved: /content/sadbhay/harami-ep3.jpg\n",
            "Image saved: /content/sadbhay/saniya-Salman-2ep2.jpg\n",
            "Image saved: /content/sadbhay/saniya-Salman-2ep1.jpg\n",
            "Image saved: /content/sadbhay/Khalish-ep3.jpg\n",
            "Image saved: /content/sadbhay/Khalish-ep2.jpg\n",
            "Image saved: /content/sadbhay/Khalish-ep1.jpg\n",
            "Image saved: /content/sadbhay/maalamaal-ep8.jpg\n",
            "Image saved: /content/sadbhay/maalamaal-ep7.jpg\n",
            "Image saved: /content/sadbhay/maalamaal-ep6.jpg\n",
            "Image saved: /content/sadbhay/maalamaal-ep5.jpg\n",
            "Image saved: /content/sadbhay/Mere-Sapno-Ki-Rani-ep1.jpg\n",
            "Image saved: /content/sadbhay/pyar-idhar-udhar-ep4.jpg\n",
            "Image saved: /content/sadbhay/pyar-idhar-udhar-ep3.jpg\n",
            "Image saved: /content/sadbhay/desi2.jpg\n",
            "Image saved: /content/sadbhay/devar-bhabhi.jpg\n",
            "Image saved: /content/sadbhay/harami-ep2.jpg\n",
            "Image saved: /content/sadbhay/sasur-ji-4.jpg\n",
            "Image saved: /content/sadbhay/call-me.jpg\n",
            "Image saved: /content/sadbhay/chaska-ep7.jpg\n",
            "Image saved: /content/sadbhay/chaska-ep6.jpg\n",
            "Image saved: /content/sadbhay/chaska-ep5.jpg\n",
            "Image saved: /content/sadbhay/Dalal-X-ep3.jpg\n",
            "Image saved: /content/sadbhay/Harami-ep1.jpg\n",
            "Image saved: /content/sadbhay/Chadar-Ep2.jpg\n",
            "Image saved: /content/sadbhay/Chadar-Ep1.jpg\n",
            "Image saved: /content/sadbhay/dream-girl-ep6.jpg\n",
            "Image saved: /content/sadbhay/dream-girl-ep5.jpg\n",
            "Image saved: /content/sadbhay/dream-girl-ep4.jpg\n",
            "Image saved: /content/sadbhay/promoter-housewife.jpg\n",
            "Image saved: /content/sadbhay/Sajani-ep2.jpg\n",
            "Image saved: /content/sadbhay/Doctor-Babu.jpg\n",
            "Image saved: /content/sadbhay/PROMOTION.jpg\n",
            "Image saved: /content/sadbhay/begam-ka-kota-ep1.jpg\n",
            "Image saved: /content/sadbhay/adla-badli-ep6.jpg\n",
            "Image saved: /content/sadbhay/adla-badli-ep5.jpg\n",
            "Image saved: /content/sadbhay/adla-badli-ep4.jpg\n",
            "Image saved: /content/sadbhay/Kodaikanal-ep1.jpg\n",
            "Image saved: /content/sadbhay/do-devar.jpg\n",
            "Image saved: /content/sadbhay/nai-naveli.jpg\n",
            "Image saved: /content/sadbhay/desi-tadka.jpg\n",
            "Image saved: /content/sadbhay/Perfect-Stranger.jpg\n",
            "Image saved: /content/sadbhay/halala-ep1.jpg\n",
            "Image saved: /content/sadbhay/Sali-Ke-Kaand-ep1.jpg\n",
            "Image saved: /content/sadbhay/Leather-Currency-ep3.jpg\n",
            "Image saved: /content/sadbhay/brithday-ep2.jpg\n",
            "Image saved: /content/sadbhay/amrapali-ep6.jpg\n",
            "Image saved: /content/sadbhay/amrapali-ep5.jpg\n",
            "Image saved: /content/sadbhay/Gaon-Ki-Garmi-3ep8.jpg\n",
            "Image saved: /content/sadbhay/Gaon-Ki-Garmi-3ep7.jpg\n",
            "Image saved: /content/sadbhay/Gaon-Ki-Garmi-3-ep6.jpg\n",
            "Image saved: /content/sadbhay/Gaon-Ki-Garmi-3ep5.jpg\n",
            "Image saved: /content/sadbhay/Mardana-Sasur-2-ep2.jpg\n",
            "Image saved: /content/sadbhay/Mardana-Sasur-2-ep1.jpg\n",
            "Image saved: /content/sadbhay/Maala-Maal-ep4.jpg\n",
            "Image saved: /content/sadbhay/Maala-Maal-ep3.jpg\n",
            "Image saved: /content/sadbhay/Maala-Maal-ep2.jpg\n",
            "Image saved: /content/sadbhay/Maala-Maal-ep1.jpg\n",
            "Image saved: /content/sadbhay/bare-dudh-wali-bibi.jpg\n",
            "Image saved: /content/sadbhay/Sajani-1.jpg\n",
            "Image saved: /content/sadbhay/wife-ke.jpg\n",
            "Image saved: /content/sadbhay/yoga-teacher.jpg\n",
            "Image saved: /content/sadbhay/EK-CHAHAT-.jpg\n",
            "Image saved: /content/sadbhay/bhabhi-ka-jalwa-ep2.jpg\n",
            "Image saved: /content/sadbhay/naukri-ep4.jpg\n",
            "Image saved: /content/sadbhay/naukri-ep3.jpg\n",
            "Image saved: /content/sadbhay/Dalal-X-ep2.jpg\n",
            "Image saved: /content/sadbhay/Chaska-ep4.jpg\n",
            "Image saved: /content/sadbhay/Chaska-ep2.jpg\n",
            "Image saved: /content/sadbhay/Chaska-ep3.jpg\n",
            "Image saved: /content/sadbhay/Chaska-ep1.jpg\n",
            "Image saved: /content/sadbhay/lesbian.jpg\n",
            "Image saved: /content/sadbhay/noukri-ep2.jpg\n",
            "Image saved: /content/sadbhay/dream-girl-ep3.jpg\n",
            "Image saved: /content/sadbhay/dream-girl-ep2.jpg\n",
            "Image saved: /content/sadbhay/dream-girl-ep1.jpg\n",
            "Image saved: /content/sadbhay/naukri-ep1.jpg\n",
            "Image saved: /content/sadbhay/charam-uncut.jpg\n",
            "Image saved: /content/sadbhay/Mauj-Masti-ep3.jpg\n",
            "Image saved: /content/sadbhay/jism-ki-bhookh-2.jpg\n",
            "Image saved: /content/sadbhay/mousi-ab-fasi.jpg\n",
            "Image saved: /content/sadbhay/rajni-bhabhi.jpg\n",
            "Image saved: /content/sadbhay/Dahleez-Hotty-Notty.jpg\n",
            "Image saved: /content/sadbhay/Dilrooba-3.jpg\n",
            "Image saved: /content/sadbhay/Dilrooba-2.jpg\n",
            "Image saved: /content/sadbhay/Dilrooba-1.jpg\n",
            "Image saved: /content/sadbhay/bhabhi-ka-jalwa-ep1.jpg\n",
            "Image saved: /content/sadbhay/Dirty-Entertainer-ep3.jpg\n",
            "Image saved: /content/sadbhay/Dirty-Entertainer-ep2.jpg\n",
            "Image saved: /content/sadbhay/Dirty-Entertainer-ep1.jpg\n",
            "Image saved: /content/sadbhay/Damad-Ji-3.jpg\n",
            "Image saved: /content/sadbhay/Damad-Ji-2.jpg\n",
            "Image saved: /content/sadbhay/Damad-Ji-1.jpg\n",
            "Image saved: /content/sadbhay/ADLA-BADLI-ep3.jpg\n",
            "Image saved: /content/sadbhay/ADLA-BADLI-ep2.jpg\n",
            "Image saved: /content/sadbhay/ADLA-BADLI-ep1.jpg\n",
            "Image saved: /content/sadbhay/Pulinchikka-ep3.jpg\n",
            "Image saved: /content/sadbhay/aunty-ji.jpg\n",
            "Image saved: /content/sadbhay/aap-beeti-ep2.jpg\n",
            "Image saved: /content/sadbhay/ratri-kavach-ep2.jpg\n",
            "Image saved: /content/sadbhay/ratri-kavach-ep1.jpg\n",
            "Image saved: /content/sadbhay/Haramkhor-ep1.jpg\n",
            "Image saved: /content/sadbhay/Hardcore-Fuck-with-Step-Sister.jpg\n",
            "Image saved: /content/sadbhay/play-boy.jpg\n",
            "Image saved: /content/sadbhay/LEATHER-CURRENCY-ep2.jpg\n",
            "Image saved: /content/sadbhay/Jara-Dhire-Dhire-ep4.jpg\n",
            "Image saved: /content/sadbhay/Jara-Dhire-Dhire-ep3.jpg\n",
            "Image saved: /content/sadbhay/Mixture.jpg\n",
            "Image saved: /content/sadbhay/Amrapali4.jpg\n",
            "Image saved: /content/sadbhay/Amrapali3.jpg\n",
            "Image saved: /content/sadbhay/Gaon-Ki-Garmi-3-ep4.jpg\n",
            "Image saved: /content/sadbhay/Gaon-Ki-Garmi-3-ep3.jpg\n",
            "Image saved: /content/sadbhay/Gaon-Ki-Garmi-3-ep2.jpg\n",
            "Image saved: /content/sadbhay/Gaon-Ki-Garmi-3-ep1.jpg\n",
            "Image saved: /content/sadbhay/tueshan-teacher-ep4.jpg\n",
            "Image saved: /content/sadbhay/teushan-techar-ep3.jpg\n",
            "Image saved: /content/sadbhay/Pyar-Idhar-Udhar-ep2.jpg\n",
            "Image saved: /content/sadbhay/Pyar-Idhar-Udhar-ep1.jpg\n",
            "Image saved: /content/sadbhay/Desi-massage-parlour.jpg\n",
            "Image saved: /content/sadbhay/Tuition-Teacher-ep2.jpg\n",
            "Image saved: /content/sadbhay/Tuition-Teacher-ep1.jpg\n",
            "Image saved: /content/sadbhay/ek-ajnabee-ep2.jpg\n",
            "Image saved: /content/sadbhay/mala-bhabhi-3.jpg\n",
            "Image saved: /content/sadbhay/Sarkunam-ep1.jpg\n",
            "Image saved: /content/sadbhay/Mauj-Masti-ep2.jpg\n",
            "Image saved: /content/sadbhay/Mauj-Masti-ep1.jpg\n",
            "Image saved: /content/sadbhay/desi-1bts.jpg\n",
            "Image saved: /content/sadbhay/Bijili-1.jpg\n",
            "Image saved: /content/sadbhay/hotty-padosan.jpg\n",
            "Image saved: /content/sadbhay/Sexy-Maa-Sucharita.jpg\n",
            "Image saved: /content/sadbhay/Dalal-X-1.jpg\n",
            "Image saved: /content/sadbhay/Devika6.jpg\n",
            "Image saved: /content/sadbhay/Devika5.jpg\n",
            "Image saved: /content/sadbhay/Devika4.jpg\n",
            "Image saved: /content/sadbhay/janc-padtaal-ep6.jpg\n",
            "Image saved: /content/sadbhay/janh-padtaal-ep5.jpg\n",
            "Image saved: /content/sadbhay/jach-padtaal-ep4.jpg\n",
            "Image saved: /content/sadbhay/Thirichadi-ep1.jpg\n",
            "Image saved: /content/sadbhay/SheelaAunty2.jpg\n",
            "Image saved: /content/sadbhay/ek-sath-teen-teen-ep2.jpg\n",
            "Image saved: /content/sadbhay/ek-sath-teen-teen-ep1.jpg\n",
            "Image saved: /content/sadbhay/shatranj-2.jpg\n",
            "Image saved: /content/sadbhay/chapa-ep3.jpg\n",
            "Image saved: /content/sadbhay/manchale-dost-ep2-.jpg\n",
            "Image saved: /content/sadbhay/manchale-dost-ep1-.jpg\n",
            "Image saved: /content/sadbhay/chapa-ep2-.jpg\n",
            "Image saved: /content/sadbhay/Pulinchikka-ep2.jpg\n",
            "Image saved: /content/sadbhay/rozi-bhabhi.jpg\n",
            "Image saved: /content/sadbhay/Maya-ki-Pathshala-ep2-1.jpg\n",
            "Image saved: /content/sadbhay/Maya-ki-Pathshala-ep2-2.jpg\n",
            "Image saved: /content/sadbhay/Ratri-Kawach-ep4.jpg\n",
            "Image saved: /content/sadbhay/Ratri-Kawach-ep3.jpg\n",
            "Image saved: /content/sadbhay/kuwari-dulhan-ep2.jpg\n",
            "Image saved: /content/sadbhay/kuwari-dulhan-ep1.jpg\n",
            "Image saved: /content/sadbhay/do-ka-ek-bts.jpg\n",
            "Image saved: /content/sadbhay/The-Interview.jpg\n",
            "Image saved: /content/sadbhay/Langot-4.jpg\n",
            "Image saved: /content/sadbhay/Langot-3.jpg\n",
            "Image saved: /content/sadbhay/Langot-2.jpg\n",
            "Image saved: /content/sadbhay/Langot-1.jpg\n",
            "Image saved: /content/sadbhay/pyaas-ep2.jpg\n",
            "Image saved: /content/sadbhay/dhandewali-ep1.jpg\n",
            "Image saved: /content/sadbhay/hawash-ep4.jpg\n",
            "Image saved: /content/sadbhay/mukhiya-X-ep4.jpg\n",
            "Image saved: /content/sadbhay/AapBiti-ep1.jpg\n",
            "Image saved: /content/sadbhay/chappa-ep1-1.jpg\n",
            "Image saved: /content/sadbhay/jara-dhire-dhire-ep2.jpg\n",
            "Image saved: /content/sadbhay/jara-dhire-dhire-ep1.jpg\n",
            "Image saved: /content/sadbhay/amrapali-ep2-400x225-1.jpg\n",
            "Image saved: /content/sadbhay/amrapali-ep1-400x225-1.jpg\n",
            "Image saved: /content/sadbhay/Devrani-Jethani-Aur-Woh-ep4.jpg\n",
            "Image saved: /content/sadbhay/Devrani-Jethani-Aur-Woh-ep3.jpg\n",
            "Image saved: /content/sadbhay/dosti-ep5.jpg\n",
            "Image saved: /content/sadbhay/dosti-ep4-.jpg\n",
            "Image saved: /content/sadbhay/Seeti-Maar-Sajanwa-ep6.jpg\n",
            "Image saved: /content/sadbhay/Seeti-Maar-Sajanwa-ep5.jpg\n",
            "Image saved: /content/sadbhay/jism-ki-bhookh.jpg\n",
            "Image saved: /content/sadbhay/wo-ek-raat-2.jpg\n",
            "Image saved: /content/sadbhay/desi-1.jpg\n",
            "Image saved: /content/sadbhay/maali.jpg\n",
            "Image saved: /content/sadbhay/Fir-Koi-Aur.jpg\n",
            "Image saved: /content/sadbhay/show-girls-hotx-400x225-1.jpg\n",
            "Image saved: /content/sadbhay/budhe-ki-jawani.jpg\n",
            "Image saved: /content/sadbhay/Neem-Hakim-ep1.jpg\n",
            "Image saved: /content/sadbhay/complimentary-ep3.jpg\n",
            "Image saved: /content/sadbhay/complimentary-ep2.jpg\n",
            "Image saved: /content/sadbhay/complimentary-ep1.jpg\n",
            "Image saved: /content/sadbhay/ooyo-Kand-ep4.jpg\n",
            "Image saved: /content/sadbhay/devika-ep3-.jpg\n",
            "Image saved: /content/sadbhay/devika-ep2-.jpg\n",
            "Image saved: /content/sadbhay/devika-ep1.jpg\n",
            "Image saved: /content/sadbhay/Truth-and-Dare-Thullu.jpg\n",
            "Image saved: /content/sadbhay/Tharki-Baba.jpg\n",
            "Image saved: /content/sadbhay/House-Owner-Lucky-Enough-to-Fuck-1.jpg\n",
            "Image saved: /content/sadbhay/jach-padtal-ep3.jpg\n",
            "Image saved: /content/sadbhay/jach-padtal-ep2.jpg\n",
            "Image saved: /content/sadbhay/jach-padtal-ep1.jpg\n",
            "Image saved: /content/sadbhay/nokar-ep2-.jpg\n",
            "Image saved: /content/sadbhay/nokar-ep1.jpg\n",
            "Image saved: /content/sadbhay/woh-ek-rat.jpg\n",
            "Image saved: /content/sadbhay/do-ka-ek.jpg\n",
            "Image saved: /content/sadbhay/the-maid-2.jpg\n",
            "Image saved: /content/sadbhay/teacher-no-1-1.jpg\n",
            "Image saved: /content/sadbhay/rangila-nasha.jpg\n",
            "Image saved: /content/sadbhay/Pulinchikka-ep1.jpg\n",
            "Image saved: /content/sadbhay/Ek-Ajnabee-ep1.jpg\n",
            "Image saved: /content/sadbhay/pyaas-ep1.jpg\n",
            "Image saved: /content/sadbhay/Ratri-Kawach-Ep2.jpg\n",
            "Image saved: /content/sadbhay/Ratri-Kawach-Ep1.jpg\n",
            "Image saved: /content/sadbhay/kaam-tamam-ep3.jpg\n",
            "Image saved: /content/sadbhay/Small-Size-ep1.jpg\n",
            "Image saved: /content/sadbhay/hawas-ep2.jpg\n",
            "Image saved: /content/sadbhay/Purani-haweli-ep3.jpg\n",
            "Image saved: /content/sadbhay/lilly-and-silly.jpg\n",
            "Image saved: /content/sadbhay/junior-ep1.jpg\n",
            "Image saved: /content/sadbhay/KAAM-TAMAAM-EP2.jpg\n",
            "Image saved: /content/sadbhay/pathshala-3ep8.jpg\n",
            "Image saved: /content/sadbhay/pathshala-3ep7.jpg\n",
            "Image saved: /content/sadbhay/siti-maar-ep3.jpg\n",
            "Image saved: /content/sadbhay/Sucharita-Malkin.jpg\n",
            "Image saved: /content/sadbhay/husband-enjoying-.jpg\n",
            "Image saved: /content/sadbhay/Teacher-No-1.jpg\n",
            "Image saved: /content/sadbhay/dosti-ep3.jpg\n",
            "Image saved: /content/sadbhay/dosti-ep2.jpg\n",
            "Image saved: /content/sadbhay/dosti-ep1.jpg\n",
            "Image saved: /content/sadbhay/Kaam-Tamam-Ep1.jpg\n",
            "Image saved: /content/sadbhay/Maayan4.jpg\n",
            "Image saved: /content/sadbhay/Maayan-3.jpg\n",
            "Image saved: /content/sadbhay/MALLIKA-BEAUTY-SECRET.jpg\n",
            "Image saved: /content/sadbhay/sauteli-ep5.jpg\n",
            "Image saved: /content/sadbhay/Sauteli-ep4.jpg\n",
            "Image saved: /content/sadbhay/paidcall.jpg\n",
            "Image saved: /content/sadbhay/Mudhal-Sambavamep2.jpg\n",
            "Image saved: /content/sadbhay/Mudhal-Sambavam-ep1.jpg\n",
            "Image saved: /content/sadbhay/Raspan.jpg\n",
            "Image saved: /content/sadbhay/behrupiya.jpg\n",
            "Image saved: /content/sadbhay/Virgin-Suhagraat.jpg\n",
            "Image saved: /content/sadbhay/Suchitra.jpg\n",
            "Image saved: /content/sadbhay/ooyo-kand-ep3.jpg\n",
            "Image saved: /content/sadbhay/ooyo-kand-ep2.jpg\n",
            "Image saved: /content/sadbhay/Pink-bra.jpg\n",
            "Image saved: /content/sadbhay/Rikshawala-ep8.jpg\n",
            "Image saved: /content/sadbhay/Rikshawala-ep7.jpg\n",
            "Image saved: /content/sadbhay/Bhaiya-Half-Saiyaan.jpg\n",
            "Image saved: /content/sadbhay/online-ishq-4.jpg\n",
            "Image saved: /content/sadbhay/online-ishq-3.jpg\n",
            "Image saved: /content/sadbhay/leather-currency-ep1.jpg\n",
            "Image saved: /content/sadbhay/beutiful-wife-.jpg\n",
            "Image saved: /content/sadbhay/page-3.jpg\n",
            "Image saved: /content/sadbhay/piyashi-devrani.jpg\n",
            "Image saved: /content/sadbhay/pool.jpg\n",
            "Image saved: /content/sadbhay/fevicool-ep3.jpg\n",
            "Image saved: /content/sadbhay/fevicool-ep2.jpg\n",
            "Image saved: /content/sadbhay/Vishu-Kaineettam-Ep2.jpg\n",
            "Image saved: /content/sadbhay/papa-mange-more.jpg\n",
            "Image saved: /content/sadbhay/pathshaala-ep6.jpg\n",
            "Image saved: /content/sadbhay/pathshaala-ep5.jpg\n",
            "Image saved: /content/sadbhay/kamini-ep3.jpg\n",
            "Image saved: /content/sadbhay/kamini-ep2.jpg\n",
            "Image saved: /content/sadbhay/kamini-ep1.jpg\n",
            "Image saved: /content/sadbhay/samay-yatra-ep5.jpg\n",
            "Image saved: /content/sadbhay/samay-yatra-ep4.jpg\n",
            "Image saved: /content/sadbhay/hawash-ep1.jpg\n",
            "Image saved: /content/sadbhay/Seeti-Maar-Sajanwa-2.jpg\n",
            "Image saved: /content/sadbhay/Seeti-Maar-Sajanwa-1.jpg\n",
            "Image saved: /content/sadbhay/rain-basera-ep8.jpg\n",
            "Image saved: /content/sadbhay/Rain-Basera-ep7.jpg\n",
            "Image saved: /content/sadbhay/favicol-ep1.jpg\n",
            "Image saved: /content/sadbhay/sauteli-ep3.jpg\n",
            "Image saved: /content/sadbhay/sauteli-ep2.jpg\n",
            "Image saved: /content/sadbhay/sauteli-ep1.jpg\n",
            "Image saved: /content/sadbhay/Adla-Badli-ep4.jpg\n",
            "Image saved: /content/sadbhay/pink-love.jpg\n",
            "Image saved: /content/sadbhay/nokar-ban-gaya-guntelmen.jpg\n",
            "Image saved: /content/sadbhay/rikshawala-ep6.jpg\n",
            "Image saved: /content/sadbhay/rikshawala-ep5.jpg\n",
            "Image saved: /content/sadbhay/rikshawala-ep4.jpg\n",
            "Image saved: /content/sadbhay/remote-control-ep2.jpg\n",
            "Image saved: /content/sadbhay/Desi-Sabjiwali-part-2.jpg\n",
            "Image saved: /content/sadbhay/Rasiya-ep2.jpg\n",
            "Image saved: /content/sadbhay/Rasiya-ep1.jpg\n",
            "Image saved: /content/sadbhay/vishukkani-ep1.jpg\n",
            "Image saved: /content/sadbhay/Bepanah-ep2.jpg\n",
            "Image saved: /content/sadbhay/Rangeen-Baatein-2-ep2-1.jpg\n",
            "Image saved: /content/sadbhay/birthday-s01e01.jpg\n",
            "Image saved: /content/sadbhay/Desi-Sabjiwali.jpg\n",
            "Image saved: /content/sadbhay/Online-Romance-Ep2.jpg\n",
            "Image saved: /content/sadbhay/Online-Romance-Ep1.jpg\n",
            "Image saved: /content/sadbhay/Khatshala-3-ep2.jpg\n",
            "Image saved: /content/sadbhay/Khatshala-3-ep1.jpg\n",
            "Image saved: /content/sadbhay/sasur-Harami-ep3.jpg\n",
            "Image saved: /content/sadbhay/Pathshala-3-Ep4.jpg\n",
            "Image saved: /content/sadbhay/Pathshala-3-Ep3.jpg\n",
            "Image saved: /content/sadbhay/rain-basera-ep6.jpg\n",
            "Image saved: /content/sadbhay/rain-basera-ep5.jpg\n",
            "Image saved: /content/sadbhay/rain-basera-ep4.jpg\n",
            "Image saved: /content/sadbhay/samay-yaatra-ep3.jpg\n",
            "Image saved: /content/sadbhay/samay-yaatra-ep2.jpg\n",
            "Image saved: /content/sadbhay/samay-yaatra-ep1.jpg\n",
            "Image saved: /content/sadbhay/Baigan-Bhabhi.jpg\n",
            "Image saved: /content/sadbhay/barkhabhabi2.jpg\n",
            "Image saved: /content/sadbhay/barkhabhabi_1.jpg\n",
            "Image saved: /content/sadbhay/chupan-chupai-ep4-1.jpg\n",
            "Image saved: /content/sadbhay/4-SUM-02-1.jpg\n",
            "Image saved: /content/sadbhay/4-SUM-02-2.jpg\n",
            "Image saved: /content/sadbhay/ranjish-ep6-1.jpg\n",
            "Image saved: /content/sadbhay/ranjish-ep5.jpg\n",
            "Image saved: /content/sadbhay/ranjish-ep4.jpg\n",
            "Image saved: /content/sadbhay/bast-friend.jpg\n",
            "Image saved: /content/sadbhay/mayan-ep2.jpg\n",
            "Image saved: /content/sadbhay/ooyo-kand-ep1.jpg\n",
            "Image saved: /content/sadbhay/karma.jpg\n",
            "Image saved: /content/sadbhay/aapbiti-ep1.jpg\n",
            "Image saved: /content/sadbhay/badan-ep8.jpg\n",
            "Image saved: /content/sadbhay/badan-ep7.jpg\n",
            "Image saved: /content/sadbhay/badan-ep6.jpg\n",
            "Image saved: /content/sadbhay/badan-ep5.jpg\n",
            "Image saved: /content/sadbhay/plan-ep3.jpg\n",
            "Image saved: /content/sadbhay/plan-ep2.jpg\n",
            "Image saved: /content/sadbhay/Plan-ep1.jpg\n",
            "Image saved: /content/sadbhay/Chull-Loveria-ep2.jpg\n",
            "Image saved: /content/sadbhay/Hardcore-Fuck-with-Virgin-Boy.jpg\n",
            "Image saved: /content/sadbhay/Prostitute.jpg\n",
            "Image saved: /content/sadbhay/chaska-ep3.jpg\n",
            "Image saved: /content/sadbhay/Charo-K-Charo.jpg\n",
            "Image saved: /content/sadbhay/Lick-My-Pussy.jpg\n",
            "Image saved: /content/sadbhay/Adla-Badli-ep2.jpg\n",
            "Image saved: /content/sadbhay/Desi-milk.jpg\n",
            "Image saved: /content/sadbhay/chaska-ep2.jpg\n",
            "Image saved: /content/sadbhay/yoga-me-hoga.jpg\n",
            "Image saved: /content/sadbhay/make-Me-up-btc.jpg\n",
            "Image saved: /content/sadbhay/mala-bhabhi-bts.jpg\n",
            "Image saved: /content/sadbhay/Nayee-Padosan.jpg\n",
            "Image saved: /content/sadbhay/Dhundh-ep1.jpg\n",
            "Image saved: /content/sadbhay/Chaska-ep1.jpg\n",
            "Image saved: /content/sadbhay/bewafa-ep1.jpg\n",
            "Image saved: /content/sadbhay/Remote-Control-ep1.jpg\n",
            "Image saved: /content/sadbhay/Khat-Shala-S01E04.jpg\n",
            "Image saved: /content/sadbhay/Khat-Shala-S01E03.jpg\n",
            "Image saved: /content/sadbhay/Paathshaala-Ep2.jpg\n",
            "Image saved: /content/sadbhay/Paathshaala-Ep1.jpg\n",
            "Image saved: /content/sadbhay/rain-basera-ep3.jpg\n",
            "Image saved: /content/sadbhay/rain-basera-ep2.jpg\n",
            "Image saved: /content/sadbhay/rain-basera-ep1.jpg\n",
            "Image saved: /content/sadbhay/nadaan-ep7.jpg\n",
            "Image saved: /content/sadbhay/nadaan-ep6.jpg\n",
            "Image saved: /content/sadbhay/nadaan-ep5.jpg\n",
            "Image saved: /content/sadbhay/nadaan-ep4.jpg\n",
            "Image saved: /content/sadbhay/fuljhadi-bhabhi-ep4.jpg\n",
            "Image saved: /content/sadbhay/fuljhadi-bhabhi-ep3.jpg\n",
            "Image saved: /content/sadbhay/pregnant-bhabhi.jpg\n",
            "Image saved: /content/sadbhay/chupan-chupai-ep1.jpg\n",
            "Image saved: /content/sadbhay/the-hot-girl.jpg\n",
            "Image saved: /content/sadbhay/ranjish-ep3.jpg\n",
            "Image saved: /content/sadbhay/ranjish-ep2.jpg\n",
            "Image saved: /content/sadbhay/ranjish-ep1.jpg\n",
            "Image saved: /content/sadbhay/khujli-4.jpg\n",
            "Image saved: /content/sadbhay/dirty-Chachi.jpg\n",
            "Image saved: /content/sadbhay/purani-haveli-ep2.jpg\n",
            "Image saved: /content/sadbhay/maayan-ep1.jpg\n",
            "Image saved: /content/sadbhay/badan-3-ep11.jpg\n",
            "Image saved: /content/sadbhay/badan-3-ep10.jpg\n",
            "Image saved: /content/sadbhay/badan-3-ep9.jpg\n",
            "Image saved: /content/sadbhay/Jane-Anjane-Mein-6-ep5.jpg\n",
            "Image saved: /content/sadbhay/Jane-Anjane-Mein-6-ep4.jpg\n",
            "Image saved: /content/sadbhay/Jane-Anjane-Mein-6-ep3.jpg\n",
            "Image saved: /content/sadbhay/Jane-Anjane-Mein-6-ep2.jpg\n",
            "Image saved: /content/sadbhay/Jane-Anjane-Mein-6-ep1.jpg\n",
            "Image saved: /content/sadbhay/Devrani-Jethani-Aur-Woh-ep2.jpg\n",
            "Image saved: /content/sadbhay/Devrani-Jethani-Aur-Woh-ep1.jpg\n",
            "Image saved: /content/sadbhay/Kitty-Party-ep4.jpg\n",
            "Image saved: /content/sadbhay/Kitty-Party-ep3.jpg\n",
            "Image saved: /content/sadbhay/Kitty-Party-ep2.jpg\n",
            "Image saved: /content/sadbhay/Kitty-Party-ep1.jpg\n",
            "Image saved: /content/sadbhay/aamras-ep8.jpg\n",
            "Image saved: /content/sadbhay/aamras-ep7.jpg\n",
            "Image saved: /content/sadbhay/aamras-ep6.jpg\n",
            "Image saved: /content/sadbhay/aamras-ep5.jpg\n",
            "Image saved: /content/sadbhay/aamras-ep4.jpg\n",
            "Image saved: /content/sadbhay/aamras-ep3.jpg\n",
            "Image saved: /content/sadbhay/aamras-ep2.jpg\n",
            "Image saved: /content/sadbhay/aamras-ep1.jpg\n",
            "Image saved: /content/sadbhay/BIWI-KE-SIYAAPE-2.jpg\n",
            "Image saved: /content/sadbhay/Lust-Khwab-Ep1.jpg\n",
            "Image saved: /content/sadbhay/kinaya-ep1.jpg\n",
            "Image saved: /content/sadbhay/Half-Massage-Xprime.jpg\n",
            "Image saved: /content/sadbhay/kajal-bhabhi-ep2.jpg\n",
            "Image saved: /content/sadbhay/kajal-bhabhi-ep1.jpg\n",
            "Image saved: /content/sadbhay/Sreeragam-ep1.jpg\n",
            "Image saved: /content/sadbhay/rangila-sasur.jpg\n",
            "Image saved: /content/sadbhay/kalpana-ep2.jpg\n",
            "Image saved: /content/sadbhay/kalpana-ep1.jpg\n",
            "Image saved: /content/sadbhay/Adla-Badli-Ep-3.jpg\n",
            "Image saved: /content/sadbhay/chachi-kand-ep2.jpg\n",
            "Image saved: /content/sadbhay/Moorti-Ka-Rahasya.jpg\n",
            "Image saved: /content/sadbhay/Bewafa-Ep2.jpg\n",
            "Image saved: /content/sadbhay/sasur-harami-ep2.jpg\n",
            "Image saved: /content/sadbhay/mol-ki-bahu-ep2.jpg\n",
            "Image saved: /content/sadbhay/mol-ki-bahu-ep1.jpg\n",
            "Image saved: /content/sadbhay/laachi-ep5.jpg\n",
            "Image saved: /content/sadbhay/laachi-ep4.jpg\n",
            "Image saved: /content/sadbhay/laachi-ep3.jpg\n",
            "Image saved: /content/sadbhay/malai-ep5.jpg\n",
            "Image saved: /content/sadbhay/malai-ep4.jpg\n",
            "Image saved: /content/sadbhay/fuljhadi-bhabhi-ep2.jpg\n",
            "Image saved: /content/sadbhay/fuljhadi-bhabhi-ep1.jpg\n",
            "Image saved: /content/sadbhay/nadaan-ep3.jpg\n",
            "Image saved: /content/sadbhay/nadaan-ep2.jpg\n",
            "Image saved: /content/sadbhay/nadaan-ep1.jpg\n",
            "Image saved: /content/sadbhay/Chaska-ep5.jpg\n",
            "Image saved: /content/sadbhay/Personal-Secretary.jpg\n",
            "Image saved: /content/sadbhay/khalsala-ep2.jpg\n",
            "Image saved: /content/sadbhay/khalsala-ep1.jpg\n",
            "Image saved: /content/sadbhay/jalan-ep5-1.jpg\n",
            "Image saved: /content/sadbhay/jalan-ep4-1.jpg\n",
            "Image saved: /content/sadbhay/Chaska-ep4.jpg\n",
            "Image saved: /content/sadbhay/ek-gajar-do-mooli-btc.jpg\n",
            "Image saved: /content/sadbhay/farji-bhabhi.jpg\n",
            "Image saved: /content/sadbhay/aapbiti-ep3.jpg\n",
            "Image saved: /content/sadbhay/aapbiti-ep2.jpg\n",
            "Image saved: /content/sadbhay/aapbiti-ep1.jpg\n",
            "Image saved: /content/sadbhay/badan-ep8.jpg\n",
            "Image saved: /content/sadbhay/badan-ep7.jpg\n",
            "Image saved: /content/sadbhay/badan-ep6.jpg\n",
            "Image saved: /content/sadbhay/badan-ep5.jpg\n",
            "Image saved: /content/sadbhay/plan-ep3.jpg\n",
            "Image saved: /content/sadbhay/plan-ep2.jpg\n",
            "Image saved: /content/sadbhay/Plan-ep1.jpg\n",
            "Image saved: /content/sadbhay/Chull-Loveria-ep2.jpg\n",
            "Image saved: /content/sadbhay/Hardcore-Fuck-with-Virgin-Boy.jpg\n",
            "Image saved: /content/sadbhay/Prostitute.jpg\n",
            "Image saved: /content/sadbhay/chaska-ep3.jpg\n",
            "Image saved: /content/sadbhay/Charo-K-Charo.jpg\n",
            "Image saved: /content/sadbhay/Lick-My-Pussy.jpg\n",
            "Image saved: /content/sadbhay/Adla-Badli-ep2.jpg\n",
            "Image saved: /content/sadbhay/Desi-milk.jpg\n",
            "Image saved: /content/sadbhay/chaska-ep2.jpg\n",
            "Image saved: /content/sadbhay/yoga-me-hoga.jpg\n",
            "Image saved: /content/sadbhay/make-Me-up-btc.jpg\n",
            "Image saved: /content/sadbhay/mala-bhabhi-bts.jpg\n",
            "Image saved: /content/sadbhay/Nayee-Padosan.jpg\n",
            "Image saved: /content/sadbhay/Dhundh-ep1.jpg\n",
            "Image saved: /content/sadbhay/Chaska-ep1.jpg\n",
            "Image saved: /content/sadbhay/bewafa-ep1.jpg\n",
            "Image saved: /content/sadbhay/Chachi-kand-ep1.jpg\n",
            "Image saved: /content/sadbhay/Kinnaratumbikal-ep2.jpg\n",
            "Image saved: /content/sadbhay/Love-story-ep1.jpg\n",
            "Image saved: /content/sadbhay/mukhiya-ep2.jpg\n",
            "Image saved: /content/sadbhay/mala-bhabhi.jpg\n",
            "Image saved: /content/sadbhay/Psycho-Saiyyan-6.jpg\n",
            "Image saved: /content/sadbhay/Psycho-Saiyyan-5-1.jpg\n",
            "Image saved: /content/sadbhay/malai-ep3.jpg\n",
            "Image saved: /content/sadbhay/malai-ep2.jpg\n",
            "Image saved: /content/sadbhay/malai-ep1.jpg\n",
            "Image saved: /content/sadbhay/juaa-ep6.jpg\n",
            "Image saved: /content/sadbhay/juaa-ap5.jpg\n",
            "Image saved: /content/sadbhay/juaa-ep4.jpg\n",
            "Image saved: /content/sadbhay/laachi-ep2.jpg\n",
            "Image saved: /content/sadbhay/laachi-ep1.jpg\n",
            "Image saved: /content/sadbhay/girl-hostel-ep2.jpg\n",
            "Image saved: /content/sadbhay/Girl-hostel-ep1.jpg\n",
            "Image saved: /content/sadbhay/dhokebaaz.jpg\n",
            "Image saved: /content/sadbhay/Malkin-hardcore.jpg\n",
            "Image saved: /content/sadbhay/two-boyfriend.jpg\n",
            "Image saved: /content/sadbhay/chiting-sudipa.jpg\n",
            "Image saved: /content/sadbhay/damaad.jpg\n",
            "Image saved: /content/sadbhay/damad-ji.jpg\n",
            "Image saved: /content/sadbhay/SS01-convert.io1_.jpg\n",
            "Image saved: /content/sadbhay/jalan-ep3.jpg\n",
            "Image saved: /content/sadbhay/jalan-ep2.jpg\n",
            "Image saved: /content/sadbhay/jalan-ep1.jpg\n",
            "Image saved: /content/sadbhay/Junglee-Man-ep4.jpg\n",
            "Image saved: /content/sadbhay/Junglee-Man-ep3.jpg\n",
            "Image saved: /content/sadbhay/Jangalee-Man-ep2.jpg\n",
            "Image saved: /content/sadbhay/badan-ep4.jpg\n",
            "Image saved: /content/sadbhay/badan-ep3.jpg\n",
            "Image saved: /content/sadbhay/badan-ep2.jpg\n",
            "Image saved: /content/sadbhay/badan-ep1.jpg\n",
            "Image saved: /content/sadbhay/dhoka-ep1.jpg\n",
            "Image saved: /content/sadbhay/bhanno-ji.jpg\n",
            "Image saved: /content/sadbhay/Adla-Badli.jpg\n",
            "Image saved: /content/sadbhay/ek-gajar-do-mooli.jpg\n",
            "Image saved: /content/sadbhay/Peyari-Teacher.jpg\n",
            "Image saved: /content/sadbhay/klpd.jpg\n",
            "Image saved: /content/sadbhay/Tenant.jpg\n",
            "Image saved: /content/sadbhay/Sasur-Harami-ep1.jpg\n",
            "Image saved: /content/sadbhay/bunty-babli-ep4.jpg\n",
            "Image saved: /content/sadbhay/bunty-babli-ep3.jpg\n",
            "Image saved: /content/sadbhay/SexNaHouse-2ep1.jpg\n",
            "Image saved: /content/sadbhay/ragging-ep3.jpg\n",
            "Image saved: /content/sadbhay/juaa-ep3.jpg\n",
            "Image saved: /content/sadbhay/Aunty-Ka-PG-ep4.jpg\n",
            "Image saved: /content/sadbhay/Aunty-Ka-PG-ep3.jpg\n",
            "Image saved: /content/sadbhay/Roopmati-ep6.jpg\n",
            "Image saved: /content/sadbhay/Roopmati-ep5.jpg\n",
            "Image saved: /content/sadbhay/Secretary-ep4.jpg\n",
            "Image saved: /content/sadbhay/Secretary-ep3.jpg\n",
            "Image saved: /content/sadbhay/Psycho-Saiyyan-ep4.jpg\n",
            "Image saved: /content/sadbhay/Psycho-Saiyyan-ep3.jpg\n",
            "Image saved: /content/sadbhay/juaa-ep2.jpg\n",
            "Image saved: /content/sadbhay/juaa-ep1.jpg\n",
            "Image saved: /content/sadbhay/Shooting-.jpg\n",
            "Image saved: /content/sadbhay/Girlfirend-Doyel.jpg\n",
            "Image saved: /content/sadbhay/chote-dewar-ne-sudipa-bhabhi-ko-choda.jpg\n",
            "Image saved: /content/sadbhay/mohan-chudiwala-2.jpg\n",
            "Image saved: /content/sadbhay/Kinnaratumbikal-part-1.jpg\n",
            "Image saved: /content/sadbhay/Class-Non-Stop.jpg\n",
            "Image saved: /content/sadbhay/sui-ep3.jpg\n",
            "Image saved: /content/sadbhay/choti-Bahu-ep7.jpg\n",
            "Image saved: /content/sadbhay/choti-Bahu-ep6.jpg\n",
            "Image saved: /content/sadbhay/choti-Bahu-ep5.jpg\n",
            "Image saved: /content/sadbhay/choti-Bahu-ep4.jpg\n",
            "Image saved: /content/sadbhay/Playboy.jpg\n",
            "Image saved: /content/sadbhay/Yeah-Gandhi-Baat-ep2.jpg\n",
            "Image saved: /content/sadbhay/Yeah-Gandhi-Baat-ep1.jpg\n",
            "Image saved: /content/sadbhay/mohan-chabiwala-ep7.jpg\n",
            "Image saved: /content/sadbhay/mohan-chabiwala-ep6.jpg\n",
            "Image saved: /content/sadbhay/mohan-chabiwala-ep5.jpg\n",
            "Image saved: /content/sadbhay/Chull-Loveria.jpg\n",
            "Image saved: /content/sadbhay/Incomplete.jpg\n",
            "Image saved: /content/sadbhay/makeup.jpg\n",
            "Image saved: /content/sadbhay/Junglee-Man.jpg\n",
            "Image saved: /content/sadbhay/sui-ep2.jpg\n",
            "Image saved: /content/sadbhay/ep3-1.jpg\n",
            "Image saved: /content/sadbhay/ep2-1-1.jpg\n",
            "Image saved: /content/sadbhay/ep1-1-1.jpg\n",
            "Image saved: /content/sadbhay/Jawani-Janeman-2-.jpg\n",
            "Image saved: /content/sadbhay/Sui-Ep1.jpg\n",
            "Image saved: /content/sadbhay/dulhan.jpg\n",
            "Image saved: /content/sadbhay/Corona_Love_StreamEX.jpg\n",
            "Image saved: /content/sadbhay/Savita-Dugdhalay-Ep2.jpg\n",
            "Image saved: /content/sadbhay/raaz-ep2.jpg\n",
            "Image saved: /content/sadbhay/Raaz-Episode-1_Moment.jpg\n",
            "Image saved: /content/sadbhay/naajayaz-rishteep1.jpg\n",
            "Image saved: /content/sadbhay/9-o-clock-ep1.jpg\n",
            "Image saved: /content/sadbhay/Naughty-Sister-ep2.jpg\n",
            "Image saved: /content/sadbhay/Ragging-ep2.jpg\n",
            "Image saved: /content/sadbhay/bunty-babli-ep2.jpg\n",
            "Image saved: /content/sadbhay/bunty-babli-ep1.jpg\n",
            "Image saved: /content/sadbhay/Rangeen-bante-ep2.jpg\n",
            "Image saved: /content/sadbhay/Dhokha-ep1.jpg\n",
            "Image saved: /content/sadbhay/aunty-ka-pg-ep2.jpg\n",
            "Image saved: /content/sadbhay/aunty-ka-pg-ep1.jpg\n",
            "Image saved: /content/sadbhay/Mask-girl.jpg\n",
            "Image saved: /content/sadbhay/Psycho-Saiyan-ep2.jpg\n",
            "Image saved: /content/sadbhay/Psycho-Saiyan-ep1.jpg\n",
            "Image saved: /content/sadbhay/Secretary-ep2.jpg\n",
            "Image saved: /content/sadbhay/Secretary-ep1.jpg\n",
            "Image saved: /content/sadbhay/KaroNaa-ep5.jpg\n",
            "Image saved: /content/sadbhay/KaroNaa-ep4.jpg\n",
            "Image saved: /content/sadbhay/Roopmati-4-.jpg\n",
            "Image saved: /content/sadbhay/Roopmati-3-.jpg\n",
            "Image saved: /content/sadbhay/mohan-chabiwala-part-1.jpg\n",
            "Image saved: /content/sadbhay/gonchu-ep3.jpg\n",
            "Image saved: /content/sadbhay/chameli-bhabhi-ep3.jpg\n",
            "Image saved: /content/sadbhay/chameli-bhabhi-ep2.jpg\n",
            "Image saved: /content/sadbhay/chameli-bhabhi-ep1.jpg\n",
            "Image saved: /content/sadbhay/Atrangi-Chor-.jpg\n",
            "Image saved: /content/sadbhay/Hope-5-.jpg\n",
            "Image saved: /content/sadbhay/moh-ep3.jpg\n",
            "Image saved: /content/sadbhay/moh-ep2.jpg\n",
            "Image saved: /content/sadbhay/moh-ep1.jpg\n",
            "Image saved: /content/sadbhay/woodpecker.jpg\n",
            "Image saved: /content/sadbhay/purani-haveli-ep1.jpg\n",
            "Image saved: /content/sadbhay/Tamil-wife.jpg\n",
            "Image saved: /content/sadbhay/Ghonchu-ep2.jpg\n",
            "Image saved: /content/sadbhay/Choti-Bahu-ep3.jpg\n",
            "Image saved: /content/sadbhay/Choti-Bahu-ep2.jpg\n",
            "Image saved: /content/sadbhay/Choti-Bahu-ep1.jpg\n",
            "Image saved: /content/sadbhay/Jungle-Cottage-ep2.jpg\n",
            "Image saved: /content/sadbhay/Jungle-Cottage-ep1.jpg\n",
            "Image saved: /content/sadbhay/Orange-Hooker.jpg\n",
            "Image saved: /content/sadbhay/Mardana-Sasur.jpg\n",
            "Image saved: /content/sadbhay/Sparsh.jpg\n",
            "Image saved: /content/sadbhay/Heroine.jpg\n",
            "Image saved: /content/sadbhay/mohan-chabiwala-ep4.jpg\n",
            "Image saved: /content/sadbhay/mohan-chabiwala-ep3.jpg\n",
            "Image saved: /content/sadbhay/mohan-chabiwala-ep2.jpg\n",
            "Image saved: /content/sadbhay/mohan-chaiwala-ep1.jpg\n",
            "Image saved: /content/sadbhay/Chull-Dhulai-ep2.jpg\n",
            "Image saved: /content/sadbhay/sima-bhabhi.jpg\n",
            "Image saved: /content/sadbhay/pinjara-ep2.jpg\n",
            "Image saved: /content/sadbhay/pinjara-ep1.jpg\n",
            "Image saved: /content/sadbhay/fuckimg-morning-.jpg\n",
            "Image saved: /content/sadbhay/BHUTO-KA-SARDAR-THARKI-KAPALA.jpg\n",
            "Image saved: /content/sadbhay/Savita-Dugdhalay-1-.jpg\n",
            "Image saved: /content/sadbhay/Ghonchu-EP01.jpg\n",
            "Image saved: /content/sadbhay/Mangalik-3-4.jpg\n",
            "Image saved: /content/sadbhay/Mangalik-1-2.jpg\n",
            "Image saved: /content/sadbhay/khidhi-part2.jpg\n",
            "Image saved: /content/sadbhay/khidhi-part1.jpg\n",
            "Image saved: /content/sadbhay/Biwi-ho-to-aysa.jpg\n",
            "Image saved: /content/sadbhay/Kaand-E3.jpg\n",
            "Image saved: /content/sadbhay/Kaand-E2.jpg\n",
            "Image saved: /content/sadbhay/Kaand-E1.jpg\n",
            "Image saved: /content/sadbhay/Mukhiya-x-ep1.jpg\n",
            "Image saved: /content/sadbhay/Ragging.jpg\n",
            "Image saved: /content/sadbhay/Naughty-Sister.jpg\n",
            "Image saved: /content/sadbhay/Jawaani-Janeman-ep1.jpg\n",
            "Image saved: /content/sadbhay/Hotty-Naughty.jpg\n",
            "Image saved: /content/sadbhay/rangeen-baatein-ep1.jpg\n",
            "Image saved: /content/sadbhay/blackmail.jpg\n",
            "Image saved: /content/sadbhay/The-Exchange-E3.jpg\n",
            "Image saved: /content/sadbhay/The-Exchange-E2.jpg\n",
            "Image saved: /content/sadbhay/The-Exchange-E1.jpg\n",
            "Image saved: /content/sadbhay/Lafange.jpg\n",
            "Image saved: /content/sadbhay/dhanno-doodhwali-ep3.jpg\n",
            "Image saved: /content/sadbhay/Prem-Leela-ep4.jpg\n",
            "Image saved: /content/sadbhay/premleela3.jpg\n",
            "Image saved: /content/sadbhay/khidki-2ep6.jpg\n",
            "Image saved: /content/sadbhay/khidki-2ep5.jpg\n",
            "Image saved: /content/sadbhay/khidki-2ep4.jpg\n",
            "Image saved: /content/sadbhay/Roopmati-ep2.jpg\n",
            "Image saved: /content/sadbhay/Roopmati-ep1.jpg\n",
            "Image saved: /content/sadbhay/kitab-ka-raaz-ep6.jpg\n",
            "Image saved: /content/sadbhay/kitab-ka-raaz-ep5.jpg\n",
            "Image saved: /content/sadbhay/kelewali.jpg\n",
            "Image saved: /content/sadbhay/KaroNaa-ep3.jpg\n",
            "Image saved: /content/sadbhay/KaroNaa-ep2.jpg\n",
            "Image saved: /content/sadbhay/KaroNaa-ep1.jpg\n",
            "Image saved: /content/sadbhay/Bade_Dudhwali.jpg\n",
            "Image saved: /content/sadbhay/Erotic-Spa-.jpg\n",
            "Image saved: /content/sadbhay/tadap-ep5.jpg\n",
            "Image saved: /content/sadbhay/tadap-ep4.jpg\n",
            "Image saved: /content/sadbhay/Srimoyee-On-Call.jpg\n",
            "Image saved: /content/sadbhay/behen-on-heden.jpg\n",
            "Image saved: /content/sadbhay/alon.jpg\n",
            "Image saved: /content/sadbhay/love-guru-session-2-ep4.jpg\n",
            "Image saved: /content/sadbhay/love-guru-session-2-ep3.jpg\n",
            "Image saved: /content/sadbhay/Gandii-Baat-S07E01.jpg\n",
            "Image saved: /content/sadbhay/hope-ep4.jpg\n",
            "Image saved: /content/sadbhay/vlcsnap-2021-05-31-15h27m58s965.jpg\n",
            "Image saved: /content/sadbhay/Adla-Badli-ep3.jpg\n",
            "Image saved: /content/sadbhay/gao-ki-malai-ep2.jpg\n",
            "Image saved: /content/sadbhay/gao-ki-malai-ep1.jpg\n",
            "Image saved: /content/sadbhay/step-sister-sudipa.jpg\n",
            "Image saved: /content/sadbhay/Sexiest-Mommy-Part-2-.jpg\n",
            "Image saved: /content/sadbhay/Chull-Dhulai.jpg\n",
            "Image saved: /content/sadbhay/adla-badli-ep2.jpg\n",
            "Image saved: /content/sadbhay/mistake-ep2.jpg\n",
            "Image saved: /content/sadbhay/plan-ep3.jpg\n",
            "Image saved: /content/sadbhay/plan-ep2.jpg\n",
            "Image saved: /content/sadbhay/oohh.jpg\n",
            "Image saved: /content/sadbhay/Prem-Leela-ep2.jpg\n",
            "Image saved: /content/sadbhay/Prem-Leela-ep1.jpg\n",
            "Image saved: /content/sadbhay/dhanno-doodh-wali-ep2.jpg\n",
            "Image saved: /content/sadbhay/paglet3-ep5.jpg\n",
            "Image saved: /content/sadbhay/paglet3-ep4.jpg\n",
            "Image saved: /content/sadbhay/dhanno-doodh-wali-ep1.jpg\n",
            "Image saved: /content/sadbhay/adla-badli-ep1.jpg\n",
            "Image saved: /content/sadbhay/kitab-ka-raaz-ep4.jpg\n",
            "Image saved: /content/sadbhay/kitab-ka-raaz-ep3.jpg\n",
            "Image saved: /content/sadbhay/khidki-part-1-ep3.jpg\n",
            "Image saved: /content/sadbhay/khidki-part-1-ep2.jpg\n",
            "Image saved: /content/sadbhay/khidki-part-1-ep1.jpg\n",
            "Image saved: /content/sadbhay/kiraydar-ep2.jpg\n",
            "Image saved: /content/sadbhay/Jalebi-3-ep6.jpg\n",
            "Image saved: /content/sadbhay/Jalebi-3-ep5.jpg\n",
            "Image saved: /content/sadbhay/PapakiPari.jpg\n",
            "Image saved: /content/sadbhay/98.jpg\n",
            "Image saved: /content/sadbhay/Sexiest-Mommy-1.jpg\n",
            "Image saved: /content/sadbhay/Dada-Sasur.jpg\n",
            "Image saved: /content/sadbhay/Sealband-ep1.jpg\n",
            "Image saved: /content/sadbhay/tadap-ep3.jpg\n",
            "Image saved: /content/sadbhay/tadap-ep2.jpg\n",
            "Image saved: /content/sadbhay/tadap-ep1.jpg\n",
            "Image saved: /content/sadbhay/Avihitham-Ep3.jpg\n",
            "Image saved: /content/sadbhay/Jeth-Ji.jpg\n",
            "Image saved: /content/sadbhay/Intercourse_3.jpg\n",
            "Image saved: /content/sadbhay/love-guru-session-2-ep2.jpg\n",
            "Image saved: /content/sadbhay/Love-guru-session-2-ep1.jpg\n",
            "Image saved: /content/sadbhay/Deham-S01E01.jpg\n",
            "Image saved: /content/sadbhay/plan-ep1.jpg\n",
            "Image saved: /content/sadbhay/Lonely-Woman-fuck-Mature-Man.jpg\n",
            "Image saved: /content/sadbhay/hope-part-3.jpg\n",
            "Image saved: /content/sadbhay/kiraydar-ep1.jpg\n",
            "Image saved: /content/sadbhay/trap-ep1.jpg\n",
            "Image saved: /content/sadbhay/dark-room.jpg\n",
            "Image saved: /content/sadbhay/Saazish-ep2.jpg\n",
            "Image saved: /content/sadbhay/dhanda-ep2.jpg\n",
            "Image saved: /content/sadbhay/mistake-ep1.jpg\n",
            "Image saved: /content/sadbhay/desire-Papa-ep2.jpg\n",
            "Image saved: /content/sadbhay/ek-raat-ki-baat-2.jpg\n",
            "Image saved: /content/sadbhay/dedi-noukar.jpg\n",
            "Image saved: /content/sadbhay/one-boy-two-girls.jpg\n",
            "Image saved: /content/sadbhay/kitab-ka-raaz-ep1.jpg\n",
            "Image saved: /content/sadbhay/Gulabo-ep4.jpg\n",
            "Image saved: /content/sadbhay/Gulabo-ep3.jpg\n",
            "Image saved: /content/sadbhay/paglet3-ep3.jpg\n",
            "Image saved: /content/sadbhay/paglet3-ep2.jpg\n",
            "Image saved: /content/sadbhay/paglet-3ep1.jpg\n",
            "Image saved: /content/sadbhay/Farebi-yaar-ep8.jpg\n",
            "Image saved: /content/sadbhay/Farebi-yaar-ep7.jpg\n",
            "Image saved: /content/sadbhay/Sonagachi-Randi.jpg\n",
            "Image saved: /content/sadbhay/black-rose-ep2.jpg\n",
            "Image saved: /content/sadbhay/Kyon-Nahin-Maara-ep4.jpg\n",
            "Image saved: /content/sadbhay/Kyon-Nahin-Maara-ep3.jpg\n",
            "Image saved: /content/sadbhay/hot-wife-2.jpg\n",
            "Image saved: /content/sadbhay/sauda-ep6.jpg\n",
            "Image saved: /content/sadbhay/sauda-ep5.jpg\n",
            "Image saved: /content/sadbhay/sauda-ep4.jpg\n",
            "Image saved: /content/sadbhay/Valentines-Day-Special.jpg\n",
            "Image saved: /content/sadbhay/MISS-BRIGANZA-ep3.jpg\n",
            "Image saved: /content/sadbhay/MISS-BRIGANZA-ep2.jpg\n",
            "Image saved: /content/sadbhay/MISS-BRIGANZA-ep1.jpg\n",
            "Image saved: /content/sadbhay/Garmi-2ep2.jpg\n",
            "Image saved: /content/sadbhay/watchman-part-3ep9.jpg\n",
            "Image saved: /content/sadbhay/watchman-part-3ep8.jpg\n",
            "Image saved: /content/sadbhay/watchman-part-3ep7.jpg\n",
            "Image saved: /content/sadbhay/Laila-2ep4.jpg\n",
            "Image saved: /content/sadbhay/Laila-2ep3.jpg\n",
            "Image saved: /content/sadbhay/Laila-2ep2.jpg\n",
            "Image saved: /content/sadbhay/Laila-2ep1.jpg\n",
            "Image saved: /content/sadbhay/saloni-ep4.jpg\n",
            "Image saved: /content/sadbhay/saloni-.ep43.jpg\n",
            "Image saved: /content/sadbhay/hope-ep2.jpg\n",
            "Image saved: /content/sadbhay/Adhuri-Kahani.jpg\n",
            "Image saved: /content/sadbhay/IMG_1646670221292.jpg\n",
            "Image saved: /content/sadbhay/Body-Heat.jpg\n",
            "Image saved: /content/sadbhay/Tutiont3.jpg\n",
            "Image saved: /content/sadbhay/BROWNY-TEACHER.jpg\n",
            "Image saved: /content/sadbhay/what-the-F-ep2.jpg\n",
            "Image saved: /content/sadbhay/Saazish-ep1.jpg\n",
            "Image saved: /content/sadbhay/Kaam-Purush-2-ep2.jpg\n",
            "Image saved: /content/sadbhay/Mardana-Sasur-ep5.jpg\n",
            "Image saved: /content/sadbhay/jalebi-3-ep1.jpg\n",
            "Image saved: /content/sadbhay/babu-ji-ep6.jpg\n",
            "Image saved: /content/sadbhay/babu-ji-ep5.jpg\n",
            "Image saved: /content/sadbhay/babu-ji-ep4.jpg\n",
            "Image saved: /content/sadbhay/Farebi-yaar-ep6.jpg\n",
            "Image saved: /content/sadbhay/Farebi-Yaar-Part-2-Ep5.jpg\n",
            "Image saved: /content/sadbhay/farebi-yaar-ep4.jpg\n",
            "Image saved: /content/sadbhay/darwaza-mat-kholna-ep2.jpg\n",
            "Image saved: /content/sadbhay/darwaza-mat-kholna-ep1.jpg\n",
            "Image saved: /content/sadbhay/Kaam-Purush-S02-E01.jpg\n",
            "Image saved: /content/sadbhay/uncle-no.1.jpg\n",
            "Image saved: /content/sadbhay/Best-Performance-ep2.jpg\n",
            "Image saved: /content/sadbhay/Best-Performance-ep1.jpg\n",
            "Image saved: /content/sadbhay/Forbidden-Love-ep1.jpg\n",
            "Image saved: /content/sadbhay/Selfish-Relation-ep1.jpg\n",
            "Image saved: /content/sadbhay/Workout-ep1.jpg\n",
            "Image saved: /content/sadbhay/sauda-ep3.jpg\n",
            "Image saved: /content/sadbhay/sauda-ep2.jpg\n",
            "Image saved: /content/sadbhay/sauda-ep1.jpg\n",
            "Image saved: /content/sadbhay/mismatch-d.jpg\n",
            "Image saved: /content/sadbhay/Avihitham-ep2.jpg\n",
            "Image saved: /content/sadbhay/watchman-ep6.jpg\n",
            "Image saved: /content/sadbhay/watchman-ep5.jpg\n",
            "Image saved: /content/sadbhay/watchman-ep4.jpg\n",
            "Image saved: /content/sadbhay/Tuition-Teacher-ep2.jpg\n",
            "Image saved: /content/sadbhay/baby-Marwa-Ke-Manegi-ep2.jpg\n",
            "Image saved: /content/sadbhay/fucking-aunty.jpg\n",
            "Image saved: /content/sadbhay/the-Game-Plan-ep2.jpg\n",
            "Image saved: /content/sadbhay/Rakhail-ep3-1.jpg\n",
            "Image saved: /content/sadbhay/Rakhail-ep2-1.jpg\n",
            "Image saved: /content/sadbhay/Rakhail-ep1-1.jpg\n",
            "Image saved: /content/sadbhay/my-i-come-ep3.jpg\n",
            "Image saved: /content/sadbhay/my-i-come-ep2.jpg\n",
            "Image saved: /content/sadbhay/hope-ep1.jpg\n",
            "Image saved: /content/sadbhay/blind-love-2.jpg\n",
            "Image saved: /content/sadbhay/piyasi-padosan-ep1.jpg\n",
            "Image saved: /content/sadbhay/lady-doctor-ep4.jpg\n",
            "Image saved: /content/sadbhay/guptrog-ep2.jpg\n",
            "Image saved: /content/sadbhay/guptrog-ep1.jpg\n",
            "Image saved: /content/sadbhay/Farebi-yaar-ep3.jpg\n",
            "Image saved: /content/sadbhay/Farabi-yaar-ep2.jpg\n",
            "Image saved: /content/sadbhay/Farebi-yaar-ep1.jpg\n",
            "Image saved: /content/sadbhay/mardana-sasur-ep3.jpg\n",
            "Image saved: /content/sadbhay/IMG_1660560337358.jpg\n",
            "Image saved: /content/sadbhay/Rasiya-1.jpg\n",
            "Image saved: /content/sadbhay/Babu-ji-ep3.jpg\n",
            "Image saved: /content/sadbhay/babu-ji-ep2.jpg\n",
            "Image saved: /content/sadbhay/Babu-ji-ep1.jpg\n",
            "Image saved: /content/sadbhay/rajneeti-ep4.jpg\n",
            "Image saved: /content/sadbhay/rajneeti-ep3.jpg\n",
            "Image saved: /content/sadbhay/SPICY-BAHU.jpg\n",
            "Image saved: /content/sadbhay/golabo-2.jpg\n",
            "Image saved: /content/sadbhay/Christmas-Special.jpg\n",
            "Image saved: /content/sadbhay/Dr-Chaurasia_2.jpg\n",
            "Image saved: /content/sadbhay/Dr-Chaurasia_1.jpg\n",
            "Image saved: /content/sadbhay/Love-Guru-4.jpg\n",
            "Image saved: /content/sadbhay/Love-Guru-3.jpg\n",
            "Image saved: /content/sadbhay/Sauteleep2.jpg\n",
            "Image saved: /content/sadbhay/Sauteleep1.jpg\n",
            "Image saved: /content/sadbhay/Kulta-S03E02.jpg\n",
            "Image saved: /content/sadbhay/Desi-Queen-Sucharita.jpg\n",
            "Image saved: /content/sadbhay/PYAASI-DULHAN-2.jpg\n",
            "Image saved: /content/sadbhay/Lilly-bhabhi.jpg\n",
            "Image saved: /content/sadbhay/What-The-F-ep1-1.jpg\n",
            "Image saved: /content/sadbhay/gulabo-e02.jpg\n",
            "Image saved: /content/sadbhay/gulabo-e01.jpg\n",
            "Image saved: /content/sadbhay/dildi2.jpg\n",
            "Image saved: /content/sadbhay/Gun-Point-5.jpg\n",
            "Image saved: /content/sadbhay/Desi-Majdur-Ki-Patni.jpg\n",
            "Image saved: /content/sadbhay/sambandh-e02.jpg\n",
            "Image saved: /content/sadbhay/Farebi.2022.Leo_.jpg\n",
            "Image saved: /content/sadbhay/Love-Guru-2.jpg\n",
            "Image saved: /content/sadbhay/Love-Guru-1.jpg\n",
            "Image saved: /content/sadbhay/Pichese-S02E06.jpg\n",
            "Image saved: /content/sadbhay/Pichese-S02E05.jpg\n",
            "Image saved: /content/sadbhay/baby.jpg\n",
            "Image saved: /content/sadbhay/watchman-ep3.jpg\n",
            "Image saved: /content/sadbhay/watchman-ep2.jpg\n",
            "Image saved: /content/sadbhay/watchman-ep1.jpg\n",
            "Image saved: /content/sadbhay/black-rose-ep1.jpg\n",
            "Image saved: /content/sadbhay/LadydoctrE01.jpg\n",
            "Image saved: /content/sadbhay/gult2.jpg\n",
            "Image saved: /content/sadbhay/sexy-trap.jpg\n",
            "Image saved: /content/sadbhay/angithi2.jpg\n",
            "Image saved: /content/sadbhay/Surrogate-Mother-fucked.jpg\n",
            "Image saved: /content/sadbhay/Shukla-Niwas-4.webp\n",
            "Image saved: /content/sadbhay/Shukla-Niwas-3.webp\n",
            "Image saved: /content/sadbhay/Shukla-Niwas-2.webp\n",
            "Image saved: /content/sadbhay/Shukla-Niwas-1.webp\n",
            "Image saved: /content/sadbhay/Rangliprt2.5.jpg\n",
            "Image saved: /content/sadbhay/Rangliprt2.4.jpg\n",
            "Image saved: /content/sadbhay/Rog.Vilas_.S01E02.jpg\n",
            "Image saved: /content/sadbhay/rajjo3.jpg\n",
            "Image saved: /content/sadbhay/Saloni.2023.E02.jpg\n",
            "Image saved: /content/sadbhay/Saloni.2023.E01.jpg\n",
            "Image saved: /content/sadbhay/YeRatKiBat.2023.Mojflx.jpg\n",
            "Image saved: /content/sadbhay/Kaand-S01-E02.webp\n",
            "Image saved: /content/sadbhay/Drlily.2022.E04.jpg\n",
            "Image saved: /content/sadbhay/Drlily.2022.E03.jpg\n",
            "Image saved: /content/sadbhay/Real-Cat-Fight-BindasTimes.jpg\n",
            "Image saved: /content/sadbhay/Stranger.5.jpg\n",
            "Image saved: /content/sadbhay/Stranger.S01E044.jpg\n",
            "Image saved: /content/sadbhay/1845bf36a5f8d3d7fec1b137.jpg\n",
            "Image saved: /content/sadbhay/lKbzJM1.jpg\n",
            "Image saved: /content/sadbhay/Golu.2.jpg\n",
            "Image saved: /content/sadbhay/Golu.S01E01.jpg\n",
            "Image saved: /content/sadbhay/Rajneeti.2.jpg\n",
            "Image saved: /content/sadbhay/Rajneeti.S01E01-1.jpg\n",
            "Image saved: /content/sadbhay/Jane-Anjane-Mein-6-1.jpg\n",
            "Image saved: /content/sadbhay/Jane-Anjane-Mein-5.jpg\n",
            "Image saved: /content/sadbhay/Jane-Anjane-Mein-4.jpg\n",
            "Image saved: /content/sadbhay/Naadani-Halkut.jpg\n",
            "Image saved: /content/sadbhay/adhuri-aas-ep3.jpg\n",
            "Image saved: /content/sadbhay/adhuri-aas-ep2-1.jpg\n",
            "Image saved: /content/sadbhay/adhuri-aas-ep1.jpg\n",
            "Image saved: /content/sadbhay/Rasili-ep6.jpg\n",
            "Image saved: /content/sadbhay/Rasili.2022.E05.jpg\n",
            "Image saved: /content/sadbhay/imli-ep6.jpg\n",
            "Image saved: /content/sadbhay/imli-ep5.jpg\n",
            "Image saved: /content/sadbhay/imli-ep4.jpg\n",
            "Image saved: /content/sadbhay/AndhaDhundhS4.jpg\n",
            "Image saved: /content/sadbhay/Step-Daddy-Punishes-Step-Daughter.jpg\n",
            "Image saved: /content/sadbhay/Housewife-Hardcore-Fuck.jpg\n",
            "Image saved: /content/sadbhay/Doyel-Calls-Dildo-Service-man.jpg\n",
            "Image saved: /content/sadbhay/Big-Boobs-Dirty-Girl-Fucked.jpg\n",
            "Image saved: /content/sadbhay/Rose.Marlo_.S01E02.jpg\n",
            "Image saved: /content/sadbhay/Rose.Marlo_.S01E01.jpg\n",
            "Image saved: /content/sadbhay/23012111484901.jpg\n",
            "Image saved: /content/sadbhay/qJVkv6w.jpg\n",
            "Image saved: /content/sadbhay/hast-Maithoon-ep2.jpg\n",
            "Image saved: /content/sadbhay/hot-champa.jpg\n",
            "Image saved: /content/sadbhay/kaand-ep1.jpg\n",
            "Image saved: /content/sadbhay/The.Game_.Plan_.1.jpg\n",
            "Image saved: /content/sadbhay/Chhi.Chhora.1.jpg\n",
            "Image saved: /content/sadbhay/kathor.jpg\n",
            "Image saved: /content/sadbhay/Ishqiya.RavenMovies.S01E02.jpg\n",
            "Image saved: /content/sadbhay/Drlily.2022.E012.jpg\n",
            "Image saved: /content/sadbhay/CHASTITY-UNCUT.jpg\n",
            "Image saved: /content/sadbhay/Mithichtni.jpg\n",
            "Image saved: /content/sadbhay/The-Depth.jpg\n",
            "Image saved: /content/sadbhay/Starngerep3.jpg\n",
            "Image saved: /content/sadbhay/Starngerep2.jpg\n",
            "Image saved: /content/sadbhay/Starngerep1.jpg\n",
            "Image saved: /content/sadbhay/jaaneanjanem6ep3.jpg\n",
            "Image saved: /content/sadbhay/jaaneanjanem6ep2.jpg\n",
            "Image saved: /content/sadbhay/jaaneanjanem6ep1.jpg\n",
            "Image saved: /content/sadbhay/planbep4.jpg\n",
            "Image saved: /content/sadbhay/Planbep3.jpg\n",
            "Image saved: /content/sadbhay/Buddah-Masterji-.jpg\n",
            "Image saved: /content/sadbhay/andadhund2ep2..jpg\n",
            "Image saved: /content/sadbhay/Blind-Love.jpg\n",
            "Image saved: /content/sadbhay/Majboor-Leo-Ap.jpg\n",
            "Image saved: /content/sadbhay/IMLI.3.jpg\n",
            "Image saved: /content/sadbhay/IMLI.2.jpg\n",
            "Image saved: /content/sadbhay/IMLI.S01E01.jpg\n",
            "Image saved: /content/sadbhay/karzdaarep5.jpg\n",
            "Image saved: /content/sadbhay/karzdaarep4.jpg\n",
            "Image saved: /content/sadbhay/karzdaarep3.jpg\n",
            "Image saved: /content/sadbhay/biwi-ho-to-aisi-4.webp\n",
            "Image saved: /content/sadbhay/biwi-ho-to-aisi-3.webp\n",
            "Image saved: /content/sadbhay/biwi-ho-to-aisi-2.webp\n",
            "Image saved: /content/sadbhay/biwi-ho-to-aisi-1.webp\n",
            "Image saved: /content/sadbhay/andadhund2ep1.jpg\n",
            "Image saved: /content/sadbhay/Sasurji-bahurani.jpg\n",
            "Image saved: /content/sadbhay/salcman.jpg\n",
            "Image saved: /content/sadbhay/House-Dealer.jpg\n",
            "Image saved: /content/sadbhay/Poonam-bhabhi.jpg\n",
            "Image saved: /content/sadbhay/masterxep2.jpg\n",
            "Image saved: /content/sadbhay/beqaabu.jpg\n",
            "Image saved: /content/sadbhay/Prtnrunct.jpg\n",
            "Image saved: /content/sadbhay/yesmemep5.jpg\n",
            "Image saved: /content/sadbhay/yesmemep4.jpg\n",
            "Image saved: /content/sadbhay/yesmemep3.jpg\n",
            "Image saved: /content/sadbhay/planbep2.jpg\n",
            "Image saved: /content/sadbhay/planbep1.jpg\n",
            "Image saved: /content/sadbhay/Virgin-Bahus-S01E03.jpg\n",
            "Image saved: /content/sadbhay/Virgin.Bahus_.S01E02.jpg\n",
            "Image saved: /content/sadbhay/Virgin.Bahus_.S01E01.jpg\n",
            "Image saved: /content/sadbhay/pahredar-3-ep5.jpg\n",
            "Image saved: /content/sadbhay/pahredar-3ep4.jpg\n",
            "Image saved: /content/sadbhay/namakep6.jpg\n",
            "Image saved: /content/sadbhay/namakep5.jpg\n",
            "Image saved: /content/sadbhay/namakep4.jpg\n",
            "Image saved: /content/sadbhay/rasiliep4.jpg\n",
            "Image saved: /content/sadbhay/rasiliep3.jpg\n",
            "Image saved: /content/sadbhay/Dhokha.jpg\n",
            "Image saved: /content/sadbhay/Indian-Boyfriend-Fuck-with-Girlfriend.jpg\n",
            "Image saved: /content/sadbhay/Plum-Cake-S01E02.jpg\n",
            "Image saved: /content/sadbhay/sucharita-love-big-cock.jpg\n",
            "Image saved: /content/sadbhay/Moksh-S01E03.jpg\n",
            "Image saved: /content/sadbhay/iloveyouep6.jpg\n",
            "Image saved: /content/sadbhay/iloveyouep5.jpg\n",
            "Image saved: /content/sadbhay/iloveyouep4.jpg\n",
            "Image saved: /content/sadbhay/shokeen-sapna.jpg\n",
            "Image saved: /content/sadbhay/May-I-Come-In-S01E01.jpg\n",
            "Image saved: /content/sadbhay/sweety-bhabhi.jpg\n",
            "Image saved: /content/sadbhay/yesmemep2.jpg\n",
            "Image saved: /content/sadbhay/yesmemep1.jpg\n",
            "Image saved: /content/sadbhay/masterx.jpg\n",
            "Image saved: /content/sadbhay/Gayer-Sambandh.jpg\n",
            "Image saved: /content/sadbhay/Karzdaarep2.jpg\n",
            "Image saved: /content/sadbhay/Karzdaarep1.jpg\n",
            "Image saved: /content/sadbhay/sasurji.jpg\n",
            "Image saved: /content/sadbhay/shadyantra-2ep2.jpg\n",
            "Image saved: /content/sadbhay/gandi-baat-ep2.jpg\n",
            "Image saved: /content/sadbhay/dusky-beuty.jpg\n",
            "Image saved: /content/sadbhay/namakep3.jpg\n",
            "Image saved: /content/sadbhay/namakep2.jpg\n",
            "Image saved: /content/sadbhay/namakep1.jpg\n",
            "Image saved: /content/sadbhay/pahredar-3ep3.jpg\n",
            "Image saved: /content/sadbhay/pahredar-3ep2.jpg\n",
            "Image saved: /content/sadbhay/pahredar-3ep1.jpg\n",
            "Image saved: /content/sadbhay/Rasili.2022.E02.jpg\n",
            "Image saved: /content/sadbhay/Rasili.2022.E01.jpg\n",
            "Image saved: /content/sadbhay/Doctor-Chaurasiya.E06.jpg\n",
            "Image saved: /content/sadbhay/Doctor-Chaurasiya.E05.jpg\n",
            "Image saved: /content/sadbhay/Kaam-Purush-S01E03-1.jpg\n",
            "Image saved: /content/sadbhay/Laila.2022.Neonx_.jpg\n",
            "Image saved: /content/sadbhay/jamindar.jpg\n",
            "Image saved: /content/sadbhay/iloveyouep3.jpg\n",
            "Image saved: /content/sadbhay/iloveyouep2.jpg\n",
            "Image saved: /content/sadbhay/iloveyouep1.jpg\n",
            "Image saved: /content/sadbhay/Kampurush.E02.jpg\n",
            "Image saved: /content/sadbhay/Kulta3.Moodx_.jpg\n",
            "Image saved: /content/sadbhay/Palat-Waar.jpg\n",
            "Image saved: /content/sadbhay/kaam-purush-ep1.jpg\n",
            "Image saved: /content/sadbhay/Kaala-Til-S01E04.jpg\n",
            "Image saved: /content/sadbhay/Kaala-Til-S01E03.jpg\n",
            "Image saved: /content/sadbhay/Kajal-Bhabhi.jpg\n",
            "Image saved: /content/sadbhay/ye-gandi-baat-e01.jpg\n",
            "Image saved: /content/sadbhay/Shadyantra-S02E01.jpg\n",
            "Image saved: /content/sadbhay/Jamindaar-Aur-Humari-Humari-Jaan.jpg\n",
            "Image saved: /content/sadbhay/Miss-Teacher-2.jpg\n",
            "Image saved: /content/sadbhay/Miss-Teacher-1.jpg\n",
            "Image saved: /content/sadbhay/Doraha-ep6.jpg\n",
            "Image saved: /content/sadbhay/my-hot-bipasha-ep5.jpg\n",
            "Image saved: /content/sadbhay/my-hot-bipasha-ep4.jpg\n",
            "Image saved: /content/sadbhay/my-hot-bipasha-ep3.jpg\n",
            "Image saved: /content/sadbhay/my-hot-bipasha-ep2.jpg\n",
            "Image saved: /content/sadbhay/my-hot-bipasha.jpg\n",
            "Image saved: /content/sadbhay/pyada-e04.jpg\n",
            "Image saved: /content/sadbhay/unihubycgfio.jpg\n",
            "Image saved: /content/sadbhay/khujli-2.jpg\n",
            "Image saved: /content/sadbhay/1666536537018.jpg\n",
            "Image saved: /content/sadbhay/1666490947404.jpg\n",
            "Image saved: /content/sadbhay/1666491071439.jpg\n",
            "Image saved: /content/sadbhay/honeymon.jpg\n",
            "Image saved: /content/sadbhay/blind-kotha-ep2.jpg\n",
            "Image saved: /content/sadbhay/blind-kotha-ep1.jpg\n",
            "Image saved: /content/sadbhay/pyada-ep2.jpg\n",
            "Image saved: /content/sadbhay/pyada-ep1.jpg\n",
            "Image saved: /content/sadbhay/nasha-chahat-ka-ep2.jpg\n",
            "Image saved: /content/sadbhay/double-kaandep2.jpg\n",
            "Image saved: /content/sadbhay/double-kaand-ep1.jpg\n",
            "Image saved: /content/sadbhay/khuli-khidki-ep4.jpg\n",
            "Image saved: /content/sadbhay/khuli-khidki-ep3.jpg\n",
            "Image saved: /content/sadbhay/bhabh123ep2.jpg\n",
            "Image saved: /content/sadbhay/e0u745zzu9n6.jpg\n",
            "Image saved: /content/sadbhay/bidaai-ep3.jpg\n",
            "Image saved: /content/sadbhay/Love-Guru-4.jpg\n",
            "Image saved: /content/sadbhay/Love-Guru-3.jpg\n",
            "Image saved: /content/sadbhay/Sauteleep2.jpg\n",
            "Image saved: /content/sadbhay/Sauteleep1.jpg\n",
            "Image saved: /content/sadbhay/Kulta-S03E02.jpg\n",
            "Image saved: /content/sadbhay/Desi-Queen-Sucharita.jpg\n",
            "Image saved: /content/sadbhay/PYAASI-DULHAN-2.jpg\n",
            "Image saved: /content/sadbhay/Lilly-bhabhi.jpg\n",
            "Image saved: /content/sadbhay/What-The-F-ep1-1.jpg\n",
            "Image saved: /content/sadbhay/gulabo-e02.jpg\n",
            "Image saved: /content/sadbhay/gulabo-e01.jpg\n",
            "Image saved: /content/sadbhay/dildi2.jpg\n",
            "Image saved: /content/sadbhay/Gun-Point-5.jpg\n",
            "Image saved: /content/sadbhay/Desi-Majdur-Ki-Patni.jpg\n",
            "Image saved: /content/sadbhay/sambandh-e02.jpg\n",
            "Image saved: /content/sadbhay/Farebi.2022.Leo_.jpg\n",
            "Image saved: /content/sadbhay/Love-Guru-2.jpg\n",
            "Image saved: /content/sadbhay/Love-Guru-1.jpg\n",
            "Image saved: /content/sadbhay/Pichese-S02E06.jpg\n",
            "Image saved: /content/sadbhay/Pichese-S02E05.jpg\n",
            "Image saved: /content/sadbhay/Flat-Screen-S01E05.jpg\n",
            "Image saved: /content/sadbhay/Flat-Screen-S01E04.jpg\n",
            "Image saved: /content/sadbhay/Seduction.jpg\n",
            "Image saved: /content/sadbhay/Roomate-3.jpg\n",
            "Image saved: /content/sadbhay/Roomate-2.jpg\n",
            "Image saved: /content/sadbhay/Roomate-1.jpg\n",
            "Image saved: /content/sadbhay/dildo1ep3.jpg\n",
            "Image saved: /content/sadbhay/dildo1ep2.jpg\n",
            "Image saved: /content/sadbhay/dildo1ep1.jpg\n",
            "Image saved: /content/sadbhay/Boss-X-S01E02.jpg\n",
            "Image saved: /content/sadbhay/Boss-X-S01E01.jpg\n",
            "Image saved: /content/sadbhay/PYAASI-DULHAN.jpg\n",
            "Image saved: /content/sadbhay/Saazish-Leo-App.jpg\n",
            "Image saved: /content/sadbhay/Affair.jpg\n",
            "Image saved: /content/sadbhay/Sasurji-Part-2.jpg\n",
            "Image saved: /content/sadbhay/Miss-tiecher3ep1.jpg\n",
            "Image saved: /content/sadbhay/Sambndh.2022.EP1_.jpg\n",
            "Image saved: /content/sadbhay/Mera-Payara-Sa-Devarji.jpg\n",
            "Image saved: /content/sadbhay/Moksh-S01E01.jpg\n",
            "Image saved: /content/sadbhay/saart-e02.jpg\n",
            "Image saved: /content/sadbhay/saart-e01.jpg\n",
            "Image saved: /content/sadbhay/RANGILI.S01E03.jpg\n",
            "Image saved: /content/sadbhay/RANGILI.S01E02.jpg\n",
            "Image saved: /content/sadbhay/RANGILI.S01E01.jpg\n",
            "Image saved: /content/sadbhay/Siskiyaan-6.jpg\n",
            "Image saved: /content/sadbhay/Siskiyaan-5.jpg\n",
            "Image saved: /content/sadbhay/Siskiyaan-4.jpg\n",
            "Image saved: /content/sadbhay/L...Lag-Gaye-ep2.jpg\n",
            "Image saved: /content/sadbhay/L...Lag-Gaye-ep1.jpg\n",
            "Image saved: /content/sadbhay/picheseep4.jpg\n",
            "Image saved: /content/sadbhay/picheseep3.jpg\n",
            "Image saved: /content/sadbhay/flat-screen-ep3.jpg\n",
            "Image saved: /content/sadbhay/flat-screen-ep2.jpg\n",
            "Image saved: /content/sadbhay/flat-screen-ep1.jpg\n",
            "Image saved: /content/sadbhay/pyas.jpg\n",
            "Image saved: /content/sadbhay/pizza-boy2.jpg\n",
            "Image saved: /content/sadbhay/d43xl2cdw0iq.jpg\n",
            "Image saved: /content/sadbhay/9g2cvckcre5n.jpg\n",
            "Image saved: /content/sadbhay/suhagrat.jpg\n",
            "Image saved: /content/sadbhay/siskiyaan-3.jpg\n",
            "Image saved: /content/sadbhay/family.jpg\n",
            "Image saved: /content/sadbhay/Farbiishq.2022.E02.jpg\n",
            "Image saved: /content/sadbhay/Galat-Fehmi-S01E01.jpg\n",
            "Image saved: /content/sadbhay/Dream-S01E01.jpg\n",
            "Image saved: /content/sadbhay/Shak.2022.E01.jpg\n",
            "Image saved: /content/sadbhay/Teacher-S01E02.jpg\n",
            "Image saved: /content/sadbhay/jabranep7.jpg\n",
            "Image saved: /content/sadbhay/jabranep6.jpg\n",
            "Image saved: /content/sadbhay/jabranep5.jpg\n",
            "Image saved: /content/sadbhay/Perfect-Stranger.jpg\n",
            "Image saved: /content/sadbhay/Nikah-2.jpg\n",
            "Image saved: /content/sadbhay/Nikah-1.jpg\n",
            "Image saved: /content/sadbhay/Firangi-Bahu-MangoTV.jpg\n",
            "Image saved: /content/sadbhay/Pyaasi-2022-S01E01.jpg\n",
            "Image saved: /content/sadbhay/gunpoint-4.jpg\n",
            "Image saved: /content/sadbhay/doubleKaandep2.jpg\n",
            "Image saved: /content/sadbhay/doubleKaandep1.jpg\n",
            "Image saved: /content/sadbhay/Gupchup.2022.E04.jpg\n",
            "Image saved: /content/sadbhay/Gupchup.2022.E03_.jpg\n",
            "Image saved: /content/sadbhay/SachiSaheli.2022.E04.jpg\n",
            "Image saved: /content/sadbhay/SachiSaheli.2022.E03.jpg\n",
            "Image saved: /content/sadbhay/picheseep2.jpg\n",
            "Image saved: /content/sadbhay/picheseep1.jpg\n",
            "Image saved: /content/sadbhay/rajnikaan-ep4.jpg\n",
            "Image saved: /content/sadbhay/Antarvasnep5.jpg\n",
            "Image saved: /content/sadbhay/Antarvasna-ep4.jpg\n",
            "Image saved: /content/sadbhay/palang-tod-siskiyaan-3-ep3.jpg\n",
            "Image saved: /content/sadbhay/palang-tod-siskiyaan-3-ep2.jpg\n",
            "Image saved: /content/sadbhay/palang-tod-siskiyaan-3-ep1.jpg\n",
            "Image saved: /content/sadbhay/maal-pani-nagar-vadhu-e01.jpg\n",
            "Image saved: /content/sadbhay/Dirty-Anjali-S01E01.jpg\n",
            "Image saved: /content/sadbhay/Virasat-S01E01.jpg\n",
            "Image saved: /content/sadbhay/mami-bhanja-ep3.jpg\n",
            "Image saved: /content/sadbhay/mami-bhanji-ep2.jpg\n",
            "Image saved: /content/sadbhay/mami-bhanji-ep1.jpg\n",
            "Image saved: /content/sadbhay/khujli3.jpg\n",
            "Image saved: /content/sadbhay/Sauda-Suhaagan-Ka-ep2.jpg\n",
            "Image saved: /content/sadbhay/jabran-part-1ep4.jpg\n",
            "Image saved: /content/sadbhay/jabran-part-1ep3.jpg\n",
            "Image saved: /content/sadbhay/jabran-part1-ep2.jpg\n",
            "Image saved: /content/sadbhay/jabran-part1-ep1.jpg\n",
            "Image saved: /content/sadbhay/FAITH-LOVE.jpg\n",
            "Image saved: /content/sadbhay/Sexymaid.2022.Hotx_.jpg\n",
            "Image saved: /content/sadbhay/Julie.2022.Neonx_.jpg\n",
            "Image saved: /content/sadbhay/Nynsukh.2022.E04.jpg\n",
            "Image saved: /content/sadbhay/atm-bhabhi-s01e06.jpg\n",
            "Image saved: /content/sadbhay/atm-bhabhi-s01e05-1.jpg\n",
            "Image saved: /content/sadbhay/Sachchi-Saheli-Ep-2.jpg.webp\n",
            "Image saved: /content/sadbhay/Sachchi-Saheli-Ep-1.jpg.webp\n",
            "Image saved: /content/sadbhay/Bali-Umar-S01E05-1.jpg.webp\n",
            "Image saved: /content/sadbhay/Bali-Umar-S01E04.jpg.webp\n",
            "Image saved: /content/sadbhay/Ishqiyapa-Part-2.jpg.webp\n",
            "Image saved: /content/sadbhay/Antrvasna.2022.E3.jpg\n",
            "Image saved: /content/sadbhay/Antrvasna.2022.E2.jpg\n",
            "Image saved: /content/sadbhay/Antrvasna.2022.E1.jpg\n",
            "Image saved: /content/sadbhay/rajni-2-ep3.jpg\n",
            "Image saved: /content/sadbhay/gun-point-3-hotshots.jpg\n",
            "Image saved: /content/sadbhay/Gunpint2.2022.Hotsht.jpg\n",
            "Image saved: /content/sadbhay/Honey-Trap-5.jpg\n",
            "Image saved: /content/sadbhay/Honey-Trap-4.jpg\n",
            "Image saved: /content/sadbhay/Romantic-Baby.jpg\n",
            "Image saved: /content/sadbhay/Andhvishvash.jpg\n",
            "Image saved: /content/sadbhay/iIshqiyapa-Part-1.jpg\n",
            "Image saved: /content/sadbhay/lal-bindi.jpg\n",
            "Image saved: /content/sadbhay/Rs1000.2022.E02.Yesma_.jpg\n",
            "Image saved: /content/sadbhay/gym-trainer.jpg\n",
            "Image saved: /content/sadbhay/haramkhor.jpg\n",
            "Image saved: /content/sadbhay/Unconditional-.jpg\n",
            "Image saved: /content/sadbhay/sauda-suhaagan-ka-ep1.jpg\n",
            "Image saved: /content/sadbhay/gupchup-ep2.jpg\n",
            "Image saved: /content/sadbhay/gupchup-ep1.jpg\n",
            "Image saved: /content/sadbhay/IMG_1668794622446.jpg\n",
            "Image saved: /content/sadbhay/pg4.jpg\n",
            "Image saved: /content/sadbhay/pg3.jpg\n",
            "Image saved: /content/sadbhay/Prmgme.2.jpg\n",
            "Image saved: /content/sadbhay/Prmgme.1.jpg\n",
            "Image saved: /content/sadbhay/bali-Umar-ep3.jpg\n",
            "Image saved: /content/sadbhay/bali-Umar-ep2.jpg\n",
            "Image saved: /content/sadbhay/bali-Umar-ep1.jpg\n",
            "Image saved: /content/sadbhay/gandi-kitaab-ep5.jpg\n",
            "Image saved: /content/sadbhay/gandi-kitaab-ep6.jpg\n",
            "Image saved: /content/sadbhay/Gadikitab2.2022.E04.jpg\n",
            "Image saved: /content/sadbhay/Gadikitab2.2022.E03.jpg\n",
            "Image saved: /content/sadbhay/Gadikitab.2.jpg\n",
            "Image saved: /content/sadbhay/Gadikitab.1.jpg\n",
            "Image saved: /content/sadbhay/Ishqiyapa-Part-1-ep4.jpg\n",
            "Image saved: /content/sadbhay/Ishqiyapa-Part-1-ep3.jpg\n",
            "Image saved: /content/sadbhay/Ishqiyapa-Part-1-ep2.jpg\n",
            "Image saved: /content/sadbhay/Ishqiyapa-Part-1-ep1.jpg\n",
            "Image saved: /content/sadbhay/Pehredaar-2-ep5.jpg\n",
            "Image saved: /content/sadbhay/Pehredaar-2-ep4.jpg\n",
            "Image saved: /content/sadbhay/Prehedar2.2022.E3.jpg\n",
            "Image saved: /content/sadbhay/Prehedar2.2022.E2.jpg\n",
            "Image saved: /content/sadbhay/Prehedar2.2022.E1.jpg\n",
            "Image saved: /content/sadbhay/Jamindaar-Babu-Naukarani-Se-Sambhog.jpg\n",
            "Image saved: /content/sadbhay/SEX-WITH-FRIEND.jpg\n",
            "Image saved: /content/sadbhay/PLEASURE-UNCUT.jpg\n",
            "Image saved: /content/sadbhay/Ledanad2.jpg\n",
            "Image saved: /content/sadbhay/Rajnikand2.2022.E02.jpg\n",
            "Image saved: /content/sadbhay/Rangilibabu3.jpg\n",
            "Image saved: /content/sadbhay/teacher-ep4.jpg\n",
            "Image saved: /content/sadbhay/teacher-ep3.jpg\n",
            "Image saved: /content/sadbhay/Teacher-Ep-2.jpg\n",
            "Image saved: /content/sadbhay/Teacher-Ep-1.jpg\n",
            "Image saved: /content/sadbhay/Garmi2.2022.E01.jpg\n",
            "Image saved: /content/sadbhay/Maal-Paani-Sexy-Sauda-ep1.jpg\n",
            "Image saved: /content/sadbhay/Rs1000.2022.E01.jpg\n",
            "Image saved: /content/sadbhay/hanymoon-2.jpg\n",
            "Image saved: /content/sadbhay/darji-e03.jpg\n",
            "Image saved: /content/sadbhay/darji-e02.jpg\n",
            "Image saved: /content/sadbhay/darji-e01-woow.jpg\n",
            "Image saved: /content/sadbhay/Garmi.2022.E05.jpg\n",
            "Image saved: /content/sadbhay/dhanda.jpg\n",
            "Image saved: /content/sadbhay/desi-wife-seduces-her-boyfriend.jpg\n",
            "Image saved: /content/sadbhay/big-boobs.jpg\n",
            "Image saved: /content/sadbhay/Sexy-teacher.jpg\n",
            "Image saved: /content/sadbhay/Haramkhor-MooDx-Originals.jpg\n",
            "Image saved: /content/sadbhay/GuptGyani.E02.jpg\n",
            "Image saved: /content/sadbhay/GuptGyani.E01.jpg\n",
            "Image saved: /content/sadbhay/chulpani.jpg\n",
            "Image saved: /content/sadbhay/honey-trap-ep3.jpg\n",
            "Image saved: /content/sadbhay/honey-trap-ep2.jpg\n",
            "Image saved: /content/sadbhay/honey-trap-ep1.jpg\n",
            "Image saved: /content/sadbhay/Maalpani.2022.E04.jpg\n",
            "Image saved: /content/sadbhay/Maalpani.2022.E03.jpg\n",
            "Image saved: /content/sadbhay/Maalpani.2022.E02.jpg\n",
            "Image saved: /content/sadbhay/Maalpani.2022.E01.jpg\n",
            "Image saved: /content/sadbhay/Kulta-Part-2-ep2.jpg\n",
            "Image saved: /content/sadbhay/misti-bala.jpg\n",
            "Image saved: /content/sadbhay/hamari-sapna-bhabhi-ep-4.jpg\n",
            "Image saved: /content/sadbhay/hamari-sapna-bhabhi-ep3.jpg\n",
            "Image saved: /content/sadbhay/Atmbhabi.2.jpg\n",
            "Image saved: /content/sadbhay/Atmbhabi.1.jpg\n",
            "Image saved: /content/sadbhay/Babi123.4.jpg\n",
            "Image saved: /content/sadbhay/Babi123.3.jpg\n",
            "Image saved: /content/sadbhay/charamsukh-bidaai-ep6.jpg\n",
            "Image saved: /content/sadbhay/charamsukh-bidaai-ep5.jpg\n",
            "Image saved: /content/sadbhay/charamsukh-bidaai-ep4.jpg\n",
            "Image saved: /content/sadbhay/jhol-jhal-ep2.jpg\n",
            "Image saved: /content/sadbhay/jhol-jhal-ep1.jpg\n",
            "Image saved: /content/sadbhay/fraindly-threesom.jpg\n",
            "Image saved: /content/sadbhay/le-dana-dan.jpg\n",
            "Image saved: /content/sadbhay/MEOW-CAT.jpg\n",
            "Image saved: /content/sadbhay/faeindship-chodai.jpg\n",
            "Image saved: /content/sadbhay/Grand_Masti.jpg\n",
            "Image saved: /content/sadbhay/Deboji_Ke_Sath.jpg\n",
            "Image saved: /content/sadbhay/Personal-Secretary-Sunidhi.jpg\n",
            "Image saved: /content/sadbhay/durty-techar.jpg\n",
            "Image saved: /content/sadbhay/pyada-ep5.jpg\n",
            "Image saved: /content/sadbhay/Sultan-Part-2ep6.jpg\n",
            "Image saved: /content/sadbhay/Sultan-Part-2-ep5.jpg\n",
            "Image saved: /content/sadbhay/Sultan-Part-2epr.jpg\n",
            "Image saved: /content/sadbhay/my-hot-bipasha-ep5.jpg\n",
            "Image saved: /content/sadbhay/my-hot-bipasha-ep4.jpg\n",
            "Image saved: /content/sadbhay/my-hot-bipasha-ep3.jpg\n",
            "Image saved: /content/sadbhay/my-hot-bipasha-ep2.jpg\n",
            "Image saved: /content/sadbhay/my-hot-bipasha.jpg\n",
            "Image saved: /content/sadbhay/pyada-e04.jpg\n",
            "Image saved: /content/sadbhay/unihubycgfio.jpg\n",
            "Image saved: /content/sadbhay/khujli-2.jpg\n",
            "Image saved: /content/sadbhay/85fnuaxny8ly.jpg\n",
            "Image saved: /content/sadbhay/t375ngwjda3l.jpg\n",
            "Image saved: /content/sadbhay/khat-kabaddi2.jpg\n",
            "Image saved: /content/sadbhay/khat-kabaddi.jpg\n",
            "Image saved: /content/sadbhay/dnfvdjww5glw.jpg\n",
            "Image saved: /content/sadbhay/Paglet.2022.E03.jpg\n",
            "Image saved: /content/sadbhay/9eu85qt3735v.jpg\n",
            "Image saved: /content/sadbhay/i5iivpjkr0jl.jpg\n",
            "Image saved: /content/sadbhay/mntbe7dyrbpr.jpg\n",
            "Image saved: /content/sadbhay/e4qeyyk25rsk.jpg.webp\n",
            "Image saved: /content/sadbhay/IMG_1661449415778.jpg\n",
            "Image saved: /content/sadbhay/IMG_1661449416342.jpg\n",
            "Image saved: /content/sadbhay/Khoon-Bhari-Maang-P02-Hindi.webp\n",
            "Image saved: /content/sadbhay/IMG_1661410147178.jpg\n",
            "Image saved: /content/sadbhay/IMG_1661409382590.jpg\n",
            "Image saved: /content/sadbhay/Woodpecker_4.jpg\n",
            "Image saved: /content/sadbhay/Woodpecker_3.jpg\n",
            "Image saved: /content/sadbhay/Woodpecker_2.jpg\n",
            "Image saved: /content/sadbhay/Woodpecker_1.jpg\n",
            "Image saved: /content/sadbhay/IMG_1661338490280.jpg\n",
            "Image saved: /content/sadbhay/fantacy-teacher.webp\n",
            "Image saved: /content/sadbhay/game-or-deal.jpg\n",
            "Image saved: /content/sadbhay/IMG_1661194983329.jpg\n",
            "Image saved: /content/sadbhay/IMG_1661193243550.webp\n",
            "Image saved: /content/sadbhay/ujs2oesmyjv7.jpg\n",
            "Image saved: /content/sadbhay/Ladies-Hostel-EP-2.jpg\n",
            "Image saved: /content/sadbhay/changu-mangu.jpg\n",
            "Image saved: /content/sadbhay/7xawnf3fxk5m.jpg\n",
            "Image saved: /content/sadbhay/tte6x3xh05nq.jpg\n",
            "Image saved: /content/sadbhay/hf73o4mqb1st.jpg\n",
            "Image saved: /content/sadbhay/Sexy-Old-Granny.jpg\n",
            "Image saved: /content/sadbhay/v466kx2wg0fx.jpg\n",
            "Image saved: /content/sadbhay/sultan-part-1-ep3.jpg\n",
            "Image saved: /content/sadbhay/Sultan-part-1-ep2.jpg\n",
            "Image saved: /content/sadbhay/Sultan-part-1-ep1.jpg\n",
            "Image saved: /content/sadbhay/SUCHORITA-BHABI-MAST-SEX-.jpg\n",
            "Image saved: /content/sadbhay/7qb0ijf1ofdd.jpg\n",
            "Image saved: /content/sadbhay/072sjdc0vzgg.jpg\n",
            "Image saved: /content/sadbhay/RAJJO-DARLING.jpg\n",
            "Image saved: /content/sadbhay/woh-teacher.jpg\n",
            "Image saved: /content/sadbhay/Hot_Suchorita_Hardcore.jpg\n",
            "Image saved: /content/sadbhay/desi-gangbang.jpg\n",
            "Image saved: /content/sadbhay/Buribat.2022.E03.jpg\n",
            "Image saved: /content/sadbhay/Nashachatka.2022.E1.jpg\n",
            "Image saved: /content/sadbhay/Komal-Bhabhi-Ke-Bade-Bade-Doodh.jpg\n",
            "Image saved: /content/sadbhay/rocket-ep4.jpg\n",
            "Image saved: /content/sadbhay/rocker-ep3.jpg\n",
            "Image saved: /content/sadbhay/ding-dong-ep6.jpg\n",
            "Image saved: /content/sadbhay/ding-dong-ep5.jpg\n",
            "Image saved: /content/sadbhay/Walkman-Part-3-ep9.jpg\n",
            "Image saved: /content/sadbhay/Walkman-Part-3-ep8.jpg\n",
            "Image saved: /content/sadbhay/Walkman-Part3ep7.jpg\n",
            "Image saved: /content/sadbhay/paglet-session-2-ep3.jpg\n",
            "Image saved: /content/sadbhay/paglet-session-2-ep2.jpg\n",
            "Image saved: /content/sadbhay/paglet-session-2-ep1.jpg\n",
            "Image saved: /content/sadbhay/SHAUKEEN-BHAUJI.jpg\n",
            "Image saved: /content/sadbhay/Lela.3.jpg\n",
            "Image saved: /content/sadbhay/Laila-ep2.jpg\n",
            "Image saved: /content/sadbhay/Laila-ep1.jpg\n",
            "Image saved: /content/sadbhay/Dream-Sex-with-Dream-Girl-1.jpg\n",
            "Image saved: /content/sadbhay/big-boobs.jpg\n",
            "Image saved: /content/sadbhay/sauteli-maa.jpg\n",
            "Image saved: /content/sadbhay/Bidi.2.jpg\n",
            "Image saved: /content/sadbhay/1665584362820.jpg\n",
            "Image saved: /content/sadbhay/Step-Mother.jpg\n",
            "Image saved: /content/sadbhay/lady-finger-2ep4.jpg\n",
            "Image saved: /content/sadbhay/Lady-Finger-2-ep3.jpg\n",
            "Image saved: /content/sadbhay/Shanta-Kand.jpg\n",
            "Image saved: /content/sadbhay/morning-dsire.jpg\n",
            "Image saved: /content/sadbhay/Big-Boobs-Step-Mother.jpg\n",
            "Image saved: /content/sadbhay/bhookh-ep1.jpg\n",
            "Image saved: /content/sadbhay/garmi-e04.jpg\n",
            "Image saved: /content/sadbhay/Ladishostl.1.jpg\n",
            "Image saved: /content/sadbhay/Thpenter.2022.EP2_.jpg\n",
            "Image saved: /content/sadbhay/Big-Boobs-Bhabi-Ka-Thukai-1.jpg\n",
            "Image saved: /content/sadbhay/dirty-didike-sath.jpg\n",
            "Image saved: /content/sadbhay/KHUJLI.jpg\n",
            "Image saved: /content/sadbhay/Gidhdh-Bhoj-ep3.jpg\n",
            "Image saved: /content/sadbhay/raseele-malkin.jpg\n",
            "Image saved: /content/sadbhay/sasuri-ke-sath.jpg\n",
            "Image saved: /content/sadbhay/Dindog.4.jpg\n",
            "Image saved: /content/sadbhay/ding-dong-ep3.jpg\n",
            "Image saved: /content/sadbhay/walkman-ep-6.webp\n",
            "Image saved: /content/sadbhay/walkman-ep-5.jpg\n",
            "Image saved: /content/sadbhay/walkman-ep-4.jpg\n",
            "Image saved: /content/sadbhay/pahredaar-ep4.jpg\n",
            "Image saved: /content/sadbhay/pahredaar-ep3.jpg\n",
            "Image saved: /content/sadbhay/Ullu-Lady-Finger-P01-Hindi.webp\n",
            "Image saved: /content/sadbhay/UllU-Walkman-Part01-Hindi.webp\n",
            "Image saved: /content/sadbhay/56ocdzh2a2h9.jpg\n",
            "Image saved: /content/sadbhay/sush-bhabhi.jpg\n",
            "Image saved: /content/sadbhay/BILLO-BHABHI.jpg\n",
            "Image saved: /content/sadbhay/outdoor.jpg\n",
            "Image saved: /content/sadbhay/IMG_1664955165460.jpg\n",
            "Image saved: /content/sadbhay/IMG_1664954014293.jpg\n",
            "Image saved: /content/sadbhay/saloon-boy.jpg\n",
            "Image saved: /content/sadbhay/lady-finger-ep2.jpg\n",
            "Image saved: /content/sadbhay/lady-finger-ep1.jpg\n",
            "Image saved: /content/sadbhay/n3em0uofiwhw.jpg\n",
            "Image saved: /content/sadbhay/Sali-Gharwali-epe.jpg\n",
            "Image saved: /content/sadbhay/cxye09rg63ot.jpg\n",
            "Image saved: /content/sadbhay/hb5v1a3uojcf.jpg\n",
            "Image saved: /content/sadbhay/w5g3qvwzn23e.jpg\n",
            "Image saved: /content/sadbhay/kmrxytfmjc3l.jpg\n",
            "Image saved: /content/sadbhay/Rowdy-girls.jpg\n",
            "Image saved: /content/sadbhay/buri-baat-ep-2.jpg\n",
            "Image saved: /content/sadbhay/sali-gharwali-ep2.jpg\n",
            "Image saved: /content/sadbhay/sali-gharwali-ep1.jpg\n",
            "Image saved: /content/sadbhay/The-Painter-EP1.jpg\n",
            "Image saved: /content/sadbhay/gidgboz2.jpg\n",
            "Image saved: /content/sadbhay/309081349_1-1.jpg\n",
            "Image saved: /content/sadbhay/IMG_1664644729484.jpg\n",
            "Image saved: /content/sadbhay/despiteep2.jpg\n",
            "Image saved: /content/sadbhay/Hot-Sucharita-Bhabhi-Outdoor-fuck.jpg\n",
            "Image saved: /content/sadbhay/rocket-ep2.jpg\n",
            "Image saved: /content/sadbhay/rocket-ep1.jpg\n",
            "Image saved: /content/sadbhay/Gidhdh-Bhoj-ep1.jpg\n",
            "Image saved: /content/sadbhay/Prehedar.2.jpg\n",
            "Image saved: /content/sadbhay/pahredaar-ep1.jpg\n",
            "Image saved: /content/sadbhay/ding-dong-ep2.jpg\n",
            "Image saved: /content/sadbhay/ding-dong-ep1.jpg\n",
            "Image saved: /content/sadbhay/Walkman-Part-1ep3.jpg\n",
            "Image saved: /content/sadbhay/Walkman-Part-1ep2.jpg\n",
            "Image saved: /content/sadbhay/Walkman-Part-1ep1.jpg\n",
            "Image saved: /content/sadbhay/rangili-bahu-2.jpg\n",
            "Image saved: /content/sadbhay/4c7s8bqxg5a8.jpg\n",
            "Image saved: /content/sadbhay/Paalpayasam-ep2.jpg\n",
            "Image saved: /content/sadbhay/Paalpayasam.jpg\n",
            "Image saved: /content/sadbhay/Chole-Bhature.jpg\n",
            "Image saved: /content/sadbhay/shatir-ep2.jpg\n",
            "Image saved: /content/sadbhay/tapan-2-ep-4.jpg\n",
            "Image saved: /content/sadbhay/tapan-2-ep3.jpg\n",
            "Image saved: /content/sadbhay/THE-BITE1.jpg\n",
            "Image saved: /content/sadbhay/shahad-p2.jpg\n",
            "Image saved: /content/sadbhay/buri-baat-bhad.jpg\n",
            "Image saved: /content/sadbhay/father-attaction.jpg\n",
            "Image saved: /content/sadbhay/wife.jpg\n",
            "Image saved: /content/sadbhay/garmi-ep-3.jpg\n",
            "Image saved: /content/sadbhay/Yoga-Masterji.jpg\n",
            "Image saved: /content/sadbhay/Pregnant-Bhabhi.jpg\n",
            "Image saved: /content/sadbhay/singer.jpg\n",
            "Image saved: /content/sadbhay/bidhba-bhabhi-ke-sath.jpg\n",
            "Image saved: /content/sadbhay/tadap-ep-5.jpg\n",
            "Image saved: /content/sadbhay/tadap-ep3.jpg\n",
            "Image saved: /content/sadbhay/1663957618549-convert.io_.jpg\n",
            "Image saved: /content/sadbhay/love-in-goa-ep1.jpg\n",
            "Image saved: /content/sadbhay/danjars-date.jpg\n",
            "Image saved: /content/sadbhay/shatir-ep1.jpg\n",
            "Image saved: /content/sadbhay/pyar-ki-tadap-ep4.jpg\n",
            "Image saved: /content/sadbhay/pyar-ki-tadap-ep3.jpg\n",
            "Image saved: /content/sadbhay/Jaan-bujh-kar-3.jpg\n",
            "Image saved: /content/sadbhay/Shahad-ep4.jpg\n",
            "Image saved: /content/sadbhay/Shahad-ep3.jpg\n",
            "Image saved: /content/sadbhay/vasuep3.jpg\n",
            "Image saved: /content/sadbhay/HUNGRY-GIRLS.jpg\n",
            "Image saved: /content/sadbhay/Raveena-3.jpg\n",
            "Image saved: /content/sadbhay/gyuuuh.jpg\n",
            "Image saved: /content/sadbhay/sahad-part-1.jpg\n",
            "Image saved: /content/sadbhay/IMG_1663832410887.jpg\n",
            "Image saved: /content/sadbhay/NAKED-DESIRE.jpg\n",
            "Image saved: /content/sadbhay/Ravina.E02.jpg\n",
            "Image saved: /content/sadbhay/raveena-1.jpg\n",
            "Image saved: /content/sadbhay/Dirty-Big-Boobs.jpg\n",
            "Image saved: /content/sadbhay/Pool-Me-Nahate-Hui-sex.jpg\n",
            "Image saved: /content/sadbhay/Dost-Ke-Sath-Bibi-Ko-Chudai-Ka-Masti.jpg\n",
            "Image saved: /content/sadbhay/tapan-episode-2.jpg\n",
            "Image saved: /content/sadbhay/tapan-episode-1.jpg\n",
            "Image saved: /content/sadbhay/Rangeeli-Bahu.jpg\n",
            "Image saved: /content/sadbhay/Unfair-love.jpg\n",
            "Image saved: /content/sadbhay/sardaar.jpg\n",
            "Image saved: /content/sadbhay/Fridge-Mechanics.jpg\n",
            "Image saved: /content/sadbhay/lt8bb7ibqgzb.jpg\n",
            "Image saved: /content/sadbhay/9-convert.io-3.jpg\n",
            "Image saved: /content/sadbhay/z65trczm83b4.jpg\n",
            "Image saved: /content/sadbhay/n0jpq7rfjhjx.jpg\n",
            "Image saved: /content/sadbhay/IMG_1663472896202.jpg\n",
            "Image saved: /content/sadbhay/b4t2md667ub1.jpg\n",
            "Image saved: /content/sadbhay/kyonnm2.jpg\n",
            "Image saved: /content/sadbhay/IMG_1663388740859.jpg\n",
            "Image saved: /content/sadbhay/WILD-SIDE.jpg\n",
            "Image saved: /content/sadbhay/KAVITA-UNCUT.jpg\n",
            "Image saved: /content/sadbhay/Pyar-Ki-Tadap-Ep-2.jpg\n",
            "Image saved: /content/sadbhay/Pyar-Ki-Tadap-Ep-1.jpg\n",
            "Image saved: /content/sadbhay/Dangerous-Date-2.jpg\n",
            "Image saved: /content/sadbhay/IMG_1663316251137.jpg\n",
            "Image saved: /content/sadbhay/Tadap.ep2_.jpg\n",
            "Image saved: /content/sadbhay/Tadap.ep1_.jpg\n",
            "Image saved: /content/sadbhay/IMG_1663301509409.jpg\n",
            "Image saved: /content/sadbhay/63231fc5f3bdf00bd8a06ff6.jpeg-convert.io-1.jpg\n",
            "Image saved: /content/sadbhay/6323198eb5cc5f0bd86c5870.jpeg-convert.io_.jpg\n",
            "Image saved: /content/sadbhay/87fvf38nhz99.jpg\n",
            "Image saved: /content/sadbhay/5q6n20g4wo34.jpg\n",
            "Image saved: /content/sadbhay/Screenshot_20220915-223826_1-convert.io_.jpg\n",
            "Image saved: /content/sadbhay/fkd86766isxk.jpg\n",
            "Image saved: /content/sadbhay/vb11065d1psc.jpg\n",
            "Image saved: /content/sadbhay/o5c6uqxwi6gl.jpg\n",
            "Image saved: /content/sadbhay/Bhai-ne-Sauteli-Bahan-ko-Choda.jpg\n",
            "Image saved: /content/sadbhay/IMG_1663242580299.webp\n",
            "Image saved: /content/sadbhay/Samne-Wali-Khidki-–-Part-2.jpg\n",
            "Image saved: /content/sadbhay/dirty-mind-ep1.jpg\n",
            "Image saved: /content/sadbhay/IMG_1663137844669.jpg\n",
            "Image saved: /content/sadbhay/Desi-Gang-Masti.jpg\n",
            "Image saved: /content/sadbhay/jija-fuck-hot-sali.jpg\n",
            "Image saved: /content/sadbhay/1onephaopyki.jpg\n",
            "Image saved: /content/sadbhay/IMG_1663008657541.jpg\n",
            "Image saved: /content/sadbhay/IMG_1663008658134.jpg\n",
            "Image saved: /content/sadbhay/IMG_1663007528559.webp\n",
            "Image saved: /content/sadbhay/Desi-Dirty-Girl-Fucked.jpg\n",
            "Image saved: /content/sadbhay/IMG_1663003704620.jpg\n",
            "Image saved: /content/sadbhay/sasur-ji.jpg\n",
            "Image saved: /content/sadbhay/yoga-class.jpg\n",
            "Image saved: /content/sadbhay/IMG_1662963257715.jpg\n",
            "Image saved: /content/sadbhay/IMG_1662906998414.jpg\n",
            "Image saved: /content/sadbhay/chor.jpg\n",
            "Image saved: /content/sadbhay/Sabji_wala.jpg\n",
            "Image saved: /content/sadbhay/IMG_1662800886820.jpg\n",
            "Image saved: /content/sadbhay/ybi1lj80suvy.jpg\n",
            "Image saved: /content/sadbhay/2e89b53e9e461254d0515d3b67b638f4-convert.io_.jpg\n",
            "Image saved: /content/sadbhay/IMG_20220909_220717.jpg\n",
            "Image saved: /content/sadbhay/22090913391509-convert.io-3.jpg\n",
            "Image saved: /content/sadbhay/8926da1b3899ff86481fe01a4f4417b7-convert.io_.jpg\n",
            "Image saved: /content/sadbhay/Khat-Kabbadi-Barkha-ep5.jpg\n",
            "Image saved: /content/sadbhay/innocent-bhabhi.jpg\n",
            "Image saved: /content/sadbhay/Yessma.jpg\n",
            "Image saved: /content/sadbhay/kw3iqsqda598.jpg\n",
            "Image saved: /content/sadbhay/IMG_1662673471955.jpg\n",
            "Image saved: /content/sadbhay/IMG_1662673472526.jpg\n",
            "Image saved: /content/sadbhay/IMG_1662673473096.jpg\n",
            "Image saved: /content/sadbhay/IMG_1662615566118.webp\n",
            "Image saved: /content/sadbhay/IMG_1662559771841.jpg\n",
            "Image saved: /content/sadbhay/IMG_1662525365863.jpg\n",
            "Image saved: /content/sadbhay/IMG_1662523422792.jpg\n",
            "Image saved: /content/sadbhay/IMG_1662464751684.jpg\n",
            "Image saved: /content/sadbhay/wsr2b1kpglbx.jpg\n",
            "Image saved: /content/sadbhay/IMG_1662402874033.jpg\n",
            "Image saved: /content/sadbhay/IMG_1662402874615.jpg\n",
            "Image saved: /content/sadbhay/zf5x7reogbq6.jpg\n",
            "Image saved: /content/sadbhay/hfev1ycgz6zg.jpg\n",
            "Image saved: /content/sadbhay/IMG_1662399286497.jpg\n",
            "Image saved: /content/sadbhay/yltnhoa4ohnl.jpg\n",
            "Image saved: /content/sadbhay/Siskiyaan-P01-Hindi.webp\n",
            "Image saved: /content/sadbhay/alone.jpg\n",
            "Image saved: /content/sadbhay/Family-Hardcore-Group-sex.jpg\n",
            "Image saved: /content/sadbhay/girlfrinds-sex.jpg\n",
            "Image saved: /content/sadbhay/mfm9s5bqpyeq.jpg\n",
            "Image saved: /content/sadbhay/IMG_1662262621707.jpg\n",
            "Image saved: /content/sadbhay/IMG_1662262622274.jpg\n",
            "Image saved: /content/sadbhay/IMG_1662262622846.jpg\n",
            "Image saved: /content/sadbhay/nc6k96ri199e.jpg\n",
            "Image saved: /content/sadbhay/IMG_1662185111230.jpg\n",
            "Image saved: /content/sadbhay/IMG_1662134896730.webp\n",
            "Image saved: /content/sadbhay/IMG_1662134151687.jpg\n",
            "Image saved: /content/sadbhay/f4yjwriyn5hn.jpg\n",
            "Image saved: /content/sadbhay/suhagraat-sex-with-virgin.jpg\n",
            "Image saved: /content/sadbhay/IMG_1662124779283.jpg\n",
            "Image saved: /content/sadbhay/IMG_1662124797513.jpg\n",
            "Image saved: /content/sadbhay/khat-kabbadi3.jpg\n",
            "Image saved: /content/sadbhay/khat-kabbadiep3.jpg\n",
            "Image saved: /content/sadbhay/IMG_1662053667313.jpg\n",
            "Image saved: /content/sadbhay/IMG_1662053667901.jpg\n",
            "Image saved: /content/sadbhay/IMG_1662053668474.jpg\n",
            "Image saved: /content/sadbhay/IMG_1662006315818-2.jpg\n",
            "Image saved: /content/sadbhay/IMG_1661953431932.jpg\n",
            "Image saved: /content/sadbhay/IMG_1661953432480.jpg\n",
            "Image saved: /content/sadbhay/IMG_1661953433033.jpg\n",
            "Image saved: /content/sadbhay/IMG_1661952356556.jpg\n",
            "Image saved: /content/sadbhay/Dhokha-A-Lust-Story-ep2.jpg\n",
            "Image saved: /content/sadbhay/IMG_1661879696916.jpg\n",
            "Image saved: /content/sadbhay/39c6ct5qg2p4.jpg\n",
            "Image saved: /content/sadbhay/light-off-hotty-naughty.jpg\n",
            "Image saved: /content/sadbhay/IMG_1661796369414.jpg\n",
            "Image saved: /content/sadbhay/IMG_1661796369983.jpg\n",
            "Image saved: /content/sadbhay/IMG_1661796370555.jpg\n",
            "Image saved: /content/sadbhay/IMG_1661700048013.jpg\n",
            "Image saved: /content/sadbhay/IMG_1661670550899.jpg\n",
            "Image saved: /content/sadbhay/IMG_1661670551446.jpg\n",
            "Image saved: /content/sadbhay/courtship.png\n",
            "Image saved: /content/sadbhay/mini-madhu.jpg\n",
            "Image saved: /content/sadbhay/IMG_1661605345718.jpg\n",
            "Image saved: /content/sadbhay/g2iy2x16o0qp.jpg\n",
            "Image saved: /content/sadbhay/IMG_1661536365365.jpg\n",
            "Image saved: /content/sadbhay/IMG_1661534765693.jpg\n",
            "Image saved: /content/sadbhay/IMG_1661533612148.jpg\n",
            "Image saved: /content/sadbhay/IMG_1661532849591.jpg\n",
            "Image saved: /content/sadbhay/85fnuaxny8ly.jpg\n",
            "Image saved: /content/sadbhay/t375ngwjda3l.jpg\n",
            "Image saved: /content/sadbhay/khat-kabaddi2.jpg\n",
            "Image saved: /content/sadbhay/khat-kabaddi.jpg\n",
            "Image saved: /content/sadbhay/dnfvdjww5glw.jpg\n",
            "Image saved: /content/sadbhay/Paglet.2022.E03.jpg\n",
            "Image saved: /content/sadbhay/9eu85qt3735v.jpg\n",
            "Image saved: /content/sadbhay/i5iivpjkr0jl.jpg\n",
            "Image saved: /content/sadbhay/mntbe7dyrbpr.jpg\n",
            "Image saved: /content/sadbhay/e4qeyyk25rsk.jpg.webp\n",
            "Image saved: /content/sadbhay/IMG_1661449415778.jpg\n",
            "Image saved: /content/sadbhay/IMG_1661449416342.jpg\n",
            "Image saved: /content/sadbhay/Khoon-Bhari-Maang-P02-Hindi.webp\n",
            "Image saved: /content/sadbhay/IMG_1661410147178.jpg\n",
            "Image saved: /content/sadbhay/IMG_1661409382590.jpg\n",
            "Image saved: /content/sadbhay/Woodpecker_4.jpg\n",
            "Image saved: /content/sadbhay/Woodpecker_3.jpg\n",
            "Image saved: /content/sadbhay/Woodpecker_2.jpg\n",
            "Image saved: /content/sadbhay/Woodpecker_1.jpg\n",
            "Image saved: /content/sadbhay/IMG_1661338490280.jpg\n",
            "Image saved: /content/sadbhay/fantacy-teacher.webp\n",
            "Image saved: /content/sadbhay/game-or-deal.jpg\n",
            "Image saved: /content/sadbhay/IMG_1661194983329.jpg\n",
            "Image saved: /content/sadbhay/IMG_1661193243550.webp\n",
            "Image saved: /content/sadbhay/IMG_1661192817079.webp\n",
            "Image saved: /content/sadbhay/IMG_1661192333033.webp\n",
            "Image saved: /content/sadbhay/IMG_1661181276340.jpg\n",
            "Image saved: /content/sadbhay/IMG_1661169749606.jpg\n",
            "Image saved: /content/sadbhay/IMG_1661140849351.jpg\n",
            "Image saved: /content/sadbhay/AAaMjcCLRn.jpg\n",
            "Image saved: /content/sadbhay/chakhna.jpg\n",
            "Image saved: /content/sadbhay/IMG_1661015948879.jpg\n",
            "Image saved: /content/sadbhay/IMG_1660976574591.jpg\n",
            "Image saved: /content/sadbhay/IMG_1660973449189.jpg\n",
            "Image saved: /content/sadbhay/IMG_1660973449737.jpg\n",
            "Image saved: /content/sadbhay/IMG_1660973450301.jpg\n",
            "Image saved: /content/sadbhay/IMG_1660932446555.webp\n",
            "Image saved: /content/sadbhay/adla-badli3.jpg\n",
            "Image saved: /content/sadbhay/jt461f0tfx04.jpg\n",
            "Image saved: /content/sadbhay/IMG_1660888322403.jpg\n",
            "Image saved: /content/sadbhay/IMG_1660887203939.jpg\n",
            "Image saved: /content/sadbhay/IMG_1660882889731.jpg\n",
            "Image saved: /content/sadbhay/IMG_1660882890268.jpg\n",
            "Image saved: /content/sadbhay/JaanBujKar_2.jpg\n",
            "Image saved: /content/sadbhay/JaanBujKar_1.jpg\n",
            "Image saved: /content/sadbhay/IMG_1660845378917.jpg\n",
            "Image saved: /content/sadbhay/IMG_1660845379446.jpg\n",
            "Image saved: /content/sadbhay/Two-Beautiful-Girls.jpg\n",
            "Image saved: /content/sadbhay/Wife-Exchange.webp\n",
            "Image saved: /content/sadbhay/IMG_1660798477662.jpg\n",
            "Image saved: /content/sadbhay/XSUTRA-EP3.jpg\n",
            "Image saved: /content/sadbhay/XSUTRA-EP2.jpg\n",
            "Image saved: /content/sadbhay/xsutra1.jpg\n",
            "Image saved: /content/sadbhay/IMG_1660744464602.webp\n",
            "Image saved: /content/sadbhay/lootera.jpg\n",
            "Image saved: /content/sadbhay/malkin-bhabhi3.jpg\n",
            "Image saved: /content/sadbhay/2kgguztredag-1.jpg\n",
            "Image saved: /content/sadbhay/IMG_1660671515345.webp\n",
            "Image saved: /content/sadbhay/IMG_1660651632665.jpg\n",
            "Image saved: /content/sadbhay/malkin-bhabhi2.jpg\n",
            "Image saved: /content/sadbhay/IMG_1660618676842.jpg\n",
            "Image saved: /content/sadbhay/khoon-bhari-maang-4.jpg\n",
            "Image saved: /content/sadbhay/khoon-bhari-maang-3.jpg\n",
            "Image saved: /content/sadbhay/khoon-bhari-maang-2.jpg\n",
            "Image saved: /content/sadbhay/khoon-bhari-maang-1.jpg\n",
            "Image saved: /content/sadbhay/kp08jgert8o9.jpg\n",
            "Image saved: /content/sadbhay/IMG_1660561383634.jpg\n",
            "Image saved: /content/sadbhay/Manchli.2.jpg\n",
            "Image saved: /content/sadbhay/Manchli.1.jpg\n",
            "Image saved: /content/sadbhay/Saheli.Raven-Moives_2.jpg\n",
            "Image saved: /content/sadbhay/Saheli.Raven-Moives-1.jpg\n",
            "Image saved: /content/sadbhay/IMG_1660547948599.jpg\n",
            "Image saved: /content/sadbhay/IMG_1660547567159.jpg\n",
            "Image saved: /content/sadbhay/IMG_1660544890223.jpg\n",
            "Image saved: /content/sadbhay/IMG_1660543801781.jpg\n",
            "Image saved: /content/sadbhay/qma0a2dpq01w.jpg\n",
            "Image saved: /content/sadbhay/king-and-queen-romance.jpg\n",
            "Image saved: /content/sadbhay/bathtub.jpg\n",
            "Image saved: /content/sadbhay/okgtvoql2ael.jpg\n",
            "Image saved: /content/sadbhay/IMG_1660474648270.jpg\n",
            "Image saved: /content/sadbhay/vlcsnap-2021-06-22-12h52m32s881.jpg\n",
            "Image saved: /content/sadbhay/docter.jpg\n",
            "Image saved: /content/sadbhay/desi-bhabhi-going.jpg\n",
            "Image saved: /content/sadbhay/22081316331208-convert.io-3.webp\n",
            "Image saved: /content/sadbhay/IMG_1660408736106.jpg\n",
            "Image saved: /content/sadbhay/IMG_1660407962849.jpg\n",
            "Image saved: /content/sadbhay/IMG_1660407559436.jpg\n",
            "Image saved: /content/sadbhay/Chawl-House-3.webp\n",
            "Image saved: /content/sadbhay/IMG_1660367654960.jpg\n",
            "Image saved: /content/sadbhay/khv16jpgrgbk.jpg\n",
            "Image saved: /content/sadbhay/IMG_1660327844076.jpg\n",
            "Image saved: /content/sadbhay/IMG_1660303975184.jpg\n",
            "Image saved: /content/sadbhay/IMG_1660295761684.jpg\n",
            "Image saved: /content/sadbhay/IMG_1660295023488.jpg\n",
            "Image saved: /content/sadbhay/IMG_1660240442211.webp\n",
            "Image saved: /content/sadbhay/IMG_1660240441316.webp\n",
            "Image saved: /content/sadbhay/IMG_1660240443053.webp\n",
            "Image saved: /content/sadbhay/fp386tcz08we.jpg\n",
            "Image saved: /content/sadbhay/love-making-xprime.jpg\n",
            "Image saved: /content/sadbhay/Three-Girls-Enjoy-Foursome-sex.jpg\n",
            "Image saved: /content/sadbhay/IMG_1660222868039.jpg\n",
            "Image saved: /content/sadbhay/Hot-Story.jpg\n",
            "Image saved: /content/sadbhay/IMG_1660209766422.jpg\n",
            "Image saved: /content/sadbhay/IMG_1660127758486.jpg\n",
            "Image saved: /content/sadbhay/aix9mqxlbuvf.jpg\n",
            "Image saved: /content/sadbhay/yarana-Tina-Nandi.jpg\n",
            "Image saved: /content/sadbhay/Call_Boy_ep_1.jpg\n",
            "Image saved: /content/sadbhay/Stepmom-Fucks.jpg\n",
            "Image saved: /content/sadbhay/bdsm.jpg\n",
            "Image saved: /content/sadbhay/IMG_1660048331889.jpg\n",
            "Image saved: /content/sadbhay/IMG_1659983979278.webp\n",
            "Image saved: /content/sadbhay/IMG_1659983980206.webp\n",
            "Image saved: /content/sadbhay/Kalawati.webp\n",
            "Image saved: /content/sadbhay/5nx1l1bc7ilr.jpg\n",
            "Image saved: /content/sadbhay/IMG_1659946059775.jpg\n",
            "Image saved: /content/sadbhay/IMG_1659946059227.jpg\n",
            "Image saved: /content/sadbhay/siskiyaan-convert.io_.jpg\n",
            "Image saved: /content/sadbhay/IMG_1659863469555.jpg\n",
            "Image saved: /content/sadbhay/IMG_1659805607084.webp\n",
            "Image saved: /content/sadbhay/y15rnracazpv.jpg\n",
            "Image saved: /content/sadbhay/Simran-with-a-Horny-Man.webp\n",
            "Image saved: /content/sadbhay/w02j77po38ux.jpg\n",
            "Image saved: /content/sadbhay/IMG_1659803048509.jpg\n",
            "Image saved: /content/sadbhay/IMG_1659803183642.jpg\n",
            "Image saved: /content/sadbhay/Happy-Birthday-Special.jpg\n",
            "Image saved: /content/sadbhay/IMG_1659780079882.jpg\n",
            "Image saved: /content/sadbhay/waterfall.jpg\n",
            "Image saved: /content/sadbhay/couple-fuck-mount.jpg\n",
            "Image saved: /content/sadbhay/298216432_67731b97a2b044f31bc7dbe780770a74.jpg\n",
            "Image saved: /content/sadbhay/b05vt5vly31g.jpg\n",
            "Image saved: /content/sadbhay/FIRM-HOUSE.jpg\n",
            "Image saved: /content/sadbhay/gbyb0dtia26n.jpg\n",
            "Image saved: /content/sadbhay/og28idsw1p0q.jpg\n",
            "Image saved: /content/sadbhay/n3357vkh9cdj.jpg\n",
            "Image saved: /content/sadbhay/Shaukeen-uncule.webp\n",
            "Image saved: /content/sadbhay/Jalebi-ep5.jpg\n",
            "Image saved: /content/sadbhay/Jalebi-ep4.jpg\n",
            "Image saved: /content/sadbhay/Jalebi-ep3.jpg\n",
            "Image saved: /content/sadbhay/Tina-Ka-Bathroom-Sex.jpg\n",
            "Image saved: /content/sadbhay/IMG_1659677629218.jpg\n",
            "Image saved: /content/sadbhay/IMG_1659638345964.webp\n",
            "Image saved: /content/sadbhay/Siskiyaan-1-min.jpg\n",
            "Image saved: /content/sadbhay/Shaukeen-uncule.webp\n",
            "Image saved: /content/sadbhay/Tawa-Garam.webp\n",
            "Image saved: /content/sadbhay/OUTDOOR-THREESOME.webp\n",
            "Image saved: /content/sadbhay/IMG_1659546133270.webp\n",
            "Image saved: /content/sadbhay/297789601_1588-3.jpg\n",
            "Image saved: /content/sadbhay/jungle.jpg\n",
            "Image saved: /content/sadbhay/Bengali-hot-bhabhi.webp\n",
            "Image saved: /content/sadbhay/p4x5498cgbqr.jpg\n",
            "Image saved: /content/sadbhay/Kamar-Tod.webp\n",
            "Image saved: /content/sadbhay/IMG_1659380838868.webp\n",
            "Image saved: /content/sadbhay/IMG_1659380365432.webp\n",
            "Image saved: /content/sadbhay/Hidden-Relationship-2.webp\n",
            "Image saved: /content/sadbhay/Hidden-Relationship-1.webp\n",
            "Image saved: /content/sadbhay/Friendship-Day-Sex.jpg\n",
            "Image saved: /content/sadbhay/IMG_1659286389099.webp\n",
            "Image saved: /content/sadbhay/IMG_1659278912502.jpg\n",
            "Image saved: /content/sadbhay/chhal-ek-aasha.jpg\n",
            "Image saved: /content/sadbhay/stepmom.jpg\n",
            "Image saved: /content/sadbhay/Hotel-Manager-Riya.webp\n",
            "Image saved: /content/sadbhay/297113604_b1578-10.jpg\n",
            "Image saved: /content/sadbhay/297113578_b1578-4.jpg\n",
            "Image saved: /content/sadbhay/297114198_0-8.jpg\n",
            "Image saved: /content/sadbhay/d280wqrp1ye2.jpg\n",
            "Image saved: /content/sadbhay/t8ge9qrlcbvu.jpg\n",
            "Image saved: /content/sadbhay/IMG_1659148081616.jpg\n",
            "Image saved: /content/sadbhay/IMG_1659113429408.jpg\n",
            "Image saved: /content/sadbhay/dbmg2bgdjiph.jpg\n",
            "Image saved: /content/sadbhay/IMG_1659111158257.jpg\n",
            "Image saved: /content/sadbhay/296944801_8572470c02f6d7dc97c21fe4f997637c.jpg\n",
            "Image saved: /content/sadbhay/1-10.jpg\n",
            "Image saved: /content/sadbhay/2-11.jpg\n",
            "Image saved: /content/sadbhay/3-6-1.jpg\n",
            "Image saved: /content/sadbhay/Aagosh-Triflicks.jpg\n",
            "Image saved: /content/sadbhay/IMG_1659036957297.jpg\n",
            "Image saved: /content/sadbhay/IMG_1659034340708.jpg\n",
            "Image saved: /content/sadbhay/IMG_1659034340152.jpg\n",
            "Image saved: /content/sadbhay/IMG_1659008912244.jpg\n",
            "Image saved: /content/sadbhay/Gali-Mein-Aaj-Chand-Nikla.webp\n",
            "Image saved: /content/sadbhay/Tauba-Tauba-4.jpg\n",
            "Image saved: /content/sadbhay/nalayak-e03.jpg\n",
            "Image saved: /content/sadbhay/wtoxb3be1btb.jpg\n",
            "Image saved: /content/sadbhay/Dirty-Aunty-Fucks-Courier-Boy.jpg\n",
            "Image saved: /content/sadbhay/nauraki.jpg\n",
            "Image saved: /content/sadbhay/5jnerkr4ux3u.jpg\n",
            "Image saved: /content/sadbhay/IMG_1658818569529.jpg\n",
            "Image saved: /content/sadbhay/IMG_1658774317629.jpg\n",
            "Image saved: /content/sadbhay/IMG_1658774318155.jpg\n",
            "Image saved: /content/sadbhay/c7ewqg3ndzlr.jpg\n",
            "Image saved: /content/sadbhay/zehww5udeio4.jpg\n",
            "Image saved: /content/sadbhay/IMG_1658769755514.webp\n",
            "Image saved: /content/sadbhay/CANDY-SHOT.jpg\n",
            "Image saved: /content/sadbhay/Leoni.jpg\n",
            "Image saved: /content/sadbhay/chu-chor.jpg\n",
            "Image saved: /content/sadbhay/horny-doctor-riya.jpg\n",
            "Image saved: /content/sadbhay/Totka-2-1.webp\n",
            "Image saved: /content/sadbhay/Totka-1-1.webp\n",
            "Image saved: /content/sadbhay/Horseprime.jpg\n",
            "Image saved: /content/sadbhay/IMG_1658685410602.jpg\n",
            "Image saved: /content/sadbhay/qxfverqwkxy8.jpg\n",
            "Image saved: /content/sadbhay/jtwddsf5l7dw.jpg\n",
            "Image saved: /content/sadbhay/IMG_1658595613293.webp\n",
            "Image saved: /content/sadbhay/IMG_1658594566185.webp\n",
            "Image saved: /content/sadbhay/photographar4.jpg\n",
            "Image saved: /content/sadbhay/IMG_1658577439829.jpg\n",
            "Image saved: /content/sadbhay/photographar2.jpg\n",
            "Image saved: /content/sadbhay/photographar1.jpg\n",
            "Image saved: /content/sadbhay/3w739i97onoh.jpg\n",
            "Image saved: /content/sadbhay/IMG_1658513001419.jpg\n",
            "Image saved: /content/sadbhay/qwc114k1ifni.jpg\n",
            "Image saved: /content/sadbhay/IMG_1658512135332.jpg\n",
            "Image saved: /content/sadbhay/IMG_1658494039048.jpg\n",
            "Image saved: /content/sadbhay/IMG_1658494038501.jpg\n",
            "Image saved: /content/sadbhay/suchitra-best-fraind.jpg\n",
            "Image saved: /content/sadbhay/IMG_1658484528090.jpg\n",
            "Image saved: /content/sadbhay/IMG_1658472353189.jpg\n",
            "Image saved: /content/sadbhay/IMG_1658461994880.jpg\n",
            "Image saved: /content/sadbhay/IMG_1658430473803.jpg\n",
            "Image saved: /content/sadbhay/IMG_1658429599997.jpg\n",
            "Image saved: /content/sadbhay/IMG_1658426888935.jpg\n",
            "Image saved: /content/sadbhay/bsik6x60gmbt.jpg\n",
            "Image saved: /content/sadbhay/xrew73w99e03.jpg\n",
            "Image saved: /content/sadbhay/IMG_1658406206753.jpg\n",
            "Image saved: /content/sadbhay/Tauba-Tauba.webp\n",
            "Image saved: /content/sadbhay/IMG_1658398798927.jpg\n",
            "Image saved: /content/sadbhay/IMG_1658335026453.jpg\n",
            "Image saved: /content/sadbhay/Mohini-Bhabhi-2.webp\n",
            "Image saved: /content/sadbhay/Mohini-Bhabhi-1.webp\n",
            "Image saved: /content/sadbhay/IMG_1658322456300.jpg\n",
            "Image saved: /content/sadbhay/IMG_1658318384718.jpg\n",
            "Image saved: /content/sadbhay/Bekar-Ghar-Jamai.jpg\n",
            "Image saved: /content/sadbhay/IMG_1658242122541.jpg\n",
            "Image saved: /content/sadbhay/Hot-Desire.jpg\n",
            "Image saved: /content/sadbhay/h66.jpg\n",
            "Image saved: /content/sadbhay/IMG_1658170722769.jpg\n",
            "Image saved: /content/sadbhay/IMG_1658170232748.jpg\n",
            "Image saved: /content/sadbhay/wmun4z90fval.jpg\n",
            "Image saved: /content/sadbhay/vlcsnap-2021-04-14-21h30m04s199.jpg\n",
            "Image saved: /content/sadbhay/vlcsnap-2021-04-14-21h02m50s858.jpg\n",
            "Image saved: /content/sadbhay/IMG_1658131028071.jpg\n",
            "Image saved: /content/sadbhay/Sursuri-Li-P03.webp\n",
            "Image saved: /content/sadbhay/n7jauxqan8kn.jpg\n",
            "Image saved: /content/sadbhay/Desi-Girl-Priya-Gangbang.jpg\n",
            "Image saved: /content/sadbhay/Sauteli-Didi-Ke-Sath-Sex.jpg\n",
            "Image saved: /content/sadbhay/fuck-pussy.jpg\n",
            "Image saved: /content/sadbhay/Dirty-Parosi-Ki-Bhabhi-bindastimes.jpg\n",
            "Image saved: /content/sadbhay/pbynby0cp3k7.jpg\n",
            "Image saved: /content/sadbhay/IMG_1658038763562.jpg\n",
            "Image saved: /content/sadbhay/IMG_1658037671216.jpg\n",
            "Image saved: /content/sadbhay/Dirty-Step-Sister-XtraMood.jpg\n",
            "Image saved: /content/sadbhay/ep33.jpg\n",
            "Image saved: /content/sadbhay/ep22.jpg\n",
            "Image saved: /content/sadbhay/hot-med1.jpg\n",
            "Image saved: /content/sadbhay/Cheat-Dunki-ep2.jpg\n",
            "Image saved: /content/sadbhay/IMG_1657973961367.jpg\n",
            "Image saved: /content/sadbhay/HSB.jpg\n",
            "Image saved: /content/sadbhay/Totka-2.webp\n",
            "Image saved: /content/sadbhay/Totka-1.webp\n",
            "Image saved: /content/sadbhay/1st-Dating-Day.webp\n",
            "Image saved: /content/sadbhay/school-girl-uncut.webp\n",
            "Image saved: /content/sadbhay/IMG_1657890324660.jpg\n",
            "Image saved: /content/sadbhay/vkybyyx40ut2.jpg\n",
            "Image saved: /content/sadbhay/IMG_1652499503118.webp\n",
            "Image saved: /content/sadbhay/Sursuri-Li-12.jpg\n",
            "Image saved: /content/sadbhay/Sursuri-Li-11.jpg\n",
            "Image saved: /content/sadbhay/Sursuri-Li-10.jpg\n",
            "Image saved: /content/sadbhay/Sursuri-Li-9.jpg\n",
            "Image saved: /content/sadbhay/IMG_1657793154338.jpg\n",
            "Image saved: /content/sadbhay/Sursuri-Li-P02.webp\n",
            "Image saved: /content/sadbhay/IMG_1657784731796.jpg\n",
            "Image saved: /content/sadbhay/IMG_1657780812523.jpg\n",
            "Image saved: /content/sadbhay/IMG_1657733238836.jpg\n",
            "Image saved: /content/sadbhay/Wife-Swap.jpg\n",
            "Image saved: /content/sadbhay/p.txt.jpg\n",
            "Image saved: /content/sadbhay/IMG_1657683506917.jpg\n",
            "Image saved: /content/sadbhay/Naukar-Ne-Malkin-Ko-Chod-Diya.jpg\n",
            "Image saved: /content/sadbhay/IMG_1657626628333.jpg\n",
            "Image saved: /content/sadbhay/IMG_1657600967428.jpg\n",
            "Image saved: /content/sadbhay/IMG_1657589695342.jpg\n",
            "Image saved: /content/sadbhay/IMG_1657565112816-1.jpg\n",
            "Image saved: /content/sadbhay/IMG_1657561834656.jpg\n",
            "Image saved: /content/sadbhay/Favrtischrter8.jpg\n",
            "Image saved: /content/sadbhay/4444-1.png\n",
            "Image saved: /content/sadbhay/Sexy-Rubi1.webp\n",
            "Image saved: /content/sadbhay/sex-rubi-uncut.webp\n",
            "Image saved: /content/sadbhay/choco-1.jpg\n",
            "Image saved: /content/sadbhay/Dirty-Girl-Sraboni.jpg\n",
            "Image saved: /content/sadbhay/Bebo.Dirty_.Bhabhi.jpg\n",
            "Image saved: /content/sadbhay/23523.jpg\n",
            "Image saved: /content/sadbhay/IMG_1657519911715.jpg\n",
            "Image saved: /content/sadbhay/shilajit-ep2.jpg\n",
            "Image saved: /content/sadbhay/Prime-Shots.jpg\n",
            "Image saved: /content/sadbhay/Honeymoon-Sex-.webp\n",
            "Image saved: /content/sadbhay/IMG_1657474950783.jpg\n",
            "Image saved: /content/sadbhay/Rich-Boy.webp\n",
            "Image saved: /content/sadbhay/choodiwala-hindi.webp\n",
            "Image saved: /content/sadbhay/IMG_1657389272475.jpg\n",
            "Image saved: /content/sadbhay/vlcsnap-2021-06-13-11h25m07s177.jpg\n",
            "Image saved: /content/sadbhay/OOUCH.webp\n",
            "Image saved: /content/sadbhay/IMG_1657380390196.jpg\n",
            "Image saved: /content/sadbhay/IMG_1657375444737.jpg\n",
            "Image saved: /content/sadbhay/IMG_1657374999302.jpg\n",
            "Image saved: /content/sadbhay/d267150.jpg\n",
            "Image saved: /content/sadbhay/IMG_1657301407531.jpg\n",
            "Image saved: /content/sadbhay/IMG_1657301408077.jpg\n",
            "Image saved: /content/sadbhay/IMG_1657297827818.jpg\n",
            "Image saved: /content/sadbhay/k5tr7lg71e1o.jpg\n",
            "Image saved: /content/sadbhay/efxcuulo2f4q.jpg\n",
            "Image saved: /content/sadbhay/IMG_1657220903483.jpg\n",
            "Image saved: /content/sadbhay/IMG_1657220904038.jpg\n",
            "Image saved: /content/sadbhay/IMG_1657220904606.jpg\n",
            "Image saved: /content/sadbhay/IMG_1657220905207.jpg\n",
            "Image saved: /content/sadbhay/IMG_1657216996853.webp\n",
            "Image saved: /content/sadbhay/IMG_1657208906985.jpg\n",
            "Image saved: /content/sadbhay/IMG_1657207237194.jpg\n",
            "Image saved: /content/sadbhay/IMG_1657206735223.jpg\n",
            "Image saved: /content/sadbhay/Sursuri-Li-P01.webp\n",
            "Image saved: /content/sadbhay/Sraboni-Party-Nights.jpg\n",
            "Image saved: /content/sadbhay/Three-Lady-Gang.webp\n",
            "Image saved: /content/sadbhay/IMG_1650534251108.jpg\n",
            "Image saved: /content/sadbhay/IMG_1650533700953.jpg\n",
            "Image saved: /content/sadbhay/IMG_1650532998418.jpg\n",
            "Image saved: /content/sadbhay/IMG_1650532425593.jpg\n",
            "Image saved: /content/sadbhay/IMG_1650531673970.jpg\n",
            "Image saved: /content/sadbhay/IMG_1650530966802.jpg\n",
            "Image saved: /content/sadbhay/IMG_1650530083394.jpg\n",
            "Image saved: /content/sadbhay/IMG_1650440992806.jpg\n",
            "Image saved: /content/sadbhay/IMG_1650440401605.jpg\n",
            "Image saved: /content/sadbhay/IMG_1650440132482.jpg\n",
            "Image saved: /content/sadbhay/IMG_1650438307638.jpg\n",
            "Image saved: /content/sadbhay/pz1-1.jpg\n",
            "Image saved: /content/sadbhay/IMG_1650386644081.jpg\n",
            "Image saved: /content/sadbhay/IMG_1650371192191.jpg\n",
            "Image saved: /content/sadbhay/IMG_1650331276485.jpg\n",
            "Image saved: /content/sadbhay/IMG_1650330618284.jpg\n",
            "Image saved: /content/sadbhay/Flat69.webp\n",
            "Image saved: /content/sadbhay/Flat69.webp\n",
            "Image saved: /content/sadbhay/IMG_1650218672773-1.jpg\n",
            "Image saved: /content/sadbhay/IMG_1650218672773-1.jpg\n",
            "Image saved: /content/sadbhay/IMG_1650129978341.jpg\n",
            "Image saved: /content/sadbhay/Jalebi-Bai-2.webp\n",
            "Image saved: /content/sadbhay/IMG_1650078871392.jpg\n",
            "Image saved: /content/sadbhay/IMG_1650075459688.jpg\n",
            "Image saved: /content/sadbhay/Naqaab.webp\n",
            "Image saved: /content/sadbhay/Dono-Pe-Bhari-1.jpg\n",
            "Image saved: /content/sadbhay/IMG_1656826823231.jpg\n",
            "Image saved: /content/sadbhay/IMG_1656787705281.jpg\n",
            "Image saved: /content/sadbhay/Desi-MILF-Teacher-fuck-Her-Student-1.jpg\n",
            "Image saved: /content/sadbhay/Paap-DreamsFilms-e1.jpg\n",
            "Image saved: /content/sadbhay/Sainyaa-Salman-ep4.jpg\n",
            "Image saved: /content/sadbhay/Sainyaa-Salman-ep3.jpg\n",
            "Image saved: /content/sadbhay/Jaal-P02.webp\n",
            "Image saved: /content/sadbhay/PUSSY-CAT.webp\n",
            "Image saved: /content/sadbhay/IMG_1656690361014.jpg\n",
            "Image saved: /content/sadbhay/vlcsnap-2021-06-23-21h18m00s379.jpg\n",
            "Image saved: /content/sadbhay/vlcsnap-2021-06-23-21h14m08s838.jpg\n",
            "Image saved: /content/sadbhay/IMG_1656688298365.jpg\n",
            "Image saved: /content/sadbhay/kiu9.webp\n",
            "Image saved: /content/sadbhay/IMG_1656615965279.jpg\n",
            "Image saved: /content/sadbhay/IMG_1656615965826.jpg\n",
            "Image saved: /content/sadbhay/IMG_1656615966426.jpg\n",
            "Image saved: /content/sadbhay/IMG_1656615967070.jpg\n",
            "Image saved: /content/sadbhay/IMG_1656609881603.jpg\n",
            "Image saved: /content/sadbhay/Jaal-P01.webp\n",
            "Image saved: /content/sadbhay/Indian-beautiful-hot-bhabhi-dance.webp\n",
            "Image saved: /content/sadbhay/Indian-beautiful-neighbor.webp\n",
            "Image saved: /content/sadbhay/Malkin-has-amazing-XXX.webp\n",
            "Image saved: /content/sadbhay/OIAY_Moment.jpg\n",
            "Image saved: /content/sadbhay/IMG_1656524547407.jpg\n",
            "Image saved: /content/sadbhay/IMG_1656523554239.jpg\n",
            "Image saved: /content/sadbhay/BIG-MILF-RECEPTIONIS.webp\n",
            "Image saved: /content/sadbhay/vlcsnap-2021-05-09-12h14m03s947.jpg\n",
            "Image saved: /content/sadbhay/IMG_1656435288916.jpg\n",
            "Image saved: /content/sadbhay/IMG_1656422780376.jpg\n",
            "Image saved: /content/sadbhay/IMG_1656407537222.jpg\n",
            "Image saved: /content/sadbhay/IMG_1656389699707.jpg\n",
            "Image saved: /content/sadbhay/Andha-Dhundh-primeshos.jpg\n",
            "Image saved: /content/sadbhay/IMG_1656356339037.jpg\n",
            "Image saved: /content/sadbhay/IMG_1656356338472.jpg\n",
            "Image saved: /content/sadbhay/IMG_1656356337905.jpg\n",
            "Image saved: /content/sadbhay/IMG_1656353140065.jpg\n",
            "Image saved: /content/sadbhay/98da99ec46308b2c446cb46bbb5f0a0e.th_.jpg\n",
            "Image saved: /content/sadbhay/IMG_1656325197811.jpg\n",
            "Image saved: /content/sadbhay/vdly2s04xfe2.jpg\n",
            "Image saved: /content/sadbhay/IMG_1656266264547.jpg\n",
            "Image saved: /content/sadbhay/IMG_1656264833783.jpg\n",
            "Image saved: /content/sadbhay/IMG_1656263954221.jpg\n",
            "Image saved: /content/sadbhay/IMG_1656246131951.webp\n",
            "Image saved: /content/sadbhay/IMG_1656245378276.jpg\n",
            "Image saved: /content/sadbhay/Girlfriend-Sex.webp\n",
            "Image saved: /content/sadbhay/IMG_1656218982719.jpg\n",
            "Image saved: /content/sadbhay/Akgg-kooku_Moment4.jpg\n",
            "Image saved: /content/sadbhay/Akgg-kooku_Moment3.jpg\n",
            "Image saved: /content/sadbhay/Akgg-kooku_Moment2.jpg\n",
            "Image saved: /content/sadbhay/Akgg-kooku_Moment1.jpg\n",
            "Image saved: /content/sadbhay/DOSTI.jpg\n",
            "Image saved: /content/sadbhay/Sainyaa-Salman-2.jpg\n",
            "Image saved: /content/sadbhay/IMG_1656092313385.jpg\n",
            "Image saved: /content/sadbhay/Devar-Bhabhi.webp\n",
            "Image saved: /content/sadbhay/IMG_1656089384979.jpg\n",
            "Image saved: /content/sadbhay/IMG_1656009570475.jpg\n",
            "Image saved: /content/sadbhay/IMG_1656009569895.jpg\n",
            "Image saved: /content/sadbhay/IMG_1656009569360.jpg\n",
            "Image saved: /content/sadbhay/Dunali-Season-2-Part-2.webp\n",
            "Image saved: /content/sadbhay/IMG_1656005063954.jpg\n",
            "Image saved: /content/sadbhay/IMG_1656003693186.webp\n",
            "Image saved: /content/sadbhay/IMG_1656002031695.webp\n",
            "Image saved: /content/sadbhay/Jhumke.webp\n",
            "Image saved: /content/sadbhay/IMG_1655915298524.webp\n",
            "Image saved: /content/sadbhay/IMG_1655910818704.webp\n",
            "Image saved: /content/sadbhay/IMG_1655891559047.jpg\n",
            "Image saved: /content/sadbhay/IMG_1655890996199.webp\n",
            "Image saved: /content/sadbhay/IMG_1655868013188.webp\n",
            "Image saved: /content/sadbhay/IMG_1655866621924.jpg\n",
            "Image saved: /content/sadbhay/f79cb8a70d145dd9aa3902c09bde3491.th_.jpg\n",
            "Image saved: /content/sadbhay/Erotic-Sexy-Girl-Sreemoi-1.jpg\n",
            "Image saved: /content/sadbhay/IMG_1655751026557.jpg\n",
            "Image saved: /content/sadbhay/IMG_1655751027102.jpg\n",
            "Image saved: /content/sadbhay/IMG_1655751027693.jpg\n",
            "Image saved: /content/sadbhay/IMG_1655749613621.webp\n",
            "Image saved: /content/sadbhay/9c197cbd6a4f641b6e0701fe2e9f86e8.png\n",
            "Image saved: /content/sadbhay/IMG_1654321453760.webp\n",
            "Image saved: /content/sadbhay/New-Boss-Shemale-2021-UncutAdda_Moment.jpg\n",
            "Image saved: /content/sadbhay/new-boss-1.webp\n",
            "Image saved: /content/sadbhay/StepMom-teaches-son-how-to-fuck.jpg\n",
            "Image saved: /content/sadbhay/Hum-Sath-Sath-Hai.jpg\n",
            "Image saved: /content/sadbhay/Innocent-Husband.webp\n",
            "Image saved: /content/sadbhay/Hot-MILF-Aunty.webp\n",
            "Image saved: /content/sadbhay/IMG_1655541790038.webp\n",
            "Image saved: /content/sadbhay/Stepbrother-2.webp\n",
            "Image saved: /content/sadbhay/IMG_1655532221920.webp\n",
            "Image saved: /content/sadbhay/IMG_1655489609125.jpg\n",
            "Image saved: /content/sadbhay/IMG_1655488946809.jpg\n",
            "Image saved: /content/sadbhay/IMG_1655488130711.webp\n",
            "Image saved: /content/sadbhay/IMG_1655487551549.jpg\n",
            "Image saved: /content/sadbhay/IMG_1655487260413.jpg\n",
            "Image saved: /content/sadbhay/IMG_1655484143283.jpg\n",
            "Image saved: /content/sadbhay/IMG_1655482688795.jpg\n",
            "Image saved: /content/sadbhay/IMG_1655478086081.webp\n",
            "Image saved: /content/sadbhay/IMG_1655477166646.webp\n",
            "Image saved: /content/sadbhay/dildo-ep5.jpg\n",
            "Image saved: /content/sadbhay/dildo-ep4.jpg\n",
            "Image saved: /content/sadbhay/IMG_1655473279271.webp\n",
            "Image saved: /content/sadbhay/95d93053990ed48c52a1476e869b6600.png\n",
            "Image saved: /content/sadbhay/Dunali-7.webp\n",
            "Image saved: /content/sadbhay/Dunali-6.webp\n",
            "Image saved: /content/sadbhay/Dunali-5.webp\n",
            "Image saved: /content/sadbhay/IMG_1655396022089.webp\n",
            "Image saved: /content/sadbhay/IMG_1655368750246.jpg\n",
            "Image saved: /content/sadbhay/IMG_1655353193007.jpg\n",
            "Image saved: /content/sadbhay/IMG_1655351224255.jpg\n",
            "Image saved: /content/sadbhay/IMG_1655319821046.webp\n",
            "Image saved: /content/sadbhay/IMG_1655318410920.webp\n",
            "Image saved: /content/sadbhay/IMG_1655303718800.jpg\n",
            "Image saved: /content/sadbhay/IMG_1655270245148.jpg\n",
            "Image saved: /content/sadbhay/IMG_1655264531775.jpg\n",
            "Image saved: /content/sadbhay/IMG_1655203740547.webp\n",
            "Image saved: /content/sadbhay/IMG_1655184548859.webp\n",
            "Image saved: /content/sadbhay/IMG_1655145369057.webp\n",
            "Image saved: /content/sadbhay/IMG_1655145368429.webp\n",
            "Image saved: /content/sadbhay/d6065d7f31dafbfaf02a7fd56ef99d87.png\n",
            "Image saved: /content/sadbhay/4741823fd72703a11292a5aced6189de.th_.png\n",
            "Image saved: /content/sadbhay/6ed449b925e42d6959babfb51a50af9a.png\n",
            "Image saved: /content/sadbhay/IMG_1655052903454.jpg\n",
            "Image saved: /content/sadbhay/afb2ad987e3b2549a3b09a3c651382d1.th_.jpg\n",
            "Image saved: /content/sadbhay/Meri_Pyaas_Kaise_Bujhaya-1.jpg\n",
            "Image saved: /content/sadbhay/Getting-Hardcore-Fuck-1.jpg\n",
            "Image saved: /content/sadbhay/ek-bai-ki-kahani-1.jpg\n",
            "Image saved: /content/sadbhay/Stepmom-Fucks-with-Stepdaughter-1.jpg\n",
            "Image saved: /content/sadbhay/Nude-Yoga-Teacher-Fucks-His-Virgin-Student-1.jpg\n",
            "Image saved: /content/sadbhay/Indian_Pornstars_Fuck-1.jpg\n",
            "Image saved: /content/sadbhay/IMG_1654880797287.jpg\n",
            "Image saved: /content/sadbhay/IMG_1654876467539.jpg\n",
            "Image saved: /content/sadbhay/6b2ebc99e25ae8ca4abcdc0e578e4f3a.png\n",
            "Image saved: /content/sadbhay/Dildo.webp\n",
            "Image saved: /content/sadbhay/IMG_1654826287315.jpg\n",
            "Image saved: /content/sadbhay/IMG_1654825844230.jpg\n",
            "Image saved: /content/sadbhay/Dunali-Season-2-e2-1.jpg\n",
            "Image saved: /content/sadbhay/Dunali-Season-2-e1-1.jpg\n",
            "Image saved: /content/sadbhay/IMG_1654795443005.webp\n",
            "Image saved: /content/sadbhay/hgds.jpg\n",
            "Image saved: /content/sadbhay/jhfd.jpg\n",
            "Image saved: /content/sadbhay/mnfg.jpg\n",
            "Image saved: /content/sadbhay/ep3.jpg\n",
            "Image saved: /content/sadbhay/epsd-1.jpg\n",
            "Image saved: /content/sadbhay/Neon-Green-Gradient-Fitness-YouTube-Thumbnail-1-1.jpg\n",
            "Image saved: /content/sadbhay/dsvdsvsdve.jpg\n",
            "Image saved: /content/sadbhay/rwvrwvszd.jpg\n",
            "Image saved: /content/sadbhay/tehdsfgdh.jpg\n",
            "Image saved: /content/sadbhay/Sanvida-1.jpg\n",
            "Image saved: /content/sadbhay/Sanvida-Kooku-1.jpg\n",
            "Image saved: /content/sadbhay/IMG_1654707588999.jpg\n",
            "Image saved: /content/sadbhay/IMG_1654698870947.webp\n",
            "Image saved: /content/sadbhay/IMG_1654697936779.webp\n",
            "Image saved: /content/sadbhay/2a4f13161638d4cf748748aa9c5df5cb.png\n",
            "Image saved: /content/sadbhay/TMIBTS.webp\n",
            "Image saved: /content/sadbhay/35b2bd1519a1f50aca9d3fdaa4d963e4.png\n",
            "Image saved: /content/sadbhay/92400b704afe6161a813940f39f33e06.png\n",
            "Image saved: /content/sadbhay/f93264f3a7de413b77578417b27646b6.png\n",
            "Image saved: /content/sadbhay/SUHAGRAT.webp\n",
            "Image saved: /content/sadbhay/IMG_1654541284155.webp\n",
            "Image saved: /content/sadbhay/IMG_1654541283548.webp\n",
            "Image saved: /content/sadbhay/GangBang-1.jpg\n",
            "Image saved: /content/sadbhay/BEIMANDOST.jpg\n",
            "Image saved: /content/sadbhay/IMG_1654504243243.webp\n",
            "Image saved: /content/sadbhay/IMG_1654504242517.webp\n",
            "Image saved: /content/sadbhay/IMG_1654452821693.webp\n",
            "Image saved: /content/sadbhay/IMG_1654450072468.jpg\n",
            "Image saved: /content/sadbhay/34227.webp\n",
            "Image saved: /content/sadbhay/IMG_1654322897697.jpg\n",
            "Image saved: /content/sadbhay/DHONGI-BABA.webp\n",
            "Image saved: /content/sadbhay/IMG_1654278285726.webp\n",
            "Image saved: /content/sadbhay/IMG_1654268157726.webp\n",
            "Image saved: /content/sadbhay/Kangan-RabitMovies-ep2.jpg\n",
            "Image saved: /content/sadbhay/Kangan-RabitMovies-ep1.jpg\n",
            "Image saved: /content/sadbhay/Kotha-MangoFlix-1.jpg\n",
            "Image saved: /content/sadbhay/IMG_1654195322572.webp\n",
            "Image saved: /content/sadbhay/IMG_1654195321983.webp\n",
            "Image saved: /content/sadbhay/2c6e7df0a7a40bbd12e70b088e51dd6a.png\n",
            "Image saved: /content/sadbhay/Indian-beautiful-Bhabhi.webp\n",
            "Image saved: /content/sadbhay/university-girl-erotic-hardcore-sex-with-teen-stepbrother.webp\n",
            "Image saved: /content/sadbhay/IMG_1654109604231.jpg\n",
            "Image saved: /content/sadbhay/School-Girl.webp\n",
            "Image saved: /content/sadbhay/IMG_1654095435477.webp\n",
            "Image saved: /content/sadbhay/laal-lihaaf5.webp\n",
            "Image saved: /content/sadbhay/laallihaaf4.webp\n",
            "Image saved: /content/sadbhay/IMG_1654064640985.webp\n",
            "Image saved: /content/sadbhay/IMG_1654063322551.webp\n",
            "Image saved: /content/sadbhay/IMG_1654054753644.webp\n",
            "Image saved: /content/sadbhay/IMG_1653973916910.webp\n",
            "Image saved: /content/sadbhay/IMG_1653935903725.webp\n",
            "Image saved: /content/sadbhay/IMG_1653935918116.webp\n",
            "Image saved: /content/sadbhay/IMG_1653933441448.webp\n",
            "Image saved: /content/sadbhay/IMG_1653880199441.jpg\n",
            "Image saved: /content/sadbhay/IMG_1653877876901.webp\n",
            "Image saved: /content/sadbhay/IMG_1653846214636.webp\n",
            "Image saved: /content/sadbhay/IMG_1653845704303.webp\n",
            "Image saved: /content/sadbhay/IMG_1653838277265.webp\n",
            "Image saved: /content/sadbhay/IMG_1653837543532.webp\n",
            "Image saved: /content/sadbhay/Kajri.webp\n",
            "Image saved: /content/sadbhay/IMG_1653801135751.webp\n",
            "Image saved: /content/sadbhay/IMG_1653757496844.jpg\n",
            "Image saved: /content/sadbhay/chandni-din-me-feneo.jpg\n",
            "Image saved: /content/sadbhay/Lonely-Bhabhi.webp\n",
            "Image saved: /content/sadbhay/Customer-Service-Girl.webp\n",
            "Image saved: /content/sadbhay/landlord-Son.webp\n",
            "Image saved: /content/sadbhay/Lady-Boss-Ki-Pyaas.webp\n",
            "Image saved: /content/sadbhay/Riya-Bhabi.webp\n",
            "Image saved: /content/sadbhay/IMG_1653722151261.webp\n",
            "Image saved: /content/sadbhay/IMG_1653721263211.webp\n",
            "Image saved: /content/sadbhay/shraboni-casting-couch.jpg\n",
            "Image saved: /content/sadbhay/sddefault.jpg\n",
            "Image saved: /content/sadbhay/IMG_1653590132782.webp\n",
            "Image saved: /content/sadbhay/IMG_1653590132167.webp\n",
            "Image saved: /content/sadbhay/IMG_1653555641183.webp\n",
            "Image saved: /content/sadbhay/sddefault.jpg\n",
            "Image saved: /content/sadbhay/f2d9727fc7d854080016c286bc38ed32.png\n",
            "Image saved: /content/sadbhay/edd554e82b868f265e7f97dd7d8d249c.png\n",
            "Image saved: /content/sadbhay/6-inch-ka-lhoda-1.webp\n",
            "Image saved: /content/sadbhay/Happy-Birthday-Hotx.webp\n",
            "Image saved: /content/sadbhay/sddefault.jpg\n",
            "Image saved: /content/sadbhay/sddefault.jpg\n",
            "Image saved: /content/sadbhay/seal1.webp\n",
            "Image saved: /content/sadbhay/IMG_1652983446106.webp\n",
            "Image saved: /content/sadbhay/Wrong-Turn3-1.jpg\n",
            "Image saved: /content/sadbhay/Wrong-Turn2-1.jpg\n",
            "Image saved: /content/sadbhay/Wrong-Turn1-1.jpg\n",
            "Image saved: /content/sadbhay/IMG_1653229315630.jpg\n",
            "Image saved: /content/sadbhay/IMG_1652848145336.webp\n",
            "Image saved: /content/sadbhay/devar-bhabhi.webp\n",
            "Image saved: /content/sadbhay/IMG_1653199888630.jpg\n",
            "Image saved: /content/sadbhay/tinaa-1.jpg\n",
            "Image saved: /content/sadbhay/Private-Tution-Teacher-OrchidFilm.jpg\n",
            "Image saved: /content/sadbhay/IMG_1653192599505.jpg\n",
            "Image saved: /content/sadbhay/IMG_1653153247658.jpg\n",
            "Image saved: /content/sadbhay/IMG_1653116972749.jpg\n",
            "Image saved: /content/sadbhay/IMG_1653050262761.webp\n",
            "Image saved: /content/sadbhay/IMG_1653032377473.jpg\n",
            "Image saved: /content/sadbhay/juli-6-1.jpg\n",
            "Image saved: /content/sadbhay/juli-5-1.jpg\n",
            "Image saved: /content/sadbhay/juli-4-1.jpg\n",
            "Image saved: /content/sadbhay/IMG_1652974197371.webp\n",
            "Image saved: /content/sadbhay/boudi-1.jpg\n",
            "Image saved: /content/sadbhay/IMG_1652924637544.webp\n",
            "Image saved: /content/sadbhay/IMG_1652884759955.webp\n",
            "Image saved: /content/sadbhay/Tenson_Moment.jpg\n",
            "Image saved: /content/sadbhay/IMG_1652843201834.webp\n",
            "Image saved: /content/sadbhay/Desi-Tadka-6.webp\n",
            "Image saved: /content/sadbhay/Desi-Tadka-5.webp\n",
            "Image saved: /content/sadbhay/Desi-Tadka-4.webp\n",
            "Image saved: /content/sadbhay/IMG_1652806345080.webp\n",
            "Image saved: /content/sadbhay/IMG_1652766453963.jpg\n",
            "Image saved: /content/sadbhay/IMG_1652751464323.jpg\n",
            "Image saved: /content/sadbhay/IMG_1652750489297.jpg\n",
            "Image saved: /content/sadbhay/hubandfriend-digiflix.webp\n",
            "Image saved: /content/sadbhay/BLACK-WIDOW.webp\n",
            "Image saved: /content/sadbhay/20970.webp\n",
            "Image saved: /content/sadbhay/IMG_1652706556438.webp\n",
            "Image saved: /content/sadbhay/Desi-Tadka-3.webp\n",
            "Image saved: /content/sadbhay/Desi-Tadka-2.webp\n",
            "Image saved: /content/sadbhay/Desi-Tadka-1.webp\n",
            "Image saved: /content/sadbhay/fame3.webp\n",
            "Image saved: /content/sadbhay/fame2.webp\n",
            "Image saved: /content/sadbhay/IMG_1652635541280-1.webp\n",
            "Image saved: /content/sadbhay/IMG_1652629535742.jpg\n",
            "Image saved: /content/sadbhay/IMG_1652548708386.webp\n",
            "Image saved: /content/sadbhay/IMG_1652540280974.jpg\n",
            "Image saved: /content/sadbhay/IMG_1651310760966.jpg\n",
            "Image saved: /content/sadbhay/IMG_1652516597848.jpg\n",
            "Image saved: /content/sadbhay/epp1.jpg\n",
            "Image saved: /content/sadbhay/sultanaNiks.jpg\n",
            "Image saved: /content/sadbhay/IMG_1652455805656.jpg\n",
            "Image saved: /content/sadbhay/IMG_1652445679683.jpg\n",
            "Image saved: /content/sadbhay/IMG_1652383393155.jpg\n",
            "Image saved: /content/sadbhay/IMG_1652416037728.webp\n",
            "Image saved: /content/sadbhay/IMG_1652380551450.jpg\n",
            "Image saved: /content/sadbhay/Julie.webp\n",
            "Image saved: /content/sadbhay/IMG_1652376976280.jpg\n",
            "Image saved: /content/sadbhay/IMG_1652376596091.jpg\n",
            "Image saved: /content/sadbhay/IMG_1652355139410.webp\n",
            "Image saved: /content/sadbhay/IMG_1652286677168.jpg\n",
            "Image saved: /content/sadbhay/Doodhwali2.webp\n",
            "Image saved: /content/sadbhay/IMG_1652234333486.jpg\n",
            "Image saved: /content/sadbhay/Neelam5.jpg\n",
            "Image saved: /content/sadbhay/IMG_1652203950210.webp\n",
            "Image saved: /content/sadbhay/IMG_1652199493393.jpg\n",
            "Image saved: /content/sadbhay/Doodhwali1.webp\n",
            "Image saved: /content/sadbhay/escort-service-xprime_Moment.jpg\n",
            "Image saved: /content/sadbhay/IMG_1652124823438.jpg\n",
            "Image saved: /content/sadbhay/IMG_1652124600260.jpg\n",
            "Image saved: /content/sadbhay/IMG_1652123624481.jpg\n",
            "Image saved: /content/sadbhay/IMG_1652123255016.jpg\n",
            "Image saved: /content/sadbhay/IMG_1652122382371.jpg\n",
            "Image saved: /content/sadbhay/IMG_1652098098040.jpg\n",
            "Image saved: /content/sadbhay/IMG_1652033163468.jpg\n",
            "Image saved: /content/sadbhay/VIDEOCALL.jpg\n",
            "Image saved: /content/sadbhay/IMG_1652032127110.jpg\n",
            "Image saved: /content/sadbhay/IMG_1652031738169.jpg\n",
            "Image saved: /content/sadbhay/IMG_1652031216294.jpg\n",
            "Image saved: /content/sadbhay/IMG_1652030883261.jpg\n",
            "Image saved: /content/sadbhay/IMG_1652030167829.jpg\n",
            "Image saved: /content/sadbhay/IMG_1652029917654.jpg\n",
            "Image saved: /content/sadbhay/IMG_1652029659659.jpg\n",
            "Image saved: /content/sadbhay/IMG_1652029108395.jpg\n",
            "Image saved: /content/sadbhay/IMG_1652028283481-1.jpg\n",
            "Image saved: /content/sadbhay/IMG_1651998488607.jpg\n",
            "Image saved: /content/sadbhay/IMG_1651986981717.jpg\n",
            "Image saved: /content/sadbhay/IMG_1651985075932.webp\n",
            "Image saved: /content/sadbhay/IMG_1651985075932.webp\n",
            "Image saved: /content/sadbhay/IMG_1651984085031.jpg\n",
            "Image saved: /content/sadbhay/REAL-FANTASY.jpg\n",
            "Image saved: /content/sadbhay/IMG_1651910775071.jpg\n",
            "Image saved: /content/sadbhay/baja1-1.jpg\n",
            "Image saved: /content/sadbhay/IMG_1651854073336.jpg\n",
            "Image saved: /content/sadbhay/IMG_1651852079193.jpg\n",
            "Image saved: /content/sadbhay/IMG_1651849784377.jpg\n",
            "Image saved: /content/sadbhay/download.jpeg.jpg\n",
            "Image saved: /content/sadbhay/IMG_1651777279287.jpg\n",
            "Image saved: /content/sadbhay/IMG_1651776941801.jpg\n",
            "Image saved: /content/sadbhay/Sundari-Bhabhi-BumperTV.jpg\n",
            "Image saved: /content/sadbhay/IMG_1651768602095.jpg\n",
            "Image saved: /content/sadbhay/IMG_1651762920582.jpg\n",
            "Image saved: /content/sadbhay/IMG_1651762340451.jpg\n",
            "Image saved: /content/sadbhay/IMG_1651682363048.jpg\n",
            "Image saved: /content/sadbhay/IMG_1651613700739.jpg\n",
            "Image saved: /content/sadbhay/IMG_1651612524734.jpg\n",
            "Image saved: /content/sadbhay/IMG_1651520075087.jpg\n",
            "Image saved: /content/sadbhay/IMG_1651519883324.jpg\n",
            "Image saved: /content/sadbhay/IMG_1651519321050.jpg\n",
            "Image saved: /content/sadbhay/IMG_1651518763846.jpg\n",
            "Image saved: /content/sadbhay/IMG_1651518177231.jpg\n",
            "Image saved: /content/sadbhay/IMG_1651517635956.jpg\n",
            "Image saved: /content/sadbhay/IMG_1651516951932.jpg\n",
            "Image saved: /content/sadbhay/IMG_1651516631716.jpg\n",
            "Image saved: /content/sadbhay/IMG_1651429214970.jpg\n",
            "Image saved: /content/sadbhay/IMG_1651428112354.jpg\n",
            "Image saved: /content/sadbhay/IMG_1651427310918.jpg\n",
            "Image saved: /content/sadbhay/IMG_1651390613081.jpg\n",
            "Image saved: /content/sadbhay/IMG_1651298588976.jpg\n",
            "Image saved: /content/sadbhay/IMG_1651298234188.jpg\n",
            "Image saved: /content/sadbhay/IMG_1651252408553.jpg\n",
            "Image saved: /content/sadbhay/IMG_1651251815112.jpg\n",
            "Image saved: /content/sadbhay/IMG_1651251482409.jpg\n",
            "Image saved: /content/sadbhay/IMG_1651250662524.jpg\n",
            "Image saved: /content/sadbhay/IMG_1651250163788.jpg\n",
            "Image saved: /content/sadbhay/IMG_1651174876374.jpg\n",
            "Image saved: /content/sadbhay/IMG_1651174228352.jpg\n",
            "Image saved: /content/sadbhay/IMG_1651169148935.jpg\n",
            "Image saved: /content/sadbhay/IMG_1651167633553.jpg\n",
            "Image saved: /content/sadbhay/IMG_1651129688376.jpg\n",
            "Image saved: /content/sadbhay/IMG_1651031761680-1.jpg\n",
            "Image saved: /content/sadbhay/IMG_1651030740785.jpg\n",
            "Image saved: /content/sadbhay/IMG_1650965196175.jpg\n",
            "Image saved: /content/sadbhay/IMG_1650954281619.jpg\n",
            "Image saved: /content/sadbhay/IMG_1650978100300.jpg\n",
            "Image saved: /content/sadbhay/IMG_1650943939420.jpg\n",
            "Image saved: /content/sadbhay/IMG_1650943104921.jpg\n",
            "Image saved: /content/sadbhay/nickstep.jpg\n",
            "Image saved: /content/sadbhay/IMG_1650877576721.jpg\n",
            "Image saved: /content/sadbhay/IMG_1650877165936.jpg\n",
            "Image saved: /content/sadbhay/IMG_1650859396679.webp\n",
            "Image saved: /content/sadbhay/PROTISHODH.jpg\n",
            "Image saved: /content/sadbhay/IMG_1650852129739.jpg\n",
            "Image saved: /content/sadbhay/IMG_1650851951230.jpg\n",
            "Image saved: /content/sadbhay/Gandu_Dhar_DigimoviePlex_3.jpg\n",
            "Image saved: /content/sadbhay/Gandu_Dhar_DigimoviePlex2.jpg\n",
            "Image saved: /content/sadbhay/Gandu_Dhar_DigimoviePlex1.jpg\n",
            "Image saved: /content/sadbhay/IMG_1650807618846.jpg\n",
            "Image saved: /content/sadbhay/IMG_1650791074824.jpg\n",
            "Image saved: /content/sadbhay/IMG_1650790218901.jpg\n",
            "Image saved: /content/sadbhay/IMG_1650736011315.jpg\n",
            "Image saved: /content/sadbhay/IMG_1650721161900.jpg\n",
            "Image saved: /content/sadbhay/IMG_1650720602616.webp\n",
            "Image saved: /content/sadbhay/download.jpeg-1.jpg\n",
            "Image saved: /content/sadbhay/IMG_1650642170805.jpg\n",
            "Image saved: /content/sadbhay/IMG_1650569480604.jpg\n",
            "Image saved: /content/sadbhay/IMG_1650569725660.jpg\n",
            "Image saved: /content/sadbhay/IMG_1650566938501.jpg\n",
            "Image saved: /content/sadbhay/IMG_1650558830731.jpg\n",
            "Image saved: /content/sadbhay/IMG_1650558227761.jpg\n",
            "Image saved: /content/sadbhay/IMG_1650509173992.jpg\n",
            "Image saved: /content/sadbhay/IMG_1650508635340.jpg\n",
            "Image saved: /content/sadbhay/IMG_1650534513033.jpg\n",
            "Image saved: /content/sadbhay/IMG_1650534251108.jpg\n",
            "Image saved: /content/sadbhay/IMG_1650533700953.jpg\n",
            "Image saved: /content/sadbhay/IMG_1650532998418.jpg\n",
            "Image saved: /content/sadbhay/IMG_1650532425593.jpg\n",
            "Image saved: /content/sadbhay/IMG_1650531673970.jpg\n",
            "Image saved: /content/sadbhay/IMG_1650530966802.jpg\n",
            "Image saved: /content/sadbhay/IMG_1650530083394.jpg\n",
            "Image saved: /content/sadbhay/IMG_1650440992806.jpg\n",
            "Image saved: /content/sadbhay/IMG_1650440401605.jpg\n",
            "Image saved: /content/sadbhay/IMG_1650440132482.jpg\n",
            "Image saved: /content/sadbhay/IMG_1650438307638.jpg\n",
            "Image saved: /content/sadbhay/pz1-1.jpg\n",
            "Image saved: /content/sadbhay/IMG_1650386644081.jpg\n",
            "Image saved: /content/sadbhay/IMG_1650371192191.jpg\n",
            "Image saved: /content/sadbhay/IMG_1650331276485.jpg\n",
            "Image saved: /content/sadbhay/IMG_1650330618284.jpg\n",
            "Image saved: /content/sadbhay/Flat69.webp\n",
            "Image saved: /content/sadbhay/Flat69.webp\n",
            "Image saved: /content/sadbhay/IMG_1650218672773-1.jpg\n",
            "Image saved: /content/sadbhay/IMG_1650218672773-1.jpg\n",
            "Image saved: /content/sadbhay/IMG_1650129978341.jpg\n",
            "Image saved: /content/sadbhay/Jalebi-Bai-2.webp\n",
            "Image saved: /content/sadbhay/IMG_1650078871392.jpg\n",
            "Image saved: /content/sadbhay/IMG_1650075459688.jpg\n",
            "Image saved: /content/sadbhay/IMG_1650074657811.jpg\n",
            "Image saved: /content/sadbhay/IMG_1650074240285.jpg\n",
            "Image saved: /content/sadbhay/IMG_1650038990330.jpg\n",
            "Image saved: /content/sadbhay/IMG_1650033697362.jpg\n",
            "Image saved: /content/sadbhay/IMG_1649963880879.jpg\n",
            "Image saved: /content/sadbhay/IMG_1649995763900.jpg\n",
            "Image saved: /content/sadbhay/IMG_1649963022108.jpg\n",
            "Image saved: /content/sadbhay/SHRABONI.jpg\n",
            "Image saved: /content/sadbhay/IMG_1649910896679.jpg\n",
            "Image saved: /content/sadbhay/IMG_1649903542899.jpg\n",
            "Image saved: /content/sadbhay/IMG_1649841886166.jpg\n",
            "Image saved: /content/sadbhay/IMG_1649831240829.jpg\n",
            "Image saved: /content/sadbhay/IMG_1649816492417.jpg\n",
            "Image saved: /content/sadbhay/IMG_1649768074027.jpg\n",
            "Image saved: /content/sadbhay/ae601d7b2356393777c73e1ff97efd08.png\n",
            "Image saved: /content/sadbhay/images.jpeg.jpg\n",
            "Image saved: /content/sadbhay/IMG_1649730093179.jpg\n",
            "Image saved: /content/sadbhay/IMG_1649729452543.jpg\n",
            "Image saved: /content/sadbhay/d07061158811e3d6c4305e55e930bb4a.png\n",
            "Image saved: /content/sadbhay/IMG_1649644466657.jpg\n",
            "Image saved: /content/sadbhay/index.jpg\n",
            "Image saved: /content/sadbhay/b6d34178a6b04172a37a39bc996bab2d.png\n",
            "Image saved: /content/sadbhay/e44702c806f65750e4470f61cd89f3fb.png\n",
            "Image saved: /content/sadbhay/1f7f3c5cbfd0d8db4cf6bf5febd55a37.png\n",
            "Image saved: /content/sadbhay/IMG_1649513991429.jpg\n",
            "Image saved: /content/sadbhay/33024.jpg\n",
            "Image saved: /content/sadbhay/IMG_1649392526040.jpg\n",
            "Image saved: /content/sadbhay/Sach-Much.jpg\n",
            "Image saved: /content/sadbhay/IMG_1649439895470.jpg\n",
            "Image saved: /content/sadbhay/IMG_1649358279235-1.jpg\n",
            "Image saved: /content/sadbhay/download.jpeg.jpg\n",
            "Image saved: /content/sadbhay/IMG_1649358425888.jpg\n",
            "Image saved: /content/sadbhay/IMG_1649358443843.jpg\n",
            "Image saved: /content/sadbhay/IMG_1649345653241.jpg\n",
            "Image saved: /content/sadbhay/IMG_1649314983531.jpg\n",
            "Image saved: /content/sadbhay/IMG_1649309396848.jpg\n",
            "Image saved: /content/sadbhay/SUNO_2.jpg\n",
            "Image saved: /content/sadbhay/IMG_1649264892569.jpg\n",
            "Image saved: /content/sadbhay/IMG_1649262616671.jpg\n",
            "Image saved: /content/sadbhay/IMG_1649235137170.jpg\n",
            "Image saved: /content/sadbhay/IMG_1649182643477-1.jpg\n",
            "Image saved: /content/sadbhay/IMG_1649181772914.jpg\n",
            "Image saved: /content/sadbhay/IMG_1649179855870.jpg\n",
            "Image saved: /content/sadbhay/IMG_1649179338859.jpg\n",
            "Image saved: /content/sadbhay/IMG_1649178805780.jpg\n",
            "Image saved: /content/sadbhay/IMG_1649178424897.jpg\n",
            "Image saved: /content/sadbhay/IMG_1649178023733.jpg\n",
            "Image saved: /content/sadbhay/Meri-Pyari-Sonu.jpg\n",
            "Image saved: /content/sadbhay/IMG_1649125977598.jpg\n",
            "Image saved: /content/sadbhay/ep2-1.jpg\n",
            "Image saved: /content/sadbhay/ep1-1.jpg\n",
            "Image saved: /content/sadbhay/IMG_1649124810880.jpg\n",
            "Image saved: /content/sadbhay/IMG_1649075495023.jpg\n",
            "Image saved: /content/sadbhay/IMG_1649074310737.jpg\n",
            "Image saved: /content/sadbhay/IMG_1649073162560.jpg\n",
            "Image saved: /content/sadbhay/IMG_1649059698601.jpg\n",
            "Image saved: /content/sadbhay/IMG_1649058395809.jpg\n",
            "Image saved: /content/sadbhay/IMG_1649055910834.jpg\n",
            "Image saved: /content/sadbhay/IMG_1649053751879.webp\n",
            "Image saved: /content/sadbhay/Television-E4.jpg\n",
            "Image saved: /content/sadbhay/Television-E3-1.jpg\n",
            "Image saved: /content/sadbhay/IMG_1649006339384.jpg\n",
            "Image saved: /content/sadbhay/IMG_1649005793187.jpg\n",
            "Image saved: /content/sadbhay/IMG_1649004786899.jpg\n",
            "Image saved: /content/sadbhay/IMG_1648962796104.jpg\n",
            "Image saved: /content/sadbhay/IMG_1648961335317.jpg\n",
            "Image saved: /content/sadbhay/ki8.jpg\n",
            "Image saved: /content/sadbhay/IMG_1648926272130.jpg\n",
            "Image saved: /content/sadbhay/IMG_1648925508047.jpg\n",
            "Image saved: /content/sadbhay/IMG_1648924942844.jpg\n",
            "Image saved: /content/sadbhay/IMG_1648923555473.jpg\n",
            "Image saved: /content/sadbhay/IMG_1648921193271.jpg\n",
            "Image saved: /content/sadbhay/IMG_1648912547326.jpg\n",
            "Image saved: /content/sadbhay/IMG_1648874266433.jpg\n",
            "Image saved: /content/sadbhay/IMG_1648873940700.jpg\n",
            "Image saved: /content/sadbhay/IMG_1648833149236.jpg\n",
            "Image saved: /content/sadbhay/IMG_1648832217228.jpg\n",
            "Image saved: /content/sadbhay/IMG_1648831630313.jpg\n",
            "Image saved: /content/sadbhay/IMG_1648792252363.jpg\n",
            "Image saved: /content/sadbhay/IMG_1648789514621.jpg\n",
            "Image saved: /content/sadbhay/LIZABED.jpg\n",
            "Image saved: /content/sadbhay/IMG_1648781281437.jpg\n",
            "Image saved: /content/sadbhay/IMG_1648753077722.jpg\n",
            "Image saved: /content/sadbhay/IMG_1648752637291.jpg\n",
            "Image saved: /content/sadbhay/IMG_1648741035954.jpg\n",
            "Image saved: /content/sadbhay/IMG_1648739341939.jpg\n",
            "Image saved: /content/sadbhay/IMG_1648712274799.jpg\n",
            "Image saved: /content/sadbhay/Doctor-Mohini-2.jpg\n",
            "Image saved: /content/sadbhay/Doctor-Mohini-Episode-1.jpg\n",
            "Image saved: /content/sadbhay/IMG_1648648466354.webp\n",
            "Image saved: /content/sadbhay/IMG_1648647660607.jpg\n",
            "Image saved: /content/sadbhay/IMG_1648647090537.jpg\n",
            "Image saved: /content/sadbhay/IMG_1648619222214.webp\n",
            "Image saved: /content/sadbhay/IMG_1648534484819.jpg\n",
            "Image saved: /content/sadbhay/IMG_1648534286443.jpg\n",
            "Image saved: /content/sadbhay/IMG_1648531957722.jpg\n",
            "Image saved: /content/sadbhay/IMG_1648531471708.jpg\n",
            "Image saved: /content/sadbhay/3b69defcba87c1a08e7672b646d82983.th_.png\n",
            "Image saved: /content/sadbhay/IMG_1648490544932.jpg\n",
            "Image saved: /content/sadbhay/IMG_1648490187517.webp\n",
            "Image saved: /content/sadbhay/IMG_1648489949518.jpg\n",
            "Image saved: /content/sadbhay/IMG_1648489612597.webp\n",
            "Image saved: /content/sadbhay/IMG_1648489253953.webp\n",
            "Image saved: /content/sadbhay/IMG_1648488675130.webp\n",
            "Image saved: /content/sadbhay/cover3-1.jpg\n",
            "Image saved: /content/sadbhay/IMG_1648402143135.webp\n",
            "Image saved: /content/sadbhay/IMG_1648401075760.webp\n",
            "Image saved: /content/sadbhay/IMG_1648445103325.jpg\n",
            "Image saved: /content/sadbhay/IMG_1648445209797.jpg\n",
            "Image saved: /content/sadbhay/c90f3bf5e61ac669c53808149fe8c488.th_.png\n",
            "Image saved: /content/sadbhay/IMG_1648318192207.jpg\n",
            "Image saved: /content/sadbhay/IMG_1648311400128.jpg\n",
            "Image saved: /content/sadbhay/IMG_1648262065273.jpg\n",
            "Image saved: /content/sadbhay/IMG_1648233098011.jpg\n",
            "Image saved: /content/sadbhay/IMG_1648228238491.webp\n",
            "Image saved: /content/sadbhay/joker_joker_primefli_3.jpg\n",
            "Image saved: /content/sadbhay/joker_joker_primefli_2.jpg\n",
            "Image saved: /content/sadbhay/Joker-Joker-primeflix-ep1.jpg\n",
            "Image saved: /content/sadbhay/e3b52bff420343447aa4a17e35050ee3.png\n",
            "Image saved: /content/sadbhay/IMG_1648211891080.jpg\n",
            "Image saved: /content/sadbhay/IMG_1648201255692.webp\n",
            "Image saved: /content/sadbhay/IMG_1648189545518.webp\n",
            "Image saved: /content/sadbhay/IMG_1648147885829.jpg\n",
            "Image saved: /content/sadbhay/IMG_1648147819311.jpg\n",
            "Image saved: /content/sadbhay/IMG_1648147023107.jpg\n",
            "Image saved: /content/sadbhay/IMG_1648146341420.jpg\n",
            "Image saved: /content/sadbhay/Sappu-Ke-Pappu-S01E03-–-2020-–-Hindi-Hot-Web-Series-–-PulsePrime.jpg\n",
            "Image saved: /content/sadbhay/IMG_1648105480903.jpg\n",
            "Image saved: /content/sadbhay/IMG_1648100389881.jpg\n",
            "Image saved: /content/sadbhay/IMG_1648099536924.jpg\n",
            "Image saved: /content/sadbhay/IMG_1648091913345.jpg\n",
            "Image saved: /content/sadbhay/IMG_1648053656791.jpg\n",
            "Image saved: /content/sadbhay/IMG_1648053196458.jpg\n",
            "Image saved: /content/sadbhay/IMG_1648052772770.jpg\n",
            "Image saved: /content/sadbhay/IMG_1647969034589.jpg\n",
            "Image saved: /content/sadbhay/IMG_1647968786676.jpg\n",
            "Image saved: /content/sadbhay/IMG_1647968272611.jpg\n",
            "Image saved: /content/sadbhay/IMG_1647944229545.jpg\n",
            "Image saved: /content/sadbhay/IMG_1647889943791.jpg\n",
            "Image saved: /content/sadbhay/download.jpeg-9.jpg\n",
            "Image saved: /content/sadbhay/IMG_1647867067641.jpg\n",
            "Image saved: /content/sadbhay/IMG_1647794555005.jpg\n",
            "Image saved: /content/sadbhay/IMG_1647785582414.jpg\n",
            "Image saved: /content/sadbhay/IMG_1647784526746.jpg\n",
            "Image saved: /content/sadbhay/IMG_1647739102216.jpg\n",
            "Image saved: /content/sadbhay/IMG_1647738370339.jpg\n",
            "Image saved: /content/sadbhay/Maa-Devrani3-1.jpg\n",
            "Image saved: /content/sadbhay/IMG_1647544061835.webp\n",
            "Image saved: /content/sadbhay/images.jpeg-3.jpg\n",
            "Image saved: /content/sadbhay/d2e21804b4707418f0de2d6c062616d7.th_.png\n",
            "Image saved: /content/sadbhay/IMG_1647655451099.jpg\n",
            "Image saved: /content/sadbhay/IMG_1647626341020-1.jpg\n",
            "Image saved: /content/sadbhay/IMG_1647625632344.jpg\n",
            "Image saved: /content/sadbhay/IMG_1647625189264.jpg\n",
            "Image saved: /content/sadbhay/IMG_1647618469935.jpg\n",
            "Image saved: /content/sadbhay/IMG_1647596133863.webp\n",
            "Image saved: /content/sadbhay/IMG_1647595692772.jpg\n",
            "Image saved: /content/sadbhay/IMG_1647594336917.jpg\n",
            "Image saved: /content/sadbhay/IMG_1647605394698.jpg\n",
            "Image saved: /content/sadbhay/IMG_1647587113244.jpg\n",
            "Image saved: /content/sadbhay/IMG_1647586152024.jpg\n",
            "Image saved: /content/sadbhay/IMG_1647525722699.jpg\n",
            "Image saved: /content/sadbhay/IMG_1647498241014.webp\n",
            "Image saved: /content/sadbhay/S3XLO-17.jpg\n",
            "Image saved: /content/sadbhay/S3XLO-11.jpg\n",
            "Image saved: /content/sadbhay/IMG_1647496739562.jpg\n",
            "Image saved: /content/sadbhay/IMG_1647496575585.jpg\n",
            "Image saved: /content/sadbhay/IMG_1647494783727.jpg\n",
            "Image saved: /content/sadbhay/kun2.jpg\n",
            "Image saved: /content/sadbhay/lifeinsurance2.jpg\n",
            "Image saved: /content/sadbhay/IMG_1647401000445.jpg\n",
            "Image saved: /content/sadbhay/IMG_1647400398557.jpg\n",
            "Image saved: /content/sadbhay/IMG_1647358475700.jpg\n",
            "Image saved: /content/sadbhay/22735.webp\n",
            "Image saved: /content/sadbhay/IMG_1647333326744.jpg\n",
            "Image saved: /content/sadbhay/mini-1-1.jpg\n",
            "Image saved: /content/sadbhay/IMG_1647327808754.jpg\n",
            "Image saved: /content/sadbhay/download.jpeg-2-1.jpg\n",
            "Image saved: /content/sadbhay/images.jpeg-2.jpg\n",
            "Image saved: /content/sadbhay/download.jpeg-1-1.jpg\n",
            "Image saved: /content/sadbhay/download.jpeg-7.jpg\n",
            "Image saved: /content/sadbhay/images.jpeg-1.jpg\n",
            "Image saved: /content/sadbhay/IMG_1647281327517.jpg\n",
            "Image saved: /content/sadbhay/IMG_1647245851612.jpg\n",
            "Image saved: /content/sadbhay/Saali-Aadhi-GharWaali-Palang-Tod-scaled-pj35n97hue52nls1t96pq3m2zygf7r9d00h48m04i2.jpg\n",
            "Image saved: /content/sadbhay/fe7510a765d3c438ebee0c28c4974d65.png\n",
            "Image saved: /content/sadbhay/IMG_1647176386093.jpg\n",
            "Image saved: /content/sadbhay/IMG_1647175895037.jpg\n",
            "Image saved: /content/sadbhay/IMG_1647174659707.jpg\n",
            "Image saved: /content/sadbhay/IMG_1647174203192.jpg\n",
            "Image saved: /content/sadbhay/IMG_1647146569440.jpg\n",
            "Image saved: /content/sadbhay/IMG_1647146287978.jpg\n",
            "Image saved: /content/sadbhay/IMG_1647145954167-1.jpg\n",
            "Image saved: /content/sadbhay/IMG_1647145696473.jpg\n",
            "Image saved: /content/sadbhay/IMG_1647145341969.jpg\n",
            "Image saved: /content/sadbhay/IMG_1647142925866.jpg\n",
            "Image saved: /content/sadbhay/IMG_1647069159379.jpg\n",
            "Image saved: /content/sadbhay/22164.webp\n",
            "Image saved: /content/sadbhay/IMG_1646916377047.jpg\n",
            "Image saved: /content/sadbhay/IMG_1646981731787.jpg\n",
            "Image saved: /content/sadbhay/ullu-e2-1.jpg\n",
            "Image saved: /content/sadbhay/ullu-e1-1.jpg\n",
            "Image saved: /content/sadbhay/IMG_1646932135689.jpg\n",
            "Image saved: /content/sadbhay/2FUEQ6k-1.jpeg.jpg\n",
            "Image saved: /content/sadbhay/IMG_1646914988807.jpg\n",
            "Image saved: /content/sadbhay/IMG_1646914528500.jpg\n",
            "Image saved: /content/sadbhay/IMG_1646907747216.jpg\n",
            "Image saved: /content/sadbhay/IMG_1646907302157.jpg\n",
            "Image saved: /content/sadbhay/IMG_1646904134868.jpg\n",
            "Image saved: /content/sadbhay/IMG_1646884310107.jpg\n",
            "Image saved: /content/sadbhay/21986-1.webp\n",
            "Image saved: /content/sadbhay/IMG_1646797235767.jpg\n",
            "Image saved: /content/sadbhay/3f69a31a361b5916d4d1f4f451c0d913.jpg\n",
            "Image saved: /content/sadbhay/IMG_1646763718757.jpg\n",
            "Image saved: /content/sadbhay/IMG_1646763392422.jpg\n",
            "Image saved: /content/sadbhay/IMG_1646741504585.jpg\n",
            "Image saved: /content/sadbhay/nmc.jpg\n",
            "Image saved: /content/sadbhay/mom2.jpg\n",
            "Image saved: /content/sadbhay/21753.webp\n",
            "Image saved: /content/sadbhay/IMG_1646494906414.jpg\n",
            "Image saved: /content/sadbhay/c578685f95bd2df89200ca92495175ad.th_.png\n",
            "Image saved: /content/sadbhay/IMG_1646487408969.jpg\n",
            "Image saved: /content/sadbhay/IMG_1646485013707.jpg\n",
            "Image saved: /content/sadbhay/IMG_1646479285856.jpg\n",
            "Image saved: /content/sadbhay/21729.webp\n",
            "Image saved: /content/sadbhay/IMG_1646401124088.jpg\n",
            "Image saved: /content/sadbhay/IMG_1646399241330.jpg\n",
            "Image saved: /content/sadbhay/IMG_1646380243827.jpg\n",
            "Image saved: /content/sadbhay/IMG_1646380005250.jpg\n",
            "Image saved: /content/sadbhay/IMG_1646379476457.jpg\n",
            "Image saved: /content/sadbhay/IMG_1646378156474.jpg\n",
            "Image saved: /content/sadbhay/IMG_1646376623837.jpg\n",
            "Image saved: /content/sadbhay/IMG_1646374973092.jpg\n",
            "Image saved: /content/sadbhay/IMG_1646374706287.jpg\n",
            "Image saved: /content/sadbhay/IMG_1646371463201.jpg\n",
            "Image saved: /content/sadbhay/ptep3.jpg\n",
            "Image saved: /content/sadbhay/ptep2.jpg\n",
            "Image saved: /content/sadbhay/ptep1.jpg\n",
            "Image saved: /content/sadbhay/IMG_1646290081317.jpg\n",
            "Image saved: /content/sadbhay/DKcAg7w.jpg\n",
            "Image saved: /content/sadbhay/IMG_1646246053524.jpg\n",
            "Image saved: /content/sadbhay/IMG_1646234733644.jpg\n",
            "Image saved: /content/sadbhay/GNCLTXM.jpg\n",
            "Image saved: /content/sadbhay/111-1.jpg\n",
            "Image saved: /content/sadbhay/IMG_1646215780995.jpg\n",
            "Image saved: /content/sadbhay/cflh.webp\n",
            "Image saved: /content/sadbhay/21662.webp\n",
            "Image saved: /content/sadbhay/21660.webp\n",
            "Image saved: /content/sadbhay/IMG_1646153318124.jpg\n",
            "Image saved: /content/sadbhay/IMG_1646125974000.jpg\n",
            "Image saved: /content/sadbhay/IMG_1646125266971.jpg\n",
            "Image saved: /content/sadbhay/IMG_1646124318539.jpg\n",
            "Image saved: /content/sadbhay/download.jpeg-2.jpg\n",
            "Image saved: /content/sadbhay/download.jpeg.jpg\n",
            "Image saved: /content/sadbhay/download.jpeg-1.jpg\n",
            "Image saved: /content/sadbhay/Lahore-Diaries-ep1.jpg\n",
            "Image saved: /content/sadbhay/chikh.jpg\n",
            "Image saved: /content/sadbhay/IMG_1646043374386.jpg\n",
            "Image saved: /content/sadbhay/Khul-Ja-5.jpg\n",
            "Image saved: /content/sadbhay/IMG_1646022560375.jpg\n",
            "Image saved: /content/sadbhay/IMG_1646021080180.jpg\n",
            "Image saved: /content/sadbhay/IMG_1645980640335.jpg\n",
            "Image saved: /content/sadbhay/1-4.jpg\n",
            "Image saved: /content/sadbhay/IMG_1645979337851.jpg\n",
            "Image saved: /content/sadbhay/IMG_1645963350848.jpg\n",
            "Image saved: /content/sadbhay/IMG_1645943500230.jpg\n",
            "Image saved: /content/sadbhay/IMG_1645927485691.jpg\n",
            "Image saved: /content/sadbhay/IMG_1645893682728.jpg\n",
            "Image saved: /content/sadbhay/IMG_1645893417759.jpg\n",
            "Image saved: /content/sadbhay/IMG_1645882552560.jpg\n",
            "Image saved: /content/sadbhay/IMG_1645869535781.jpg\n",
            "Image saved: /content/sadbhay/Missing-Rani-1.jpg\n",
            "Image saved: /content/sadbhay/8b7abe09407f3a1de4186dc756516441.th_.png\n",
            "Image saved: /content/sadbhay/IMG_1645874399632.jpg\n",
            "Image saved: /content/sadbhay/IMG_1645852749363.jpg\n",
            "Image saved: /content/sadbhay/IMG_1646801027146.webp\n",
            "Image saved: /content/sadbhay/IMG_1645765457705.webp\n",
            "Image saved: /content/sadbhay/ep1-2.jpg\n",
            "Image saved: /content/sadbhay/IMG_1645849263340.jpg\n",
            "Image saved: /content/sadbhay/IMG_1645847913091.jpg\n",
            "Image saved: /content/sadbhay/IMG_1645798208137.jpg\n",
            "Image saved: /content/sadbhay/IMG_1645797588024.jpg\n",
            "Image saved: /content/sadbhay/IMG_1645777114242.jpg\n",
            "Image saved: /content/sadbhay/IMG_1645776594497.jpg\n",
            "Image saved: /content/sadbhay/69POSE.webp\n",
            "Image saved: /content/sadbhay/IMG_20220225_121325.png\n",
            "Image saved: /content/sadbhay/IMG_1645726267195.jpg\n",
            "Image saved: /content/sadbhay/IMG_1645725866466.jpg\n",
            "Image saved: /content/sadbhay/IMG_1645723230208.jpg\n",
            "Image saved: /content/sadbhay/IMG_1645723027396.jpg\n",
            "Image saved: /content/sadbhay/IMG_1645722437639.jpg\n",
            "Image saved: /content/sadbhay/IMG_1645721955279.jpg\n",
            "Image saved: /content/sadbhay/IMG_1645721391793.jpg\n",
            "Image saved: /content/sadbhay/IMG_1645720951417.jpg\n",
            "Image saved: /content/sadbhay/gM1soTh.png\n",
            "Image saved: /content/sadbhay/IMG_1645719564317.jpg\n",
            "Image saved: /content/sadbhay/IMG_1645678394793.jpg\n",
            "Image saved: /content/sadbhay/IMG_1645677827836.jpg\n",
            "Image saved: /content/sadbhay/1HZ15Qy.png\n",
            "Image saved: /content/sadbhay/c8c0d8e118dd55da8eafcd964dbe1a1f.png\n",
            "Image saved: /content/sadbhay/IMG_1645763241182.jpg\n",
            "Image saved: /content/sadbhay/VaZZIqR.jpg\n",
            "Image saved: /content/sadbhay/sr8vEu3.png\n",
            "Image saved: /content/sadbhay/Hfv8NQg.png\n",
            "Image saved: /content/sadbhay/QpUsCzs.jpg\n",
            "Image saved: /content/sadbhay/yWD01Qp.jpg\n",
            "Image saved: /content/sadbhay/emphpma.jpg\n",
            "Image saved: /content/sadbhay/hjhGHDo.jpg\n",
            "Image saved: /content/sadbhay/tmg2.jpg\n",
            "Image saved: /content/sadbhay/b46ae5b872a778b6e5ec1d8f822f683c.th_.png\n",
            "Image saved: /content/sadbhay/AVpjfze.jpg\n",
            "Image saved: /content/sadbhay/oddME3W.png\n",
            "Image saved: /content/sadbhay/ZKuznpq.jpg\n",
            "Image saved: /content/sadbhay/VURpEm3.jpg\n",
            "Image saved: /content/sadbhay/wyFsmxO.jpg\n",
            "Image saved: /content/sadbhay/p4qFY61.jpg\n",
            "Image saved: /content/sadbhay/ep3.jpg\n",
            "Image saved: /content/sadbhay/ep2-1.jpg\n",
            "Image saved: /content/sadbhay/ep1-1.jpg\n",
            "Image saved: /content/sadbhay/aPfS2dT.jpg\n",
            "Image saved: /content/sadbhay/Xa1kuDw.jpg\n",
            "Image saved: /content/sadbhay/43c807b8238005ccfb0075e5c491e54d.png\n",
            "Image saved: /content/sadbhay/e40c93b676b703156770e94faa68a583.png\n",
            "Image saved: /content/sadbhay/af17f4b4b223045d17cadeb90e9c3a3d.png\n",
            "Image saved: /content/sadbhay/625fc5aae0a655e1b3b61c2c5fd094c4.png\n",
            "Image saved: /content/sadbhay/c19b9dfb132445261b0506b06a0df8ed.png\n",
            "Image saved: /content/sadbhay/tgift1.webp\n",
            "Image saved: /content/sadbhay/32013.jpg\n",
            "Image saved: /content/sadbhay/wQUpTLv.png\n",
            "Image saved: /content/sadbhay/IMG_20220220_000038-e1645326470754.png\n",
            "Image saved: /content/sadbhay/8OtNjDi.png\n",
            "Image saved: /content/sadbhay/IMG_20220219_222440.png\n",
            "Image saved: /content/sadbhay/IMG_20220219_221006.jpg\n",
            "Image saved: /content/sadbhay/6db18b46c7a4e7e9c9a65615b722daa2.png\n",
            "Image saved: /content/sadbhay/156e45737ffd8d3bf79b962c4f91b778.th_.png\n",
            "Image saved: /content/sadbhay/d8afeb74d59da946da8ac86a3c26fa0c.th_.png\n",
            "Image saved: /content/sadbhay/8w1d2Kv.jpg\n",
            "Image saved: /content/sadbhay/IMG_20220220_111116.jpg\n",
            "Image saved: /content/sadbhay/IMG_20220220_111307.jpg\n",
            "Image saved: /content/sadbhay/pXA2tUe.jpg\n",
            "Image saved: /content/sadbhay/Sabjiwali1.jpg\n",
            "Image saved: /content/sadbhay/cddc40351bca134ac8634de89583bf2f.png\n",
            "Image saved: /content/sadbhay/31925.webp\n",
            "Image saved: /content/sadbhay/IMG_20220215_215829.png\n",
            "Image saved: /content/sadbhay/98i_2022.jpg\n",
            "Image saved: /content/sadbhay/ferrous6.jpg\n",
            "Image saved: /content/sadbhay/Ferrous-Pa5.jpg\n",
            "Image saved: /content/sadbhay/Ferrous-4.jpg\n",
            "Image saved: /content/sadbhay/h1iqyIq.jpg\n",
            "Image saved: /content/sadbhay/Secrets.jpg\n",
            "Image saved: /content/sadbhay/09ea12fbea5b50c0a570764615147bcb.png\n",
            "Image saved: /content/sadbhay/7093b024b8c2924b8c6a046ecf845d05.th_.png\n",
            "Image saved: /content/sadbhay/Virginity-Break-2.webp\n",
            "Image saved: /content/sadbhay/IMG_20220219_214252.jpg\n",
            "Image saved: /content/sadbhay/2xz6fzB.jpg\n",
            "Image saved: /content/sadbhay/11-1.jpg\n",
            "Image saved: /content/sadbhay/IMG_1646026107914.jpg\n",
            "Image saved: /content/sadbhay/IMG_20220214_095644.jpg\n",
            "Image saved: /content/sadbhay/IMG_20220220_190030.jpg\n",
            "Image saved: /content/sadbhay/5Q8OFtt.jpg\n",
            "Image saved: /content/sadbhay/IMG_20220219_213946.jpg\n",
            "Image saved: /content/sadbhay/IMG_20220219_215434.jpg\n",
            "Image saved: /content/sadbhay/IMG_20220219_232852.jpg\n",
            "Image saved: /content/sadbhay/IMG_20220219_233052.jpg\n",
            "Image saved: /content/sadbhay/IMG_20220219_233036.jpg\n",
            "Image saved: /content/sadbhay/Girlsex_2022-02-12_23-56-13.jpg\n",
            "Image saved: /content/sadbhay/20220212_221925_0000.png\n",
            "Image saved: /content/sadbhay/31839.jpg\n",
            "Image saved: /content/sadbhay/download.jpeg-8.jpg\n",
            "Image saved: /content/sadbhay/21276.jpg\n",
            "Image saved: /content/sadbhay/20220212_170049_0000.jpg\n",
            "Image saved: /content/sadbhay/IMG_20220212_164632.jpg\n",
            "Image saved: /content/sadbhay/b0800233a5c01f702f66076254d045a0.th_.png\n",
            "Image saved: /content/sadbhay/orchid-villa-3.jpg\n",
            "Image saved: /content/sadbhay/orchid-villa-2.jpg\n",
            "Image saved: /content/sadbhay/orchid-villa-1.jpg\n",
            "Image saved: /content/sadbhay/duhan-e01.jpg\n",
            "Image saved: /content/sadbhay/duhan1.webp\n",
            "Image saved: /content/sadbhay/emg4.jpg\n",
            "Image saved: /content/sadbhay/emg3.jpg\n",
            "Image saved: /content/sadbhay/emg2.jpg\n",
            "Image saved: /content/sadbhay/emg1.jpg\n",
            "Image saved: /content/sadbhay/Good-Night-ep3.jpg\n",
            "Image saved: /content/sadbhay/HFTWNZB.jpg\n",
            "Image saved: /content/sadbhay/IMG_20220220_173050.jpg\n",
            "Image saved: /content/sadbhay/IMG_20220219_215255.jpg\n",
            "Image saved: /content/sadbhay/IMG_20220212_000334.jpg\n",
            "Image saved: /content/sadbhay/favoriteteacherep-04-mkv-20220211-072046-587.png\n",
            "Image saved: /content/sadbhay/ki8.jpg\n",
            "Image saved: /content/sadbhay/Sundara-Bhabhi-Returns.jpg\n",
            "Image saved: /content/sadbhay/IMG_1645766639941.jpg\n",
            "Image saved: /content/sadbhay/images.jpeg.jpg\n",
            "Image saved: /content/sadbhay/download.jpeg-1-1.jpg\n",
            "Image saved: /content/sadbhay/Avantika-ep1.jpg\n",
            "Image saved: /content/sadbhay/IMG_20220220_172752.jpg\n",
            "Image saved: /content/sadbhay/download.jpeg-7.jpg\n",
            "Image saved: /content/sadbhay/Gunha-1.jpg\n",
            "Image saved: /content/sadbhay/IMG_20220220_172158.jpg\n",
            "Image saved: /content/sadbhay/DM269rC.png\n",
            "Image saved: /content/sadbhay/IMG_20220220_172016.jpg\n",
            "Image saved: /content/sadbhay/1osTUja.jpg\n",
            "Image saved: /content/sadbhay/2oFz85w.jpg\n",
            "Image saved: /content/sadbhay/images.jpeg-1.jpg\n",
            "Image saved: /content/sadbhay/IMG_20220220_171241.jpg\n",
            "Image saved: /content/sadbhay/IMG_20220220_170417.jpg\n",
            "Image saved: /content/sadbhay/IMG_20220220_170817.jpg\n",
            "Image saved: /content/sadbhay/unxJMRF.jpg\n",
            "Image saved: /content/sadbhay/Charmsukh-Sautela-Pyaar.jpg\n",
            "Image saved: /content/sadbhay/e00YDPA.jpg\n",
            "Image saved: /content/sadbhay/CoZGzfY.jpg\n",
            "Image saved: /content/sadbhay/download.jpeg-2-1.jpg\n",
            "Image saved: /content/sadbhay/Indian_hot-1.jpg\n",
            "Image saved: /content/sadbhay/p2.jpg\n",
            "Image saved: /content/sadbhay/IMG_1646281861237.jpg\n",
            "Image saved: /content/sadbhay/download.jpeg-3-1.jpg\n",
            "Image saved: /content/sadbhay/8gdNVyE.jpg\n",
            "Image saved: /content/sadbhay/IMG_20220220_172508.jpg\n",
            "Image saved: /content/sadbhay/2ZZdMmA.jpg\n",
            "Image saved: /content/sadbhay/PrivateMassage.jpg\n",
            "Image saved: /content/sadbhay/sLe7M0K.png\n",
            "Image saved: /content/sadbhay/IMG_1646280495404.jpg\n",
            "Image saved: /content/sadbhay/download.jpeg-4.jpg\n",
            "Image saved: /content/sadbhay/download.jpeg-5.jpg\n",
            "Image saved: /content/sadbhay/images.jpeg-2.jpg\n",
            "Image saved: /content/sadbhay/GZk3Ybu.jpg\n",
            "Image saved: /content/sadbhay/aCxQHE8.jpg\n",
            "Image saved: /content/sadbhay/IMG_20220208_074955.jpg\n",
            "Image saved: /content/sadbhay/Lolita-PG-House-Part-2-2021-S01-Hindi-Complete-Kooku-App-Original-Web-Series-720p-HDRip-200MB-x264-AAC.jpg\n",
            "Image saved: /content/sadbhay/IMG_1646149155371.jpg\n",
            "Image saved: /content/sadbhay/IMG_1646229126545.jpg\n",
            "Image saved: /content/sadbhay/download.jpeg-1-4.jpg\n",
            "Image saved: /content/sadbhay/download.jpeg-2-2.jpg\n",
            "Image saved: /content/sadbhay/IMG_20220206_233510.jpg\n",
            "Image saved: /content/sadbhay/Q2Y9VxU.jpg\n",
            "Image saved: /content/sadbhay/UCUfi1k.jpg\n",
            "Image saved: /content/sadbhay/download.jpeg-1-3.jpg\n",
            "Image saved: /content/sadbhay/IMG_1646283258662.jpg\n",
            "Image saved: /content/sadbhay/download.jpeg-1-5.jpg\n",
            "Image saved: /content/sadbhay/CuteSali.jpg\n",
            "Image saved: /content/sadbhay/liAJEgY.jpg\n",
            "Image saved: /content/sadbhay/8LSdSe3.jpg\n",
            "Image saved: /content/sadbhay/Rangraliya2.jpg\n",
            "Image saved: /content/sadbhay/favoriteteacherep3.jpg\n",
            "Image saved: /content/sadbhay/RANGEENMIZAZ2.jpg\n",
            "Image saved: /content/sadbhay/RANGEENMIZAz1.jpg\n",
            "Image saved: /content/sadbhay/IMG_1646237693955.jpg\n",
            "Image saved: /content/sadbhay/34105.webp\n",
            "Image saved: /content/sadbhay/download.jpeg-1-2.jpg\n",
            "Image saved: /content/sadbhay/HFTWNZB-1.jpg\n",
            "Image saved: /content/sadbhay/vlcsnap-2021-05-03-09h48m09s558.jpg\n",
            "Image saved: /content/sadbhay/vlcsnap-2021-05-03-09h47m25s584-1.jpg\n",
            "Image saved: /content/sadbhay/j8.jpg\n",
            "Image saved: /content/sadbhay/download.jpeg-6.jpg\n",
            "Image saved: /content/sadbhay/aam-ka-rass.jpg\n",
            "Image saved: /content/sadbhay/sb2.webp\n",
            "Image saved: /content/sadbhay/5471-1.jpg\n",
            "Image saved: /content/sadbhay/images.jpeg-3.jpg\n",
            "Image saved: /content/sadbhay/Cute-wife-fucking.jpg\n",
            "Image saved: /content/sadbhay/Sexy-Bhabi-Hot-Debor.jpg\n",
            "Image saved: /content/sadbhay/Darar_S1_E1_Hootzy.jpg\n",
            "Image saved: /content/sadbhay/SUNDARA-ep4.jpg\n",
            "Image saved: /content/sadbhay/hhg.jpg\n",
            "Image saved: /content/sadbhay/ju8-2.jpg\n",
            "Image saved: /content/sadbhay/Friends-Wife-Part-2_Moment.jpg\n",
            "Image saved: /content/sadbhay/hott.jpg\n",
            "Image saved: /content/sadbhay/4e0e38e14b6c7f1696a615c070a9b1f8.th_.png\n",
            "Image saved: /content/sadbhay/Bhaiyakadost_2022.jpg\n",
            "Image saved: /content/sadbhay/gachi7.jpg\n",
            "Image saved: /content/sadbhay/gachi6.jpg\n",
            "Image saved: /content/sadbhay/gachi5.jpg\n",
            "Image saved: /content/sadbhay/gachi4.jpg\n",
            "Image saved: /content/sadbhay/nikboobs.jpg\n",
            "Image saved: /content/sadbhay/Deh_Sukh_CinemaDosti.jpg\n",
            "Image saved: /content/sadbhay/Dawai_UNCUT.jpg\n",
            "Image saved: /content/sadbhay/Cheating_Husband.jpg\n",
            "Image saved: /content/sadbhay/Sexy-And-Hot-Lady-Part-2.jpg\n",
            "Image saved: /content/sadbhay/a8c041346b8bb21d09fd4fe2d38cd253.md_.png\n",
            "Image saved: /content/sadbhay/download.jpeg-1.jpg\n",
            "Image saved: /content/sadbhay/Mera-Bhabhi-Part-1.jpg\n",
            "Image saved: /content/sadbhay/jj8.jpg\n",
            "Image saved: /content/sadbhay/Notty-Debor-Part-2.jpg\n",
            "Image saved: /content/sadbhay/Exchange.jpg\n",
            "Image saved: /content/sadbhay/My-Hot-And-Sweet-Dream_Moment.jpg\n",
            "Image saved: /content/sadbhay/Chor-Part-3.jpg\n",
            "Image saved: /content/sadbhay/7776.jpg\n",
            "Image saved: /content/sadbhay/hs1.jpg\n",
            "Image saved: /content/sadbhay/hs1.jpg\n",
            "Image saved: /content/sadbhay/lust2.jpg\n",
            "Image saved: /content/sadbhay/ee9.jpg\n",
            "Image saved: /content/sadbhay/ee8.jpg\n",
            "Image saved: /content/sadbhay/ee7.jpg\n",
            "Image saved: /content/sadbhay/ee6.jpg\n",
            "Image saved: /content/sadbhay/nik8.jpg\n",
            "Image saved: /content/sadbhay/ring-s01e02-gupchup.jpg\n",
            "Image saved: /content/sadbhay/dlboy.jpg\n",
            "Image saved: /content/sadbhay/Prostitute3.jpg\n",
            "Image saved: /content/sadbhay/Prostitute_2.jpg\n",
            "Image saved: /content/sadbhay/Dream.5.jpg\n",
            "Image saved: /content/sadbhay/Dream.3.jpg\n",
            "Image saved: /content/sadbhay/Dream.1.jpg\n",
            "Image saved: /content/sadbhay/IMG_1646489000436.jpg\n",
            "Image saved: /content/sadbhay/ju8.jpg\n",
            "Image saved: /content/sadbhay/vlcsnap-2021-05-21-08h40m47s080.jpg\n",
            "Image saved: /content/sadbhay/IMG_1657459596642.jpg\n",
            "Image saved: /content/sadbhay/54op.jpg\n",
            "Image saved: /content/sadbhay/Bhabi-Ji-Hot-Part-2.jpg\n",
            "Image saved: /content/sadbhay/Miya-Biwi-Raji-xprime.jpg\n",
            "Image saved: /content/sadbhay/Gunha-Epi-1.jpg\n",
            "Image saved: /content/sadbhay/hy77-1.jpg\n",
            "Image saved: /content/sadbhay/Threesome.jpg\n",
            "Image saved: /content/sadbhay/hh5.jpg\n",
            "Image saved: /content/sadbhay/hh4.jpg\n",
            "Image saved: /content/sadbhay/llg.jpg\n",
            "Image saved: /content/sadbhay/ng66.jpg\n",
            "Image saved: /content/sadbhay/Bhabi_Ji_Hot_Part_1.jpg\n",
            "Image saved: /content/sadbhay/8gdNVyE.jpg\n",
            "Image saved: /content/sadbhay/Intercourse.jpg\n",
            "Image saved: /content/sadbhay/Kamini.jpg\n",
            "Image saved: /content/sadbhay/Faasla_HotShots.jpg\n",
            "Image saved: /content/sadbhay/Shipra-2022-2.jpg\n",
            "Image saved: /content/sadbhay/Shipra-2022-1.jpg\n",
            "Image saved: /content/sadbhay/e5.jpg\n",
            "Image saved: /content/sadbhay/e4.jpg\n",
            "Image saved: /content/sadbhay/e3.jpg\n",
            "Image saved: /content/sadbhay/e2-1.jpg\n",
            "Image saved: /content/sadbhay/g1-1.jpg\n",
            "Image saved: /content/sadbhay/bg6.jpg\n",
            "Image saved: /content/sadbhay/19360.jpg\n",
            "Image saved: /content/sadbhay/Kamala.jpg\n",
            "Image saved: /content/sadbhay/MdFQzTx.jpg\n",
            "Image saved: /content/sadbhay/Gold_Digger_S1_E1.jpg\n",
            "Image saved: /content/sadbhay/madam1_Moment.jpg\n",
            "Image saved: /content/sadbhay/Large_Mumme_.jpg\n",
            "Image saved: /content/sadbhay/I_Am_Here_HotShots.jpg\n",
            "Image saved: /content/sadbhay/INTEKAM-EP2.jpg\n",
            "Image saved: /content/sadbhay/INTEKAM-EP1_Moment.jpg\n",
            "Image saved: /content/sadbhay/Games-Of-Karma-chhal.jpg\n",
            "Image saved: /content/sadbhay/THARKIBOSS.jpg\n",
            "Image saved: /content/sadbhay/vlcsnap-2021-05-29-16h56m49s074.jpg\n",
            "Image saved: /content/sadbhay/Sreetama-Topless.jpg\n",
            "Image saved: /content/sadbhay/JismaniGulaam_Moment.jpg\n",
            "Image saved: /content/sadbhay/r8.jpg\n",
            "Image saved: /content/sadbhay/r7.jpg\n",
            "Image saved: /content/sadbhay/r6.jpg\n",
            "Image saved: /content/sadbhay/r5.jpg\n",
            "Image saved: /content/sadbhay/images.jpeg.jpg\n",
            "Image saved: /content/sadbhay/7gqjIC2.jpg\n",
            "Image saved: /content/sadbhay/Guest5_Moment.jpg\n",
            "Image saved: /content/sadbhay/Guest4_Moment.jpg\n",
            "Image saved: /content/sadbhay/Guest3_Moment.jpg\n",
            "Image saved: /content/sadbhay/Guest2_Moment.jpg\n",
            "Image saved: /content/sadbhay/OSvXqbo.jpg\n",
            "Image saved: /content/sadbhay/h541i-1-2.jpg\n",
            "Image saved: /content/sadbhay/23083.webp\n",
            "Image saved: /content/sadbhay/IMG_1646126420035.jpg\n",
            "Image saved: /content/sadbhay/cl6.jpg\n",
            "Image saved: /content/sadbhay/cl5.jpg\n",
            "Image saved: /content/sadbhay/21121112461412-1.jpg\n",
            "Image saved: /content/sadbhay/Rimpi_15.jpg\n",
            "Image saved: /content/sadbhay/39602.webp\n",
            "Image saved: /content/sadbhay/Trapped.jpg\n",
            "Image saved: /content/sadbhay/Feelings.jpg\n",
            "Image saved: /content/sadbhay/Gaajar.webp\n",
            "Image saved: /content/sadbhay/vlcsnap-2021-05-31-21h28m30s377.jpg\n",
            "Image saved: /content/sadbhay/sg.webp\n",
            "Image saved: /content/sadbhay/1984.webp\n",
            "Image saved: /content/sadbhay/vlcsnap-2021-05-31-11h23m56s516.jpg\n",
            "Image saved: /content/sadbhay/12732.webp\n",
            "Image saved: /content/sadbhay/images.jpeg-1.jpg\n",
            "Image saved: /content/sadbhay/mango.jpg\n",
            "Image saved: /content/sadbhay/download.jpeg-3.jpg\n",
            "Image saved: /content/sadbhay/vlcsnap-2021-05-30-14h11m40s702.jpg\n",
            "Image saved: /content/sadbhay/4qUeqKV.png\n",
            "Image saved: /content/sadbhay/jeE3k5h.png\n",
            "Image saved: /content/sadbhay/3c8RuMf.jpg\n",
            "Image saved: /content/sadbhay/Naukar.webp\n",
            "Image saved: /content/sadbhay/1ty7iBs.jpg\n",
            "Image saved: /content/sadbhay/vlcsnap-2021-05-29-20h06m27s898.jpg\n",
            "Image saved: /content/sadbhay/vlcsnap-2021-05-29-17h50m21s879.jpg\n",
            "Image saved: /content/sadbhay/IMG_1646272144618.jpg\n",
            "Image saved: /content/sadbhay/vlcsnap-2021-05-29-16h27m23s213.jpg\n",
            "Image saved: /content/sadbhay/1635.webp\n",
            "Image saved: /content/sadbhay/24533.jpg\n",
            "Image saved: /content/sadbhay/pyas.webp\n",
            "Image saved: /content/sadbhay/vlcsnap-2021-05-24-09h43m12s448.jpg\n",
            "Image saved: /content/sadbhay/13542.jpg\n",
            "Image saved: /content/sadbhay/old.jpg\n",
            "Image saved: /content/sadbhay/vlcsnap-2021-05-31-15h54m50s954.jpg\n",
            "Image saved: /content/sadbhay/vlcsnap-2021-05-23-10h40m09s998.jpg\n",
            "Image saved: /content/sadbhay/cc1.jpg\n",
            "Image saved: /content/sadbhay/vlcsnap-2021-05-24-09h30m00s621.jpg\n",
            "Image saved: /content/sadbhay/ndN8yiY.png\n",
            "Image saved: /content/sadbhay/IMG_1646237867360.jpg\n",
            "Image saved: /content/sadbhay/HoMahNf.jpg\n",
            "Image saved: /content/sadbhay/IMG_1646243242526.jpg\n",
            "Image saved: /content/sadbhay/IMG_1646752295667.jpg\n",
            "Image saved: /content/sadbhay/NMwSPaa.jpg\n",
            "Image saved: /content/sadbhay/download.jpeg-2-1.jpg\n",
            "Image saved: /content/sadbhay/madhoshi-2021-mangoflix_Moment-1.jpg\n",
            "Image saved: /content/sadbhay/download.jpeg-2.jpg\n",
            "Image saved: /content/sadbhay/ClKi6Wg.jpg\n",
            "Image saved: /content/sadbhay/vlcsnap-2021-05-19-21h05m38s368.jpg\n",
            "Image saved: /content/sadbhay/personal-problem-2021-boom-movie_Moment-1.jpg\n",
            "Image saved: /content/sadbhay/Sapna-S02-Ep32.jpg\n",
            "Image saved: /content/sadbhay/24307.webp\n",
            "Image saved: /content/sadbhay/vlcsnap-2021-05-24-09h43m12s448.jpg\n",
            "Image saved: /content/sadbhay/vlcsnap-2021-04-29-11h13m14s500.jpg\n",
            "Image saved: /content/sadbhay/vlcsnap-2021-06-23-19h18m18s909.jpg\n",
            "Image saved: /content/sadbhay/15652.webp\n",
            "Image saved: /content/sadbhay/17239.webp\n",
            "Image saved: /content/sadbhay/oYPL8av.jpg\n",
            "Image saved: /content/sadbhay/21804.webp\n",
            "Image saved: /content/sadbhay/vlcsnap-2021-04-07-20h04m23s967.jpg\n",
            "Image saved: /content/sadbhay/21388.jpg\n"
          ]
        }
      ]
    },
    {
      "cell_type": "code",
      "source": [
        "%cd /content\n",
        "!pip install PyPDF2 Pillow"
      ],
      "metadata": {
        "id": "zHBf89ppRpKv"
      },
      "execution_count": null,
      "outputs": []
    },
    {
      "cell_type": "code",
      "source": [
        "file_download_link = \"https://docs.google.com/uc?export=download&id=1tsIwsMfeoSon6Z3_RUOcjjsw4Uyz4Lvy&confirm=T\"\n",
        "!wget -O ebook.pdf --no-check-certificate \"$file_download_link\"!rm -rf savita"
      ],
      "metadata": {
        "id": "-VV0BK8LxaRt"
      },
      "execution_count": null,
      "outputs": []
    },
    {
      "cell_type": "code",
      "source": [
        "!rm -rf savita"
      ],
      "metadata": {
        "id": "OTXMzHB_1jzE"
      },
      "execution_count": null,
      "outputs": []
    },
    {
      "cell_type": "code",
      "source": [
        "!mkdir /content/drive/MyDrive/sadaf"
      ],
      "metadata": {
        "colab": {
          "base_uri": "https://localhost:8080/"
        },
        "id": "g5uMsrVD-PVt",
        "outputId": "269a4fca-fab2-4a3d-8f64-509dd79be4ff"
      },
      "execution_count": null,
      "outputs": [
        {
          "output_type": "stream",
          "name": "stdout",
          "text": [
            "mkdir: cannot create directory ‘/content/drive/MyDrive/sadaf’: File exists\n"
          ]
        }
      ]
    },
    {
      "cell_type": "code",
      "source": [
        "!rm -rf /content/drive/MyDrive/sadaf"
      ],
      "metadata": {
        "id": "c5vWFCVMBH_M"
      },
      "execution_count": null,
      "outputs": []
    },
    {
      "cell_type": "code",
      "source": [
        "!cp -r /content/sadbhay/ /content/drive/MyDrive/sadaf"
      ],
      "metadata": {
        "id": "H4UiSEsz_bS9"
      },
      "execution_count": null,
      "outputs": []
    },
    {
      "cell_type": "code",
      "source": [
        "!ls /content/sadbhay | wc -l\n"
      ],
      "metadata": {
        "colab": {
          "base_uri": "https://localhost:8080/"
        },
        "id": "7k3mqXM9CT7i",
        "outputId": "30e19d2a-cfff-4c0a-9b7b-aea82d94b3bb"
      },
      "execution_count": null,
      "outputs": [
        {
          "output_type": "stream",
          "name": "stdout",
          "text": [
            "1125\n"
          ]
        }
      ]
    },
    {
      "cell_type": "code",
      "source": [
        "import os\n",
        "\n",
        "folder_path = '/content/sadbhay'  # Specify the folder path\n",
        "\n",
        "# Iterate over the files in the folder\n",
        "for filename in os.listdir(folder_path):\n",
        "    file_path = os.path.join(folder_path, filename)\n",
        "\n",
        "    # Check if the file is an image and has a size of 139 bytes\n",
        "    if os.path.isfile(file_path) and os.path.getsize(file_path) == 139 and filename.lower().endswith(('.jpg', '.jpeg', '.png', '.gif')):\n",
        "        # Remove the file\n",
        "        os.remove(file_path)\n",
        "        print(f\"Removed file: {file_path}\")\n",
        "\n",
        "print(\"Image files with a size of 139 bytes have been removed.\")\n",
        "!ls /content/sadbhay -l| wc -l"
      ],
      "metadata": {
        "colab": {
          "base_uri": "https://localhost:8080/"
        },
        "id": "689j2kVQBU4Y",
        "outputId": "c6ee0b6d-bd34-458a-fa72-224a3574b929"
      },
      "execution_count": null,
      "outputs": [
        {
          "output_type": "stream",
          "name": "stdout",
          "text": [
            "Image files with a size of 139 bytes have been removed.\n",
            "1388\n"
          ]
        }
      ]
    },
    {
      "cell_type": "code",
      "source": [
        "file_url = \"https://archive.org/download/savita-bhabi-english-hindi/vdoc.pub_savita-bhabhi-ep-19-savitas-wedding-hindi.pdf\" # @param {type: \"string\"}\n",
        "\n",
        "!wget -O savita.pdf --no-check-certificate \"$file_url\"\n",
        "\n",
        "#this is for drive\n",
        "\n",
        "\n",
        "# file_url = \"https://drive.google.com/file/d/1tsIwsMfeoSon6Z3_RUOcjjsw4Uyz4Lvy/view\" # @param {type: \"string\"}\n",
        "# # Split the URL string\n",
        "# parts = file_url.split('/')\n",
        "# filename = \"savita-as-bahu\" # @param {type: \"string\"}\n",
        "# # Find the part containing the desired string\n",
        "# desired_part = parts[5]\n",
        "# file_download_link = f\"https://docs.google.com/uc?export=download&id={desired_part}&confirm=T\"\n",
        "# !wget -O savita.pdf --no-check-certificate \"$file_download_link\"\n",
        "\n",
        "\n",
        "\n",
        "import requests\n",
        "\n",
        "print(file_url)\n",
        "\n",
        "import os\n",
        "from urllib.parse import urlparse\n",
        "\n",
        "def get_file_name_from_url(url):\n",
        "    parsed_url = urlparse(url)\n",
        "    file_name = os.path.basename(parsed_url.path)\n",
        "    return file_name\n",
        "# Example usage\n",
        "# file_url = 'http://www.example.com/file.txt'\n",
        "\n",
        "\n",
        "import subprocess\n",
        "\n",
        "def run_command_background(command):\n",
        "    subprocess.Popen(command, shell=True, stdout=subprocess.DEVNULL, stderr=subprocess.DEVNULL)\n",
        "\n",
        "# Example usage\n",
        "!mkdir /content/temp/\n",
        "filename = get_file_name_from_url(file_url)\n",
        "command = f'pdfimages -all savita.pdf /content/temp/{filename}-'\n",
        "run_command_background(command)\n",
        "\n",
        "#!wget https://archive.org/download/savita-bhabi-english-hindi/vdoc.pub_savita-bhabhi-ep-37-anyone-for-tennis.pdf -O savita.pdf\n",
        "!mkdir /content/temp/\n",
        "# !pdfimages -all savita.pdf /content/temp/tennis\n",
        "import torch\n",
        "import os\n",
        "# Model\n",
        "model = torch.hub.load('ultralytics/yolov5', 'yolov5s')  # or yolov5m, yolov5l, yolov5x, custom\n",
        "model.classes=[0]\n",
        "\n",
        "# Specify the folder path\n",
        "folder_path = '/content/temp'\n",
        "\n",
        "# Iterate over the files in the folder\n",
        "for file_name in os.listdir(folder_path):\n",
        "    # Print the file name\n",
        "    print(file_name)\n",
        "\n",
        "    # Inference\n",
        "    results = model(f\"{folder_path}/{file_name}\")\n",
        "\n",
        "    # Results\n",
        "    crops = results.crop(save=True,save_dir=\"/content/sad/done\")  # or .show(), .save(), .print(), .pandas(), etc.\n",
        "    # Print the separator\n",
        "    print(\"-\" * 50)\n",
        "import os\n",
        "import shutil\n",
        "\n",
        "def extract_jpg_files(parent_folder, output_folder):\n",
        "    # Create the output folder if it doesn't exist\n",
        "    os.makedirs(output_folder, exist_ok=True)\n",
        "\n",
        "    # Traverse through the folder structure\n",
        "    for root, _, files in os.walk(parent_folder):\n",
        "        for file_name in files:\n",
        "            file_path = os.path.join(root, file_name)\n",
        "\n",
        "            # Check if the file is a JPG image\n",
        "            if file_name.lower().endswith('.jpg') and os.path.isfile(file_path):\n",
        "                # Copy the file to the output folder\n",
        "                shutil.copy(file_path, output_folder)\n",
        "                print(f'Copied {file_name} to {output_folder}')\n",
        "\n",
        "# Specify the parent folder path and the output folder path\n",
        "parent_folder = '/content/sad'\n",
        "output_folder = '/content/savita'\n",
        "\n",
        "# Call the function to extract JPG files from the folder structure\n",
        "extract_jpg_files(parent_folder, output_folder)\n",
        "!rm -rf /content/sad\n",
        "!rm -rf /content/temp\n"
      ],
      "metadata": {
        "colab": {
          "base_uri": "https://localhost:8080/"
        },
        "id": "bwxzzqlSSZnw",
        "outputId": "1a58722c-2367-4b9f-db83-40219c92f413"
      },
      "execution_count": null,
      "outputs": [
        {
          "output_type": "stream",
          "name": "stdout",
          "text": [
            "--2023-06-02 09:49:16--  https://archive.org/download/savita-bhabi-english-hindi/vdoc.pub_savita-bhabhi-ep-19-savitas-wedding-hindi.pdf\n",
            "Resolving archive.org (archive.org)... 207.241.224.2\n",
            "Connecting to archive.org (archive.org)|207.241.224.2|:443... connected.\n",
            "HTTP request sent, awaiting response... 302 Found\n",
            "Location: https://ia801401.us.archive.org/10/items/savita-bhabi-english-hindi/vdoc.pub_savita-bhabhi-ep-19-savitas-wedding-hindi.pdf [following]\n",
            "--2023-06-02 09:49:16--  https://ia801401.us.archive.org/10/items/savita-bhabi-english-hindi/vdoc.pub_savita-bhabhi-ep-19-savitas-wedding-hindi.pdf\n",
            "Resolving ia801401.us.archive.org (ia801401.us.archive.org)... 207.241.228.141\n",
            "Connecting to ia801401.us.archive.org (ia801401.us.archive.org)|207.241.228.141|:443... connected.\n",
            "HTTP request sent, awaiting response... 200 OK\n",
            "Length: 20421542 (19M) [application/pdf]\n",
            "Saving to: ‘savita.pdf’\n",
            "\n",
            "savita.pdf          100%[===================>]  19.47M  37.2MB/s    in 0.5s    \n",
            "\n",
            "2023-06-02 09:49:16 (37.2 MB/s) - ‘savita.pdf’ saved [20421542/20421542]\n",
            "\n",
            "https://archive.org/download/savita-bhabi-english-hindi/vdoc.pub_savita-bhabhi-ep-19-savitas-wedding-hindi.pdf\n",
            "mkdir: cannot create directory ‘/content/temp/’: File exists\n"
          ]
        },
        {
          "output_type": "stream",
          "name": "stderr",
          "text": [
            "Using cache found in /root/.cache/torch/hub/ultralytics_yolov5_master\n",
            "YOLOv5 🚀 2023-6-2 Python-3.10.11 torch-2.0.1+cu118 CPU\n",
            "\n",
            "Fusing layers... \n",
            "YOLOv5s summary: 213 layers, 7225885 parameters, 0 gradients\n",
            "Adding AutoShape... \n"
          ]
        },
        {
          "output_type": "stream",
          "name": "stdout",
          "text": [
            "vdoc.pub_savita-bhabhi-ep-19-savitas-wedding-hindi.pdf--009.jpg\n"
          ]
        },
        {
          "output_type": "stream",
          "name": "stderr",
          "text": [
            "Saved 1 image to \u001b[1m/content/sad/done\u001b[0m\n",
            "Saved results to /content/sad/done\n",
            "\n"
          ]
        },
        {
          "output_type": "stream",
          "name": "stdout",
          "text": [
            "--------------------------------------------------\n",
            "vdoc.pub_savita-bhabhi-ep-19-savitas-wedding-hindi.pdf--022.jpg\n"
          ]
        },
        {
          "output_type": "stream",
          "name": "stderr",
          "text": [
            "Saved 1 image to \u001b[1m/content/sad/done2\u001b[0m\n",
            "Saved results to /content/sad/done2\n",
            "\n"
          ]
        },
        {
          "output_type": "stream",
          "name": "stdout",
          "text": [
            "--------------------------------------------------\n",
            "vdoc.pub_savita-bhabhi-ep-19-savitas-wedding-hindi.pdf--004.jpg\n"
          ]
        },
        {
          "output_type": "stream",
          "name": "stderr",
          "text": [
            "Saved 1 image to \u001b[1m/content/sad/done3\u001b[0m\n",
            "Saved results to /content/sad/done3\n",
            "\n"
          ]
        },
        {
          "output_type": "stream",
          "name": "stdout",
          "text": [
            "--------------------------------------------------\n",
            "vdoc.pub_savita-bhabhi-ep-19-savitas-wedding-hindi.pdf--006.jpg\n"
          ]
        },
        {
          "output_type": "stream",
          "name": "stderr",
          "text": [
            "Saved 1 image to \u001b[1m/content/sad/done4\u001b[0m\n",
            "Saved results to /content/sad/done4\n",
            "\n"
          ]
        },
        {
          "output_type": "stream",
          "name": "stdout",
          "text": [
            "--------------------------------------------------\n",
            "vdoc.pub_savita-bhabhi-ep-19-savitas-wedding-hindi.pdf--000.jpg\n"
          ]
        },
        {
          "output_type": "stream",
          "name": "stderr",
          "text": [
            "Saved 1 image to \u001b[1m/content/sad/done5\u001b[0m\n",
            "Saved results to /content/sad/done5\n",
            "\n"
          ]
        },
        {
          "output_type": "stream",
          "name": "stdout",
          "text": [
            "--------------------------------------------------\n",
            "vdoc.pub_savita-bhabhi-ep-19-savitas-wedding-hindi.pdf--026.jpg\n"
          ]
        },
        {
          "output_type": "stream",
          "name": "stderr",
          "text": [
            "Saved 1 image to \u001b[1m/content/sad/done6\u001b[0m\n",
            "Saved results to /content/sad/done6\n",
            "\n"
          ]
        },
        {
          "output_type": "stream",
          "name": "stdout",
          "text": [
            "--------------------------------------------------\n",
            "vdoc.pub_savita-bhabhi-ep-19-savitas-wedding-hindi.pdf--021.jpg\n"
          ]
        },
        {
          "output_type": "stream",
          "name": "stderr",
          "text": [
            "Saved 1 image to \u001b[1m/content/sad/done7\u001b[0m\n",
            "Saved results to /content/sad/done7\n",
            "\n"
          ]
        },
        {
          "output_type": "stream",
          "name": "stdout",
          "text": [
            "--------------------------------------------------\n",
            "vdoc.pub_savita-bhabhi-ep-19-savitas-wedding-hindi.pdf--007.jpg\n"
          ]
        },
        {
          "output_type": "stream",
          "name": "stderr",
          "text": [
            "Saved 1 image to \u001b[1m/content/sad/done8\u001b[0m\n",
            "Saved results to /content/sad/done8\n",
            "\n"
          ]
        },
        {
          "output_type": "stream",
          "name": "stdout",
          "text": [
            "--------------------------------------------------\n",
            "vdoc.pub_savita-bhabhi-ep-19-savitas-wedding-hindi.pdf--014.jpg\n"
          ]
        },
        {
          "output_type": "stream",
          "name": "stderr",
          "text": [
            "Saved 1 image to \u001b[1m/content/sad/done9\u001b[0m\n",
            "Saved results to /content/sad/done9\n",
            "\n"
          ]
        },
        {
          "output_type": "stream",
          "name": "stdout",
          "text": [
            "--------------------------------------------------\n",
            "vdoc.pub_savita-bhabhi-ep-19-savitas-wedding-hindi.pdf--011.jpg\n"
          ]
        },
        {
          "output_type": "stream",
          "name": "stderr",
          "text": [
            "Saved 1 image to \u001b[1m/content/sad/done10\u001b[0m\n",
            "Saved results to /content/sad/done10\n",
            "\n"
          ]
        },
        {
          "output_type": "stream",
          "name": "stdout",
          "text": [
            "--------------------------------------------------\n",
            "vdoc.pub_savita-bhabhi-ep-19-savitas-wedding-hindi.pdf--001.jpg\n"
          ]
        },
        {
          "output_type": "stream",
          "name": "stderr",
          "text": [
            "Saved 1 image to \u001b[1m/content/sad/done11\u001b[0m\n",
            "Saved results to /content/sad/done11\n",
            "\n"
          ]
        },
        {
          "output_type": "stream",
          "name": "stdout",
          "text": [
            "--------------------------------------------------\n",
            "vdoc.pub_savita-bhabhi-ep-19-savitas-wedding-hindi.pdf--008.jpg\n"
          ]
        },
        {
          "output_type": "stream",
          "name": "stderr",
          "text": [
            "Saved 1 image to \u001b[1m/content/sad/done12\u001b[0m\n",
            "Saved results to /content/sad/done12\n",
            "\n"
          ]
        },
        {
          "output_type": "stream",
          "name": "stdout",
          "text": [
            "--------------------------------------------------\n",
            "vdoc.pub_savita-bhabhi-ep-19-savitas-wedding-hindi.pdf--028.jpg\n"
          ]
        },
        {
          "output_type": "stream",
          "name": "stderr",
          "text": [
            "Saved 1 image to \u001b[1m/content/sad/done13\u001b[0m\n",
            "Saved results to /content/sad/done13\n",
            "\n"
          ]
        },
        {
          "output_type": "stream",
          "name": "stdout",
          "text": [
            "--------------------------------------------------\n",
            "vdoc.pub_savita-bhabhi-ep-19-savitas-wedding-hindi.pdf--010.jpg\n"
          ]
        },
        {
          "output_type": "stream",
          "name": "stderr",
          "text": [
            "Saved 1 image to \u001b[1m/content/sad/done14\u001b[0m\n",
            "Saved results to /content/sad/done14\n",
            "\n"
          ]
        },
        {
          "output_type": "stream",
          "name": "stdout",
          "text": [
            "--------------------------------------------------\n",
            "vdoc.pub_savita-bhabhi-ep-19-savitas-wedding-hindi.pdf--005.jpg\n"
          ]
        },
        {
          "output_type": "stream",
          "name": "stderr",
          "text": [
            "Saved 1 image to \u001b[1m/content/sad/done15\u001b[0m\n",
            "Saved results to /content/sad/done15\n",
            "\n"
          ]
        },
        {
          "output_type": "stream",
          "name": "stdout",
          "text": [
            "--------------------------------------------------\n",
            "vdoc.pub_savita-bhabhi-ep-19-savitas-wedding-hindi.pdf--029.jpg\n"
          ]
        },
        {
          "output_type": "stream",
          "name": "stderr",
          "text": [
            "Saved 1 image to \u001b[1m/content/sad/done16\u001b[0m\n",
            "Saved results to /content/sad/done16\n",
            "\n"
          ]
        },
        {
          "output_type": "stream",
          "name": "stdout",
          "text": [
            "--------------------------------------------------\n",
            "vdoc.pub_savita-bhabhi-ep-19-savitas-wedding-hindi.pdf--024.jpg\n"
          ]
        },
        {
          "output_type": "stream",
          "name": "stderr",
          "text": [
            "Saved 1 image to \u001b[1m/content/sad/done17\u001b[0m\n",
            "Saved results to /content/sad/done17\n",
            "\n"
          ]
        },
        {
          "output_type": "stream",
          "name": "stdout",
          "text": [
            "--------------------------------------------------\n",
            "vdoc.pub_savita-bhabhi-ep-19-savitas-wedding-hindi.pdf--019.jpg\n"
          ]
        },
        {
          "output_type": "stream",
          "name": "stderr",
          "text": [
            "Saved 1 image to \u001b[1m/content/sad/done18\u001b[0m\n",
            "Saved results to /content/sad/done18\n",
            "\n"
          ]
        },
        {
          "output_type": "stream",
          "name": "stdout",
          "text": [
            "--------------------------------------------------\n",
            "vdoc.pub_savita-bhabhi-ep-19-savitas-wedding-hindi.pdf--016.jpg\n"
          ]
        },
        {
          "output_type": "stream",
          "name": "stderr",
          "text": [
            "Saved 1 image to \u001b[1m/content/sad/done19\u001b[0m\n",
            "Saved results to /content/sad/done19\n",
            "\n"
          ]
        },
        {
          "output_type": "stream",
          "name": "stdout",
          "text": [
            "--------------------------------------------------\n",
            "vdoc.pub_savita-bhabhi-ep-19-savitas-wedding-hindi.pdf--020.jpg\n"
          ]
        },
        {
          "output_type": "stream",
          "name": "stderr",
          "text": [
            "Saved 1 image to \u001b[1m/content/sad/done20\u001b[0m\n",
            "Saved results to /content/sad/done20\n",
            "\n"
          ]
        },
        {
          "output_type": "stream",
          "name": "stdout",
          "text": [
            "--------------------------------------------------\n",
            "vdoc.pub_savita-bhabhi-ep-19-savitas-wedding-hindi.pdf--015.jpg\n"
          ]
        },
        {
          "output_type": "stream",
          "name": "stderr",
          "text": [
            "Saved 1 image to \u001b[1m/content/sad/done21\u001b[0m\n",
            "Saved results to /content/sad/done21\n",
            "\n"
          ]
        },
        {
          "output_type": "stream",
          "name": "stdout",
          "text": [
            "--------------------------------------------------\n",
            "vdoc.pub_savita-bhabhi-ep-19-savitas-wedding-hindi.pdf--030.jpg\n"
          ]
        },
        {
          "output_type": "stream",
          "name": "stderr",
          "text": [
            "Saved 1 image to \u001b[1m/content/sad/done22\u001b[0m\n",
            "Saved results to /content/sad/done22\n",
            "\n"
          ]
        },
        {
          "output_type": "stream",
          "name": "stdout",
          "text": [
            "--------------------------------------------------\n",
            "vdoc.pub_savita-bhabhi-ep-19-savitas-wedding-hindi.pdf--023.jpg\n"
          ]
        },
        {
          "output_type": "stream",
          "name": "stderr",
          "text": [
            "Saved 1 image to \u001b[1m/content/sad/done23\u001b[0m\n",
            "Saved results to /content/sad/done23\n",
            "\n"
          ]
        },
        {
          "output_type": "stream",
          "name": "stdout",
          "text": [
            "--------------------------------------------------\n",
            "vdoc.pub_savita-bhabhi-ep-19-savitas-wedding-hindi.pdf--012.jpg\n"
          ]
        },
        {
          "output_type": "stream",
          "name": "stderr",
          "text": [
            "Saved 1 image to \u001b[1m/content/sad/done24\u001b[0m\n",
            "Saved results to /content/sad/done24\n",
            "\n"
          ]
        },
        {
          "output_type": "stream",
          "name": "stdout",
          "text": [
            "--------------------------------------------------\n",
            "vdoc.pub_savita-bhabhi-ep-19-savitas-wedding-hindi.pdf--017.jpg\n"
          ]
        },
        {
          "output_type": "stream",
          "name": "stderr",
          "text": [
            "Saved 1 image to \u001b[1m/content/sad/done25\u001b[0m\n",
            "Saved results to /content/sad/done25\n",
            "\n"
          ]
        },
        {
          "output_type": "stream",
          "name": "stdout",
          "text": [
            "--------------------------------------------------\n",
            "vdoc.pub_savita-bhabhi-ep-19-savitas-wedding-hindi.pdf--002.jpg\n"
          ]
        },
        {
          "output_type": "stream",
          "name": "stderr",
          "text": [
            "Saved 1 image to \u001b[1m/content/sad/done26\u001b[0m\n",
            "Saved results to /content/sad/done26\n",
            "\n"
          ]
        },
        {
          "output_type": "stream",
          "name": "stdout",
          "text": [
            "--------------------------------------------------\n",
            "vdoc.pub_savita-bhabhi-ep-19-savitas-wedding-hindi.pdf--013.jpg\n"
          ]
        },
        {
          "output_type": "stream",
          "name": "stderr",
          "text": [
            "Saved 1 image to \u001b[1m/content/sad/done27\u001b[0m\n",
            "Saved results to /content/sad/done27\n",
            "\n"
          ]
        },
        {
          "output_type": "stream",
          "name": "stdout",
          "text": [
            "--------------------------------------------------\n",
            "vdoc.pub_savita-bhabhi-ep-19-savitas-wedding-hindi.pdf--018.jpg\n"
          ]
        },
        {
          "output_type": "stream",
          "name": "stderr",
          "text": [
            "Saved 1 image to \u001b[1m/content/sad/done28\u001b[0m\n",
            "Saved results to /content/sad/done28\n",
            "\n"
          ]
        },
        {
          "output_type": "stream",
          "name": "stdout",
          "text": [
            "--------------------------------------------------\n",
            "vdoc.pub_savita-bhabhi-ep-19-savitas-wedding-hindi.pdf--027.jpg\n"
          ]
        },
        {
          "output_type": "stream",
          "name": "stderr",
          "text": [
            "Saved 1 image to \u001b[1m/content/sad/done29\u001b[0m\n",
            "Saved results to /content/sad/done29\n",
            "\n"
          ]
        },
        {
          "output_type": "stream",
          "name": "stdout",
          "text": [
            "--------------------------------------------------\n",
            "vdoc.pub_savita-bhabhi-ep-19-savitas-wedding-hindi.pdf--025.jpg\n"
          ]
        },
        {
          "output_type": "stream",
          "name": "stderr",
          "text": [
            "Saved 1 image to \u001b[1m/content/sad/done30\u001b[0m\n",
            "Saved results to /content/sad/done30\n",
            "\n"
          ]
        },
        {
          "output_type": "stream",
          "name": "stdout",
          "text": [
            "--------------------------------------------------\n",
            "vdoc.pub_savita-bhabhi-ep-19-savitas-wedding-hindi.pdf--003.jpg\n"
          ]
        },
        {
          "output_type": "stream",
          "name": "stderr",
          "text": [
            "Saved 1 image to \u001b[1m/content/sad/done31\u001b[0m\n",
            "Saved results to /content/sad/done31\n",
            "\n"
          ]
        },
        {
          "output_type": "stream",
          "name": "stdout",
          "text": [
            "--------------------------------------------------\n",
            "Copied zidane.jpg to /content/savita\n",
            "Copied vdoc.pub_savita-bhabhi-ep-19-savitas-wedding-hindi.pdf--028.jpg to /content/savita\n",
            "Copied vdoc.pub_savita-bhabhi-ep-19-savitas-wedding-hindi.pdf--0282.jpg to /content/savita\n",
            "Copied vdoc.pub_savita-bhabhi-ep-19-savitas-wedding-hindi.pdf--028.jpg to /content/savita\n",
            "Copied vdoc.pub_savita-bhabhi-ep-19-savitas-wedding-hindi.pdf--0283.jpg to /content/savita\n",
            "Copied vdoc.pub_savita-bhabhi-ep-19-savitas-wedding-hindi.pdf--025.jpg to /content/savita\n",
            "Copied vdoc.pub_savita-bhabhi-ep-19-savitas-wedding-hindi.pdf--025.jpg to /content/savita\n",
            "Copied vdoc.pub_savita-bhabhi-ep-19-savitas-wedding-hindi.pdf--002.jpg to /content/savita\n",
            "Copied vdoc.pub_savita-bhabhi-ep-19-savitas-wedding-hindi.pdf--00212.jpg to /content/savita\n",
            "Copied vdoc.pub_savita-bhabhi-ep-19-savitas-wedding-hindi.pdf--0026.jpg to /content/savita\n",
            "Copied vdoc.pub_savita-bhabhi-ep-19-savitas-wedding-hindi.pdf--0029.jpg to /content/savita\n",
            "Copied vdoc.pub_savita-bhabhi-ep-19-savitas-wedding-hindi.pdf--0023.jpg to /content/savita\n",
            "Copied vdoc.pub_savita-bhabhi-ep-19-savitas-wedding-hindi.pdf--00213.jpg to /content/savita\n",
            "Copied vdoc.pub_savita-bhabhi-ep-19-savitas-wedding-hindi.pdf--0022.jpg to /content/savita\n",
            "Copied vdoc.pub_savita-bhabhi-ep-19-savitas-wedding-hindi.pdf--0027.jpg to /content/savita\n",
            "Copied vdoc.pub_savita-bhabhi-ep-19-savitas-wedding-hindi.pdf--0028.jpg to /content/savita\n",
            "Copied vdoc.pub_savita-bhabhi-ep-19-savitas-wedding-hindi.pdf--00211.jpg to /content/savita\n",
            "Copied vdoc.pub_savita-bhabhi-ep-19-savitas-wedding-hindi.pdf--00214.jpg to /content/savita\n",
            "Copied vdoc.pub_savita-bhabhi-ep-19-savitas-wedding-hindi.pdf--00210.jpg to /content/savita\n",
            "Copied vdoc.pub_savita-bhabhi-ep-19-savitas-wedding-hindi.pdf--0024.jpg to /content/savita\n",
            "Copied vdoc.pub_savita-bhabhi-ep-19-savitas-wedding-hindi.pdf--0025.jpg to /content/savita\n",
            "Copied vdoc.pub_savita-bhabhi-ep-19-savitas-wedding-hindi.pdf--002.jpg to /content/savita\n",
            "Copied vdoc.pub_savita-bhabhi-ep-19-savitas-wedding-hindi.pdf--020.jpg to /content/savita\n",
            "Copied vdoc.pub_savita-bhabhi-ep-19-savitas-wedding-hindi.pdf--0203.jpg to /content/savita\n",
            "Copied vdoc.pub_savita-bhabhi-ep-19-savitas-wedding-hindi.pdf--020.jpg to /content/savita\n",
            "Copied vdoc.pub_savita-bhabhi-ep-19-savitas-wedding-hindi.pdf--0202.jpg to /content/savita\n",
            "Copied vdoc.pub_savita-bhabhi-ep-19-savitas-wedding-hindi.pdf--022.jpg to /content/savita\n",
            "Copied vdoc.pub_savita-bhabhi-ep-19-savitas-wedding-hindi.pdf--022.jpg to /content/savita\n",
            "Copied vdoc.pub_savita-bhabhi-ep-19-savitas-wedding-hindi.pdf--018.jpg to /content/savita\n",
            "Copied vdoc.pub_savita-bhabhi-ep-19-savitas-wedding-hindi.pdf--0182.jpg to /content/savita\n",
            "Copied vdoc.pub_savita-bhabhi-ep-19-savitas-wedding-hindi.pdf--0183.jpg to /content/savita\n",
            "Copied vdoc.pub_savita-bhabhi-ep-19-savitas-wedding-hindi.pdf--018.jpg to /content/savita\n",
            "Copied vdoc.pub_savita-bhabhi-ep-19-savitas-wedding-hindi.pdf--030.jpg to /content/savita\n",
            "Copied vdoc.pub_savita-bhabhi-ep-19-savitas-wedding-hindi.pdf--0305.jpg to /content/savita\n",
            "Copied vdoc.pub_savita-bhabhi-ep-19-savitas-wedding-hindi.pdf--030.jpg to /content/savita\n",
            "Copied vdoc.pub_savita-bhabhi-ep-19-savitas-wedding-hindi.pdf--0304.jpg to /content/savita\n",
            "Copied vdoc.pub_savita-bhabhi-ep-19-savitas-wedding-hindi.pdf--0302.jpg to /content/savita\n",
            "Copied vdoc.pub_savita-bhabhi-ep-19-savitas-wedding-hindi.pdf--0303.jpg to /content/savita\n",
            "Copied vdoc.pub_savita-bhabhi-ep-19-savitas-wedding-hindi.pdf--009.jpg to /content/savita\n",
            "Copied vdoc.pub_savita-bhabhi-ep-19-savitas-wedding-hindi.pdf--009.jpg to /content/savita\n",
            "Copied vdoc.pub_savita-bhabhi-ep-19-savitas-wedding-hindi.pdf--0094.jpg to /content/savita\n",
            "Copied vdoc.pub_savita-bhabhi-ep-19-savitas-wedding-hindi.pdf--0093.jpg to /content/savita\n",
            "Copied vdoc.pub_savita-bhabhi-ep-19-savitas-wedding-hindi.pdf--0095.jpg to /content/savita\n",
            "Copied vdoc.pub_savita-bhabhi-ep-19-savitas-wedding-hindi.pdf--0092.jpg to /content/savita\n",
            "Copied vdoc.pub_savita-bhabhi-ep-19-savitas-wedding-hindi.pdf--013.jpg to /content/savita\n",
            "Copied vdoc.pub_savita-bhabhi-ep-19-savitas-wedding-hindi.pdf--0135.jpg to /content/savita\n",
            "Copied vdoc.pub_savita-bhabhi-ep-19-savitas-wedding-hindi.pdf--0133.jpg to /content/savita\n",
            "Copied vdoc.pub_savita-bhabhi-ep-19-savitas-wedding-hindi.pdf--0134.jpg to /content/savita\n",
            "Copied vdoc.pub_savita-bhabhi-ep-19-savitas-wedding-hindi.pdf--0132.jpg to /content/savita\n",
            "Copied vdoc.pub_savita-bhabhi-ep-19-savitas-wedding-hindi.pdf--013.jpg to /content/savita\n",
            "Copied vdoc.pub_savita-bhabhi-ep-19-savitas-wedding-hindi.pdf--000.jpg to /content/savita\n",
            "Copied vdoc.pub_savita-bhabhi-ep-19-savitas-wedding-hindi.pdf--017.jpg to /content/savita\n",
            "Copied vdoc.pub_savita-bhabhi-ep-19-savitas-wedding-hindi.pdf--017.jpg to /content/savita\n",
            "Copied vdoc.pub_savita-bhabhi-ep-19-savitas-wedding-hindi.pdf--007.jpg to /content/savita\n",
            "Copied vdoc.pub_savita-bhabhi-ep-19-savitas-wedding-hindi.pdf--0076.jpg to /content/savita\n",
            "Copied vdoc.pub_savita-bhabhi-ep-19-savitas-wedding-hindi.pdf--0075.jpg to /content/savita\n",
            "Copied vdoc.pub_savita-bhabhi-ep-19-savitas-wedding-hindi.pdf--007.jpg to /content/savita\n",
            "Copied vdoc.pub_savita-bhabhi-ep-19-savitas-wedding-hindi.pdf--0074.jpg to /content/savita\n",
            "Copied vdoc.pub_savita-bhabhi-ep-19-savitas-wedding-hindi.pdf--0073.jpg to /content/savita\n",
            "Copied vdoc.pub_savita-bhabhi-ep-19-savitas-wedding-hindi.pdf--0072.jpg to /content/savita\n",
            "Copied vdoc.pub_savita-bhabhi-ep-19-savitas-wedding-hindi.pdf--029.jpg to /content/savita\n",
            "Copied vdoc.pub_savita-bhabhi-ep-19-savitas-wedding-hindi.pdf--0294.jpg to /content/savita\n",
            "Copied vdoc.pub_savita-bhabhi-ep-19-savitas-wedding-hindi.pdf--0292.jpg to /content/savita\n",
            "Copied vdoc.pub_savita-bhabhi-ep-19-savitas-wedding-hindi.pdf--0293.jpg to /content/savita\n",
            "Copied vdoc.pub_savita-bhabhi-ep-19-savitas-wedding-hindi.pdf--029.jpg to /content/savita\n",
            "Copied vdoc.pub_savita-bhabhi-ep-19-savitas-wedding-hindi.pdf--005.jpg to /content/savita\n",
            "Copied vdoc.pub_savita-bhabhi-ep-19-savitas-wedding-hindi.pdf--0055.jpg to /content/savita\n",
            "Copied vdoc.pub_savita-bhabhi-ep-19-savitas-wedding-hindi.pdf--005.jpg to /content/savita\n",
            "Copied vdoc.pub_savita-bhabhi-ep-19-savitas-wedding-hindi.pdf--0057.jpg to /content/savita\n",
            "Copied vdoc.pub_savita-bhabhi-ep-19-savitas-wedding-hindi.pdf--0056.jpg to /content/savita\n",
            "Copied vdoc.pub_savita-bhabhi-ep-19-savitas-wedding-hindi.pdf--0054.jpg to /content/savita\n",
            "Copied vdoc.pub_savita-bhabhi-ep-19-savitas-wedding-hindi.pdf--0053.jpg to /content/savita\n",
            "Copied vdoc.pub_savita-bhabhi-ep-19-savitas-wedding-hindi.pdf--0052.jpg to /content/savita\n",
            "Copied vdoc.pub_savita-bhabhi-ep-19-savitas-wedding-hindi.pdf--012.jpg to /content/savita\n",
            "Copied vdoc.pub_savita-bhabhi-ep-19-savitas-wedding-hindi.pdf--0123.jpg to /content/savita\n",
            "Copied vdoc.pub_savita-bhabhi-ep-19-savitas-wedding-hindi.pdf--0122.jpg to /content/savita\n",
            "Copied vdoc.pub_savita-bhabhi-ep-19-savitas-wedding-hindi.pdf--012.jpg to /content/savita\n",
            "Copied vdoc.pub_savita-bhabhi-ep-19-savitas-wedding-hindi.pdf--016.jpg to /content/savita\n",
            "Copied vdoc.pub_savita-bhabhi-ep-19-savitas-wedding-hindi.pdf--0163.jpg to /content/savita\n",
            "Copied vdoc.pub_savita-bhabhi-ep-19-savitas-wedding-hindi.pdf--016.jpg to /content/savita\n",
            "Copied vdoc.pub_savita-bhabhi-ep-19-savitas-wedding-hindi.pdf--0162.jpg to /content/savita\n",
            "Copied vdoc.pub_savita-bhabhi-ep-19-savitas-wedding-hindi.pdf--0165.jpg to /content/savita\n",
            "Copied vdoc.pub_savita-bhabhi-ep-19-savitas-wedding-hindi.pdf--0164.jpg to /content/savita\n",
            "Copied vdoc.pub_savita-bhabhi-ep-19-savitas-wedding-hindi.pdf--010.jpg to /content/savita\n",
            "Copied vdoc.pub_savita-bhabhi-ep-19-savitas-wedding-hindi.pdf--0102.jpg to /content/savita\n",
            "Copied vdoc.pub_savita-bhabhi-ep-19-savitas-wedding-hindi.pdf--010.jpg to /content/savita\n",
            "Copied vdoc.pub_savita-bhabhi-ep-19-savitas-wedding-hindi.pdf--0103.jpg to /content/savita\n",
            "Copied vdoc.pub_savita-bhabhi-ep-19-savitas-wedding-hindi.pdf--011.jpg to /content/savita\n",
            "Copied vdoc.pub_savita-bhabhi-ep-19-savitas-wedding-hindi.pdf--0113.jpg to /content/savita\n",
            "Copied vdoc.pub_savita-bhabhi-ep-19-savitas-wedding-hindi.pdf--011.jpg to /content/savita\n",
            "Copied vdoc.pub_savita-bhabhi-ep-19-savitas-wedding-hindi.pdf--0112.jpg to /content/savita\n",
            "Copied vdoc.pub_savita-bhabhi-ep-19-savitas-wedding-hindi.pdf--008.jpg to /content/savita\n",
            "Copied vdoc.pub_savita-bhabhi-ep-19-savitas-wedding-hindi.pdf--0082.jpg to /content/savita\n",
            "Copied vdoc.pub_savita-bhabhi-ep-19-savitas-wedding-hindi.pdf--0085.jpg to /content/savita\n",
            "Copied vdoc.pub_savita-bhabhi-ep-19-savitas-wedding-hindi.pdf--008.jpg to /content/savita\n",
            "Copied vdoc.pub_savita-bhabhi-ep-19-savitas-wedding-hindi.pdf--0083.jpg to /content/savita\n",
            "Copied vdoc.pub_savita-bhabhi-ep-19-savitas-wedding-hindi.pdf--0086.jpg to /content/savita\n",
            "Copied vdoc.pub_savita-bhabhi-ep-19-savitas-wedding-hindi.pdf--0084.jpg to /content/savita\n",
            "Copied vdoc.pub_savita-bhabhi-ep-19-savitas-wedding-hindi.pdf--003.jpg to /content/savita\n",
            "Copied vdoc.pub_savita-bhabhi-ep-19-savitas-wedding-hindi.pdf--0036.jpg to /content/savita\n",
            "Copied vdoc.pub_savita-bhabhi-ep-19-savitas-wedding-hindi.pdf--0034.jpg to /content/savita\n",
            "Copied vdoc.pub_savita-bhabhi-ep-19-savitas-wedding-hindi.pdf--0032.jpg to /content/savita\n",
            "Copied vdoc.pub_savita-bhabhi-ep-19-savitas-wedding-hindi.pdf--0033.jpg to /content/savita\n",
            "Copied vdoc.pub_savita-bhabhi-ep-19-savitas-wedding-hindi.pdf--0039.jpg to /content/savita\n",
            "Copied vdoc.pub_savita-bhabhi-ep-19-savitas-wedding-hindi.pdf--0035.jpg to /content/savita\n",
            "Copied vdoc.pub_savita-bhabhi-ep-19-savitas-wedding-hindi.pdf--0038.jpg to /content/savita\n",
            "Copied vdoc.pub_savita-bhabhi-ep-19-savitas-wedding-hindi.pdf--0037.jpg to /content/savita\n",
            "Copied vdoc.pub_savita-bhabhi-ep-19-savitas-wedding-hindi.pdf--003.jpg to /content/savita\n",
            "Copied vdoc.pub_savita-bhabhi-ep-19-savitas-wedding-hindi.pdf--015.jpg to /content/savita\n",
            "Copied vdoc.pub_savita-bhabhi-ep-19-savitas-wedding-hindi.pdf--015.jpg to /content/savita\n",
            "Copied vdoc.pub_savita-bhabhi-ep-19-savitas-wedding-hindi.pdf--027.jpg to /content/savita\n",
            "Copied vdoc.pub_savita-bhabhi-ep-19-savitas-wedding-hindi.pdf--027.jpg to /content/savita\n",
            "Copied vdoc.pub_savita-bhabhi-ep-19-savitas-wedding-hindi.pdf--021.jpg to /content/savita\n",
            "Copied vdoc.pub_savita-bhabhi-ep-19-savitas-wedding-hindi.pdf--0212.jpg to /content/savita\n",
            "Copied vdoc.pub_savita-bhabhi-ep-19-savitas-wedding-hindi.pdf--021.jpg to /content/savita\n",
            "Copied vdoc.pub_savita-bhabhi-ep-19-savitas-wedding-hindi.pdf--0213.jpg to /content/savita\n",
            "Copied vdoc.pub_savita-bhabhi-ep-19-savitas-wedding-hindi.pdf--006.jpg to /content/savita\n",
            "Copied vdoc.pub_savita-bhabhi-ep-19-savitas-wedding-hindi.pdf--006.jpg to /content/savita\n",
            "Copied vdoc.pub_savita-bhabhi-ep-19-savitas-wedding-hindi.pdf--0063.jpg to /content/savita\n",
            "Copied vdoc.pub_savita-bhabhi-ep-19-savitas-wedding-hindi.pdf--0062.jpg to /content/savita\n",
            "Copied vdoc.pub_savita-bhabhi-ep-19-savitas-wedding-hindi.pdf--001.jpg to /content/savita\n",
            "Copied vdoc.pub_savita-bhabhi-ep-19-savitas-wedding-hindi.pdf--0012.jpg to /content/savita\n",
            "Copied vdoc.pub_savita-bhabhi-ep-19-savitas-wedding-hindi.pdf--0014.jpg to /content/savita\n",
            "Copied vdoc.pub_savita-bhabhi-ep-19-savitas-wedding-hindi.pdf--0015.jpg to /content/savita\n",
            "Copied vdoc.pub_savita-bhabhi-ep-19-savitas-wedding-hindi.pdf--00112.jpg to /content/savita\n",
            "Copied vdoc.pub_savita-bhabhi-ep-19-savitas-wedding-hindi.pdf--0019.jpg to /content/savita\n",
            "Copied vdoc.pub_savita-bhabhi-ep-19-savitas-wedding-hindi.pdf--00110.jpg to /content/savita\n",
            "Copied vdoc.pub_savita-bhabhi-ep-19-savitas-wedding-hindi.pdf--001.jpg to /content/savita\n",
            "Copied vdoc.pub_savita-bhabhi-ep-19-savitas-wedding-hindi.pdf--00114.jpg to /content/savita\n",
            "Copied vdoc.pub_savita-bhabhi-ep-19-savitas-wedding-hindi.pdf--00111.jpg to /content/savita\n",
            "Copied vdoc.pub_savita-bhabhi-ep-19-savitas-wedding-hindi.pdf--00113.jpg to /content/savita\n",
            "Copied vdoc.pub_savita-bhabhi-ep-19-savitas-wedding-hindi.pdf--0018.jpg to /content/savita\n",
            "Copied vdoc.pub_savita-bhabhi-ep-19-savitas-wedding-hindi.pdf--0016.jpg to /content/savita\n",
            "Copied vdoc.pub_savita-bhabhi-ep-19-savitas-wedding-hindi.pdf--0013.jpg to /content/savita\n",
            "Copied vdoc.pub_savita-bhabhi-ep-19-savitas-wedding-hindi.pdf--00115.jpg to /content/savita\n",
            "Copied vdoc.pub_savita-bhabhi-ep-19-savitas-wedding-hindi.pdf--00116.jpg to /content/savita\n",
            "Copied vdoc.pub_savita-bhabhi-ep-19-savitas-wedding-hindi.pdf--0017.jpg to /content/savita\n",
            "Copied vdoc.pub_savita-bhabhi-ep-19-savitas-wedding-hindi.pdf--024.jpg to /content/savita\n",
            "Copied vdoc.pub_savita-bhabhi-ep-19-savitas-wedding-hindi.pdf--024.jpg to /content/savita\n",
            "Copied vdoc.pub_savita-bhabhi-ep-19-savitas-wedding-hindi.pdf--0244.jpg to /content/savita\n",
            "Copied vdoc.pub_savita-bhabhi-ep-19-savitas-wedding-hindi.pdf--0242.jpg to /content/savita\n",
            "Copied vdoc.pub_savita-bhabhi-ep-19-savitas-wedding-hindi.pdf--0243.jpg to /content/savita\n",
            "Copied vdoc.pub_savita-bhabhi-ep-19-savitas-wedding-hindi.pdf--014.jpg to /content/savita\n",
            "Copied vdoc.pub_savita-bhabhi-ep-19-savitas-wedding-hindi.pdf--0143.jpg to /content/savita\n",
            "Copied vdoc.pub_savita-bhabhi-ep-19-savitas-wedding-hindi.pdf--0146.jpg to /content/savita\n",
            "Copied vdoc.pub_savita-bhabhi-ep-19-savitas-wedding-hindi.pdf--014.jpg to /content/savita\n",
            "Copied vdoc.pub_savita-bhabhi-ep-19-savitas-wedding-hindi.pdf--0145.jpg to /content/savita\n",
            "Copied vdoc.pub_savita-bhabhi-ep-19-savitas-wedding-hindi.pdf--0142.jpg to /content/savita\n",
            "Copied vdoc.pub_savita-bhabhi-ep-19-savitas-wedding-hindi.pdf--0144.jpg to /content/savita\n",
            "Copied vdoc.pub_savita-bhabhi-ep-19-savitas-wedding-hindi.pdf--004.jpg to /content/savita\n",
            "Copied vdoc.pub_savita-bhabhi-ep-19-savitas-wedding-hindi.pdf--0045.jpg to /content/savita\n",
            "Copied vdoc.pub_savita-bhabhi-ep-19-savitas-wedding-hindi.pdf--0046.jpg to /content/savita\n",
            "Copied vdoc.pub_savita-bhabhi-ep-19-savitas-wedding-hindi.pdf--004.jpg to /content/savita\n",
            "Copied vdoc.pub_savita-bhabhi-ep-19-savitas-wedding-hindi.pdf--0043.jpg to /content/savita\n",
            "Copied vdoc.pub_savita-bhabhi-ep-19-savitas-wedding-hindi.pdf--0042.jpg to /content/savita\n",
            "Copied vdoc.pub_savita-bhabhi-ep-19-savitas-wedding-hindi.pdf--0047.jpg to /content/savita\n",
            "Copied vdoc.pub_savita-bhabhi-ep-19-savitas-wedding-hindi.pdf--0044.jpg to /content/savita\n",
            "Copied zidane.jpg to /content/savita\n",
            "Copied zidane2.jpg to /content/savita\n",
            "Copied vdoc.pub_savita-bhabhi-ep-19-savitas-wedding-hindi.pdf--026.jpg to /content/savita\n",
            "Copied vdoc.pub_savita-bhabhi-ep-19-savitas-wedding-hindi.pdf--026.jpg to /content/savita\n",
            "Copied vdoc.pub_savita-bhabhi-ep-19-savitas-wedding-hindi.pdf--0262.jpg to /content/savita\n",
            "Copied vdoc.pub_savita-bhabhi-ep-19-savitas-wedding-hindi.pdf--023.jpg to /content/savita\n",
            "Copied vdoc.pub_savita-bhabhi-ep-19-savitas-wedding-hindi.pdf--0232.jpg to /content/savita\n",
            "Copied vdoc.pub_savita-bhabhi-ep-19-savitas-wedding-hindi.pdf--023.jpg to /content/savita\n",
            "Copied vdoc.pub_savita-bhabhi-ep-19-savitas-wedding-hindi.pdf--019.jpg to /content/savita\n",
            "Copied vdoc.pub_savita-bhabhi-ep-19-savitas-wedding-hindi.pdf--019.jpg to /content/savita\n"
          ]
        }
      ]
    },
    {
      "cell_type": "code",
      "source": [
        "!zip -r /content/drive/MyDrive/savi.zip  /content/savita/"
      ],
      "metadata": {
        "colab": {
          "base_uri": "https://localhost:8080/"
        },
        "id": "1FKcjZMF0ldG",
        "outputId": "8e6ae799-93b7-4d9e-9bc4-cfee39425b1a"
      },
      "execution_count": null,
      "outputs": [
        {
          "output_type": "stream",
          "name": "stdout",
          "text": [
            "  adding: content/savita/ (stored 0%)\n",
            "  adding: content/savita/vdoc.pub_savita-bhabhi-ep-19-savitas-wedding-hindi.pdf--0182.jpg (deflated 1%)\n",
            "  adding: content/savita/vdoc.pub_savita-bhabhi-ep-19-savitas-wedding-hindi.pdf--0012.jpg (deflated 3%)\n",
            "  adding: content/savita/vdoc.pub_savita-bhabhi-ep-19-savitas-wedding-hindi.pdf--009.jpg (deflated 1%)\n",
            "  adding: content/savita/vdoc.pub_savita-bhabhi-ep-19-savitas-wedding-hindi.pdf--0102.jpg (deflated 0%)\n",
            "  adding: content/savita/vdoc.pub_savita-bhabhi-ep-19-savitas-wedding-hindi.pdf--0294.jpg (deflated 1%)\n",
            "  adding: content/savita/vdoc.pub_savita-bhabhi-ep-19-savitas-wedding-hindi.pdf--0082.jpg (deflated 1%)\n",
            "  adding: content/savita/vdoc.pub_savita-bhabhi-ep-19-savitas-wedding-hindi.pdf--00212.jpg (deflated 1%)\n",
            "  adding: content/savita/vdoc.pub_savita-bhabhi-ep-19-savitas-wedding-hindi.pdf--0076.jpg (deflated 9%)\n",
            "  adding: content/savita/vdoc.pub_savita-bhabhi-ep-19-savitas-wedding-hindi.pdf--0045.jpg (deflated 1%)\n",
            "  adding: content/savita/vdoc.pub_savita-bhabhi-ep-19-savitas-wedding-hindi.pdf--0046.jpg (deflated 1%)\n",
            "  adding: content/savita/vdoc.pub_savita-bhabhi-ep-19-savitas-wedding-hindi.pdf--022.jpg (deflated 1%)\n",
            "  adding: content/savita/vdoc.pub_savita-bhabhi-ep-19-savitas-wedding-hindi.pdf--0036.jpg (deflated 3%)\n",
            "  adding: content/savita/vdoc.pub_savita-bhabhi-ep-19-savitas-wedding-hindi.pdf--004.jpg (deflated 1%)\n",
            "  adding: content/savita/vdoc.pub_savita-bhabhi-ep-19-savitas-wedding-hindi.pdf--0014.jpg (deflated 6%)\n",
            "  adding: content/savita/vdoc.pub_savita-bhabhi-ep-19-savitas-wedding-hindi.pdf--006.jpg (deflated 1%)\n",
            "  adding: content/savita/zidane.jpg (deflated 0%)\n",
            "  adding: content/savita/vdoc.pub_savita-bhabhi-ep-19-savitas-wedding-hindi.pdf--0123.jpg (deflated 1%)\n",
            "  adding: content/savita/vdoc.pub_savita-bhabhi-ep-19-savitas-wedding-hindi.pdf--0015.jpg (deflated 2%)\n",
            "  adding: content/savita/vdoc.pub_savita-bhabhi-ep-19-savitas-wedding-hindi.pdf--000.jpg (deflated 1%)\n",
            "  adding: content/savita/vdoc.pub_savita-bhabhi-ep-19-savitas-wedding-hindi.pdf--00112.jpg (deflated 1%)\n",
            "  adding: content/savita/vdoc.pub_savita-bhabhi-ep-19-savitas-wedding-hindi.pdf--0135.jpg (deflated 1%)\n",
            "  adding: content/savita/vdoc.pub_savita-bhabhi-ep-19-savitas-wedding-hindi.pdf--0113.jpg (deflated 0%)\n",
            "  adding: content/savita/vdoc.pub_savita-bhabhi-ep-19-savitas-wedding-hindi.pdf--0232.jpg (deflated 1%)\n",
            "  adding: content/savita/vdoc.pub_savita-bhabhi-ep-19-savitas-wedding-hindi.pdf--0026.jpg (deflated 1%)\n",
            "  adding: content/savita/vdoc.pub_savita-bhabhi-ep-19-savitas-wedding-hindi.pdf--0019.jpg (deflated 1%)\n",
            "  adding: content/savita/vdoc.pub_savita-bhabhi-ep-19-savitas-wedding-hindi.pdf--0305.jpg (deflated 1%)\n",
            "  adding: content/savita/vdoc.pub_savita-bhabhi-ep-19-savitas-wedding-hindi.pdf--0212.jpg (deflated 1%)\n",
            "  adding: content/savita/vdoc.pub_savita-bhabhi-ep-19-savitas-wedding-hindi.pdf--0133.jpg (deflated 1%)\n",
            "  adding: content/savita/vdoc.pub_savita-bhabhi-ep-19-savitas-wedding-hindi.pdf--0143.jpg (deflated 1%)\n",
            "  adding: content/savita/vdoc.pub_savita-bhabhi-ep-19-savitas-wedding-hindi.pdf--026.jpg (deflated 1%)\n",
            "  adding: content/savita/vdoc.pub_savita-bhabhi-ep-19-savitas-wedding-hindi.pdf--0029.jpg (deflated 1%)\n",
            "  adding: content/savita/vdoc.pub_savita-bhabhi-ep-19-savitas-wedding-hindi.pdf--0075.jpg (deflated 1%)\n",
            "  adding: content/savita/vdoc.pub_savita-bhabhi-ep-19-savitas-wedding-hindi.pdf--0023.jpg (deflated 1%)\n",
            "  adding: content/savita/vdoc.pub_savita-bhabhi-ep-19-savitas-wedding-hindi.pdf--021.jpg (deflated 1%)\n",
            "  adding: content/savita/vdoc.pub_savita-bhabhi-ep-19-savitas-wedding-hindi.pdf--0146.jpg (deflated 1%)\n",
            "  adding: content/savita/vdoc.pub_savita-bhabhi-ep-19-savitas-wedding-hindi.pdf--007.jpg (deflated 1%)\n",
            "  adding: content/savita/vdoc.pub_savita-bhabhi-ep-19-savitas-wedding-hindi.pdf--014.jpg (deflated 1%)\n",
            "  adding: content/savita/vdoc.pub_savita-bhabhi-ep-19-savitas-wedding-hindi.pdf--0094.jpg (deflated 1%)\n",
            "  adding: content/savita/vdoc.pub_savita-bhabhi-ep-19-savitas-wedding-hindi.pdf--00110.jpg (deflated 1%)\n",
            "  adding: content/savita/vdoc.pub_savita-bhabhi-ep-19-savitas-wedding-hindi.pdf--0282.jpg (deflated 1%)\n",
            "  adding: content/savita/vdoc.pub_savita-bhabhi-ep-19-savitas-wedding-hindi.pdf--00213.jpg (deflated 1%)\n",
            "  adding: content/savita/vdoc.pub_savita-bhabhi-ep-19-savitas-wedding-hindi.pdf--0122.jpg (deflated 0%)\n",
            "  adding: content/savita/vdoc.pub_savita-bhabhi-ep-19-savitas-wedding-hindi.pdf--0085.jpg (deflated 1%)\n",
            "  adding: content/savita/vdoc.pub_savita-bhabhi-ep-19-savitas-wedding-hindi.pdf--0292.jpg (deflated 1%)\n",
            "  adding: content/savita/vdoc.pub_savita-bhabhi-ep-19-savitas-wedding-hindi.pdf--0134.jpg (deflated 3%)\n",
            "  adding: content/savita/vdoc.pub_savita-bhabhi-ep-19-savitas-wedding-hindi.pdf--0055.jpg (deflated 1%)\n",
            "  adding: content/savita/vdoc.pub_savita-bhabhi-ep-19-savitas-wedding-hindi.pdf--0093.jpg (deflated 1%)\n",
            "  adding: content/savita/vdoc.pub_savita-bhabhi-ep-19-savitas-wedding-hindi.pdf--0022.jpg (deflated 2%)\n",
            "  adding: content/savita/vdoc.pub_savita-bhabhi-ep-19-savitas-wedding-hindi.pdf--011.jpg (deflated 1%)\n",
            "  adding: content/savita/vdoc.pub_savita-bhabhi-ep-19-savitas-wedding-hindi.pdf--001.jpg (deflated 1%)\n",
            "  adding: content/savita/vdoc.pub_savita-bhabhi-ep-19-savitas-wedding-hindi.pdf--008.jpg (deflated 3%)\n",
            "  adding: content/savita/vdoc.pub_savita-bhabhi-ep-19-savitas-wedding-hindi.pdf--0293.jpg (deflated 2%)\n",
            "  adding: content/savita/vdoc.pub_savita-bhabhi-ep-19-savitas-wedding-hindi.pdf--00114.jpg (deflated 2%)\n",
            "  adding: content/savita/vdoc.pub_savita-bhabhi-ep-19-savitas-wedding-hindi.pdf--028.jpg (deflated 2%)\n",
            "  adding: content/savita/vdoc.pub_savita-bhabhi-ep-19-savitas-wedding-hindi.pdf--010.jpg (deflated 1%)\n",
            "  adding: content/savita/vdoc.pub_savita-bhabhi-ep-19-savitas-wedding-hindi.pdf--00111.jpg (deflated 1%)\n",
            "  adding: content/savita/vdoc.pub_savita-bhabhi-ep-19-savitas-wedding-hindi.pdf--0043.jpg (deflated 1%)\n",
            "  adding: content/savita/vdoc.pub_savita-bhabhi-ep-19-savitas-wedding-hindi.pdf--0042.jpg (deflated 1%)\n",
            "  adding: content/savita/vdoc.pub_savita-bhabhi-ep-19-savitas-wedding-hindi.pdf--0163.jpg (deflated 1%)\n",
            "  adding: content/savita/vdoc.pub_savita-bhabhi-ep-19-savitas-wedding-hindi.pdf--0034.jpg (deflated 2%)\n",
            "  adding: content/savita/vdoc.pub_savita-bhabhi-ep-19-savitas-wedding-hindi.pdf--0027.jpg (deflated 1%)\n",
            "  adding: content/savita/vdoc.pub_savita-bhabhi-ep-19-savitas-wedding-hindi.pdf--005.jpg (deflated 1%)\n",
            "  adding: content/savita/vdoc.pub_savita-bhabhi-ep-19-savitas-wedding-hindi.pdf--0028.jpg (deflated 1%)\n",
            "  adding: content/savita/vdoc.pub_savita-bhabhi-ep-19-savitas-wedding-hindi.pdf--0032.jpg (deflated 1%)\n",
            "  adding: content/savita/vdoc.pub_savita-bhabhi-ep-19-savitas-wedding-hindi.pdf--0033.jpg (deflated 1%)\n",
            "  adding: content/savita/vdoc.pub_savita-bhabhi-ep-19-savitas-wedding-hindi.pdf--00211.jpg (deflated 1%)\n",
            "  adding: content/savita/vdoc.pub_savita-bhabhi-ep-19-savitas-wedding-hindi.pdf--00113.jpg (deflated 1%)\n",
            "  adding: content/savita/vdoc.pub_savita-bhabhi-ep-19-savitas-wedding-hindi.pdf--0095.jpg (deflated 1%)\n",
            "  adding: content/savita/vdoc.pub_savita-bhabhi-ep-19-savitas-wedding-hindi.pdf--0057.jpg (deflated 1%)\n",
            "  adding: content/savita/vdoc.pub_savita-bhabhi-ep-19-savitas-wedding-hindi.pdf--029.jpg (deflated 1%)\n",
            "  adding: content/savita/vdoc.pub_savita-bhabhi-ep-19-savitas-wedding-hindi.pdf--024.jpg (deflated 1%)\n",
            "  adding: content/savita/vdoc.pub_savita-bhabhi-ep-19-savitas-wedding-hindi.pdf--00214.jpg (deflated 1%)\n",
            "  adding: content/savita/vdoc.pub_savita-bhabhi-ep-19-savitas-wedding-hindi.pdf--0183.jpg (deflated 1%)\n",
            "  adding: content/savita/vdoc.pub_savita-bhabhi-ep-19-savitas-wedding-hindi.pdf--0039.jpg (deflated 2%)\n",
            "  adding: content/savita/vdoc.pub_savita-bhabhi-ep-19-savitas-wedding-hindi.pdf--0203.jpg (deflated 2%)\n",
            "  adding: content/savita/vdoc.pub_savita-bhabhi-ep-19-savitas-wedding-hindi.pdf--0063.jpg (deflated 2%)\n",
            "  adding: content/savita/vdoc.pub_savita-bhabhi-ep-19-savitas-wedding-hindi.pdf--0047.jpg (deflated 2%)\n",
            "  adding: content/savita/vdoc.pub_savita-bhabhi-ep-19-savitas-wedding-hindi.pdf--019.jpg (deflated 1%)\n",
            "  adding: content/savita/vdoc.pub_savita-bhabhi-ep-19-savitas-wedding-hindi.pdf--0083.jpg (deflated 2%)\n",
            "  adding: content/savita/vdoc.pub_savita-bhabhi-ep-19-savitas-wedding-hindi.pdf--0074.jpg (deflated 1%)\n",
            "  adding: content/savita/vdoc.pub_savita-bhabhi-ep-19-savitas-wedding-hindi.pdf--0092.jpg (deflated 2%)\n",
            "  adding: content/savita/vdoc.pub_savita-bhabhi-ep-19-savitas-wedding-hindi.pdf--0035.jpg (deflated 1%)\n",
            "  adding: content/savita/vdoc.pub_savita-bhabhi-ep-19-savitas-wedding-hindi.pdf--0103.jpg (deflated 1%)\n",
            "  adding: content/savita/vdoc.pub_savita-bhabhi-ep-19-savitas-wedding-hindi.pdf--0018.jpg (deflated 1%)\n",
            "  adding: content/savita/vdoc.pub_savita-bhabhi-ep-19-savitas-wedding-hindi.pdf--016.jpg (deflated 2%)\n",
            "  adding: content/savita/vdoc.pub_savita-bhabhi-ep-19-savitas-wedding-hindi.pdf--020.jpg (deflated 1%)\n",
            "  adding: content/savita/vdoc.pub_savita-bhabhi-ep-19-savitas-wedding-hindi.pdf--0213.jpg (deflated 1%)\n",
            "  adding: content/savita/vdoc.pub_savita-bhabhi-ep-19-savitas-wedding-hindi.pdf--015.jpg (deflated 1%)\n",
            "  adding: content/savita/zidane2.jpg (deflated 0%)\n",
            "  adding: content/savita/vdoc.pub_savita-bhabhi-ep-19-savitas-wedding-hindi.pdf--030.jpg (deflated 1%)\n",
            "  adding: content/savita/vdoc.pub_savita-bhabhi-ep-19-savitas-wedding-hindi.pdf--00210.jpg (deflated 2%)\n",
            "  adding: content/savita/vdoc.pub_savita-bhabhi-ep-19-savitas-wedding-hindi.pdf--023.jpg (deflated 1%)\n",
            "  adding: content/savita/vdoc.pub_savita-bhabhi-ep-19-savitas-wedding-hindi.pdf--0062.jpg (deflated 1%)\n",
            "  adding: content/savita/vdoc.pub_savita-bhabhi-ep-19-savitas-wedding-hindi.pdf--0262.jpg (deflated 1%)\n",
            "  adding: content/savita/vdoc.pub_savita-bhabhi-ep-19-savitas-wedding-hindi.pdf--0162.jpg (deflated 1%)\n",
            "  adding: content/savita/vdoc.pub_savita-bhabhi-ep-19-savitas-wedding-hindi.pdf--0073.jpg (deflated 1%)\n",
            "  adding: content/savita/vdoc.pub_savita-bhabhi-ep-19-savitas-wedding-hindi.pdf--0132.jpg (deflated 1%)\n",
            "  adding: content/savita/vdoc.pub_savita-bhabhi-ep-19-savitas-wedding-hindi.pdf--0024.jpg (deflated 2%)\n",
            "  adding: content/savita/vdoc.pub_savita-bhabhi-ep-19-savitas-wedding-hindi.pdf--0145.jpg (deflated 1%)\n",
            "  adding: content/savita/vdoc.pub_savita-bhabhi-ep-19-savitas-wedding-hindi.pdf--0283.jpg (deflated 1%)\n",
            "  adding: content/savita/vdoc.pub_savita-bhabhi-ep-19-savitas-wedding-hindi.pdf--0165.jpg (deflated 0%)\n",
            "  adding: content/savita/vdoc.pub_savita-bhabhi-ep-19-savitas-wedding-hindi.pdf--0016.jpg (deflated 3%)\n",
            "  adding: content/savita/vdoc.pub_savita-bhabhi-ep-19-savitas-wedding-hindi.pdf--0013.jpg (deflated 1%)\n",
            "  adding: content/savita/vdoc.pub_savita-bhabhi-ep-19-savitas-wedding-hindi.pdf--0056.jpg (deflated 1%)\n",
            "  adding: content/savita/vdoc.pub_savita-bhabhi-ep-19-savitas-wedding-hindi.pdf--0038.jpg (deflated 1%)\n",
            "  adding: content/savita/vdoc.pub_savita-bhabhi-ep-19-savitas-wedding-hindi.pdf--012.jpg (deflated 1%)\n",
            "  adding: content/savita/vdoc.pub_savita-bhabhi-ep-19-savitas-wedding-hindi.pdf--0244.jpg (deflated 1%)\n",
            "  adding: content/savita/vdoc.pub_savita-bhabhi-ep-19-savitas-wedding-hindi.pdf--0086.jpg (deflated 1%)\n",
            "  adding: content/savita/vdoc.pub_savita-bhabhi-ep-19-savitas-wedding-hindi.pdf--0242.jpg (deflated 2%)\n",
            "  adding: content/savita/vdoc.pub_savita-bhabhi-ep-19-savitas-wedding-hindi.pdf--0164.jpg (deflated 1%)\n",
            "  adding: content/savita/vdoc.pub_savita-bhabhi-ep-19-savitas-wedding-hindi.pdf--0054.jpg (deflated 1%)\n",
            "  adding: content/savita/vdoc.pub_savita-bhabhi-ep-19-savitas-wedding-hindi.pdf--0142.jpg (deflated 1%)\n",
            "  adding: content/savita/vdoc.pub_savita-bhabhi-ep-19-savitas-wedding-hindi.pdf--00115.jpg (deflated 1%)\n",
            "  adding: content/savita/vdoc.pub_savita-bhabhi-ep-19-savitas-wedding-hindi.pdf--0053.jpg (deflated 3%)\n",
            "  adding: content/savita/vdoc.pub_savita-bhabhi-ep-19-savitas-wedding-hindi.pdf--0304.jpg (deflated 1%)\n",
            "  adding: content/savita/vdoc.pub_savita-bhabhi-ep-19-savitas-wedding-hindi.pdf--0044.jpg (deflated 1%)\n",
            "  adding: content/savita/vdoc.pub_savita-bhabhi-ep-19-savitas-wedding-hindi.pdf--0302.jpg (deflated 3%)\n",
            "  adding: content/savita/vdoc.pub_savita-bhabhi-ep-19-savitas-wedding-hindi.pdf--0037.jpg (deflated 1%)\n",
            "  adding: content/savita/vdoc.pub_savita-bhabhi-ep-19-savitas-wedding-hindi.pdf--0025.jpg (deflated 1%)\n",
            "  adding: content/savita/vdoc.pub_savita-bhabhi-ep-19-savitas-wedding-hindi.pdf--0144.jpg (deflated 1%)\n",
            "  adding: content/savita/vdoc.pub_savita-bhabhi-ep-19-savitas-wedding-hindi.pdf--0052.jpg (deflated 1%)\n",
            "  adding: content/savita/vdoc.pub_savita-bhabhi-ep-19-savitas-wedding-hindi.pdf--00116.jpg (deflated 1%)\n",
            "  adding: content/savita/vdoc.pub_savita-bhabhi-ep-19-savitas-wedding-hindi.pdf--017.jpg (deflated 1%)\n",
            "  adding: content/savita/vdoc.pub_savita-bhabhi-ep-19-savitas-wedding-hindi.pdf--0112.jpg (deflated 1%)\n",
            "  adding: content/savita/vdoc.pub_savita-bhabhi-ep-19-savitas-wedding-hindi.pdf--002.jpg (deflated 2%)\n",
            "  adding: content/savita/vdoc.pub_savita-bhabhi-ep-19-savitas-wedding-hindi.pdf--013.jpg (deflated 2%)\n",
            "  adding: content/savita/vdoc.pub_savita-bhabhi-ep-19-savitas-wedding-hindi.pdf--0303.jpg (deflated 1%)\n",
            "  adding: content/savita/vdoc.pub_savita-bhabhi-ep-19-savitas-wedding-hindi.pdf--018.jpg (deflated 1%)\n",
            "  adding: content/savita/vdoc.pub_savita-bhabhi-ep-19-savitas-wedding-hindi.pdf--027.jpg (deflated 1%)\n",
            "  adding: content/savita/vdoc.pub_savita-bhabhi-ep-19-savitas-wedding-hindi.pdf--0084.jpg (deflated 1%)\n",
            "  adding: content/savita/vdoc.pub_savita-bhabhi-ep-19-savitas-wedding-hindi.pdf--0072.jpg (deflated 1%)\n",
            "  adding: content/savita/vdoc.pub_savita-bhabhi-ep-19-savitas-wedding-hindi.pdf--0202.jpg (deflated 1%)\n",
            "  adding: content/savita/vdoc.pub_savita-bhabhi-ep-19-savitas-wedding-hindi.pdf--0243.jpg (deflated 1%)\n",
            "  adding: content/savita/vdoc.pub_savita-bhabhi-ep-19-savitas-wedding-hindi.pdf--025.jpg (deflated 1%)\n",
            "  adding: content/savita/vdoc.pub_savita-bhabhi-ep-19-savitas-wedding-hindi.pdf--0017.jpg (deflated 2%)\n",
            "  adding: content/savita/vdoc.pub_savita-bhabhi-ep-19-savitas-wedding-hindi.pdf--003.jpg (deflated 3%)\n"
          ]
        }
      ]
    },
    {
      "cell_type": "code",
      "source": [
        "!pdfimages -all savita.pdf /content/temp/sadvro"
      ],
      "metadata": {
        "colab": {
          "base_uri": "https://localhost:8080/"
        },
        "id": "cb4Di4X061S0",
        "outputId": "b8e9bab4-1625-44cd-b841-220bb6d32493"
      },
      "execution_count": null,
      "outputs": [
        {
          "output_type": "stream",
          "name": "stdout",
          "text": [
            "Syntax Warning: May not be a PDF file (continuing anyway)\n",
            "Syntax Error (19006): Illegal character <b4> in hex string\n",
            "Syntax Error (19007): Illegal character <03> in hex string\n",
            "Syntax Error (19008): Illegal character <8f> in hex string\n",
            "Syntax Error (19009): Illegal character <bf> in hex string\n",
            "Syntax Error (19010): Illegal character <ed> in hex string\n",
            "Syntax Error (19011): Illegal character <5f> in hex string\n",
            "Syntax Error (19012): Illegal character <ac> in hex string\n",
            "Syntax Error (19014): Illegal character <6d> in hex string\n",
            "Syntax Error (19015): Illegal character <7e> in hex string\n",
            "Syntax Error (19016): Illegal character <4b> in hex string\n",
            "Syntax Error (19017): Illegal character <ab> in hex string\n",
            "Syntax Error (19018): Illegal character <fa> in hex string\n",
            "Syntax Error (19019): Illegal character <7b> in hex string\n",
            "Syntax Error (19020): Illegal character <df> in hex string\n",
            "Syntax Error (19021): Illegal character <ea> in hex string\n",
            "Syntax Error (19022): Illegal character <fa> in hex string\n",
            "Syntax Error (19023): Illegal character <7f> in hex string\n",
            "Syntax Error (19024): Illegal character <ce> in hex string\n",
            "Syntax Error (19025): Illegal character <ff> in hex string\n",
            "Syntax Error (19027): Illegal character <a2> in hex string\n",
            "Syntax Error (19028): Illegal character <e2> in hex string\n",
            "Syntax Error (19029): Illegal character <72> in hex string\n",
            "Syntax Error (19030): Illegal character <6b> in hex string\n",
            "Syntax Error (19031): Illegal character <d8> in hex string\n",
            "Syntax Error (19032): Illegal character <ea> in hex string\n",
            "Syntax Error (19033): Illegal character <59> in hex string\n",
            "Syntax Error (19034): Illegal character <24> in hex string\n",
            "Syntax Error (19035): Illegal character <8f> in hex string\n",
            "Syntax Error (19036): Illegal character <51> in hex string\n",
            "Syntax Error (19037): Illegal character <a0> in hex string\n",
            "Syntax Error (19038): Illegal character <cf> in hex string\n",
            "Syntax Error (19039): Illegal character <7d> in hex string\n",
            "Syntax Error (19040): Illegal character <a0> in hex string\n",
            "Syntax Error (19041): Illegal character <bb> in hex string\n",
            "Syntax Error (19042): Illegal character <fe> in hex string\n",
            "Syntax Error (19043): Illegal character <fa> in hex string\n",
            "Syntax Error (19044): Illegal character <9b> in hex string\n",
            "Syntax Error (19045): Illegal character <93> in hex string\n",
            "Syntax Error (19046): Illegal character <87> in hex string\n",
            "Syntax Error (19047): Illegal character <50> in hex string\n",
            "Syntax Error (19049): Illegal character <e8> in hex string\n",
            "Syntax Error (19050): Illegal character <de> in hex string\n",
            "Syntax Error (19051): Illegal character <e5> in hex string\n",
            "Syntax Error (19052): Illegal character <f1> in hex string\n",
            "Syntax Error (19053): Illegal character <e7> in hex string\n",
            "Syntax Error (19054): Illegal character <c9> in hex string\n",
            "Syntax Error (19055): Illegal character <8f> in hex string\n",
            "Syntax Error (19056): Illegal character <dc> in hex string\n",
            "Syntax Error (19057): Illegal character <94> in hex string\n",
            "Syntax Error (19058): Illegal character <88> in hex string\n",
            "Syntax Error (19059): Illegal character <85> in hex string\n",
            "Syntax Error (19060): Illegal character <81> in hex string\n",
            "Syntax Error (19061): Illegal character <1d> in hex string\n",
            "Syntax Error (19063): Illegal character <78> in hex string\n",
            "Syntax Error (19064): Illegal character <bd> in hex string\n",
            "Syntax Error (19065): Illegal character <5c> in hex string\n",
            "Syntax Error (19066): Illegal character <3f> in hex string\n",
            "Syntax Error (19067): Illegal character <df> in hex string\n",
            "Syntax Error (19068): Illegal character <c7> in hex string\n",
            "Syntax Error (19069): Illegal character <fd> in hex string\n",
            "Syntax Error (19070): Illegal character <e7> in hex string\n",
            "Syntax Error (19071): Illegal character <aa> in hex string\n",
            "Syntax Error (19072): Illegal character <bf> in hex string\n",
            "Syntax Error (19073): Illegal character <2f> in hex string\n",
            "Syntax Error (19074): Illegal character <12> in hex string\n",
            "Syntax Error (19075): Illegal character <9e> in hex string\n",
            "Syntax Error (19076): Illegal character <9d> in hex string\n",
            "Syntax Error (19077): Illegal character <94> in hex string\n",
            "Syntax Error (19078): Illegal character <e6> in hex string\n",
            "Syntax Error (19080): Illegal character <5c> in hex string\n",
            "Syntax Error (19081): Illegal character <4d> in hex string\n",
            "Syntax Error (19082): Illegal character <f5> in hex string\n",
            "Syntax Error (19083): Illegal character <06> in hex string\n",
            "Syntax Error (19084): Illegal character <86> in hex string\n",
            "Syntax Error (19085): Illegal character <5a> in hex string\n",
            "Syntax Error (19086): Illegal character <ca> in hex string\n",
            "Syntax Error (19087): Illegal character <ec> in hex string\n",
            "Syntax Error (19088): Illegal character <b2> in hex string\n",
            "Syntax Error (19089): Illegal character <d2> in hex string\n",
            "Syntax Error (19090): Illegal character <47> in hex string\n",
            "Syntax Error (19091): Illegal character <a1> in hex string\n",
            "Syntax Error (19092): Illegal character <5d> in hex string\n",
            "Syntax Error (19093): Illegal character <17> in hex string\n",
            "Syntax Error (19094): Illegal character <e4> in hex string\n",
            "Syntax Error (19095): Illegal character <dc> in hex string\n",
            "Syntax Error (19096): Illegal character <d7> in hex string\n",
            "Syntax Error (19097): Illegal character <dc> in hex string\n",
            "Syntax Error (19098): Illegal character <ea> in hex string\n",
            "Syntax Error (19099): Illegal character <5e> in hex string\n",
            "Syntax Error (19100): Illegal character <eb> in hex string\n",
            "Syntax Error (19102): Illegal character <7b> in hex string\n",
            "Syntax Error (19103): Illegal character <ec> in hex string\n",
            "Syntax Error (19104): Illegal character <fd> in hex string\n",
            "Syntax Error (19106): Illegal character <6f> in hex string\n",
            "Syntax Error (19107): Illegal character <b3> in hex string\n",
            "Syntax Error (19108): Illegal character <d2> in hex string\n",
            "Syntax Error (19109): Illegal character <f4> in hex string\n",
            "Syntax Error (19110): Illegal character <d5> in hex string\n",
            "Syntax Error (19111): Illegal character <d6> in hex string\n",
            "Syntax Error (19112): Illegal character <7d> in hex string\n",
            "Syntax Error (19114): Illegal character <c8> in hex string\n",
            "Syntax Error (19115): Illegal character <fb> in hex string\n",
            "Syntax Error (19116): Illegal character <3d> in hex string\n",
            "Syntax Error (19118): Illegal character <dd> in hex string\n",
            "Syntax Error (19119): Illegal character <d2> in hex string\n",
            "Syntax Error (19120): Illegal character <e9> in hex string\n",
            "Syntax Error (19121): Illegal character <27> in hex string\n",
            "Syntax Error (19122): Illegal character <1f> in hex string\n",
            "Syntax Error (19124): Illegal character <ab> in hex string\n",
            "Syntax Error (19125): Illegal character <6b> in hex string\n",
            "Syntax Error (19127): Illegal character <1b> in hex string\n",
            "Syntax Error (19128): Illegal character <b5> in hex string\n",
            "Syntax Error (19129): Illegal character <8f> in hex string\n",
            "Syntax Error (19130): Illegal character <ac> in hex string\n",
            "Syntax Error (19131): Illegal character <6c> in hex string\n",
            "Syntax Error (19133): Illegal character <95> in hex string\n",
            "Syntax Error (19134): Illegal character <55> in hex string\n",
            "Syntax Error (19135): Illegal character <6d> in hex string\n",
            "Syntax Error (19136): Illegal character <3b> in hex string\n",
            "Syntax Error (19137): Illegal character <a9> in hex string\n",
            "Syntax Error (19138): Illegal character <d9> in hex string\n",
            "Syntax Error (19139): Illegal character <fe> in hex string\n",
            "Syntax Error (19140): Illegal character <0b> in hex string\n",
            "Syntax Error (19141): Illegal character <dd> in hex string\n",
            "Syntax Error (19143): Illegal character <c5> in hex string\n",
            "Syntax Error (19144): Illegal character <c7> in hex string\n",
            "Syntax Error (19145): Illegal character <75> in hex string\n",
            "Syntax Error (19146): Illegal character <27> in hex string\n",
            "Syntax Error (19147): Illegal character <ee> in hex string\n",
            "Syntax Error (19148): Illegal character <a2> in hex string\n",
            "Syntax Error (19149): Illegal character <b6> in hex string\n",
            "Syntax Error (19150): Illegal character <8e> in hex string\n",
            "Syntax Error (19151): Illegal character <ee> in hex string\n",
            "Syntax Error (19152): Illegal character <60> in hex string\n",
            "Syntax Error (19153): Illegal character <f9> in hex string\n",
            "Syntax Error (19154): Illegal character <0f> in hex string\n",
            "Syntax Error (19155): Illegal character <77> in hex string\n",
            "Syntax Error (19156): Illegal character <fd> in hex string\n",
            "Syntax Error (19157): Illegal character <f5> in hex string\n",
            "Syntax Error (19159): Illegal character <16> in hex string\n",
            "Syntax Error (19160): Illegal character <cb> in hex string\n",
            "Syntax Error (19161): Illegal character <18> in hex string\n",
            "Syntax Error (19162): Illegal character <76> in hex string\n",
            "Syntax Error (19163): Illegal character <b2> in hex string\n",
            "Syntax Error (19164): Illegal character <5c> in hex string\n",
            "Syntax Error (19165): Illegal character <ff> in hex string\n",
            "Syntax Error (19167): Illegal character <dd> in hex string\n",
            "Syntax Error (19168): Illegal character <06> in hex string\n",
            "Syntax Error (19170): Illegal character <f3> in hex string\n",
            "Syntax Error (19171): Illegal character <7b> in hex string\n",
            "Syntax Error (19172): Illegal character <bf> in hex string\n",
            "Syntax Error (19174): Illegal character <56> in hex string\n",
            "Syntax Error (19175): Illegal character <8e> in hex string\n",
            "Syntax Error (19176): Illegal character <21> in hex string\n",
            "Syntax Error (19177): Illegal character <28> in hex string\n",
            "Syntax Error (19178): Illegal character <71> in hex string\n",
            "Syntax Error (19179): Illegal character <1a> in hex string\n",
            "Syntax Error (19180): Illegal character <bb> in hex string\n",
            "Syntax Error: Couldn't find trailer dictionary\n",
            "Syntax Error: Couldn't find trailer dictionary\n",
            "Syntax Error: Couldn't read xref table\n"
          ]
        }
      ]
    },
    {
      "cell_type": "code",
      "source": [],
      "metadata": {
        "id": "_J0_M5Zz5bmq"
      },
      "execution_count": null,
      "outputs": []
    },
    {
      "cell_type": "code",
      "source": [
        "file_download_link = \"https://docs.google.com/uc?export=download&id=1tsIwsMfeoSon6Z3_RUOcjjsw4Uyz4Lvy&confirm=T\"\n",
        "!wget --no-check-certificate \"$file_download_link\"\n"
      ],
      "metadata": {
        "colab": {
          "base_uri": "https://localhost:8080/"
        },
        "id": "O7RfUyqlzPKc",
        "outputId": "e73d6e63-e573-4f12-9fda-c09715fa8bb5"
      },
      "execution_count": null,
      "outputs": [
        {
          "output_type": "stream",
          "name": "stdout",
          "text": [
            "--2023-06-02 06:34:31--  https://docs.google.com/uc?export=download&id=1tsIwsMfeoSon6Z3_RUOcjjsw4Uyz4Lvy&confirm=T\n",
            "Resolving docs.google.com (docs.google.com)... 74.125.31.113, 74.125.31.101, 74.125.31.139, ...\n",
            "Connecting to docs.google.com (docs.google.com)|74.125.31.113|:443... connected.\n",
            "HTTP request sent, awaiting response... 303 See Other\n",
            "Location: https://doc-14-74-docs.googleusercontent.com/docs/securesc/ha0ro937gcuc7l7deffksulhg5h7mbp1/98o9tgcf4cks0ug4fmql5k5446mvnmuf/1685687625000/05093985172315200812/*/1tsIwsMfeoSon6Z3_RUOcjjsw4Uyz4Lvy?e=download&uuid=e8908b4d-7689-4d2e-b3a0-ec8d9b386501 [following]\n",
            "Warning: wildcards not supported in HTTP.\n",
            "--2023-06-02 06:34:32--  https://doc-14-74-docs.googleusercontent.com/docs/securesc/ha0ro937gcuc7l7deffksulhg5h7mbp1/98o9tgcf4cks0ug4fmql5k5446mvnmuf/1685687625000/05093985172315200812/*/1tsIwsMfeoSon6Z3_RUOcjjsw4Uyz4Lvy?e=download&uuid=e8908b4d-7689-4d2e-b3a0-ec8d9b386501\n",
            "Resolving doc-14-74-docs.googleusercontent.com (doc-14-74-docs.googleusercontent.com)... 74.125.141.132, 2607:f8b0:400c:c06::84\n",
            "Connecting to doc-14-74-docs.googleusercontent.com (doc-14-74-docs.googleusercontent.com)|74.125.141.132|:443... connected.\n",
            "HTTP request sent, awaiting response... 200 OK\n",
            "Length: 18002667 (17M) [application/pdf]\n",
            "Saving to: ‘uc?export=download&id=1tsIwsMfeoSon6Z3_RUOcjjsw4Uyz4Lvy&confirm=T’\n",
            "\n",
            "uc?export=download& 100%[===================>]  17.17M   107MB/s    in 0.2s    \n",
            "\n",
            "2023-06-02 06:34:33 (107 MB/s) - ‘uc?export=download&id=1tsIwsMfeoSon6Z3_RUOcjjsw4Uyz4Lvy&confirm=T’ saved [18002667/18002667]\n",
            "\n"
          ]
        }
      ]
    },
    {
      "cell_type": "code",
      "source": [
        "!rm -rf /content/sad"
      ],
      "metadata": {
        "id": "nyniPNAhDyr1"
      },
      "execution_count": null,
      "outputs": []
    },
    {
      "cell_type": "code",
      "source": [
        "import torch\n",
        "import os\n",
        "# Model\n",
        "model = torch.hub.load('ultralytics/yolov5', 'yolov5s')  # or yolov5m, yolov5l, yolov5x, custom\n",
        "model.classes=[0]\n",
        "\n",
        "# Specify the folder path\n",
        "!ls /content/sadbhay |wc -l\n",
        "folder_path = '/content/sadbhay'\n",
        "\n",
        "# Iterate over the files in the folder\n",
        "for file_name in os.listdir(folder_path):\n",
        "    # Print the file name\n",
        "    print(file_name)\n",
        "\n",
        "    # Inference\n",
        "    results = model(f\"{folder_path}/{file_name}\")\n",
        "\n",
        "    # Results\n",
        "    crops = results.crop(save_dir=\"/content/sad/done\")  # or .show(), .save(), .print(), .pandas(), etc.\n",
        "    # Print the separator\n",
        "    print(\"-\" * 50)\n"
      ],
      "metadata": {
        "colab": {
          "base_uri": "https://localhost:8080/",
          "height": 1000
        },
        "id": "X0FTvxP_XLEI",
        "outputId": "a3c8b94f-9081-4fac-df9f-c3524bbd5acb"
      },
      "execution_count": null,
      "outputs": [
        {
          "output_type": "stream",
          "name": "stderr",
          "text": [
            "Using cache found in /root/.cache/torch/hub/ultralytics_yolov5_master\n",
            "YOLOv5 🚀 2023-6-22 Python-3.10.12 torch-2.0.1+cu118 CPU\n",
            "\n",
            "Fusing layers... \n",
            "YOLOv5s summary: 213 layers, 7225885 parameters, 0 gradients\n",
            "Adding AutoShape... \n"
          ]
        },
        {
          "output_type": "stream",
          "name": "stdout",
          "text": [
            "1125\n"
          ]
        },
        {
          "output_type": "stream",
          "name": "stderr",
          "text": [
            "Saved 1 image to \u001b[1m/content/sad/done\u001b[0m\n",
            "Saved results to /content/sad/done\n",
            "\n"
          ]
        },
        {
          "output_type": "stream",
          "name": "stdout",
          "text": [
            "Kangan-RabitMovies-ep1.jpg\n",
            "--------------------------------------------------\n",
            "IMG_1651986981717.jpg\n"
          ]
        },
        {
          "output_type": "stream",
          "name": "stderr",
          "text": [
            "Saved 1 image to \u001b[1m/content/sad/done2\u001b[0m\n",
            "Saved results to /content/sad/done2\n",
            "\n"
          ]
        },
        {
          "output_type": "stream",
          "name": "stdout",
          "text": [
            "--------------------------------------------------\n",
            "adla-badli-ep4.jpg\n"
          ]
        },
        {
          "output_type": "stream",
          "name": "stderr",
          "text": [
            "Saved 1 image to \u001b[1m/content/sad/done3\u001b[0m\n",
            "Saved results to /content/sad/done3\n",
            "\n",
            "Saved 1 image to \u001b[1m/content/sad/done4\u001b[0m\n",
            "Saved results to /content/sad/done4\n",
            "\n"
          ]
        },
        {
          "output_type": "stream",
          "name": "stdout",
          "text": [
            "--------------------------------------------------\n",
            "hb5v1a3uojcf.jpg\n",
            "--------------------------------------------------\n",
            "1-4.jpg\n"
          ]
        },
        {
          "output_type": "stream",
          "name": "stderr",
          "text": [
            "Saved 1 image to \u001b[1m/content/sad/done5\u001b[0m\n",
            "Saved results to /content/sad/done5\n",
            "\n",
            "Saved 1 image to \u001b[1m/content/sad/done6\u001b[0m\n",
            "Saved results to /content/sad/done6\n",
            "\n"
          ]
        },
        {
          "output_type": "stream",
          "name": "stdout",
          "text": [
            "--------------------------------------------------\n",
            "IMG_1656092313385.jpg\n",
            "--------------------------------------------------\n",
            "IMG_1645798208137.jpg\n"
          ]
        },
        {
          "output_type": "stream",
          "name": "stderr",
          "text": [
            "Saved 1 image to \u001b[1m/content/sad/done7\u001b[0m\n",
            "Saved results to /content/sad/done7\n",
            "\n"
          ]
        },
        {
          "output_type": "stream",
          "name": "stdout",
          "text": [
            "--------------------------------------------------\n",
            "Sahara-ep7.jpg\n"
          ]
        },
        {
          "output_type": "stream",
          "name": "stderr",
          "text": [
            "Saved 1 image to \u001b[1m/content/sad/done8\u001b[0m\n",
            "Saved results to /content/sad/done8\n",
            "\n",
            "Saved 1 image to \u001b[1m/content/sad/done9\u001b[0m\n",
            "Saved results to /content/sad/done9\n",
            "\n"
          ]
        },
        {
          "output_type": "stream",
          "name": "stdout",
          "text": [
            "--------------------------------------------------\n",
            "IMG_1660561383634.jpg\n",
            "--------------------------------------------------\n",
            "IMG_1649730093179.jpg\n"
          ]
        },
        {
          "output_type": "stream",
          "name": "stderr",
          "text": [
            "Saved 1 image to \u001b[1m/content/sad/done10\u001b[0m\n",
            "Saved results to /content/sad/done10\n",
            "\n"
          ]
        },
        {
          "output_type": "stream",
          "name": "stdout",
          "text": [
            "--------------------------------------------------\n",
            "IMG_1650330618284.jpg\n"
          ]
        },
        {
          "output_type": "stream",
          "name": "stderr",
          "text": [
            "Saved 1 image to \u001b[1m/content/sad/done11\u001b[0m\n",
            "Saved results to /content/sad/done11\n",
            "\n"
          ]
        },
        {
          "output_type": "stream",
          "name": "stdout",
          "text": [
            "--------------------------------------------------\n",
            "vasuep3.jpg\n"
          ]
        },
        {
          "output_type": "stream",
          "name": "stderr",
          "text": [
            "Saved 1 image to \u001b[1m/content/sad/done12\u001b[0m\n",
            "Saved results to /content/sad/done12\n",
            "\n"
          ]
        },
        {
          "output_type": "stream",
          "name": "stdout",
          "text": [
            "--------------------------------------------------\n",
            "Jane-Anjane-Mein-5.jpg\n"
          ]
        },
        {
          "output_type": "stream",
          "name": "stderr",
          "text": [
            "Saved 1 image to \u001b[1m/content/sad/done13\u001b[0m\n",
            "Saved results to /content/sad/done13\n",
            "\n"
          ]
        },
        {
          "output_type": "stream",
          "name": "stdout",
          "text": [
            "--------------------------------------------------\n",
            "Sundara-Bhabhi-Returns.jpg\n"
          ]
        },
        {
          "output_type": "stream",
          "name": "stderr",
          "text": [
            "Saved 1 image to \u001b[1m/content/sad/done14\u001b[0m\n",
            "Saved results to /content/sad/done14\n",
            "\n",
            "Saved 1 image to \u001b[1m/content/sad/done15\u001b[0m\n",
            "Saved results to /content/sad/done15\n",
            "\n"
          ]
        },
        {
          "output_type": "stream",
          "name": "stdout",
          "text": [
            "--------------------------------------------------\n",
            "pahredar-4-ep1.jpg\n",
            "--------------------------------------------------\n",
            "IMG_1651174876374.jpg\n"
          ]
        },
        {
          "output_type": "stream",
          "name": "stderr",
          "text": [
            "Saved 1 image to \u001b[1m/content/sad/done16\u001b[0m\n",
            "Saved results to /content/sad/done16\n",
            "\n",
            "Saved 1 image to \u001b[1m/content/sad/done17\u001b[0m\n",
            "Saved results to /content/sad/done17\n",
            "\n"
          ]
        },
        {
          "output_type": "stream",
          "name": "stdout",
          "text": [
            "--------------------------------------------------\n",
            "bali-Umar-ep3.jpg\n",
            "--------------------------------------------------\n",
            "Hardcore-Fuck-with-Step-Sister.jpg\n"
          ]
        },
        {
          "output_type": "stream",
          "name": "stderr",
          "text": [
            "Saved 1 image to \u001b[1m/content/sad/done18\u001b[0m\n",
            "Saved results to /content/sad/done18\n",
            "\n",
            "Saved 1 image to \u001b[1m/content/sad/done19\u001b[0m\n",
            "Saved results to /content/sad/done19\n",
            "\n"
          ]
        },
        {
          "output_type": "stream",
          "name": "stdout",
          "text": [
            "--------------------------------------------------\n",
            "8OtNjDi.png\n",
            "--------------------------------------------------\n",
            "maalamaal-ep6.jpg\n"
          ]
        },
        {
          "output_type": "stream",
          "name": "stderr",
          "text": [
            "Saved 1 image to \u001b[1m/content/sad/done20\u001b[0m\n",
            "Saved results to /content/sad/done20\n",
            "\n",
            "Saved 1 image to \u001b[1m/content/sad/done21\u001b[0m\n",
            "Saved results to /content/sad/done21\n",
            "\n"
          ]
        },
        {
          "output_type": "stream",
          "name": "stdout",
          "text": [
            "--------------------------------------------------\n",
            "chakhna.jpg\n",
            "--------------------------------------------------\n",
            "Amrapali4.jpg\n"
          ]
        },
        {
          "output_type": "stream",
          "name": "stderr",
          "text": [
            "Saved 1 image to \u001b[1m/content/sad/done22\u001b[0m\n",
            "Saved results to /content/sad/done22\n",
            "\n"
          ]
        },
        {
          "output_type": "stream",
          "name": "stdout",
          "text": [
            "--------------------------------------------------\n",
            "IMG_1662963257715.jpg\n"
          ]
        },
        {
          "output_type": "stream",
          "name": "stderr",
          "text": [
            "Saved 1 image to \u001b[1m/content/sad/done23\u001b[0m\n",
            "Saved results to /content/sad/done23\n",
            "\n"
          ]
        },
        {
          "output_type": "stream",
          "name": "stdout",
          "text": [
            "--------------------------------------------------\n",
            "Lela.3.jpg\n"
          ]
        },
        {
          "output_type": "stream",
          "name": "stderr",
          "text": [
            "Saved 1 image to \u001b[1m/content/sad/done24\u001b[0m\n",
            "Saved results to /content/sad/done24\n",
            "\n"
          ]
        },
        {
          "output_type": "stream",
          "name": "stdout",
          "text": [
            "--------------------------------------------------\n",
            "Rikshawala-ep7.jpg\n"
          ]
        },
        {
          "output_type": "stream",
          "name": "stderr",
          "text": [
            "Saved 1 image to \u001b[1m/content/sad/done25\u001b[0m\n",
            "Saved results to /content/sad/done25\n",
            "\n"
          ]
        },
        {
          "output_type": "stream",
          "name": "stdout",
          "text": [
            "--------------------------------------------------\n",
            "baby-Marwa-Ke-Manegi-ep2.jpg\n"
          ]
        },
        {
          "output_type": "stream",
          "name": "stderr",
          "text": [
            "Saved 1 image to \u001b[1m/content/sad/done26\u001b[0m\n",
            "Saved results to /content/sad/done26\n",
            "\n"
          ]
        },
        {
          "output_type": "stream",
          "name": "stdout",
          "text": [
            "--------------------------------------------------\n",
            "Love-Guru-2.jpg\n"
          ]
        },
        {
          "output_type": "stream",
          "name": "stderr",
          "text": [
            "Saved 1 image to \u001b[1m/content/sad/done27\u001b[0m\n",
            "Saved results to /content/sad/done27\n",
            "\n"
          ]
        },
        {
          "output_type": "stream",
          "name": "stdout",
          "text": [
            "--------------------------------------------------\n",
            "mol-ki-bahu-ep1.jpg\n"
          ]
        },
        {
          "output_type": "stream",
          "name": "stderr",
          "text": [
            "Saved 1 image to \u001b[1m/content/sad/done28\u001b[0m\n",
            "Saved results to /content/sad/done28\n",
            "\n",
            "Saved 1 image to \u001b[1m/content/sad/done29\u001b[0m\n",
            "Saved results to /content/sad/done29\n",
            "\n"
          ]
        },
        {
          "output_type": "stream",
          "name": "stdout",
          "text": [
            "--------------------------------------------------\n",
            "IMG_20220219_233036.jpg\n",
            "--------------------------------------------------\n",
            "Firangi-Thakurain-ep1.jpg\n"
          ]
        },
        {
          "output_type": "stream",
          "name": "stderr",
          "text": [
            "Saved 1 image to \u001b[1m/content/sad/done30\u001b[0m\n",
            "Saved results to /content/sad/done30\n",
            "\n"
          ]
        },
        {
          "output_type": "stream",
          "name": "stdout",
          "text": [
            "--------------------------------------------------\n",
            "pahredaar-ep1.jpg\n"
          ]
        },
        {
          "output_type": "stream",
          "name": "stderr",
          "text": [
            "Saved 1 image to \u001b[1m/content/sad/done31\u001b[0m\n",
            "Saved results to /content/sad/done31\n",
            "\n"
          ]
        },
        {
          "output_type": "stream",
          "name": "stdout",
          "text": [
            "--------------------------------------------------\n",
            "Sajani-ep2.jpg\n"
          ]
        },
        {
          "output_type": "stream",
          "name": "stderr",
          "text": [
            "Saved 1 image to \u001b[1m/content/sad/done32\u001b[0m\n",
            "Saved results to /content/sad/done32\n",
            "\n"
          ]
        },
        {
          "output_type": "stream",
          "name": "stdout",
          "text": [
            "--------------------------------------------------\n",
            "Maayan-3.jpg\n"
          ]
        },
        {
          "output_type": "stream",
          "name": "stderr",
          "text": [
            "Saved 1 image to \u001b[1m/content/sad/done33\u001b[0m\n",
            "Saved results to /content/sad/done33\n",
            "\n"
          ]
        },
        {
          "output_type": "stream",
          "name": "stdout",
          "text": [
            "--------------------------------------------------\n",
            "favoriteteacherep-04-mkv-20220211-072046-587.png\n"
          ]
        },
        {
          "output_type": "stream",
          "name": "stderr",
          "text": [
            "Saved 1 image to \u001b[1m/content/sad/done34\u001b[0m\n",
            "Saved results to /content/sad/done34\n",
            "\n"
          ]
        },
        {
          "output_type": "stream",
          "name": "stdout",
          "text": [
            "--------------------------------------------------\n",
            "gandi-baat-ep2.jpg\n"
          ]
        },
        {
          "output_type": "stream",
          "name": "stderr",
          "text": [
            "Saved 1 image to \u001b[1m/content/sad/done35\u001b[0m\n",
            "Saved results to /content/sad/done35\n",
            "\n"
          ]
        },
        {
          "output_type": "stream",
          "name": "stdout",
          "text": [
            "--------------------------------------------------\n",
            "mini-1-1.jpg\n"
          ]
        },
        {
          "output_type": "stream",
          "name": "stderr",
          "text": [
            "Saved 1 image to \u001b[1m/content/sad/done36\u001b[0m\n",
            "Saved results to /content/sad/done36\n",
            "\n"
          ]
        },
        {
          "output_type": "stream",
          "name": "stdout",
          "text": [
            "--------------------------------------------------\n",
            "love-bites-eortv-episode2.jpg\n"
          ]
        },
        {
          "output_type": "stream",
          "name": "stderr",
          "text": [
            "Saved 1 image to \u001b[1m/content/sad/done37\u001b[0m\n",
            "Saved results to /content/sad/done37\n",
            "\n"
          ]
        },
        {
          "output_type": "stream",
          "name": "stdout",
          "text": [
            "--------------------------------------------------\n",
            "Bhabi-Ji-Hot-Part-2.jpg\n"
          ]
        },
        {
          "output_type": "stream",
          "name": "stderr",
          "text": [
            "Saved 1 image to \u001b[1m/content/sad/done38\u001b[0m\n",
            "Saved results to /content/sad/done38\n",
            "\n"
          ]
        },
        {
          "output_type": "stream",
          "name": "stdout",
          "text": [
            "--------------------------------------------------\n",
            "Mauj-Masti-ep3.jpg\n"
          ]
        },
        {
          "output_type": "stream",
          "name": "stderr",
          "text": [
            "Saved 1 image to \u001b[1m/content/sad/done39\u001b[0m\n",
            "Saved results to /content/sad/done39\n",
            "\n"
          ]
        },
        {
          "output_type": "stream",
          "name": "stdout",
          "text": [
            "--------------------------------------------------\n",
            "shahad-p2.jpg\n"
          ]
        },
        {
          "output_type": "stream",
          "name": "stderr",
          "text": [
            "Saved 1 image to \u001b[1m/content/sad/done40\u001b[0m\n",
            "Saved results to /content/sad/done40\n",
            "\n"
          ]
        },
        {
          "output_type": "stream",
          "name": "stdout",
          "text": [
            "--------------------------------------------------\n",
            "Maal-Paani-Sexy-Sauda-ep1.jpg\n"
          ]
        },
        {
          "output_type": "stream",
          "name": "stderr",
          "text": [
            "Saved 1 image to \u001b[1m/content/sad/done41\u001b[0m\n",
            "Saved results to /content/sad/done41\n",
            "\n"
          ]
        },
        {
          "output_type": "stream",
          "name": "stdout",
          "text": [
            "--------------------------------------------------\n",
            "laachi-ep3.jpg\n"
          ]
        },
        {
          "output_type": "stream",
          "name": "stderr",
          "text": [
            "Saved 1 image to \u001b[1m/content/sad/done42\u001b[0m\n",
            "Saved results to /content/sad/done42\n",
            "\n"
          ]
        },
        {
          "output_type": "stream",
          "name": "stdout",
          "text": [
            "--------------------------------------------------\n",
            "atm-bhabhi-s01e06.jpg\n"
          ]
        },
        {
          "output_type": "stream",
          "name": "stderr",
          "text": [
            "Saved 1 image to \u001b[1m/content/sad/done43\u001b[0m\n",
            "Saved results to /content/sad/done43\n",
            "\n",
            "Saved 1 image to \u001b[1m/content/sad/done44\u001b[0m\n"
          ]
        },
        {
          "output_type": "stream",
          "name": "stdout",
          "text": [
            "--------------------------------------------------\n",
            "malai-ep2.jpg\n"
          ]
        },
        {
          "output_type": "stream",
          "name": "stderr",
          "text": [
            "Saved results to /content/sad/done44\n",
            "\n",
            "Saved 1 image to \u001b[1m/content/sad/done45\u001b[0m\n",
            "Saved results to /content/sad/done45\n",
            "\n"
          ]
        },
        {
          "output_type": "stream",
          "name": "stdout",
          "text": [
            "--------------------------------------------------\n",
            "IMG_1645797588024.jpg\n",
            "--------------------------------------------------\n",
            "Devrani-Jethani-Aur-Woh-ep3.jpg\n"
          ]
        },
        {
          "output_type": "stream",
          "name": "stderr",
          "text": [
            "Saved 1 image to \u001b[1m/content/sad/done46\u001b[0m\n",
            "Saved results to /content/sad/done46\n",
            "\n"
          ]
        },
        {
          "output_type": "stream",
          "name": "stdout",
          "text": [
            "--------------------------------------------------\n",
            "Kulta3.Moodx_.jpg\n"
          ]
        },
        {
          "output_type": "stream",
          "name": "stderr",
          "text": [
            "Saved 1 image to \u001b[1m/content/sad/done47\u001b[0m\n",
            "Saved results to /content/sad/done47\n",
            "\n"
          ]
        },
        {
          "output_type": "stream",
          "name": "stdout",
          "text": [
            "--------------------------------------------------\n",
            "IMG_1648489949518.jpg\n"
          ]
        },
        {
          "output_type": "stream",
          "name": "stderr",
          "text": [
            "Saved 1 image to \u001b[1m/content/sad/done48\u001b[0m\n",
            "Saved results to /content/sad/done48\n",
            "\n"
          ]
        },
        {
          "output_type": "stream",
          "name": "stdout",
          "text": [
            "--------------------------------------------------\n",
            "Firangi-Thakurain-2-ep1.jpg\n"
          ]
        },
        {
          "output_type": "stream",
          "name": "stderr",
          "text": [
            "Saved 1 image to \u001b[1m/content/sad/done49\u001b[0m\n",
            "Saved results to /content/sad/done49\n",
            "\n",
            "Saved 1 image to \u001b[1m/content/sad/done50\u001b[0m\n",
            "Saved results to /content/sad/done50\n",
            "\n"
          ]
        },
        {
          "output_type": "stream",
          "name": "stdout",
          "text": [
            "--------------------------------------------------\n",
            "IMG_1658818569529.jpg\n",
            "--------------------------------------------------\n",
            "Do-Haseena-1.jpg\n"
          ]
        },
        {
          "output_type": "stream",
          "name": "stderr",
          "text": [
            "Saved 1 image to \u001b[1m/content/sad/done51\u001b[0m\n",
            "Saved results to /content/sad/done51\n",
            "\n"
          ]
        },
        {
          "output_type": "stream",
          "name": "stdout",
          "text": [
            "--------------------------------------------------\n",
            "badan-3-ep9.jpg\n"
          ]
        },
        {
          "output_type": "stream",
          "name": "stderr",
          "text": [
            "Saved 1 image to \u001b[1m/content/sad/done52\u001b[0m\n",
            "Saved results to /content/sad/done52\n",
            "\n",
            "Saved 1 image to \u001b[1m/content/sad/done53\u001b[0m\n"
          ]
        },
        {
          "output_type": "stream",
          "name": "stdout",
          "text": [
            "--------------------------------------------------\n",
            "Samne-Wali-Khidki-–-Part-2.jpg\n"
          ]
        },
        {
          "output_type": "stream",
          "name": "stderr",
          "text": [
            "Saved results to /content/sad/done53\n",
            "\n",
            "Saved 1 image to \u001b[1m/content/sad/done54\u001b[0m\n",
            "Saved results to /content/sad/done54\n",
            "\n"
          ]
        },
        {
          "output_type": "stream",
          "name": "stdout",
          "text": [
            "--------------------------------------------------\n",
            "309081349_1-1.jpg\n",
            "--------------------------------------------------\n",
            "dream-girl-ep2.jpg\n"
          ]
        },
        {
          "output_type": "stream",
          "name": "stderr",
          "text": [
            "Saved 1 image to \u001b[1m/content/sad/done55\u001b[0m\n",
            "Saved results to /content/sad/done55\n",
            "\n",
            "Saved 1 image to \u001b[1m/content/sad/done56\u001b[0m\n",
            "Saved results to /content/sad/done56\n",
            "\n"
          ]
        },
        {
          "output_type": "stream",
          "name": "stdout",
          "text": [
            "--------------------------------------------------\n",
            "index.jpg\n",
            "--------------------------------------------------\n",
            "motherchod-.jpg\n"
          ]
        },
        {
          "output_type": "stream",
          "name": "stderr",
          "text": [
            "Saved 1 image to \u001b[1m/content/sad/done57\u001b[0m\n",
            "Saved results to /content/sad/done57\n",
            "\n"
          ]
        },
        {
          "output_type": "stream",
          "name": "stdout",
          "text": [
            "--------------------------------------------------\n",
            "ullu-e2-1.jpg\n"
          ]
        },
        {
          "output_type": "stream",
          "name": "stderr",
          "text": [
            "Saved 1 image to \u001b[1m/content/sad/done58\u001b[0m\n",
            "Saved results to /content/sad/done58\n",
            "\n",
            "Saved 1 image to \u001b[1m/content/sad/done59\u001b[0m\n",
            "Saved results to /content/sad/done59\n",
            "\n"
          ]
        },
        {
          "output_type": "stream",
          "name": "stdout",
          "text": [
            "--------------------------------------------------\n",
            "IMG_1648490544932.jpg\n",
            "--------------------------------------------------\n",
            "tueshan-teacher-ep4.jpg\n"
          ]
        },
        {
          "output_type": "stream",
          "name": "stderr",
          "text": [
            "Saved 1 image to \u001b[1m/content/sad/done60\u001b[0m\n",
            "Saved results to /content/sad/done60\n",
            "\n"
          ]
        },
        {
          "output_type": "stream",
          "name": "stdout",
          "text": [
            "--------------------------------------------------\n",
            "mohan-chabiwala-ep5.jpg\n"
          ]
        },
        {
          "output_type": "stream",
          "name": "stderr",
          "text": [
            "Saved 1 image to \u001b[1m/content/sad/done61\u001b[0m\n",
            "Saved results to /content/sad/done61\n",
            "\n",
            "Saved 1 image to \u001b[1m/content/sad/done62\u001b[0m\n",
            "Saved results to /content/sad/done62\n",
            "\n"
          ]
        },
        {
          "output_type": "stream",
          "name": "stdout",
          "text": [
            "--------------------------------------------------\n",
            "IMG_1648105480903.jpg\n",
            "--------------------------------------------------\n",
            "Deham-S01E01.jpg\n"
          ]
        },
        {
          "output_type": "stream",
          "name": "stderr",
          "text": [
            "Saved 1 image to \u001b[1m/content/sad/done63\u001b[0m\n",
            "Saved results to /content/sad/done63\n",
            "\n"
          ]
        },
        {
          "output_type": "stream",
          "name": "stdout",
          "text": [
            "--------------------------------------------------\n",
            "Tere-Jaisa-Yaar-Kaha-ep6.jpg\n"
          ]
        },
        {
          "output_type": "stream",
          "name": "stderr",
          "text": [
            "Saved 1 image to \u001b[1m/content/sad/done64\u001b[0m\n",
            "Saved results to /content/sad/done64\n",
            "\n"
          ]
        },
        {
          "output_type": "stream",
          "name": "stdout",
          "text": [
            "--------------------------------------------------\n",
            "Grand_Masti.jpg\n"
          ]
        },
        {
          "output_type": "stream",
          "name": "stderr",
          "text": [
            "Saved 1 image to \u001b[1m/content/sad/done65\u001b[0m\n",
            "Saved results to /content/sad/done65\n",
            "\n"
          ]
        },
        {
          "output_type": "stream",
          "name": "stdout",
          "text": [
            "--------------------------------------------------\n",
            "sauteli-ep3.jpg\n"
          ]
        },
        {
          "output_type": "stream",
          "name": "stderr",
          "text": [
            "Saved 1 image to \u001b[1m/content/sad/done66\u001b[0m\n",
            "Saved results to /content/sad/done66\n",
            "\n"
          ]
        },
        {
          "output_type": "stream",
          "name": "stdout",
          "text": [
            "--------------------------------------------------\n",
            "Desi-Sabjiwali-part-2.jpg\n"
          ]
        },
        {
          "output_type": "stream",
          "name": "stderr",
          "text": [
            "Saved 1 image to \u001b[1m/content/sad/done67\u001b[0m\n",
            "Saved results to /content/sad/done67\n",
            "\n",
            "Saved 1 image to \u001b[1m/content/sad/done68\u001b[0m\n",
            "Saved results to /content/sad/done68\n",
            "\n"
          ]
        },
        {
          "output_type": "stream",
          "name": "stdout",
          "text": [
            "--------------------------------------------------\n",
            "jaaneanjanem6ep2.jpg\n",
            "--------------------------------------------------\n",
            "Pehredaar-2-ep5.jpg\n"
          ]
        },
        {
          "output_type": "stream",
          "name": "stderr",
          "text": [
            "Saved 1 image to \u001b[1m/content/sad/done69\u001b[0m\n",
            "Saved results to /content/sad/done69\n",
            "\n"
          ]
        },
        {
          "output_type": "stream",
          "name": "stdout",
          "text": [
            "--------------------------------------------------\n",
            "IMG_1651298588976.jpg\n"
          ]
        },
        {
          "output_type": "stream",
          "name": "stderr",
          "text": [
            "Saved 1 image to \u001b[1m/content/sad/done70\u001b[0m\n",
            "Saved results to /content/sad/done70\n",
            "\n"
          ]
        },
        {
          "output_type": "stream",
          "name": "stdout",
          "text": [
            "--------------------------------------------------\n",
            "chill-pill-01.jpg\n"
          ]
        },
        {
          "output_type": "stream",
          "name": "stderr",
          "text": [
            "Saved 1 image to \u001b[1m/content/sad/done71\u001b[0m\n",
            "Saved results to /content/sad/done71\n",
            "\n",
            "Saved 1 image to \u001b[1m/content/sad/done72\u001b[0m\n",
            "Saved results to /content/sad/done72\n",
            "\n"
          ]
        },
        {
          "output_type": "stream",
          "name": "stdout",
          "text": [
            "--------------------------------------------------\n",
            "IMG_1648752637291.jpg\n",
            "--------------------------------------------------\n",
            "ROZI-BHABHI-2.jpg\n"
          ]
        },
        {
          "output_type": "stream",
          "name": "stderr",
          "text": [
            "Saved 1 image to \u001b[1m/content/sad/done73\u001b[0m\n",
            "Saved results to /content/sad/done73\n",
            "\n"
          ]
        },
        {
          "output_type": "stream",
          "name": "stdout",
          "text": [
            "--------------------------------------------------\n",
            "bunty-babli-ep3.jpg\n"
          ]
        },
        {
          "output_type": "stream",
          "name": "stderr",
          "text": [
            "Saved 1 image to \u001b[1m/content/sad/done74\u001b[0m\n",
            "Saved results to /content/sad/done74\n",
            "\n",
            "Saved 1 image to \u001b[1m/content/sad/done75\u001b[0m\n",
            "Saved results to /content/sad/done75\n",
            "\n"
          ]
        },
        {
          "output_type": "stream",
          "name": "stdout",
          "text": [
            "--------------------------------------------------\n",
            "IMG_1651520075087.jpg\n",
            "--------------------------------------------------\n",
            "kp08jgert8o9.jpg\n"
          ]
        },
        {
          "output_type": "stream",
          "name": "stderr",
          "text": [
            "Saved 1 image to \u001b[1m/content/sad/done76\u001b[0m\n",
            "Saved results to /content/sad/done76\n",
            "\n"
          ]
        },
        {
          "output_type": "stream",
          "name": "stdout",
          "text": [
            "--------------------------------------------------\n",
            "ep22.jpg\n"
          ]
        },
        {
          "output_type": "stream",
          "name": "stderr",
          "text": [
            "Saved 1 image to \u001b[1m/content/sad/done77\u001b[0m\n",
            "Saved results to /content/sad/done77\n",
            "\n",
            "Saved 1 image to \u001b[1m/content/sad/done78\u001b[0m\n"
          ]
        },
        {
          "output_type": "stream",
          "name": "stdout",
          "text": [
            "--------------------------------------------------\n",
            "mr-teacher-ep1.jpg\n"
          ]
        },
        {
          "output_type": "stream",
          "name": "stderr",
          "text": [
            "Saved results to /content/sad/done78\n",
            "\n"
          ]
        },
        {
          "output_type": "stream",
          "name": "stdout",
          "text": [
            "--------------------------------------------------\n",
            "Nikah-2.jpg\n"
          ]
        },
        {
          "output_type": "stream",
          "name": "stderr",
          "text": [
            "Saved 1 image to \u001b[1m/content/sad/done79\u001b[0m\n",
            "Saved results to /content/sad/done79\n",
            "\n"
          ]
        },
        {
          "output_type": "stream",
          "name": "stdout",
          "text": [
            "--------------------------------------------------\n",
            "Avantika-ep1.jpg\n"
          ]
        },
        {
          "output_type": "stream",
          "name": "stderr",
          "text": [
            "Saved 1 image to \u001b[1m/content/sad/done80\u001b[0m\n",
            "Saved results to /content/sad/done80\n",
            "\n",
            "Saved 1 image to \u001b[1m/content/sad/done81\u001b[0m\n",
            "Saved results to /content/sad/done81\n",
            "\n"
          ]
        },
        {
          "output_type": "stream",
          "name": "stdout",
          "text": [
            "--------------------------------------------------\n",
            "my-i-come-ep2.jpg\n",
            "--------------------------------------------------\n",
            "mardana-sasur-2-ep3.jpg\n"
          ]
        },
        {
          "output_type": "stream",
          "name": "stderr",
          "text": [
            "Saved 1 image to \u001b[1m/content/sad/done82\u001b[0m\n",
            "Saved results to /content/sad/done82\n",
            "\n"
          ]
        },
        {
          "output_type": "stream",
          "name": "stdout",
          "text": [
            "--------------------------------------------------\n",
            "Salman-Ep4.jpg\n"
          ]
        },
        {
          "output_type": "stream",
          "name": "stderr",
          "text": [
            "Saved 1 image to \u001b[1m/content/sad/done83\u001b[0m\n",
            "Saved results to /content/sad/done83\n",
            "\n"
          ]
        },
        {
          "output_type": "stream",
          "name": "stdout",
          "text": [
            "--------------------------------------------------\n",
            "Selinte-Tuition-Class-ep1.jpg\n"
          ]
        },
        {
          "output_type": "stream",
          "name": "stderr",
          "text": [
            "Saved 1 image to \u001b[1m/content/sad/done84\u001b[0m\n",
            "Saved results to /content/sad/done84\n",
            "\n",
            "Saved 1 image to \u001b[1m/content/sad/done85\u001b[0m\n",
            "Saved results to /content/sad/done85\n",
            "\n"
          ]
        },
        {
          "output_type": "stream",
          "name": "stdout",
          "text": [
            "--------------------------------------------------\n",
            "Sursuri-Li-10.jpg\n",
            "--------------------------------------------------\n",
            "badan-ep2.jpg\n"
          ]
        },
        {
          "output_type": "stream",
          "name": "stderr",
          "text": [
            "Saved 1 image to \u001b[1m/content/sad/done86\u001b[0m\n",
            "Saved results to /content/sad/done86\n",
            "\n"
          ]
        },
        {
          "output_type": "stream",
          "name": "stdout",
          "text": [
            "--------------------------------------------------\n",
            "kamini-ep3.jpg\n"
          ]
        },
        {
          "output_type": "stream",
          "name": "stderr",
          "text": [
            "Saved 1 image to \u001b[1m/content/sad/done87\u001b[0m\n",
            "Saved results to /content/sad/done87\n",
            "\n"
          ]
        },
        {
          "output_type": "stream",
          "name": "stdout",
          "text": [
            "--------------------------------------------------\n",
            "Naughty-Sister-ep2.jpg\n"
          ]
        },
        {
          "output_type": "stream",
          "name": "stderr",
          "text": [
            "Saved 1 image to \u001b[1m/content/sad/done88\u001b[0m\n",
            "Saved results to /content/sad/done88\n",
            "\n"
          ]
        },
        {
          "output_type": "stream",
          "name": "stdout",
          "text": [
            "--------------------------------------------------\n",
            "IMG_1648962796104.jpg\n"
          ]
        },
        {
          "output_type": "stream",
          "name": "stderr",
          "text": [
            "Saved 1 image to \u001b[1m/content/sad/done89\u001b[0m\n",
            "Saved results to /content/sad/done89\n",
            "\n"
          ]
        },
        {
          "output_type": "stream",
          "name": "stdout",
          "text": [
            "--------------------------------------------------\n",
            "IMG_20220220_000038-e1645326470754.png\n"
          ]
        },
        {
          "output_type": "stream",
          "name": "stderr",
          "text": [
            "Saved 1 image to \u001b[1m/content/sad/done90\u001b[0m\n",
            "Saved results to /content/sad/done90\n",
            "\n"
          ]
        },
        {
          "output_type": "stream",
          "name": "stdout",
          "text": [
            "--------------------------------------------------\n",
            "naughty-Ishq-ep1.jpg\n"
          ]
        },
        {
          "output_type": "stream",
          "name": "stderr",
          "text": [
            "Saved 1 image to \u001b[1m/content/sad/done91\u001b[0m\n",
            "Saved results to /content/sad/done91\n",
            "\n"
          ]
        },
        {
          "output_type": "stream",
          "name": "stdout",
          "text": [
            "--------------------------------------------------\n",
            "Roopmati-ep6.jpg\n"
          ]
        },
        {
          "output_type": "stream",
          "name": "stderr",
          "text": [
            "Saved 1 image to \u001b[1m/content/sad/done92\u001b[0m\n",
            "Saved results to /content/sad/done92\n",
            "\n"
          ]
        },
        {
          "output_type": "stream",
          "name": "stdout",
          "text": [
            "--------------------------------------------------\n",
            "blind-kotha-ep1.jpg\n"
          ]
        },
        {
          "output_type": "stream",
          "name": "stderr",
          "text": [
            "Saved 1 image to \u001b[1m/content/sad/done93\u001b[0m\n",
            "Saved results to /content/sad/done93\n",
            "\n"
          ]
        },
        {
          "output_type": "stream",
          "name": "stdout",
          "text": [
            "--------------------------------------------------\n",
            "IMG_1647625632344.jpg\n"
          ]
        },
        {
          "output_type": "stream",
          "name": "stderr",
          "text": [
            "Saved 1 image to \u001b[1m/content/sad/done94\u001b[0m\n",
            "Saved results to /content/sad/done94\n",
            "\n"
          ]
        },
        {
          "output_type": "stream",
          "name": "stdout",
          "text": [
            "--------------------------------------------------\n",
            "complimentary-ep2.jpg\n"
          ]
        },
        {
          "output_type": "stream",
          "name": "stderr",
          "text": [
            "Saved 1 image to \u001b[1m/content/sad/done95\u001b[0m\n",
            "Saved results to /content/sad/done95\n",
            "\n"
          ]
        },
        {
          "output_type": "stream",
          "name": "stdout",
          "text": [
            "--------------------------------------------------\n",
            "IMG_1650075459688.jpg\n"
          ]
        },
        {
          "output_type": "stream",
          "name": "stderr",
          "text": [
            "Saved 1 image to \u001b[1m/content/sad/done96\u001b[0m\n",
            "Saved results to /content/sad/done96\n",
            "\n"
          ]
        },
        {
          "output_type": "stream",
          "name": "stdout",
          "text": [
            "--------------------------------------------------\n",
            "jalan-ep5-1.jpg\n"
          ]
        },
        {
          "output_type": "stream",
          "name": "stderr",
          "text": [
            "Saved 1 image to \u001b[1m/content/sad/done97\u001b[0m\n",
            "Saved results to /content/sad/done97\n",
            "\n"
          ]
        },
        {
          "output_type": "stream",
          "name": "stdout",
          "text": [
            "--------------------------------------------------\n",
            "IMG_1657733238836.jpg\n"
          ]
        },
        {
          "output_type": "stream",
          "name": "stderr",
          "text": [
            "Saved 1 image to \u001b[1m/content/sad/done98\u001b[0m\n",
            "Saved results to /content/sad/done98\n",
            "\n"
          ]
        },
        {
          "output_type": "stream",
          "name": "stdout",
          "text": [
            "--------------------------------------------------\n",
            "lesbian.jpg\n"
          ]
        },
        {
          "output_type": "stream",
          "name": "stderr",
          "text": [
            "Saved 1 image to \u001b[1m/content/sad/done99\u001b[0m\n",
            "Saved results to /content/sad/done99\n",
            "\n"
          ]
        },
        {
          "output_type": "stream",
          "name": "stdout",
          "text": [
            "--------------------------------------------------\n",
            "13542.jpg\n"
          ]
        },
        {
          "output_type": "stream",
          "name": "stderr",
          "text": [
            "Saved 1 image to \u001b[1m/content/sad/done100\u001b[0m\n",
            "Saved results to /content/sad/done100\n",
            "\n"
          ]
        },
        {
          "output_type": "stream",
          "name": "stdout",
          "text": [
            "--------------------------------------------------\n",
            "ep3.jpg\n"
          ]
        },
        {
          "output_type": "stream",
          "name": "stderr",
          "text": [
            "Saved 1 image to \u001b[1m/content/sad/done101\u001b[0m\n",
            "Saved results to /content/sad/done101\n",
            "\n"
          ]
        },
        {
          "output_type": "stream",
          "name": "stdout",
          "text": [
            "--------------------------------------------------\n",
            "Kamala.jpg\n"
          ]
        },
        {
          "output_type": "stream",
          "name": "stderr",
          "text": [
            "Saved 1 image to \u001b[1m/content/sad/done102\u001b[0m\n",
            "Saved results to /content/sad/done102\n",
            "\n"
          ]
        },
        {
          "output_type": "stream",
          "name": "stdout",
          "text": [
            "--------------------------------------------------\n",
            "Cheat-Dunki-ep2.jpg\n"
          ]
        },
        {
          "output_type": "stream",
          "name": "stderr",
          "text": [
            "Saved 1 image to \u001b[1m/content/sad/done103\u001b[0m\n",
            "Saved results to /content/sad/done103\n",
            "\n"
          ]
        },
        {
          "output_type": "stream",
          "name": "stdout",
          "text": [
            "--------------------------------------------------\n",
            "Jawaani-Janeman-ep1.jpg\n"
          ]
        },
        {
          "output_type": "stream",
          "name": "stderr",
          "text": [
            "Saved 1 image to \u001b[1m/content/sad/done104\u001b[0m\n",
            "Saved results to /content/sad/done104\n",
            "\n",
            "Saved 1 image to \u001b[1m/content/sad/done105\u001b[0m\n",
            "Saved results to /content/sad/done105\n",
            "\n"
          ]
        },
        {
          "output_type": "stream",
          "name": "stdout",
          "text": [
            "--------------------------------------------------\n",
            "Prem-Leela-ep2.jpg\n",
            "--------------------------------------------------\n",
            "Ladies-Tailor-ep1.jpg\n"
          ]
        },
        {
          "output_type": "stream",
          "name": "stderr",
          "text": [
            "Saved 1 image to \u001b[1m/content/sad/done106\u001b[0m\n",
            "Saved results to /content/sad/done106\n",
            "\n"
          ]
        },
        {
          "output_type": "stream",
          "name": "stdout",
          "text": [
            "--------------------------------------------------\n",
            "Bijili-1.jpg\n"
          ]
        },
        {
          "output_type": "stream",
          "name": "stderr",
          "text": [
            "Saved 1 image to \u001b[1m/content/sad/done107\u001b[0m\n",
            "Saved results to /content/sad/done107\n",
            "\n",
            "Saved 1 image to \u001b[1m/content/sad/done108\u001b[0m\n",
            "Saved results to /content/sad/done108\n",
            "\n"
          ]
        },
        {
          "output_type": "stream",
          "name": "stdout",
          "text": [
            "--------------------------------------------------\n",
            "IMG_1653199888630.jpg\n",
            "--------------------------------------------------\n",
            "darji-e02.jpg\n"
          ]
        },
        {
          "output_type": "stream",
          "name": "stderr",
          "text": [
            "Saved 1 image to \u001b[1m/content/sad/done109\u001b[0m\n",
            "Saved results to /content/sad/done109\n",
            "\n",
            "Saved 1 image to \u001b[1m/content/sad/done110\u001b[0m\n"
          ]
        },
        {
          "output_type": "stream",
          "name": "stdout",
          "text": [
            "--------------------------------------------------\n",
            "IMG_1664955165460.jpg\n"
          ]
        },
        {
          "output_type": "stream",
          "name": "stderr",
          "text": [
            "Saved results to /content/sad/done110\n",
            "\n"
          ]
        },
        {
          "output_type": "stream",
          "name": "stdout",
          "text": [
            "--------------------------------------------------\n",
            "Ghar-Sasur-ep4.jpg\n"
          ]
        },
        {
          "output_type": "stream",
          "name": "stderr",
          "text": [
            "Saved 1 image to \u001b[1m/content/sad/done111\u001b[0m\n",
            "Saved results to /content/sad/done111\n",
            "\n",
            "Saved 1 image to \u001b[1m/content/sad/done112\u001b[0m\n",
            "Saved results to /content/sad/done112\n",
            "\n"
          ]
        },
        {
          "output_type": "stream",
          "name": "stdout",
          "text": [
            "--------------------------------------------------\n",
            "IMG_1656688298365.jpg\n",
            "--------------------------------------------------\n",
            "IMG_1656615965279.jpg\n"
          ]
        },
        {
          "output_type": "stream",
          "name": "stderr",
          "text": [
            "Saved 1 image to \u001b[1m/content/sad/done113\u001b[0m\n",
            "Saved results to /content/sad/done113\n",
            "\n",
            "Saved 1 image to \u001b[1m/content/sad/done114\u001b[0m\n",
            "Saved results to /content/sad/done114\n",
            "\n"
          ]
        },
        {
          "output_type": "stream",
          "name": "stdout",
          "text": [
            "--------------------------------------------------\n",
            "IMG_1646021080180.jpg\n",
            "--------------------------------------------------\n",
            "juli-5-1.jpg\n"
          ]
        },
        {
          "output_type": "stream",
          "name": "stderr",
          "text": [
            "Saved 1 image to \u001b[1m/content/sad/done115\u001b[0m\n",
            "Saved results to /content/sad/done115\n",
            "\n"
          ]
        },
        {
          "output_type": "stream",
          "name": "stdout",
          "text": [
            "--------------------------------------------------\n",
            "p4qFY61.jpg\n"
          ]
        },
        {
          "output_type": "stream",
          "name": "stderr",
          "text": [
            "Saved 1 image to \u001b[1m/content/sad/done116\u001b[0m\n",
            "Saved results to /content/sad/done116\n",
            "\n",
            "Saved 1 image to \u001b[1m/content/sad/done117\u001b[0m\n",
            "Saved results to /content/sad/done117\n",
            "\n"
          ]
        },
        {
          "output_type": "stream",
          "name": "stdout",
          "text": [
            "--------------------------------------------------\n",
            "IMG_20220219_221006.jpg\n",
            "--------------------------------------------------\n",
            "babu-ji-ep6.jpg\n"
          ]
        },
        {
          "output_type": "stream",
          "name": "stderr",
          "text": [
            "Saved 1 image to \u001b[1m/content/sad/done118\u001b[0m\n",
            "Saved results to /content/sad/done118\n",
            "\n"
          ]
        },
        {
          "output_type": "stream",
          "name": "stdout",
          "text": [
            "--------------------------------------------------\n",
            "old.jpg\n"
          ]
        },
        {
          "output_type": "stream",
          "name": "stderr",
          "text": [
            "Saved 1 image to \u001b[1m/content/sad/done119\u001b[0m\n",
            "Saved results to /content/sad/done119\n",
            "\n"
          ]
        },
        {
          "output_type": "stream",
          "name": "stdout",
          "text": [
            "--------------------------------------------------\n",
            "sasur-Harami-ep3.jpg\n"
          ]
        },
        {
          "output_type": "stream",
          "name": "stderr",
          "text": [
            "Saved 1 image to \u001b[1m/content/sad/done120\u001b[0m\n",
            "Saved results to /content/sad/done120\n",
            "\n"
          ]
        },
        {
          "output_type": "stream",
          "name": "stdout",
          "text": [
            "--------------------------------------------------\n",
            "guptrog-ep2.jpg\n"
          ]
        },
        {
          "output_type": "stream",
          "name": "stderr",
          "text": [
            "Saved 1 image to \u001b[1m/content/sad/done121\u001b[0m\n",
            "Saved results to /content/sad/done121\n",
            "\n"
          ]
        },
        {
          "output_type": "stream",
          "name": "stdout",
          "text": [
            "--------------------------------------------------\n",
            "Maa-Devrani3-1.jpg\n"
          ]
        },
        {
          "output_type": "stream",
          "name": "stderr",
          "text": [
            "Saved 1 image to \u001b[1m/content/sad/done122\u001b[0m\n",
            "Saved results to /content/sad/done122\n",
            "\n",
            "Saved 1 image to \u001b[1m/content/sad/done123\u001b[0m\n",
            "Saved results to /content/sad/done123\n",
            "\n"
          ]
        },
        {
          "output_type": "stream",
          "name": "stdout",
          "text": [
            "--------------------------------------------------\n",
            "chachi-420.jpg\n",
            "--------------------------------------------------\n",
            "Good-Night-ep3.jpg\n"
          ]
        },
        {
          "output_type": "stream",
          "name": "stderr",
          "text": [
            "Saved 1 image to \u001b[1m/content/sad/done124\u001b[0m\n",
            "Saved results to /content/sad/done124\n",
            "\n",
            "Saved 1 image to \u001b[1m/content/sad/done125\u001b[0m\n",
            "Saved results to /content/sad/done125\n",
            "\n"
          ]
        },
        {
          "output_type": "stream",
          "name": "stdout",
          "text": [
            "--------------------------------------------------\n",
            "paglet3-ep4.jpg\n",
            "--------------------------------------------------\n",
            "Dhokha-ep1.jpg\n"
          ]
        },
        {
          "output_type": "stream",
          "name": "stderr",
          "text": [
            "Saved 1 image to \u001b[1m/content/sad/done126\u001b[0m\n",
            "Saved results to /content/sad/done126\n",
            "\n"
          ]
        },
        {
          "output_type": "stream",
          "name": "stdout",
          "text": [
            "--------------------------------------------------\n",
            "naughty-Ishq-ep2.jpg\n"
          ]
        },
        {
          "output_type": "stream",
          "name": "stderr",
          "text": [
            "Saved 1 image to \u001b[1m/content/sad/done127\u001b[0m\n",
            "Saved results to /content/sad/done127\n",
            "\n",
            "Saved 1 image to \u001b[1m/content/sad/done128\u001b[0m\n",
            "Saved results to /content/sad/done128\n",
            "\n"
          ]
        },
        {
          "output_type": "stream",
          "name": "stdout",
          "text": [
            "--------------------------------------------------\n",
            "tapan-2-ep-4.jpg\n",
            "--------------------------------------------------\n",
            "honey-trap-ep1.jpg\n"
          ]
        },
        {
          "output_type": "stream",
          "name": "stderr",
          "text": [
            "Saved 1 image to \u001b[1m/content/sad/done129\u001b[0m\n",
            "Saved results to /content/sad/done129\n",
            "\n",
            "Saved 1 image to \u001b[1m/content/sad/done130\u001b[0m\n",
            "Saved results to /content/sad/done130\n",
            "\n"
          ]
        },
        {
          "output_type": "stream",
          "name": "stdout",
          "text": [
            "--------------------------------------------------\n",
            "ek-sath-teen-teen-ep2.jpg\n",
            "--------------------------------------------------\n",
            "Personal-Secretary-Sunidhi.jpg\n"
          ]
        },
        {
          "output_type": "stream",
          "name": "stderr",
          "text": [
            "Saved 1 image to \u001b[1m/content/sad/done131\u001b[0m\n",
            "Saved results to /content/sad/done131\n",
            "\n"
          ]
        },
        {
          "output_type": "stream",
          "name": "stdout",
          "text": [
            "--------------------------------------------------\n",
            "fuljhadi-bhabhi-ep1.jpg\n"
          ]
        },
        {
          "output_type": "stream",
          "name": "stderr",
          "text": [
            "Saved 1 image to \u001b[1m/content/sad/done132\u001b[0m\n",
            "Saved results to /content/sad/done132\n",
            "\n",
            "Saved 1 image to \u001b[1m/content/sad/done133\u001b[0m\n",
            "Saved results to /content/sad/done133\n",
            "\n"
          ]
        },
        {
          "output_type": "stream",
          "name": "stdout",
          "text": [
            "--------------------------------------------------\n",
            "Walkman-Part-1ep2.jpg\n",
            "--------------------------------------------------\n",
            "k5tr7lg71e1o.jpg\n"
          ]
        },
        {
          "output_type": "stream",
          "name": "stderr",
          "text": [
            "Saved 1 image to \u001b[1m/content/sad/done134\u001b[0m\n",
            "Saved results to /content/sad/done134\n",
            "\n",
            "Saved 1 image to \u001b[1m/content/sad/done135\u001b[0m\n",
            "Saved results to /content/sad/done135\n",
            "\n"
          ]
        },
        {
          "output_type": "stream",
          "name": "stdout",
          "text": [
            "--------------------------------------------------\n",
            "hamari-sapna-bhabhi-ep3.jpg\n",
            "--------------------------------------------------\n",
            "the-hot-girl.jpg\n"
          ]
        },
        {
          "output_type": "stream",
          "name": "stderr",
          "text": [
            "Saved 1 image to \u001b[1m/content/sad/done136\u001b[0m\n",
            "Saved results to /content/sad/done136\n",
            "\n"
          ]
        },
        {
          "output_type": "stream",
          "name": "stdout",
          "text": [
            "--------------------------------------------------\n",
            "GuptGyani.E02.jpg\n"
          ]
        },
        {
          "output_type": "stream",
          "name": "stderr",
          "text": [
            "Saved 1 image to \u001b[1m/content/sad/done137\u001b[0m\n",
            "Saved results to /content/sad/done137\n",
            "\n"
          ]
        },
        {
          "output_type": "stream",
          "name": "stdout",
          "text": [
            "--------------------------------------------------\n",
            "mol-ki-bahu-ep2.jpg\n"
          ]
        },
        {
          "output_type": "stream",
          "name": "stderr",
          "text": [
            "Saved 1 image to \u001b[1m/content/sad/done138\u001b[0m\n",
            "Saved results to /content/sad/done138\n",
            "\n"
          ]
        },
        {
          "output_type": "stream",
          "name": "stdout",
          "text": [
            "--------------------------------------------------\n",
            "do-devar.jpg\n"
          ]
        },
        {
          "output_type": "stream",
          "name": "stderr",
          "text": [
            "Saved 1 image to \u001b[1m/content/sad/done139\u001b[0m\n",
            "Saved results to /content/sad/done139\n",
            "\n"
          ]
        },
        {
          "output_type": "stream",
          "name": "stdout",
          "text": [
            "--------------------------------------------------\n",
            "nath-ep4.jpg\n"
          ]
        },
        {
          "output_type": "stream",
          "name": "stderr",
          "text": [
            "Saved 1 image to \u001b[1m/content/sad/done140\u001b[0m\n",
            "Saved results to /content/sad/done140\n",
            "\n"
          ]
        },
        {
          "output_type": "stream",
          "name": "stdout",
          "text": [
            "--------------------------------------------------\n",
            "Virgin.Bahus_.S01E01.jpg\n"
          ]
        },
        {
          "output_type": "stream",
          "name": "stderr",
          "text": [
            "Saved 1 image to \u001b[1m/content/sad/done141\u001b[0m\n",
            "Saved results to /content/sad/done141\n",
            "\n"
          ]
        },
        {
          "output_type": "stream",
          "name": "stdout",
          "text": [
            "--------------------------------------------------\n",
            "yesmemep1.jpg\n"
          ]
        },
        {
          "output_type": "stream",
          "name": "stderr",
          "text": [
            "Saved 1 image to \u001b[1m/content/sad/done142\u001b[0m\n",
            "Saved results to /content/sad/done142\n",
            "\n",
            "Saved 1 image to \u001b[1m/content/sad/done143\u001b[0m\n",
            "Saved results to /content/sad/done143\n",
            "\n"
          ]
        },
        {
          "output_type": "stream",
          "name": "stdout",
          "text": [
            "--------------------------------------------------\n",
            "Ratri-Kawach-Ep1.jpg\n",
            "--------------------------------------------------\n",
            "e4.jpg\n"
          ]
        },
        {
          "output_type": "stream",
          "name": "stderr",
          "text": [
            "Saved 1 image to \u001b[1m/content/sad/done144\u001b[0m\n",
            "Saved results to /content/sad/done144\n",
            "\n"
          ]
        },
        {
          "output_type": "stream",
          "name": "stdout",
          "text": [
            "--------------------------------------------------\n",
            "ranjish-ep3.jpg\n"
          ]
        },
        {
          "output_type": "stream",
          "name": "stderr",
          "text": [
            "Saved 1 image to \u001b[1m/content/sad/done145\u001b[0m\n",
            "Saved results to /content/sad/done145\n",
            "\n"
          ]
        },
        {
          "output_type": "stream",
          "name": "stdout",
          "text": [
            "--------------------------------------------------\n",
            "Ishqiyapa-Part-1-ep1.jpg\n"
          ]
        },
        {
          "output_type": "stream",
          "name": "stderr",
          "text": [
            "Saved 1 image to \u001b[1m/content/sad/done146\u001b[0m\n",
            "Saved results to /content/sad/done146\n",
            "\n"
          ]
        },
        {
          "output_type": "stream",
          "name": "stdout",
          "text": [
            "--------------------------------------------------\n",
            "Desi-Sabjiwali.jpg\n"
          ]
        },
        {
          "output_type": "stream",
          "name": "stderr",
          "text": [
            "Saved 1 image to \u001b[1m/content/sad/done147\u001b[0m\n",
            "Saved results to /content/sad/done147\n",
            "\n"
          ]
        },
        {
          "output_type": "stream",
          "name": "stdout",
          "text": [
            "--------------------------------------------------\n",
            "IMG_1650965196175.jpg\n"
          ]
        },
        {
          "output_type": "stream",
          "name": "stderr",
          "text": [
            "Saved 1 image to \u001b[1m/content/sad/done148\u001b[0m\n",
            "Saved results to /content/sad/done148\n",
            "\n"
          ]
        },
        {
          "output_type": "stream",
          "name": "stdout",
          "text": [
            "--------------------------------------------------\n",
            "Doctor-Chaurasiya.E06.jpg\n"
          ]
        },
        {
          "output_type": "stream",
          "name": "stderr",
          "text": [
            "Saved 1 image to \u001b[1m/content/sad/done149\u001b[0m\n",
            "Saved results to /content/sad/done149\n",
            "\n"
          ]
        },
        {
          "output_type": "stream",
          "name": "stdout",
          "text": [
            "--------------------------------------------------\n",
            "Gubare-Wali-ep1.jpg\n"
          ]
        },
        {
          "output_type": "stream",
          "name": "stderr",
          "text": [
            "Saved 1 image to \u001b[1m/content/sad/done150\u001b[0m\n",
            "Saved results to /content/sad/done150\n",
            "\n"
          ]
        },
        {
          "output_type": "stream",
          "name": "stdout",
          "text": [
            "--------------------------------------------------\n",
            "promoter-housewife.jpg\n"
          ]
        },
        {
          "output_type": "stream",
          "name": "stderr",
          "text": [
            "Saved 1 image to \u001b[1m/content/sad/done151\u001b[0m\n",
            "Saved results to /content/sad/done151\n",
            "\n"
          ]
        },
        {
          "output_type": "stream",
          "name": "stdout",
          "text": [
            "--------------------------------------------------\n",
            "IMG_1661796369414.jpg\n"
          ]
        },
        {
          "output_type": "stream",
          "name": "stderr",
          "text": [
            "Saved 1 image to \u001b[1m/content/sad/done152\u001b[0m\n",
            "Saved results to /content/sad/done152\n",
            "\n"
          ]
        },
        {
          "output_type": "stream",
          "name": "stdout",
          "text": [
            "--------------------------------------------------\n",
            "Vaidya-ep3.jpg\n"
          ]
        },
        {
          "output_type": "stream",
          "name": "stderr",
          "text": [
            "Saved 1 image to \u001b[1m/content/sad/done153\u001b[0m\n",
            "Saved results to /content/sad/done153\n",
            "\n"
          ]
        },
        {
          "output_type": "stream",
          "name": "stdout",
          "text": [
            "--------------------------------------------------\n",
            "IMG_1661670551446.jpg\n"
          ]
        },
        {
          "output_type": "stream",
          "name": "stderr",
          "text": [
            "Saved 1 image to \u001b[1m/content/sad/done154\u001b[0m\n",
            "Saved results to /content/sad/done154\n",
            "\n"
          ]
        },
        {
          "output_type": "stream",
          "name": "stdout",
          "text": [
            "--------------------------------------------------\n",
            "Roopmati-ep5.jpg\n"
          ]
        },
        {
          "output_type": "stream",
          "name": "stderr",
          "text": [
            "Saved 1 image to \u001b[1m/content/sad/done155\u001b[0m\n",
            "Saved results to /content/sad/done155\n",
            "\n"
          ]
        },
        {
          "output_type": "stream",
          "name": "stdout",
          "text": [
            "--------------------------------------------------\n",
            "f79cb8a70d145dd9aa3902c09bde3491.th_.jpg\n"
          ]
        },
        {
          "output_type": "stream",
          "name": "stderr",
          "text": [
            "Saved 1 image to \u001b[1m/content/sad/done156\u001b[0m\n",
            "Saved results to /content/sad/done156\n",
            "\n"
          ]
        },
        {
          "output_type": "stream",
          "name": "stdout",
          "text": [
            "--------------------------------------------------\n",
            "naukri-ep1.jpg\n"
          ]
        },
        {
          "output_type": "stream",
          "name": "stderr",
          "text": [
            "Saved 1 image to \u001b[1m/content/sad/done157\u001b[0m\n",
            "Saved results to /content/sad/done157\n",
            "\n",
            "Saved 1 image to \u001b[1m/content/sad/done158\u001b[0m\n",
            "Saved results to /content/sad/done158\n",
            "\n"
          ]
        },
        {
          "output_type": "stream",
          "name": "stdout",
          "text": [
            "--------------------------------------------------\n",
            "watchman-ep3.jpg\n"
          ]
        },
        {
          "output_type": "stream",
          "name": "stderr",
          "text": [
            "Saved 1 image to \u001b[1m/content/sad/done159\u001b[0m\n",
            "Saved results to /content/sad/done159\n",
            "\n"
          ]
        },
        {
          "output_type": "stream",
          "name": "stdout",
          "text": [
            "--------------------------------------------------\n",
            "IMG_1650074657811.jpg\n",
            "--------------------------------------------------\n",
            "Devrani-Jethani-Aur-Woh-ep4.jpg\n"
          ]
        },
        {
          "output_type": "stream",
          "name": "stderr",
          "text": [
            "Saved 1 image to \u001b[1m/content/sad/done160\u001b[0m\n",
            "Saved results to /content/sad/done160\n",
            "\n"
          ]
        },
        {
          "output_type": "stream",
          "name": "stdout",
          "text": [
            "--------------------------------------------------\n",
            "hope-ep2.jpg\n"
          ]
        },
        {
          "output_type": "stream",
          "name": "stderr",
          "text": [
            "Saved 1 image to \u001b[1m/content/sad/done161\u001b[0m\n",
            "Saved results to /content/sad/done161\n",
            "\n"
          ]
        },
        {
          "output_type": "stream",
          "name": "stdout",
          "text": [
            "--------------------------------------------------\n",
            "Gaon-Ki-Garmi-3-ep6.jpg\n"
          ]
        },
        {
          "output_type": "stream",
          "name": "stderr",
          "text": [
            "Saved 1 image to \u001b[1m/content/sad/done162\u001b[0m\n",
            "Saved results to /content/sad/done162\n",
            "\n"
          ]
        },
        {
          "output_type": "stream",
          "name": "stdout",
          "text": [
            "--------------------------------------------------\n",
            "Devrani-Jethani-Aur-Woh-ep1.jpg\n"
          ]
        },
        {
          "output_type": "stream",
          "name": "stderr",
          "text": [
            "Saved 1 image to \u001b[1m/content/sad/done163\u001b[0m\n",
            "Saved results to /content/sad/done163\n",
            "\n",
            "Saved 1 image to \u001b[1m/content/sad/done164\u001b[0m\n",
            "Saved results to /content/sad/done164\n",
            "\n"
          ]
        },
        {
          "output_type": "stream",
          "name": "stdout",
          "text": [
            "--------------------------------------------------\n",
            "IMG_1651428112354.jpg\n",
            "--------------------------------------------------\n",
            "download.jpeg-1-1.jpg\n"
          ]
        },
        {
          "output_type": "stream",
          "name": "stderr",
          "text": [
            "Saved 1 image to \u001b[1m/content/sad/done165\u001b[0m\n",
            "Saved results to /content/sad/done165\n",
            "\n"
          ]
        },
        {
          "output_type": "stream",
          "name": "stdout",
          "text": [
            "--------------------------------------------------\n",
            "nighty-student.jpg\n"
          ]
        },
        {
          "output_type": "stream",
          "name": "stderr",
          "text": [
            "Saved 1 image to \u001b[1m/content/sad/done166\u001b[0m\n",
            "Saved results to /content/sad/done166\n",
            "\n",
            "Saved 1 image to \u001b[1m/content/sad/done167\u001b[0m\n",
            "Saved results to /content/sad/done167\n",
            "\n"
          ]
        },
        {
          "output_type": "stream",
          "name": "stdout",
          "text": [
            "--------------------------------------------------\n",
            "Sursuri-Li-9.jpg\n",
            "--------------------------------------------------\n",
            "dirty-didike-sath.jpg\n"
          ]
        },
        {
          "output_type": "stream",
          "name": "stderr",
          "text": [
            "Saved 1 image to \u001b[1m/content/sad/done168\u001b[0m\n",
            "Saved results to /content/sad/done168\n",
            "\n",
            "Saved 1 image to \u001b[1m/content/sad/done169\u001b[0m\n",
            "Saved results to /content/sad/done169\n",
            "\n"
          ]
        },
        {
          "output_type": "stream",
          "name": "stdout",
          "text": [
            "--------------------------------------------------\n",
            "IMG_1649179338859.jpg\n",
            "--------------------------------------------------\n",
            "IMG_1651777279287.jpg\n"
          ]
        },
        {
          "output_type": "stream",
          "name": "stderr",
          "text": [
            "Saved 1 image to \u001b[1m/content/sad/done170\u001b[0m\n",
            "Saved results to /content/sad/done170\n",
            "\n"
          ]
        },
        {
          "output_type": "stream",
          "name": "stdout",
          "text": [
            "--------------------------------------------------\n",
            "IMG_1655751026557.jpg\n"
          ]
        },
        {
          "output_type": "stream",
          "name": "stderr",
          "text": [
            "Saved 1 image to \u001b[1m/content/sad/done171\u001b[0m\n",
            "Saved results to /content/sad/done171\n",
            "\n"
          ]
        },
        {
          "output_type": "stream",
          "name": "stdout",
          "text": [
            "--------------------------------------------------\n",
            "Khatshala-3-ep2.jpg\n"
          ]
        },
        {
          "output_type": "stream",
          "name": "stderr",
          "text": [
            "Saved 1 image to \u001b[1m/content/sad/done172\u001b[0m\n",
            "Saved results to /content/sad/done172\n",
            "\n"
          ]
        },
        {
          "output_type": "stream",
          "name": "stdout",
          "text": [
            "--------------------------------------------------\n",
            "sweety-bhabhi.jpg\n"
          ]
        },
        {
          "output_type": "stream",
          "name": "stderr",
          "text": [
            "Saved 1 image to \u001b[1m/content/sad/done173\u001b[0m\n",
            "Saved results to /content/sad/done173\n",
            "\n"
          ]
        },
        {
          "output_type": "stream",
          "name": "stdout",
          "text": [
            "--------------------------------------------------\n",
            "Gulabo-ep3.jpg\n"
          ]
        },
        {
          "output_type": "stream",
          "name": "stderr",
          "text": [
            "Saved 1 image to \u001b[1m/content/sad/done174\u001b[0m\n",
            "Saved results to /content/sad/done174\n",
            "\n"
          ]
        },
        {
          "output_type": "stream",
          "name": "stdout",
          "text": [
            "--------------------------------------------------\n",
            "Naughty-Sister.jpg\n"
          ]
        },
        {
          "output_type": "stream",
          "name": "stderr",
          "text": [
            "Saved 1 image to \u001b[1m/content/sad/done175\u001b[0m\n",
            "Saved results to /content/sad/done175\n",
            "\n"
          ]
        },
        {
          "output_type": "stream",
          "name": "stdout",
          "text": [
            "--------------------------------------------------\n",
            "IMG_1650331276485.jpg\n"
          ]
        },
        {
          "output_type": "stream",
          "name": "stderr",
          "text": [
            "Saved 1 image to \u001b[1m/content/sad/done176\u001b[0m\n",
            "Saved results to /content/sad/done176\n",
            "\n"
          ]
        },
        {
          "output_type": "stream",
          "name": "stdout",
          "text": [
            "--------------------------------------------------\n",
            "Yessma.jpg\n"
          ]
        },
        {
          "output_type": "stream",
          "name": "stderr",
          "text": [
            "Saved 1 image to \u001b[1m/content/sad/done177\u001b[0m\n",
            "Saved results to /content/sad/done177\n",
            "\n",
            "Saved 1 image to \u001b[1m/content/sad/done178\u001b[0m\n",
            "Saved results to /content/sad/done178\n",
            "\n"
          ]
        },
        {
          "output_type": "stream",
          "name": "stdout",
          "text": [
            "--------------------------------------------------\n",
            "iloveyouep2.jpg\n",
            "--------------------------------------------------\n",
            "download.jpeg-1-3.jpg\n"
          ]
        },
        {
          "output_type": "stream",
          "name": "stderr",
          "text": [
            "Saved 1 image to \u001b[1m/content/sad/done179\u001b[0m\n",
            "Saved results to /content/sad/done179\n",
            "\n"
          ]
        },
        {
          "output_type": "stream",
          "name": "stdout",
          "text": [
            "--------------------------------------------------\n",
            "klpd.jpg\n"
          ]
        },
        {
          "output_type": "stream",
          "name": "stderr",
          "text": [
            "Saved 1 image to \u001b[1m/content/sad/done180\u001b[0m\n",
            "Saved results to /content/sad/done180\n",
            "\n"
          ]
        },
        {
          "output_type": "stream",
          "name": "stdout",
          "text": [
            "--------------------------------------------------\n",
            "Jalebi-ep5.jpg\n"
          ]
        },
        {
          "output_type": "stream",
          "name": "stderr",
          "text": [
            "Saved 1 image to \u001b[1m/content/sad/done181\u001b[0m\n",
            "Saved results to /content/sad/done181\n",
            "\n",
            "Saved 1 image to \u001b[1m/content/sad/done182\u001b[0m\n",
            "Saved results to /content/sad/done182\n",
            "\n"
          ]
        },
        {
          "output_type": "stream",
          "name": "stdout",
          "text": [
            "--------------------------------------------------\n",
            "IMG_1662800886820.jpg\n",
            "--------------------------------------------------\n",
            "Desire-2ep2.jpg\n"
          ]
        },
        {
          "output_type": "stream",
          "name": "stderr",
          "text": [
            "Saved 1 image to \u001b[1m/content/sad/done183\u001b[0m\n",
            "Saved results to /content/sad/done183\n",
            "\n",
            "Saved 1 image to \u001b[1m/content/sad/done184\u001b[0m\n",
            "Saved results to /content/sad/done184\n",
            "\n"
          ]
        },
        {
          "output_type": "stream",
          "name": "stdout",
          "text": [
            "--------------------------------------------------\n",
            "ding-dong-ep2.jpg\n",
            "--------------------------------------------------\n",
            "1f7f3c5cbfd0d8db4cf6bf5febd55a37.png\n"
          ]
        },
        {
          "output_type": "stream",
          "name": "stderr",
          "text": [
            "Saved 1 image to \u001b[1m/content/sad/done185\u001b[0m\n",
            "Saved results to /content/sad/done185\n",
            "\n"
          ]
        },
        {
          "output_type": "stream",
          "name": "stdout",
          "text": [
            "--------------------------------------------------\n",
            "Adhuri-Pyaas-ep1.jpg\n"
          ]
        },
        {
          "output_type": "stream",
          "name": "stderr",
          "text": [
            "Saved 1 image to \u001b[1m/content/sad/done186\u001b[0m\n",
            "Saved results to /content/sad/done186\n",
            "\n"
          ]
        },
        {
          "output_type": "stream",
          "name": "stdout",
          "text": [
            "--------------------------------------------------\n",
            "Maalpani.2022.E04.jpg\n"
          ]
        },
        {
          "output_type": "stream",
          "name": "stderr",
          "text": [
            "Saved 1 image to \u001b[1m/content/sad/done187\u001b[0m\n",
            "Saved results to /content/sad/done187\n",
            "\n"
          ]
        },
        {
          "output_type": "stream",
          "name": "stdout",
          "text": [
            "--------------------------------------------------\n",
            "paglet-session-2-ep1.jpg\n"
          ]
        },
        {
          "output_type": "stream",
          "name": "stderr",
          "text": [
            "Saved 1 image to \u001b[1m/content/sad/done188\u001b[0m\n",
            "Saved results to /content/sad/done188\n",
            "\n"
          ]
        },
        {
          "output_type": "stream",
          "name": "stdout",
          "text": [
            "--------------------------------------------------\n",
            "Dilrooba-3.jpg\n"
          ]
        },
        {
          "output_type": "stream",
          "name": "stderr",
          "text": [
            "Saved 1 image to \u001b[1m/content/sad/done189\u001b[0m\n",
            "Saved results to /content/sad/done189\n",
            "\n"
          ]
        },
        {
          "output_type": "stream",
          "name": "stdout",
          "text": [
            "--------------------------------------------------\n",
            "MISS-BRIGANZA-ep2.jpg\n"
          ]
        },
        {
          "output_type": "stream",
          "name": "stderr",
          "text": [
            "Saved 1 image to \u001b[1m/content/sad/done190\u001b[0m\n",
            "Saved results to /content/sad/done190\n",
            "\n"
          ]
        },
        {
          "output_type": "stream",
          "name": "stdout",
          "text": [
            "--------------------------------------------------\n",
            "IMG_1655751027102.jpg\n"
          ]
        },
        {
          "output_type": "stream",
          "name": "stderr",
          "text": [
            "Saved 1 image to \u001b[1m/content/sad/done191\u001b[0m\n",
            "Saved results to /content/sad/done191\n",
            "\n",
            "Saved 1 image to \u001b[1m/content/sad/done192\u001b[0m\n",
            "Saved results to /content/sad/done192\n",
            "\n"
          ]
        },
        {
          "output_type": "stream",
          "name": "stdout",
          "text": [
            "--------------------------------------------------\n",
            "download.jpeg-3-1.jpg\n",
            "--------------------------------------------------\n",
            "Ghar-Sasur-ep1-.jpg\n"
          ]
        },
        {
          "output_type": "stream",
          "name": "stderr",
          "text": [
            "Saved 1 image to \u001b[1m/content/sad/done193\u001b[0m\n",
            "Saved results to /content/sad/done193\n",
            "\n",
            "Saved 1 image to \u001b[1m/content/sad/done194\u001b[0m\n",
            "Saved results to /content/sad/done194\n",
            "\n"
          ]
        },
        {
          "output_type": "stream",
          "name": "stdout",
          "text": [
            "--------------------------------------------------\n",
            "Dirty-Entertainer-ep3.jpg\n",
            "--------------------------------------------------\n",
            "Gaon-Ki-Biwi-ep1.jpg\n"
          ]
        },
        {
          "output_type": "stream",
          "name": "stderr",
          "text": [
            "Saved 1 image to \u001b[1m/content/sad/done195\u001b[0m\n",
            "Saved results to /content/sad/done195\n",
            "\n"
          ]
        },
        {
          "output_type": "stream",
          "name": "stdout",
          "text": [
            "--------------------------------------------------\n",
            "naajayaz-rishteep1.jpg\n"
          ]
        },
        {
          "output_type": "stream",
          "name": "stderr",
          "text": [
            "Saved 1 image to \u001b[1m/content/sad/done196\u001b[0m\n",
            "Saved results to /content/sad/done196\n",
            "\n"
          ]
        },
        {
          "output_type": "stream",
          "name": "stdout",
          "text": [
            "--------------------------------------------------\n",
            "Gubare-Wali-ep2.jpg\n"
          ]
        },
        {
          "output_type": "stream",
          "name": "stderr",
          "text": [
            "Saved 1 image to \u001b[1m/content/sad/done197\u001b[0m\n",
            "Saved results to /content/sad/done197\n",
            "\n"
          ]
        },
        {
          "output_type": "stream",
          "name": "stdout",
          "text": [
            "--------------------------------------------------\n",
            "IMG_1657220903483.jpg\n"
          ]
        },
        {
          "output_type": "stream",
          "name": "stderr",
          "text": [
            "Saved 1 image to \u001b[1m/content/sad/done198\u001b[0m\n",
            "Saved results to /content/sad/done198\n",
            "\n",
            "Saved 1 image to \u001b[1m/content/sad/done199\u001b[0m\n",
            "Saved results to /content/sad/done199\n",
            "\n"
          ]
        },
        {
          "output_type": "stream",
          "name": "stdout",
          "text": [
            "--------------------------------------------------\n",
            "dnfvdjww5glw.jpg\n",
            "--------------------------------------------------\n",
            "IMG_1656264833783.jpg\n"
          ]
        },
        {
          "output_type": "stream",
          "name": "stderr",
          "text": [
            "Saved 1 image to \u001b[1m/content/sad/done200\u001b[0m\n",
            "Saved results to /content/sad/done200\n",
            "\n",
            "Saved 1 image to \u001b[1m/content/sad/done201\u001b[0m\n"
          ]
        },
        {
          "output_type": "stream",
          "name": "stdout",
          "text": [
            "--------------------------------------------------\n",
            "Ghar-Sasur-ep6.jpg\n"
          ]
        },
        {
          "output_type": "stream",
          "name": "stderr",
          "text": [
            "Saved results to /content/sad/done201\n",
            "\n"
          ]
        },
        {
          "output_type": "stream",
          "name": "stdout",
          "text": [
            "--------------------------------------------------\n",
            "Doctor-Mohini-2.jpg\n"
          ]
        },
        {
          "output_type": "stream",
          "name": "stderr",
          "text": [
            "Saved 1 image to \u001b[1m/content/sad/done202\u001b[0m\n",
            "Saved results to /content/sad/done202\n",
            "\n",
            "Saved 1 image to \u001b[1m/content/sad/done203\u001b[0m\n",
            "Saved results to /content/sad/done203\n",
            "\n"
          ]
        },
        {
          "output_type": "stream",
          "name": "stdout",
          "text": [
            "--------------------------------------------------\n",
            "sahad-part-1.jpg\n",
            "--------------------------------------------------\n",
            "Lahore-Diaries-ep1.jpg\n"
          ]
        },
        {
          "output_type": "stream",
          "name": "stderr",
          "text": [
            "Saved 1 image to \u001b[1m/content/sad/done204\u001b[0m\n",
            "Saved results to /content/sad/done204\n",
            "\n"
          ]
        },
        {
          "output_type": "stream",
          "name": "stdout",
          "text": [
            "--------------------------------------------------\n",
            "chupan-chupai-ep4-1.jpg\n"
          ]
        },
        {
          "output_type": "stream",
          "name": "stderr",
          "text": [
            "Saved 1 image to \u001b[1m/content/sad/done205\u001b[0m\n",
            "Saved results to /content/sad/done205\n",
            "\n"
          ]
        },
        {
          "output_type": "stream",
          "name": "stdout",
          "text": [
            "--------------------------------------------------\n",
            "wQUpTLv.png\n"
          ]
        },
        {
          "output_type": "stream",
          "name": "stderr",
          "text": [
            "Saved 1 image to \u001b[1m/content/sad/done206\u001b[0m\n",
            "Saved results to /content/sad/done206\n",
            "\n"
          ]
        },
        {
          "output_type": "stream",
          "name": "stdout",
          "text": [
            "--------------------------------------------------\n",
            "Teacher-No-1.jpg\n"
          ]
        },
        {
          "output_type": "stream",
          "name": "stderr",
          "text": [
            "Saved 1 image to \u001b[1m/content/sad/done207\u001b[0m\n",
            "Saved results to /content/sad/done207\n",
            "\n"
          ]
        },
        {
          "output_type": "stream",
          "name": "stdout",
          "text": [
            "--------------------------------------------------\n",
            "Pulinchikka-ep2.jpg\n"
          ]
        },
        {
          "output_type": "stream",
          "name": "stderr",
          "text": [
            "Saved 1 image to \u001b[1m/content/sad/done208\u001b[0m\n",
            "Saved results to /content/sad/done208\n",
            "\n"
          ]
        },
        {
          "output_type": "stream",
          "name": "stdout",
          "text": [
            "--------------------------------------------------\n",
            "aapbiti-ep1.jpg\n"
          ]
        },
        {
          "output_type": "stream",
          "name": "stderr",
          "text": [
            "Saved 1 image to \u001b[1m/content/sad/done209\u001b[0m\n",
            "Saved results to /content/sad/done209\n",
            "\n"
          ]
        },
        {
          "output_type": "stream",
          "name": "stdout",
          "text": [
            "--------------------------------------------------\n",
            "Rose.Marlo_.S01E01.jpg\n"
          ]
        },
        {
          "output_type": "stream",
          "name": "stderr",
          "text": [
            "Saved 1 image to \u001b[1m/content/sad/done210\u001b[0m\n",
            "Saved results to /content/sad/done210\n",
            "\n"
          ]
        },
        {
          "output_type": "stream",
          "name": "stdout",
          "text": [
            "--------------------------------------------------\n",
            "Golu.2.jpg\n"
          ]
        },
        {
          "output_type": "stream",
          "name": "stderr",
          "text": [
            "Saved 1 image to \u001b[1m/content/sad/done211\u001b[0m\n",
            "Saved results to /content/sad/done211\n",
            "\n"
          ]
        },
        {
          "output_type": "stream",
          "name": "stdout",
          "text": [
            "--------------------------------------------------\n",
            "rasiliep4.jpg\n"
          ]
        },
        {
          "output_type": "stream",
          "name": "stderr",
          "text": [
            "Saved 1 image to \u001b[1m/content/sad/done212\u001b[0m\n",
            "Saved results to /content/sad/done212\n",
            "\n",
            "Saved 1 image to \u001b[1m/content/sad/done213\u001b[0m\n"
          ]
        },
        {
          "output_type": "stream",
          "name": "stdout",
          "text": [
            "--------------------------------------------------\n",
            "1663957618549-convert.io_.jpg\n"
          ]
        },
        {
          "output_type": "stream",
          "name": "stderr",
          "text": [
            "Saved results to /content/sad/done213\n",
            "\n"
          ]
        },
        {
          "output_type": "stream",
          "name": "stdout",
          "text": [
            "--------------------------------------------------\n",
            "Online-Romance-Ep1.jpg\n"
          ]
        },
        {
          "output_type": "stream",
          "name": "stderr",
          "text": [
            "Saved 1 image to \u001b[1m/content/sad/done214\u001b[0m\n",
            "Saved results to /content/sad/done214\n",
            "\n"
          ]
        },
        {
          "output_type": "stream",
          "name": "stdout",
          "text": [
            "--------------------------------------------------\n",
            "Siskiyaan-1-min.jpg\n"
          ]
        },
        {
          "output_type": "stream",
          "name": "stderr",
          "text": [
            "Saved 1 image to \u001b[1m/content/sad/done215\u001b[0m\n",
            "Saved results to /content/sad/done215\n",
            "\n",
            "Saved 1 image to \u001b[1m/content/sad/done216\u001b[0m\n",
            "Saved results to /content/sad/done216\n",
            "\n"
          ]
        },
        {
          "output_type": "stream",
          "name": "stdout",
          "text": [
            "--------------------------------------------------\n",
            "IMG_1647595692772.jpg\n",
            "--------------------------------------------------\n",
            "garmi-ep-3.jpg\n"
          ]
        },
        {
          "output_type": "stream",
          "name": "stderr",
          "text": [
            "Saved 1 image to \u001b[1m/content/sad/done217\u001b[0m\n",
            "Saved results to /content/sad/done217\n",
            "\n",
            "Saved 1 image to \u001b[1m/content/sad/done218\u001b[0m\n",
            "Saved results to /content/sad/done218\n",
            "\n"
          ]
        },
        {
          "output_type": "stream",
          "name": "stdout",
          "text": [
            "--------------------------------------------------\n",
            "IMG_1658774318155.jpg\n",
            "--------------------------------------------------\n",
            "DKcAg7w.jpg\n"
          ]
        },
        {
          "output_type": "stream",
          "name": "stderr",
          "text": [
            "Saved 1 image to \u001b[1m/content/sad/done219\u001b[0m\n",
            "Saved results to /content/sad/done219\n",
            "\n"
          ]
        },
        {
          "output_type": "stream",
          "name": "stdout",
          "text": [
            "--------------------------------------------------\n",
            "IMG_1661533612148.jpg\n"
          ]
        },
        {
          "output_type": "stream",
          "name": "stderr",
          "text": [
            "Saved 1 image to \u001b[1m/content/sad/done220\u001b[0m\n",
            "Saved results to /content/sad/done220\n",
            "\n"
          ]
        },
        {
          "output_type": "stream",
          "name": "stdout",
          "text": [
            "--------------------------------------------------\n",
            "Mangalik-3-4.jpg\n"
          ]
        },
        {
          "output_type": "stream",
          "name": "stderr",
          "text": [
            "Saved 1 image to \u001b[1m/content/sad/done221\u001b[0m\n",
            "Saved results to /content/sad/done221\n",
            "\n"
          ]
        },
        {
          "output_type": "stream",
          "name": "stdout",
          "text": [
            "--------------------------------------------------\n",
            "4-SUM-02-1.jpg\n"
          ]
        },
        {
          "output_type": "stream",
          "name": "stderr",
          "text": [
            "Saved 1 image to \u001b[1m/content/sad/done222\u001b[0m\n",
            "Saved results to /content/sad/done222\n",
            "\n",
            "Saved 1 image to \u001b[1m/content/sad/done223\u001b[0m\n",
            "Saved results to /content/sad/done223\n",
            "\n"
          ]
        },
        {
          "output_type": "stream",
          "name": "stdout",
          "text": [
            "--------------------------------------------------\n",
            "Kodaikanal-ep2.jpg\n",
            "--------------------------------------------------\n",
            "taak-jhaak-ep2.jpg\n"
          ]
        },
        {
          "output_type": "stream",
          "name": "stderr",
          "text": [
            "Saved 1 image to \u001b[1m/content/sad/done224\u001b[0m\n",
            "Saved results to /content/sad/done224\n",
            "\n"
          ]
        },
        {
          "output_type": "stream",
          "name": "stdout",
          "text": [
            "--------------------------------------------------\n",
            "INTEKAM-EP1_Moment.jpg\n"
          ]
        },
        {
          "output_type": "stream",
          "name": "stderr",
          "text": [
            "Saved 1 image to \u001b[1m/content/sad/done225\u001b[0m\n",
            "Saved results to /content/sad/done225\n",
            "\n"
          ]
        },
        {
          "output_type": "stream",
          "name": "stdout",
          "text": [
            "--------------------------------------------------\n",
            "Psycho-Saiyan-ep2.jpg\n"
          ]
        },
        {
          "output_type": "stream",
          "name": "stderr",
          "text": [
            "Saved 1 image to \u001b[1m/content/sad/done226\u001b[0m\n",
            "Saved results to /content/sad/done226\n",
            "\n"
          ]
        },
        {
          "output_type": "stream",
          "name": "stdout",
          "text": [
            "--------------------------------------------------\n",
            "gachi5.jpg\n"
          ]
        },
        {
          "output_type": "stream",
          "name": "stderr",
          "text": [
            "Saved 1 image to \u001b[1m/content/sad/done227\u001b[0m\n",
            "Saved results to /content/sad/done227\n",
            "\n"
          ]
        },
        {
          "output_type": "stream",
          "name": "stdout",
          "text": [
            "--------------------------------------------------\n",
            "Sundari-Bhabhi-BumperTV.jpg\n"
          ]
        },
        {
          "output_type": "stream",
          "name": "stderr",
          "text": [
            "Saved 1 image to \u001b[1m/content/sad/done228\u001b[0m\n",
            "Saved results to /content/sad/done228\n",
            "\n"
          ]
        },
        {
          "output_type": "stream",
          "name": "stdout",
          "text": [
            "--------------------------------------------------\n",
            "buri-baat-ep-2.jpg\n"
          ]
        },
        {
          "output_type": "stream",
          "name": "stderr",
          "text": [
            "Saved 1 image to \u001b[1m/content/sad/done229\u001b[0m\n",
            "Saved results to /content/sad/done229\n",
            "\n"
          ]
        },
        {
          "output_type": "stream",
          "name": "stdout",
          "text": [
            "--------------------------------------------------\n",
            "Chaska-ep5.jpg\n"
          ]
        },
        {
          "output_type": "stream",
          "name": "stderr",
          "text": [
            "Saved 1 image to \u001b[1m/content/sad/done230\u001b[0m\n",
            "Saved results to /content/sad/done230\n",
            "\n"
          ]
        },
        {
          "output_type": "stream",
          "name": "stdout",
          "text": [
            "--------------------------------------------------\n",
            "IMG_1657220905207.jpg\n"
          ]
        },
        {
          "output_type": "stream",
          "name": "stderr",
          "text": [
            "Saved 1 image to \u001b[1m/content/sad/done231\u001b[0m\n",
            "Saved results to /content/sad/done231\n",
            "\n",
            "Saved 1 image to \u001b[1m/content/sad/done232\u001b[0m\n",
            "Saved results to /content/sad/done232\n",
            "\n"
          ]
        },
        {
          "output_type": "stream",
          "name": "stdout",
          "text": [
            "--------------------------------------------------\n",
            "jabran-part-1ep4.jpg\n",
            "--------------------------------------------------\n",
            "sultanaNiks.jpg\n"
          ]
        },
        {
          "output_type": "stream",
          "name": "stderr",
          "text": [
            "Saved 1 image to \u001b[1m/content/sad/done233\u001b[0m\n",
            "Saved results to /content/sad/done233\n",
            "\n",
            "Saved 1 image to \u001b[1m/content/sad/done234\u001b[0m\n"
          ]
        },
        {
          "output_type": "stream",
          "name": "stdout",
          "text": [
            "--------------------------------------------------\n",
            "maal-pani-nagar-vadhu-e01.jpg\n"
          ]
        },
        {
          "output_type": "stream",
          "name": "stderr",
          "text": [
            "Saved results to /content/sad/done234\n",
            "\n"
          ]
        },
        {
          "output_type": "stream",
          "name": "stdout",
          "text": [
            "--------------------------------------------------\n",
            "IMG_1657519911715.jpg\n"
          ]
        },
        {
          "output_type": "stream",
          "name": "stderr",
          "text": [
            "Saved 1 image to \u001b[1m/content/sad/done235\u001b[0m\n",
            "Saved results to /content/sad/done235\n",
            "\n",
            "Saved 1 image to \u001b[1m/content/sad/done236\u001b[0m\n",
            "Saved results to /content/sad/done236\n",
            "\n"
          ]
        },
        {
          "output_type": "stream",
          "name": "stdout",
          "text": [
            "--------------------------------------------------\n",
            "pg4.jpg\n",
            "--------------------------------------------------\n",
            "hawash-ep1.jpg\n"
          ]
        },
        {
          "output_type": "stream",
          "name": "stderr",
          "text": [
            "Saved 1 image to \u001b[1m/content/sad/done237\u001b[0m\n",
            "Saved results to /content/sad/done237\n",
            "\n",
            "Saved 1 image to \u001b[1m/content/sad/done238\u001b[0m\n",
            "Saved results to /content/sad/done238\n",
            "\n"
          ]
        },
        {
          "output_type": "stream",
          "name": "stdout",
          "text": [
            "--------------------------------------------------\n",
            "ek-sath-teen-teen-ep1.jpg\n",
            "--------------------------------------------------\n",
            "Avihitham-ep2.jpg\n"
          ]
        },
        {
          "output_type": "stream",
          "name": "stderr",
          "text": [
            "Saved 1 image to \u001b[1m/content/sad/done239\u001b[0m\n",
            "Saved results to /content/sad/done239\n",
            "\n"
          ]
        },
        {
          "output_type": "stream",
          "name": "stdout",
          "text": [
            "--------------------------------------------------\n",
            "sex-game.jpg\n"
          ]
        },
        {
          "output_type": "stream",
          "name": "stderr",
          "text": [
            "Saved 1 image to \u001b[1m/content/sad/done240\u001b[0m\n",
            "Saved results to /content/sad/done240\n",
            "\n"
          ]
        },
        {
          "output_type": "stream",
          "name": "stdout",
          "text": [
            "--------------------------------------------------\n",
            "kajal-bhabhi-ep1.jpg\n"
          ]
        },
        {
          "output_type": "stream",
          "name": "stderr",
          "text": [
            "Saved 1 image to \u001b[1m/content/sad/done241\u001b[0m\n",
            "Saved results to /content/sad/done241\n",
            "\n"
          ]
        },
        {
          "output_type": "stream",
          "name": "stdout",
          "text": [
            "--------------------------------------------------\n",
            "Psycho-Saiyyan-ep4.jpg\n"
          ]
        },
        {
          "output_type": "stream",
          "name": "stderr",
          "text": [
            "Saved 1 image to \u001b[1m/content/sad/done242\u001b[0m\n",
            "Saved results to /content/sad/done242\n",
            "\n"
          ]
        },
        {
          "output_type": "stream",
          "name": "stdout",
          "text": [
            "--------------------------------------------------\n",
            "Shipra-2022-2.jpg\n"
          ]
        },
        {
          "output_type": "stream",
          "name": "stderr",
          "text": [
            "Saved 1 image to \u001b[1m/content/sad/done243\u001b[0m\n",
            "Saved results to /content/sad/done243\n",
            "\n"
          ]
        },
        {
          "output_type": "stream",
          "name": "stdout",
          "text": [
            "--------------------------------------------------\n",
            "dhokebaaz.jpg\n"
          ]
        },
        {
          "output_type": "stream",
          "name": "stderr",
          "text": [
            "Saved 1 image to \u001b[1m/content/sad/done244\u001b[0m\n",
            "Saved results to /content/sad/done244\n",
            "\n"
          ]
        },
        {
          "output_type": "stream",
          "name": "stdout",
          "text": [
            "--------------------------------------------------\n",
            "IMG_1660295023488.jpg\n"
          ]
        },
        {
          "output_type": "stream",
          "name": "stderr",
          "text": [
            "Saved 1 image to \u001b[1m/content/sad/done245\u001b[0m\n",
            "Saved results to /content/sad/done245\n",
            "\n"
          ]
        },
        {
          "output_type": "stream",
          "name": "stdout",
          "text": [
            "--------------------------------------------------\n",
            "IMG_1656263954221.jpg\n"
          ]
        },
        {
          "output_type": "stream",
          "name": "stderr",
          "text": [
            "Saved 1 image to \u001b[1m/content/sad/done246\u001b[0m\n",
            "Saved results to /content/sad/done246\n",
            "\n"
          ]
        },
        {
          "output_type": "stream",
          "name": "stdout",
          "text": [
            "--------------------------------------------------\n",
            "chaska-ep5.jpg\n"
          ]
        },
        {
          "output_type": "stream",
          "name": "stderr",
          "text": [
            "Saved 1 image to \u001b[1m/content/sad/done247\u001b[0m\n",
            "Saved results to /content/sad/done247\n",
            "\n"
          ]
        },
        {
          "output_type": "stream",
          "name": "stdout",
          "text": [
            "--------------------------------------------------\n",
            "JaanBujKar_2.jpg\n"
          ]
        },
        {
          "output_type": "stream",
          "name": "stderr",
          "text": [
            "Saved 1 image to \u001b[1m/content/sad/done248\u001b[0m\n",
            "Saved results to /content/sad/done248\n",
            "\n"
          ]
        },
        {
          "output_type": "stream",
          "name": "stdout",
          "text": [
            "--------------------------------------------------\n",
            "damad-jiep6.jpg\n"
          ]
        },
        {
          "output_type": "stream",
          "name": "stderr",
          "text": [
            "Saved 1 image to \u001b[1m/content/sad/done249\u001b[0m\n",
            "Saved results to /content/sad/done249\n",
            "\n"
          ]
        },
        {
          "output_type": "stream",
          "name": "stdout",
          "text": [
            "--------------------------------------------------\n",
            "ranjish-ep1.jpg\n"
          ]
        },
        {
          "output_type": "stream",
          "name": "stderr",
          "text": [
            "Saved 1 image to \u001b[1m/content/sad/done250\u001b[0m\n",
            "Saved results to /content/sad/done250\n",
            "\n"
          ]
        },
        {
          "output_type": "stream",
          "name": "stdout",
          "text": [
            "--------------------------------------------------\n",
            "bunty-babli-ep2.jpg\n"
          ]
        },
        {
          "output_type": "stream",
          "name": "stderr",
          "text": [
            "Saved 1 image to \u001b[1m/content/sad/done251\u001b[0m\n",
            "Saved results to /content/sad/done251\n",
            "\n"
          ]
        },
        {
          "output_type": "stream",
          "name": "stdout",
          "text": [
            "--------------------------------------------------\n",
            "begam-ka-kotha-Ep3-.jpg\n"
          ]
        },
        {
          "output_type": "stream",
          "name": "stderr",
          "text": [
            "Saved 1 image to \u001b[1m/content/sad/done252\u001b[0m\n",
            "Saved results to /content/sad/done252\n",
            "\n"
          ]
        },
        {
          "output_type": "stream",
          "name": "stdout",
          "text": [
            "--------------------------------------------------\n",
            "Gunha-1.jpg\n"
          ]
        },
        {
          "output_type": "stream",
          "name": "stderr",
          "text": [
            "Saved 1 image to \u001b[1m/content/sad/done253\u001b[0m\n",
            "Saved results to /content/sad/done253\n",
            "\n"
          ]
        },
        {
          "output_type": "stream",
          "name": "stdout",
          "text": [
            "--------------------------------------------------\n",
            "rocker-ep3.jpg\n"
          ]
        },
        {
          "output_type": "stream",
          "name": "stderr",
          "text": [
            "Saved 1 image to \u001b[1m/content/sad/done254\u001b[0m\n",
            "Saved results to /content/sad/done254\n",
            "\n",
            "Saved 1 image to \u001b[1m/content/sad/done255\u001b[0m\n",
            "Saved results to /content/sad/done255\n",
            "\n"
          ]
        },
        {
          "output_type": "stream",
          "name": "stdout",
          "text": [
            "--------------------------------------------------\n",
            "Laila-ep1.jpg\n",
            "--------------------------------------------------\n",
            "Pulinchikka-ep1.jpg\n"
          ]
        },
        {
          "output_type": "stream",
          "name": "stderr",
          "text": [
            "Saved 1 image to \u001b[1m/content/sad/done256\u001b[0m\n",
            "Saved results to /content/sad/done256\n",
            "\n",
            "Saved 1 image to \u001b[1m/content/sad/done257\u001b[0m\n",
            "Saved results to /content/sad/done257\n",
            "\n"
          ]
        },
        {
          "output_type": "stream",
          "name": "stdout",
          "text": [
            "--------------------------------------------------\n",
            "jhol-jhal-ep2.jpg\n",
            "--------------------------------------------------\n",
            "chameli-bhabhi-ep3.jpg\n"
          ]
        },
        {
          "output_type": "stream",
          "name": "stderr",
          "text": [
            "Saved 1 image to \u001b[1m/content/sad/done258\u001b[0m\n",
            "Saved results to /content/sad/done258\n",
            "\n"
          ]
        },
        {
          "output_type": "stream",
          "name": "stdout",
          "text": [
            "--------------------------------------------------\n",
            "Sainyaa-Salman-ep4.jpg\n"
          ]
        },
        {
          "output_type": "stream",
          "name": "stderr",
          "text": [
            "Saved 1 image to \u001b[1m/content/sad/done259\u001b[0m\n",
            "Saved results to /content/sad/done259\n",
            "\n"
          ]
        },
        {
          "output_type": "stream",
          "name": "stdout",
          "text": [
            "--------------------------------------------------\n",
            "Tuition-Teacher-ep2.jpg\n"
          ]
        },
        {
          "output_type": "stream",
          "name": "stderr",
          "text": [
            "Saved 1 image to \u001b[1m/content/sad/done260\u001b[0m\n",
            "Saved results to /content/sad/done260\n",
            "\n"
          ]
        },
        {
          "output_type": "stream",
          "name": "stdout",
          "text": [
            "--------------------------------------------------\n",
            "chaska-ep3.jpg\n"
          ]
        },
        {
          "output_type": "stream",
          "name": "stderr",
          "text": [
            "Saved 1 image to \u001b[1m/content/sad/done261\u001b[0m\n",
            "Saved results to /content/sad/done261\n",
            "\n"
          ]
        },
        {
          "output_type": "stream",
          "name": "stdout",
          "text": [
            "--------------------------------------------------\n",
            "IMG_1649963022108.jpg\n"
          ]
        },
        {
          "output_type": "stream",
          "name": "stderr",
          "text": [
            "Saved 1 image to \u001b[1m/content/sad/done262\u001b[0m\n",
            "Saved results to /content/sad/done262\n",
            "\n"
          ]
        },
        {
          "output_type": "stream",
          "name": "stdout",
          "text": [
            "--------------------------------------------------\n",
            "Roopmati-ep1.jpg\n"
          ]
        },
        {
          "output_type": "stream",
          "name": "stderr",
          "text": [
            "Saved 1 image to \u001b[1m/content/sad/done263\u001b[0m\n",
            "Saved results to /content/sad/done263\n",
            "\n"
          ]
        },
        {
          "output_type": "stream",
          "name": "stdout",
          "text": [
            "--------------------------------------------------\n",
            "IMG_1647525722699.jpg\n"
          ]
        },
        {
          "output_type": "stream",
          "name": "stderr",
          "text": [
            "Saved 1 image to \u001b[1m/content/sad/done264\u001b[0m\n",
            "Saved results to /content/sad/done264\n",
            "\n"
          ]
        },
        {
          "output_type": "stream",
          "name": "stdout",
          "text": [
            "--------------------------------------------------\n",
            "amar-boudi.jpg\n"
          ]
        },
        {
          "output_type": "stream",
          "name": "stderr",
          "text": [
            "Saved 1 image to \u001b[1m/content/sad/done265\u001b[0m\n",
            "Saved results to /content/sad/done265\n",
            "\n"
          ]
        },
        {
          "output_type": "stream",
          "name": "stdout",
          "text": [
            "--------------------------------------------------\n",
            "good-luck-ep4.jpg\n"
          ]
        },
        {
          "output_type": "stream",
          "name": "stderr",
          "text": [
            "Saved 1 image to \u001b[1m/content/sad/done266\u001b[0m\n",
            "Saved results to /content/sad/done266\n",
            "\n"
          ]
        },
        {
          "output_type": "stream",
          "name": "stdout",
          "text": [
            "--------------------------------------------------\n",
            "xsutra1.jpg\n"
          ]
        },
        {
          "output_type": "stream",
          "name": "stderr",
          "text": [
            "Saved 1 image to \u001b[1m/content/sad/done267\u001b[0m\n",
            "Saved results to /content/sad/done267\n",
            "\n"
          ]
        },
        {
          "output_type": "stream",
          "name": "stdout",
          "text": [
            "--------------------------------------------------\n",
            "IMG_1659803048509.jpg\n"
          ]
        },
        {
          "output_type": "stream",
          "name": "stderr",
          "text": [
            "Saved 1 image to \u001b[1m/content/sad/done268\u001b[0m\n",
            "Saved results to /content/sad/done268\n",
            "\n"
          ]
        },
        {
          "output_type": "stream",
          "name": "stdout",
          "text": [
            "--------------------------------------------------\n",
            "Feelings.jpg\n"
          ]
        },
        {
          "output_type": "stream",
          "name": "stderr",
          "text": [
            "Saved 1 image to \u001b[1m/content/sad/done269\u001b[0m\n",
            "Saved results to /content/sad/done269\n",
            "\n"
          ]
        },
        {
          "output_type": "stream",
          "name": "stdout",
          "text": [
            "--------------------------------------------------\n",
            "akeli-ep2.jpg\n"
          ]
        },
        {
          "output_type": "stream",
          "name": "stderr",
          "text": [
            "Saved 1 image to \u001b[1m/content/sad/done270\u001b[0m\n",
            "Saved results to /content/sad/done270\n",
            "\n"
          ]
        },
        {
          "output_type": "stream",
          "name": "stdout",
          "text": [
            "--------------------------------------------------\n",
            "cxye09rg63ot.jpg\n"
          ]
        },
        {
          "output_type": "stream",
          "name": "stderr",
          "text": [
            "Saved 1 image to \u001b[1m/content/sad/done271\u001b[0m\n",
            "Saved results to /content/sad/done271\n",
            "\n"
          ]
        },
        {
          "output_type": "stream",
          "name": "stdout",
          "text": [
            "--------------------------------------------------\n",
            "samay-yaatra-ep2.jpg\n"
          ]
        },
        {
          "output_type": "stream",
          "name": "stderr",
          "text": [
            "Saved 1 image to \u001b[1m/content/sad/done272\u001b[0m\n",
            "Saved results to /content/sad/done272\n",
            "\n"
          ]
        },
        {
          "output_type": "stream",
          "name": "stdout",
          "text": [
            "--------------------------------------------------\n",
            "IMG_1659946059775.jpg\n"
          ]
        },
        {
          "output_type": "stream",
          "name": "stderr",
          "text": [
            "Saved 1 image to \u001b[1m/content/sad/done273\u001b[0m\n",
            "Saved results to /content/sad/done273\n",
            "\n"
          ]
        },
        {
          "output_type": "stream",
          "name": "stdout",
          "text": [
            "--------------------------------------------------\n",
            "Dilrooba-1.jpg\n"
          ]
        },
        {
          "output_type": "stream",
          "name": "stderr",
          "text": [
            "Saved 1 image to \u001b[1m/content/sad/done274\u001b[0m\n",
            "Saved results to /content/sad/done274\n",
            "\n"
          ]
        },
        {
          "output_type": "stream",
          "name": "stdout",
          "text": [
            "--------------------------------------------------\n",
            "ring-s01e02-gupchup.jpg\n"
          ]
        },
        {
          "output_type": "stream",
          "name": "stderr",
          "text": [
            "Saved 1 image to \u001b[1m/content/sad/done275\u001b[0m\n",
            "Saved results to /content/sad/done275\n",
            "\n",
            "Saved 1 image to \u001b[1m/content/sad/done276\u001b[0m\n",
            "Saved results to /content/sad/done276\n",
            "\n"
          ]
        },
        {
          "output_type": "stream",
          "name": "stdout",
          "text": [
            "--------------------------------------------------\n",
            "3w739i97onoh.jpg\n",
            "--------------------------------------------------\n",
            "Tere-Jaisa-Yaar-Kaha-ep7.jpg\n"
          ]
        },
        {
          "output_type": "stream",
          "name": "stderr",
          "text": [
            "Saved 1 image to \u001b[1m/content/sad/done277\u001b[0m\n",
            "Saved results to /content/sad/done277\n",
            "\n",
            "Saved 1 image to \u001b[1m/content/sad/done278\u001b[0m\n",
            "Saved results to /content/sad/done278\n",
            "\n"
          ]
        },
        {
          "output_type": "stream",
          "name": "stdout",
          "text": [
            "--------------------------------------------------\n",
            "IMG_1649005793187.jpg\n",
            "--------------------------------------------------\n",
            "unxJMRF.jpg\n"
          ]
        },
        {
          "output_type": "stream",
          "name": "stderr",
          "text": [
            "Saved 1 image to \u001b[1m/content/sad/done279\u001b[0m\n",
            "Saved results to /content/sad/done279\n",
            "\n"
          ]
        },
        {
          "output_type": "stream",
          "name": "stdout",
          "text": [
            "--------------------------------------------------\n",
            "escort-service-xprime_Moment.jpg\n"
          ]
        },
        {
          "output_type": "stream",
          "name": "stderr",
          "text": [
            "Saved 1 image to \u001b[1m/content/sad/done280\u001b[0m\n",
            "Saved results to /content/sad/done280\n",
            "\n"
          ]
        },
        {
          "output_type": "stream",
          "name": "stdout",
          "text": [
            "--------------------------------------------------\n",
            "manchaha-ep2-.jpg\n"
          ]
        },
        {
          "output_type": "stream",
          "name": "stderr",
          "text": [
            "Saved 1 image to \u001b[1m/content/sad/done281\u001b[0m\n",
            "Saved results to /content/sad/done281\n",
            "\n"
          ]
        },
        {
          "output_type": "stream",
          "name": "stdout",
          "text": [
            "--------------------------------------------------\n",
            "Step-Daddy-Punishes-Step-Daughter.jpg\n"
          ]
        },
        {
          "output_type": "stream",
          "name": "stderr",
          "text": [
            "Saved 1 image to \u001b[1m/content/sad/done282\u001b[0m\n",
            "Saved results to /content/sad/done282\n",
            "\n"
          ]
        },
        {
          "output_type": "stream",
          "name": "stdout",
          "text": [
            "--------------------------------------------------\n",
            "Farebi-yaar-ep1.jpg\n"
          ]
        },
        {
          "output_type": "stream",
          "name": "stderr",
          "text": [
            "Saved 1 image to \u001b[1m/content/sad/done283\u001b[0m\n",
            "Saved results to /content/sad/done283\n",
            "\n"
          ]
        },
        {
          "output_type": "stream",
          "name": "stdout",
          "text": [
            "--------------------------------------------------\n",
            "Do-Haseena-2.jpg\n"
          ]
        },
        {
          "output_type": "stream",
          "name": "stderr",
          "text": [
            "Saved 1 image to \u001b[1m/content/sad/done284\u001b[0m\n",
            "Saved results to /content/sad/done284\n",
            "\n"
          ]
        },
        {
          "output_type": "stream",
          "name": "stdout",
          "text": [
            "--------------------------------------------------\n",
            "Hope-5-.jpg\n"
          ]
        },
        {
          "output_type": "stream",
          "name": "stderr",
          "text": [
            "Saved 1 image to \u001b[1m/content/sad/done285\u001b[0m\n",
            "Saved results to /content/sad/done285\n",
            "\n",
            "Saved 1 image to \u001b[1m/content/sad/done286\u001b[0m\n",
            "Saved results to /content/sad/done286\n",
            "\n"
          ]
        },
        {
          "output_type": "stream",
          "name": "stdout",
          "text": [
            "--------------------------------------------------\n",
            "sasur-ji.jpg\n",
            "--------------------------------------------------\n",
            "Gupchup.2022.E04.jpg\n"
          ]
        },
        {
          "output_type": "stream",
          "name": "stderr",
          "text": [
            "Saved 1 image to \u001b[1m/content/sad/done287\u001b[0m\n",
            "Saved results to /content/sad/done287\n",
            "\n"
          ]
        },
        {
          "output_type": "stream",
          "name": "stdout",
          "text": [
            "--------------------------------------------------\n",
            "ghar-ka-call-boy-ep6.jpg\n"
          ]
        },
        {
          "output_type": "stream",
          "name": "stderr",
          "text": [
            "Saved 1 image to \u001b[1m/content/sad/done288\u001b[0m\n",
            "Saved results to /content/sad/done288\n",
            "\n",
            "Saved 1 image to \u001b[1m/content/sad/done289\u001b[0m\n",
            "Saved results to /content/sad/done289\n",
            "\n"
          ]
        },
        {
          "output_type": "stream",
          "name": "stdout",
          "text": [
            "--------------------------------------------------\n",
            "IMG_20220214_095644.jpg\n",
            "--------------------------------------------------\n",
            "jabranep7.jpg\n"
          ]
        },
        {
          "output_type": "stream",
          "name": "stderr",
          "text": [
            "Saved 1 image to \u001b[1m/content/sad/done290\u001b[0m\n",
            "Saved results to /content/sad/done290\n",
            "\n",
            "Saved 1 image to \u001b[1m/content/sad/done291\u001b[0m\n",
            "Saved results to /content/sad/done291\n",
            "\n"
          ]
        },
        {
          "output_type": "stream",
          "name": "stdout",
          "text": [
            "--------------------------------------------------\n",
            "Laila-2ep4.jpg\n",
            "--------------------------------------------------\n",
            "Chull-Dhulai.jpg\n"
          ]
        },
        {
          "output_type": "stream",
          "name": "stderr",
          "text": [
            "Saved 1 image to \u001b[1m/content/sad/done292\u001b[0m\n",
            "Saved results to /content/sad/done292\n",
            "\n"
          ]
        },
        {
          "output_type": "stream",
          "name": "stdout",
          "text": [
            "--------------------------------------------------\n",
            "sajani-ep3.jpg\n"
          ]
        },
        {
          "output_type": "stream",
          "name": "stderr",
          "text": [
            "Saved 1 image to \u001b[1m/content/sad/done293\u001b[0m\n",
            "Saved results to /content/sad/done293\n",
            "\n",
            "Saved 1 image to \u001b[1m/content/sad/done294\u001b[0m\n",
            "Saved results to /content/sad/done294\n",
            "\n"
          ]
        },
        {
          "output_type": "stream",
          "name": "stdout",
          "text": [
            "--------------------------------------------------\n",
            "fe7510a765d3c438ebee0c28c4974d65.png\n",
            "--------------------------------------------------\n",
            "IMG_1647785582414.jpg\n"
          ]
        },
        {
          "output_type": "stream",
          "name": "stderr",
          "text": [
            "Saved 1 image to \u001b[1m/content/sad/done295\u001b[0m\n",
            "Saved results to /content/sad/done295\n",
            "\n",
            "Saved 1 image to \u001b[1m/content/sad/done296\u001b[0m\n",
            "Saved results to /content/sad/done296\n",
            "\n"
          ]
        },
        {
          "output_type": "stream",
          "name": "stdout",
          "text": [
            "--------------------------------------------------\n",
            "the-maid-ep1.jpg\n",
            "--------------------------------------------------\n",
            "Gaon-Ki-Garmi-3-ep2.jpg\n"
          ]
        },
        {
          "output_type": "stream",
          "name": "stderr",
          "text": [
            "Saved 1 image to \u001b[1m/content/sad/done297\u001b[0m\n",
            "Saved results to /content/sad/done297\n",
            "\n"
          ]
        },
        {
          "output_type": "stream",
          "name": "stdout",
          "text": [
            "--------------------------------------------------\n",
            "kiraydar-ep1.jpg\n"
          ]
        },
        {
          "output_type": "stream",
          "name": "stderr",
          "text": [
            "Saved 1 image to \u001b[1m/content/sad/done298\u001b[0m\n",
            "Saved results to /content/sad/done298\n",
            "\n"
          ]
        },
        {
          "output_type": "stream",
          "name": "stdout",
          "text": [
            "--------------------------------------------------\n",
            "play-boy-2-fliz.jpg\n"
          ]
        },
        {
          "output_type": "stream",
          "name": "stderr",
          "text": [
            "Saved 1 image to \u001b[1m/content/sad/done299\u001b[0m\n",
            "Saved results to /content/sad/done299\n",
            "\n"
          ]
        },
        {
          "output_type": "stream",
          "name": "stdout",
          "text": [
            "--------------------------------------------------\n",
            "Jalebi-3-ep5.jpg\n"
          ]
        },
        {
          "output_type": "stream",
          "name": "stderr",
          "text": [
            "Saved 1 image to \u001b[1m/content/sad/done300\u001b[0m\n",
            "Saved results to /content/sad/done300\n",
            "\n"
          ]
        },
        {
          "output_type": "stream",
          "name": "stdout",
          "text": [
            "--------------------------------------------------\n",
            "IMG_1649644466657.jpg\n"
          ]
        },
        {
          "output_type": "stream",
          "name": "stderr",
          "text": [
            "Saved 1 image to \u001b[1m/content/sad/done301\u001b[0m\n",
            "Saved results to /content/sad/done301\n",
            "\n",
            "Saved 1 image to \u001b[1m/content/sad/done302\u001b[0m\n",
            "Saved results to /content/sad/done302\n",
            "\n"
          ]
        },
        {
          "output_type": "stream",
          "name": "stdout",
          "text": [
            "--------------------------------------------------\n",
            "flat-screen-ep1.jpg\n",
            "--------------------------------------------------\n",
            "vlcsnap-2021-05-29-16h56m49s074.jpg\n"
          ]
        },
        {
          "output_type": "stream",
          "name": "stderr",
          "text": [
            "Saved 1 image to \u001b[1m/content/sad/done303\u001b[0m\n",
            "Saved results to /content/sad/done303\n",
            "\n",
            "Saved 1 image to \u001b[1m/content/sad/done304\u001b[0m\n",
            "Saved results to /content/sad/done304\n",
            "\n"
          ]
        },
        {
          "output_type": "stream",
          "name": "stdout",
          "text": [
            "--------------------------------------------------\n",
            "IMG_20220220_111116.jpg\n",
            "--------------------------------------------------\n",
            "Farebi-yaar-ep3.jpg\n"
          ]
        },
        {
          "output_type": "stream",
          "name": "stderr",
          "text": [
            "Saved 1 image to \u001b[1m/content/sad/done305\u001b[0m\n",
            "Saved results to /content/sad/done305\n",
            "\n"
          ]
        },
        {
          "output_type": "stream",
          "name": "stdout",
          "text": [
            "--------------------------------------------------\n",
            "dream-girl-ep3.jpg\n"
          ]
        },
        {
          "output_type": "stream",
          "name": "stderr",
          "text": [
            "Saved 1 image to \u001b[1m/content/sad/done306\u001b[0m\n",
            "Saved results to /content/sad/done306\n",
            "\n"
          ]
        },
        {
          "output_type": "stream",
          "name": "stdout",
          "text": [
            "--------------------------------------------------\n",
            "Maala-Maal-ep3.jpg\n"
          ]
        },
        {
          "output_type": "stream",
          "name": "stderr",
          "text": [
            "Saved 1 image to \u001b[1m/content/sad/done307\u001b[0m\n",
            "Saved results to /content/sad/done307\n",
            "\n"
          ]
        },
        {
          "output_type": "stream",
          "name": "stdout",
          "text": [
            "--------------------------------------------------\n",
            "Psycho-Saiyan-ep1.jpg\n"
          ]
        },
        {
          "output_type": "stream",
          "name": "stderr",
          "text": [
            "Saved 1 image to \u001b[1m/content/sad/done308\u001b[0m\n",
            "Saved results to /content/sad/done308\n",
            "\n"
          ]
        },
        {
          "output_type": "stream",
          "name": "stdout",
          "text": [
            "--------------------------------------------------\n",
            "IMG_1646229126545.jpg\n"
          ]
        },
        {
          "output_type": "stream",
          "name": "stderr",
          "text": [
            "Saved 1 image to \u001b[1m/content/sad/done309\u001b[0m\n",
            "Saved results to /content/sad/done309\n",
            "\n"
          ]
        },
        {
          "output_type": "stream",
          "name": "stdout",
          "text": [
            "--------------------------------------------------\n",
            "Mere-Sapno-Ki-Rani-ep3.jpg\n"
          ]
        },
        {
          "output_type": "stream",
          "name": "stderr",
          "text": [
            "Saved 1 image to \u001b[1m/content/sad/done310\u001b[0m\n",
            "Saved results to /content/sad/done310\n",
            "\n",
            "Saved 1 image to \u001b[1m/content/sad/done311\u001b[0m\n",
            "Saved results to /content/sad/done311\n",
            "\n"
          ]
        },
        {
          "output_type": "stream",
          "name": "stdout",
          "text": [
            "--------------------------------------------------\n",
            "IMG_1655489609125.jpg\n",
            "--------------------------------------------------\n",
            "IMG_1661536365365.jpg\n"
          ]
        },
        {
          "output_type": "stream",
          "name": "stderr",
          "text": [
            "Saved 1 image to \u001b[1m/content/sad/done312\u001b[0m\n",
            "Saved results to /content/sad/done312\n",
            "\n"
          ]
        },
        {
          "output_type": "stream",
          "name": "stdout",
          "text": [
            "--------------------------------------------------\n",
            "adla-badli-ep5.jpg\n"
          ]
        },
        {
          "output_type": "stream",
          "name": "stderr",
          "text": [
            "Saved 1 image to \u001b[1m/content/sad/done313\u001b[0m\n",
            "Saved results to /content/sad/done313\n",
            "\n",
            "Saved 1 image to \u001b[1m/content/sad/done314\u001b[0m\n",
            "Saved results to /content/sad/done314\n",
            "\n"
          ]
        },
        {
          "output_type": "stream",
          "name": "stdout",
          "text": [
            "--------------------------------------------------\n",
            "Ratri-Kawach-ep4.jpg\n",
            "--------------------------------------------------\n",
            "watchman-ep4.jpg\n"
          ]
        },
        {
          "output_type": "stream",
          "name": "stderr",
          "text": [
            "Saved 1 image to \u001b[1m/content/sad/done315\u001b[0m\n",
            "Saved results to /content/sad/done315\n",
            "\n"
          ]
        },
        {
          "output_type": "stream",
          "name": "stdout",
          "text": [
            "--------------------------------------------------\n",
            "Paglet.2022.E03.jpg\n"
          ]
        },
        {
          "output_type": "stream",
          "name": "stderr",
          "text": [
            "Saved 1 image to \u001b[1m/content/sad/done316\u001b[0m\n",
            "Saved results to /content/sad/done316\n",
            "\n",
            "Saved 1 image to \u001b[1m/content/sad/done317\u001b[0m\n"
          ]
        },
        {
          "output_type": "stream",
          "name": "stdout",
          "text": [
            "--------------------------------------------------\n",
            "IMG_1651517635956.jpg\n"
          ]
        },
        {
          "output_type": "stream",
          "name": "stderr",
          "text": [
            "Saved results to /content/sad/done317\n",
            "\n"
          ]
        },
        {
          "output_type": "stream",
          "name": "stdout",
          "text": [
            "--------------------------------------------------\n",
            "Langot-2.jpg\n"
          ]
        },
        {
          "output_type": "stream",
          "name": "stderr",
          "text": [
            "Saved 1 image to \u001b[1m/content/sad/done318\u001b[0m\n",
            "Saved results to /content/sad/done318\n",
            "\n"
          ]
        },
        {
          "output_type": "stream",
          "name": "stdout",
          "text": [
            "--------------------------------------------------\n",
            "khidki-part-1-ep1.jpg\n"
          ]
        },
        {
          "output_type": "stream",
          "name": "stderr",
          "text": [
            "Saved 1 image to \u001b[1m/content/sad/done319\u001b[0m\n",
            "Saved results to /content/sad/done319\n",
            "\n"
          ]
        },
        {
          "output_type": "stream",
          "name": "stdout",
          "text": [
            "--------------------------------------------------\n",
            "walkman-ep-5.jpg\n"
          ]
        },
        {
          "output_type": "stream",
          "name": "stderr",
          "text": [
            "Saved 1 image to \u001b[1m/content/sad/done320\u001b[0m\n",
            "Saved results to /content/sad/done320\n",
            "\n"
          ]
        },
        {
          "output_type": "stream",
          "name": "stdout",
          "text": [
            "--------------------------------------------------\n",
            "Antrvasna.2022.E2.jpg\n"
          ]
        },
        {
          "output_type": "stream",
          "name": "stderr",
          "text": [
            "Saved 1 image to \u001b[1m/content/sad/done321\u001b[0m\n",
            "Saved results to /content/sad/done321\n",
            "\n"
          ]
        },
        {
          "output_type": "stream",
          "name": "stdout",
          "text": [
            "--------------------------------------------------\n",
            "IMG_1648924942844.jpg\n"
          ]
        },
        {
          "output_type": "stream",
          "name": "stderr",
          "text": [
            "Saved 1 image to \u001b[1m/content/sad/done322\u001b[0m\n",
            "Saved results to /content/sad/done322\n",
            "\n"
          ]
        },
        {
          "output_type": "stream",
          "name": "stdout",
          "text": [
            "--------------------------------------------------\n",
            "dhanno-doodh-wali-ep2.jpg\n"
          ]
        },
        {
          "output_type": "stream",
          "name": "stderr",
          "text": [
            "Saved 1 image to \u001b[1m/content/sad/done323\u001b[0m\n",
            "Saved results to /content/sad/done323\n",
            "\n"
          ]
        },
        {
          "output_type": "stream",
          "name": "stdout",
          "text": [
            "--------------------------------------------------\n",
            "qJVkv6w.jpg\n"
          ]
        },
        {
          "output_type": "stream",
          "name": "stderr",
          "text": [
            "Saved 1 image to \u001b[1m/content/sad/done324\u001b[0m\n",
            "Saved results to /content/sad/done324\n",
            "\n"
          ]
        },
        {
          "output_type": "stream",
          "name": "stdout",
          "text": [
            "--------------------------------------------------\n",
            "wmun4z90fval.jpg\n"
          ]
        },
        {
          "output_type": "stream",
          "name": "stderr",
          "text": [
            "Saved 1 image to \u001b[1m/content/sad/done325\u001b[0m\n",
            "Saved results to /content/sad/done325\n",
            "\n"
          ]
        },
        {
          "output_type": "stream",
          "name": "stdout",
          "text": [
            "--------------------------------------------------\n",
            "sush-bhabhi.jpg\n"
          ]
        },
        {
          "output_type": "stream",
          "name": "stderr",
          "text": [
            "Saved 1 image to \u001b[1m/content/sad/done326\u001b[0m\n",
            "Saved results to /content/sad/done326\n",
            "\n"
          ]
        },
        {
          "output_type": "stream",
          "name": "stdout",
          "text": [
            "--------------------------------------------------\n",
            "Television-E3-1.jpg\n"
          ]
        },
        {
          "output_type": "stream",
          "name": "stderr",
          "text": [
            "Saved 1 image to \u001b[1m/content/sad/done327\u001b[0m\n",
            "Saved results to /content/sad/done327\n",
            "\n"
          ]
        },
        {
          "output_type": "stream",
          "name": "stdout",
          "text": [
            "--------------------------------------------------\n",
            "IMG_1648100389881.jpg\n"
          ]
        },
        {
          "output_type": "stream",
          "name": "stderr",
          "text": [
            "Saved 1 image to \u001b[1m/content/sad/done328\u001b[0m\n",
            "Saved results to /content/sad/done328\n",
            "\n"
          ]
        },
        {
          "output_type": "stream",
          "name": "stdout",
          "text": [
            "--------------------------------------------------\n",
            "pahredar-3ep4.jpg\n"
          ]
        },
        {
          "output_type": "stream",
          "name": "stderr",
          "text": [
            "Saved 1 image to \u001b[1m/content/sad/done329\u001b[0m\n",
            "Saved results to /content/sad/done329\n",
            "\n"
          ]
        },
        {
          "output_type": "stream",
          "name": "stdout",
          "text": [
            "--------------------------------------------------\n",
            "Naadani-Halkut.jpg\n"
          ]
        },
        {
          "output_type": "stream",
          "name": "stderr",
          "text": [
            "Saved 1 image to \u001b[1m/content/sad/done330\u001b[0m\n",
            "Saved results to /content/sad/done330\n",
            "\n"
          ]
        },
        {
          "output_type": "stream",
          "name": "stdout",
          "text": [
            "--------------------------------------------------\n",
            "IMG_1645849263340.jpg\n"
          ]
        },
        {
          "output_type": "stream",
          "name": "stderr",
          "text": [
            "Saved 1 image to \u001b[1m/content/sad/done331\u001b[0m\n",
            "Saved results to /content/sad/done331\n",
            "\n"
          ]
        },
        {
          "output_type": "stream",
          "name": "stdout",
          "text": [
            "--------------------------------------------------\n",
            "3f69a31a361b5916d4d1f4f451c0d913.jpg\n"
          ]
        },
        {
          "output_type": "stream",
          "name": "stderr",
          "text": [
            "Saved 1 image to \u001b[1m/content/sad/done332\u001b[0m\n",
            "Saved results to /content/sad/done332\n",
            "\n"
          ]
        },
        {
          "output_type": "stream",
          "name": "stdout",
          "text": [
            "--------------------------------------------------\n",
            "juaa-ep3.jpg\n"
          ]
        },
        {
          "output_type": "stream",
          "name": "stderr",
          "text": [
            "Saved 1 image to \u001b[1m/content/sad/done333\u001b[0m\n",
            "Saved results to /content/sad/done333\n",
            "\n"
          ]
        },
        {
          "output_type": "stream",
          "name": "stdout",
          "text": [
            "--------------------------------------------------\n",
            "ranjish-ep5.jpg\n"
          ]
        },
        {
          "output_type": "stream",
          "name": "stderr",
          "text": [
            "Saved 1 image to \u001b[1m/content/sad/done334\u001b[0m\n",
            "Saved results to /content/sad/done334\n",
            "\n"
          ]
        },
        {
          "output_type": "stream",
          "name": "stdout",
          "text": [
            "--------------------------------------------------\n",
            "lifeinsurance2.jpg\n"
          ]
        },
        {
          "output_type": "stream",
          "name": "stderr",
          "text": [
            "Saved 1 image to \u001b[1m/content/sad/done335\u001b[0m\n",
            "Saved results to /content/sad/done335\n",
            "\n",
            "Saved 1 image to \u001b[1m/content/sad/done336\u001b[0m\n",
            "Saved results to /content/sad/done336\n",
            "\n"
          ]
        },
        {
          "output_type": "stream",
          "name": "stdout",
          "text": [
            "--------------------------------------------------\n",
            "98da99ec46308b2c446cb46bbb5f0a0e.th_.jpg\n",
            "--------------------------------------------------\n",
            "Khalish-ep9.jpg\n"
          ]
        },
        {
          "output_type": "stream",
          "name": "stderr",
          "text": [
            "Saved 1 image to \u001b[1m/content/sad/done337\u001b[0m\n",
            "Saved results to /content/sad/done337\n",
            "\n"
          ]
        },
        {
          "output_type": "stream",
          "name": "stdout",
          "text": [
            "--------------------------------------------------\n",
            "Atmbhabi.1.jpg\n"
          ]
        },
        {
          "output_type": "stream",
          "name": "stderr",
          "text": [
            "Saved 1 image to \u001b[1m/content/sad/done338\u001b[0m\n",
            "Saved results to /content/sad/done338\n",
            "\n"
          ]
        },
        {
          "output_type": "stream",
          "name": "stdout",
          "text": [
            "--------------------------------------------------\n",
            "kalpana-ep1.jpg\n"
          ]
        },
        {
          "output_type": "stream",
          "name": "stderr",
          "text": [
            "Saved 1 image to \u001b[1m/content/sad/done339\u001b[0m\n",
            "Saved results to /content/sad/done339\n",
            "\n"
          ]
        },
        {
          "output_type": "stream",
          "name": "stdout",
          "text": [
            "--------------------------------------------------\n",
            "IMG_1648921193271.jpg\n"
          ]
        },
        {
          "output_type": "stream",
          "name": "stderr",
          "text": [
            "Saved 1 image to \u001b[1m/content/sad/done340\u001b[0m\n",
            "Saved results to /content/sad/done340\n",
            "\n"
          ]
        },
        {
          "output_type": "stream",
          "name": "stdout",
          "text": [
            "--------------------------------------------------\n",
            "IMG_1651854073336.jpg\n"
          ]
        },
        {
          "output_type": "stream",
          "name": "stderr",
          "text": [
            "Saved 1 image to \u001b[1m/content/sad/done341\u001b[0m\n",
            "Saved results to /content/sad/done341\n",
            "\n",
            "Saved 1 image to \u001b[1m/content/sad/done342\u001b[0m\n",
            "Saved results to /content/sad/done342\n",
            "\n"
          ]
        },
        {
          "output_type": "stream",
          "name": "stdout",
          "text": [
            "--------------------------------------------------\n",
            "pXA2tUe.jpg\n",
            "--------------------------------------------------\n",
            "Blackmail-ep1.jpg\n"
          ]
        },
        {
          "output_type": "stream",
          "name": "stderr",
          "text": [
            "Saved 1 image to \u001b[1m/content/sad/done343\u001b[0m\n",
            "Saved results to /content/sad/done343\n",
            "\n"
          ]
        },
        {
          "output_type": "stream",
          "name": "stdout",
          "text": [
            "--------------------------------------------------\n",
            "saniya-Salman-2ep2.jpg\n"
          ]
        },
        {
          "output_type": "stream",
          "name": "stderr",
          "text": [
            "Saved 1 image to \u001b[1m/content/sad/done344\u001b[0m\n",
            "Saved results to /content/sad/done344\n",
            "\n"
          ]
        },
        {
          "output_type": "stream",
          "name": "stdout",
          "text": [
            "--------------------------------------------------\n",
            "Desire-2ep1.jpg\n"
          ]
        },
        {
          "output_type": "stream",
          "name": "stderr",
          "text": [
            "Saved 1 image to \u001b[1m/content/sad/done345\u001b[0m\n",
            "Saved results to /content/sad/done345\n",
            "\n"
          ]
        },
        {
          "output_type": "stream",
          "name": "stdout",
          "text": [
            "--------------------------------------------------\n",
            "Pichese-S02E06.jpg\n"
          ]
        },
        {
          "output_type": "stream",
          "name": "stderr",
          "text": [
            "Saved 1 image to \u001b[1m/content/sad/done346\u001b[0m\n",
            "Saved results to /content/sad/done346\n",
            "\n",
            "Saved 1 image to \u001b[1m/content/sad/done347\u001b[0m\n",
            "Saved results to /content/sad/done347\n",
            "\n"
          ]
        },
        {
          "output_type": "stream",
          "name": "stdout",
          "text": [
            "--------------------------------------------------\n",
            "pyar-ki-tadap-ep4.jpg\n",
            "--------------------------------------------------\n",
            "Khalish-ep7.jpg\n"
          ]
        },
        {
          "output_type": "stream",
          "name": "stderr",
          "text": [
            "Saved 1 image to \u001b[1m/content/sad/done348\u001b[0m\n",
            "Saved results to /content/sad/done348\n",
            "\n"
          ]
        },
        {
          "output_type": "stream",
          "name": "stdout",
          "text": [
            "--------------------------------------------------\n",
            "IMG_1662185111230.jpg\n"
          ]
        },
        {
          "output_type": "stream",
          "name": "stderr",
          "text": [
            "Saved 1 image to \u001b[1m/content/sad/done349\u001b[0m\n",
            "Saved results to /content/sad/done349\n",
            "\n"
          ]
        },
        {
          "output_type": "stream",
          "name": "stdout",
          "text": [
            "--------------------------------------------------\n",
            "Starngerep1.jpg\n"
          ]
        },
        {
          "output_type": "stream",
          "name": "stderr",
          "text": [
            "Saved 1 image to \u001b[1m/content/sad/done350\u001b[0m\n",
            "Saved results to /content/sad/done350\n",
            "\n"
          ]
        },
        {
          "output_type": "stream",
          "name": "stdout",
          "text": [
            "--------------------------------------------------\n",
            "Tenson_Moment.jpg\n"
          ]
        },
        {
          "output_type": "stream",
          "name": "stderr",
          "text": [
            "Saved 1 image to \u001b[1m/content/sad/done351\u001b[0m\n",
            "Saved results to /content/sad/done351\n",
            "\n"
          ]
        },
        {
          "output_type": "stream",
          "name": "stdout",
          "text": [
            "--------------------------------------------------\n",
            "IMG_1657207237194.jpg\n"
          ]
        },
        {
          "output_type": "stream",
          "name": "stderr",
          "text": [
            "Saved 1 image to \u001b[1m/content/sad/done352\u001b[0m\n",
            "Saved results to /content/sad/done352\n",
            "\n"
          ]
        },
        {
          "output_type": "stream",
          "name": "stdout",
          "text": [
            "--------------------------------------------------\n",
            "kitab-ka-raaz-ep3.jpg\n"
          ]
        },
        {
          "output_type": "stream",
          "name": "stderr",
          "text": [
            "Saved 1 image to \u001b[1m/content/sad/done353\u001b[0m\n",
            "Saved results to /content/sad/done353\n",
            "\n",
            "Saved 1 image to \u001b[1m/content/sad/done354\u001b[0m\n",
            "Saved results to /content/sad/done354\n",
            "\n"
          ]
        },
        {
          "output_type": "stream",
          "name": "stdout",
          "text": [
            "--------------------------------------------------\n",
            "malkin-bhabhi3.jpg\n",
            "--------------------------------------------------\n",
            "desi-bhabhi-going.jpg\n"
          ]
        },
        {
          "output_type": "stream",
          "name": "stderr",
          "text": [
            "Saved 1 image to \u001b[1m/content/sad/done355\u001b[0m\n",
            "Saved results to /content/sad/done355\n",
            "\n",
            "Saved 1 image to \u001b[1m/content/sad/done356\u001b[0m\n",
            "Saved results to /content/sad/done356\n",
            "\n"
          ]
        },
        {
          "output_type": "stream",
          "name": "stdout",
          "text": [
            "--------------------------------------------------\n",
            "IMG_1661410147178.jpg\n",
            "--------------------------------------------------\n",
            "Television-E4.jpg\n"
          ]
        },
        {
          "output_type": "stream",
          "name": "stderr",
          "text": [
            "Saved 1 image to \u001b[1m/content/sad/done357\u001b[0m\n",
            "Saved results to /content/sad/done357\n",
            "\n",
            "Saved 1 image to \u001b[1m/content/sad/done358\u001b[0m\n",
            "Saved results to /content/sad/done358\n",
            "\n"
          ]
        },
        {
          "output_type": "stream",
          "name": "stdout",
          "text": [
            "--------------------------------------------------\n",
            "IMG_1646763392422.jpg\n",
            "--------------------------------------------------\n",
            "IMG_1656523554239.jpg\n"
          ]
        },
        {
          "output_type": "stream",
          "name": "stderr",
          "text": [
            "Saved 1 image to \u001b[1m/content/sad/done359\u001b[0m\n",
            "Saved results to /content/sad/done359\n",
            "\n"
          ]
        },
        {
          "output_type": "stream",
          "name": "stdout",
          "text": [
            "--------------------------------------------------\n",
            "IMG_1650038990330.jpg\n"
          ]
        },
        {
          "output_type": "stream",
          "name": "stderr",
          "text": [
            "Saved 1 image to \u001b[1m/content/sad/done360\u001b[0m\n",
            "Saved results to /content/sad/done360\n",
            "\n"
          ]
        },
        {
          "output_type": "stream",
          "name": "stdout",
          "text": [
            "--------------------------------------------------\n",
            "IMG_1649841886166.jpg\n"
          ]
        },
        {
          "output_type": "stream",
          "name": "stderr",
          "text": [
            "Saved 1 image to \u001b[1m/content/sad/done361\u001b[0m\n",
            "Saved results to /content/sad/done361\n",
            "\n"
          ]
        },
        {
          "output_type": "stream",
          "name": "stdout",
          "text": [
            "--------------------------------------------------\n",
            "Malkin-hardcore.jpg\n"
          ]
        },
        {
          "output_type": "stream",
          "name": "stderr",
          "text": [
            "Saved 1 image to \u001b[1m/content/sad/done362\u001b[0m\n",
            "Saved results to /content/sad/done362\n",
            "\n",
            "Saved 1 image to \u001b[1m/content/sad/done363\u001b[0m\n",
            "Saved results to /content/sad/done363\n",
            "\n"
          ]
        },
        {
          "output_type": "stream",
          "name": "stdout",
          "text": [
            "--------------------------------------------------\n",
            "5q6n20g4wo34.jpg\n",
            "--------------------------------------------------\n",
            "yesmemep3.jpg\n"
          ]
        },
        {
          "output_type": "stream",
          "name": "stderr",
          "text": [
            "Saved 1 image to \u001b[1m/content/sad/done364\u001b[0m\n",
            "Saved results to /content/sad/done364\n",
            "\n"
          ]
        },
        {
          "output_type": "stream",
          "name": "stdout",
          "text": [
            "--------------------------------------------------\n",
            "IMG_1649055910834.jpg\n"
          ]
        },
        {
          "output_type": "stream",
          "name": "stderr",
          "text": [
            "Saved 1 image to \u001b[1m/content/sad/done365\u001b[0m\n",
            "Saved results to /content/sad/done365\n",
            "\n"
          ]
        },
        {
          "output_type": "stream",
          "name": "stdout",
          "text": [
            "--------------------------------------------------\n",
            "Tohfa-ep4.jpg\n"
          ]
        },
        {
          "output_type": "stream",
          "name": "stderr",
          "text": [
            "Saved 1 image to \u001b[1m/content/sad/done366\u001b[0m\n",
            "Saved results to /content/sad/done366\n",
            "\n",
            "Saved 1 image to \u001b[1m/content/sad/done367\u001b[0m\n"
          ]
        },
        {
          "output_type": "stream",
          "name": "stdout",
          "text": [
            "--------------------------------------------------\n",
            "pyaas-ep1.jpg\n"
          ]
        },
        {
          "output_type": "stream",
          "name": "stderr",
          "text": [
            "Saved results to /content/sad/done367\n",
            "\n"
          ]
        },
        {
          "output_type": "stream",
          "name": "stdout",
          "text": [
            "--------------------------------------------------\n",
            "SHAUKEEN-BHAUJI.jpg\n"
          ]
        },
        {
          "output_type": "stream",
          "name": "stderr",
          "text": [
            "Saved 1 image to \u001b[1m/content/sad/done368\u001b[0m\n",
            "Saved results to /content/sad/done368\n",
            "\n"
          ]
        },
        {
          "output_type": "stream",
          "name": "stdout",
          "text": [
            "--------------------------------------------------\n",
            "vlcsnap-2021-05-21-08h40m47s080.jpg\n"
          ]
        },
        {
          "output_type": "stream",
          "name": "stderr",
          "text": [
            "Saved 1 image to \u001b[1m/content/sad/done369\u001b[0m\n",
            "Saved results to /content/sad/done369\n",
            "\n",
            "Saved 1 image to \u001b[1m/content/sad/done370\u001b[0m\n",
            "Saved results to /content/sad/done370\n",
            "\n"
          ]
        },
        {
          "output_type": "stream",
          "name": "stdout",
          "text": [
            "--------------------------------------------------\n",
            "85fnuaxny8ly.jpg\n",
            "--------------------------------------------------\n",
            "purani-haveli-ep1.jpg\n"
          ]
        },
        {
          "output_type": "stream",
          "name": "stderr",
          "text": [
            "Saved 1 image to \u001b[1m/content/sad/done371\u001b[0m\n",
            "Saved results to /content/sad/done371\n",
            "\n"
          ]
        },
        {
          "output_type": "stream",
          "name": "stdout",
          "text": [
            "--------------------------------------------------\n",
            "Manchaha-ep4.jpg\n"
          ]
        },
        {
          "output_type": "stream",
          "name": "stderr",
          "text": [
            "Saved 1 image to \u001b[1m/content/sad/done372\u001b[0m\n",
            "Saved results to /content/sad/done372\n",
            "\n",
            "Saved 1 image to \u001b[1m/content/sad/done373\u001b[0m\n",
            "Saved results to /content/sad/done373\n",
            "\n"
          ]
        },
        {
          "output_type": "stream",
          "name": "stdout",
          "text": [
            "--------------------------------------------------\n",
            "dhanda.jpg\n",
            "--------------------------------------------------\n",
            "Gadikitab2.2022.E04.jpg\n"
          ]
        },
        {
          "output_type": "stream",
          "name": "stderr",
          "text": [
            "Saved 1 image to \u001b[1m/content/sad/done374\u001b[0m\n",
            "Saved results to /content/sad/done374\n",
            "\n"
          ]
        },
        {
          "output_type": "stream",
          "name": "stdout",
          "text": [
            "--------------------------------------------------\n",
            "Farebi.2022.Leo_.jpg\n"
          ]
        },
        {
          "output_type": "stream",
          "name": "stderr",
          "text": [
            "Saved 1 image to \u001b[1m/content/sad/done375\u001b[0m\n",
            "Saved results to /content/sad/done375\n",
            "\n"
          ]
        },
        {
          "output_type": "stream",
          "name": "stdout",
          "text": [
            "--------------------------------------------------\n",
            "Golu.S01E01.jpg\n"
          ]
        },
        {
          "output_type": "stream",
          "name": "stderr",
          "text": [
            "Saved 1 image to \u001b[1m/content/sad/done376\u001b[0m\n",
            "Saved results to /content/sad/done376\n",
            "\n"
          ]
        },
        {
          "output_type": "stream",
          "name": "stdout",
          "text": [
            "--------------------------------------------------\n",
            "Kodaikanal-ep1.jpg\n"
          ]
        },
        {
          "output_type": "stream",
          "name": "stderr",
          "text": [
            "Saved 1 image to \u001b[1m/content/sad/done377\u001b[0m\n",
            "Saved results to /content/sad/done377\n",
            "\n"
          ]
        },
        {
          "output_type": "stream",
          "name": "stdout",
          "text": [
            "--------------------------------------------------\n",
            "photographar4.jpg\n"
          ]
        },
        {
          "output_type": "stream",
          "name": "stderr",
          "text": [
            "Saved 1 image to \u001b[1m/content/sad/done378\u001b[0m\n",
            "Saved results to /content/sad/done378\n",
            "\n"
          ]
        },
        {
          "output_type": "stream",
          "name": "stdout",
          "text": [
            "--------------------------------------------------\n",
            "Love-guru-session-2-ep1.jpg\n"
          ]
        },
        {
          "output_type": "stream",
          "name": "stderr",
          "text": [
            "Saved 1 image to \u001b[1m/content/sad/done379\u001b[0m\n",
            "Saved results to /content/sad/done379\n",
            "\n"
          ]
        },
        {
          "output_type": "stream",
          "name": "stdout",
          "text": [
            "--------------------------------------------------\n",
            "Sultan-part-1-ep2.jpg\n"
          ]
        },
        {
          "output_type": "stream",
          "name": "stderr",
          "text": [
            "Saved 1 image to \u001b[1m/content/sad/done380\u001b[0m\n",
            "Saved results to /content/sad/done380\n",
            "\n"
          ]
        },
        {
          "output_type": "stream",
          "name": "stdout",
          "text": [
            "--------------------------------------------------\n",
            "mami-bhanji-ep2.jpg\n"
          ]
        },
        {
          "output_type": "stream",
          "name": "stderr",
          "text": [
            "Saved 1 image to \u001b[1m/content/sad/done381\u001b[0m\n",
            "Saved results to /content/sad/done381\n",
            "\n"
          ]
        },
        {
          "output_type": "stream",
          "name": "stdout",
          "text": [
            "--------------------------------------------------\n",
            "IMG_1654876467539.jpg\n"
          ]
        },
        {
          "output_type": "stream",
          "name": "stderr",
          "text": [
            "Saved 1 image to \u001b[1m/content/sad/done382\u001b[0m\n",
            "Saved results to /content/sad/done382\n",
            "\n"
          ]
        },
        {
          "output_type": "stream",
          "name": "stdout",
          "text": [
            "--------------------------------------------------\n",
            "rain-basera-ep6.jpg\n"
          ]
        },
        {
          "output_type": "stream",
          "name": "stderr",
          "text": [
            "Saved 1 image to \u001b[1m/content/sad/done383\u001b[0m\n",
            "Saved results to /content/sad/done383\n",
            "\n"
          ]
        },
        {
          "output_type": "stream",
          "name": "stdout",
          "text": [
            "--------------------------------------------------\n",
            "ek-ajnabee-ep2.jpg\n"
          ]
        },
        {
          "output_type": "stream",
          "name": "stderr",
          "text": [
            "Saved 1 image to \u001b[1m/content/sad/done384\u001b[0m\n",
            "Saved results to /content/sad/done384\n",
            "\n"
          ]
        },
        {
          "output_type": "stream",
          "name": "stdout",
          "text": [
            "--------------------------------------------------\n",
            "paglet3-ep5.jpg\n"
          ]
        },
        {
          "output_type": "stream",
          "name": "stderr",
          "text": [
            "Saved 1 image to \u001b[1m/content/sad/done385\u001b[0m\n",
            "Saved results to /content/sad/done385\n",
            "\n"
          ]
        },
        {
          "output_type": "stream",
          "name": "stdout",
          "text": [
            "--------------------------------------------------\n",
            "5jnerkr4ux3u.jpg\n"
          ]
        },
        {
          "output_type": "stream",
          "name": "stderr",
          "text": [
            "Saved 1 image to \u001b[1m/content/sad/done386\u001b[0m\n",
            "Saved results to /content/sad/done386\n",
            "\n"
          ]
        },
        {
          "output_type": "stream",
          "name": "stdout",
          "text": [
            "--------------------------------------------------\n",
            "Ghonchu-EP01.jpg\n"
          ]
        },
        {
          "output_type": "stream",
          "name": "stderr",
          "text": [
            "Saved 1 image to \u001b[1m/content/sad/done387\u001b[0m\n",
            "Saved results to /content/sad/done387\n",
            "\n"
          ]
        },
        {
          "output_type": "stream",
          "name": "stdout",
          "text": [
            "--------------------------------------------------\n",
            "Guest3_Moment.jpg\n"
          ]
        },
        {
          "output_type": "stream",
          "name": "stderr",
          "text": [
            "Saved 1 image to \u001b[1m/content/sad/done388\u001b[0m\n",
            "Saved results to /content/sad/done388\n",
            "\n"
          ]
        },
        {
          "output_type": "stream",
          "name": "stdout",
          "text": [
            "--------------------------------------------------\n",
            "Chaska-ep4.jpg\n"
          ]
        },
        {
          "output_type": "stream",
          "name": "stderr",
          "text": [
            "Saved 1 image to \u001b[1m/content/sad/done389\u001b[0m\n",
            "Saved results to /content/sad/done389\n",
            "\n"
          ]
        },
        {
          "output_type": "stream",
          "name": "stdout",
          "text": [
            "--------------------------------------------------\n",
            "adhuri-aas-ep3.jpg\n"
          ]
        },
        {
          "output_type": "stream",
          "name": "stderr",
          "text": [
            "Saved 1 image to \u001b[1m/content/sad/done390\u001b[0m\n",
            "Saved results to /content/sad/done390\n",
            "\n"
          ]
        },
        {
          "output_type": "stream",
          "name": "stdout",
          "text": [
            "--------------------------------------------------\n",
            "Adhuri-Kahani.jpg\n"
          ]
        },
        {
          "output_type": "stream",
          "name": "stderr",
          "text": [
            "Saved 1 image to \u001b[1m/content/sad/done391\u001b[0m\n",
            "Saved results to /content/sad/done391\n",
            "\n",
            "Saved 1 image to \u001b[1m/content/sad/done392\u001b[0m\n",
            "Saved results to /content/sad/done392\n",
            "\n"
          ]
        },
        {
          "output_type": "stream",
          "name": "stdout",
          "text": [
            "--------------------------------------------------\n",
            "IMG_1660973449189.jpg\n",
            "--------------------------------------------------\n",
            "Rangliprt2.5.jpg\n"
          ]
        },
        {
          "output_type": "stream",
          "name": "stderr",
          "text": [
            "Saved 1 image to \u001b[1m/content/sad/done393\u001b[0m\n",
            "Saved results to /content/sad/done393\n",
            "\n"
          ]
        },
        {
          "output_type": "stream",
          "name": "stdout",
          "text": [
            "--------------------------------------------------\n",
            "taak-jhaak-ep4.jpg\n"
          ]
        },
        {
          "output_type": "stream",
          "name": "stderr",
          "text": [
            "Saved 1 image to \u001b[1m/content/sad/done394\u001b[0m\n",
            "Saved results to /content/sad/done394\n",
            "\n"
          ]
        },
        {
          "output_type": "stream",
          "name": "stdout",
          "text": [
            "--------------------------------------------------\n",
            "Tohfa-ep2.jpg\n"
          ]
        },
        {
          "output_type": "stream",
          "name": "stderr",
          "text": [
            "Saved 1 image to \u001b[1m/content/sad/done395\u001b[0m\n",
            "Saved results to /content/sad/done395\n",
            "\n"
          ]
        },
        {
          "output_type": "stream",
          "name": "stdout",
          "text": [
            "--------------------------------------------------\n",
            "online-ishq-4.jpg\n"
          ]
        },
        {
          "output_type": "stream",
          "name": "stderr",
          "text": [
            "Saved 1 image to \u001b[1m/content/sad/done396\u001b[0m\n",
            "Saved results to /content/sad/done396\n",
            "\n",
            "Saved 1 image to \u001b[1m/content/sad/done397\u001b[0m\n",
            "Saved results to /content/sad/done397\n",
            "\n"
          ]
        },
        {
          "output_type": "stream",
          "name": "stdout",
          "text": [
            "--------------------------------------------------\n",
            "IMG_1646290081317.jpg\n",
            "--------------------------------------------------\n",
            "bhookh-ep1.jpg\n"
          ]
        },
        {
          "output_type": "stream",
          "name": "stderr",
          "text": [
            "Saved 1 image to \u001b[1m/content/sad/done398\u001b[0m\n",
            "Saved results to /content/sad/done398\n",
            "\n",
            "Saved 1 image to \u001b[1m/content/sad/done399\u001b[0m\n",
            "Saved results to /content/sad/done399\n",
            "\n"
          ]
        },
        {
          "output_type": "stream",
          "name": "stdout",
          "text": [
            "--------------------------------------------------\n",
            "IMG_1652098098040.jpg\n",
            "--------------------------------------------------\n",
            "Ghar-Sasur-ep5.jpg\n"
          ]
        },
        {
          "output_type": "stream",
          "name": "stderr",
          "text": [
            "Saved 1 image to \u001b[1m/content/sad/done400\u001b[0m\n",
            "Saved results to /content/sad/done400\n",
            "\n"
          ]
        },
        {
          "output_type": "stream",
          "name": "stdout",
          "text": [
            "--------------------------------------------------\n",
            "kaam-tamam-ep3.jpg\n"
          ]
        },
        {
          "output_type": "stream",
          "name": "stderr",
          "text": [
            "Saved 1 image to \u001b[1m/content/sad/done401\u001b[0m\n",
            "Saved results to /content/sad/done401\n",
            "\n",
            "Saved 1 image to \u001b[1m/content/sad/done402\u001b[0m\n"
          ]
        },
        {
          "output_type": "stream",
          "name": "stdout",
          "text": [
            "--------------------------------------------------\n",
            "tadap-ep2.jpg\n"
          ]
        },
        {
          "output_type": "stream",
          "name": "stderr",
          "text": [
            "Saved results to /content/sad/done402\n",
            "\n"
          ]
        },
        {
          "output_type": "stream",
          "name": "stdout",
          "text": [
            "--------------------------------------------------\n",
            "vlcsnap-2021-06-23-21h18m00s379.jpg\n"
          ]
        },
        {
          "output_type": "stream",
          "name": "stderr",
          "text": [
            "Saved 1 image to \u001b[1m/content/sad/done403\u001b[0m\n",
            "Saved results to /content/sad/done403\n",
            "\n"
          ]
        },
        {
          "output_type": "stream",
          "name": "stdout",
          "text": [
            "--------------------------------------------------\n",
            "jalebi-3-ep1.jpg\n"
          ]
        },
        {
          "output_type": "stream",
          "name": "stderr",
          "text": [
            "Saved 1 image to \u001b[1m/content/sad/done404\u001b[0m\n",
            "Saved results to /content/sad/done404\n",
            "\n"
          ]
        },
        {
          "output_type": "stream",
          "name": "stdout",
          "text": [
            "--------------------------------------------------\n",
            "Do-Haseena-Part2-ep1.jpg\n"
          ]
        },
        {
          "output_type": "stream",
          "name": "stderr",
          "text": [
            "Saved 1 image to \u001b[1m/content/sad/done405\u001b[0m\n",
            "Saved results to /content/sad/done405\n",
            "\n"
          ]
        },
        {
          "output_type": "stream",
          "name": "stdout",
          "text": [
            "--------------------------------------------------\n",
            "LIZABED.jpg\n"
          ]
        },
        {
          "output_type": "stream",
          "name": "stderr",
          "text": [
            "Saved 1 image to \u001b[1m/content/sad/done406\u001b[0m\n",
            "Saved results to /content/sad/done406\n",
            "\n"
          ]
        },
        {
          "output_type": "stream",
          "name": "stdout",
          "text": [
            "--------------------------------------------------\n",
            "Vishu-Kaineettam-Ep2.jpg\n"
          ]
        },
        {
          "output_type": "stream",
          "name": "stderr",
          "text": [
            "Saved 1 image to \u001b[1m/content/sad/done407\u001b[0m\n",
            "Saved results to /content/sad/done407\n",
            "\n",
            "Saved 1 image to \u001b[1m/content/sad/done408\u001b[0m\n",
            "Saved results to /content/sad/done408\n",
            "\n"
          ]
        },
        {
          "output_type": "stream",
          "name": "stdout",
          "text": [
            "--------------------------------------------------\n",
            "IMG_1651174228352.jpg\n"
          ]
        },
        {
          "output_type": "stream",
          "name": "stderr",
          "text": [
            "Saved 1 image to \u001b[1m/content/sad/done409\u001b[0m\n",
            "Saved results to /content/sad/done409\n",
            "\n"
          ]
        },
        {
          "output_type": "stream",
          "name": "stdout",
          "text": [
            "--------------------------------------------------\n",
            "Ragging-ep2.jpg\n"
          ]
        },
        {
          "output_type": "stream",
          "name": "stderr",
          "text": [
            "Saved 1 image to \u001b[1m/content/sad/done410\u001b[0m\n",
            "Saved results to /content/sad/done410\n",
            "\n"
          ]
        },
        {
          "output_type": "stream",
          "name": "stdout",
          "text": [
            "--------------------------------------------------\n",
            "pahredaar-ep4.jpg\n",
            "--------------------------------------------------\n",
            "Dhundh-ep1.jpg\n"
          ]
        },
        {
          "output_type": "stream",
          "name": "stderr",
          "text": [
            "Saved 1 image to \u001b[1m/content/sad/done411\u001b[0m\n",
            "Saved results to /content/sad/done411\n",
            "\n"
          ]
        },
        {
          "output_type": "stream",
          "name": "stdout",
          "text": [
            "--------------------------------------------------\n",
            "room-service-ep1.jpg\n"
          ]
        },
        {
          "output_type": "stream",
          "name": "stderr",
          "text": [
            "Saved 1 image to \u001b[1m/content/sad/done412\u001b[0m\n",
            "Saved results to /content/sad/done412\n",
            "\n",
            "Saved 1 image to \u001b[1m/content/sad/done413\u001b[0m\n",
            "Saved results to /content/sad/done413\n",
            "\n"
          ]
        },
        {
          "output_type": "stream",
          "name": "stdout",
          "text": [
            "--------------------------------------------------\n",
            "IMG_1651250163788.jpg\n",
            "--------------------------------------------------\n",
            "Tohfa-ep1.jpg\n"
          ]
        },
        {
          "output_type": "stream",
          "name": "stderr",
          "text": [
            "Saved 1 image to \u001b[1m/content/sad/done414\u001b[0m\n",
            "Saved results to /content/sad/done414\n",
            "\n"
          ]
        },
        {
          "output_type": "stream",
          "name": "stdout",
          "text": [
            "--------------------------------------------------\n",
            "damad-ji-ep6.jpg\n"
          ]
        },
        {
          "output_type": "stream",
          "name": "stderr",
          "text": [
            "Saved 1 image to \u001b[1m/content/sad/done415\u001b[0m\n",
            "Saved results to /content/sad/done415\n",
            "\n"
          ]
        },
        {
          "output_type": "stream",
          "name": "stdout",
          "text": [
            "--------------------------------------------------\n",
            "ju8-2.jpg\n"
          ]
        },
        {
          "output_type": "stream",
          "name": "stderr",
          "text": [
            "Saved 1 image to \u001b[1m/content/sad/done416\u001b[0m\n",
            "Saved results to /content/sad/done416\n",
            "\n",
            "Saved 1 image to \u001b[1m/content/sad/done417\u001b[0m\n",
            "Saved results to /content/sad/done417\n",
            "\n"
          ]
        },
        {
          "output_type": "stream",
          "name": "stdout",
          "text": [
            "--------------------------------------------------\n",
            "dost-se-pyar.jpg\n",
            "--------------------------------------------------\n",
            "IMG_1646246053524.jpg\n"
          ]
        },
        {
          "output_type": "stream",
          "name": "stderr",
          "text": [
            "Saved 1 image to \u001b[1m/content/sad/done418\u001b[0m\n",
            "Saved results to /content/sad/done418\n",
            "\n"
          ]
        },
        {
          "output_type": "stream",
          "name": "stdout",
          "text": [
            "--------------------------------------------------\n",
            "Galtiyan-1.jpg\n"
          ]
        },
        {
          "output_type": "stream",
          "name": "stderr",
          "text": [
            "Saved 1 image to \u001b[1m/content/sad/done419\u001b[0m\n",
            "Saved results to /content/sad/done419\n",
            "\n"
          ]
        },
        {
          "output_type": "stream",
          "name": "stdout",
          "text": [
            "--------------------------------------------------\n",
            "chaska-ep2.jpg\n"
          ]
        },
        {
          "output_type": "stream",
          "name": "stderr",
          "text": [
            "Saved 1 image to \u001b[1m/content/sad/done420\u001b[0m\n",
            "Saved results to /content/sad/done420\n",
            "\n"
          ]
        },
        {
          "output_type": "stream",
          "name": "stdout",
          "text": [
            "--------------------------------------------------\n",
            "one-boy-two-girls.jpg\n"
          ]
        },
        {
          "output_type": "stream",
          "name": "stderr",
          "text": [
            "Saved 1 image to \u001b[1m/content/sad/done421\u001b[0m\n",
            "Saved results to /content/sad/done421\n",
            "\n"
          ]
        },
        {
          "output_type": "stream",
          "name": "stdout",
          "text": [
            "--------------------------------------------------\n",
            "Lilly-bhabhi.jpg\n"
          ]
        },
        {
          "output_type": "stream",
          "name": "stderr",
          "text": [
            "Saved 1 image to \u001b[1m/content/sad/done422\u001b[0m\n",
            "Saved results to /content/sad/done422\n",
            "\n"
          ]
        },
        {
          "output_type": "stream",
          "name": "stdout",
          "text": [
            "--------------------------------------------------\n",
            "MEOW-CAT.jpg\n"
          ]
        },
        {
          "output_type": "stream",
          "name": "stderr",
          "text": [
            "Saved 1 image to \u001b[1m/content/sad/done423\u001b[0m\n",
            "Saved results to /content/sad/done423\n",
            "\n"
          ]
        },
        {
          "output_type": "stream",
          "name": "stdout",
          "text": [
            "--------------------------------------------------\n",
            "vlcsnap-2021-06-22-12h52m32s881.jpg\n"
          ]
        },
        {
          "output_type": "stream",
          "name": "stderr",
          "text": [
            "Saved 1 image to \u001b[1m/content/sad/done424\u001b[0m\n",
            "Saved results to /content/sad/done424\n",
            "\n"
          ]
        },
        {
          "output_type": "stream",
          "name": "stdout",
          "text": [
            "--------------------------------------------------\n",
            "choti-Bahu-ep5.jpg\n"
          ]
        },
        {
          "output_type": "stream",
          "name": "stderr",
          "text": [
            "Saved 1 image to \u001b[1m/content/sad/done425\u001b[0m\n",
            "Saved results to /content/sad/done425\n",
            "\n"
          ]
        },
        {
          "output_type": "stream",
          "name": "stdout",
          "text": [
            "--------------------------------------------------\n",
            "kamini-ep2.jpg\n"
          ]
        },
        {
          "output_type": "stream",
          "name": "stderr",
          "text": [
            "Saved 1 image to \u001b[1m/content/sad/done426\u001b[0m\n",
            "Saved results to /content/sad/done426\n",
            "\n"
          ]
        },
        {
          "output_type": "stream",
          "name": "stdout",
          "text": [
            "--------------------------------------------------\n",
            "aunty-ka-pg-ep1.jpg\n"
          ]
        },
        {
          "output_type": "stream",
          "name": "stderr",
          "text": [
            "Saved 1 image to \u001b[1m/content/sad/done427\u001b[0m\n",
            "Saved results to /content/sad/done427\n",
            "\n",
            "Saved 1 image to \u001b[1m/content/sad/done428\u001b[0m\n",
            "Saved results to /content/sad/done428\n",
            "\n"
          ]
        },
        {
          "output_type": "stream",
          "name": "stdout",
          "text": [
            "--------------------------------------------------\n",
            "d07061158811e3d6c4305e55e930bb4a.png\n",
            "--------------------------------------------------\n",
            "laachi-ep2.jpg\n"
          ]
        },
        {
          "output_type": "stream",
          "name": "stderr",
          "text": [
            "Saved 1 image to \u001b[1m/content/sad/done429\u001b[0m\n",
            "Saved results to /content/sad/done429\n",
            "\n"
          ]
        },
        {
          "output_type": "stream",
          "name": "stdout",
          "text": [
            "--------------------------------------------------\n",
            "IMG_1648052772770.jpg\n"
          ]
        },
        {
          "output_type": "stream",
          "name": "stderr",
          "text": [
            "Saved 1 image to \u001b[1m/content/sad/done430\u001b[0m\n",
            "Saved results to /content/sad/done430\n",
            "\n"
          ]
        },
        {
          "output_type": "stream",
          "name": "stdout",
          "text": [
            "--------------------------------------------------\n",
            "IMG_1649816492417.jpg\n"
          ]
        },
        {
          "output_type": "stream",
          "name": "stderr",
          "text": [
            "Saved 1 image to \u001b[1m/content/sad/done431\u001b[0m\n",
            "Saved results to /content/sad/done431\n",
            "\n"
          ]
        },
        {
          "output_type": "stream",
          "name": "stdout",
          "text": [
            "--------------------------------------------------\n",
            "chaska-ep7.jpg\n"
          ]
        },
        {
          "output_type": "stream",
          "name": "stderr",
          "text": [
            "Saved 1 image to \u001b[1m/content/sad/done432\u001b[0m\n",
            "Saved results to /content/sad/done432\n",
            "\n"
          ]
        },
        {
          "output_type": "stream",
          "name": "stdout",
          "text": [
            "--------------------------------------------------\n",
            "Babu-ji-ep1.jpg\n"
          ]
        },
        {
          "output_type": "stream",
          "name": "stderr",
          "text": [
            "Saved 1 image to \u001b[1m/content/sad/done433\u001b[0m\n",
            "Saved results to /content/sad/done433\n",
            "\n"
          ]
        },
        {
          "output_type": "stream",
          "name": "stdout",
          "text": [
            "--------------------------------------------------\n",
            "IMG_1645723027396.jpg\n"
          ]
        },
        {
          "output_type": "stream",
          "name": "stderr",
          "text": [
            "Saved 1 image to \u001b[1m/content/sad/done434\u001b[0m\n",
            "Saved results to /content/sad/done434\n",
            "\n"
          ]
        },
        {
          "output_type": "stream",
          "name": "stdout",
          "text": [
            "--------------------------------------------------\n",
            "gidgboz2.jpg\n"
          ]
        },
        {
          "output_type": "stream",
          "name": "stderr",
          "text": [
            "Saved 1 image to \u001b[1m/content/sad/done435\u001b[0m\n",
            "Saved results to /content/sad/done435\n",
            "\n"
          ]
        },
        {
          "output_type": "stream",
          "name": "stdout",
          "text": [
            "--------------------------------------------------\n",
            "IMG_1652029917654.jpg\n"
          ]
        },
        {
          "output_type": "stream",
          "name": "stderr",
          "text": [
            "Saved 1 image to \u001b[1m/content/sad/done436\u001b[0m\n",
            "Saved results to /content/sad/done436\n",
            "\n"
          ]
        },
        {
          "output_type": "stream",
          "name": "stdout",
          "text": [
            "--------------------------------------------------\n",
            "Khalish-ep5.jpg\n"
          ]
        },
        {
          "output_type": "stream",
          "name": "stderr",
          "text": [
            "Saved 1 image to \u001b[1m/content/sad/done437\u001b[0m\n",
            "Saved results to /content/sad/done437\n",
            "\n"
          ]
        },
        {
          "output_type": "stream",
          "name": "stdout",
          "text": [
            "--------------------------------------------------\n",
            "Sauteleep2.jpg\n"
          ]
        },
        {
          "output_type": "stream",
          "name": "stderr",
          "text": [
            "Saved 1 image to \u001b[1m/content/sad/done438\u001b[0m\n",
            "Saved results to /content/sad/done438\n",
            "\n"
          ]
        },
        {
          "output_type": "stream",
          "name": "stdout",
          "text": [
            "--------------------------------------------------\n",
            "Sapna-S02-Ep32.jpg\n"
          ]
        },
        {
          "output_type": "stream",
          "name": "stderr",
          "text": [
            "Saved 1 image to \u001b[1m/content/sad/done439\u001b[0m\n",
            "Saved results to /content/sad/done439\n",
            "\n"
          ]
        },
        {
          "output_type": "stream",
          "name": "stdout",
          "text": [
            "--------------------------------------------------\n",
            "IMG_1646283258662.jpg\n"
          ]
        },
        {
          "output_type": "stream",
          "name": "stderr",
          "text": [
            "Saved 1 image to \u001b[1m/content/sad/done440\u001b[0m\n",
            "Saved results to /content/sad/done440\n",
            "\n"
          ]
        },
        {
          "output_type": "stream",
          "name": "stdout",
          "text": [
            "--------------------------------------------------\n",
            "jabran-part1-ep2.jpg\n"
          ]
        },
        {
          "output_type": "stream",
          "name": "stderr",
          "text": [
            "Saved 1 image to \u001b[1m/content/sad/done441\u001b[0m\n",
            "Saved results to /content/sad/done441\n",
            "\n"
          ]
        },
        {
          "output_type": "stream",
          "name": "stdout",
          "text": [
            "--------------------------------------------------\n",
            "duhan-e01.jpg\n"
          ]
        },
        {
          "output_type": "stream",
          "name": "stderr",
          "text": [
            "Saved 1 image to \u001b[1m/content/sad/done442\u001b[0m\n",
            "Saved results to /content/sad/done442\n",
            "\n"
          ]
        },
        {
          "output_type": "stream",
          "name": "stdout",
          "text": [
            "--------------------------------------------------\n",
            "Rowdy-girls.jpg\n"
          ]
        },
        {
          "output_type": "stream",
          "name": "stderr",
          "text": [
            "Saved 1 image to \u001b[1m/content/sad/done443\u001b[0m\n",
            "Saved results to /content/sad/done443\n",
            "\n"
          ]
        },
        {
          "output_type": "stream",
          "name": "stdout",
          "text": [
            "--------------------------------------------------\n",
            "Farebi-Yaar-Part-2-Ep5.jpg\n"
          ]
        },
        {
          "output_type": "stream",
          "name": "stderr",
          "text": [
            "Saved 1 image to \u001b[1m/content/sad/done444\u001b[0m\n",
            "Saved results to /content/sad/done444\n",
            "\n"
          ]
        },
        {
          "output_type": "stream",
          "name": "stdout",
          "text": [
            "--------------------------------------------------\n",
            "Seduction.jpg\n"
          ]
        },
        {
          "output_type": "stream",
          "name": "stderr",
          "text": [
            "Saved 1 image to \u001b[1m/content/sad/done445\u001b[0m\n",
            "Saved results to /content/sad/done445\n",
            "\n"
          ]
        },
        {
          "output_type": "stream",
          "name": "stdout",
          "text": [
            "--------------------------------------------------\n",
            "choti-Bahu-ep6.jpg\n"
          ]
        },
        {
          "output_type": "stream",
          "name": "stderr",
          "text": [
            "Saved 1 image to \u001b[1m/content/sad/done446\u001b[0m\n",
            "Saved results to /content/sad/done446\n",
            "\n"
          ]
        },
        {
          "output_type": "stream",
          "name": "stdout",
          "text": [
            "--------------------------------------------------\n",
            "pyar-idhar-udhar-ep4.jpg\n"
          ]
        },
        {
          "output_type": "stream",
          "name": "stderr",
          "text": [
            "Saved 1 image to \u001b[1m/content/sad/done447\u001b[0m\n",
            "Saved results to /content/sad/done447\n",
            "\n"
          ]
        },
        {
          "output_type": "stream",
          "name": "stdout",
          "text": [
            "--------------------------------------------------\n",
            "Gaon-Ki-Garmi-3ep7.jpg\n"
          ]
        },
        {
          "output_type": "stream",
          "name": "stderr",
          "text": [
            "Saved 1 image to \u001b[1m/content/sad/done448\u001b[0m\n",
            "Saved results to /content/sad/done448\n",
            "\n",
            "Saved 1 image to \u001b[1m/content/sad/done449\u001b[0m\n",
            "Saved results to /content/sad/done449\n",
            "\n"
          ]
        },
        {
          "output_type": "stream",
          "name": "stdout",
          "text": [
            "--------------------------------------------------\n",
            "IMG_1662525365863.jpg\n",
            "--------------------------------------------------\n",
            "IMG_1654450072468.jpg\n"
          ]
        },
        {
          "output_type": "stream",
          "name": "stderr",
          "text": [
            "Saved 1 image to \u001b[1m/content/sad/done450\u001b[0m\n",
            "Saved results to /content/sad/done450\n",
            "\n",
            "Saved 1 image to \u001b[1m/content/sad/done451\u001b[0m\n",
            "Saved results to /content/sad/done451\n",
            "\n"
          ]
        },
        {
          "output_type": "stream",
          "name": "stdout",
          "text": [
            "--------------------------------------------------\n",
            "IMG_1651612524734.jpg\n",
            "--------------------------------------------------\n",
            "Pulinchikka-ep3.jpg\n"
          ]
        },
        {
          "output_type": "stream",
          "name": "stderr",
          "text": [
            "Saved 1 image to \u001b[1m/content/sad/done452\u001b[0m\n",
            "Saved results to /content/sad/done452\n",
            "\n"
          ]
        },
        {
          "output_type": "stream",
          "name": "stdout",
          "text": [
            "--------------------------------------------------\n",
            "vlcsnap-2021-04-14-21h30m04s199.jpg\n"
          ]
        },
        {
          "output_type": "stream",
          "name": "stderr",
          "text": [
            "Saved 1 image to \u001b[1m/content/sad/done453\u001b[0m\n",
            "Saved results to /content/sad/done453\n",
            "\n",
            "Saved 1 image to \u001b[1m/content/sad/done454\u001b[0m\n",
            "Saved results to /content/sad/done454\n",
            "\n"
          ]
        },
        {
          "output_type": "stream",
          "name": "stdout",
          "text": [
            "--------------------------------------------------\n",
            "Dhokha-A-Lust-Story-ep2.jpg\n",
            "--------------------------------------------------\n",
            "Wrong-Turn1-1.jpg\n"
          ]
        },
        {
          "output_type": "stream",
          "name": "stderr",
          "text": [
            "Saved 1 image to \u001b[1m/content/sad/done455\u001b[0m\n",
            "Saved results to /content/sad/done455\n",
            "\n"
          ]
        },
        {
          "output_type": "stream",
          "name": "stdout",
          "text": [
            "--------------------------------------------------\n",
            "dream-girl-ep6.jpg\n"
          ]
        },
        {
          "output_type": "stream",
          "name": "stderr",
          "text": [
            "Saved 1 image to \u001b[1m/content/sad/done456\u001b[0m\n",
            "Saved results to /content/sad/done456\n",
            "\n"
          ]
        },
        {
          "output_type": "stream",
          "name": "stdout",
          "text": [
            "--------------------------------------------------\n",
            "Poonam-bhabhi.jpg\n"
          ]
        },
        {
          "output_type": "stream",
          "name": "stderr",
          "text": [
            "Saved 1 image to \u001b[1m/content/sad/done457\u001b[0m\n",
            "Saved results to /content/sad/done457\n",
            "\n",
            "Saved 1 image to \u001b[1m/content/sad/done458\u001b[0m\n",
            "Saved results to /content/sad/done458\n",
            "\n"
          ]
        },
        {
          "output_type": "stream",
          "name": "stdout",
          "text": [
            "--------------------------------------------------\n",
            "IMG_1647969034589.jpg\n",
            "--------------------------------------------------\n",
            "hh5.jpg\n"
          ]
        },
        {
          "output_type": "stream",
          "name": "stderr",
          "text": [
            "Saved 1 image to \u001b[1m/content/sad/done459\u001b[0m\n",
            "Saved results to /content/sad/done459\n",
            "\n"
          ]
        },
        {
          "output_type": "stream",
          "name": "stdout",
          "text": [
            "--------------------------------------------------\n",
            "IMG_1647594336917.jpg\n"
          ]
        },
        {
          "output_type": "stream",
          "name": "stderr",
          "text": [
            "Saved 1 image to \u001b[1m/content/sad/done460\u001b[0m\n",
            "Saved results to /content/sad/done460\n",
            "\n",
            "Saved 1 image to \u001b[1m/content/sad/done461\u001b[0m\n"
          ]
        },
        {
          "output_type": "stream",
          "name": "stdout",
          "text": [
            "--------------------------------------------------\n",
            "Rikshawala-ep8.jpg\n"
          ]
        },
        {
          "output_type": "stream",
          "name": "stderr",
          "text": [
            "Saved results to /content/sad/done461\n",
            "\n"
          ]
        },
        {
          "output_type": "stream",
          "name": "stdout",
          "text": [
            "--------------------------------------------------\n",
            "rain-basera-ep1.jpg\n"
          ]
        },
        {
          "output_type": "stream",
          "name": "stderr",
          "text": [
            "Saved 1 image to \u001b[1m/content/sad/done462\u001b[0m\n",
            "Saved results to /content/sad/done462\n",
            "\n"
          ]
        },
        {
          "output_type": "stream",
          "name": "stdout",
          "text": [
            "--------------------------------------------------\n",
            "Rakhail-ep2-1.jpg\n"
          ]
        },
        {
          "output_type": "stream",
          "name": "stderr",
          "text": [
            "Saved 1 image to \u001b[1m/content/sad/done463\u001b[0m\n",
            "Saved results to /content/sad/done463\n",
            "\n"
          ]
        },
        {
          "output_type": "stream",
          "name": "stdout",
          "text": [
            "--------------------------------------------------\n",
            "begam-ka-kotha-Ep2-.jpg\n"
          ]
        },
        {
          "output_type": "stream",
          "name": "stderr",
          "text": [
            "Saved 1 image to \u001b[1m/content/sad/done464\u001b[0m\n",
            "Saved results to /content/sad/done464\n",
            "\n",
            "Saved 1 image to \u001b[1m/content/sad/done465\u001b[0m\n"
          ]
        },
        {
          "output_type": "stream",
          "name": "stdout",
          "text": [
            "--------------------------------------------------\n",
            "iloveyouep1.jpg\n"
          ]
        },
        {
          "output_type": "stream",
          "name": "stderr",
          "text": [
            "Saved results to /content/sad/done465\n",
            "\n"
          ]
        },
        {
          "output_type": "stream",
          "name": "stdout",
          "text": [
            "--------------------------------------------------\n",
            "Seeti-Maar-Sajanwa-ep6.jpg\n"
          ]
        },
        {
          "output_type": "stream",
          "name": "stderr",
          "text": [
            "Saved 1 image to \u001b[1m/content/sad/done466\u001b[0m\n",
            "Saved results to /content/sad/done466\n",
            "\n"
          ]
        },
        {
          "output_type": "stream",
          "name": "stdout",
          "text": [
            "--------------------------------------------------\n",
            "Sappu-Ke-Pappu-S01E03-–-2020-–-Hindi-Hot-Web-Series-–-PulsePrime.jpg\n"
          ]
        },
        {
          "output_type": "stream",
          "name": "stderr",
          "text": [
            "Saved 1 image to \u001b[1m/content/sad/done467\u001b[0m\n",
            "Saved results to /content/sad/done467\n",
            "\n"
          ]
        },
        {
          "output_type": "stream",
          "name": "stdout",
          "text": [
            "--------------------------------------------------\n",
            "Kaand-E2.jpg\n"
          ]
        },
        {
          "output_type": "stream",
          "name": "stderr",
          "text": [
            "Saved 1 image to \u001b[1m/content/sad/done468\u001b[0m\n",
            "Saved results to /content/sad/done468\n",
            "\n"
          ]
        },
        {
          "output_type": "stream",
          "name": "stdout",
          "text": [
            "--------------------------------------------------\n",
            "complimentary-ep1.jpg\n"
          ]
        },
        {
          "output_type": "stream",
          "name": "stderr",
          "text": [
            "Saved 1 image to \u001b[1m/content/sad/done469\u001b[0m\n",
            "Saved results to /content/sad/done469\n",
            "\n",
            "Saved 1 image to \u001b[1m/content/sad/done470\u001b[0m\n",
            "Saved results to /content/sad/done470\n",
            "\n"
          ]
        },
        {
          "output_type": "stream",
          "name": "stdout",
          "text": [
            "--------------------------------------------------\n",
            "brithday-ep2.jpg\n",
            "--------------------------------------------------\n",
            "IMG_1648753077722.jpg\n"
          ]
        },
        {
          "output_type": "stream",
          "name": "stderr",
          "text": [
            "Saved 1 image to \u001b[1m/content/sad/done471\u001b[0m\n",
            "Saved results to /content/sad/done471\n",
            "\n"
          ]
        },
        {
          "output_type": "stream",
          "name": "stdout",
          "text": [
            "--------------------------------------------------\n",
            "aPfS2dT.jpg\n"
          ]
        },
        {
          "output_type": "stream",
          "name": "stderr",
          "text": [
            "Saved 1 image to \u001b[1m/content/sad/done472\u001b[0m\n",
            "Saved results to /content/sad/done472\n",
            "\n"
          ]
        },
        {
          "output_type": "stream",
          "name": "stdout",
          "text": [
            "--------------------------------------------------\n",
            "Firangi-Thakurain-ep2.jpg\n"
          ]
        },
        {
          "output_type": "stream",
          "name": "stderr",
          "text": [
            "Saved 1 image to \u001b[1m/content/sad/done473\u001b[0m\n",
            "Saved results to /content/sad/done473\n",
            "\n"
          ]
        },
        {
          "output_type": "stream",
          "name": "stdout",
          "text": [
            "--------------------------------------------------\n",
            "darwaza-mat-kholna-ep1.jpg\n"
          ]
        },
        {
          "output_type": "stream",
          "name": "stderr",
          "text": [
            "Saved 1 image to \u001b[1m/content/sad/done474\u001b[0m\n",
            "Saved results to /content/sad/done474\n",
            "\n"
          ]
        },
        {
          "output_type": "stream",
          "name": "stdout",
          "text": [
            "--------------------------------------------------\n",
            "pahredar-4-ep2.jpg\n"
          ]
        },
        {
          "output_type": "stream",
          "name": "stderr",
          "text": [
            "Saved 1 image to \u001b[1m/content/sad/done475\u001b[0m\n",
            "Saved results to /content/sad/done475\n",
            "\n"
          ]
        },
        {
          "output_type": "stream",
          "name": "stdout",
          "text": [
            "--------------------------------------------------\n",
            "fragrance.jpg\n"
          ]
        },
        {
          "output_type": "stream",
          "name": "stderr",
          "text": [
            "Saved 1 image to \u001b[1m/content/sad/done476\u001b[0m\n",
            "Saved results to /content/sad/done476\n",
            "\n",
            "Saved 1 image to \u001b[1m/content/sad/done477\u001b[0m\n",
            "Saved results to /content/sad/done477\n",
            "\n"
          ]
        },
        {
          "output_type": "stream",
          "name": "stdout",
          "text": [
            "--------------------------------------------------\n",
            "IMG_1660295761684.jpg\n"
          ]
        },
        {
          "output_type": "stream",
          "name": "stderr",
          "text": [
            "Saved 1 image to \u001b[1m/content/sad/done478\u001b[0m\n",
            "Saved results to /content/sad/done478\n",
            "\n"
          ]
        },
        {
          "output_type": "stream",
          "name": "stdout",
          "text": [
            "--------------------------------------------------\n",
            "rasiliep3.jpg\n",
            "--------------------------------------------------\n",
            "papa-mange-more.jpg\n"
          ]
        },
        {
          "output_type": "stream",
          "name": "stderr",
          "text": [
            "Saved 1 image to \u001b[1m/content/sad/done479\u001b[0m\n",
            "Saved results to /content/sad/done479\n",
            "\n"
          ]
        },
        {
          "output_type": "stream",
          "name": "stdout",
          "text": [
            "--------------------------------------------------\n",
            "bathtub.jpg\n"
          ]
        },
        {
          "output_type": "stream",
          "name": "stderr",
          "text": [
            "Saved 1 image to \u001b[1m/content/sad/done480\u001b[0m\n",
            "Saved results to /content/sad/done480\n",
            "\n"
          ]
        },
        {
          "output_type": "stream",
          "name": "stdout",
          "text": [
            "--------------------------------------------------\n",
            "Shak.2022.E01.jpg\n"
          ]
        },
        {
          "output_type": "stream",
          "name": "stderr",
          "text": [
            "Saved 1 image to \u001b[1m/content/sad/done481\u001b[0m\n",
            "Saved results to /content/sad/done481\n",
            "\n",
            "Saved 1 image to \u001b[1m/content/sad/done482\u001b[0m\n",
            "Saved results to /content/sad/done482\n",
            "\n"
          ]
        },
        {
          "output_type": "stream",
          "name": "stdout",
          "text": [
            "--------------------------------------------------\n",
            "Laila-2ep3.jpg\n",
            "--------------------------------------------------\n",
            "jabranep6.jpg\n"
          ]
        },
        {
          "output_type": "stream",
          "name": "stderr",
          "text": [
            "Saved 1 image to \u001b[1m/content/sad/done483\u001b[0m\n",
            "Saved results to /content/sad/done483\n",
            "\n",
            "Saved 1 image to \u001b[1m/content/sad/done484\u001b[0m\n"
          ]
        },
        {
          "output_type": "stream",
          "name": "stdout",
          "text": [
            "--------------------------------------------------\n",
            "palang-tod-siskiyaan-3-ep2.jpg\n"
          ]
        },
        {
          "output_type": "stream",
          "name": "stderr",
          "text": [
            "Saved results to /content/sad/done484\n",
            "\n"
          ]
        },
        {
          "output_type": "stream",
          "name": "stdout",
          "text": [
            "--------------------------------------------------\n",
            "manchaha-ep1.jpg\n"
          ]
        },
        {
          "output_type": "stream",
          "name": "stderr",
          "text": [
            "Saved 1 image to \u001b[1m/content/sad/done485\u001b[0m\n",
            "Saved results to /content/sad/done485\n",
            "\n"
          ]
        },
        {
          "output_type": "stream",
          "name": "stdout",
          "text": [
            "--------------------------------------------------\n",
            "tapan-episode-1.jpg\n"
          ]
        },
        {
          "output_type": "stream",
          "name": "stderr",
          "text": [
            "Saved 1 image to \u001b[1m/content/sad/done486\u001b[0m\n",
            "Saved results to /content/sad/done486\n",
            "\n",
            "Saved 1 image to \u001b[1m/content/sad/done487\u001b[0m\n",
            "Saved results to /content/sad/done487\n",
            "\n"
          ]
        },
        {
          "output_type": "stream",
          "name": "stdout",
          "text": [
            "--------------------------------------------------\n",
            "IMG_1663316251137.jpg\n",
            "--------------------------------------------------\n",
            "1665584362820.jpg\n"
          ]
        },
        {
          "output_type": "stream",
          "name": "stderr",
          "text": [
            "Saved 1 image to \u001b[1m/content/sad/done488\u001b[0m\n",
            "Saved results to /content/sad/done488\n",
            "\n"
          ]
        },
        {
          "output_type": "stream",
          "name": "stdout",
          "text": [
            "--------------------------------------------------\n",
            "IMG_1651762920582.jpg\n"
          ]
        },
        {
          "output_type": "stream",
          "name": "stderr",
          "text": [
            "Saved 1 image to \u001b[1m/content/sad/done489\u001b[0m\n",
            "Saved results to /content/sad/done489\n",
            "\n"
          ]
        },
        {
          "output_type": "stream",
          "name": "stdout",
          "text": [
            "--------------------------------------------------\n",
            "Farbiishq.2022.E02.jpg\n"
          ]
        },
        {
          "output_type": "stream",
          "name": "stderr",
          "text": [
            "Saved 1 image to \u001b[1m/content/sad/done490\u001b[0m\n",
            "Saved results to /content/sad/done490\n",
            "\n"
          ]
        },
        {
          "output_type": "stream",
          "name": "stdout",
          "text": [
            "--------------------------------------------------\n",
            "IMG_1646124318539.jpg\n"
          ]
        },
        {
          "output_type": "stream",
          "name": "stderr",
          "text": [
            "Saved 1 image to \u001b[1m/content/sad/done491\u001b[0m\n",
            "Saved results to /content/sad/done491\n",
            "\n"
          ]
        },
        {
          "output_type": "stream",
          "name": "stdout",
          "text": [
            "--------------------------------------------------\n",
            "IMG_1652376596091.jpg\n"
          ]
        },
        {
          "output_type": "stream",
          "name": "stderr",
          "text": [
            "Saved 1 image to \u001b[1m/content/sad/done492\u001b[0m\n",
            "Saved results to /content/sad/done492\n",
            "\n"
          ]
        },
        {
          "output_type": "stream",
          "name": "stdout",
          "text": [
            "--------------------------------------------------\n",
            "wine-dine-69.jpg\n"
          ]
        },
        {
          "output_type": "stream",
          "name": "stderr",
          "text": [
            "Saved 1 image to \u001b[1m/content/sad/done493\u001b[0m\n",
            "Saved results to /content/sad/done493\n",
            "\n"
          ]
        },
        {
          "output_type": "stream",
          "name": "stdout",
          "text": [
            "--------------------------------------------------\n",
            "Mudhal-Sambavamep2.jpg\n"
          ]
        },
        {
          "output_type": "stream",
          "name": "stderr",
          "text": [
            "Saved 1 image to \u001b[1m/content/sad/done494\u001b[0m\n",
            "Saved results to /content/sad/done494\n",
            "\n"
          ]
        },
        {
          "output_type": "stream",
          "name": "stdout",
          "text": [
            "--------------------------------------------------\n",
            "ooyo-kand-ep3.jpg\n"
          ]
        },
        {
          "output_type": "stream",
          "name": "stderr",
          "text": [
            "Saved 1 image to \u001b[1m/content/sad/done495\u001b[0m\n",
            "Saved results to /content/sad/done495\n",
            "\n"
          ]
        },
        {
          "output_type": "stream",
          "name": "stdout",
          "text": [
            "--------------------------------------------------\n",
            "Rs1000.2022.E01.jpg\n"
          ]
        },
        {
          "output_type": "stream",
          "name": "stderr",
          "text": [
            "Saved 1 image to \u001b[1m/content/sad/done496\u001b[0m\n",
            "Saved results to /content/sad/done496\n",
            "\n"
          ]
        },
        {
          "output_type": "stream",
          "name": "stdout",
          "text": [
            "--------------------------------------------------\n",
            "IMG_1660544890223.jpg\n"
          ]
        },
        {
          "output_type": "stream",
          "name": "stderr",
          "text": [
            "Saved 1 image to \u001b[1m/content/sad/done497\u001b[0m\n",
            "Saved results to /content/sad/done497\n",
            "\n"
          ]
        },
        {
          "output_type": "stream",
          "name": "stdout",
          "text": [
            "--------------------------------------------------\n",
            "Sambndh.2022.EP1_.jpg\n"
          ]
        },
        {
          "output_type": "stream",
          "name": "stderr",
          "text": [
            "Saved 1 image to \u001b[1m/content/sad/done498\u001b[0m\n",
            "Saved results to /content/sad/done498\n",
            "\n"
          ]
        },
        {
          "output_type": "stream",
          "name": "stdout",
          "text": [
            "--------------------------------------------------\n",
            "4qUeqKV.png\n"
          ]
        },
        {
          "output_type": "stream",
          "name": "stderr",
          "text": [
            "Saved 1 image to \u001b[1m/content/sad/done499\u001b[0m\n",
            "Saved results to /content/sad/done499\n",
            "\n"
          ]
        },
        {
          "output_type": "stream",
          "name": "stdout",
          "text": [
            "--------------------------------------------------\n",
            "nadaan-ep7.jpg\n"
          ]
        },
        {
          "output_type": "stream",
          "name": "stderr",
          "text": [
            "Saved 1 image to \u001b[1m/content/sad/done500\u001b[0m\n",
            "Saved results to /content/sad/done500\n",
            "\n"
          ]
        },
        {
          "output_type": "stream",
          "name": "stdout",
          "text": [
            "--------------------------------------------------\n",
            "Bidi.2.jpg\n"
          ]
        },
        {
          "output_type": "stream",
          "name": "stderr",
          "text": [
            "Saved 1 image to \u001b[1m/content/sad/done501\u001b[0m\n",
            "Saved results to /content/sad/done501\n",
            "\n"
          ]
        },
        {
          "output_type": "stream",
          "name": "stdout",
          "text": [
            "--------------------------------------------------\n",
            "Jalebi-ep3.jpg\n"
          ]
        },
        {
          "output_type": "stream",
          "name": "stderr",
          "text": [
            "Saved 1 image to \u001b[1m/content/sad/done502\u001b[0m\n",
            "Saved results to /content/sad/done502\n",
            "\n"
          ]
        },
        {
          "output_type": "stream",
          "name": "stdout",
          "text": [
            "--------------------------------------------------\n",
            "pahredar-3ep1.jpg\n"
          ]
        },
        {
          "output_type": "stream",
          "name": "stderr",
          "text": [
            "Saved 1 image to \u001b[1m/content/sad/done503\u001b[0m\n",
            "Saved results to /content/sad/done503\n",
            "\n"
          ]
        },
        {
          "output_type": "stream",
          "name": "stdout",
          "text": [
            "--------------------------------------------------\n",
            "Gaon-Ki-Garmi-3ep5.jpg\n"
          ]
        },
        {
          "output_type": "stream",
          "name": "stderr",
          "text": [
            "Saved 1 image to \u001b[1m/content/sad/done504\u001b[0m\n",
            "Saved results to /content/sad/done504\n",
            "\n"
          ]
        },
        {
          "output_type": "stream",
          "name": "stdout",
          "text": [
            "--------------------------------------------------\n",
            "IMG_1652032127110.jpg\n"
          ]
        },
        {
          "output_type": "stream",
          "name": "stderr",
          "text": [
            "Saved 1 image to \u001b[1m/content/sad/done505\u001b[0m\n",
            "Saved results to /content/sad/done505\n",
            "\n"
          ]
        },
        {
          "output_type": "stream",
          "name": "stdout",
          "text": [
            "--------------------------------------------------\n",
            "hanymoon-2.jpg\n"
          ]
        },
        {
          "output_type": "stream",
          "name": "stderr",
          "text": [
            "Saved 1 image to \u001b[1m/content/sad/done506\u001b[0m\n",
            "Saved results to /content/sad/done506\n",
            "\n"
          ]
        },
        {
          "output_type": "stream",
          "name": "stdout",
          "text": [
            "--------------------------------------------------\n",
            "Shadyantra-S02E01.jpg\n"
          ]
        },
        {
          "output_type": "stream",
          "name": "stderr",
          "text": [
            "Saved 1 image to \u001b[1m/content/sad/done507\u001b[0m\n",
            "Saved results to /content/sad/done507\n",
            "\n"
          ]
        },
        {
          "output_type": "stream",
          "name": "stdout",
          "text": [
            "--------------------------------------------------\n",
            "Khalish-ep6.jpg\n"
          ]
        },
        {
          "output_type": "stream",
          "name": "stderr",
          "text": [
            "Saved 1 image to \u001b[1m/content/sad/done508\u001b[0m\n",
            "Saved results to /content/sad/done508\n",
            "\n"
          ]
        },
        {
          "output_type": "stream",
          "name": "stdout",
          "text": [
            "--------------------------------------------------\n",
            "pinjara-ep1.jpg\n"
          ]
        },
        {
          "output_type": "stream",
          "name": "stderr",
          "text": [
            "Saved 1 image to \u001b[1m/content/sad/done509\u001b[0m\n",
            "Saved results to /content/sad/done509\n",
            "\n"
          ]
        },
        {
          "output_type": "stream",
          "name": "stdout",
          "text": [
            "--------------------------------------------------\n",
            "devika-ep3-.jpg\n"
          ]
        },
        {
          "output_type": "stream",
          "name": "stderr",
          "text": [
            "Saved 1 image to \u001b[1m/content/sad/done510\u001b[0m\n",
            "Saved results to /content/sad/done510\n",
            "\n"
          ]
        },
        {
          "output_type": "stream",
          "name": "stdout",
          "text": [
            "--------------------------------------------------\n",
            "Ling-X-E03.jpg\n"
          ]
        },
        {
          "output_type": "stream",
          "name": "stderr",
          "text": [
            "Saved 1 image to \u001b[1m/content/sad/done511\u001b[0m\n",
            "Saved results to /content/sad/done511\n",
            "\n"
          ]
        },
        {
          "output_type": "stream",
          "name": "stdout",
          "text": [
            "--------------------------------------------------\n",
            "XSUTRA-EP3.jpg\n"
          ]
        },
        {
          "output_type": "stream",
          "name": "stderr",
          "text": [
            "Saved 1 image to \u001b[1m/content/sad/done512\u001b[0m\n",
            "Saved results to /content/sad/done512\n",
            "\n",
            "Saved 1 image to \u001b[1m/content/sad/done513\u001b[0m\n",
            "Saved results to /content/sad/done513\n",
            "\n"
          ]
        },
        {
          "output_type": "stream",
          "name": "stdout",
          "text": [
            "--------------------------------------------------\n",
            "IMG_1646914988807.jpg\n",
            "--------------------------------------------------\n",
            "vlcsnap-2021-06-13-11h25m07s177.jpg\n"
          ]
        },
        {
          "output_type": "stream",
          "name": "stderr",
          "text": [
            "Saved 1 image to \u001b[1m/content/sad/done514\u001b[0m\n",
            "Saved results to /content/sad/done514\n",
            "\n"
          ]
        },
        {
          "output_type": "stream",
          "name": "stdout",
          "text": [
            "--------------------------------------------------\n",
            "Shahad-ep4.jpg\n"
          ]
        },
        {
          "output_type": "stream",
          "name": "stderr",
          "text": [
            "Saved 1 image to \u001b[1m/content/sad/done515\u001b[0m\n",
            "Saved results to /content/sad/done515\n",
            "\n"
          ]
        },
        {
          "output_type": "stream",
          "name": "stdout",
          "text": [
            "--------------------------------------------------\n",
            "Adhi-Gharwali-.jpg\n"
          ]
        },
        {
          "output_type": "stream",
          "name": "stderr",
          "text": [
            "Saved 1 image to \u001b[1m/content/sad/done516\u001b[0m\n",
            "Saved results to /content/sad/done516\n",
            "\n"
          ]
        },
        {
          "output_type": "stream",
          "name": "stdout",
          "text": [
            "--------------------------------------------------\n",
            "Stranger.S01E044.jpg\n"
          ]
        },
        {
          "output_type": "stream",
          "name": "stderr",
          "text": [
            "Saved 1 image to \u001b[1m/content/sad/done517\u001b[0m\n",
            "Saved results to /content/sad/done517\n",
            "\n"
          ]
        },
        {
          "output_type": "stream",
          "name": "stdout",
          "text": [
            "--------------------------------------------------\n",
            "StepMom-teaches-son-how-to-fuck.jpg\n"
          ]
        },
        {
          "output_type": "stream",
          "name": "stderr",
          "text": [
            "Saved 1 image to \u001b[1m/content/sad/done518\u001b[0m\n",
            "Saved results to /content/sad/done518\n",
            "\n"
          ]
        },
        {
          "output_type": "stream",
          "name": "stdout",
          "text": [
            "--------------------------------------------------\n",
            "Surrogate-Mother-fucked.jpg\n"
          ]
        },
        {
          "output_type": "stream",
          "name": "stderr",
          "text": [
            "Saved 1 image to \u001b[1m/content/sad/done519\u001b[0m\n",
            "Saved results to /content/sad/done519\n",
            "\n",
            "Saved 1 image to \u001b[1m/content/sad/done520\u001b[0m\n",
            "Saved results to /content/sad/done520\n",
            "\n"
          ]
        },
        {
          "output_type": "stream",
          "name": "stdout",
          "text": [
            "--------------------------------------------------\n",
            "IMG_1658037671216.jpg\n",
            "--------------------------------------------------\n",
            "IMG_1660474648270.jpg\n"
          ]
        },
        {
          "output_type": "stream",
          "name": "stderr",
          "text": [
            "Saved 1 image to \u001b[1m/content/sad/done521\u001b[0m\n",
            "Saved results to /content/sad/done521\n",
            "\n"
          ]
        },
        {
          "output_type": "stream",
          "name": "stdout",
          "text": [
            "--------------------------------------------------\n",
            "IMG_1650791074824.jpg\n"
          ]
        },
        {
          "output_type": "stream",
          "name": "stderr",
          "text": [
            "Saved 1 image to \u001b[1m/content/sad/done522\u001b[0m\n",
            "Saved results to /content/sad/done522\n",
            "\n"
          ]
        },
        {
          "output_type": "stream",
          "name": "stdout",
          "text": [
            "--------------------------------------------------\n",
            "Gaon-Ki-Garmi-3-ep4.jpg\n"
          ]
        },
        {
          "output_type": "stream",
          "name": "stderr",
          "text": [
            "Saved 1 image to \u001b[1m/content/sad/done523\u001b[0m\n",
            "Saved results to /content/sad/done523\n",
            "\n"
          ]
        },
        {
          "output_type": "stream",
          "name": "stdout",
          "text": [
            "--------------------------------------------------\n",
            "ep3-1.jpg\n"
          ]
        },
        {
          "output_type": "stream",
          "name": "stderr",
          "text": [
            "Saved 1 image to \u001b[1m/content/sad/done524\u001b[0m\n",
            "Saved results to /content/sad/done524\n",
            "\n"
          ]
        },
        {
          "output_type": "stream",
          "name": "stdout",
          "text": [
            "--------------------------------------------------\n",
            "hope-ep1.jpg\n"
          ]
        },
        {
          "output_type": "stream",
          "name": "stderr",
          "text": [
            "Saved 1 image to \u001b[1m/content/sad/done525\u001b[0m\n",
            "Saved results to /content/sad/done525\n",
            "\n"
          ]
        },
        {
          "output_type": "stream",
          "name": "stdout",
          "text": [
            "--------------------------------------------------\n",
            "blind-love-2.jpg\n"
          ]
        },
        {
          "output_type": "stream",
          "name": "stderr",
          "text": [
            "Saved 1 image to \u001b[1m/content/sad/done526\u001b[0m\n",
            "Saved results to /content/sad/done526\n",
            "\n"
          ]
        },
        {
          "output_type": "stream",
          "name": "stdout",
          "text": [
            "--------------------------------------------------\n",
            "Dirty-Entertainer-ep2.jpg\n"
          ]
        },
        {
          "output_type": "stream",
          "name": "stderr",
          "text": [
            "Saved 1 image to \u001b[1m/content/sad/done527\u001b[0m\n",
            "Saved results to /content/sad/done527\n",
            "\n"
          ]
        },
        {
          "output_type": "stream",
          "name": "stdout",
          "text": [
            "--------------------------------------------------\n",
            "IMG_1661449415778.jpg\n"
          ]
        },
        {
          "output_type": "stream",
          "name": "stderr",
          "text": [
            "Saved 1 image to \u001b[1m/content/sad/done528\u001b[0m\n",
            "Saved results to /content/sad/done528\n",
            "\n",
            "Saved 1 image to \u001b[1m/content/sad/done529\u001b[0m\n",
            "Saved results to /content/sad/done529\n",
            "\n"
          ]
        },
        {
          "output_type": "stream",
          "name": "stdout",
          "text": [
            "--------------------------------------------------\n",
            "7093b024b8c2924b8c6a046ecf845d05.th_.png\n",
            "--------------------------------------------------\n",
            "9c197cbd6a4f641b6e0701fe2e9f86e8.png\n"
          ]
        },
        {
          "output_type": "stream",
          "name": "stderr",
          "text": [
            "Saved 1 image to \u001b[1m/content/sad/done530\u001b[0m\n",
            "Saved results to /content/sad/done530\n",
            "\n"
          ]
        },
        {
          "output_type": "stream",
          "name": "stdout",
          "text": [
            "--------------------------------------------------\n",
            "IMG_1652383393155.jpg\n"
          ]
        },
        {
          "output_type": "stream",
          "name": "stderr",
          "text": [
            "Saved 1 image to \u001b[1m/content/sad/done531\u001b[0m\n",
            "Saved results to /content/sad/done531\n",
            "\n"
          ]
        },
        {
          "output_type": "stream",
          "name": "stdout",
          "text": [
            "--------------------------------------------------\n",
            "Dalal-X-1.jpg\n"
          ]
        },
        {
          "output_type": "stream",
          "name": "stderr",
          "text": [
            "Saved 1 image to \u001b[1m/content/sad/done532\u001b[0m\n",
            "Saved results to /content/sad/done532\n",
            "\n"
          ]
        },
        {
          "output_type": "stream",
          "name": "stdout",
          "text": [
            "--------------------------------------------------\n",
            "hast-Maithoon-ep2.jpg\n"
          ]
        },
        {
          "output_type": "stream",
          "name": "stderr",
          "text": [
            "Saved 1 image to \u001b[1m/content/sad/done533\u001b[0m\n",
            "Saved results to /content/sad/done533\n",
            "\n"
          ]
        },
        {
          "output_type": "stream",
          "name": "stdout",
          "text": [
            "--------------------------------------------------\n",
            "Kaand-E1.jpg\n"
          ]
        },
        {
          "output_type": "stream",
          "name": "stderr",
          "text": [
            "Saved 1 image to \u001b[1m/content/sad/done534\u001b[0m\n",
            "Saved results to /content/sad/done534\n",
            "\n",
            "Saved 1 image to \u001b[1m/content/sad/done535\u001b[0m\n",
            "Saved results to /content/sad/done535\n",
            "\n"
          ]
        },
        {
          "output_type": "stream",
          "name": "stdout",
          "text": [
            "--------------------------------------------------\n",
            "IMG_1653880199441.jpg\n",
            "--------------------------------------------------\n",
            "RANGEENMIZAZ2.jpg\n"
          ]
        },
        {
          "output_type": "stream",
          "name": "stderr",
          "text": [
            "Saved 1 image to \u001b[1m/content/sad/done536\u001b[0m\n",
            "Saved results to /content/sad/done536\n",
            "\n",
            "Saved 1 image to \u001b[1m/content/sad/done537\u001b[0m\n",
            "Saved results to /content/sad/done537\n",
            "\n"
          ]
        },
        {
          "output_type": "stream",
          "name": "stdout",
          "text": [
            "--------------------------------------------------\n",
            "IMG_1646932135689.jpg\n",
            "--------------------------------------------------\n",
            "IMG_1658406206753.jpg\n"
          ]
        },
        {
          "output_type": "stream",
          "name": "stderr",
          "text": [
            "Saved 1 image to \u001b[1m/content/sad/done538\u001b[0m\n",
            "Saved results to /content/sad/done538\n",
            "\n"
          ]
        },
        {
          "output_type": "stream",
          "name": "stdout",
          "text": [
            "--------------------------------------------------\n",
            "Garmi2.2022.E01.jpg\n"
          ]
        },
        {
          "output_type": "stream",
          "name": "stderr",
          "text": [
            "Saved 1 image to \u001b[1m/content/sad/done539\u001b[0m\n",
            "Saved results to /content/sad/done539\n",
            "\n",
            "Saved 1 image to \u001b[1m/content/sad/done540\u001b[0m\n",
            "Saved results to /content/sad/done540\n",
            "\n"
          ]
        },
        {
          "output_type": "stream",
          "name": "stdout",
          "text": [
            "--------------------------------------------------\n",
            "IMG_1649358443843.jpg\n",
            "--------------------------------------------------\n",
            "Babi123.4.jpg\n"
          ]
        },
        {
          "output_type": "stream",
          "name": "stderr",
          "text": [
            "Saved 1 image to \u001b[1m/content/sad/done541\u001b[0m\n",
            "Saved results to /content/sad/done541\n",
            "\n"
          ]
        },
        {
          "output_type": "stream",
          "name": "stdout",
          "text": [
            "--------------------------------------------------\n",
            "Khat-Shala-S01E04.jpg\n"
          ]
        },
        {
          "output_type": "stream",
          "name": "stderr",
          "text": [
            "Saved 1 image to \u001b[1m/content/sad/done542\u001b[0m\n",
            "Saved results to /content/sad/done542\n",
            "\n",
            "Saved 1 image to \u001b[1m/content/sad/done543\u001b[0m\n",
            "Saved results to /content/sad/done543\n",
            "\n"
          ]
        },
        {
          "output_type": "stream",
          "name": "stdout",
          "text": [
            "--------------------------------------------------\n",
            "Remote-Control-ep1.jpg\n",
            "--------------------------------------------------\n",
            "Drlily.2022.E04.jpg\n"
          ]
        },
        {
          "output_type": "stream",
          "name": "stderr",
          "text": [
            "Saved 1 image to \u001b[1m/content/sad/done544\u001b[0m\n",
            "Saved results to /content/sad/done544\n",
            "\n",
            "Saved 1 image to \u001b[1m/content/sad/done545\u001b[0m\n",
            "Saved results to /content/sad/done545\n",
            "\n"
          ]
        },
        {
          "output_type": "stream",
          "name": "stdout",
          "text": [
            "--------------------------------------------------\n",
            "297114198_0-8.jpg\n",
            "--------------------------------------------------\n",
            "photographar1.jpg\n"
          ]
        },
        {
          "output_type": "stream",
          "name": "stderr",
          "text": [
            "Saved 1 image to \u001b[1m/content/sad/done546\u001b[0m\n",
            "Saved results to /content/sad/done546\n",
            "\n"
          ]
        },
        {
          "output_type": "stream",
          "name": "stdout",
          "text": [
            "--------------------------------------------------\n",
            "siskiyaan4e3-1.jpg\n"
          ]
        },
        {
          "output_type": "stream",
          "name": "stderr",
          "text": [
            "Saved 1 image to \u001b[1m/content/sad/done547\u001b[0m\n",
            "Saved results to /content/sad/done547\n",
            "\n"
          ]
        },
        {
          "output_type": "stream",
          "name": "stdout",
          "text": [
            "--------------------------------------------------\n",
            "IMG_1658494038501.jpg\n"
          ]
        },
        {
          "output_type": "stream",
          "name": "stderr",
          "text": [
            "Saved 1 image to \u001b[1m/content/sad/done548\u001b[0m\n",
            "Saved results to /content/sad/done548\n",
            "\n"
          ]
        },
        {
          "output_type": "stream",
          "name": "stdout",
          "text": [
            "--------------------------------------------------\n",
            "mr-teacher-ep2.jpg\n"
          ]
        },
        {
          "output_type": "stream",
          "name": "stderr",
          "text": [
            "Saved 1 image to \u001b[1m/content/sad/done549\u001b[0m\n",
            "Saved results to /content/sad/done549\n",
            "\n"
          ]
        },
        {
          "output_type": "stream",
          "name": "stdout",
          "text": [
            "--------------------------------------------------\n",
            "download.jpeg-6.jpg\n"
          ]
        },
        {
          "output_type": "stream",
          "name": "stderr",
          "text": [
            "Saved 1 image to \u001b[1m/content/sad/done550\u001b[0m\n",
            "Saved results to /content/sad/done550\n",
            "\n"
          ]
        },
        {
          "output_type": "stream",
          "name": "stdout",
          "text": [
            "--------------------------------------------------\n",
            "flat-screen-ep2.jpg\n"
          ]
        },
        {
          "output_type": "stream",
          "name": "stderr",
          "text": [
            "Saved 1 image to \u001b[1m/content/sad/done551\u001b[0m\n",
            "Saved results to /content/sad/done551\n",
            "\n"
          ]
        },
        {
          "output_type": "stream",
          "name": "stdout",
          "text": [
            "--------------------------------------------------\n",
            "Prmgme.2.jpg\n"
          ]
        },
        {
          "output_type": "stream",
          "name": "stderr",
          "text": [
            "Saved 1 image to \u001b[1m/content/sad/done552\u001b[0m\n",
            "Saved results to /content/sad/done552\n",
            "\n"
          ]
        },
        {
          "output_type": "stream",
          "name": "stdout",
          "text": [
            "--------------------------------------------------\n",
            "SachiSaheli.2022.E03.jpg\n"
          ]
        },
        {
          "output_type": "stream",
          "name": "stderr",
          "text": [
            "Saved 1 image to \u001b[1m/content/sad/done553\u001b[0m\n",
            "Saved results to /content/sad/done553\n",
            "\n"
          ]
        },
        {
          "output_type": "stream",
          "name": "stdout",
          "text": [
            "--------------------------------------------------\n",
            "Blackmail-ep2.jpg\n"
          ]
        },
        {
          "output_type": "stream",
          "name": "stderr",
          "text": [
            "Saved 1 image to \u001b[1m/content/sad/done554\u001b[0m\n",
            "Saved results to /content/sad/done554\n",
            "\n"
          ]
        },
        {
          "output_type": "stream",
          "name": "stdout",
          "text": [
            "--------------------------------------------------\n",
            "gao-ki-malai-ep2.jpg\n"
          ]
        },
        {
          "output_type": "stream",
          "name": "stderr",
          "text": [
            "Saved 1 image to \u001b[1m/content/sad/done555\u001b[0m\n",
            "Saved results to /content/sad/done555\n",
            "\n"
          ]
        },
        {
          "output_type": "stream",
          "name": "stdout",
          "text": [
            "--------------------------------------------------\n",
            "Manchli.1.jpg\n"
          ]
        },
        {
          "output_type": "stream",
          "name": "stderr",
          "text": [
            "Saved 1 image to \u001b[1m/content/sad/done556\u001b[0m\n",
            "Saved results to /content/sad/done556\n",
            "\n"
          ]
        },
        {
          "output_type": "stream",
          "name": "stdout",
          "text": [
            "--------------------------------------------------\n",
            "IMG_1656615967070.jpg\n"
          ]
        },
        {
          "output_type": "stream",
          "name": "stderr",
          "text": [
            "Saved 1 image to \u001b[1m/content/sad/done557\u001b[0m\n",
            "Saved results to /content/sad/done557\n",
            "\n"
          ]
        },
        {
          "output_type": "stream",
          "name": "stdout",
          "text": [
            "--------------------------------------------------\n",
            "IMG_1657474950783.jpg\n"
          ]
        },
        {
          "output_type": "stream",
          "name": "stderr",
          "text": [
            "Saved 1 image to \u001b[1m/content/sad/done558\u001b[0m\n",
            "Saved results to /content/sad/done558\n",
            "\n"
          ]
        },
        {
          "output_type": "stream",
          "name": "stdout",
          "text": [
            "--------------------------------------------------\n",
            "What-The-F-ep1-1.jpg\n"
          ]
        },
        {
          "output_type": "stream",
          "name": "stderr",
          "text": [
            "Saved 1 image to \u001b[1m/content/sad/done559\u001b[0m\n",
            "Saved results to /content/sad/done559\n",
            "\n"
          ]
        },
        {
          "output_type": "stream",
          "name": "stdout",
          "text": [
            "--------------------------------------------------\n",
            "IMG_1646215780995.jpg\n"
          ]
        },
        {
          "output_type": "stream",
          "name": "stderr",
          "text": [
            "Saved 1 image to \u001b[1m/content/sad/done560\u001b[0m\n",
            "Saved results to /content/sad/done560\n",
            "\n"
          ]
        },
        {
          "output_type": "stream",
          "name": "stdout",
          "text": [
            "--------------------------------------------------\n",
            "MALLIKA-BEAUTY-SECRET.jpg\n"
          ]
        },
        {
          "output_type": "stream",
          "name": "stderr",
          "text": [
            "Saved 1 image to \u001b[1m/content/sad/done561\u001b[0m\n",
            "Saved results to /content/sad/done561\n",
            "\n"
          ]
        },
        {
          "output_type": "stream",
          "name": "stdout",
          "text": [
            "--------------------------------------------------\n",
            "ye-ashiqui-ep2.jpg\n"
          ]
        },
        {
          "output_type": "stream",
          "name": "stderr",
          "text": [
            "Saved 1 image to \u001b[1m/content/sad/done562\u001b[0m\n",
            "Saved results to /content/sad/done562\n",
            "\n"
          ]
        },
        {
          "output_type": "stream",
          "name": "stdout",
          "text": [
            "--------------------------------------------------\n",
            "Drlily.2022.E012.jpg\n"
          ]
        },
        {
          "output_type": "stream",
          "name": "stderr",
          "text": [
            "Saved 1 image to \u001b[1m/content/sad/done563\u001b[0m\n",
            "Saved results to /content/sad/done563\n",
            "\n"
          ]
        },
        {
          "output_type": "stream",
          "name": "stdout",
          "text": [
            "--------------------------------------------------\n",
            "Drlily.2022.E03.jpg\n"
          ]
        },
        {
          "output_type": "stream",
          "name": "stderr",
          "text": [
            "Saved 1 image to \u001b[1m/content/sad/done564\u001b[0m\n",
            "Saved results to /content/sad/done564\n",
            "\n"
          ]
        },
        {
          "output_type": "stream",
          "name": "stdout",
          "text": [
            "--------------------------------------------------\n",
            "Ghar-Ka-Call-Boy-3.jpg\n"
          ]
        },
        {
          "output_type": "stream",
          "name": "stderr",
          "text": [
            "Saved 1 image to \u001b[1m/content/sad/done565\u001b[0m\n",
            "Saved results to /content/sad/done565\n",
            "\n"
          ]
        },
        {
          "output_type": "stream",
          "name": "stdout",
          "text": [
            "--------------------------------------------------\n",
            "IMG_1651984085031.jpg\n"
          ]
        },
        {
          "output_type": "stream",
          "name": "stderr",
          "text": [
            "Saved 1 image to \u001b[1m/content/sad/done566\u001b[0m\n",
            "Saved results to /content/sad/done566\n",
            "\n",
            "Saved 1 image to \u001b[1m/content/sad/done567\u001b[0m\n"
          ]
        },
        {
          "output_type": "stream",
          "name": "stdout",
          "text": [
            "--------------------------------------------------\n",
            "bidaai-ep3.jpg\n"
          ]
        },
        {
          "output_type": "stream",
          "name": "stderr",
          "text": [
            "Saved results to /content/sad/done567\n",
            "\n"
          ]
        },
        {
          "output_type": "stream",
          "name": "stdout",
          "text": [
            "--------------------------------------------------\n",
            "IMG_1661338490280.jpg\n"
          ]
        },
        {
          "output_type": "stream",
          "name": "stderr",
          "text": [
            "Saved 1 image to \u001b[1m/content/sad/done568\u001b[0m\n",
            "Saved results to /content/sad/done568\n",
            "\n"
          ]
        },
        {
          "output_type": "stream",
          "name": "stdout",
          "text": [
            "--------------------------------------------------\n",
            "pahredar-3ep3.jpg\n"
          ]
        },
        {
          "output_type": "stream",
          "name": "stderr",
          "text": [
            "Saved 1 image to \u001b[1m/content/sad/done569\u001b[0m\n",
            "Saved results to /content/sad/done569\n",
            "\n"
          ]
        },
        {
          "output_type": "stream",
          "name": "stdout",
          "text": [
            "--------------------------------------------------\n",
            "Rasiya-1.jpg\n"
          ]
        },
        {
          "output_type": "stream",
          "name": "stderr",
          "text": [
            "Saved 1 image to \u001b[1m/content/sad/done570\u001b[0m\n",
            "Saved results to /content/sad/done570\n",
            "\n"
          ]
        },
        {
          "output_type": "stream",
          "name": "stdout",
          "text": [
            "--------------------------------------------------\n",
            "my-i-come-ep3.jpg\n"
          ]
        },
        {
          "output_type": "stream",
          "name": "stderr",
          "text": [
            "Saved 1 image to \u001b[1m/content/sad/done571\u001b[0m\n",
            "Saved results to /content/sad/done571\n",
            "\n"
          ]
        },
        {
          "output_type": "stream",
          "name": "stdout",
          "text": [
            "--------------------------------------------------\n",
            "Tere-Jaisa-Yaar-Kaha-ep5.jpg\n"
          ]
        },
        {
          "output_type": "stream",
          "name": "stderr",
          "text": [
            "Saved 1 image to \u001b[1m/content/sad/done572\u001b[0m\n",
            "Saved results to /content/sad/done572\n",
            "\n"
          ]
        },
        {
          "output_type": "stream",
          "name": "stdout",
          "text": [
            "--------------------------------------------------\n",
            "Chull-Loveria-ep2.jpg\n"
          ]
        },
        {
          "output_type": "stream",
          "name": "stderr",
          "text": [
            "Saved 1 image to \u001b[1m/content/sad/done573\u001b[0m\n",
            "Saved results to /content/sad/done573\n",
            "\n",
            "Saved 1 image to \u001b[1m/content/sad/done574\u001b[0m\n",
            "Saved results to /content/sad/done574\n",
            "\n"
          ]
        },
        {
          "output_type": "stream",
          "name": "stdout",
          "text": [
            "--------------------------------------------------\n",
            "IMG_1650074240285.jpg\n",
            "--------------------------------------------------\n",
            "pbynby0cp3k7.jpg\n"
          ]
        },
        {
          "output_type": "stream",
          "name": "stderr",
          "text": [
            "Saved 1 image to \u001b[1m/content/sad/done575\u001b[0m\n",
            "Saved results to /content/sad/done575\n",
            "\n"
          ]
        },
        {
          "output_type": "stream",
          "name": "stdout",
          "text": [
            "--------------------------------------------------\n",
            "hope-ep4.jpg\n"
          ]
        },
        {
          "output_type": "stream",
          "name": "stderr",
          "text": [
            "Saved 1 image to \u001b[1m/content/sad/done576\u001b[0m\n",
            "Saved results to /content/sad/done576\n",
            "\n",
            "Saved 1 image to \u001b[1m/content/sad/done577\u001b[0m\n",
            "Saved results to /content/sad/done577\n",
            "\n"
          ]
        },
        {
          "output_type": "stream",
          "name": "stdout",
          "text": [
            "--------------------------------------------------\n",
            "n0jpq7rfjhjx.jpg\n",
            "--------------------------------------------------\n",
            "vlcsnap-2021-06-23-19h18m18s909.jpg\n"
          ]
        },
        {
          "output_type": "stream",
          "name": "stderr",
          "text": [
            "Saved 1 image to \u001b[1m/content/sad/done578\u001b[0m\n",
            "Saved results to /content/sad/done578\n",
            "\n"
          ]
        },
        {
          "output_type": "stream",
          "name": "stdout",
          "text": [
            "--------------------------------------------------\n",
            "blackmail-ep3.jpg\n"
          ]
        },
        {
          "output_type": "stream",
          "name": "stderr",
          "text": [
            "Saved 1 image to \u001b[1m/content/sad/done579\u001b[0m\n",
            "Saved results to /content/sad/done579\n",
            "\n"
          ]
        },
        {
          "output_type": "stream",
          "name": "stdout",
          "text": [
            "--------------------------------------------------\n",
            "amrapali-ep5.jpg\n"
          ]
        },
        {
          "output_type": "stream",
          "name": "stderr",
          "text": [
            "Saved 1 image to \u001b[1m/content/sad/done580\u001b[0m\n",
            "Saved results to /content/sad/done580\n",
            "\n"
          ]
        },
        {
          "output_type": "stream",
          "name": "stdout",
          "text": [
            "--------------------------------------------------\n",
            "chaddha.jpg\n"
          ]
        },
        {
          "output_type": "stream",
          "name": "stderr",
          "text": [
            "Saved 1 image to \u001b[1m/content/sad/done581\u001b[0m\n",
            "Saved results to /content/sad/done581\n",
            "\n"
          ]
        },
        {
          "output_type": "stream",
          "name": "stdout",
          "text": [
            "--------------------------------------------------\n",
            "Desi-Majdur-Ki-Patni.jpg\n"
          ]
        },
        {
          "output_type": "stream",
          "name": "stderr",
          "text": [
            "Saved 1 image to \u001b[1m/content/sad/done582\u001b[0m\n",
            "Saved results to /content/sad/done582\n",
            "\n",
            "Saved 1 image to \u001b[1m/content/sad/done583\u001b[0m\n",
            "Saved results to /content/sad/done583\n",
            "\n"
          ]
        },
        {
          "output_type": "stream",
          "name": "stdout",
          "text": [
            "--------------------------------------------------\n",
            "IMG_1652750489297.jpg\n",
            "--------------------------------------------------\n",
            "KaroNaa-ep4.jpg\n"
          ]
        },
        {
          "output_type": "stream",
          "name": "stderr",
          "text": [
            "Saved 1 image to \u001b[1m/content/sad/done584\u001b[0m\n",
            "Saved results to /content/sad/done584\n",
            "\n"
          ]
        },
        {
          "output_type": "stream",
          "name": "stdout",
          "text": [
            "--------------------------------------------------\n",
            "Pathshala-3-Ep4.jpg\n"
          ]
        },
        {
          "output_type": "stream",
          "name": "stderr",
          "text": [
            "Saved 1 image to \u001b[1m/content/sad/done585\u001b[0m\n",
            "Saved results to /content/sad/done585\n",
            "\n"
          ]
        },
        {
          "output_type": "stream",
          "name": "stdout",
          "text": [
            "--------------------------------------------------\n",
            "sardaar.jpg\n"
          ]
        },
        {
          "output_type": "stream",
          "name": "stderr",
          "text": [
            "Saved 1 image to \u001b[1m/content/sad/done586\u001b[0m\n",
            "Saved results to /content/sad/done586\n",
            "\n"
          ]
        },
        {
          "output_type": "stream",
          "name": "stdout",
          "text": [
            "--------------------------------------------------\n",
            "chiting-sudipa.jpg\n"
          ]
        },
        {
          "output_type": "stream",
          "name": "stderr",
          "text": [
            "Saved 1 image to \u001b[1m/content/sad/done587\u001b[0m\n",
            "Saved results to /content/sad/done587\n",
            "\n"
          ]
        },
        {
          "output_type": "stream",
          "name": "stdout",
          "text": [
            "--------------------------------------------------\n",
            "badan-3-ep10.jpg\n"
          ]
        },
        {
          "output_type": "stream",
          "name": "stderr",
          "text": [
            "Saved 1 image to \u001b[1m/content/sad/done588\u001b[0m\n",
            "Saved results to /content/sad/done588\n",
            "\n"
          ]
        },
        {
          "output_type": "stream",
          "name": "stdout",
          "text": [
            "--------------------------------------------------\n",
            "IMG_1658170722769.jpg\n"
          ]
        },
        {
          "output_type": "stream",
          "name": "stderr",
          "text": [
            "Saved 1 image to \u001b[1m/content/sad/done589\u001b[0m\n",
            "Saved results to /content/sad/done589\n",
            "\n"
          ]
        },
        {
          "output_type": "stream",
          "name": "stdout",
          "text": [
            "--------------------------------------------------\n",
            "innocent.jpg\n"
          ]
        },
        {
          "output_type": "stream",
          "name": "stderr",
          "text": [
            "Saved 1 image to \u001b[1m/content/sad/done590\u001b[0m\n",
            "Saved results to /content/sad/done590\n",
            "\n"
          ]
        },
        {
          "output_type": "stream",
          "name": "stdout",
          "text": [
            "--------------------------------------------------\n",
            "adla-badli-ep6.jpg\n"
          ]
        },
        {
          "output_type": "stream",
          "name": "stderr",
          "text": [
            "Saved 1 image to \u001b[1m/content/sad/done591\u001b[0m\n",
            "Saved results to /content/sad/done591\n",
            "\n"
          ]
        },
        {
          "output_type": "stream",
          "name": "stdout",
          "text": [
            "--------------------------------------------------\n",
            "Rs1000.2022.E02.Yesma_.jpg\n"
          ]
        },
        {
          "output_type": "stream",
          "name": "stderr",
          "text": [
            "Saved 1 image to \u001b[1m/content/sad/done592\u001b[0m\n",
            "Saved results to /content/sad/done592\n",
            "\n"
          ]
        },
        {
          "output_type": "stream",
          "name": "stdout",
          "text": [
            "--------------------------------------------------\n",
            "IMG_1658494039048.jpg\n"
          ]
        },
        {
          "output_type": "stream",
          "name": "stderr",
          "text": [
            "Saved 1 image to \u001b[1m/content/sad/done593\u001b[0m\n",
            "Saved results to /content/sad/done593\n",
            "\n",
            "Saved 1 image to \u001b[1m/content/sad/done594\u001b[0m\n",
            "Saved results to /content/sad/done594\n",
            "\n"
          ]
        },
        {
          "output_type": "stream",
          "name": "stdout",
          "text": [
            "--------------------------------------------------\n",
            "IMG_1660327844076.jpg\n",
            "--------------------------------------------------\n",
            "vlcsnap-2021-04-14-21h02m50s858.jpg\n"
          ]
        },
        {
          "output_type": "stream",
          "name": "stderr",
          "text": [
            "Saved 1 image to \u001b[1m/content/sad/done595\u001b[0m\n",
            "Saved results to /content/sad/done595\n",
            "\n",
            "Saved 1 image to \u001b[1m/content/sad/done596\u001b[0m\n",
            "Saved results to /content/sad/done596\n",
            "\n"
          ]
        },
        {
          "output_type": "stream",
          "name": "stdout",
          "text": [
            "--------------------------------------------------\n",
            "Pehredaar-2-ep4.jpg\n",
            "--------------------------------------------------\n",
            "IMG_1662523422792.jpg\n"
          ]
        },
        {
          "output_type": "stream",
          "name": "stderr",
          "text": [
            "Saved 1 image to \u001b[1m/content/sad/done597\u001b[0m\n",
            "Saved results to /content/sad/done597\n",
            "\n"
          ]
        },
        {
          "output_type": "stream",
          "name": "stdout",
          "text": [
            "--------------------------------------------------\n",
            "Unconditional-.jpg\n"
          ]
        },
        {
          "output_type": "stream",
          "name": "stderr",
          "text": [
            "Saved 1 image to \u001b[1m/content/sad/done598\u001b[0m\n",
            "Saved results to /content/sad/done598\n",
            "\n"
          ]
        },
        {
          "output_type": "stream",
          "name": "stdout",
          "text": [
            "--------------------------------------------------\n",
            "IMG_1661670550899.jpg\n"
          ]
        },
        {
          "output_type": "stream",
          "name": "stderr",
          "text": [
            "Saved 1 image to \u001b[1m/content/sad/done599\u001b[0m\n",
            "Saved results to /content/sad/done599\n",
            "\n"
          ]
        },
        {
          "output_type": "stream",
          "name": "stdout",
          "text": [
            "--------------------------------------------------\n",
            "saniya-Salman-ep6.jpg\n"
          ]
        },
        {
          "output_type": "stream",
          "name": "stderr",
          "text": [
            "Saved 1 image to \u001b[1m/content/sad/done600\u001b[0m\n",
            "Saved results to /content/sad/done600\n",
            "\n",
            "Saved 1 image to \u001b[1m/content/sad/done601\u001b[0m\n",
            "Saved results to /content/sad/done601\n",
            "\n"
          ]
        },
        {
          "output_type": "stream",
          "name": "stdout",
          "text": [
            "--------------------------------------------------\n",
            "download.jpeg-9.jpg\n",
            "--------------------------------------------------\n",
            "jabranep5.jpg\n"
          ]
        },
        {
          "output_type": "stream",
          "name": "stderr",
          "text": [
            "Saved 1 image to \u001b[1m/content/sad/done602\u001b[0m\n",
            "Saved results to /content/sad/done602\n",
            "\n"
          ]
        },
        {
          "output_type": "stream",
          "name": "stdout",
          "text": [
            "--------------------------------------------------\n",
            "IMG_1650642170805.jpg\n"
          ]
        },
        {
          "output_type": "stream",
          "name": "stderr",
          "text": [
            "Saved 1 image to \u001b[1m/content/sad/done603\u001b[0m\n",
            "Saved results to /content/sad/done603\n",
            "\n"
          ]
        },
        {
          "output_type": "stream",
          "name": "stdout",
          "text": [
            "--------------------------------------------------\n",
            "Ghar-Sasur-ep2-.jpg\n"
          ]
        },
        {
          "output_type": "stream",
          "name": "stderr",
          "text": [
            "Saved 1 image to \u001b[1m/content/sad/done604\u001b[0m\n",
            "Saved results to /content/sad/done604\n",
            "\n"
          ]
        },
        {
          "output_type": "stream",
          "name": "stdout",
          "text": [
            "--------------------------------------------------\n",
            "1666491071439.jpg\n"
          ]
        },
        {
          "output_type": "stream",
          "name": "stderr",
          "text": [
            "Saved 1 image to \u001b[1m/content/sad/done605\u001b[0m\n",
            "Saved results to /content/sad/done605\n",
            "\n"
          ]
        },
        {
          "output_type": "stream",
          "name": "stdout",
          "text": [
            "--------------------------------------------------\n",
            "IMG_1646374706287.jpg\n"
          ]
        },
        {
          "output_type": "stream",
          "name": "stderr",
          "text": [
            "Saved 1 image to \u001b[1m/content/sad/done606\u001b[0m\n",
            "Saved results to /content/sad/done606\n",
            "\n"
          ]
        },
        {
          "output_type": "stream",
          "name": "stdout",
          "text": [
            "--------------------------------------------------\n",
            "Andha-Dhundh-primeshos.jpg\n"
          ]
        },
        {
          "output_type": "stream",
          "name": "stderr",
          "text": [
            "Saved 1 image to \u001b[1m/content/sad/done607\u001b[0m\n",
            "Saved results to /content/sad/done607\n",
            "\n"
          ]
        },
        {
          "output_type": "stream",
          "name": "stdout",
          "text": [
            "--------------------------------------------------\n",
            "ee9.jpg\n"
          ]
        },
        {
          "output_type": "stream",
          "name": "stderr",
          "text": [
            "Saved 1 image to \u001b[1m/content/sad/done608\u001b[0m\n",
            "Saved results to /content/sad/done608\n",
            "\n"
          ]
        },
        {
          "output_type": "stream",
          "name": "stdout",
          "text": [
            "--------------------------------------------------\n",
            "Gandii-Baat-S07E01.jpg\n"
          ]
        },
        {
          "output_type": "stream",
          "name": "stderr",
          "text": [
            "Saved 1 image to \u001b[1m/content/sad/done609\u001b[0m\n",
            "Saved results to /content/sad/done609\n",
            "\n"
          ]
        },
        {
          "output_type": "stream",
          "name": "stdout",
          "text": [
            "--------------------------------------------------\n",
            "lKbzJM1.jpg\n"
          ]
        },
        {
          "output_type": "stream",
          "name": "stderr",
          "text": [
            "Saved 1 image to \u001b[1m/content/sad/done610\u001b[0m\n",
            "Saved results to /content/sad/done610\n",
            "\n"
          ]
        },
        {
          "output_type": "stream",
          "name": "stdout",
          "text": [
            "--------------------------------------------------\n",
            "nath-ep2.jpg\n"
          ]
        },
        {
          "output_type": "stream",
          "name": "stderr",
          "text": [
            "Saved 1 image to \u001b[1m/content/sad/done611\u001b[0m\n",
            "Saved results to /content/sad/done611\n",
            "\n"
          ]
        },
        {
          "output_type": "stream",
          "name": "stdout",
          "text": [
            "--------------------------------------------------\n",
            "Khalish-ep3.jpg\n"
          ]
        },
        {
          "output_type": "stream",
          "name": "stderr",
          "text": [
            "Saved 1 image to \u001b[1m/content/sad/done612\u001b[0m\n",
            "Saved results to /content/sad/done612\n",
            "\n"
          ]
        },
        {
          "output_type": "stream",
          "name": "stdout",
          "text": [
            "--------------------------------------------------\n",
            "vishukkani-ep1.jpg\n"
          ]
        },
        {
          "output_type": "stream",
          "name": "stderr",
          "text": [
            "Saved 1 image to \u001b[1m/content/sad/done613\u001b[0m\n",
            "Saved results to /content/sad/done613\n",
            "\n"
          ]
        },
        {
          "output_type": "stream",
          "name": "stdout",
          "text": [
            "--------------------------------------------------\n",
            "gachi6.jpg\n"
          ]
        },
        {
          "output_type": "stream",
          "name": "stderr",
          "text": [
            "Saved 1 image to \u001b[1m/content/sad/done614\u001b[0m\n",
            "Saved results to /content/sad/done614\n",
            "\n"
          ]
        },
        {
          "output_type": "stream",
          "name": "stdout",
          "text": [
            "--------------------------------------------------\n",
            "Ghar-Sasur-ep7.jpg\n"
          ]
        },
        {
          "output_type": "stream",
          "name": "stderr",
          "text": [
            "Saved 1 image to \u001b[1m/content/sad/done615\u001b[0m\n",
            "Saved results to /content/sad/done615\n",
            "\n"
          ]
        },
        {
          "output_type": "stream",
          "name": "stdout",
          "text": [
            "--------------------------------------------------\n",
            "Kyon-Nahin-Maara-ep4.jpg\n"
          ]
        },
        {
          "output_type": "stream",
          "name": "stderr",
          "text": [
            "Saved 1 image to \u001b[1m/content/sad/done616\u001b[0m\n",
            "Saved results to /content/sad/done616\n",
            "\n"
          ]
        },
        {
          "output_type": "stream",
          "name": "stdout",
          "text": [
            "--------------------------------------------------\n",
            "Yeah-Gandhi-Baat-ep2.jpg\n"
          ]
        },
        {
          "output_type": "stream",
          "name": "stderr",
          "text": [
            "Saved 1 image to \u001b[1m/content/sad/done617\u001b[0m\n",
            "Saved results to /content/sad/done617\n",
            "\n"
          ]
        },
        {
          "output_type": "stream",
          "name": "stdout",
          "text": [
            "--------------------------------------------------\n",
            "Gunha-Epi-1.jpg\n"
          ]
        },
        {
          "output_type": "stream",
          "name": "stderr",
          "text": [
            "Saved 1 image to \u001b[1m/content/sad/done618\u001b[0m\n",
            "Saved results to /content/sad/done618\n",
            "\n"
          ]
        },
        {
          "output_type": "stream",
          "name": "stdout",
          "text": [
            "--------------------------------------------------\n",
            "Mukhiya-x-ep1.jpg\n"
          ]
        },
        {
          "output_type": "stream",
          "name": "stderr",
          "text": [
            "Saved 1 image to \u001b[1m/content/sad/done619\u001b[0m\n",
            "Saved results to /content/sad/done619\n",
            "\n"
          ]
        },
        {
          "output_type": "stream",
          "name": "stdout",
          "text": [
            "--------------------------------------------------\n",
            "Maalpani.2022.E02.jpg\n"
          ]
        },
        {
          "output_type": "stream",
          "name": "stderr",
          "text": [
            "Saved 1 image to \u001b[1m/content/sad/done620\u001b[0m\n",
            "Saved results to /content/sad/done620\n",
            "\n",
            "Saved 1 image to \u001b[1m/content/sad/done621\u001b[0m\n",
            "Saved results to /content/sad/done621\n",
            "\n"
          ]
        },
        {
          "output_type": "stream",
          "name": "stdout",
          "text": [
            "--------------------------------------------------\n",
            "IMG_1646907302157.jpg\n",
            "--------------------------------------------------\n",
            "1osTUja.jpg\n"
          ]
        },
        {
          "output_type": "stream",
          "name": "stderr",
          "text": [
            "Saved 1 image to \u001b[1m/content/sad/done622\u001b[0m\n",
            "Saved results to /content/sad/done622\n",
            "\n",
            "Saved 1 image to \u001b[1m/content/sad/done623\u001b[0m\n",
            "Saved results to /content/sad/done623\n",
            "\n"
          ]
        },
        {
          "output_type": "stream",
          "name": "stdout",
          "text": [
            "--------------------------------------------------\n",
            "download.jpeg.jpg\n",
            "--------------------------------------------------\n",
            "car-washing-ep1.jpg\n"
          ]
        },
        {
          "output_type": "stream",
          "name": "stderr",
          "text": [
            "Saved 1 image to \u001b[1m/content/sad/done624\u001b[0m\n",
            "Saved results to /content/sad/done624\n",
            "\n",
            "Saved 1 image to \u001b[1m/content/sad/done625\u001b[0m\n",
            "Saved results to /content/sad/done625\n",
            "\n"
          ]
        },
        {
          "output_type": "stream",
          "name": "stdout",
          "text": [
            "--------------------------------------------------\n",
            "IMG_1656009569895.jpg\n",
            "--------------------------------------------------\n",
            "juaa-ep6.jpg\n"
          ]
        },
        {
          "output_type": "stream",
          "name": "stderr",
          "text": [
            "Saved 1 image to \u001b[1m/content/sad/done626\u001b[0m\n",
            "Saved results to /content/sad/done626\n",
            "\n"
          ]
        },
        {
          "output_type": "stream",
          "name": "stdout",
          "text": [
            "--------------------------------------------------\n",
            "Akgg-kooku_Moment1.jpg\n"
          ]
        },
        {
          "output_type": "stream",
          "name": "stderr",
          "text": [
            "Saved 1 image to \u001b[1m/content/sad/done627\u001b[0m\n",
            "Saved results to /content/sad/done627\n",
            "\n"
          ]
        },
        {
          "output_type": "stream",
          "name": "stdout",
          "text": [
            "--------------------------------------------------\n",
            "Sali-Ke-Kaand-ep1.jpg\n"
          ]
        },
        {
          "output_type": "stream",
          "name": "stderr",
          "text": [
            "Saved 1 image to \u001b[1m/content/sad/done628\u001b[0m\n",
            "Saved results to /content/sad/done628\n",
            "\n",
            "Saved 1 image to \u001b[1m/content/sad/done629\u001b[0m\n",
            "Saved results to /content/sad/done629\n",
            "\n"
          ]
        },
        {
          "output_type": "stream",
          "name": "stdout",
          "text": [
            "--------------------------------------------------\n",
            "pahredaar-ep3.jpg\n",
            "--------------------------------------------------\n",
            "IMG_1650078871392.jpg\n"
          ]
        },
        {
          "output_type": "stream",
          "name": "stderr",
          "text": [
            "Saved 1 image to \u001b[1m/content/sad/done630\u001b[0m\n",
            "Saved results to /content/sad/done630\n",
            "\n"
          ]
        },
        {
          "output_type": "stream",
          "name": "stdout",
          "text": [
            "--------------------------------------------------\n",
            "Miss-Teacher-1.jpg\n"
          ]
        },
        {
          "output_type": "stream",
          "name": "stderr",
          "text": [
            "Saved 1 image to \u001b[1m/content/sad/done631\u001b[0m\n",
            "Saved results to /content/sad/done631\n",
            "\n",
            "Saved 1 image to \u001b[1m/content/sad/done632\u001b[0m\n",
            "Saved results to /content/sad/done632\n",
            "\n"
          ]
        },
        {
          "output_type": "stream",
          "name": "stdout",
          "text": [
            "--------------------------------------------------\n",
            "maalamaal-ep8.jpg\n",
            "--------------------------------------------------\n",
            "Khalish-ep8.jpg\n"
          ]
        },
        {
          "output_type": "stream",
          "name": "stderr",
          "text": [
            "Saved 1 image to \u001b[1m/content/sad/done633\u001b[0m\n",
            "Saved results to /content/sad/done633\n",
            "\n"
          ]
        },
        {
          "output_type": "stream",
          "name": "stdout",
          "text": [
            "--------------------------------------------------\n",
            "Gaon-Ki-Garmi-3ep8.jpg\n"
          ]
        },
        {
          "output_type": "stream",
          "name": "stderr",
          "text": [
            "Saved 1 image to \u001b[1m/content/sad/done634\u001b[0m\n",
            "Saved results to /content/sad/done634\n",
            "\n",
            "Saved 1 image to \u001b[1m/content/sad/done635\u001b[0m\n",
            "Saved results to /content/sad/done635\n",
            "\n"
          ]
        },
        {
          "output_type": "stream",
          "name": "stdout",
          "text": [
            "--------------------------------------------------\n",
            "IMG_1646741504585.jpg\n",
            "--------------------------------------------------\n",
            "Big-Boobs-Step-Mother.jpg\n"
          ]
        },
        {
          "output_type": "stream",
          "name": "stderr",
          "text": [
            "Saved 1 image to \u001b[1m/content/sad/done636\u001b[0m\n",
            "Saved results to /content/sad/done636\n",
            "\n"
          ]
        },
        {
          "output_type": "stream",
          "name": "stdout",
          "text": [
            "--------------------------------------------------\n",
            "Love-Guru-1.jpg\n"
          ]
        },
        {
          "output_type": "stream",
          "name": "stderr",
          "text": [
            "Saved 1 image to \u001b[1m/content/sad/done637\u001b[0m\n",
            "Saved results to /content/sad/done637\n",
            "\n"
          ]
        },
        {
          "output_type": "stream",
          "name": "stdout",
          "text": [
            "--------------------------------------------------\n",
            "The-Neighbour.jpg\n"
          ]
        },
        {
          "output_type": "stream",
          "name": "stderr",
          "text": [
            "Saved 1 image to \u001b[1m/content/sad/done638\u001b[0m\n",
            "Saved results to /content/sad/done638\n",
            "\n",
            "Saved 1 image to \u001b[1m/content/sad/done639\u001b[0m\n"
          ]
        },
        {
          "output_type": "stream",
          "name": "stdout",
          "text": [
            "--------------------------------------------------\n",
            "kitab-ka-raaz-ep4.jpg\n"
          ]
        },
        {
          "output_type": "stream",
          "name": "stderr",
          "text": [
            "Saved results to /content/sad/done639\n",
            "\n"
          ]
        },
        {
          "output_type": "stream",
          "name": "stdout",
          "text": [
            "--------------------------------------------------\n",
            "jara-dhire-dhire-ep2.jpg\n"
          ]
        },
        {
          "output_type": "stream",
          "name": "stderr",
          "text": [
            "Saved 1 image to \u001b[1m/content/sad/done640\u001b[0m\n",
            "Saved results to /content/sad/done640\n",
            "\n"
          ]
        },
        {
          "output_type": "stream",
          "name": "stdout",
          "text": [
            "--------------------------------------------------\n",
            "Tharki-Baba.jpg\n"
          ]
        },
        {
          "output_type": "stream",
          "name": "stderr",
          "text": [
            "Saved 1 image to \u001b[1m/content/sad/done641\u001b[0m\n",
            "Saved results to /content/sad/done641\n",
            "\n"
          ]
        },
        {
          "output_type": "stream",
          "name": "stdout",
          "text": [
            "--------------------------------------------------\n",
            "ghar-ka-call-boy-ep4.jpg\n"
          ]
        },
        {
          "output_type": "stream",
          "name": "stderr",
          "text": [
            "Saved 1 image to \u001b[1m/content/sad/done642\u001b[0m\n",
            "Saved results to /content/sad/done642\n",
            "\n"
          ]
        },
        {
          "output_type": "stream",
          "name": "stdout",
          "text": [
            "--------------------------------------------------\n",
            "malai-ep1.jpg\n"
          ]
        },
        {
          "output_type": "stream",
          "name": "stderr",
          "text": [
            "Saved 1 image to \u001b[1m/content/sad/done643\u001b[0m\n",
            "Saved results to /content/sad/done643\n",
            "\n"
          ]
        },
        {
          "output_type": "stream",
          "name": "stdout",
          "text": [
            "--------------------------------------------------\n",
            "nath-ep6.jpg\n"
          ]
        },
        {
          "output_type": "stream",
          "name": "stderr",
          "text": [
            "Saved 1 image to \u001b[1m/content/sad/done644\u001b[0m\n",
            "Saved results to /content/sad/done644\n",
            "\n"
          ]
        },
        {
          "output_type": "stream",
          "name": "stdout",
          "text": [
            "--------------------------------------------------\n",
            "Adhuri-Pyaas-ep2.jpg\n"
          ]
        },
        {
          "output_type": "stream",
          "name": "stderr",
          "text": [
            "Saved 1 image to \u001b[1m/content/sad/done645\u001b[0m\n",
            "Saved results to /content/sad/done645\n",
            "\n",
            "Saved 1 image to \u001b[1m/content/sad/done646\u001b[0m\n",
            "Saved results to /content/sad/done646\n",
            "\n"
          ]
        },
        {
          "output_type": "stream",
          "name": "stdout",
          "text": [
            "--------------------------------------------------\n",
            "IMG_1652455805656.jpg\n",
            "--------------------------------------------------\n",
            "hgds.jpg\n"
          ]
        },
        {
          "output_type": "stream",
          "name": "stderr",
          "text": [
            "Saved 1 image to \u001b[1m/content/sad/done647\u001b[0m\n",
            "Saved results to /content/sad/done647\n",
            "\n"
          ]
        },
        {
          "output_type": "stream",
          "name": "stdout",
          "text": [
            "--------------------------------------------------\n",
            "charam-uncut.jpg\n"
          ]
        },
        {
          "output_type": "stream",
          "name": "stderr",
          "text": [
            "Saved 1 image to \u001b[1m/content/sad/done648\u001b[0m\n",
            "Saved results to /content/sad/done648\n",
            "\n"
          ]
        },
        {
          "output_type": "stream",
          "name": "stdout",
          "text": [
            "--------------------------------------------------\n",
            "Mere-Sapno-Ki-Rani-ep1.jpg\n"
          ]
        },
        {
          "output_type": "stream",
          "name": "stderr",
          "text": [
            "Saved 1 image to \u001b[1m/content/sad/done649\u001b[0m\n",
            "Saved results to /content/sad/done649\n",
            "\n"
          ]
        },
        {
          "output_type": "stream",
          "name": "stdout",
          "text": [
            "--------------------------------------------------\n",
            "dsvdsvsdve.jpg\n"
          ]
        },
        {
          "output_type": "stream",
          "name": "stderr",
          "text": [
            "Saved 1 image to \u001b[1m/content/sad/done650\u001b[0m\n",
            "Saved results to /content/sad/done650\n",
            "\n"
          ]
        },
        {
          "output_type": "stream",
          "name": "stdout",
          "text": [
            "--------------------------------------------------\n",
            "gachi4.jpg\n"
          ]
        },
        {
          "output_type": "stream",
          "name": "stderr",
          "text": [
            "Saved 1 image to \u001b[1m/content/sad/done651\u001b[0m\n",
            "Saved results to /content/sad/done651\n",
            "\n"
          ]
        },
        {
          "output_type": "stream",
          "name": "stdout",
          "text": [
            "--------------------------------------------------\n",
            "IMG_1660560337358.jpg\n"
          ]
        },
        {
          "output_type": "stream",
          "name": "stderr",
          "text": [
            "Saved 1 image to \u001b[1m/content/sad/done652\u001b[0m\n",
            "Saved results to /content/sad/done652\n",
            "\n"
          ]
        },
        {
          "output_type": "stream",
          "name": "stdout",
          "text": [
            "--------------------------------------------------\n",
            "PYAASI-DULHAN.jpg\n"
          ]
        },
        {
          "output_type": "stream",
          "name": "stderr",
          "text": [
            "Saved 1 image to \u001b[1m/content/sad/done653\u001b[0m\n",
            "Saved results to /content/sad/done653\n",
            "\n"
          ]
        },
        {
          "output_type": "stream",
          "name": "stdout",
          "text": [
            "--------------------------------------------------\n",
            "Sexiest-Mommy-Part-2-.jpg\n"
          ]
        },
        {
          "output_type": "stream",
          "name": "stderr",
          "text": [
            "Saved 1 image to \u001b[1m/content/sad/done654\u001b[0m\n",
            "Saved results to /content/sad/done654\n",
            "\n"
          ]
        },
        {
          "output_type": "stream",
          "name": "stdout",
          "text": [
            "--------------------------------------------------\n",
            "IMG_1651429214970.jpg\n"
          ]
        },
        {
          "output_type": "stream",
          "name": "stderr",
          "text": [
            "Saved 1 image to \u001b[1m/content/sad/done655\u001b[0m\n",
            "Saved results to /content/sad/done655\n",
            "\n"
          ]
        },
        {
          "output_type": "stream",
          "name": "stdout",
          "text": [
            "--------------------------------------------------\n",
            "tehdsfgdh.jpg\n"
          ]
        },
        {
          "output_type": "stream",
          "name": "stderr",
          "text": [
            "Saved 1 image to \u001b[1m/content/sad/done656\u001b[0m\n",
            "Saved results to /content/sad/done656\n",
            "\n",
            "Saved 1 image to \u001b[1m/content/sad/done657\u001b[0m\n",
            "Saved results to /content/sad/done657\n",
            "\n"
          ]
        },
        {
          "output_type": "stream",
          "name": "stdout",
          "text": [
            "--------------------------------------------------\n",
            "IMG_1647867067641.jpg\n",
            "--------------------------------------------------\n",
            "IMG_1648912547326.jpg\n"
          ]
        },
        {
          "output_type": "stream",
          "name": "stderr",
          "text": [
            "Saved 1 image to \u001b[1m/content/sad/done658\u001b[0m\n",
            "Saved results to /content/sad/done658\n",
            "\n"
          ]
        },
        {
          "output_type": "stream",
          "name": "stdout",
          "text": [
            "--------------------------------------------------\n",
            "AFTER-SCHOOL.jpg\n"
          ]
        },
        {
          "output_type": "stream",
          "name": "stderr",
          "text": [
            "Saved 1 image to \u001b[1m/content/sad/done659\u001b[0m\n",
            "Saved results to /content/sad/done659\n",
            "\n"
          ]
        },
        {
          "output_type": "stream",
          "name": "stdout",
          "text": [
            "--------------------------------------------------\n",
            "MRDSE6.jpg\n"
          ]
        },
        {
          "output_type": "stream",
          "name": "stderr",
          "text": [
            "Saved 1 image to \u001b[1m/content/sad/done660\u001b[0m\n",
            "Saved results to /content/sad/done660\n",
            "\n"
          ]
        },
        {
          "output_type": "stream",
          "name": "stdout",
          "text": [
            "--------------------------------------------------\n",
            "IMG_1646489000436.jpg\n"
          ]
        },
        {
          "output_type": "stream",
          "name": "stderr",
          "text": [
            "Saved 1 image to \u001b[1m/content/sad/done661\u001b[0m\n",
            "Saved results to /content/sad/done661\n",
            "\n"
          ]
        },
        {
          "output_type": "stream",
          "name": "stdout",
          "text": [
            "--------------------------------------------------\n",
            "IMG_1650558830731.jpg\n"
          ]
        },
        {
          "output_type": "stream",
          "name": "stderr",
          "text": [
            "Saved 1 image to \u001b[1m/content/sad/done662\u001b[0m\n",
            "Saved results to /content/sad/done662\n",
            "\n"
          ]
        },
        {
          "output_type": "stream",
          "name": "stdout",
          "text": [
            "--------------------------------------------------\n",
            "room-service-ep2.jpg\n"
          ]
        },
        {
          "output_type": "stream",
          "name": "stderr",
          "text": [
            "Saved 1 image to \u001b[1m/content/sad/done663\u001b[0m\n",
            "Saved results to /content/sad/done663\n",
            "\n"
          ]
        },
        {
          "output_type": "stream",
          "name": "stdout",
          "text": [
            "--------------------------------------------------\n",
            "IMG_1645882552560.jpg\n"
          ]
        },
        {
          "output_type": "stream",
          "name": "stderr",
          "text": [
            "Saved 1 image to \u001b[1m/content/sad/done664\u001b[0m\n",
            "Saved results to /content/sad/done664\n",
            "\n"
          ]
        },
        {
          "output_type": "stream",
          "name": "stdout",
          "text": [
            "--------------------------------------------------\n",
            "Teacher-S01E02.jpg\n"
          ]
        },
        {
          "output_type": "stream",
          "name": "stderr",
          "text": [
            "Saved 1 image to \u001b[1m/content/sad/done665\u001b[0m\n",
            "Saved results to /content/sad/done665\n",
            "\n"
          ]
        },
        {
          "output_type": "stream",
          "name": "stdout",
          "text": [
            "--------------------------------------------------\n",
            "download.jpeg-2-1.jpg\n"
          ]
        },
        {
          "output_type": "stream",
          "name": "stderr",
          "text": [
            "Saved 1 image to \u001b[1m/content/sad/done666\u001b[0m\n",
            "Saved results to /content/sad/done666\n",
            "\n"
          ]
        },
        {
          "output_type": "stream",
          "name": "stdout",
          "text": [
            "--------------------------------------------------\n",
            "8LSdSe3.jpg\n"
          ]
        },
        {
          "output_type": "stream",
          "name": "stderr",
          "text": [
            "Saved 1 image to \u001b[1m/content/sad/done667\u001b[0m\n",
            "Saved results to /content/sad/done667\n",
            "\n"
          ]
        },
        {
          "output_type": "stream",
          "name": "stdout",
          "text": [
            "--------------------------------------------------\n",
            "Siskiyaan-6.jpg\n"
          ]
        },
        {
          "output_type": "stream",
          "name": "stderr",
          "text": [
            "Saved 1 image to \u001b[1m/content/sad/done668\u001b[0m\n",
            "Saved results to /content/sad/done668\n",
            "\n"
          ]
        },
        {
          "output_type": "stream",
          "name": "stdout",
          "text": [
            "--------------------------------------------------\n",
            "nai-naveli.jpg\n"
          ]
        },
        {
          "output_type": "stream",
          "name": "stderr",
          "text": [
            "Saved 1 image to \u001b[1m/content/sad/done669\u001b[0m\n",
            "Saved results to /content/sad/done669\n",
            "\n"
          ]
        },
        {
          "output_type": "stream",
          "name": "stdout",
          "text": [
            "--------------------------------------------------\n",
            "IMG_1648531957722.jpg\n"
          ]
        },
        {
          "output_type": "stream",
          "name": "stderr",
          "text": [
            "Saved 1 image to \u001b[1m/content/sad/done670\u001b[0m\n",
            "Saved results to /content/sad/done670\n",
            "\n"
          ]
        },
        {
          "output_type": "stream",
          "name": "stdout",
          "text": [
            "--------------------------------------------------\n",
            "IMG_1656422780376.jpg\n"
          ]
        },
        {
          "output_type": "stream",
          "name": "stderr",
          "text": [
            "Saved 1 image to \u001b[1m/content/sad/done671\u001b[0m\n",
            "Saved results to /content/sad/done671\n",
            "\n"
          ]
        },
        {
          "output_type": "stream",
          "name": "stdout",
          "text": [
            "--------------------------------------------------\n",
            "Prehedar2.2022.E2.jpg\n"
          ]
        },
        {
          "output_type": "stream",
          "name": "stderr",
          "text": [
            "Saved 1 image to \u001b[1m/content/sad/done672\u001b[0m\n",
            "Saved results to /content/sad/done672\n",
            "\n"
          ]
        },
        {
          "output_type": "stream",
          "name": "stdout",
          "text": [
            "--------------------------------------------------\n",
            "Prostitute_2.jpg\n"
          ]
        },
        {
          "output_type": "stream",
          "name": "stderr",
          "text": [
            "Saved 1 image to \u001b[1m/content/sad/done673\u001b[0m\n",
            "Saved results to /content/sad/done673\n",
            "\n",
            "Saved 1 image to \u001b[1m/content/sad/done674\u001b[0m\n",
            "Saved results to /content/sad/done674\n",
            "\n"
          ]
        },
        {
          "output_type": "stream",
          "name": "stdout",
          "text": [
            "--------------------------------------------------\n",
            "IMG_1645678394793.jpg\n",
            "--------------------------------------------------\n",
            "Dirty-Doctor.jpg\n"
          ]
        },
        {
          "output_type": "stream",
          "name": "stderr",
          "text": [
            "Saved 1 image to \u001b[1m/content/sad/done675\u001b[0m\n",
            "Saved results to /content/sad/done675\n",
            "\n"
          ]
        },
        {
          "output_type": "stream",
          "name": "stdout",
          "text": [
            "--------------------------------------------------\n",
            "adla-badli-ep2.jpg\n"
          ]
        },
        {
          "output_type": "stream",
          "name": "stderr",
          "text": [
            "Saved 1 image to \u001b[1m/content/sad/done676\u001b[0m\n",
            "Saved results to /content/sad/done676\n",
            "\n"
          ]
        },
        {
          "output_type": "stream",
          "name": "stdout",
          "text": [
            "--------------------------------------------------\n",
            "Ratri-Kawach-Ep2.jpg\n"
          ]
        },
        {
          "output_type": "stream",
          "name": "stderr",
          "text": [
            "Saved 1 image to \u001b[1m/content/sad/done677\u001b[0m\n",
            "Saved results to /content/sad/done677\n",
            "\n"
          ]
        },
        {
          "output_type": "stream",
          "name": "stdout",
          "text": [
            "--------------------------------------------------\n",
            "epp1.jpg\n"
          ]
        },
        {
          "output_type": "stream",
          "name": "stderr",
          "text": [
            "Saved 1 image to \u001b[1m/content/sad/done678\u001b[0m\n",
            "Saved results to /content/sad/done678\n",
            "\n"
          ]
        },
        {
          "output_type": "stream",
          "name": "stdout",
          "text": [
            "--------------------------------------------------\n",
            "Orange-Hooker.jpg\n"
          ]
        },
        {
          "output_type": "stream",
          "name": "stderr",
          "text": [
            "Saved 1 image to \u001b[1m/content/sad/done679\u001b[0m\n",
            "Saved results to /content/sad/done679\n",
            "\n"
          ]
        },
        {
          "output_type": "stream",
          "name": "stdout",
          "text": [
            "--------------------------------------------------\n",
            "Rangeen-Baatein-2-ep2-1.jpg\n"
          ]
        },
        {
          "output_type": "stream",
          "name": "stderr",
          "text": [
            "Saved 1 image to \u001b[1m/content/sad/done680\u001b[0m\n",
            "Saved results to /content/sad/done680\n",
            "\n"
          ]
        },
        {
          "output_type": "stream",
          "name": "stdout",
          "text": [
            "--------------------------------------------------\n",
            "SUNO_2.jpg\n"
          ]
        },
        {
          "output_type": "stream",
          "name": "stderr",
          "text": [
            "Saved 1 image to \u001b[1m/content/sad/done681\u001b[0m\n",
            "Saved results to /content/sad/done681\n",
            "\n"
          ]
        },
        {
          "output_type": "stream",
          "name": "stdout",
          "text": [
            "--------------------------------------------------\n",
            "liAJEgY.jpg\n"
          ]
        },
        {
          "output_type": "stream",
          "name": "stderr",
          "text": [
            "Saved 1 image to \u001b[1m/content/sad/done682\u001b[0m\n",
            "Saved results to /content/sad/done682\n",
            "\n"
          ]
        },
        {
          "output_type": "stream",
          "name": "stdout",
          "text": [
            "--------------------------------------------------\n",
            "ye-ashiqui-ep1.jpg\n"
          ]
        },
        {
          "output_type": "stream",
          "name": "stderr",
          "text": [
            "Saved 1 image to \u001b[1m/content/sad/done683\u001b[0m\n",
            "Saved results to /content/sad/done683\n",
            "\n",
            "Saved 1 image to \u001b[1m/content/sad/done684\u001b[0m\n",
            "Saved results to /content/sad/done684\n",
            "\n"
          ]
        },
        {
          "output_type": "stream",
          "name": "stdout",
          "text": [
            "--------------------------------------------------\n",
            "photographar2.jpg\n",
            "--------------------------------------------------\n",
            "dedi-noukar.jpg\n"
          ]
        },
        {
          "output_type": "stream",
          "name": "stderr",
          "text": [
            "Saved 1 image to \u001b[1m/content/sad/done685\u001b[0m\n",
            "Saved results to /content/sad/done685\n",
            "\n"
          ]
        },
        {
          "output_type": "stream",
          "name": "stdout",
          "text": [
            "--------------------------------------------------\n",
            "Secretary-ep1.jpg\n"
          ]
        },
        {
          "output_type": "stream",
          "name": "stderr",
          "text": [
            "Saved 1 image to \u001b[1m/content/sad/done686\u001b[0m\n",
            "Saved results to /content/sad/done686\n",
            "\n"
          ]
        },
        {
          "output_type": "stream",
          "name": "stdout",
          "text": [
            "--------------------------------------------------\n",
            "Neon-Green-Gradient-Fitness-YouTube-Thumbnail-1-1.jpg\n"
          ]
        },
        {
          "output_type": "stream",
          "name": "stderr",
          "text": [
            "Saved 1 image to \u001b[1m/content/sad/done687\u001b[0m\n",
            "Saved results to /content/sad/done687\n",
            "\n",
            "Saved 1 image to \u001b[1m/content/sad/done688\u001b[0m\n",
            "Saved results to /content/sad/done688\n",
            "\n"
          ]
        },
        {
          "output_type": "stream",
          "name": "stdout",
          "text": [
            "--------------------------------------------------\n",
            "IMG_20220215_215829.png\n",
            "--------------------------------------------------\n",
            "Nikah-1.jpg\n"
          ]
        },
        {
          "output_type": "stream",
          "name": "stderr",
          "text": [
            "Saved 1 image to \u001b[1m/content/sad/done689\u001b[0m\n",
            "Saved results to /content/sad/done689\n",
            "\n"
          ]
        },
        {
          "output_type": "stream",
          "name": "stdout",
          "text": [
            "--------------------------------------------------\n",
            "Khalish-ep4.jpg\n"
          ]
        },
        {
          "output_type": "stream",
          "name": "stderr",
          "text": [
            "Saved 1 image to \u001b[1m/content/sad/done690\u001b[0m\n",
            "Saved results to /content/sad/done690\n",
            "\n",
            "Saved 1 image to \u001b[1m/content/sad/done691\u001b[0m\n",
            "Saved results to /content/sad/done691\n",
            "\n"
          ]
        },
        {
          "output_type": "stream",
          "name": "stdout",
          "text": [
            "--------------------------------------------------\n",
            "yoga-class.jpg\n",
            "--------------------------------------------------\n",
            "r8.jpg\n"
          ]
        },
        {
          "output_type": "stream",
          "name": "stderr",
          "text": [
            "Saved 1 image to \u001b[1m/content/sad/done692\u001b[0m\n",
            "Saved results to /content/sad/done692\n",
            "\n"
          ]
        },
        {
          "output_type": "stream",
          "name": "stdout",
          "text": [
            "--------------------------------------------------\n",
            "Sreeragam-ep1.jpg\n"
          ]
        },
        {
          "output_type": "stream",
          "name": "stderr",
          "text": [
            "Saved 1 image to \u001b[1m/content/sad/done693\u001b[0m\n",
            "Saved results to /content/sad/done693\n",
            "\n"
          ]
        },
        {
          "output_type": "stream",
          "name": "stdout",
          "text": [
            "--------------------------------------------------\n",
            "teushan-techar-ep3.jpg\n"
          ]
        },
        {
          "output_type": "stream",
          "name": "stderr",
          "text": [
            "Saved 1 image to \u001b[1m/content/sad/done694\u001b[0m\n",
            "Saved results to /content/sad/done694\n",
            "\n",
            "Saved 1 image to \u001b[1m/content/sad/done695\u001b[0m\n",
            "Saved results to /content/sad/done695\n",
            "\n"
          ]
        },
        {
          "output_type": "stream",
          "name": "stdout",
          "text": [
            "--------------------------------------------------\n",
            "IMG_1654825844230.jpg\n",
            "--------------------------------------------------\n",
            "Kamasuthram-ep2.jpg\n"
          ]
        },
        {
          "output_type": "stream",
          "name": "stderr",
          "text": [
            "Saved 1 image to \u001b[1m/content/sad/done696\u001b[0m\n",
            "Saved results to /content/sad/done696\n",
            "\n",
            "Saved 1 image to \u001b[1m/content/sad/done697\u001b[0m\n",
            "Saved results to /content/sad/done697\n",
            "\n"
          ]
        },
        {
          "output_type": "stream",
          "name": "stdout",
          "text": [
            "--------------------------------------------------\n",
            "download.jpeg-1.jpg\n",
            "--------------------------------------------------\n",
            "desi-tadka.jpg\n"
          ]
        },
        {
          "output_type": "stream",
          "name": "stderr",
          "text": [
            "Saved 1 image to \u001b[1m/content/sad/done698\u001b[0m\n",
            "Saved results to /content/sad/done698\n",
            "\n"
          ]
        },
        {
          "output_type": "stream",
          "name": "stdout",
          "text": [
            "--------------------------------------------------\n",
            "Ghar-Ka-Call-Boy-1.jpg\n"
          ]
        },
        {
          "output_type": "stream",
          "name": "stderr",
          "text": [
            "Saved 1 image to \u001b[1m/content/sad/done699\u001b[0m\n",
            "Saved results to /content/sad/done699\n",
            "\n",
            "Saved 1 image to \u001b[1m/content/sad/done700\u001b[0m\n",
            "Saved results to /content/sad/done700\n",
            "\n"
          ]
        },
        {
          "output_type": "stream",
          "name": "stdout",
          "text": [
            "--------------------------------------------------\n",
            "IMG_1660973450301.jpg\n",
            "--------------------------------------------------\n",
            "khidki-part-1-ep2.jpg\n"
          ]
        },
        {
          "output_type": "stream",
          "name": "stderr",
          "text": [
            "Saved 1 image to \u001b[1m/content/sad/done701\u001b[0m\n",
            "Saved results to /content/sad/done701\n",
            "\n"
          ]
        },
        {
          "output_type": "stream",
          "name": "stdout",
          "text": [
            "--------------------------------------------------\n",
            "halala-ep1.jpg\n"
          ]
        },
        {
          "output_type": "stream",
          "name": "stderr",
          "text": [
            "Saved 1 image to \u001b[1m/content/sad/done702\u001b[0m\n",
            "Saved results to /content/sad/done702\n",
            "\n"
          ]
        },
        {
          "output_type": "stream",
          "name": "stdout",
          "text": [
            "--------------------------------------------------\n",
            "rajneeti-ep4.jpg\n"
          ]
        },
        {
          "output_type": "stream",
          "name": "stderr",
          "text": [
            "Saved 1 image to \u001b[1m/content/sad/done703\u001b[0m\n",
            "Saved results to /content/sad/done703\n",
            "\n"
          ]
        },
        {
          "output_type": "stream",
          "name": "stdout",
          "text": [
            "--------------------------------------------------\n",
            "Pyar-Idhar-Udhar-ep6.jpg\n"
          ]
        },
        {
          "output_type": "stream",
          "name": "stderr",
          "text": [
            "Saved 1 image to \u001b[1m/content/sad/done704\u001b[0m\n",
            "Saved results to /content/sad/done704\n",
            "\n"
          ]
        },
        {
          "output_type": "stream",
          "name": "stdout",
          "text": [
            "--------------------------------------------------\n",
            "khidki-2ep6.jpg\n"
          ]
        },
        {
          "output_type": "stream",
          "name": "stderr",
          "text": [
            "Saved 1 image to \u001b[1m/content/sad/done705\u001b[0m\n",
            "Saved results to /content/sad/done705\n",
            "\n"
          ]
        },
        {
          "output_type": "stream",
          "name": "stdout",
          "text": [
            "--------------------------------------------------\n",
            "Haramkhor-MooDx-Originals.jpg\n"
          ]
        },
        {
          "output_type": "stream",
          "name": "stderr",
          "text": [
            "Saved 1 image to \u001b[1m/content/sad/done706\u001b[0m\n",
            "Saved results to /content/sad/done706\n",
            "\n"
          ]
        },
        {
          "output_type": "stream",
          "name": "stdout",
          "text": [
            "--------------------------------------------------\n",
            "IMG_1661700048013.jpg\n"
          ]
        },
        {
          "output_type": "stream",
          "name": "stderr",
          "text": [
            "Saved 1 image to \u001b[1m/content/sad/done707\u001b[0m\n",
            "Saved results to /content/sad/done707\n",
            "\n"
          ]
        },
        {
          "output_type": "stream",
          "name": "stdout",
          "text": [
            "--------------------------------------------------\n",
            "SEX-WITH-FRIEND.jpg\n"
          ]
        },
        {
          "output_type": "stream",
          "name": "stderr",
          "text": [
            "Saved 1 image to \u001b[1m/content/sad/done708\u001b[0m\n",
            "Saved results to /content/sad/done708\n",
            "\n"
          ]
        },
        {
          "output_type": "stream",
          "name": "stdout",
          "text": [
            "--------------------------------------------------\n",
            "IMG_1651169148935.jpg\n"
          ]
        },
        {
          "output_type": "stream",
          "name": "stderr",
          "text": [
            "Saved 1 image to \u001b[1m/content/sad/done709\u001b[0m\n",
            "Saved results to /content/sad/done709\n",
            "\n"
          ]
        },
        {
          "output_type": "stream",
          "name": "stdout",
          "text": [
            "--------------------------------------------------\n",
            "Woodpecker_4.jpg\n"
          ]
        },
        {
          "output_type": "stream",
          "name": "stderr",
          "text": [
            "Saved 1 image to \u001b[1m/content/sad/done710\u001b[0m\n",
            "Saved results to /content/sad/done710\n",
            "\n"
          ]
        },
        {
          "output_type": "stream",
          "name": "stdout",
          "text": [
            "--------------------------------------------------\n",
            "Private-Tution-Teacher-OrchidFilm.jpg\n"
          ]
        },
        {
          "output_type": "stream",
          "name": "stderr",
          "text": [
            "Saved 1 image to \u001b[1m/content/sad/done711\u001b[0m\n",
            "Saved results to /content/sad/done711\n",
            "\n"
          ]
        },
        {
          "output_type": "stream",
          "name": "stdout",
          "text": [
            "--------------------------------------------------\n",
            "PROMOTION.jpg\n"
          ]
        },
        {
          "output_type": "stream",
          "name": "stderr",
          "text": [
            "Saved 1 image to \u001b[1m/content/sad/done712\u001b[0m\n",
            "Saved results to /content/sad/done712\n",
            "\n"
          ]
        },
        {
          "output_type": "stream",
          "name": "stdout",
          "text": [
            "--------------------------------------------------\n",
            "IMG_1648534484819.jpg\n"
          ]
        },
        {
          "output_type": "stream",
          "name": "stderr",
          "text": [
            "Saved 1 image to \u001b[1m/content/sad/done713\u001b[0m\n",
            "Saved results to /content/sad/done713\n",
            "\n"
          ]
        },
        {
          "output_type": "stream",
          "name": "stdout",
          "text": [
            "--------------------------------------------------\n",
            "damad-ne-saas-ne-ghapaghap-choda.jpg\n"
          ]
        },
        {
          "output_type": "stream",
          "name": "stderr",
          "text": [
            "Saved 1 image to \u001b[1m/content/sad/done714\u001b[0m\n",
            "Saved results to /content/sad/done714\n",
            "\n"
          ]
        },
        {
          "output_type": "stream",
          "name": "stdout",
          "text": [
            "--------------------------------------------------\n",
            "Kaam-Purush-S01E03-1.jpg\n"
          ]
        },
        {
          "output_type": "stream",
          "name": "stderr",
          "text": [
            "Saved 1 image to \u001b[1m/content/sad/done715\u001b[0m\n",
            "Saved results to /content/sad/done715\n",
            "\n"
          ]
        },
        {
          "output_type": "stream",
          "name": "stdout",
          "text": [
            "--------------------------------------------------\n",
            "Jalebi-ep4.jpg\n"
          ]
        },
        {
          "output_type": "stream",
          "name": "stderr",
          "text": [
            "Saved 1 image to \u001b[1m/content/sad/done716\u001b[0m\n",
            "Saved results to /content/sad/done716\n",
            "\n"
          ]
        },
        {
          "output_type": "stream",
          "name": "stdout",
          "text": [
            "--------------------------------------------------\n",
            "Mere-Sapno-Ki-Rani-ep2.jpg\n"
          ]
        },
        {
          "output_type": "stream",
          "name": "stderr",
          "text": [
            "Saved 1 image to \u001b[1m/content/sad/done717\u001b[0m\n",
            "Saved results to /content/sad/done717\n",
            "\n"
          ]
        },
        {
          "output_type": "stream",
          "name": "stdout",
          "text": [
            "--------------------------------------------------\n",
            "Saheli.Raven-Moives_2.jpg\n"
          ]
        },
        {
          "output_type": "stream",
          "name": "stderr",
          "text": [
            "Saved 1 image to \u001b[1m/content/sad/done718\u001b[0m\n",
            "Saved results to /content/sad/done718\n",
            "\n"
          ]
        },
        {
          "output_type": "stream",
          "name": "stdout",
          "text": [
            "--------------------------------------------------\n",
            "namakep1.jpg\n"
          ]
        },
        {
          "output_type": "stream",
          "name": "stderr",
          "text": [
            "Saved 1 image to \u001b[1m/content/sad/done719\u001b[0m\n",
            "Saved results to /content/sad/done719\n",
            "\n"
          ]
        },
        {
          "output_type": "stream",
          "name": "stdout",
          "text": [
            "--------------------------------------------------\n",
            "juaa-ep1.jpg\n"
          ]
        },
        {
          "output_type": "stream",
          "name": "stderr",
          "text": [
            "Saved 1 image to \u001b[1m/content/sad/done720\u001b[0m\n",
            "Saved results to /content/sad/done720\n",
            "\n"
          ]
        },
        {
          "output_type": "stream",
          "name": "stdout",
          "text": [
            "--------------------------------------------------\n",
            "Rakhail-ep1-1.jpg\n"
          ]
        },
        {
          "output_type": "stream",
          "name": "stderr",
          "text": [
            "Saved 1 image to \u001b[1m/content/sad/done721\u001b[0m\n",
            "Saved results to /content/sad/done721\n",
            "\n"
          ]
        },
        {
          "output_type": "stream",
          "name": "stdout",
          "text": [
            "--------------------------------------------------\n",
            "Rasili-ep6.jpg\n"
          ]
        },
        {
          "output_type": "stream",
          "name": "stderr",
          "text": [
            "Saved 1 image to \u001b[1m/content/sad/done722\u001b[0m\n",
            "Saved results to /content/sad/done722\n",
            "\n"
          ]
        },
        {
          "output_type": "stream",
          "name": "stdout",
          "text": [
            "--------------------------------------------------\n",
            "oddME3W.png\n"
          ]
        },
        {
          "output_type": "stream",
          "name": "stderr",
          "text": [
            "Saved 1 image to \u001b[1m/content/sad/done723\u001b[0m\n",
            "Saved results to /content/sad/done723\n",
            "\n"
          ]
        },
        {
          "output_type": "stream",
          "name": "stdout",
          "text": [
            "--------------------------------------------------\n",
            "hh4.jpg\n"
          ]
        },
        {
          "output_type": "stream",
          "name": "stderr",
          "text": [
            "Saved 1 image to \u001b[1m/content/sad/done724\u001b[0m\n",
            "Saved results to /content/sad/done724\n",
            "\n"
          ]
        },
        {
          "output_type": "stream",
          "name": "stdout",
          "text": [
            "--------------------------------------------------\n",
            "gulabo-e02.jpg\n"
          ]
        },
        {
          "output_type": "stream",
          "name": "stderr",
          "text": [
            "Saved 1 image to \u001b[1m/content/sad/done725\u001b[0m\n",
            "Saved results to /content/sad/done725\n",
            "\n"
          ]
        },
        {
          "output_type": "stream",
          "name": "stdout",
          "text": [
            "--------------------------------------------------\n",
            "The-Exchange-E1.jpg\n"
          ]
        },
        {
          "output_type": "stream",
          "name": "stderr",
          "text": [
            "Saved 1 image to \u001b[1m/content/sad/done726\u001b[0m\n",
            "Saved results to /content/sad/done726\n",
            "\n",
            "Saved 1 image to \u001b[1m/content/sad/done727\u001b[0m\n",
            "Saved results to /content/sad/done727\n",
            "\n"
          ]
        },
        {
          "output_type": "stream",
          "name": "stdout",
          "text": [
            "--------------------------------------------------\n",
            "babu-ji-ep2.jpg\n",
            "--------------------------------------------------\n",
            "Secret-Deal.jpg\n"
          ]
        },
        {
          "output_type": "stream",
          "name": "stderr",
          "text": [
            "Saved 1 image to \u001b[1m/content/sad/done728\u001b[0m\n",
            "Saved results to /content/sad/done728\n",
            "\n"
          ]
        },
        {
          "output_type": "stream",
          "name": "stdout",
          "text": [
            "--------------------------------------------------\n",
            "ooyo-kand-ep2.jpg\n"
          ]
        },
        {
          "output_type": "stream",
          "name": "stderr",
          "text": [
            "Saved 1 image to \u001b[1m/content/sad/done729\u001b[0m\n",
            "Saved results to /content/sad/done729\n",
            "\n",
            "Saved 1 image to \u001b[1m/content/sad/done730\u001b[0m\n",
            "Saved results to /content/sad/done730\n",
            "\n"
          ]
        },
        {
          "output_type": "stream",
          "name": "stdout",
          "text": [
            "--------------------------------------------------\n",
            "Miss-Teacher-2.jpg\n",
            "--------------------------------------------------\n",
            "laachi-ep5.jpg\n"
          ]
        },
        {
          "output_type": "stream",
          "name": "stderr",
          "text": [
            "Saved 1 image to \u001b[1m/content/sad/done731\u001b[0m\n",
            "Saved results to /content/sad/done731\n",
            "\n"
          ]
        },
        {
          "output_type": "stream",
          "name": "stdout",
          "text": [
            "--------------------------------------------------\n",
            "IMG_20220208_074955.jpg\n"
          ]
        },
        {
          "output_type": "stream",
          "name": "stderr",
          "text": [
            "Saved 1 image to \u001b[1m/content/sad/done732\u001b[0m\n",
            "Saved results to /content/sad/done732\n",
            "\n",
            "Saved 1 image to \u001b[1m/content/sad/done733\u001b[0m\n",
            "Saved results to /content/sad/done733\n",
            "\n"
          ]
        },
        {
          "output_type": "stream",
          "name": "stdout",
          "text": [
            "--------------------------------------------------\n",
            "IMG_1657890324660.jpg\n"
          ]
        },
        {
          "output_type": "stream",
          "name": "stderr",
          "text": [
            "Saved 1 image to \u001b[1m/content/sad/done734\u001b[0m\n",
            "Saved results to /content/sad/done734\n",
            "\n"
          ]
        },
        {
          "output_type": "stream",
          "name": "stdout",
          "text": [
            "--------------------------------------------------\n",
            "kuwari-dulhan-ep1.jpg\n",
            "--------------------------------------------------\n",
            "Laila-ep2.jpg\n"
          ]
        },
        {
          "output_type": "stream",
          "name": "stderr",
          "text": [
            "Saved 1 image to \u001b[1m/content/sad/done735\u001b[0m\n",
            "Saved results to /content/sad/done735\n",
            "\n"
          ]
        },
        {
          "output_type": "stream",
          "name": "stdout",
          "text": [
            "--------------------------------------------------\n",
            "mr-teacher-ep4.jpg\n"
          ]
        },
        {
          "output_type": "stream",
          "name": "stderr",
          "text": [
            "Saved 1 image to \u001b[1m/content/sad/done736\u001b[0m\n",
            "Saved results to /content/sad/done736\n",
            "\n"
          ]
        },
        {
          "output_type": "stream",
          "name": "stdout",
          "text": [
            "--------------------------------------------------\n",
            "kelewali.jpg\n"
          ]
        },
        {
          "output_type": "stream",
          "name": "stderr",
          "text": [
            "Saved 1 image to \u001b[1m/content/sad/done737\u001b[0m\n",
            "Saved results to /content/sad/done737\n",
            "\n",
            "Saved 1 image to \u001b[1m/content/sad/done738\u001b[0m\n",
            "Saved results to /content/sad/done738\n",
            "\n"
          ]
        },
        {
          "output_type": "stream",
          "name": "stdout",
          "text": [
            "--------------------------------------------------\n",
            "IMG_1651762340451.jpg\n",
            "--------------------------------------------------\n",
            "y15rnracazpv.jpg\n"
          ]
        },
        {
          "output_type": "stream",
          "name": "stderr",
          "text": [
            "Saved 1 image to \u001b[1m/content/sad/done739\u001b[0m\n",
            "Saved results to /content/sad/done739\n",
            "\n",
            "Saved 1 image to \u001b[1m/content/sad/done740\u001b[0m\n",
            "Saved results to /content/sad/done740\n",
            "\n"
          ]
        },
        {
          "output_type": "stream",
          "name": "stdout",
          "text": [
            "--------------------------------------------------\n",
            "IMG_1648923555473.jpg\n",
            "--------------------------------------------------\n",
            "samay-yaatra-ep3.jpg\n"
          ]
        },
        {
          "output_type": "stream",
          "name": "stderr",
          "text": [
            "Saved 1 image to \u001b[1m/content/sad/done741\u001b[0m\n",
            "Saved results to /content/sad/done741\n",
            "\n"
          ]
        },
        {
          "output_type": "stream",
          "name": "stdout",
          "text": [
            "--------------------------------------------------\n",
            "IMG_1650736011315.jpg\n"
          ]
        },
        {
          "output_type": "stream",
          "name": "stderr",
          "text": [
            "Saved 1 image to \u001b[1m/content/sad/done742\u001b[0m\n",
            "Saved results to /content/sad/done742\n",
            "\n",
            "Saved 1 image to \u001b[1m/content/sad/done743\u001b[0m\n",
            "Saved results to /content/sad/done743\n",
            "\n"
          ]
        },
        {
          "output_type": "stream",
          "name": "stdout",
          "text": [
            "--------------------------------------------------\n",
            "Starngerep2.jpg\n",
            "--------------------------------------------------\n",
            "IMG_20220212_164632.jpg\n"
          ]
        },
        {
          "output_type": "error",
          "ename": "UnidentifiedImageError",
          "evalue": "ignored",
          "traceback": [
            "\u001b[0;31m---------------------------------------------------------------------------\u001b[0m",
            "\u001b[0;31mUnidentifiedImageError\u001b[0m                    Traceback (most recent call last)",
            "\u001b[0;32m<ipython-input-50-0704a3f60a33>\u001b[0m in \u001b[0;36m<cell line: 12>\u001b[0;34m()\u001b[0m\n\u001b[1;32m     15\u001b[0m \u001b[0;34m\u001b[0m\u001b[0m\n\u001b[1;32m     16\u001b[0m     \u001b[0;31m# Inference\u001b[0m\u001b[0;34m\u001b[0m\u001b[0;34m\u001b[0m\u001b[0m\n\u001b[0;32m---> 17\u001b[0;31m     \u001b[0mresults\u001b[0m \u001b[0;34m=\u001b[0m \u001b[0mmodel\u001b[0m\u001b[0;34m(\u001b[0m\u001b[0;34mf\"{folder_path}/{file_name}\"\u001b[0m\u001b[0;34m)\u001b[0m\u001b[0;34m\u001b[0m\u001b[0;34m\u001b[0m\u001b[0m\n\u001b[0m\u001b[1;32m     18\u001b[0m \u001b[0;34m\u001b[0m\u001b[0m\n\u001b[1;32m     19\u001b[0m     \u001b[0;31m# Results\u001b[0m\u001b[0;34m\u001b[0m\u001b[0;34m\u001b[0m\u001b[0m\n",
            "\u001b[0;32m/usr/local/lib/python3.10/dist-packages/torch/nn/modules/module.py\u001b[0m in \u001b[0;36m_call_impl\u001b[0;34m(self, *args, **kwargs)\u001b[0m\n\u001b[1;32m   1499\u001b[0m                 \u001b[0;32mor\u001b[0m \u001b[0m_global_backward_pre_hooks\u001b[0m \u001b[0;32mor\u001b[0m \u001b[0m_global_backward_hooks\u001b[0m\u001b[0;34m\u001b[0m\u001b[0;34m\u001b[0m\u001b[0m\n\u001b[1;32m   1500\u001b[0m                 or _global_forward_hooks or _global_forward_pre_hooks):\n\u001b[0;32m-> 1501\u001b[0;31m             \u001b[0;32mreturn\u001b[0m \u001b[0mforward_call\u001b[0m\u001b[0;34m(\u001b[0m\u001b[0;34m*\u001b[0m\u001b[0margs\u001b[0m\u001b[0;34m,\u001b[0m \u001b[0;34m**\u001b[0m\u001b[0mkwargs\u001b[0m\u001b[0;34m)\u001b[0m\u001b[0;34m\u001b[0m\u001b[0;34m\u001b[0m\u001b[0m\n\u001b[0m\u001b[1;32m   1502\u001b[0m         \u001b[0;31m# Do not call functions when jit is used\u001b[0m\u001b[0;34m\u001b[0m\u001b[0;34m\u001b[0m\u001b[0m\n\u001b[1;32m   1503\u001b[0m         \u001b[0mfull_backward_hooks\u001b[0m\u001b[0;34m,\u001b[0m \u001b[0mnon_full_backward_hooks\u001b[0m \u001b[0;34m=\u001b[0m \u001b[0;34m[\u001b[0m\u001b[0;34m]\u001b[0m\u001b[0;34m,\u001b[0m \u001b[0;34m[\u001b[0m\u001b[0;34m]\u001b[0m\u001b[0;34m\u001b[0m\u001b[0;34m\u001b[0m\u001b[0m\n",
            "\u001b[0;32m/usr/local/lib/python3.10/dist-packages/torch/utils/_contextlib.py\u001b[0m in \u001b[0;36mdecorate_context\u001b[0;34m(*args, **kwargs)\u001b[0m\n\u001b[1;32m    113\u001b[0m     \u001b[0;32mdef\u001b[0m \u001b[0mdecorate_context\u001b[0m\u001b[0;34m(\u001b[0m\u001b[0;34m*\u001b[0m\u001b[0margs\u001b[0m\u001b[0;34m,\u001b[0m \u001b[0;34m**\u001b[0m\u001b[0mkwargs\u001b[0m\u001b[0;34m)\u001b[0m\u001b[0;34m:\u001b[0m\u001b[0;34m\u001b[0m\u001b[0;34m\u001b[0m\u001b[0m\n\u001b[1;32m    114\u001b[0m         \u001b[0;32mwith\u001b[0m \u001b[0mctx_factory\u001b[0m\u001b[0;34m(\u001b[0m\u001b[0;34m)\u001b[0m\u001b[0;34m:\u001b[0m\u001b[0;34m\u001b[0m\u001b[0;34m\u001b[0m\u001b[0m\n\u001b[0;32m--> 115\u001b[0;31m             \u001b[0;32mreturn\u001b[0m \u001b[0mfunc\u001b[0m\u001b[0;34m(\u001b[0m\u001b[0;34m*\u001b[0m\u001b[0margs\u001b[0m\u001b[0;34m,\u001b[0m \u001b[0;34m**\u001b[0m\u001b[0mkwargs\u001b[0m\u001b[0;34m)\u001b[0m\u001b[0;34m\u001b[0m\u001b[0;34m\u001b[0m\u001b[0m\n\u001b[0m\u001b[1;32m    116\u001b[0m \u001b[0;34m\u001b[0m\u001b[0m\n\u001b[1;32m    117\u001b[0m     \u001b[0;32mreturn\u001b[0m \u001b[0mdecorate_context\u001b[0m\u001b[0;34m\u001b[0m\u001b[0;34m\u001b[0m\u001b[0m\n",
            "\u001b[0;32m~/.cache/torch/hub/ultralytics_yolov5_master/models/common.py\u001b[0m in \u001b[0;36mforward\u001b[0;34m(self, ims, size, augment, profile)\u001b[0m\n\u001b[1;32m    682\u001b[0m                 \u001b[0mf\u001b[0m \u001b[0;34m=\u001b[0m \u001b[0;34mf'image{i}'\u001b[0m  \u001b[0;31m# filename\u001b[0m\u001b[0;34m\u001b[0m\u001b[0;34m\u001b[0m\u001b[0m\n\u001b[1;32m    683\u001b[0m                 \u001b[0;32mif\u001b[0m \u001b[0misinstance\u001b[0m\u001b[0;34m(\u001b[0m\u001b[0mim\u001b[0m\u001b[0;34m,\u001b[0m \u001b[0;34m(\u001b[0m\u001b[0mstr\u001b[0m\u001b[0;34m,\u001b[0m \u001b[0mPath\u001b[0m\u001b[0;34m)\u001b[0m\u001b[0;34m)\u001b[0m\u001b[0;34m:\u001b[0m  \u001b[0;31m# filename or uri\u001b[0m\u001b[0;34m\u001b[0m\u001b[0;34m\u001b[0m\u001b[0m\n\u001b[0;32m--> 684\u001b[0;31m                     \u001b[0mim\u001b[0m\u001b[0;34m,\u001b[0m \u001b[0mf\u001b[0m \u001b[0;34m=\u001b[0m \u001b[0mImage\u001b[0m\u001b[0;34m.\u001b[0m\u001b[0mopen\u001b[0m\u001b[0;34m(\u001b[0m\u001b[0mrequests\u001b[0m\u001b[0;34m.\u001b[0m\u001b[0mget\u001b[0m\u001b[0;34m(\u001b[0m\u001b[0mim\u001b[0m\u001b[0;34m,\u001b[0m \u001b[0mstream\u001b[0m\u001b[0;34m=\u001b[0m\u001b[0;32mTrue\u001b[0m\u001b[0;34m)\u001b[0m\u001b[0;34m.\u001b[0m\u001b[0mraw\u001b[0m \u001b[0;32mif\u001b[0m \u001b[0mstr\u001b[0m\u001b[0;34m(\u001b[0m\u001b[0mim\u001b[0m\u001b[0;34m)\u001b[0m\u001b[0;34m.\u001b[0m\u001b[0mstartswith\u001b[0m\u001b[0;34m(\u001b[0m\u001b[0;34m'http'\u001b[0m\u001b[0;34m)\u001b[0m \u001b[0;32melse\u001b[0m \u001b[0mim\u001b[0m\u001b[0;34m)\u001b[0m\u001b[0;34m,\u001b[0m \u001b[0mim\u001b[0m\u001b[0;34m\u001b[0m\u001b[0;34m\u001b[0m\u001b[0m\n\u001b[0m\u001b[1;32m    685\u001b[0m                     \u001b[0mim\u001b[0m \u001b[0;34m=\u001b[0m \u001b[0mnp\u001b[0m\u001b[0;34m.\u001b[0m\u001b[0masarray\u001b[0m\u001b[0;34m(\u001b[0m\u001b[0mexif_transpose\u001b[0m\u001b[0;34m(\u001b[0m\u001b[0mim\u001b[0m\u001b[0;34m)\u001b[0m\u001b[0;34m)\u001b[0m\u001b[0;34m\u001b[0m\u001b[0;34m\u001b[0m\u001b[0m\n\u001b[1;32m    686\u001b[0m                 \u001b[0;32melif\u001b[0m \u001b[0misinstance\u001b[0m\u001b[0;34m(\u001b[0m\u001b[0mim\u001b[0m\u001b[0;34m,\u001b[0m \u001b[0mImage\u001b[0m\u001b[0;34m.\u001b[0m\u001b[0mImage\u001b[0m\u001b[0;34m)\u001b[0m\u001b[0;34m:\u001b[0m  \u001b[0;31m# PIL Image\u001b[0m\u001b[0;34m\u001b[0m\u001b[0;34m\u001b[0m\u001b[0m\n",
            "\u001b[0;32m/usr/local/lib/python3.10/dist-packages/PIL/Image.py\u001b[0m in \u001b[0;36mopen\u001b[0;34m(fp, mode, formats)\u001b[0m\n\u001b[1;32m   3028\u001b[0m     \u001b[0;32mfor\u001b[0m \u001b[0mmessage\u001b[0m \u001b[0;32min\u001b[0m \u001b[0maccept_warnings\u001b[0m\u001b[0;34m:\u001b[0m\u001b[0;34m\u001b[0m\u001b[0;34m\u001b[0m\u001b[0m\n\u001b[1;32m   3029\u001b[0m         \u001b[0mwarnings\u001b[0m\u001b[0;34m.\u001b[0m\u001b[0mwarn\u001b[0m\u001b[0;34m(\u001b[0m\u001b[0mmessage\u001b[0m\u001b[0;34m)\u001b[0m\u001b[0;34m\u001b[0m\u001b[0;34m\u001b[0m\u001b[0m\n\u001b[0;32m-> 3030\u001b[0;31m     raise UnidentifiedImageError(\n\u001b[0m\u001b[1;32m   3031\u001b[0m         \u001b[0;34m\"cannot identify image file %r\"\u001b[0m \u001b[0;34m%\u001b[0m \u001b[0;34m(\u001b[0m\u001b[0mfilename\u001b[0m \u001b[0;32mif\u001b[0m \u001b[0mfilename\u001b[0m \u001b[0;32melse\u001b[0m \u001b[0mfp\u001b[0m\u001b[0;34m)\u001b[0m\u001b[0;34m\u001b[0m\u001b[0;34m\u001b[0m\u001b[0m\n\u001b[1;32m   3032\u001b[0m     )\n",
            "\u001b[0;31mUnidentifiedImageError\u001b[0m: cannot identify image file '/content/sadbhay/IMG_20220212_164632.jpg'"
          ]
        }
      ]
    },
    {
      "cell_type": "code",
      "source": [
        "!ls /content/cropped"
      ],
      "metadata": {
        "id": "her1GfPJIGHK"
      },
      "execution_count": null,
      "outputs": []
    },
    {
      "cell_type": "code",
      "source": [
        "import os\n",
        "\n",
        "folder_path = '/content/sad'  # Specify the main folder path\n",
        "image_files = []  # List to store the image file paths\n",
        "\n",
        "# Recursive function to search for image files in \"crop\" folders\n",
        "def find_image_files(folder):\n",
        "    for root, dirs, files in os.walk(folder):\n",
        "        if 'crops' in root.lower():\n",
        "            for file in files:\n",
        "                # Check if the file is an image\n",
        "                if any(file.lower().endswith(image_ext) for image_ext in ['.jpg', '.jpeg', '.png', '.gif']):\n",
        "                    image_files.append(os.path.join(root, file))\n",
        "\n",
        "# Call the recursive function to find image files in the main folder\n",
        "find_image_files(folder_path)\n",
        "\n",
        "# Print the paths of all image files from \"crop\" folders\n",
        "for image_path in image_files:\n",
        "    !cp $image_path /content/cropped\n",
        "    print(image_path)\n"
      ],
      "metadata": {
        "colab": {
          "base_uri": "https://localhost:8080/"
        },
        "id": "yakL8RwlHJw-",
        "outputId": "e1787ac5-8532-42a2-bbc0-249f61ab8a32"
      },
      "execution_count": null,
      "outputs": [
        {
          "output_type": "stream",
          "name": "stdout",
          "text": [
            "/content/sad/done356/crops/person/IMG_1661410147178.jpg\n",
            "/content/sad/done356/crops/person/IMG_16614101471782.jpg\n",
            "/content/sad/done117/crops/person/IMG_20220219_221006.jpg\n",
            "/content/sad/done261/crops/person/chaska-ep3.jpg\n",
            "/content/sad/done664/crops/person/IMG_1645882552560.jpg\n",
            "/content/sad/done176/crops/person/IMG_1650331276485.jpg\n",
            "/content/sad/done73/crops/person/ROZI-BHABHI-2.jpg\n",
            "/content/sad/done73/crops/person/ROZI-BHABHI-22.jpg\n",
            "/content/sad/done498/crops/person/Sambndh.2022.EP1_2.jpg\n",
            "/content/sad/done498/crops/person/Sambndh.2022.EP1_.jpg\n",
            "/content/sad/done227/crops/person/gachi5.jpg\n",
            "/content/sad/done227/crops/person/gachi52.jpg\n",
            "/content/sad/done539/crops/person/Garmi2.2022.E01.jpg\n",
            "/content/sad/done514/crops/person/vlcsnap-2021-06-13-11h25m07s177.jpg\n",
            "/content/sad/done514/crops/person/vlcsnap-2021-06-13-11h25m07s1772.jpg\n",
            "/content/sad/done144/crops/person/e4.jpg\n",
            "/content/sad/done144/crops/person/e42.jpg\n",
            "/content/sad/done144/crops/person/e43.jpg\n",
            "/content/sad/done547/crops/person/siskiyaan4e3-12.jpg\n",
            "/content/sad/done547/crops/person/siskiyaan4e3-1.jpg\n",
            "/content/sad/done237/crops/person/hawash-ep1.jpg\n",
            "/content/sad/done241/crops/person/kajal-bhabhi-ep1.jpg\n",
            "/content/sad/done706/crops/person/Haramkhor-MooDx-Originals.jpg\n",
            "/content/sad/done605/crops/person/16664910714392.jpg\n",
            "/content/sad/done605/crops/person/1666491071439.jpg\n",
            "/content/sad/done31/crops/person/pahredaar-ep1.jpg\n",
            "/content/sad/done271/crops/person/cxye09rg63ot.jpg\n",
            "/content/sad/done271/crops/person/cxye09rg63ot2.jpg\n",
            "/content/sad/done267/crops/person/xsutra1.jpg\n",
            "/content/sad/done267/crops/person/xsutra12.jpg\n",
            "/content/sad/done114/crops/person/IMG_1646021080180.jpg\n",
            "/content/sad/done114/crops/person/IMG_16460210801802.jpg\n",
            "/content/sad/done501/crops/person/Bidi.22.jpg\n",
            "/content/sad/done501/crops/person/Bidi.2.jpg\n",
            "/content/sad/done479/crops/person/papa-mange-more.jpg\n",
            "/content/sad/done479/crops/person/papa-mange-more2.jpg\n",
            "/content/sad/done232/crops/person/jabran-part-1ep4.jpg\n",
            "/content/sad/done254/crops/person/rocker-ep3.jpg\n",
            "/content/sad/done329/crops/person/pahredar-3ep4.jpg\n",
            "/content/sad/done641/crops/person/Tharki-Baba.jpg\n",
            "/content/sad/done641/crops/person/Tharki-Baba2.jpg\n",
            "/content/sad/done672/crops/person/Prehedar2.2022.E2.jpg\n",
            "/content/sad/done681/crops/person/SUNO_2.jpg\n",
            "/content/sad/done636/crops/person/Big-Boobs-Step-Mother.jpg\n",
            "/content/sad/done636/crops/person/Big-Boobs-Step-Mother2.jpg\n",
            "/content/sad/done636/crops/person/Big-Boobs-Step-Mother3.jpg\n",
            "/content/sad/done304/crops/person/IMG_20220220_111116.jpg\n",
            "/content/sad/done81/crops/person/my-i-come-ep2.jpg\n",
            "/content/sad/done81/crops/person/my-i-come-ep22.jpg\n",
            "/content/sad/done190/crops/person/MISS-BRIGANZA-ep2.jpg\n",
            "/content/sad/done190/crops/person/MISS-BRIGANZA-ep22.jpg\n",
            "/content/sad/done15/crops/person/pahredar-4-ep1.jpg\n",
            "/content/sad/done15/crops/person/pahredar-4-ep12.jpg\n",
            "/content/sad/done338/crops/person/Atmbhabi.12.jpg\n",
            "/content/sad/done338/crops/person/Atmbhabi.1.jpg\n",
            "/content/sad/done340/crops/person/IMG_1648921193271.jpg\n",
            "/content/sad/done149/crops/person/Doctor-Chaurasiya.E06.jpg\n",
            "/content/sad/done149/crops/person/Doctor-Chaurasiya.E062.jpg\n",
            "/content/sad/done461/crops/person/Rikshawala-ep8.jpg\n",
            "/content/sad/done155/crops/person/Roopmati-ep5.jpg\n",
            "/content/sad/done155/crops/person/Roopmati-ep52.jpg\n",
            "/content/sad/done630/crops/person/IMG_1650078871392.jpg\n",
            "/content/sad/done630/crops/person/IMG_16500788713922.jpg\n",
            "/content/sad/done182/crops/person/IMG_1662800886820.jpg\n",
            "/content/sad/done182/crops/person/IMG_16628008868202.jpg\n",
            "/content/sad/done61/crops/person/mohan-chabiwala-ep5.jpg\n",
            "/content/sad/done61/crops/person/mohan-chabiwala-ep52.jpg\n",
            "/content/sad/done239/crops/person/Avihitham-ep2.jpg\n",
            "/content/sad/done239/crops/person/Avihitham-ep22.jpg\n",
            "/content/sad/done275/crops/person/ring-s01e02-gupchup.jpg\n",
            "/content/sad/done251/crops/person/bunty-babli-ep2.jpg\n",
            "/content/sad/done146/crops/person/Ishqiyapa-Part-1-ep1.jpg\n",
            "/content/sad/done92/crops/person/Roopmati-ep6.jpg\n",
            "/content/sad/done92/crops/person/Roopmati-ep63.jpg\n",
            "/content/sad/done92/crops/person/Roopmati-ep62.jpg\n",
            "/content/sad/done593/crops/person/IMG_1658494039048.jpg\n",
            "/content/sad/done666/crops/person/download.jpeg-2-1.jpg\n",
            "/content/sad/done437/crops/person/Khalish-ep5.jpg\n",
            "/content/sad/done437/crops/person/Khalish-ep52.jpg\n",
            "/content/sad/done467/crops/person/Sappu-Ke-Pappu-S01E03-–-2020-–-Hindi-Hot-Web-Series-–-PulsePrime.jpg\n",
            "/content/sad/done266/crops/person/good-luck-ep4.jpg\n",
            "/content/sad/done266/crops/person/good-luck-ep42.jpg\n",
            "/content/sad/done405/crops/person/Do-Haseena-Part2-ep1.jpg\n",
            "/content/sad/done405/crops/person/Do-Haseena-Part2-ep12.jpg\n",
            "/content/sad/done519/crops/person/Surrogate-Mother-fucked.jpg\n",
            "/content/sad/done519/crops/person/Surrogate-Mother-fucked2.jpg\n",
            "/content/sad/done388/crops/person/Guest3_Moment2.jpg\n",
            "/content/sad/done388/crops/person/Guest3_Moment.jpg\n",
            "/content/sad/done75/crops/person/IMG_1651520075087.jpg\n",
            "/content/sad/done75/crops/person/IMG_16515200750872.jpg\n",
            "/content/sad/done72/crops/person/IMG_1648752637291.jpg\n",
            "/content/sad/done72/crops/person/IMG_16487526372912.jpg\n",
            "/content/sad/done177/crops/person/Yessma.jpg\n",
            "/content/sad/done462/crops/person/rain-basera-ep1.jpg\n",
            "/content/sad/done104/crops/person/Jawaani-Janeman-ep1.jpg\n",
            "/content/sad/done568/crops/person/IMG_16613384902802.jpg\n",
            "/content/sad/done568/crops/person/IMG_1661338490280.jpg\n",
            "/content/sad/done707/crops/person/IMG_1661700048013.jpg\n",
            "/content/sad/done217/crops/person/garmi-ep-3.jpg\n",
            "/content/sad/done217/crops/person/garmi-ep-32.jpg\n",
            "/content/sad/done3/crops/person/adla-badli-ep4.jpg\n",
            "/content/sad/done3/crops/person/adla-badli-ep42.jpg\n",
            "/content/sad/done249/crops/person/damad-jiep6.jpg\n",
            "/content/sad/done249/crops/person/damad-jiep63.jpg\n",
            "/content/sad/done249/crops/person/damad-jiep64.jpg\n",
            "/content/sad/done249/crops/person/damad-jiep62.jpg\n",
            "/content/sad/done249/crops/person/damad-jiep65.jpg\n",
            "/content/sad/done552/crops/person/Prmgme.2.jpg\n",
            "/content/sad/done427/crops/person/aunty-ka-pg-ep1.jpg\n",
            "/content/sad/done483/crops/person/jabranep62.jpg\n",
            "/content/sad/done483/crops/person/jabranep6.jpg\n",
            "/content/sad/done459/crops/person/hh53.jpg\n",
            "/content/sad/done459/crops/person/hh5.jpg\n",
            "/content/sad/done459/crops/person/hh52.jpg\n",
            "/content/sad/done284/crops/person/Do-Haseena-2.jpg\n",
            "/content/sad/done727/crops/person/babu-ji-ep2.jpg\n",
            "/content/sad/done727/crops/person/babu-ji-ep22.jpg\n",
            "/content/sad/done202/crops/person/Doctor-Mohini-2.jpg\n",
            "/content/sad/done246/crops/person/IMG_16562639542212.jpg\n",
            "/content/sad/done246/crops/person/IMG_1656263954221.jpg\n",
            "/content/sad/done246/crops/person/IMG_16562639542213.jpg\n",
            "/content/sad/done709/crops/person/IMG_16511691489352.jpg\n",
            "/content/sad/done709/crops/person/IMG_1651169148935.jpg\n",
            "/content/sad/done187/crops/person/Maalpani.2022.E04.jpg\n",
            "/content/sad/done187/crops/person/Maalpani.2022.E042.jpg\n",
            "/content/sad/done430/crops/person/IMG_1648052772770.jpg\n",
            "/content/sad/done403/crops/person/vlcsnap-2021-06-23-21h18m00s379.jpg\n",
            "/content/sad/done588/crops/person/badan-3-ep102.jpg\n",
            "/content/sad/done588/crops/person/badan-3-ep10.jpg\n",
            "/content/sad/done373/crops/person/dhanda.jpg\n",
            "/content/sad/done587/crops/person/chiting-sudipa.jpg\n",
            "/content/sad/done587/crops/person/chiting-sudipa2.jpg\n",
            "/content/sad/done298/crops/person/kiraydar-ep1.jpg\n",
            "/content/sad/done124/crops/person/Good-Night-ep3.jpg\n",
            "/content/sad/done77/crops/person/ep22.jpg\n",
            "/content/sad/done77/crops/person/ep222.jpg\n",
            "/content/sad/done258/crops/person/chameli-bhabhi-ep32.jpg\n",
            "/content/sad/done258/crops/person/chameli-bhabhi-ep3.jpg\n",
            "/content/sad/done258/crops/person/chameli-bhabhi-ep33.jpg\n",
            "/content/sad/done439/crops/person/Sapna-S02-Ep32.jpg\n",
            "/content/sad/done439/crops/person/Sapna-S02-Ep322.jpg\n",
            "/content/sad/done394/crops/person/taak-jhaak-ep45.jpg\n",
            "/content/sad/done394/crops/person/taak-jhaak-ep4.jpg\n",
            "/content/sad/done394/crops/person/taak-jhaak-ep42.jpg\n",
            "/content/sad/done394/crops/person/taak-jhaak-ep44.jpg\n",
            "/content/sad/done394/crops/person/taak-jhaak-ep43.jpg\n",
            "/content/sad/done353/crops/person/kitab-ka-raaz-ep32.jpg\n",
            "/content/sad/done353/crops/person/kitab-ka-raaz-ep3.jpg\n",
            "/content/sad/done229/crops/person/buri-baat-ep-2.jpg\n",
            "/content/sad/done656/crops/person/tehdsfgdh2.jpg\n",
            "/content/sad/done656/crops/person/tehdsfgdh.jpg\n",
            "/content/sad/done363/crops/person/5q6n20g4wo34.jpg\n",
            "/content/sad/done363/crops/person/5q6n20g4wo342.jpg\n",
            "/content/sad/done735/crops/person/Laila-ep2.jpg\n",
            "/content/sad/done735/crops/person/Laila-ep22.jpg\n",
            "/content/sad/done325/crops/person/wmun4z90fval.jpg\n",
            "/content/sad/done689/crops/person/Nikah-12.jpg\n",
            "/content/sad/done689/crops/person/Nikah-1.jpg\n",
            "/content/sad/done238/crops/person/ek-sath-teen-teen-ep1.jpg\n",
            "/content/sad/done238/crops/person/ek-sath-teen-teen-ep12.jpg\n",
            "/content/sad/done98/crops/person/IMG_1657733238836.jpg\n",
            "/content/sad/done581/crops/person/chaddha2.jpg\n",
            "/content/sad/done581/crops/person/chaddha.jpg\n",
            "/content/sad/done76/crops/person/kp08jgert8o9.jpg\n",
            "/content/sad/done76/crops/person/kp08jgert8o92.jpg\n",
            "/content/sad/done645/crops/person/Adhuri-Pyaas-ep2.jpg\n",
            "/content/sad/done417/crops/person/dost-se-pyar.jpg\n",
            "/content/sad/done466/crops/person/Seeti-Maar-Sajanwa-ep6.jpg\n",
            "/content/sad/done623/crops/person/download.jpeg2.jpg\n",
            "/content/sad/done623/crops/person/download.jpeg.jpg\n",
            "/content/sad/done578/crops/person/vlcsnap-2021-06-23-19h18m18s909.jpg\n",
            "/content/sad/done278/crops/person/IMG_1649005793187.jpg\n",
            "/content/sad/done278/crops/person/IMG_16490057931872.jpg\n",
            "/content/sad/done96/crops/person/IMG_1650075459688.jpg\n",
            "/content/sad/done96/crops/person/IMG_16500754596882.jpg\n",
            "/content/sad/done32/crops/person/Sajani-ep2.jpg\n",
            "/content/sad/done109/crops/person/darji-e022.jpg\n",
            "/content/sad/done109/crops/person/darji-e02.jpg\n",
            "/content/sad/done179/crops/person/download.jpeg-1-3.jpg\n",
            "/content/sad/done379/crops/person/Love-guru-session-2-ep1.jpg\n",
            "/content/sad/done625/crops/person/IMG_16560095698953.jpg\n",
            "/content/sad/done625/crops/person/IMG_1656009569895.jpg\n",
            "/content/sad/done625/crops/person/IMG_16560095698952.jpg\n",
            "/content/sad/done690/crops/person/Khalish-ep4.jpg\n",
            "/content/sad/done395/crops/person/Tohfa-ep2.jpg\n",
            "/content/sad/done395/crops/person/Tohfa-ep22.jpg\n",
            "/content/sad/done99/crops/person/lesbian.jpg\n",
            "/content/sad/done99/crops/person/lesbian3.jpg\n",
            "/content/sad/done99/crops/person/lesbian2.jpg\n",
            "/content/sad/done492/crops/person/IMG_16523765960912.jpg\n",
            "/content/sad/done492/crops/person/IMG_1652376596091.jpg\n",
            "/content/sad/done420/crops/person/chaska-ep2.jpg\n",
            "/content/sad/done420/crops/person/chaska-ep22.jpg\n",
            "/content/sad/done721/crops/person/Rakhail-ep1-1.jpg\n",
            "/content/sad/done243/crops/person/Shipra-2022-2.jpg\n",
            "/content/sad/done142/crops/person/yesmemep12.jpg\n",
            "/content/sad/done142/crops/person/yesmemep1.jpg\n",
            "/content/sad/done546/crops/person/photographar1.jpg\n",
            "/content/sad/done127/crops/person/naughty-Ishq-ep2.jpg\n",
            "/content/sad/done64/crops/person/Tere-Jaisa-Yaar-Kaha-ep6.jpg\n",
            "/content/sad/done141/crops/person/Virgin.Bahus_.S01E01.jpg\n",
            "/content/sad/done586/crops/person/sardaar.jpg\n",
            "/content/sad/done351/crops/person/Tenson_Moment.jpg\n",
            "/content/sad/done464/crops/person/begam-ka-kotha-Ep2-.jpg\n",
            "/content/sad/done352/crops/person/IMG_1657207237194.jpg\n",
            "/content/sad/done352/crops/person/IMG_16572072371942.jpg\n",
            "/content/sad/done676/crops/person/adla-badli-ep2.jpg\n",
            "/content/sad/done676/crops/person/adla-badli-ep22.jpg\n",
            "/content/sad/done644/crops/person/nath-ep62.jpg\n",
            "/content/sad/done644/crops/person/nath-ep6.jpg\n",
            "/content/sad/done219/crops/person/DKcAg7w.jpg\n",
            "/content/sad/done364/crops/person/yesmemep3.jpg\n",
            "/content/sad/done364/crops/person/yesmemep32.jpg\n",
            "/content/sad/done309/crops/person/IMG_1646229126545.jpg\n",
            "/content/sad/done737/crops/person/kelewali.jpg\n",
            "/content/sad/done79/crops/person/Nikah-2.jpg\n",
            "/content/sad/done360/crops/person/IMG_1650038990330.jpg\n",
            "/content/sad/done4/crops/person/hb5v1a3uojcf.jpg\n",
            "/content/sad/done215/crops/person/Siskiyaan-1-min.jpg\n",
            "/content/sad/done705/crops/person/khidki-2ep62.jpg\n",
            "/content/sad/done705/crops/person/khidki-2ep6.jpg\n",
            "/content/sad/done555/crops/person/gao-ki-malai-ep2.jpg\n",
            "/content/sad/done115/crops/person/juli-5-1.jpg\n",
            "/content/sad/done654/crops/person/Sexiest-Mommy-Part-2-2.jpg\n",
            "/content/sad/done654/crops/person/Sexiest-Mommy-Part-2-.jpg\n",
            "/content/sad/done312/crops/person/IMG_1661536365365.jpg\n",
            "/content/sad/done277/crops/person/Tere-Jaisa-Yaar-Kaha-ep7.jpg\n",
            "/content/sad/done277/crops/person/Tere-Jaisa-Yaar-Kaha-ep72.jpg\n",
            "/content/sad/done295/crops/person/IMG_1647785582414.jpg\n",
            "/content/sad/done295/crops/person/IMG_16477855824142.jpg\n",
            "/content/sad/done9/crops/person/IMG_1660561383634.jpg\n",
            "/content/sad/done345/crops/person/Desire-2ep13.jpg\n",
            "/content/sad/done345/crops/person/Desire-2ep1.jpg\n",
            "/content/sad/done345/crops/person/Desire-2ep12.jpg\n",
            "/content/sad/done26/crops/person/baby-Marwa-Ke-Manegi-ep2.jpg\n",
            "/content/sad/done374/crops/person/Gadikitab2.2022.E04.jpg\n",
            "/content/sad/done44/crops/person/malai-ep2.jpg\n",
            "/content/sad/done208/crops/person/Pulinchikka-ep2.jpg\n",
            "/content/sad/done475/crops/person/pahredar-4-ep2.jpg\n",
            "/content/sad/done648/crops/person/charam-uncut.jpg\n",
            "/content/sad/done38/crops/person/Bhabi-Ji-Hot-Part-2.jpg\n",
            "/content/sad/done38/crops/person/Bhabi-Ji-Hot-Part-22.jpg\n",
            "/content/sad/done365/crops/person/IMG_1649055910834.jpg\n",
            "/content/sad/done386/crops/person/5jnerkr4ux3u.jpg\n",
            "/content/sad/done386/crops/person/5jnerkr4ux3u2.jpg\n",
            "/content/sad/done733/crops/person/IMG_1657890324660.jpg\n",
            "/content/sad/done5/crops/person/1-4.jpg\n",
            "/content/sad/done473/crops/person/Firangi-Thakurain-ep22.jpg\n",
            "/content/sad/done473/crops/person/Firangi-Thakurain-ep2.jpg\n",
            "/content/sad/done720/crops/person/juaa-ep12.jpg\n",
            "/content/sad/done720/crops/person/juaa-ep1.jpg\n",
            "/content/sad/done624/crops/person/car-washing-ep1.jpg\n",
            "/content/sad/done212/crops/person/rasiliep4.jpg\n",
            "/content/sad/done212/crops/person/rasiliep42.jpg\n",
            "/content/sad/done465/crops/person/iloveyouep1.jpg\n",
            "/content/sad/done231/crops/person/IMG_1657220905207.jpg\n",
            "/content/sad/done231/crops/person/IMG_16572209052072.jpg\n",
            "/content/sad/done452/crops/person/Pulinchikka-ep32.jpg\n",
            "/content/sad/done452/crops/person/Pulinchikka-ep33.jpg\n",
            "/content/sad/done452/crops/person/Pulinchikka-ep3.jpg\n",
            "/content/sad/done412/crops/person/room-service-ep1.jpg\n",
            "/content/sad/done660/crops/person/MRDSE63.jpg\n",
            "/content/sad/done660/crops/person/MRDSE62.jpg\n",
            "/content/sad/done660/crops/person/MRDSE6.jpg\n",
            "/content/sad/done203/crops/person/sahad-part-1.jpg\n",
            "/content/sad/done333/crops/person/juaa-ep3.jpg\n",
            "/content/sad/done171/crops/person/IMG_1655751026557.jpg\n",
            "/content/sad/done584/crops/person/KaroNaa-ep4.jpg\n",
            "/content/sad/done302/crops/person/flat-screen-ep1.jpg\n",
            "/content/sad/done302/crops/person/flat-screen-ep12.jpg\n",
            "/content/sad/done541/crops/person/Babi123.4.jpg\n",
            "/content/sad/done541/crops/person/Babi123.42.jpg\n",
            "/content/sad/done387/crops/person/Ghonchu-EP01.jpg\n",
            "/content/sad/done87/crops/person/kamini-ep3.jpg\n",
            "/content/sad/done86/crops/person/badan-ep2.jpg\n",
            "/content/sad/done86/crops/person/badan-ep22.jpg\n",
            "/content/sad/done350/crops/person/Starngerep12.jpg\n",
            "/content/sad/done350/crops/person/Starngerep1.jpg\n",
            "/content/sad/done66/crops/person/sauteli-ep3.jpg\n",
            "/content/sad/done66/crops/person/sauteli-ep32.jpg\n",
            "/content/sad/done95/crops/person/complimentary-ep2.jpg\n",
            "/content/sad/done95/crops/person/complimentary-ep22.jpg\n",
            "/content/sad/done646/crops/person/IMG_16524558056563.jpg\n",
            "/content/sad/done646/crops/person/IMG_16524558056562.jpg\n",
            "/content/sad/done646/crops/person/IMG_1652455805656.jpg\n",
            "/content/sad/done663/crops/person/room-service-ep2.jpg\n",
            "/content/sad/done80/crops/person/Avantika-ep1.jpg\n",
            "/content/sad/done606/crops/person/IMG_16463747062872.jpg\n",
            "/content/sad/done606/crops/person/IMG_1646374706287.jpg\n",
            "/content/sad/done456/crops/person/dream-girl-ep62.jpg\n",
            "/content/sad/done456/crops/person/dream-girl-ep6.jpg\n",
            "/content/sad/done526/crops/person/blind-love-2.jpg\n",
            "/content/sad/done323/crops/person/dhanno-doodh-wali-ep2.jpg\n",
            "/content/sad/done323/crops/person/dhanno-doodh-wali-ep22.jpg\n",
            "/content/sad/done354/crops/person/malkin-bhabhi3.jpg\n",
            "/content/sad/done354/crops/person/malkin-bhabhi32.jpg\n",
            "/content/sad/done291/crops/person/Laila-2ep4.jpg\n",
            "/content/sad/done543/crops/person/Remote-Control-ep1.jpg\n",
            "/content/sad/done679/crops/person/Orange-Hooker.jpg\n",
            "/content/sad/done497/crops/person/IMG_16605448902232.jpg\n",
            "/content/sad/done497/crops/person/IMG_1660544890223.jpg\n",
            "/content/sad/done711/crops/person/Private-Tution-Teacher-OrchidFilm2.jpg\n",
            "/content/sad/done711/crops/person/Private-Tution-Teacher-OrchidFilm.jpg\n",
            "/content/sad/done310/crops/person/Mere-Sapno-Ki-Rani-ep3.jpg\n",
            "/content/sad/done133/crops/person/Walkman-Part-1ep2.jpg\n",
            "/content/sad/done133/crops/person/Walkman-Part-1ep22.jpg\n",
            "/content/sad/done620/crops/person/Maalpani.2022.E02.jpg\n",
            "/content/sad/done620/crops/person/Maalpani.2022.E022.jpg\n",
            "/content/sad/done50/crops/person/IMG_1658818569529.jpg\n",
            "/content/sad/done50/crops/person/IMG_16588185695292.jpg\n",
            "/content/sad/done347/crops/person/pyar-ki-tadap-ep4.jpg\n",
            "/content/sad/done347/crops/person/pyar-ki-tadap-ep42.jpg\n",
            "/content/sad/done230/crops/person/Chaska-ep5.jpg\n",
            "/content/sad/done230/crops/person/Chaska-ep52.jpg\n",
            "/content/sad/done626/crops/person/juaa-ep6.jpg\n",
            "/content/sad/done300/crops/person/Jalebi-3-ep5.jpg\n",
            "/content/sad/done300/crops/person/Jalebi-3-ep52.jpg\n",
            "/content/sad/done523/crops/person/Gaon-Ki-Garmi-3-ep4.jpg\n",
            "/content/sad/done740/crops/person/IMG_16489235554732.jpg\n",
            "/content/sad/done740/crops/person/IMG_1648923555473.jpg\n",
            "/content/sad/done535/crops/person/IMG_16538801994412.jpg\n",
            "/content/sad/done535/crops/person/IMG_1653880199441.jpg\n",
            "/content/sad/done303/crops/person/vlcsnap-2021-05-29-16h56m49s0742.jpg\n",
            "/content/sad/done303/crops/person/vlcsnap-2021-05-29-16h56m49s074.jpg\n",
            "/content/sad/done571/crops/person/my-i-come-ep3.jpg\n",
            "/content/sad/done233/crops/person/sultanaNiks.jpg\n",
            "/content/sad/done233/crops/person/sultanaNiks2.jpg\n",
            "/content/sad/done478/crops/person/rasiliep3.jpg\n",
            "/content/sad/done332/crops/person/3f69a31a361b5916d4d1f4f451c0d9132.jpg\n",
            "/content/sad/done332/crops/person/3f69a31a361b5916d4d1f4f451c0d913.jpg\n",
            "/content/sad/done729/crops/person/ooyo-kand-ep2.jpg\n",
            "/content/sad/done74/crops/person/bunty-babli-ep3.jpg\n",
            "/content/sad/done207/crops/person/Teacher-No-1.jpg\n",
            "/content/sad/done207/crops/person/Teacher-No-12.jpg\n",
            "/content/sad/done734/crops/person/kuwari-dulhan-ep1.jpg\n",
            "/content/sad/done734/crops/person/kuwari-dulhan-ep12.jpg\n",
            "/content/sad/done113/crops/person/IMG_1656615965279.jpg\n",
            "/content/sad/done113/crops/person/IMG_16566159652792.jpg\n",
            "/content/sad/done287/crops/person/Gupchup.2022.E043.jpg\n",
            "/content/sad/done287/crops/person/Gupchup.2022.E044.jpg\n",
            "/content/sad/done287/crops/person/Gupchup.2022.E04.jpg\n",
            "/content/sad/done287/crops/person/Gupchup.2022.E042.jpg\n",
            "/content/sad/done667/crops/person/8LSdSe32.jpg\n",
            "/content/sad/done667/crops/person/8LSdSe3.jpg\n",
            "/content/sad/done557/crops/person/IMG_1656615967070.jpg\n",
            "/content/sad/done112/crops/person/IMG_1656688298365.jpg\n",
            "/content/sad/done380/crops/person/Sultan-part-1-ep22.jpg\n",
            "/content/sad/done380/crops/person/Sultan-part-1-ep2.jpg\n",
            "/content/sad/done509/crops/person/pinjara-ep12.jpg\n",
            "/content/sad/done509/crops/person/pinjara-ep1.jpg\n",
            "/content/sad/done509/crops/person/pinjara-ep13.jpg\n",
            "/content/sad/done46/crops/person/Devrani-Jethani-Aur-Woh-ep3.jpg\n",
            "/content/sad/done448/crops/person/Gaon-Ki-Garmi-3ep7.jpg\n",
            "/content/sad/done448/crops/person/Gaon-Ki-Garmi-3ep72.jpg\n",
            "/content/sad/done601/crops/person/download.jpeg-9.jpg\n",
            "/content/sad/done534/crops/person/Kaand-E1.jpg\n",
            "/content/sad/done433/crops/person/Babu-ji-ep1.jpg\n",
            "/content/sad/done224/crops/person/taak-jhaak-ep2.jpg\n",
            "/content/sad/done224/crops/person/taak-jhaak-ep22.jpg\n",
            "/content/sad/done614/crops/person/gachi6.jpg\n",
            "/content/sad/done429/crops/person/laachi-ep2.jpg\n",
            "/content/sad/done429/crops/person/laachi-ep22.jpg\n",
            "/content/sad/done138/crops/person/mol-ki-bahu-ep22.jpg\n",
            "/content/sad/done138/crops/person/mol-ki-bahu-ep2.jpg\n",
            "/content/sad/done138/crops/person/mol-ki-bahu-ep23.jpg\n",
            "/content/sad/done486/crops/person/tapan-episode-1.jpg\n",
            "/content/sad/done8/crops/person/Sahara-ep7.jpg\n",
            "/content/sad/done8/crops/person/Sahara-ep72.jpg\n",
            "/content/sad/done561/crops/person/MALLIKA-BEAUTY-SECRET.jpg\n",
            "/content/sad/done503/crops/person/pahredar-3ep1.jpg\n",
            "/content/sad/done618/crops/person/Gunha-Epi-1.jpg\n",
            "/content/sad/done178/crops/person/iloveyouep2.jpg\n",
            "/content/sad/done178/crops/person/iloveyouep22.jpg\n",
            "/content/sad/done91/crops/person/naughty-Ishq-ep1.jpg\n",
            "/content/sad/done603/crops/person/IMG_1650642170805.jpg\n",
            "/content/sad/done100/crops/person/13542.jpg\n",
            "/content/sad/done100/crops/person/135423.jpg\n",
            "/content/sad/done100/crops/person/135422.jpg\n",
            "/content/sad/done123/crops/person/chachi-420.jpg\n",
            "/content/sad/done510/crops/person/devika-ep3-4.jpg\n",
            "/content/sad/done510/crops/person/devika-ep3-3.jpg\n",
            "/content/sad/done510/crops/person/devika-ep3-2.jpg\n",
            "/content/sad/done510/crops/person/devika-ep3-.jpg\n",
            "/content/sad/done533/crops/person/hast-Maithoon-ep22.jpg\n",
            "/content/sad/done533/crops/person/hast-Maithoon-ep2.jpg\n",
            "/content/sad/done533/crops/person/hast-Maithoon-ep23.jpg\n",
            "/content/sad/done713/crops/person/IMG_1648534484819.jpg\n",
            "/content/sad/done713/crops/person/IMG_16485344848192.jpg\n",
            "/content/sad/done726/crops/person/The-Exchange-E12.jpg\n",
            "/content/sad/done726/crops/person/The-Exchange-E1.jpg\n",
            "/content/sad/done701/crops/person/khidki-part-1-ep22.jpg\n",
            "/content/sad/done701/crops/person/khidki-part-1-ep2.jpg\n",
            "/content/sad/done476/crops/person/fragrance2.jpg\n",
            "/content/sad/done476/crops/person/fragrance.jpg\n",
            "/content/sad/done425/crops/person/choti-Bahu-ep5.jpg\n",
            "/content/sad/done425/crops/person/choti-Bahu-ep52.jpg\n",
            "/content/sad/done103/crops/person/Cheat-Dunki-ep2.jpg\n",
            "/content/sad/done103/crops/person/Cheat-Dunki-ep22.jpg\n",
            "/content/sad/done16/crops/person/IMG_1651174876374.jpg\n",
            "/content/sad/done16/crops/person/IMG_16511748763742.jpg\n",
            "/content/sad/done678/crops/person/epp1.jpg\n",
            "/content/sad/done528/crops/person/IMG_1661449415778.jpg\n",
            "/content/sad/done528/crops/person/IMG_16614494157782.jpg\n",
            "/content/sad/done121/crops/person/guptrog-ep2.jpg\n",
            "/content/sad/done346/crops/person/Pichese-S02E06.jpg\n",
            "/content/sad/done390/crops/person/adhuri-aas-ep3.jpg\n",
            "/content/sad/done390/crops/person/adhuri-aas-ep32.jpg\n",
            "/content/sad/done268/crops/person/IMG_1659803048509.jpg\n",
            "/content/sad/done532/crops/person/Dalal-X-1.jpg\n",
            "/content/sad/done532/crops/person/Dalal-X-13.jpg\n",
            "/content/sad/done532/crops/person/Dalal-X-12.jpg\n",
            "/content/sad/done453/crops/person/vlcsnap-2021-04-14-21h30m04s199.jpg\n",
            "/content/sad/done453/crops/person/vlcsnap-2021-04-14-21h30m04s1992.jpg\n",
            "/content/sad/done195/crops/person/Gaon-Ki-Biwi-ep1.jpg\n",
            "/content/sad/done195/crops/person/Gaon-Ki-Biwi-ep12.jpg\n",
            "/content/sad/done607/crops/person/Andha-Dhundh-primeshos.jpg\n",
            "/content/sad/done60/crops/person/tueshan-teacher-ep4.jpg\n",
            "/content/sad/done60/crops/person/tueshan-teacher-ep42.jpg\n",
            "/content/sad/done592/crops/person/Rs1000.2022.E02.Yesma_.jpg\n",
            "/content/sad/done402/crops/person/tadap-ep2.jpg\n",
            "/content/sad/done69/crops/person/Pehredaar-2-ep5.jpg\n",
            "/content/sad/done615/crops/person/Ghar-Sasur-ep73.jpg\n",
            "/content/sad/done615/crops/person/Ghar-Sasur-ep72.jpg\n",
            "/content/sad/done615/crops/person/Ghar-Sasur-ep7.jpg\n",
            "/content/sad/done421/crops/person/one-boy-two-girls.jpg\n",
            "/content/sad/done421/crops/person/one-boy-two-girls2.jpg\n",
            "/content/sad/done211/crops/person/Golu.2.jpg\n",
            "/content/sad/done651/crops/person/gachi4.jpg\n",
            "/content/sad/done651/crops/person/gachi42.jpg\n",
            "/content/sad/done513/crops/person/IMG_1646914988807.jpg\n",
            "/content/sad/done513/crops/person/IMG_16469149888072.jpg\n",
            "/content/sad/done7/crops/person/IMG_1645798208137.jpg\n",
            "/content/sad/done130/crops/person/ek-sath-teen-teen-ep2.jpg\n",
            "/content/sad/done495/crops/person/ooyo-kand-ep32.jpg\n",
            "/content/sad/done495/crops/person/ooyo-kand-ep3.jpg\n",
            "/content/sad/done165/crops/person/download.jpeg-1-1.jpg\n",
            "/content/sad/done629/crops/person/pahredaar-ep32.jpg\n",
            "/content/sad/done629/crops/person/pahredaar-ep3.jpg\n",
            "/content/sad/done629/crops/person/pahredaar-ep33.jpg\n",
            "/content/sad/done201/crops/person/Ghar-Sasur-ep6.jpg\n",
            "/content/sad/done201/crops/person/Ghar-Sasur-ep62.jpg\n",
            "/content/sad/done213/crops/person/1663957618549-convert.io_.jpg\n",
            "/content/sad/done213/crops/person/1663957618549-convert.io_2.jpg\n",
            "/content/sad/done415/crops/person/damad-ji-ep62.jpg\n",
            "/content/sad/done415/crops/person/damad-ji-ep63.jpg\n",
            "/content/sad/done415/crops/person/damad-ji-ep64.jpg\n",
            "/content/sad/done415/crops/person/damad-ji-ep6.jpg\n",
            "/content/sad/done56/crops/person/index.jpg\n",
            "/content/sad/done56/crops/person/index2.jpg\n",
            "/content/sad/done183/crops/person/Desire-2ep2.jpg\n",
            "/content/sad/done183/crops/person/Desire-2ep22.jpg\n",
            "/content/sad/done369/crops/person/vlcsnap-2021-05-21-08h40m47s0802.jpg\n",
            "/content/sad/done369/crops/person/vlcsnap-2021-05-21-08h40m47s080.jpg\n",
            "/content/sad/done128/crops/person/tapan-2-ep-4.jpg\n",
            "/content/sad/done101/crops/person/ep32.jpg\n",
            "/content/sad/done101/crops/person/ep3.jpg\n",
            "/content/sad/done162/crops/person/Gaon-Ki-Garmi-3-ep6.jpg\n",
            "/content/sad/done110/crops/person/IMG_1664955165460.jpg\n",
            "/content/sad/done110/crops/person/IMG_16649551654602.jpg\n",
            "/content/sad/done264/crops/person/IMG_1647525722699.jpg\n",
            "/content/sad/done443/crops/person/Rowdy-girls2.jpg\n",
            "/content/sad/done443/crops/person/Rowdy-girls.jpg\n",
            "/content/sad/done443/crops/person/Rowdy-girls3.jpg\n",
            "/content/sad/done89/crops/person/IMG_1648962796104.jpg\n",
            "/content/sad/done89/crops/person/IMG_16489627961043.jpg\n",
            "/content/sad/done89/crops/person/IMG_16489627961045.jpg\n",
            "/content/sad/done89/crops/person/IMG_16489627961044.jpg\n",
            "/content/sad/done89/crops/person/IMG_16489627961046.jpg\n",
            "/content/sad/done89/crops/person/IMG_16489627961042.jpg\n",
            "/content/sad/done88/crops/person/Naughty-Sister-ep2.jpg\n",
            "/content/sad/done88/crops/person/Naughty-Sister-ep22.jpg\n",
            "/content/sad/done137/crops/person/GuptGyani.E02.jpg\n",
            "/content/sad/done11/crops/person/IMG_1650330618284.jpg\n",
            "/content/sad/done11/crops/person/IMG_16503306182842.jpg\n",
            "/content/sad/done62/crops/person/IMG_1648105480903.jpg\n",
            "/content/sad/done444/crops/person/Farebi-Yaar-Part-2-Ep5.jpg\n",
            "/content/sad/done444/crops/person/Farebi-Yaar-Part-2-Ep52.jpg\n",
            "/content/sad/done319/crops/person/khidki-part-1-ep1.jpg\n",
            "/content/sad/done319/crops/person/khidki-part-1-ep12.jpg\n",
            "/content/sad/done741/crops/person/samay-yaatra-ep3.jpg\n",
            "/content/sad/done741/crops/person/samay-yaatra-ep32.jpg\n",
            "/content/sad/done521/crops/person/IMG_1660474648270.jpg\n",
            "/content/sad/done521/crops/person/IMG_16604746482702.jpg\n",
            "/content/sad/done151/crops/person/promoter-housewife2.jpg\n",
            "/content/sad/done151/crops/person/promoter-housewife.jpg\n",
            "/content/sad/done147/crops/person/Desi-Sabjiwali.jpg\n",
            "/content/sad/done147/crops/person/Desi-Sabjiwali3.jpg\n",
            "/content/sad/done147/crops/person/Desi-Sabjiwali2.jpg\n",
            "/content/sad/done147/crops/person/Desi-Sabjiwali4.jpg\n",
            "/content/sad/done147/crops/person/Desi-Sabjiwali5.jpg\n",
            "/content/sad/done214/crops/person/Online-Romance-Ep1.jpg\n",
            "/content/sad/done548/crops/person/IMG_1658494038501.jpg\n",
            "/content/sad/done458/crops/person/IMG_1647969034589.jpg\n",
            "/content/sad/done633/crops/person/Khalish-ep82.jpg\n",
            "/content/sad/done633/crops/person/Khalish-ep8.jpg\n",
            "/content/sad/done269/crops/person/Feelings2.jpg\n",
            "/content/sad/done269/crops/person/Feelings.jpg\n",
            "/content/sad/done680/crops/person/Rangeen-Baatein-2-ep2-12.jpg\n",
            "/content/sad/done680/crops/person/Rangeen-Baatein-2-ep2-1.jpg\n",
            "/content/sad/done65/crops/person/Grand_Masti.jpg\n",
            "/content/sad/done65/crops/person/Grand_Masti3.jpg\n",
            "/content/sad/done65/crops/person/Grand_Masti2.jpg\n",
            "/content/sad/done65/crops/person/Grand_Masti4.jpg\n",
            "/content/sad/done97/crops/person/jalan-ep5-1.jpg\n",
            "/content/sad/done97/crops/person/jalan-ep5-13.jpg\n",
            "/content/sad/done97/crops/person/jalan-ep5-14.jpg\n",
            "/content/sad/done97/crops/person/jalan-ep5-12.jpg\n",
            "/content/sad/done522/crops/person/IMG_1650791074824.jpg\n",
            "/content/sad/done367/crops/person/pyaas-ep1.jpg\n",
            "/content/sad/done481/crops/person/Shak.2022.E01.jpg\n",
            "/content/sad/done199/crops/person/dnfvdjww5glw.jpg\n",
            "/content/sad/done199/crops/person/dnfvdjww5glw2.jpg\n",
            "/content/sad/done445/crops/person/Seduction.jpg\n",
            "/content/sad/done649/crops/person/Mere-Sapno-Ki-Rani-ep12.jpg\n",
            "/content/sad/done649/crops/person/Mere-Sapno-Ki-Rani-ep1.jpg\n",
            "/content/sad/done132/crops/person/fuljhadi-bhabhi-ep1.jpg\n",
            "/content/sad/done132/crops/person/fuljhadi-bhabhi-ep12.jpg\n",
            "/content/sad/done315/crops/person/watchman-ep4.jpg\n",
            "/content/sad/done608/crops/person/ee92.jpg\n",
            "/content/sad/done608/crops/person/ee9.jpg\n",
            "/content/sad/done537/crops/person/IMG_1646932135689.jpg\n",
            "/content/sad/done537/crops/person/IMG_16469321356892.jpg\n",
            "/content/sad/done377/crops/person/Kodaikanal-ep12.jpg\n",
            "/content/sad/done377/crops/person/Kodaikanal-ep1.jpg\n",
            "/content/sad/done490/crops/person/Farbiishq.2022.E022.jpg\n",
            "/content/sad/done490/crops/person/Farbiishq.2022.E02.jpg\n",
            "/content/sad/done152/crops/person/IMG_1661796369414.jpg\n",
            "/content/sad/done106/crops/person/Ladies-Tailor-ep1.jpg\n",
            "/content/sad/done106/crops/person/Ladies-Tailor-ep12.jpg\n",
            "/content/sad/done327/crops/person/Television-E3-1.jpg\n",
            "/content/sad/done616/crops/person/Kyon-Nahin-Maara-ep4.jpg\n",
            "/content/sad/done683/crops/person/ye-ashiqui-ep1.jpg\n",
            "/content/sad/done247/crops/person/chaska-ep5.jpg\n",
            "/content/sad/done496/crops/person/Rs1000.2022.E01.jpg\n",
            "/content/sad/done502/crops/person/Jalebi-ep3.jpg\n",
            "/content/sad/done647/crops/person/hgds2.jpg\n",
            "/content/sad/done647/crops/person/hgds.jpg\n",
            "/content/sad/done491/crops/person/IMG_16461243185392.jpg\n",
            "/content/sad/done491/crops/person/IMG_16461243185393.jpg\n",
            "/content/sad/done491/crops/person/IMG_1646124318539.jpg\n",
            "/content/sad/done289/crops/person/IMG_20220214_095644.jpg\n",
            "/content/sad/done289/crops/person/IMG_20220214_0956442.jpg\n",
            "/content/sad/done712/crops/person/PROMOTION2.jpg\n",
            "/content/sad/done712/crops/person/PROMOTION.jpg\n",
            "/content/sad/done550/crops/person/download.jpeg-6.jpg\n",
            "/content/sad/done305/crops/person/Farebi-yaar-ep32.jpg\n",
            "/content/sad/done305/crops/person/Farebi-yaar-ep3.jpg\n",
            "/content/sad/done716/crops/person/Jalebi-ep42.jpg\n",
            "/content/sad/done716/crops/person/Jalebi-ep4.jpg\n",
            "/content/sad/done617/crops/person/Yeah-Gandhi-Baat-ep2.jpg\n",
            "/content/sad/done482/crops/person/Laila-2ep32.jpg\n",
            "/content/sad/done482/crops/person/Laila-2ep3.jpg\n",
            "/content/sad/done597/crops/person/IMG_16625234227922.jpg\n",
            "/content/sad/done597/crops/person/IMG_1662523422792.jpg\n",
            "/content/sad/done621/crops/person/IMG_1646907302157.jpg\n",
            "/content/sad/done186/crops/person/Adhuri-Pyaas-ep1.jpg\n",
            "/content/sad/done719/crops/person/namakep1.jpg\n",
            "/content/sad/done313/crops/person/adla-badli-ep5.jpg\n",
            "/content/sad/done313/crops/person/adla-badli-ep52.jpg\n",
            "/content/sad/done313/crops/person/adla-badli-ep53.jpg\n",
            "/content/sad/done725/crops/person/gulabo-e022.jpg\n",
            "/content/sad/done725/crops/person/gulabo-e024.jpg\n",
            "/content/sad/done725/crops/person/gulabo-e02.jpg\n",
            "/content/sad/done725/crops/person/gulabo-e023.jpg\n",
            "/content/sad/done460/crops/person/IMG_16475943369172.jpg\n",
            "/content/sad/done460/crops/person/IMG_1647594336917.jpg\n",
            "/content/sad/done134/crops/person/k5tr7lg71e1o.jpg\n",
            "/content/sad/done40/crops/person/shahad-p2.jpg\n",
            "/content/sad/done286/crops/person/sasur-ji.jpg\n",
            "/content/sad/done604/crops/person/Ghar-Sasur-ep2-2.jpg\n",
            "/content/sad/done604/crops/person/Ghar-Sasur-ep2-.jpg\n",
            "/content/sad/done205/crops/person/chupan-chupai-ep4-1.jpg\n",
            "/content/sad/done205/crops/person/chupan-chupai-ep4-12.jpg\n",
            "/content/sad/done21/crops/person/chakhna.jpg\n",
            "/content/sad/done21/crops/person/chakhna2.jpg\n",
            "/content/sad/done637/crops/person/Love-Guru-1.jpg\n",
            "/content/sad/done93/crops/person/blind-kotha-ep1.jpg\n",
            "/content/sad/done93/crops/person/blind-kotha-ep12.jpg\n",
            "/content/sad/done125/crops/person/paglet3-ep4.jpg\n",
            "/content/sad/done174/crops/person/Gulabo-ep3.jpg\n",
            "/content/sad/done259/crops/person/Sainyaa-Salman-ep4.jpg\n",
            "/content/sad/done494/crops/person/Mudhal-Sambavamep2.jpg\n",
            "/content/sad/done136/crops/person/the-hot-girl2.jpg\n",
            "/content/sad/done136/crops/person/the-hot-girl.jpg\n",
            "/content/sad/done378/crops/person/photographar4.jpg\n",
            "/content/sad/done378/crops/person/photographar42.jpg\n",
            "/content/sad/done515/crops/person/Shahad-ep4.jpg\n",
            "/content/sad/done499/crops/person/4qUeqKV2.jpg\n",
            "/content/sad/done499/crops/person/4qUeqKV.jpg\n",
            "/content/sad/done640/crops/person/jara-dhire-dhire-ep22.jpg\n",
            "/content/sad/done640/crops/person/jara-dhire-dhire-ep2.jpg\n",
            "/content/sad/done39/crops/person/Mauj-Masti-ep3.jpg\n",
            "/content/sad/done48/crops/person/IMG_1648489949518.jpg\n",
            "/content/sad/done48/crops/person/IMG_16484899495183.jpg\n",
            "/content/sad/done48/crops/person/IMG_16484899495184.jpg\n",
            "/content/sad/done48/crops/person/IMG_16484899495182.jpg\n",
            "/content/sad/done321/crops/person/Antrvasna.2022.E2.jpg\n",
            "/content/sad/done321/crops/person/Antrvasna.2022.E22.jpg\n",
            "/content/sad/done285/crops/person/Hope-5-3.jpg\n",
            "/content/sad/done285/crops/person/Hope-5-.jpg\n",
            "/content/sad/done285/crops/person/Hope-5-2.jpg\n",
            "/content/sad/done285/crops/person/Hope-5-4.jpg\n",
            "/content/sad/done84/crops/person/Selinte-Tuition-Class-ep1.jpg\n",
            "/content/sad/done129/crops/person/honey-trap-ep1.jpg\n",
            "/content/sad/done245/crops/person/IMG_1660295023488.jpg\n",
            "/content/sad/done743/crops/person/Starngerep22.jpg\n",
            "/content/sad/done743/crops/person/Starngerep2.jpg\n",
            "/content/sad/done226/crops/person/Psycho-Saiyan-ep2.jpg\n",
            "/content/sad/done226/crops/person/Psycho-Saiyan-ep22.jpg\n",
            "/content/sad/done226/crops/person/Psycho-Saiyan-ep23.jpg\n",
            "/content/sad/done59/crops/person/IMG_1648490544932.jpg\n",
            "/content/sad/done695/crops/person/IMG_1654825844230.jpg\n",
            "/content/sad/done695/crops/person/IMG_16548258442302.jpg\n",
            "/content/sad/done158/crops/person/watchman-ep3.jpg\n",
            "/content/sad/done511/crops/person/Ling-X-E032.jpg\n",
            "/content/sad/done511/crops/person/Ling-X-E03.jpg\n",
            "/content/sad/done511/crops/person/Ling-X-E033.jpg\n",
            "/content/sad/done58/crops/person/ullu-e2-1.jpg\n",
            "/content/sad/done163/crops/person/Devrani-Jethani-Aur-Woh-ep1.jpg\n",
            "/content/sad/done163/crops/person/Devrani-Jethani-Aur-Woh-ep12.jpg\n",
            "/content/sad/done516/crops/person/Adhi-Gharwali-.jpg\n",
            "/content/sad/done33/crops/person/Maayan-3.jpg\n",
            "/content/sad/done33/crops/person/Maayan-32.jpg\n",
            "/content/sad/done180/crops/person/klpd.jpg\n",
            "/content/sad/done180/crops/person/klpd2.jpg\n",
            "/content/sad/done628/crops/person/Sali-Ke-Kaand-ep13.jpg\n",
            "/content/sad/done628/crops/person/Sali-Ke-Kaand-ep1.jpg\n",
            "/content/sad/done628/crops/person/Sali-Ke-Kaand-ep12.jpg\n",
            "/content/sad/done385/crops/person/paglet3-ep52.jpg\n",
            "/content/sad/done385/crops/person/paglet3-ep5.jpg\n",
            "/content/sad/done166/crops/person/nighty-student.jpg\n",
            "/content/sad/done166/crops/person/nighty-student2.jpg\n",
            "/content/sad/done175/crops/person/Naughty-Sister.jpg\n",
            "/content/sad/done175/crops/person/Naughty-Sister2.jpg\n",
            "/content/sad/done209/crops/person/aapbiti-ep1.jpg\n",
            "/content/sad/done140/crops/person/nath-ep4.jpg\n",
            "/content/sad/done68/crops/person/jaaneanjanem6ep2.jpg\n",
            "/content/sad/done399/crops/person/IMG_1652098098040.jpg\n",
            "/content/sad/done361/crops/person/IMG_1649841886166.jpg\n",
            "/content/sad/done531/crops/person/IMG_1652383393155.jpg\n",
            "/content/sad/done531/crops/person/IMG_16523833931552.jpg\n",
            "/content/sad/done2/crops/person/IMG_1651986981717.jpg\n",
            "/content/sad/done572/crops/person/Tere-Jaisa-Yaar-Kaha-ep5.jpg\n",
            "/content/sad/done572/crops/person/Tere-Jaisa-Yaar-Kaha-ep52.jpg\n",
            "/content/sad/done102/crops/person/Kamala.jpg\n",
            "/content/sad/done102/crops/person/Kamala2.jpg\n",
            "/content/sad/done551/crops/person/flat-screen-ep22.jpg\n",
            "/content/sad/done551/crops/person/flat-screen-ep2.jpg\n",
            "/content/sad/done78/crops/person/mr-teacher-ep1.jpg\n",
            "/content/sad/done78/crops/person/mr-teacher-ep12.jpg\n",
            "/content/sad/done554/crops/person/Blackmail-ep2.jpg\n",
            "/content/sad/done722/crops/person/Rasili-ep62.jpg\n",
            "/content/sad/done722/crops/person/Rasili-ep6.jpg\n",
            "/content/sad/done281/crops/person/manchaha-ep2-2.jpg\n",
            "/content/sad/done281/crops/person/manchaha-ep2-.jpg\n",
            "/content/sad/done718/crops/person/Saheli.Raven-Moives_2.jpg\n",
            "/content/sad/done732/crops/person/IMG_20220208_0749553.jpg\n",
            "/content/sad/done732/crops/person/IMG_20220208_074955.jpg\n",
            "/content/sad/done732/crops/person/IMG_20220208_0749554.jpg\n",
            "/content/sad/done732/crops/person/IMG_20220208_0749552.jpg\n",
            "/content/sad/done422/crops/person/Lilly-bhabhi2.jpg\n",
            "/content/sad/done422/crops/person/Lilly-bhabhi.jpg\n",
            "/content/sad/done710/crops/person/Woodpecker_4.jpg\n",
            "/content/sad/done710/crops/person/Woodpecker_42.jpg\n",
            "/content/sad/done577/crops/person/n0jpq7rfjhjx2.jpg\n",
            "/content/sad/done577/crops/person/n0jpq7rfjhjx.jpg\n",
            "/content/sad/done381/crops/person/mami-bhanji-ep2.jpg\n",
            "/content/sad/done349/crops/person/IMG_1662185111230.jpg\n",
            "/content/sad/done253/crops/person/Gunha-1.jpg\n",
            "/content/sad/done563/crops/person/Drlily.2022.E012.jpg\n",
            "/content/sad/done694/crops/person/teushan-techar-ep33.jpg\n",
            "/content/sad/done694/crops/person/teushan-techar-ep3.jpg\n",
            "/content/sad/done694/crops/person/teushan-techar-ep32.jpg\n",
            "/content/sad/done564/crops/person/Drlily.2022.E032.jpg\n",
            "/content/sad/done564/crops/person/Drlily.2022.E03.jpg\n",
            "/content/sad/done560/crops/person/IMG_1646215780995.jpg\n",
            "/content/sad/done181/crops/person/Jalebi-ep52.jpg\n",
            "/content/sad/done181/crops/person/Jalebi-ep5.jpg\n",
            "/content/sad/done263/crops/person/Roopmati-ep1.jpg\n",
            "/content/sad/done263/crops/person/Roopmati-ep12.jpg\n",
            "/content/sad/done135/crops/person/hamari-sapna-bhabhi-ep3.jpg\n",
            "/content/sad/done739/crops/person/y15rnracazpv.jpg\n",
            "/content/sad/done739/crops/person/y15rnracazpv2.jpg\n",
            "/content/sad/done22/crops/person/Amrapali4.jpg\n",
            "/content/sad/done22/crops/person/Amrapali42.jpg\n",
            "/content/sad/done314/crops/person/Ratri-Kawach-ep4.jpg\n",
            "/content/sad/done471/crops/person/IMG_1648753077722.jpg\n",
            "/content/sad/done348/crops/person/Khalish-ep7.jpg\n",
            "/content/sad/done83/crops/person/Salman-Ep4.jpg\n",
            "/content/sad/done83/crops/person/Salman-Ep42.jpg\n",
            "/content/sad/done396/crops/person/online-ishq-43.jpg\n",
            "/content/sad/done396/crops/person/online-ishq-4.jpg\n",
            "/content/sad/done396/crops/person/online-ishq-42.jpg\n",
            "/content/sad/done396/crops/person/online-ishq-44.jpg\n",
            "/content/sad/done45/crops/person/IMG_1645797588024.jpg\n",
            "/content/sad/done488/crops/person/1665584362820.jpg\n",
            "/content/sad/done335/crops/person/lifeinsurance2.jpg\n",
            "/content/sad/done335/crops/person/lifeinsurance22.jpg\n",
            "/content/sad/done506/crops/person/hanymoon-2.jpg\n",
            "/content/sad/done506/crops/person/hanymoon-22.jpg\n",
            "/content/sad/done642/crops/person/ghar-ka-call-boy-ep4.jpg\n",
            "/content/sad/done642/crops/person/ghar-ka-call-boy-ep42.jpg\n",
            "/content/sad/done575/crops/person/pbynby0cp3k7.jpg\n",
            "/content/sad/done438/crops/person/Sauteleep22.jpg\n",
            "/content/sad/done438/crops/person/Sauteleep2.jpg\n",
            "/content/sad/done424/crops/person/vlcsnap-2021-06-22-12h52m32s881.jpg\n",
            "/content/sad/done424/crops/person/vlcsnap-2021-06-22-12h52m32s8812.jpg\n",
            "/content/sad/done643/crops/person/malai-ep12.jpg\n",
            "/content/sad/done643/crops/person/malai-ep1.jpg\n",
            "/content/sad/done94/crops/person/IMG_1647625632344.jpg\n",
            "/content/sad/done94/crops/person/IMG_16476256323443.jpg\n",
            "/content/sad/done94/crops/person/IMG_16476256323442.jpg\n",
            "/content/sad/done371/crops/person/purani-haveli-ep1.jpg\n",
            "/content/sad/done193/crops/person/Ghar-Sasur-ep1-.jpg\n",
            "/content/sad/done524/crops/person/ep3-1.jpg\n",
            "/content/sad/done52/crops/person/badan-3-ep9.jpg\n",
            "/content/sad/done52/crops/person/badan-3-ep92.jpg\n",
            "/content/sad/done52/crops/person/badan-3-ep93.jpg\n",
            "/content/sad/done221/crops/person/Mangalik-3-4.jpg\n",
            "/content/sad/done221/crops/person/Mangalik-3-43.jpg\n",
            "/content/sad/done221/crops/person/Mangalik-3-42.jpg\n",
            "/content/sad/done24/crops/person/Lela.3.jpg\n",
            "/content/sad/done24/crops/person/Lela.32.jpg\n",
            "/content/sad/done485/crops/person/manchaha-ep12.jpg\n",
            "/content/sad/done485/crops/person/manchaha-ep1.jpg\n",
            "/content/sad/done691/crops/person/yoga-class.jpg\n",
            "/content/sad/done442/crops/person/duhan-e01.jpg\n",
            "/content/sad/done708/crops/person/SEX-WITH-FRIEND2.jpg\n",
            "/content/sad/done708/crops/person/SEX-WITH-FRIEND.jpg\n",
            "/content/sad/done703/crops/person/rajneeti-ep42.jpg\n",
            "/content/sad/done703/crops/person/rajneeti-ep4.jpg\n",
            "/content/sad/done375/crops/person/Farebi.2022.Leo_.jpg\n",
            "/content/sad/done411/crops/person/Dhundh-ep1.jpg\n",
            "/content/sad/done248/crops/person/JaanBujKar_2.jpg\n",
            "/content/sad/done248/crops/person/JaanBujKar_22.jpg\n",
            "/content/sad/done505/crops/person/IMG_1652032127110.jpg\n",
            "/content/sad/done191/crops/person/IMG_1655751027102.jpg\n",
            "/content/sad/done297/crops/person/Gaon-Ki-Garmi-3-ep2.jpg\n",
            "/content/sad/done297/crops/person/Gaon-Ki-Garmi-3-ep22.jpg\n",
            "/content/sad/done35/crops/person/gandi-baat-ep2.jpg\n",
            "/content/sad/done671/crops/person/IMG_1656422780376.jpg\n",
            "/content/sad/done154/crops/person/IMG_1661670551446.jpg\n",
            "/content/sad/done154/crops/person/IMG_16616705514462.jpg\n",
            "/content/sad/done697/crops/person/download.jpeg-1.jpg\n",
            "/content/sad/done697/crops/person/download.jpeg-12.jpg\n",
            "/content/sad/done397/crops/person/IMG_1646290081317.jpg\n",
            "/content/sad/done82/crops/person/mardana-sasur-2-ep3.jpg\n",
            "/content/sad/done82/crops/person/mardana-sasur-2-ep32.jpg\n",
            "/content/sad/done23/crops/person/IMG_1662963257715.jpg\n",
            "/content/sad/done337/crops/person/Khalish-ep9.jpg\n",
            "/content/sad/done337/crops/person/Khalish-ep92.jpg\n",
            "/content/sad/done631/crops/person/Miss-Teacher-12.jpg\n",
            "/content/sad/done631/crops/person/Miss-Teacher-13.jpg\n",
            "/content/sad/done631/crops/person/Miss-Teacher-1.jpg\n",
            "/content/sad/done400/crops/person/Ghar-Sasur-ep52.jpg\n",
            "/content/sad/done400/crops/person/Ghar-Sasur-ep5.jpg\n",
            "/content/sad/done669/crops/person/nai-naveli3.jpg\n",
            "/content/sad/done669/crops/person/nai-naveli.jpg\n",
            "/content/sad/done669/crops/person/nai-naveli2.jpg\n",
            "/content/sad/done686/crops/person/Secretary-ep1.jpg\n",
            "/content/sad/done54/crops/person/309081349_1-1.jpg\n",
            "/content/sad/done54/crops/person/309081349_1-12.jpg\n",
            "/content/sad/done544/crops/person/Drlily.2022.E045.jpg\n",
            "/content/sad/done544/crops/person/Drlily.2022.E04.jpg\n",
            "/content/sad/done544/crops/person/Drlily.2022.E043.jpg\n",
            "/content/sad/done544/crops/person/Drlily.2022.E044.jpg\n",
            "/content/sad/done544/crops/person/Drlily.2022.E042.jpg\n",
            "/content/sad/done569/crops/person/pahredar-3ep3.jpg\n",
            "/content/sad/done14/crops/person/Sundara-Bhabhi-Returns.jpg\n",
            "/content/sad/done392/crops/person/IMG_1660973449189.jpg\n",
            "/content/sad/done265/crops/person/amar-boudi.jpg\n",
            "/content/sad/done282/crops/person/Step-Daddy-Punishes-Step-Daughter.jpg\n",
            "/content/sad/done282/crops/person/Step-Daddy-Punishes-Step-Daughter2.jpg\n",
            "/content/sad/done389/crops/person/Chaska-ep4.jpg\n",
            "/content/sad/done389/crops/person/Chaska-ep42.jpg\n",
            "/content/sad/done358/crops/person/IMG_1646763392422.jpg\n",
            "/content/sad/done105/crops/person/Prem-Leela-ep2.jpg\n",
            "/content/sad/done469/crops/person/complimentary-ep1.jpg\n",
            "/content/sad/done665/crops/person/Teacher-S01E02.jpg\n",
            "/content/sad/done122/crops/person/Maa-Devrani3-1.jpg\n",
            "/content/sad/done370/crops/person/85fnuaxny8ly.jpg\n",
            "/content/sad/done542/crops/person/Khat-Shala-S01E042.jpg\n",
            "/content/sad/done542/crops/person/Khat-Shala-S01E04.jpg\n",
            "/content/sad/done674/crops/person/IMG_16456783947932.jpg\n",
            "/content/sad/done674/crops/person/IMG_1645678394793.jpg\n",
            "/content/sad/done70/crops/person/IMG_1651298588976.jpg\n",
            "/content/sad/done627/crops/person/Akgg-kooku_Moment1.jpg\n",
            "/content/sad/done484/crops/person/palang-tod-siskiyaan-3-ep2.jpg\n",
            "/content/sad/done441/crops/person/jabran-part1-ep2.jpg\n",
            "/content/sad/done441/crops/person/jabran-part1-ep22.jpg\n",
            "/content/sad/done670/crops/person/IMG_16485319577222.jpg\n",
            "/content/sad/done670/crops/person/IMG_1648531957722.jpg\n",
            "/content/sad/done715/crops/person/Kaam-Purush-S01E03-1.jpg\n",
            "/content/sad/done34/crops/person/favoriteteacherep-04-mkv-20220211-072046-587.jpg\n",
            "/content/sad/done736/crops/person/mr-teacher-ep42.jpg\n",
            "/content/sad/done736/crops/person/mr-teacher-ep4.jpg\n",
            "/content/sad/done37/crops/person/love-bites-eortv-episode2.jpg\n",
            "/content/sad/done168/crops/person/dirty-didike-sath.jpg\n",
            "/content/sad/done168/crops/person/dirty-didike-sath2.jpg\n",
            "/content/sad/done126/crops/person/Dhokha-ep1.jpg\n",
            "/content/sad/done108/crops/person/IMG_1653199888630.jpg\n",
            "/content/sad/done108/crops/person/IMG_16531998886302.jpg\n",
            "/content/sad/done336/crops/person/98da99ec46308b2c446cb46bbb5f0a0e.th_.jpg\n",
            "/content/sad/done204/crops/person/Lahore-Diaries-ep1.jpg\n",
            "/content/sad/done652/crops/person/IMG_16605603373582.jpg\n",
            "/content/sad/done652/crops/person/IMG_16605603373583.jpg\n",
            "/content/sad/done652/crops/person/IMG_1660560337358.jpg\n",
            "/content/sad/done169/crops/person/IMG_1649179338859.jpg\n",
            "/content/sad/done317/crops/person/IMG_1651517635956.jpg\n",
            "/content/sad/done317/crops/person/IMG_16515176359563.jpg\n",
            "/content/sad/done317/crops/person/IMG_16515176359562.jpg\n",
            "/content/sad/done693/crops/person/Sreeragam-ep1.jpg\n",
            "/content/sad/done449/crops/person/IMG_16625253658632.jpg\n",
            "/content/sad/done449/crops/person/IMG_1662525365863.jpg\n",
            "/content/sad/done426/crops/person/kamini-ep2.jpg\n",
            "/content/sad/done426/crops/person/kamini-ep22.jpg\n",
            "/content/sad/done426/crops/person/kamini-ep23.jpg\n",
            "/content/sad/done447/crops/person/pyar-idhar-udhar-ep4.jpg\n",
            "/content/sad/done574/crops/person/IMG_1650074240285.jpg\n",
            "/content/sad/done225/crops/person/INTEKAM-EP1_Moment.jpg\n",
            "/content/sad/done25/crops/person/Rikshawala-ep7.jpg\n",
            "/content/sad/done25/crops/person/Rikshawala-ep72.jpg\n",
            "/content/sad/done549/crops/person/mr-teacher-ep2.jpg\n",
            "/content/sad/done549/crops/person/mr-teacher-ep23.jpg\n",
            "/content/sad/done549/crops/person/mr-teacher-ep22.jpg\n",
            "/content/sad/done330/crops/person/Naadani-Halkut.jpg\n",
            "/content/sad/done470/crops/person/brithday-ep22.jpg\n",
            "/content/sad/done470/crops/person/brithday-ep2.jpg\n",
            "/content/sad/done692/crops/person/r82.jpg\n",
            "/content/sad/done692/crops/person/r8.jpg\n",
            "/content/sad/done468/crops/person/Kaand-E2.jpg\n",
            "/content/sad/done468/crops/person/Kaand-E22.jpg\n",
            "/content/sad/done131/crops/person/Personal-Secretary-Sunidhi.jpg\n",
            "/content/sad/done545/crops/person/297114198_0-8.jpg\n",
            "/content/sad/done639/crops/person/kitab-ka-raaz-ep4.jpg\n",
            "/content/sad/done639/crops/person/kitab-ka-raaz-ep42.jpg\n",
            "/content/sad/done301/crops/person/IMG_1649644466657.jpg\n",
            "/content/sad/done301/crops/person/IMG_16496444666572.jpg\n",
            "/content/sad/done252/crops/person/begam-ka-kotha-Ep3-.jpg\n",
            "/content/sad/done252/crops/person/begam-ka-kotha-Ep3-3.jpg\n",
            "/content/sad/done252/crops/person/begam-ka-kotha-Ep3-2.jpg\n",
            "/content/sad/done525/crops/person/hope-ep1.jpg\n",
            "/content/sad/done687/crops/person/Neon-Green-Gradient-Fitness-YouTube-Thumbnail-1-12.jpg\n",
            "/content/sad/done687/crops/person/Neon-Green-Gradient-Fitness-YouTube-Thumbnail-1-1.jpg\n",
            "/content/sad/done653/crops/person/PYAASI-DULHAN.jpg\n",
            "/content/sad/done675/crops/person/Dirty-Doctor.jpg\n",
            "/content/sad/done675/crops/person/Dirty-Doctor2.jpg\n",
            "/content/sad/done696/crops/person/Kamasuthram-ep2.jpg\n",
            "/content/sad/done197/crops/person/Gubare-Wali-ep2.jpg\n",
            "/content/sad/done36/crops/person/mini-1-1.jpg\n",
            "/content/sad/done36/crops/person/mini-1-12.jpg\n",
            "/content/sad/done500/crops/person/nadaan-ep7.jpg\n",
            "/content/sad/done145/crops/person/ranjish-ep3.jpg\n",
            "/content/sad/done145/crops/person/ranjish-ep32.jpg\n",
            "/content/sad/done20/crops/person/maalamaal-ep6.jpg\n",
            "/content/sad/done20/crops/person/maalamaal-ep62.jpg\n",
            "/content/sad/done20/crops/person/maalamaal-ep63.jpg\n",
            "/content/sad/done731/crops/person/laachi-ep5.jpg\n",
            "/content/sad/done731/crops/person/laachi-ep52.jpg\n",
            "/content/sad/done331/crops/person/IMG_16458492633403.jpg\n",
            "/content/sad/done331/crops/person/IMG_1645849263340.jpg\n",
            "/content/sad/done331/crops/person/IMG_16458492633402.jpg\n",
            "/content/sad/done579/crops/person/blackmail-ep32.jpg\n",
            "/content/sad/done579/crops/person/blackmail-ep3.jpg\n",
            "/content/sad/done220/crops/person/IMG_1661533612148.jpg\n",
            "/content/sad/done220/crops/person/IMG_16615336121482.jpg\n",
            "/content/sad/done293/crops/person/sajani-ep3.jpg\n",
            "/content/sad/done293/crops/person/sajani-ep32.jpg\n",
            "/content/sad/done28/crops/person/mol-ki-bahu-ep1.jpg\n",
            "/content/sad/done28/crops/person/mol-ki-bahu-ep12.jpg\n",
            "/content/sad/done455/crops/person/Wrong-Turn1-12.jpg\n",
            "/content/sad/done455/crops/person/Wrong-Turn1-1.jpg\n",
            "/content/sad/done222/crops/person/4-SUM-02-1.jpg\n",
            "/content/sad/done222/crops/person/4-SUM-02-12.jpg\n",
            "/content/sad/done599/crops/person/IMG_1661670550899.jpg\n",
            "/content/sad/done599/crops/person/IMG_16616705508992.jpg\n",
            "/content/sad/done240/crops/person/sex-game.jpg\n",
            "/content/sad/done43/crops/person/atm-bhabhi-s01e06.jpg\n",
            "/content/sad/done272/crops/person/samay-yaatra-ep2.jpg\n",
            "/content/sad/done272/crops/person/samay-yaatra-ep22.jpg\n",
            "/content/sad/done150/crops/person/Gubare-Wali-ep1.jpg\n",
            "/content/sad/done244/crops/person/dhokebaaz.jpg\n",
            "/content/sad/done244/crops/person/dhokebaaz2.jpg\n",
            "/content/sad/done677/crops/person/Ratri-Kawach-Ep2.jpg\n",
            "/content/sad/done504/crops/person/Gaon-Ki-Garmi-3ep5.jpg\n",
            "/content/sad/done582/crops/person/Desi-Majdur-Ki-Patni2.jpg\n",
            "/content/sad/done582/crops/person/Desi-Majdur-Ki-Patni4.jpg\n",
            "/content/sad/done582/crops/person/Desi-Majdur-Ki-Patni.jpg\n",
            "/content/sad/done582/crops/person/Desi-Majdur-Ki-Patni5.jpg\n",
            "/content/sad/done582/crops/person/Desi-Majdur-Ki-Patni3.jpg\n",
            "/content/sad/done30/crops/person/Firangi-Thakurain-ep1.jpg\n",
            "/content/sad/done30/crops/person/Firangi-Thakurain-ep12.jpg\n",
            "/content/sad/done634/crops/person/Gaon-Ki-Garmi-3ep8.jpg\n",
            "/content/sad/done409/crops/person/Ragging-ep2.jpg\n",
            "/content/sad/done13/crops/person/Jane-Anjane-Mein-5.jpg\n",
            "/content/sad/done13/crops/person/Jane-Anjane-Mein-52.jpg\n",
            "/content/sad/done702/crops/person/halala-ep12.jpg\n",
            "/content/sad/done702/crops/person/halala-ep1.jpg\n",
            "/content/sad/done276/crops/person/3w739i97onoh.jpg\n",
            "/content/sad/done276/crops/person/3w739i97onoh2.jpg\n",
            "/content/sad/done418/crops/person/IMG_1646246053524.jpg\n",
            "/content/sad/done418/crops/person/IMG_16462460535242.jpg\n",
            "/content/sad/done111/crops/person/Ghar-Sasur-ep4.jpg\n",
            "/content/sad/done299/crops/person/play-boy-2-fliz.jpg\n",
            "/content/sad/done299/crops/person/play-boy-2-fliz2.jpg\n",
            "/content/sad/done685/crops/person/dedi-noukar.jpg\n",
            "/content/sad/done685/crops/person/dedi-noukar2.jpg\n",
            "/content/sad/done635/crops/person/IMG_1646741504585.jpg\n",
            "/content/sad/done567/crops/person/bidaai-ep32.jpg\n",
            "/content/sad/done567/crops/person/bidaai-ep3.jpg\n",
            "/content/sad/done472/crops/person/aPfS2dT.jpg\n",
            "/content/sad/done324/crops/person/qJVkv6w.jpg\n",
            "/content/sad/done398/crops/person/bhookh-ep1.jpg\n",
            "/content/sad/done398/crops/person/bhookh-ep13.jpg\n",
            "/content/sad/done398/crops/person/bhookh-ep12.jpg\n",
            "/content/sad/done655/crops/person/IMG_1651429214970.jpg\n",
            "/content/sad/done659/crops/person/AFTER-SCHOOL3.jpg\n",
            "/content/sad/done659/crops/person/AFTER-SCHOOL4.jpg\n",
            "/content/sad/done659/crops/person/AFTER-SCHOOL.jpg\n",
            "/content/sad/done659/crops/person/AFTER-SCHOOL5.jpg\n",
            "/content/sad/done659/crops/person/AFTER-SCHOOL6.jpg\n",
            "/content/sad/done659/crops/person/AFTER-SCHOOL2.jpg\n",
            "/content/sad/done316/crops/person/Paglet.2022.E03.jpg\n",
            "/content/sad/done316/crops/person/Paglet.2022.E032.jpg\n",
            "/content/sad/done306/crops/person/dream-girl-ep3.jpg\n",
            "/content/sad/done306/crops/person/dream-girl-ep32.jpg\n",
            "/content/sad/done326/crops/person/sush-bhabhi.jpg\n",
            "/content/sad/done307/crops/person/Maala-Maal-ep3.jpg\n",
            "/content/sad/done372/crops/person/Manchaha-ep4.jpg\n",
            "/content/sad/done372/crops/person/Manchaha-ep42.jpg\n",
            "/content/sad/done668/crops/person/Siskiyaan-62.jpg\n",
            "/content/sad/done668/crops/person/Siskiyaan-6.jpg\n",
            "/content/sad/done622/crops/person/1osTUja2.jpg\n",
            "/content/sad/done622/crops/person/1osTUja.jpg\n",
            "/content/sad/done440/crops/person/IMG_1646283258662.jpg\n",
            "/content/sad/done423/crops/person/MEOW-CAT2.jpg\n",
            "/content/sad/done423/crops/person/MEOW-CAT.jpg\n",
            "/content/sad/done196/crops/person/naajayaz-rishteep1.jpg\n",
            "/content/sad/done320/crops/person/walkman-ep-5.jpg\n",
            "/content/sad/done320/crops/person/walkman-ep-52.jpg\n",
            "/content/sad/done576/crops/person/hope-ep4.jpg\n",
            "/content/sad/done383/crops/person/rain-basera-ep62.jpg\n",
            "/content/sad/done383/crops/person/rain-basera-ep6.jpg\n",
            "/content/sad/done173/crops/person/sweety-bhabhi2.jpg\n",
            "/content/sad/done173/crops/person/sweety-bhabhi.jpg\n",
            "/content/sad/done118/crops/person/babu-ji-ep6.jpg\n",
            "/content/sad/done118/crops/person/babu-ji-ep62.jpg\n",
            "/content/sad/done118/crops/person/babu-ji-ep63.jpg\n",
            "/content/sad/done517/crops/person/Stranger.S01E0442.jpg\n",
            "/content/sad/done517/crops/person/Stranger.S01E044.jpg\n",
            "/content/sad/done47/crops/person/Kulta3.Moodx_.jpg\n",
            "/content/sad/done47/crops/person/Kulta3.Moodx_2.jpg\n",
            "/content/sad/done216/crops/person/IMG_16475956927722.jpg\n",
            "/content/sad/done216/crops/person/IMG_1647595692772.jpg\n",
            "/content/sad/done194/crops/person/Dirty-Entertainer-ep3.jpg\n",
            "/content/sad/done480/crops/person/bathtub.jpg\n",
            "/content/sad/done480/crops/person/bathtub2.jpg\n",
            "/content/sad/done339/crops/person/kalpana-ep1.jpg\n",
            "/content/sad/done339/crops/person/kalpana-ep12.jpg\n",
            "/content/sad/done308/crops/person/Psycho-Saiyan-ep1.jpg\n",
            "/content/sad/done170/crops/person/IMG_1651777279287.jpg\n",
            "/content/sad/done18/crops/person/Hardcore-Fuck-with-Step-Sister.jpg\n",
            "/content/sad/done18/crops/person/Hardcore-Fuck-with-Step-Sister3.jpg\n",
            "/content/sad/done18/crops/person/Hardcore-Fuck-with-Step-Sister4.jpg\n",
            "/content/sad/done18/crops/person/Hardcore-Fuck-with-Step-Sister2.jpg\n",
            "/content/sad/done410/crops/person/pahredaar-ep4.jpg\n",
            "/content/sad/done410/crops/person/pahredaar-ep42.jpg\n",
            "/content/sad/done172/crops/person/Khatshala-3-ep2.jpg\n",
            "/content/sad/done160/crops/person/Devrani-Jethani-Aur-Woh-ep42.jpg\n",
            "/content/sad/done160/crops/person/Devrani-Jethani-Aur-Woh-ep4.jpg\n",
            "/content/sad/done334/crops/person/ranjish-ep5.jpg\n",
            "/content/sad/done416/crops/person/ju8-2.jpg\n",
            "/content/sad/done250/crops/person/ranjish-ep1.jpg\n",
            "/content/sad/done538/crops/person/IMG_1658406206753.jpg\n",
            "/content/sad/done273/crops/person/IMG_1659946059775.jpg\n",
            "/content/sad/done273/crops/person/IMG_16599460597752.jpg\n",
            "/content/sad/done566/crops/person/IMG_1651984085031.jpg\n",
            "/content/sad/done609/crops/person/Gandii-Baat-S07E01.jpg\n",
            "/content/sad/done407/crops/person/Vishu-Kaineettam-Ep2.jpg\n",
            "/content/sad/done407/crops/person/Vishu-Kaineettam-Ep22.jpg\n",
            "/content/sad/done393/crops/person/Rangliprt2.5.jpg\n",
            "/content/sad/done393/crops/person/Rangliprt2.52.jpg\n",
            "/content/sad/done540/crops/person/IMG_1649358443843.jpg\n",
            "/content/sad/done661/crops/person/IMG_1646489000436.jpg\n",
            "/content/sad/done311/crops/person/IMG_1655489609125.jpg\n",
            "/content/sad/done311/crops/person/IMG_16554896091252.jpg\n",
            "/content/sad/done188/crops/person/paglet-session-2-ep1.jpg\n",
            "/content/sad/done556/crops/person/Manchli.12.jpg\n",
            "/content/sad/done556/crops/person/Manchli.1.jpg\n",
            "/content/sad/done290/crops/person/jabranep7.jpg\n",
            "/content/sad/done454/crops/person/Dhokha-A-Lust-Story-ep2.jpg\n",
            "/content/sad/done657/crops/person/IMG_1647867067641.jpg\n",
            "/content/sad/done414/crops/person/Tohfa-ep1.jpg\n",
            "/content/sad/done527/crops/person/Dirty-Entertainer-ep2.jpg\n",
            "/content/sad/done527/crops/person/Dirty-Entertainer-ep22.jpg\n",
            "/content/sad/done210/crops/person/Rose.Marlo_.S01E01.jpg\n",
            "/content/sad/done210/crops/person/Rose.Marlo_.S01E012.jpg\n",
            "/content/sad/done235/crops/person/IMG_1657519911715.jpg\n",
            "/content/sad/done235/crops/person/IMG_16575199117152.jpg\n",
            "/content/sad/done382/crops/person/IMG_1654876467539.jpg\n",
            "/content/sad/done376/crops/person/Golu.S01E01.jpg\n",
            "/content/sad/done296/crops/person/the-maid-ep1.jpg\n",
            "/content/sad/done12/crops/person/vasuep3.jpg\n",
            "/content/sad/done12/crops/person/vasuep32.jpg\n",
            "/content/sad/done611/crops/person/nath-ep23.jpg\n",
            "/content/sad/done611/crops/person/nath-ep22.jpg\n",
            "/content/sad/done611/crops/person/nath-ep24.jpg\n",
            "/content/sad/done611/crops/person/nath-ep2.jpg\n",
            "/content/sad/done344/crops/person/saniya-Salman-2ep2.jpg\n",
            "/content/sad/done344/crops/person/saniya-Salman-2ep22.jpg\n",
            "/content/sad/done602/crops/person/jabranep52.jpg\n",
            "/content/sad/done602/crops/person/jabranep5.jpg\n",
            "/content/sad/done602/crops/person/jabranep53.jpg\n",
            "/content/sad/done600/crops/person/saniya-Salman-ep6.jpg\n",
            "/content/sad/done632/crops/person/maalamaal-ep8.jpg\n",
            "/content/sad/done228/crops/person/Sundari-Bhabhi-BumperTV.jpg\n",
            "/content/sad/done489/crops/person/IMG_1651762920582.jpg\n",
            "/content/sad/done684/crops/person/photographar2.jpg\n",
            "/content/sad/done362/crops/person/Malkin-hardcore.jpg\n",
            "/content/sad/done362/crops/person/Malkin-hardcore2.jpg\n",
            "/content/sad/done255/crops/person/Laila-ep12.jpg\n",
            "/content/sad/done255/crops/person/Laila-ep1.jpg\n",
            "/content/sad/done288/crops/person/ghar-ka-call-boy-ep6.jpg\n",
            "/content/sad/done288/crops/person/ghar-ka-call-boy-ep62.jpg\n",
            "/content/sad/done432/crops/person/chaska-ep73.jpg\n",
            "/content/sad/done432/crops/person/chaska-ep7.jpg\n",
            "/content/sad/done432/crops/person/chaska-ep72.jpg\n",
            "/content/sad/done619/crops/person/Mukhiya-x-ep16.jpg\n",
            "/content/sad/done619/crops/person/Mukhiya-x-ep13.jpg\n",
            "/content/sad/done619/crops/person/Mukhiya-x-ep14.jpg\n",
            "/content/sad/done619/crops/person/Mukhiya-x-ep17.jpg\n",
            "/content/sad/done619/crops/person/Mukhiya-x-ep12.jpg\n",
            "/content/sad/done619/crops/person/Mukhiya-x-ep1.jpg\n",
            "/content/sad/done619/crops/person/Mukhiya-x-ep15.jpg\n",
            "/content/sad/done518/crops/person/StepMom-teaches-son-how-to-fuck.jpg\n",
            "/content/sad/done590/crops/person/innocent.jpg\n",
            "/content/sad/done357/crops/person/Television-E42.jpg\n",
            "/content/sad/done357/crops/person/Television-E4.jpg\n",
            "/content/sad/done189/crops/person/Dilrooba-3.jpg\n",
            "/content/sad/done384/crops/person/ek-ajnabee-ep2.jpg\n",
            "/content/sad/done728/crops/person/Secret-Deal2.jpg\n",
            "/content/sad/done728/crops/person/Secret-Deal.jpg\n",
            "/content/sad/done223/crops/person/Kodaikanal-ep2.jpg\n",
            "/content/sad/done223/crops/person/Kodaikanal-ep22.jpg\n",
            "/content/sad/done223/crops/person/Kodaikanal-ep23.jpg\n",
            "/content/sad/done401/crops/person/kaam-tamam-ep3.jpg\n",
            "/content/sad/done198/crops/person/IMG_1657220903483.jpg\n",
            "/content/sad/done700/crops/person/IMG_16609734503012.jpg\n",
            "/content/sad/done700/crops/person/IMG_1660973450301.jpg\n",
            "/content/sad/done322/crops/person/IMG_16489249428442.jpg\n",
            "/content/sad/done322/crops/person/IMG_1648924942844.jpg\n",
            "/content/sad/done658/crops/person/IMG_1648912547326.jpg\n",
            "/content/sad/done435/crops/person/gidgboz22.jpg\n",
            "/content/sad/done435/crops/person/gidgboz2.jpg\n",
            "/content/sad/done148/crops/person/IMG_1650965196175.jpg\n",
            "/content/sad/done148/crops/person/IMG_16509651961753.jpg\n",
            "/content/sad/done148/crops/person/IMG_16509651961752.jpg\n",
            "/content/sad/done507/crops/person/Shadyantra-S02E01.jpg\n",
            "/content/sad/done573/crops/person/Chull-Loveria-ep2.jpg\n",
            "/content/sad/done559/crops/person/What-The-F-ep1-1.jpg\n",
            "/content/sad/done558/crops/person/IMG_1657474950783.jpg\n",
            "/content/sad/done558/crops/person/IMG_16574749507832.jpg\n",
            "/content/sad/done153/crops/person/Vaidya-ep3.jpg\n",
            "/content/sad/done153/crops/person/Vaidya-ep32.jpg\n",
            "/content/sad/done536/crops/person/RANGEENMIZAZ2.jpg\n",
            "/content/sad/done742/crops/person/IMG_1650736011315.jpg\n",
            "/content/sad/done270/crops/person/akeli-ep2.jpg\n",
            "/content/sad/done270/crops/person/akeli-ep22.jpg\n",
            "/content/sad/done408/crops/person/IMG_1651174228352.jpg\n",
            "/content/sad/done738/crops/person/IMG_1651762340451.jpg\n",
            "/content/sad/done391/crops/person/Adhuri-Kahani.jpg\n",
            "/content/sad/done192/crops/person/download.jpeg-3-12.jpg\n",
            "/content/sad/done192/crops/person/download.jpeg-3-1.jpg\n",
            "/content/sad/done595/crops/person/vlcsnap-2021-04-14-21h02m50s8582.jpg\n",
            "/content/sad/done595/crops/person/vlcsnap-2021-04-14-21h02m50s858.jpg\n",
            "/content/sad/done218/crops/person/IMG_1658774318155.jpg\n",
            "/content/sad/done71/crops/person/chill-pill-01.jpg\n",
            "/content/sad/done662/crops/person/IMG_1650558830731.jpg\n",
            "/content/sad/done682/crops/person/liAJEgY.jpg\n",
            "/content/sad/done200/crops/person/IMG_16562648337832.jpg\n",
            "/content/sad/done200/crops/person/IMG_1656264833783.jpg\n",
            "/content/sad/done673/crops/person/Prostitute_2.jpg\n",
            "/content/sad/done27/crops/person/Love-Guru-2.jpg\n",
            "/content/sad/done27/crops/person/Love-Guru-22.jpg\n",
            "/content/sad/done638/crops/person/The-Neighbour.jpg\n",
            "/content/sad/done612/crops/person/Khalish-ep3.jpg\n",
            "/content/sad/done366/crops/person/Tohfa-ep4.jpg\n",
            "/content/sad/done457/crops/person/Poonam-bhabhi2.jpg\n",
            "/content/sad/done457/crops/person/Poonam-bhabhi.jpg\n",
            "/content/sad/done120/crops/person/sasur-Harami-ep3.jpg\n",
            "/content/sad/done120/crops/person/sasur-Harami-ep32.jpg\n",
            "/content/sad/done49/crops/person/Firangi-Thakurain-2-ep1.jpg\n",
            "/content/sad/done598/crops/person/Unconditional-.jpg\n",
            "/content/sad/done598/crops/person/Unconditional-2.jpg\n",
            "/content/sad/done279/crops/person/unxJMRF.jpg\n",
            "/content/sad/done279/crops/person/unxJMRF2.jpg\n",
            "/content/sad/done520/crops/person/IMG_1658037671216.jpg\n",
            "/content/sad/done520/crops/person/IMG_16580376712162.jpg\n",
            "/content/sad/done520/crops/person/IMG_16580376712163.jpg\n",
            "/content/sad/done161/crops/person/hope-ep2.jpg\n",
            "/content/sad/done161/crops/person/hope-ep22.jpg\n",
            "/content/sad/done107/crops/person/Bijili-1.jpg\n",
            "/content/sad/done107/crops/person/Bijili-12.jpg\n",
            "/content/sad/done107/crops/person/Bijili-13.jpg\n",
            "/content/sad/done585/crops/person/Pathshala-3-Ep4.jpg\n",
            "/content/sad/done157/crops/person/naukri-ep1.jpg\n",
            "/content/sad/done67/crops/person/Desi-Sabjiwali-part-2.jpg\n",
            "/content/sad/done67/crops/person/Desi-Sabjiwali-part-22.jpg\n",
            "/content/sad/done474/crops/person/darwaza-mat-kholna-ep1.jpg\n",
            "/content/sad/done474/crops/person/darwaza-mat-kholna-ep12.jpg\n",
            "/content/sad/done434/crops/person/IMG_1645723027396.jpg\n",
            "/content/sad/done451/crops/person/IMG_1651612524734.jpg\n",
            "/content/sad/done562/crops/person/ye-ashiqui-ep2.jpg\n",
            "/content/sad/done368/crops/person/SHAUKEEN-BHAUJI.jpg\n",
            "/content/sad/done368/crops/person/SHAUKEEN-BHAUJI2.jpg\n",
            "/content/sad/done580/crops/person/amrapali-ep5.jpg\n",
            "/content/sad/done580/crops/person/amrapali-ep52.jpg\n",
            "/content/sad/done404/crops/person/jalebi-3-ep1.jpg\n",
            "/content/sad/done404/crops/person/jalebi-3-ep12.jpg\n",
            "/content/sad/done594/crops/person/IMG_1660327844076.jpg\n",
            "/content/sad/done431/crops/person/IMG_1649816492417.jpg\n",
            "/content/sad/done512/crops/person/XSUTRA-EP3.jpg\n",
            "/content/sad/done283/crops/person/Farebi-yaar-ep1.jpg\n",
            "/content/sad/done283/crops/person/Farebi-yaar-ep12.jpg\n",
            "/content/sad/done589/crops/person/IMG_1658170722769.jpg\n",
            "/content/sad/done589/crops/person/IMG_16581707227692.jpg\n",
            "/content/sad/done41/crops/person/Maal-Paani-Sexy-Sauda-ep1.jpg\n",
            "/content/sad/done41/crops/person/Maal-Paani-Sexy-Sauda-ep12.jpg\n",
            "/content/sad/done63/crops/person/Deham-S01E012.jpg\n",
            "/content/sad/done63/crops/person/Deham-S01E01.jpg\n",
            "/content/sad/done184/crops/person/ding-dong-ep2.jpg\n",
            "/content/sad/done53/crops/person/Samne-Wali-Khidki-–-Part-2.jpg\n",
            "/content/sad/done256/crops/person/Pulinchikka-ep13.jpg\n",
            "/content/sad/done256/crops/person/Pulinchikka-ep1.jpg\n",
            "/content/sad/done256/crops/person/Pulinchikka-ep14.jpg\n",
            "/content/sad/done256/crops/person/Pulinchikka-ep12.jpg\n",
            "/content/sad/done436/crops/person/IMG_16520299176542.jpg\n",
            "/content/sad/done436/crops/person/IMG_1652029917654.jpg\n",
            "/content/sad/done436/crops/person/IMG_16520299176544.jpg\n",
            "/content/sad/done436/crops/person/IMG_16520299176543.jpg\n",
            "/content/sad/done436/crops/person/IMG_16520299176545.jpg\n",
            "/content/sad/done139/crops/person/do-devar.jpg\n",
            "/content/sad/done359/crops/person/IMG_16565235542394.jpg\n",
            "/content/sad/done359/crops/person/IMG_1656523554239.jpg\n",
            "/content/sad/done359/crops/person/IMG_16565235542393.jpg\n",
            "/content/sad/done359/crops/person/IMG_16565235542392.jpg\n",
            "/content/sad/done463/crops/person/Rakhail-ep2-1.jpg\n",
            "/content/sad/done698/crops/person/desi-tadka2.jpg\n",
            "/content/sad/done698/crops/person/desi-tadka.jpg\n",
            "/content/sad/done698/crops/person/desi-tadka3.jpg\n",
            "/content/sad/done116/crops/person/p4qFY61.jpg\n",
            "/content/sad/done116/crops/person/p4qFY613.jpg\n",
            "/content/sad/done116/crops/person/p4qFY612.jpg\n",
            "/content/sad/done714/crops/person/damad-ne-saas-ne-ghapaghap-choda.jpg\n",
            "/content/sad/done419/crops/person/Galtiyan-1.jpg\n",
            "/content/sad/done419/crops/person/Galtiyan-12.jpg\n",
            "/content/sad/done610/crops/person/lKbzJM12.jpg\n",
            "/content/sad/done610/crops/person/lKbzJM1.jpg\n",
            "/content/sad/done318/crops/person/Langot-2.jpg\n",
            "/content/sad/done724/crops/person/hh4.jpg\n",
            "/content/sad/done570/crops/person/Rasiya-12.jpg\n",
            "/content/sad/done570/crops/person/Rasiya-1.jpg\n",
            "/content/sad/done704/crops/person/Pyar-Idhar-Udhar-ep62.jpg\n",
            "/content/sad/done704/crops/person/Pyar-Idhar-Udhar-ep6.jpg\n",
            "/content/sad/done508/crops/person/Khalish-ep62.jpg\n",
            "/content/sad/done508/crops/person/Khalish-ep6.jpg\n",
            "/content/sad/done493/crops/person/wine-dine-69.jpg\n",
            "/content/sad/done493/crops/person/wine-dine-692.jpg\n",
            "/content/sad/done413/crops/person/IMG_1651250163788.jpg\n",
            "/content/sad/done413/crops/person/IMG_16512501637882.jpg\n",
            "/content/sad/done262/crops/person/IMG_1649963022108.jpg\n",
            "/content/sad/done446/crops/person/choti-Bahu-ep6.jpg\n",
            "/content/sad/done446/crops/person/choti-Bahu-ep62.jpg\n",
            "/content/sad/done406/crops/person/LIZABED.jpg\n",
            "/content/sad/done274/crops/person/Dilrooba-1.jpg\n",
            "/content/sad/done119/crops/person/old.jpg\n",
            "/content/sad/done159/crops/person/IMG_1650074657811.jpg\n",
            "/content/sad/done159/crops/person/IMG_16500746578112.jpg\n",
            "/content/sad/done42/crops/person/laachi-ep3.jpg\n",
            "/content/sad/done343/crops/person/Blackmail-ep1.jpg\n",
            "/content/sad/done343/crops/person/Blackmail-ep12.jpg\n",
            "/content/sad/done717/crops/person/Mere-Sapno-Ki-Rani-ep22.jpg\n",
            "/content/sad/done717/crops/person/Mere-Sapno-Ki-Rani-ep2.jpg\n",
            "/content/sad/done242/crops/person/Psycho-Saiyyan-ep4.jpg\n",
            "/content/sad/done242/crops/person/Psycho-Saiyyan-ep42.jpg\n",
            "/content/sad/done10/crops/person/IMG_1649730093179.jpg\n",
            "/content/sad/done10/crops/person/IMG_16497300931794.jpg\n",
            "/content/sad/done10/crops/person/IMG_16497300931793.jpg\n",
            "/content/sad/done10/crops/person/IMG_16497300931792.jpg\n",
            "/content/sad/done257/crops/person/jhol-jhal-ep2.jpg\n",
            "/content/sad/done257/crops/person/jhol-jhal-ep22.jpg\n",
            "/content/sad/done257/crops/person/jhol-jhal-ep23.jpg\n",
            "/content/sad/done260/crops/person/Tuition-Teacher-ep2.jpg\n",
            "/content/sad/done260/crops/person/Tuition-Teacher-ep22.jpg\n",
            "/content/sad/done591/crops/person/adla-badli-ep63.jpg\n",
            "/content/sad/done591/crops/person/adla-badli-ep6.jpg\n",
            "/content/sad/done591/crops/person/adla-badli-ep62.jpg\n",
            "/content/sad/done292/crops/person/Chull-Dhulai.jpg\n",
            "/content/sad/done292/crops/person/Chull-Dhulai2.jpg\n",
            "/content/sad/done341/crops/person/IMG_1651854073336.jpg\n",
            "/content/sad/done341/crops/person/IMG_16518540733362.jpg\n"
          ]
        }
      ]
    },
    {
      "cell_type": "code",
      "source": [
        "!cp -r /content/cropped /content/drive/MyDrive/cropped"
      ],
      "metadata": {
        "id": "QPcDryTyJB59"
      },
      "execution_count": null,
      "outputs": []
    },
    {
      "cell_type": "code",
      "source": [
        "!rm -rf cropped"
      ],
      "metadata": {
        "id": "nJgK4xTwKDUo"
      },
      "execution_count": null,
      "outputs": []
    },
    {
      "cell_type": "code",
      "source": [
        "!zip -r /content/cropped.zip /content/cropped/"
      ],
      "metadata": {
        "colab": {
          "base_uri": "https://localhost:8080/"
        },
        "id": "ZycUyjypJOkH",
        "outputId": "f8c2b316-23d6-4fc6-b15a-c41cc52e02a4"
      },
      "execution_count": null,
      "outputs": [
        {
          "output_type": "stream",
          "name": "stdout",
          "text": [
            "  adding: content/cropped/ (stored 0%)\n",
            "  adding: content/cropped/manchaha-ep2-2.jpg (deflated 1%)\n",
            "  adding: content/cropped/promoter-housewife2.jpg (deflated 2%)\n",
            "  adding: content/cropped/IMG_1651986981717.jpg (deflated 0%)\n",
            "  adding: content/cropped/brithday-ep22.jpg (deflated 13%)\n",
            "  adding: content/cropped/adla-badli-ep4.jpg (deflated 4%)\n",
            "  adding: content/cropped/devika-ep3-4.jpg (deflated 9%)\n",
            "  adding: content/cropped/Feelings2.jpg (deflated 7%)\n",
            "  adding: content/cropped/Gupchup.2022.E043.jpg (deflated 1%)\n",
            "  adding: content/cropped/paglet3-ep52.jpg (deflated 1%)\n",
            "  adding: content/cropped/hb5v1a3uojcf.jpg (deflated 2%)\n",
            "  adding: content/cropped/1-4.jpg (deflated 12%)\n",
            "  adding: content/cropped/mol-ki-bahu-ep22.jpg (deflated 6%)\n",
            "  adding: content/cropped/IMG_1645798208137.jpg (deflated 1%)\n",
            "  adding: content/cropped/Sahara-ep7.jpg (deflated 1%)\n",
            "  adding: content/cropped/IMG_16565235542394.jpg (deflated 0%)\n",
            "  adding: content/cropped/IMG_1660561383634.jpg (deflated 14%)\n",
            "  adding: content/cropped/IMG_1649730093179.jpg (deflated 2%)\n",
            "  adding: content/cropped/IMG_1650330618284.jpg (deflated 6%)\n",
            "  adding: content/cropped/vasuep3.jpg (deflated 0%)\n",
            "  adding: content/cropped/download.jpeg2.jpg (deflated 1%)\n",
            "  adding: content/cropped/Khalish-ep62.jpg (deflated 5%)\n",
            "  adding: content/cropped/Jane-Anjane-Mein-5.jpg (deflated 11%)\n",
            "  adding: content/cropped/yesmemep12.jpg (deflated 4%)\n",
            "  adding: content/cropped/Rangeen-Baatein-2-ep2-12.jpg (deflated 3%)\n",
            "  adding: content/cropped/Atmbhabi.12.jpg (deflated 0%)\n",
            "  adding: content/cropped/Sundara-Bhabhi-Returns.jpg (deflated 1%)\n",
            "  adding: content/cropped/manchaha-ep12.jpg (deflated 4%)\n",
            "  adding: content/cropped/pahredar-4-ep1.jpg (deflated 3%)\n",
            "  adding: content/cropped/hast-Maithoon-ep22.jpg (deflated 1%)\n",
            "  adding: content/cropped/IMG_1651174876374.jpg (deflated 1%)\n",
            "  adding: content/cropped/Hardcore-Fuck-with-Step-Sister.jpg (deflated 5%)\n",
            "  adding: content/cropped/Television-E42.jpg (deflated 1%)\n",
            "  adding: content/cropped/maalamaal-ep6.jpg (deflated 2%)\n",
            "  adding: content/cropped/chakhna.jpg (deflated 0%)\n",
            "  adding: content/cropped/Amrapali4.jpg (deflated 0%)\n",
            "  adding: content/cropped/IMG_1662963257715.jpg (deflated 1%)\n",
            "  adding: content/cropped/Lela.3.jpg (deflated 11%)\n",
            "  adding: content/cropped/Rikshawala-ep7.jpg (deflated 4%)\n",
            "  adding: content/cropped/baby-Marwa-Ke-Manegi-ep2.jpg (deflated 1%)\n",
            "  adding: content/cropped/Love-Guru-2.jpg (deflated 14%)\n",
            "  adding: content/cropped/Manchli.12.jpg (deflated 0%)\n",
            "  adding: content/cropped/mol-ki-bahu-ep1.jpg (deflated 3%)\n",
            "  adding: content/cropped/Firangi-Thakurain-ep1.jpg (deflated 0%)\n",
            "  adding: content/cropped/pahredaar-ep1.jpg (deflated 2%)\n",
            "  adding: content/cropped/Sajani-ep2.jpg (deflated 1%)\n",
            "  adding: content/cropped/Maayan-3.jpg (deflated 1%)\n",
            "  adding: content/cropped/gandi-baat-ep2.jpg (deflated 4%)\n",
            "  adding: content/cropped/darji-e022.jpg (deflated 2%)\n",
            "  adding: content/cropped/mini-1-1.jpg (deflated 3%)\n",
            "  adding: content/cropped/IMG_16605603373582.jpg (deflated 1%)\n",
            "  adding: content/cropped/love-bites-eortv-episode2.jpg (deflated 17%)\n",
            "  adding: content/cropped/Bhabi-Ji-Hot-Part-2.jpg (deflated 2%)\n",
            "  adding: content/cropped/Mauj-Masti-ep3.jpg (deflated 8%)\n",
            "  adding: content/cropped/shahad-p2.jpg (deflated 1%)\n",
            "  adding: content/cropped/Maal-Paani-Sexy-Sauda-ep1.jpg (deflated 1%)\n",
            "  adding: content/cropped/laachi-ep3.jpg (deflated 8%)\n",
            "  adding: content/cropped/atm-bhabhi-s01e06.jpg (deflated 2%)\n",
            "  adding: content/cropped/IMG_16562648337832.jpg (deflated 4%)\n",
            "  adding: content/cropped/Deham-S01E012.jpg (deflated 6%)\n",
            "  adding: content/cropped/3f69a31a361b5916d4d1f4f451c0d9132.jpg (deflated 1%)\n",
            "  adding: content/cropped/malai-ep2.jpg (deflated 3%)\n",
            "  adding: content/cropped/IMG_1645797588024.jpg (deflated 1%)\n",
            "  adding: content/cropped/Devrani-Jethani-Aur-Woh-ep3.jpg (deflated 1%)\n",
            "  adding: content/cropped/Kulta3.Moodx_.jpg (deflated 1%)\n",
            "  adding: content/cropped/Khalish-ep82.jpg (deflated 4%)\n",
            "  adding: content/cropped/IMG_1648489949518.jpg (deflated 3%)\n",
            "  adding: content/cropped/Firangi-Thakurain-2-ep1.jpg (deflated 2%)\n",
            "  adding: content/cropped/IMG_1658818569529.jpg (deflated 0%)\n",
            "  adding: content/cropped/badan-3-ep9.jpg (deflated 2%)\n",
            "  adding: content/cropped/Samne-Wali-Khidki-–-Part-2.jpg (deflated 2%)\n",
            "  adding: content/cropped/309081349_1-1.jpg (deflated 1%)\n",
            "  adding: content/cropped/desi-tadka2.jpg (deflated 8%)\n",
            "  adding: content/cropped/IMG_16475956927722.jpg (deflated 1%)\n",
            "  adding: content/cropped/Laila-2ep32.jpg (deflated 2%)\n",
            "  adding: content/cropped/index.jpg (deflated 4%)\n",
            "  adding: content/cropped/ullu-e2-1.jpg (deflated 1%)\n",
            "  adding: content/cropped/IMG_1648490544932.jpg (deflated 1%)\n",
            "  adding: content/cropped/tueshan-teacher-ep4.jpg (deflated 8%)\n",
            "  adding: content/cropped/mohan-chabiwala-ep5.jpg (deflated 2%)\n",
            "  adding: content/cropped/ep32.jpg (deflated 5%)\n",
            "  adding: content/cropped/IMG_1648105480903.jpg (deflated 2%)\n",
            "  adding: content/cropped/chameli-bhabhi-ep32.jpg (deflated 2%)\n",
            "  adding: content/cropped/bidaai-ep32.jpg (deflated 0%)\n",
            "  adding: content/cropped/Starngerep22.jpg (deflated 1%)\n",
            "  adding: content/cropped/rain-basera-ep62.jpg (deflated 2%)\n",
            "  adding: content/cropped/Deham-S01E01.jpg (deflated 18%)\n",
            "  adding: content/cropped/Tere-Jaisa-Yaar-Kaha-ep6.jpg (deflated 4%)\n",
            "  adding: content/cropped/Grand_Masti.jpg (deflated 3%)\n",
            "  adding: content/cropped/Farbiishq.2022.E022.jpg (deflated 2%)\n",
            "  adding: content/cropped/sauteli-ep3.jpg (deflated 4%)\n",
            "  adding: content/cropped/Desi-Sabjiwali-part-2.jpg (deflated 1%)\n",
            "  adding: content/cropped/jaaneanjanem6ep2.jpg (deflated 2%)\n",
            "  adding: content/cropped/Pehredaar-2-ep5.jpg (deflated 0%)\n",
            "  adding: content/cropped/IMG_1651298588976.jpg (deflated 9%)\n",
            "  adding: content/cropped/Gupchup.2022.E044.jpg (deflated 6%)\n",
            "  adding: content/cropped/chill-pill-01.jpg (deflated 10%)\n",
            "  adding: content/cropped/IMG_1648752637291.jpg (deflated 1%)\n",
            "  adding: content/cropped/ROZI-BHABHI-2.jpg (deflated 1%)\n",
            "  adding: content/cropped/bunty-babli-ep3.jpg (deflated 1%)\n",
            "  adding: content/cropped/IMG_1651520075087.jpg (deflated 1%)\n",
            "  adding: content/cropped/kp08jgert8o9.jpg (deflated 2%)\n",
            "  adding: content/cropped/Mukhiya-x-ep16.jpg (deflated 2%)\n",
            "  adding: content/cropped/ep22.jpg (deflated 5%)\n",
            "  adding: content/cropped/damad-ji-ep62.jpg (deflated 4%)\n",
            "  adding: content/cropped/mr-teacher-ep1.jpg (deflated 3%)\n",
            "  adding: content/cropped/Nikah-2.jpg (deflated 4%)\n",
            "  adding: content/cropped/Avantika-ep1.jpg (deflated 10%)\n",
            "  adding: content/cropped/IMG_16461243185392.jpg (deflated 4%)\n",
            "  adding: content/cropped/IMG_16458492633403.jpg (deflated 1%)\n",
            "  adding: content/cropped/my-i-come-ep2.jpg (deflated 1%)\n",
            "  adding: content/cropped/pinjara-ep12.jpg (deflated 6%)\n",
            "  adding: content/cropped/mardana-sasur-2-ep3.jpg (deflated 9%)\n",
            "  adding: content/cropped/Rowdy-girls2.jpg (deflated 0%)\n",
            "  adding: content/cropped/Salman-Ep4.jpg (deflated 1%)\n",
            "  adding: content/cropped/Selinte-Tuition-Class-ep1.jpg (deflated 2%)\n",
            "  adding: content/cropped/Guest3_Moment2.jpg (deflated 2%)\n",
            "  adding: content/cropped/IMG_16562639542212.jpg (deflated 1%)\n",
            "  adding: content/cropped/Private-Tution-Teacher-OrchidFilm2.jpg (deflated 2%)\n",
            "  adding: content/cropped/Neon-Green-Gradient-Fitness-YouTube-Thumbnail-1-12.jpg (deflated 2%)\n",
            "  adding: content/cropped/chaska-ep73.jpg (deflated 14%)\n",
            "  adding: content/cropped/malai-ep12.jpg (deflated 2%)\n",
            "  adding: content/cropped/Bidi.22.jpg (deflated 6%)\n",
            "  adding: content/cropped/badan-ep2.jpg (deflated 2%)\n",
            "  adding: content/cropped/kamini-ep3.jpg (deflated 19%)\n",
            "  adding: content/cropped/IMG_16523765960912.jpg (deflated 5%)\n",
            "  adding: content/cropped/Naughty-Sister-ep2.jpg (deflated 8%)\n",
            "  adding: content/cropped/IMG_1648962796104.jpg (deflated 1%)\n",
            "  adding: content/cropped/gidgboz22.jpg (deflated 0%)\n",
            "  adding: content/cropped/ooyo-kand-ep32.jpg (deflated 5%)\n",
            "  adding: content/cropped/naughty-Ishq-ep1.jpg (deflated 7%)\n",
            "  adding: content/cropped/the-hot-girl2.jpg (deflated 5%)\n",
            "  adding: content/cropped/Roopmati-ep6.jpg (deflated 1%)\n",
            "  adding: content/cropped/blind-kotha-ep1.jpg (deflated 1%)\n",
            "  adding: content/cropped/teushan-techar-ep33.jpg (deflated 4%)\n",
            "  adding: content/cropped/IMG_1647625632344.jpg (deflated 2%)\n",
            "  adding: content/cropped/complimentary-ep2.jpg (deflated 3%)\n",
            "  adding: content/cropped/IMG_1650075459688.jpg (deflated 9%)\n",
            "  adding: content/cropped/jalan-ep5-1.jpg (deflated 1%)\n",
            "  adding: content/cropped/IMG_1657733238836.jpg (deflated 3%)\n",
            "  adding: content/cropped/lesbian.jpg (deflated 1%)\n",
            "  adding: content/cropped/13542.jpg (deflated 2%)\n",
            "  adding: content/cropped/Ghar-Sasur-ep2-2.jpg (deflated 9%)\n",
            "  adding: content/cropped/Mere-Sapno-Ki-Rani-ep12.jpg (deflated 2%)\n",
            "  adding: content/cropped/Ghar-Sasur-ep52.jpg (deflated 1%)\n",
            "  adding: content/cropped/Sauteleep22.jpg (deflated 2%)\n",
            "  adding: content/cropped/ep3.jpg (deflated 5%)\n",
            "  adding: content/cropped/Kamala.jpg (deflated 1%)\n",
            "  adding: content/cropped/Desire-2ep13.jpg (deflated 1%)\n",
            "  adding: content/cropped/Cheat-Dunki-ep2.jpg (deflated 2%)\n",
            "  adding: content/cropped/Jawaani-Janeman-ep1.jpg (deflated 1%)\n",
            "  adding: content/cropped/Prem-Leela-ep2.jpg (deflated 0%)\n",
            "  adding: content/cropped/Ladies-Tailor-ep1.jpg (deflated 3%)\n",
            "  adding: content/cropped/Bijili-1.jpg (deflated 2%)\n",
            "  adding: content/cropped/IMG_1653199888630.jpg (deflated 3%)\n",
            "  adding: content/cropped/darji-e02.jpg (deflated 4%)\n",
            "  adding: content/cropped/MRDSE63.jpg (deflated 2%)\n",
            "  adding: content/cropped/vlcsnap-2021-04-14-21h02m50s8582.jpg (deflated 0%)\n",
            "  adding: content/cropped/IMG_1664955165460.jpg (deflated 0%)\n",
            "  adding: content/cropped/hh53.jpg (deflated 1%)\n",
            "  adding: content/cropped/Ghar-Sasur-ep4.jpg (deflated 13%)\n",
            "  adding: content/cropped/Devrani-Jethani-Aur-Woh-ep42.jpg (deflated 1%)\n",
            "  adding: content/cropped/IMG_1656688298365.jpg (deflated 1%)\n",
            "  adding: content/cropped/IMG_1656615965279.jpg (deflated 1%)\n",
            "  adding: content/cropped/IMG_1646021080180.jpg (deflated 1%)\n",
            "  adding: content/cropped/16664910714392.jpg (deflated 2%)\n",
            "  adding: content/cropped/juli-5-1.jpg (deflated 8%)\n",
            "  adding: content/cropped/p4qFY61.jpg (deflated 1%)\n",
            "  adding: content/cropped/Hope-5-3.jpg (deflated 1%)\n",
            "  adding: content/cropped/download.jpeg-3-12.jpg (deflated 1%)\n",
            "  adding: content/cropped/IMG_20220219_221006.jpg (deflated 1%)\n",
            "  adding: content/cropped/babu-ji-ep6.jpg (deflated 2%)\n",
            "  adding: content/cropped/halala-ep12.jpg (deflated 1%)\n",
            "  adding: content/cropped/old.jpg (deflated 2%)\n",
            "  adding: content/cropped/IMG_16489249428442.jpg (deflated 0%)\n",
            "  adding: content/cropped/sasur-Harami-ep3.jpg (deflated 2%)\n",
            "  adding: content/cropped/Grand_Masti3.jpg (deflated 4%)\n",
            "  adding: content/cropped/Jalebi-ep52.jpg (deflated 5%)\n",
            "  adding: content/cropped/Starngerep12.jpg (deflated 0%)\n",
            "  adding: content/cropped/Pyar-Idhar-Udhar-ep62.jpg (deflated 5%)\n",
            "  adding: content/cropped/guptrog-ep2.jpg (deflated 1%)\n",
            "  adding: content/cropped/Maa-Devrani3-1.jpg (deflated 4%)\n",
            "  adding: content/cropped/chachi-420.jpg (deflated 1%)\n",
            "  adding: content/cropped/Good-Night-ep3.jpg (deflated 2%)\n",
            "  adding: content/cropped/paglet3-ep4.jpg (deflated 2%)\n",
            "  adding: content/cropped/Dhokha-ep1.jpg (deflated 1%)\n",
            "  adding: content/cropped/naughty-Ishq-ep2.jpg (deflated 4%)\n",
            "  adding: content/cropped/tapan-2-ep-4.jpg (deflated 2%)\n",
            "  adding: content/cropped/IMG_16520299176542.jpg (deflated 0%)\n",
            "  adding: content/cropped/Khat-Shala-S01E042.jpg (deflated 1%)\n",
            "  adding: content/cropped/honey-trap-ep1.jpg (deflated 0%)\n",
            "  adding: content/cropped/ek-sath-teen-teen-ep2.jpg (deflated 0%)\n",
            "  adding: content/cropped/Personal-Secretary-Sunidhi.jpg (deflated 5%)\n",
            "  adding: content/cropped/fuljhadi-bhabhi-ep1.jpg (deflated 4%)\n",
            "  adding: content/cropped/Walkman-Part-1ep2.jpg (deflated 1%)\n",
            "  adding: content/cropped/Bhabi-Ji-Hot-Part-22.jpg (deflated 1%)\n",
            "  adding: content/cropped/pahredar-4-ep12.jpg (deflated 2%)\n",
            "  adding: content/cropped/mr-teacher-ep12.jpg (deflated 7%)\n",
            "  adding: content/cropped/k5tr7lg71e1o.jpg (deflated 5%)\n",
            "  adding: content/cropped/IMG_16487526372912.jpg (deflated 1%)\n",
            "  adding: content/cropped/hamari-sapna-bhabhi-ep3.jpg (deflated 3%)\n",
            "  adding: content/cropped/the-hot-girl.jpg (deflated 2%)\n",
            "  adding: content/cropped/Kodaikanal-ep12.jpg (deflated 0%)\n",
            "  adding: content/cropped/GuptGyani.E02.jpg (deflated 15%)\n",
            "  adding: content/cropped/mol-ki-bahu-ep2.jpg (deflated 2%)\n",
            "  adding: content/cropped/do-devar.jpg (deflated 5%)\n",
            "  adding: content/cropped/nath-ep4.jpg (deflated 4%)\n",
            "  adding: content/cropped/khidki-part-1-ep22.jpg (deflated 3%)\n",
            "  adding: content/cropped/Virgin.Bahus_.S01E01.jpg (deflated 23%)\n",
            "  adding: content/cropped/yesmemep1.jpg (deflated 4%)\n",
            "  adding: content/cropped/e4.jpg (deflated 1%)\n",
            "  adding: content/cropped/ranjish-ep3.jpg (deflated 8%)\n",
            "  adding: content/cropped/fragrance2.jpg (deflated 3%)\n",
            "  adding: content/cropped/Ishqiyapa-Part-1-ep1.jpg (deflated 2%)\n",
            "  adding: content/cropped/Desi-Sabjiwali.jpg (deflated 1%)\n",
            "  adding: content/cropped/IMG_1650965196175.jpg (deflated 1%)\n",
            "  adding: content/cropped/Doctor-Chaurasiya.E06.jpg (deflated 1%)\n",
            "  adding: content/cropped/Gubare-Wali-ep1.jpg (deflated 8%)\n",
            "  adding: content/cropped/promoter-housewife.jpg (deflated 2%)\n",
            "  adding: content/cropped/IMG_1661796369414.jpg (deflated 6%)\n",
            "  adding: content/cropped/gulabo-e022.jpg (deflated 7%)\n",
            "  adding: content/cropped/Vaidya-ep3.jpg (deflated 1%)\n",
            "  adding: content/cropped/IMG_1661670551446.jpg (deflated 5%)\n",
            "  adding: content/cropped/Roopmati-ep5.jpg (deflated 3%)\n",
            "  adding: content/cropped/sweety-bhabhi2.jpg (deflated 0%)\n",
            "  adding: content/cropped/badan-ep22.jpg (deflated 4%)\n",
            "  adding: content/cropped/naukri-ep1.jpg (deflated 8%)\n",
            "  adding: content/cropped/Poonam-bhabhi2.jpg (deflated 0%)\n",
            "  adding: content/cropped/watchman-ep3.jpg (deflated 1%)\n",
            "  adding: content/cropped/IMG_1650074657811.jpg (deflated 3%)\n",
            "  adding: content/cropped/Devrani-Jethani-Aur-Woh-ep4.jpg (deflated 1%)\n",
            "  adding: content/cropped/hope-ep2.jpg (deflated 0%)\n",
            "  adding: content/cropped/Gaon-Ki-Garmi-3-ep6.jpg (deflated 8%)\n",
            "  adding: content/cropped/Devrani-Jethani-Aur-Woh-ep1.jpg (deflated 4%)\n",
            "  adding: content/cropped/download.jpeg-1-1.jpg (deflated 4%)\n",
            "  adding: content/cropped/IMG_16531998886302.jpg (deflated 3%)\n",
            "  adding: content/cropped/nighty-student.jpg (deflated 1%)\n",
            "  adding: content/cropped/IMG_16605603373583.jpg (deflated 0%)\n",
            "  adding: content/cropped/dirty-didike-sath.jpg (deflated 1%)\n",
            "  adding: content/cropped/IMG_1649179338859.jpg (deflated 0%)\n",
            "  adding: content/cropped/135423.jpg (deflated 1%)\n",
            "  adding: content/cropped/ROZI-BHABHI-22.jpg (deflated 2%)\n",
            "  adding: content/cropped/IMG_1651777279287.jpg (deflated 0%)\n",
            "  adding: content/cropped/Firangi-Thakurain-ep12.jpg (deflated 3%)\n",
            "  adding: content/cropped/kitab-ka-raaz-ep32.jpg (deflated 2%)\n",
            "  adding: content/cropped/IMG_1655751026557.jpg (deflated 11%)\n",
            "  adding: content/cropped/Khatshala-3-ep2.jpg (deflated 6%)\n",
            "  adding: content/cropped/sweety-bhabhi.jpg (deflated 0%)\n",
            "  adding: content/cropped/Gulabo-ep3.jpg (deflated 3%)\n",
            "  adding: content/cropped/nath-ep23.jpg (deflated 3%)\n",
            "  adding: content/cropped/Naughty-Sister.jpg (deflated 1%)\n",
            "  adding: content/cropped/IMG_16500746578112.jpg (deflated 1%)\n",
            "  adding: content/cropped/IMG_1650331276485.jpg (deflated 0%)\n",
            "  adding: content/cropped/Yessma.jpg (deflated 13%)\n",
            "  adding: content/cropped/complimentary-ep22.jpg (deflated 1%)\n",
            "  adding: content/cropped/Ghar-Sasur-ep73.jpg (deflated 1%)\n",
            "  adding: content/cropped/Laila-ep12.jpg (deflated 1%)\n",
            "  adding: content/cropped/iloveyouep2.jpg (deflated 6%)\n",
            "  adding: content/cropped/vlcsnap-2021-05-29-16h56m49s0742.jpg (deflated 3%)\n",
            "  adding: content/cropped/IMG_16489627961043.jpg (deflated 1%)\n",
            "  adding: content/cropped/download.jpeg-1-3.jpg (deflated 1%)\n",
            "  adding: content/cropped/IMG_16605448902232.jpg (deflated 4%)\n",
            "  adding: content/cropped/klpd.jpg (deflated 1%)\n",
            "  adding: content/cropped/sasur-Harami-ep32.jpg (deflated 1%)\n",
            "  adding: content/cropped/Jalebi-ep5.jpg (deflated 12%)\n",
            "  adding: content/cropped/IMG_1662800886820.jpg (deflated 1%)\n",
            "  adding: content/cropped/jalan-ep5-13.jpg (deflated 4%)\n",
            "  adding: content/cropped/Desire-2ep2.jpg (deflated 1%)\n",
            "  adding: content/cropped/ding-dong-ep2.jpg (deflated 3%)\n",
            "  adding: content/cropped/Adhuri-Pyaas-ep1.jpg (deflated 4%)\n",
            "  adding: content/cropped/Mukhiya-x-ep13.jpg (deflated 8%)\n",
            "  adding: content/cropped/Maalpani.2022.E04.jpg (deflated 1%)\n",
            "  adding: content/cropped/paglet-session-2-ep1.jpg (deflated 1%)\n",
            "  adding: content/cropped/Dilrooba-3.jpg (deflated 3%)\n",
            "  adding: content/cropped/MISS-BRIGANZA-ep2.jpg (deflated 0%)\n",
            "  adding: content/cropped/IMG_1655751027102.jpg (deflated 1%)\n",
            "  adding: content/cropped/135422.jpg (deflated 1%)\n",
            "  adding: content/cropped/download.jpeg-3-1.jpg (deflated 2%)\n",
            "  adding: content/cropped/Ghar-Sasur-ep1-.jpg (deflated 5%)\n",
            "  adding: content/cropped/Dirty-Entertainer-ep3.jpg (deflated 8%)\n",
            "  adding: content/cropped/chakhna2.jpg (deflated 0%)\n",
            "  adding: content/cropped/Gaon-Ki-Biwi-ep1.jpg (deflated 1%)\n",
            "  adding: content/cropped/naajayaz-rishteep1.jpg (deflated 2%)\n",
            "  adding: content/cropped/rajneeti-ep42.jpg (deflated 0%)\n",
            "  adding: content/cropped/Gubare-Wali-ep2.jpg (deflated 2%)\n",
            "  adding: content/cropped/IMG_1657220903483.jpg (deflated 7%)\n",
            "  adding: content/cropped/dnfvdjww5glw.jpg (deflated 1%)\n",
            "  adding: content/cropped/IMG_1656264833783.jpg (deflated 1%)\n",
            "  adding: content/cropped/e42.jpg (deflated 1%)\n",
            "  adding: content/cropped/Ghar-Sasur-ep6.jpg (deflated 1%)\n",
            "  adding: content/cropped/IMG_16649551654602.jpg (deflated 0%)\n",
            "  adding: content/cropped/Doctor-Mohini-2.jpg (deflated 8%)\n",
            "  adding: content/cropped/sahad-part-1.jpg (deflated 0%)\n",
            "  adding: content/cropped/Lahore-Diaries-ep1.jpg (deflated 6%)\n",
            "  adding: content/cropped/chupan-chupai-ep4-1.jpg (deflated 6%)\n",
            "  adding: content/cropped/IMG_16625234227922.jpg (deflated 1%)\n",
            "  adding: content/cropped/Teacher-No-1.jpg (deflated 0%)\n",
            "  adding: content/cropped/Pulinchikka-ep2.jpg (deflated 0%)\n",
            "  adding: content/cropped/Drlily.2022.E032.jpg (deflated 9%)\n",
            "  adding: content/cropped/aapbiti-ep1.jpg (deflated 9%)\n",
            "  adding: content/cropped/Rose.Marlo_.S01E01.jpg (deflated 3%)\n",
            "  adding: content/cropped/Golu.2.jpg (deflated 2%)\n",
            "  adding: content/cropped/rasiliep4.jpg (deflated 0%)\n",
            "  adding: content/cropped/Lilly-bhabhi2.jpg (deflated 0%)\n",
            "  adding: content/cropped/1663957618549-convert.io_.jpg (deflated 1%)\n",
            "  adding: content/cropped/Online-Romance-Ep1.jpg (deflated 3%)\n",
            "  adding: content/cropped/Siskiyaan-1-min.jpg (deflated 1%)\n",
            "  adding: content/cropped/IMG_1647595692772.jpg (deflated 1%)\n",
            "  adding: content/cropped/garmi-ep-3.jpg (deflated 1%)\n",
            "  adding: content/cropped/IMG_1658774318155.jpg (deflated 0%)\n",
            "  adding: content/cropped/DKcAg7w.jpg (deflated 0%)\n",
            "  adding: content/cropped/IMG_1661533612148.jpg (deflated 2%)\n",
            "  adding: content/cropped/Mangalik-3-4.jpg (deflated 2%)\n",
            "  adding: content/cropped/mardana-sasur-2-ep32.jpg (deflated 2%)\n",
            "  adding: content/cropped/4-SUM-02-1.jpg (deflated 1%)\n",
            "  adding: content/cropped/Kodaikanal-ep2.jpg (deflated 1%)\n",
            "  adding: content/cropped/maalamaal-ep62.jpg (deflated 1%)\n",
            "  adding: content/cropped/taak-jhaak-ep2.jpg (deflated 1%)\n",
            "  adding: content/cropped/INTEKAM-EP1_Moment.jpg (deflated 7%)\n",
            "  adding: content/cropped/favoriteteacherep-04-mkv-20220211-072046-587.jpg (deflated 1%)\n",
            "  adding: content/cropped/Psycho-Saiyan-ep2.jpg (deflated 3%)\n",
            "  adding: content/cropped/gachi5.jpg (deflated 6%)\n",
            "  adding: content/cropped/Sundari-Bhabhi-BumperTV.jpg (deflated 2%)\n",
            "  adding: content/cropped/buri-baat-ep-2.jpg (deflated 4%)\n",
            "  adding: content/cropped/Chaska-ep5.jpg (deflated 6%)\n",
            "  adding: content/cropped/IMG_1657220905207.jpg (deflated 0%)\n",
            "  adding: content/cropped/jabran-part-1ep4.jpg (deflated 3%)\n",
            "  adding: content/cropped/sultanaNiks.jpg (deflated 1%)\n",
            "  adding: content/cropped/IMG_1657519911715.jpg (deflated 6%)\n",
            "  adding: content/cropped/hawash-ep1.jpg (deflated 5%)\n",
            "  adding: content/cropped/Desi-Majdur-Ki-Patni2.jpg (deflated 0%)\n",
            "  adding: content/cropped/ek-sath-teen-teen-ep1.jpg (deflated 1%)\n",
            "  adding: content/cropped/Avihitham-ep2.jpg (deflated 1%)\n",
            "  adding: content/cropped/sex-game.jpg (deflated 3%)\n",
            "  adding: content/cropped/kajal-bhabhi-ep1.jpg (deflated 1%)\n",
            "  adding: content/cropped/Psycho-Saiyyan-ep4.jpg (deflated 1%)\n",
            "  adding: content/cropped/Shipra-2022-2.jpg (deflated 18%)\n",
            "  adding: content/cropped/devika-ep3-3.jpg (deflated 6%)\n",
            "  adding: content/cropped/Maalpani.2022.E042.jpg (deflated 1%)\n",
            "  adding: content/cropped/Farebi-yaar-ep32.jpg (deflated 1%)\n",
            "  adding: content/cropped/dhokebaaz.jpg (deflated 1%)\n",
            "  adding: content/cropped/IMG_1660295023488.jpg (deflated 4%)\n",
            "  adding: content/cropped/IMG_1656263954221.jpg (deflated 0%)\n",
            "  adding: content/cropped/chaska-ep5.jpg (deflated 13%)\n",
            "  adding: content/cropped/JaanBujKar_2.jpg (deflated 1%)\n",
            "  adding: content/cropped/Firangi-Thakurain-ep22.jpg (deflated 4%)\n",
            "  adding: content/cropped/damad-jiep6.jpg (deflated 2%)\n",
            "  adding: content/cropped/Pulinchikka-ep13.jpg (deflated 2%)\n",
            "  adding: content/cropped/ranjish-ep1.jpg (deflated 3%)\n",
            "  adding: content/cropped/bunty-babli-ep2.jpg (deflated 2%)\n",
            "  adding: content/cropped/begam-ka-kotha-Ep3-.jpg (deflated 1%)\n",
            "  adding: content/cropped/Gunha-1.jpg (deflated 5%)\n",
            "  adding: content/cropped/rocker-ep3.jpg (deflated 3%)\n",
            "  adding: content/cropped/Laila-ep1.jpg (deflated 1%)\n",
            "  adding: content/cropped/Pulinchikka-ep1.jpg (deflated 1%)\n",
            "  adding: content/cropped/jhol-jhal-ep2.jpg (deflated 0%)\n",
            "  adding: content/cropped/chameli-bhabhi-ep3.jpg (deflated 4%)\n",
            "  adding: content/cropped/Sainyaa-Salman-ep4.jpg (deflated 6%)\n",
            "  adding: content/cropped/Tuition-Teacher-ep2.jpg (deflated 1%)\n",
            "  adding: content/cropped/chaska-ep3.jpg (deflated 9%)\n",
            "  adding: content/cropped/nai-naveli3.jpg (deflated 4%)\n",
            "  adding: content/cropped/IMG_1649963022108.jpg (deflated 1%)\n",
            "  adding: content/cropped/Roopmati-ep1.jpg (deflated 1%)\n",
            "  adding: content/cropped/IMG_1647525722699.jpg (deflated 1%)\n",
            "  adding: content/cropped/amar-boudi.jpg (deflated 4%)\n",
            "  adding: content/cropped/good-luck-ep4.jpg (deflated 2%)\n",
            "  adding: content/cropped/xsutra1.jpg (deflated 1%)\n",
            "  adding: content/cropped/Sultan-part-1-ep22.jpg (deflated 1%)\n",
            "  adding: content/cropped/Rasiya-12.jpg (deflated 2%)\n",
            "  adding: content/cropped/IMG_1659803048509.jpg (deflated 1%)\n",
            "  adding: content/cropped/Feelings.jpg (deflated 3%)\n",
            "  adding: content/cropped/akeli-ep2.jpg (deflated 1%)\n",
            "  adding: content/cropped/gachi52.jpg (deflated 3%)\n",
            "  adding: content/cropped/cxye09rg63ot.jpg (deflated 1%)\n",
            "  adding: content/cropped/samay-yaatra-ep2.jpg (deflated 2%)\n",
            "  adding: content/cropped/IMG_1659946059775.jpg (deflated 4%)\n",
            "  adding: content/cropped/Pulinchikka-ep32.jpg (deflated 1%)\n",
            "  adding: content/cropped/Dilrooba-1.jpg (deflated 4%)\n",
            "  adding: content/cropped/IMG_16461243185393.jpg (deflated 1%)\n",
            "  adding: content/cropped/jara-dhire-dhire-ep22.jpg (deflated 5%)\n",
            "  adding: content/cropped/ring-s01e02-gupchup.jpg (deflated 5%)\n",
            "  adding: content/cropped/3w739i97onoh.jpg (deflated 1%)\n",
            "  adding: content/cropped/Tere-Jaisa-Yaar-Kaha-ep7.jpg (deflated 6%)\n",
            "  adding: content/cropped/IMG_1649005793187.jpg (deflated 1%)\n",
            "  adding: content/cropped/unxJMRF.jpg (deflated 0%)\n",
            "  adding: content/cropped/manchaha-ep2-.jpg (deflated 1%)\n",
            "  adding: content/cropped/Step-Daddy-Punishes-Step-Daughter.jpg (deflated 3%)\n",
            "  adding: content/cropped/Farebi-yaar-ep1.jpg (deflated 1%)\n",
            "  adding: content/cropped/Do-Haseena-2.jpg (deflated 1%)\n",
            "  adding: content/cropped/Hope-5-.jpg (deflated 1%)\n",
            "  adding: content/cropped/sasur-ji.jpg (deflated 1%)\n",
            "  adding: content/cropped/Gupchup.2022.E04.jpg (deflated 3%)\n",
            "  adding: content/cropped/Psycho-Saiyyan-ep42.jpg (deflated 13%)\n",
            "  adding: content/cropped/mini-1-12.jpg (deflated 0%)\n",
            "  adding: content/cropped/ghar-ka-call-boy-ep6.jpg (deflated 12%)\n",
            "  adding: content/cropped/IMG_20220214_095644.jpg (deflated 1%)\n",
            "  adding: content/cropped/Kamala2.jpg (deflated 10%)\n",
            "  adding: content/cropped/Tuition-Teacher-ep22.jpg (deflated 0%)\n",
            "  adding: content/cropped/jabranep7.jpg (deflated 9%)\n",
            "  adding: content/cropped/Laila-2ep4.jpg (deflated 0%)\n",
            "  adding: content/cropped/Chull-Dhulai.jpg (deflated 6%)\n",
            "  adding: content/cropped/sajani-ep3.jpg (deflated 4%)\n",
            "  adding: content/cropped/IMG_1647785582414.jpg (deflated 2%)\n",
            "  adding: content/cropped/the-maid-ep1.jpg (deflated 2%)\n",
            "  adding: content/cropped/damad-ji-ep63.jpg (deflated 5%)\n",
            "  adding: content/cropped/Gaon-Ki-Garmi-3-ep2.jpg (deflated 3%)\n",
            "  adding: content/cropped/kiraydar-ep1.jpg (deflated 3%)\n",
            "  adding: content/cropped/damad-jiep63.jpg (deflated 3%)\n",
            "  adding: content/cropped/play-boy-2-fliz.jpg (deflated 5%)\n",
            "  adding: content/cropped/Jalebi-3-ep5.jpg (deflated 1%)\n",
            "  adding: content/cropped/IMG_1649644466657.jpg (deflated 0%)\n",
            "  adding: content/cropped/flat-screen-ep1.jpg (deflated 4%)\n",
            "  adding: content/cropped/vlcsnap-2021-05-29-16h56m49s074.jpg (deflated 3%)\n",
            "  adding: content/cropped/Miss-Teacher-12.jpg (deflated 2%)\n",
            "  adding: content/cropped/IMG_16599460597752.jpg (deflated 5%)\n",
            "  adding: content/cropped/IMG_20220220_111116.jpg (deflated 1%)\n",
            "  adding: content/cropped/Farebi-yaar-ep3.jpg (deflated 1%)\n",
            "  adding: content/cropped/The-Exchange-E12.jpg (deflated 1%)\n",
            "  adding: content/cropped/dream-girl-ep3.jpg (deflated 1%)\n",
            "  adding: content/cropped/Maala-Maal-ep3.jpg (deflated 7%)\n",
            "  adding: content/cropped/AFTER-SCHOOL3.jpg (deflated 6%)\n",
            "  adding: content/cropped/Psycho-Saiyan-ep1.jpg (deflated 8%)\n",
            "  adding: content/cropped/jalan-ep5-14.jpg (deflated 3%)\n",
            "  adding: content/cropped/Chull-Dhulai2.jpg (deflated 2%)\n",
            "  adding: content/cropped/IMG_1646229126545.jpg (deflated 7%)\n",
            "  adding: content/cropped/Mere-Sapno-Ki-Rani-ep3.jpg (deflated 1%)\n",
            "  adding: content/cropped/jabranep62.jpg (deflated 0%)\n",
            "  adding: content/cropped/IMG_1655489609125.jpg (deflated 1%)\n",
            "  adding: content/cropped/IMG_1661536365365.jpg (deflated 1%)\n",
            "  adding: content/cropped/IMG_16475943369172.jpg (deflated 2%)\n",
            "  adding: content/cropped/adla-badli-ep5.jpg (deflated 4%)\n",
            "  adding: content/cropped/IMG_16572209052072.jpg (deflated 1%)\n",
            "  adding: content/cropped/kp08jgert8o92.jpg (deflated 1%)\n",
            "  adding: content/cropped/Ratri-Kawach-ep4.jpg (deflated 1%)\n",
            "  adding: content/cropped/watchman-ep4.jpg (deflated 0%)\n",
            "  adding: content/cropped/chaddha2.jpg (deflated 11%)\n",
            "  adding: content/cropped/Paglet.2022.E03.jpg (deflated 2%)\n",
            "  adding: content/cropped/IMG_16560095698953.jpg (deflated 1%)\n",
            "  adding: content/cropped/IMG_1651517635956.jpg (deflated 1%)\n",
            "  adding: content/cropped/Langot-2.jpg (deflated 5%)\n",
            "  adding: content/cropped/khidki-part-1-ep1.jpg (deflated 4%)\n",
            "  adding: content/cropped/walkman-ep-5.jpg (deflated 15%)\n",
            "  adding: content/cropped/ghar-ka-call-boy-ep62.jpg (deflated 1%)\n",
            "  adding: content/cropped/Antrvasna.2022.E2.jpg (deflated 28%)\n",
            "  adding: content/cropped/IMG_1648924942844.jpg (deflated 2%)\n",
            "  adding: content/cropped/dhanno-doodh-wali-ep2.jpg (deflated 0%)\n",
            "  adding: content/cropped/qJVkv6w.jpg (deflated 0%)\n",
            "  adding: content/cropped/wmun4z90fval.jpg (deflated 3%)\n",
            "  adding: content/cropped/sush-bhabhi.jpg (deflated 1%)\n",
            "  adding: content/cropped/Television-E3-1.jpg (deflated 11%)\n",
            "  adding: content/cropped/pahredar-3ep4.jpg (deflated 2%)\n",
            "  adding: content/cropped/Grand_Masti2.jpg (deflated 4%)\n",
            "  adding: content/cropped/Naadani-Halkut.jpg (deflated 13%)\n",
            "  adding: content/cropped/IMG_1645849263340.jpg (deflated 1%)\n",
            "  adding: content/cropped/3f69a31a361b5916d4d1f4f451c0d913.jpg (deflated 2%)\n",
            "  adding: content/cropped/devika-ep3-2.jpg (deflated 3%)\n",
            "  adding: content/cropped/n0jpq7rfjhjx2.jpg (deflated 1%)\n",
            "  adding: content/cropped/taak-jhaak-ep45.jpg (deflated 1%)\n",
            "  adding: content/cropped/juaa-ep3.jpg (deflated 1%)\n",
            "  adding: content/cropped/ranjish-ep5.jpg (deflated 1%)\n",
            "  adding: content/cropped/IMG_16456783947932.jpg (deflated 3%)\n",
            "  adding: content/cropped/lifeinsurance2.jpg (deflated 1%)\n",
            "  adding: content/cropped/98da99ec46308b2c446cb46bbb5f0a0e.th_.jpg (deflated 1%)\n",
            "  adding: content/cropped/Ling-X-E032.jpg (deflated 1%)\n",
            "  adding: content/cropped/Khalish-ep9.jpg (deflated 6%)\n",
            "  adding: content/cropped/Atmbhabi.1.jpg (deflated 1%)\n",
            "  adding: content/cropped/kalpana-ep1.jpg (deflated 6%)\n",
            "  adding: content/cropped/IMG_1648921193271.jpg (deflated 0%)\n",
            "  adding: content/cropped/online-ishq-43.jpg (deflated 1%)\n",
            "  adding: content/cropped/8LSdSe32.jpg (deflated 0%)\n",
            "  adding: content/cropped/IMG_1651854073336.jpg (deflated 0%)\n",
            "  adding: content/cropped/Wrong-Turn1-12.jpg (deflated 4%)\n",
            "  adding: content/cropped/Blackmail-ep1.jpg (deflated 3%)\n",
            "  adding: content/cropped/saniya-Salman-2ep2.jpg (deflated 4%)\n",
            "  adding: content/cropped/Desire-2ep1.jpg (deflated 5%)\n",
            "  adding: content/cropped/badan-3-ep102.jpg (deflated 4%)\n",
            "  adding: content/cropped/Pichese-S02E06.jpg (deflated 4%)\n",
            "  adding: content/cropped/pyar-ki-tadap-ep4.jpg (deflated 3%)\n",
            "  adding: content/cropped/Khalish-ep7.jpg (deflated 3%)\n",
            "  adding: content/cropped/IMG_1662185111230.jpg (deflated 1%)\n",
            "  adding: content/cropped/Starngerep1.jpg (deflated 0%)\n",
            "  adding: content/cropped/Tenson_Moment.jpg (deflated 10%)\n",
            "  adding: content/cropped/Rose.Marlo_.S01E012.jpg (deflated 5%)\n",
            "  adding: content/cropped/IMG_1657207237194.jpg (deflated 18%)\n",
            "  adding: content/cropped/kitab-ka-raaz-ep3.jpg (deflated 1%)\n",
            "  adding: content/cropped/Pulinchikka-ep33.jpg (deflated 4%)\n",
            "  adding: content/cropped/mohan-chabiwala-ep52.jpg (deflated 1%)\n",
            "  adding: content/cropped/malkin-bhabhi3.jpg (deflated 1%)\n",
            "  adding: content/cropped/vlcsnap-2021-05-21-08h40m47s0802.jpg (deflated 8%)\n",
            "  adding: content/cropped/MEOW-CAT2.jpg (deflated 0%)\n",
            "  adding: content/cropped/IMG_1661410147178.jpg (deflated 5%)\n",
            "  adding: content/cropped/Television-E4.jpg (deflated 1%)\n",
            "  adding: content/cropped/IMG_1646763392422.jpg (deflated 0%)\n",
            "  adding: content/cropped/IMG_1656523554239.jpg (deflated 5%)\n",
            "  adding: content/cropped/IMG_1650038990330.jpg (deflated 1%)\n",
            "  adding: content/cropped/flat-screen-ep22.jpg (deflated 1%)\n",
            "  adding: content/cropped/IMG_1649841886166.jpg (deflated 0%)\n",
            "  adding: content/cropped/khidki-2ep62.jpg (deflated 1%)\n",
            "  adding: content/cropped/Malkin-hardcore.jpg (deflated 6%)\n",
            "  adding: content/cropped/5q6n20g4wo34.jpg (deflated 2%)\n",
            "  adding: content/cropped/hgds2.jpg (deflated 1%)\n",
            "  adding: content/cropped/yesmemep3.jpg (deflated 2%)\n",
            "  adding: content/cropped/IMG_16565235542393.jpg (deflated 1%)\n",
            "  adding: content/cropped/IMG_1649055910834.jpg (deflated 4%)\n",
            "  adding: content/cropped/Amrapali42.jpg (deflated 1%)\n",
            "  adding: content/cropped/Tohfa-ep4.jpg (deflated 3%)\n",
            "  adding: content/cropped/pyaas-ep1.jpg (deflated 3%)\n",
            "  adding: content/cropped/Sambndh.2022.EP1_2.jpg (deflated 6%)\n",
            "  adding: content/cropped/SHAUKEEN-BHAUJI.jpg (deflated 0%)\n",
            "  adding: content/cropped/vlcsnap-2021-05-21-08h40m47s080.jpg (deflated 1%)\n",
            "  adding: content/cropped/damad-jiep64.jpg (deflated 4%)\n",
            "  adding: content/cropped/85fnuaxny8ly.jpg (deflated 0%)\n",
            "  adding: content/cropped/purani-haveli-ep1.jpg (deflated 1%)\n",
            "  adding: content/cropped/IMG_16609734503012.jpg (deflated 0%)\n",
            "  adding: content/cropped/Manchaha-ep4.jpg (deflated 4%)\n",
            "  adding: content/cropped/Walkman-Part-1ep22.jpg (deflated 0%)\n",
            "  adding: content/cropped/dhanda.jpg (deflated 2%)\n",
            "  adding: content/cropped/Gadikitab2.2022.E04.jpg (deflated 0%)\n",
            "  adding: content/cropped/Farebi.2022.Leo_.jpg (deflated 2%)\n",
            "  adding: content/cropped/Golu.S01E01.jpg (deflated 10%)\n",
            "  adding: content/cropped/Kodaikanal-ep1.jpg (deflated 1%)\n",
            "  adding: content/cropped/photographar4.jpg (deflated 1%)\n",
            "  adding: content/cropped/Love-guru-session-2-ep1.jpg (deflated 1%)\n",
            "  adding: content/cropped/p4qFY613.jpg (deflated 1%)\n",
            "  adding: content/cropped/1osTUja2.jpg (deflated 1%)\n",
            "  adding: content/cropped/Sultan-part-1-ep2.jpg (deflated 1%)\n",
            "  adding: content/cropped/mami-bhanji-ep2.jpg (deflated 1%)\n",
            "  adding: content/cropped/IMG_1654876467539.jpg (deflated 2%)\n",
            "  adding: content/cropped/IMG_16625253658632.jpg (deflated 12%)\n",
            "  adding: content/cropped/rain-basera-ep6.jpg (deflated 3%)\n",
            "  adding: content/cropped/ek-ajnabee-ep2.jpg (deflated 6%)\n",
            "  adding: content/cropped/3w739i97onoh2.jpg (deflated 1%)\n",
            "  adding: content/cropped/paglet3-ep5.jpg (deflated 0%)\n",
            "  adding: content/cropped/5jnerkr4ux3u.jpg (deflated 2%)\n",
            "  adding: content/cropped/Ghonchu-EP01.jpg (deflated 10%)\n",
            "  adding: content/cropped/IMG_16489627961045.jpg (deflated 1%)\n",
            "  adding: content/cropped/Guest3_Moment.jpg (deflated 2%)\n",
            "  adding: content/cropped/Chaska-ep4.jpg (deflated 2%)\n",
            "  adding: content/cropped/walkman-ep-52.jpg (deflated 4%)\n",
            "  adding: content/cropped/IMG_16489627961044.jpg (deflated 1%)\n",
            "  adding: content/cropped/damad-ji-ep64.jpg (deflated 3%)\n",
            "  adding: content/cropped/adhuri-aas-ep3.jpg (deflated 9%)\n",
            "  adding: content/cropped/Adhuri-Kahani.jpg (deflated 6%)\n",
            "  adding: content/cropped/dhokebaaz2.jpg (deflated 3%)\n",
            "  adding: content/cropped/jabranep52.jpg (deflated 1%)\n",
            "  adding: content/cropped/IMG_1660973449189.jpg (deflated 1%)\n",
            "  adding: content/cropped/lKbzJM12.jpg (deflated 0%)\n",
            "  adding: content/cropped/Rangliprt2.5.jpg (deflated 7%)\n",
            "  adding: content/cropped/taak-jhaak-ep4.jpg (deflated 2%)\n",
            "  adding: content/cropped/Tohfa-ep2.jpg (deflated 2%)\n",
            "  adding: content/cropped/online-ishq-4.jpg (deflated 1%)\n",
            "  adding: content/cropped/IMG_1646290081317.jpg (deflated 2%)\n",
            "  adding: content/cropped/IMG_16538801994412.jpg (deflated 1%)\n",
            "  adding: content/cropped/bhookh-ep1.jpg (deflated 1%)\n",
            "  adding: content/cropped/IMG_1652098098040.jpg (deflated 4%)\n",
            "  adding: content/cropped/Ghar-Sasur-ep5.jpg (deflated 2%)\n",
            "  adding: content/cropped/kaam-tamam-ep3.jpg (deflated 2%)\n",
            "  adding: content/cropped/tadap-ep2.jpg (deflated 1%)\n",
            "  adding: content/cropped/vlcsnap-2021-06-23-21h18m00s379.jpg (deflated 2%)\n",
            "  adding: content/cropped/jalebi-3-ep1.jpg (deflated 0%)\n",
            "  adding: content/cropped/Do-Haseena-Part2-ep1.jpg (deflated 1%)\n",
            "  adding: content/cropped/LIZABED.jpg (deflated 9%)\n",
            "  adding: content/cropped/Vishu-Kaineettam-Ep2.jpg (deflated 1%)\n",
            "  adding: content/cropped/IMG_1651174228352.jpg (deflated 1%)\n",
            "  adding: content/cropped/Ragging-ep2.jpg (deflated 10%)\n",
            "  adding: content/cropped/pahredaar-ep4.jpg (deflated 1%)\n",
            "  adding: content/cropped/Kodaikanal-ep22.jpg (deflated 3%)\n",
            "  adding: content/cropped/Pulinchikka-ep14.jpg (deflated 1%)\n",
            "  adding: content/cropped/Dhundh-ep1.jpg (deflated 4%)\n",
            "  adding: content/cropped/room-service-ep1.jpg (deflated 4%)\n",
            "  adding: content/cropped/IMG_1651250163788.jpg (deflated 1%)\n",
            "  adding: content/cropped/Tohfa-ep1.jpg (deflated 1%)\n",
            "  adding: content/cropped/damad-ji-ep6.jpg (deflated 2%)\n",
            "  adding: content/cropped/ju8-2.jpg (deflated 4%)\n",
            "  adding: content/cropped/IMG_16524558056563.jpg (deflated 1%)\n",
            "  adding: content/cropped/dost-se-pyar.jpg (deflated 9%)\n",
            "  adding: content/cropped/IMG_1646246053524.jpg (deflated 2%)\n",
            "  adding: content/cropped/xsutra12.jpg (deflated 1%)\n",
            "  adding: content/cropped/mr-teacher-ep42.jpg (deflated 1%)\n",
            "  adding: content/cropped/begam-ka-kotha-Ep3-3.jpg (deflated 5%)\n",
            "  adding: content/cropped/5jnerkr4ux3u2.jpg (deflated 1%)\n",
            "  adding: content/cropped/Galtiyan-1.jpg (deflated 3%)\n",
            "  adding: content/cropped/nath-ep62.jpg (deflated 3%)\n",
            "  adding: content/cropped/IMG_16613384902802.jpg (deflated 1%)\n",
            "  adding: content/cropped/chaska-ep2.jpg (deflated 5%)\n",
            "  adding: content/cropped/one-boy-two-girls.jpg (deflated 3%)\n",
            "  adding: content/cropped/Lilly-bhabhi.jpg (deflated 0%)\n",
            "  adding: content/cropped/Desi-Sabjiwali3.jpg (deflated 7%)\n",
            "  adding: content/cropped/damad-jiep62.jpg (deflated 1%)\n",
            "  adding: content/cropped/MEOW-CAT.jpg (deflated 0%)\n",
            "  adding: content/cropped/vlcsnap-2021-06-22-12h52m32s881.jpg (deflated 1%)\n",
            "  adding: content/cropped/choti-Bahu-ep5.jpg (deflated 2%)\n",
            "  adding: content/cropped/Roopmati-ep12.jpg (deflated 0%)\n",
            "  adding: content/cropped/IMG_16512501637882.jpg (deflated 0%)\n",
            "  adding: content/cropped/kamini-ep2.jpg (deflated 16%)\n",
            "  adding: content/cropped/aunty-ka-pg-ep1.jpg (deflated 7%)\n",
            "  adding: content/cropped/laachi-ep2.jpg (deflated 4%)\n",
            "  adding: content/cropped/Rasili-ep62.jpg (deflated 3%)\n",
            "  adding: content/cropped/IMG_1648052772770.jpg (deflated 0%)\n",
            "  adding: content/cropped/IMG_1649816492417.jpg (deflated 1%)\n",
            "  adding: content/cropped/chaska-ep7.jpg (deflated 5%)\n",
            "  adding: content/cropped/Ghar-Sasur-ep62.jpg (deflated 1%)\n",
            "  adding: content/cropped/Babu-ji-ep1.jpg (deflated 0%)\n",
            "  adding: content/cropped/IMG_1645723027396.jpg (deflated 2%)\n",
            "  adding: content/cropped/gidgboz2.jpg (deflated 0%)\n",
            "  adding: content/cropped/IMG_16458492633402.jpg (deflated 0%)\n",
            "  adding: content/cropped/IMG_1652029917654.jpg (deflated 3%)\n",
            "  adding: content/cropped/Khalish-ep5.jpg (deflated 4%)\n",
            "  adding: content/cropped/Sauteleep2.jpg (deflated 1%)\n",
            "  adding: content/cropped/Jalebi-ep42.jpg (deflated 4%)\n",
            "  adding: content/cropped/nath-ep22.jpg (deflated 9%)\n",
            "  adding: content/cropped/Sapna-S02-Ep32.jpg (deflated 12%)\n",
            "  adding: content/cropped/IMG_1646283258662.jpg (deflated 1%)\n",
            "  adding: content/cropped/jabran-part1-ep2.jpg (deflated 4%)\n",
            "  adding: content/cropped/duhan-e01.jpg (deflated 11%)\n",
            "  adding: content/cropped/Rowdy-girls.jpg (deflated 1%)\n",
            "  adding: content/cropped/Farebi-Yaar-Part-2-Ep5.jpg (deflated 6%)\n",
            "  adding: content/cropped/dream-girl-ep62.jpg (deflated 2%)\n",
            "  adding: content/cropped/Seduction.jpg (deflated 4%)\n",
            "  adding: content/cropped/choti-Bahu-ep6.jpg (deflated 1%)\n",
            "  adding: content/cropped/pyar-idhar-udhar-ep4.jpg (deflated 5%)\n",
            "  adding: content/cropped/Gaon-Ki-Garmi-3ep7.jpg (deflated 2%)\n",
            "  adding: content/cropped/IMG_1662525365863.jpg (deflated 6%)\n",
            "  adding: content/cropped/IMG_1651612524734.jpg (deflated 0%)\n",
            "  adding: content/cropped/Pulinchikka-ep3.jpg (deflated 2%)\n",
            "  adding: content/cropped/vlcsnap-2021-04-14-21h30m04s199.jpg (deflated 1%)\n",
            "  adding: content/cropped/IMG_16511691489352.jpg (deflated 6%)\n",
            "  adding: content/cropped/4-SUM-02-12.jpg (deflated 1%)\n",
            "  adding: content/cropped/sultanaNiks2.jpg (deflated 2%)\n",
            "  adding: content/cropped/Dhokha-A-Lust-Story-ep2.jpg (deflated 0%)\n",
            "  adding: content/cropped/Wrong-Turn1-1.jpg (deflated 8%)\n",
            "  adding: content/cropped/blackmail-ep32.jpg (deflated 7%)\n",
            "  adding: content/cropped/dream-girl-ep6.jpg (deflated 3%)\n",
            "  adding: content/cropped/Poonam-bhabhi.jpg (deflated 0%)\n",
            "  adding: content/cropped/IMG_1647969034589.jpg (deflated 0%)\n",
            "  adding: content/cropped/online-ishq-42.jpg (deflated 1%)\n",
            "  adding: content/cropped/Mukhiya-x-ep14.jpg (deflated 2%)\n",
            "  adding: content/cropped/hh5.jpg (deflated 1%)\n",
            "  adding: content/cropped/taak-jhaak-ep22.jpg (deflated 0%)\n",
            "  adding: content/cropped/IMG_1647594336917.jpg (deflated 1%)\n",
            "  adding: content/cropped/Rikshawala-ep8.jpg (deflated 7%)\n",
            "  adding: content/cropped/AFTER-SCHOOL4.jpg (deflated 3%)\n",
            "  adding: content/cropped/Maayan-32.jpg (deflated 1%)\n",
            "  adding: content/cropped/rain-basera-ep1.jpg (deflated 3%)\n",
            "  adding: content/cropped/Rakhail-ep2-1.jpg (deflated 7%)\n",
            "  adding: content/cropped/begam-ka-kotha-Ep2-.jpg (deflated 2%)\n",
            "  adding: content/cropped/r82.jpg (deflated 1%)\n",
            "  adding: content/cropped/iloveyouep1.jpg (deflated 4%)\n",
            "  adding: content/cropped/Seeti-Maar-Sajanwa-ep6.jpg (deflated 1%)\n",
            "  adding: content/cropped/Hardcore-Fuck-with-Step-Sister3.jpg (deflated 9%)\n",
            "  adding: content/cropped/Sappu-Ke-Pappu-S01E03-–-2020-–-Hindi-Hot-Web-Series-–-PulsePrime.jpg (deflated 1%)\n",
            "  adding: content/cropped/Hope-5-2.jpg (deflated 2%)\n",
            "  adding: content/cropped/Kaand-E2.jpg (deflated 2%)\n",
            "  adding: content/cropped/complimentary-ep1.jpg (deflated 1%)\n",
            "  adding: content/cropped/brithday-ep2.jpg (deflated 3%)\n",
            "  adding: content/cropped/IMG_1648753077722.jpg (deflated 1%)\n",
            "  adding: content/cropped/aPfS2dT.jpg (deflated 1%)\n",
            "  adding: content/cropped/Firangi-Thakurain-ep2.jpg (deflated 3%)\n",
            "  adding: content/cropped/Jane-Anjane-Mein-52.jpg (deflated 5%)\n",
            "  adding: content/cropped/darwaza-mat-kholna-ep1.jpg (deflated 0%)\n",
            "  adding: content/cropped/IMG_20220214_0956442.jpg (deflated 0%)\n",
            "  adding: content/cropped/pahredar-4-ep2.jpg (deflated 10%)\n",
            "  adding: content/cropped/fragrance.jpg (deflated 10%)\n",
            "  adding: content/cropped/rasiliep3.jpg (deflated 2%)\n",
            "  adding: content/cropped/papa-mange-more.jpg (deflated 0%)\n",
            "  adding: content/cropped/IMG_16463747062872.jpg (deflated 2%)\n",
            "  adding: content/cropped/damad-jiep65.jpg (deflated 1%)\n",
            "  adding: content/cropped/bathtub.jpg (deflated 1%)\n",
            "  adding: content/cropped/Shak.2022.E01.jpg (deflated 1%)\n",
            "  adding: content/cropped/Laila-2ep3.jpg (deflated 1%)\n",
            "  adding: content/cropped/Drlily.2022.E045.jpg (deflated 1%)\n",
            "  adding: content/cropped/jabranep6.jpg (deflated 1%)\n",
            "  adding: content/cropped/Desi-Majdur-Ki-Patni4.jpg (deflated 0%)\n",
            "  adding: content/cropped/palang-tod-siskiyaan-3-ep2.jpg (deflated 1%)\n",
            "  adding: content/cropped/manchaha-ep1.jpg (deflated 4%)\n",
            "  adding: content/cropped/tapan-episode-1.jpg (deflated 4%)\n",
            "  adding: content/cropped/Stranger.S01E0442.jpg (deflated 2%)\n",
            "  adding: content/cropped/1665584362820.jpg (deflated 5%)\n",
            "  adding: content/cropped/IMG_1651762920582.jpg (deflated 0%)\n",
            "  adding: content/cropped/Farbiishq.2022.E02.jpg (deflated 16%)\n",
            "  adding: content/cropped/IMG_1646124318539.jpg (deflated 2%)\n",
            "  adding: content/cropped/Rowdy-girls3.jpg (deflated 0%)\n",
            "  adding: content/cropped/Nikah-12.jpg (deflated 1%)\n",
            "  adding: content/cropped/IMG_1652376596091.jpg (deflated 1%)\n",
            "  adding: content/cropped/wine-dine-69.jpg (deflated 30%)\n",
            "  adding: content/cropped/Mudhal-Sambavamep2.jpg (deflated 6%)\n",
            "  adding: content/cropped/ooyo-kand-ep3.jpg (deflated 4%)\n",
            "  adding: content/cropped/Rs1000.2022.E01.jpg (deflated 3%)\n",
            "  adding: content/cropped/Tere-Jaisa-Yaar-Kaha-ep72.jpg (deflated 1%)\n",
            "  adding: content/cropped/IMG_1660544890223.jpg (deflated 0%)\n",
            "  adding: content/cropped/Desi-Sabjiwali2.jpg (deflated 1%)\n",
            "  adding: content/cropped/Sambndh.2022.EP1_.jpg (deflated 2%)\n",
            "  adding: content/cropped/index2.jpg (deflated 2%)\n",
            "  adding: content/cropped/nadaan-ep7.jpg (deflated 2%)\n",
            "  adding: content/cropped/Bidi.2.jpg (deflated 6%)\n",
            "  adding: content/cropped/Jalebi-ep3.jpg (deflated 23%)\n",
            "  adding: content/cropped/e43.jpg (deflated 0%)\n",
            "  adding: content/cropped/pahredar-3ep1.jpg (deflated 0%)\n",
            "  adding: content/cropped/Gaon-Ki-Garmi-3ep5.jpg (deflated 7%)\n",
            "  adding: content/cropped/Ghar-Sasur-ep72.jpg (deflated 1%)\n",
            "  adding: content/cropped/IMG_16511748763742.jpg (deflated 4%)\n",
            "  adding: content/cropped/IMG_1652032127110.jpg (deflated 3%)\n",
            "  adding: content/cropped/hanymoon-2.jpg (deflated 0%)\n",
            "  adding: content/cropped/Shadyantra-S02E01.jpg (deflated 15%)\n",
            "  adding: content/cropped/Khalish-ep6.jpg (deflated 12%)\n",
            "  adding: content/cropped/pinjara-ep1.jpg (deflated 0%)\n",
            "  adding: content/cropped/devika-ep3-.jpg (deflated 1%)\n",
            "  adding: content/cropped/Ling-X-E03.jpg (deflated 4%)\n",
            "  adding: content/cropped/XSUTRA-EP3.jpg (deflated 2%)\n",
            "  adding: content/cropped/IMG_1646914988807.jpg (deflated 1%)\n",
            "  adding: content/cropped/vlcsnap-2021-06-13-11h25m07s177.jpg (deflated 3%)\n",
            "  adding: content/cropped/Shahad-ep4.jpg (deflated 0%)\n",
            "  adding: content/cropped/Adhi-Gharwali-.jpg (deflated 2%)\n",
            "  adding: content/cropped/Stranger.S01E044.jpg (deflated 3%)\n",
            "  adding: content/cropped/StepMom-teaches-son-how-to-fuck.jpg (deflated 6%)\n",
            "  adding: content/cropped/Surrogate-Mother-fucked.jpg (deflated 7%)\n",
            "  adding: content/cropped/4qUeqKV2.jpg (deflated 2%)\n",
            "  adding: content/cropped/IMG_1658037671216.jpg (deflated 2%)\n",
            "  adding: content/cropped/IMG_1660474648270.jpg (deflated 1%)\n",
            "  adding: content/cropped/babu-ji-ep62.jpg (deflated 1%)\n",
            "  adding: content/cropped/IMG_1650791074824.jpg (deflated 0%)\n",
            "  adding: content/cropped/Blackmail-ep12.jpg (deflated 1%)\n",
            "  adding: content/cropped/Lela.32.jpg (deflated 1%)\n",
            "  adding: content/cropped/Gaon-Ki-Garmi-3-ep4.jpg (deflated 6%)\n",
            "  adding: content/cropped/ep3-1.jpg (deflated 7%)\n",
            "  adding: content/cropped/hope-ep1.jpg (deflated 1%)\n",
            "  adding: content/cropped/papa-mange-more2.jpg (deflated 0%)\n",
            "  adding: content/cropped/blind-love-2.jpg (deflated 0%)\n",
            "  adding: content/cropped/Dirty-Entertainer-ep2.jpg (deflated 12%)\n",
            "  adding: content/cropped/IMG_1661449415778.jpg (deflated 17%)\n",
            "  adding: content/cropped/IMG_1652383393155.jpg (deflated 1%)\n",
            "  adding: content/cropped/siskiyaan4e3-12.jpg (deflated 1%)\n",
            "  adding: content/cropped/adla-badli-ep63.jpg (deflated 3%)\n",
            "  adding: content/cropped/Dalal-X-1.jpg (deflated 3%)\n",
            "  adding: content/cropped/hast-Maithoon-ep2.jpg (deflated 2%)\n",
            "  adding: content/cropped/Kaand-E1.jpg (deflated 6%)\n",
            "  adding: content/cropped/IMG_1653880199441.jpg (deflated 1%)\n",
            "  adding: content/cropped/RANGEENMIZAZ2.jpg (deflated 1%)\n",
            "  adding: content/cropped/Sahara-ep72.jpg (deflated 1%)\n",
            "  adding: content/cropped/Vishu-Kaineettam-Ep22.jpg (deflated 13%)\n",
            "  adding: content/cropped/IMG_1646932135689.jpg (deflated 2%)\n",
            "  adding: content/cropped/IMG_1658406206753.jpg (deflated 1%)\n",
            "  adding: content/cropped/Garmi2.2022.E01.jpg (deflated 6%)\n",
            "  adding: content/cropped/Sali-Ke-Kaand-ep13.jpg (deflated 1%)\n",
            "  adding: content/cropped/Maal-Paani-Sexy-Sauda-ep12.jpg (deflated 10%)\n",
            "  adding: content/cropped/IMG_1649358443843.jpg (deflated 1%)\n",
            "  adding: content/cropped/Babi123.4.jpg (deflated 1%)\n",
            "  adding: content/cropped/mol-ki-bahu-ep23.jpg (deflated 1%)\n",
            "  adding: content/cropped/Khat-Shala-S01E04.jpg (deflated 2%)\n",
            "  adding: content/cropped/Remote-Control-ep1.jpg (deflated 4%)\n",
            "  adding: content/cropped/Drlily.2022.E04.jpg (deflated 2%)\n",
            "  adding: content/cropped/Psycho-Saiyan-ep22.jpg (deflated 5%)\n",
            "  adding: content/cropped/297114198_0-8.jpg (deflated 1%)\n",
            "  adding: content/cropped/IMG_16580376712162.jpg (deflated 2%)\n",
            "  adding: content/cropped/photographar1.jpg (deflated 0%)\n",
            "  adding: content/cropped/siskiyaan4e3-1.jpg (deflated 0%)\n",
            "  adding: content/cropped/nath-ep24.jpg (deflated 7%)\n",
            "  adding: content/cropped/IMG_1658494038501.jpg (deflated 2%)\n",
            "  adding: content/cropped/mr-teacher-ep2.jpg (deflated 4%)\n",
            "  adding: content/cropped/download.jpeg-6.jpg (deflated 1%)\n",
            "  adding: content/cropped/Ling-X-E033.jpg (deflated 3%)\n",
            "  adding: content/cropped/flat-screen-ep2.jpg (deflated 0%)\n",
            "  adding: content/cropped/Prmgme.2.jpg (deflated 4%)\n",
            "  adding: content/cropped/blind-kotha-ep12.jpg (deflated 11%)\n",
            "  adding: content/cropped/Blackmail-ep2.jpg (deflated 5%)\n",
            "  adding: content/cropped/IMG_16476256323443.jpg (deflated 0%)\n",
            "  adding: content/cropped/gulabo-e024.jpg (deflated 1%)\n",
            "  adding: content/cropped/gao-ki-malai-ep2.jpg (deflated 0%)\n",
            "  adding: content/cropped/Manchli.1.jpg (deflated 1%)\n",
            "  adding: content/cropped/Desire-2ep22.jpg (deflated 4%)\n",
            "  adding: content/cropped/IMG_1656615967070.jpg (deflated 2%)\n",
            "  adding: content/cropped/IMG_1657474950783.jpg (deflated 2%)\n",
            "  adding: content/cropped/IMG_16565235542392.jpg (deflated 0%)\n",
            "  adding: content/cropped/What-The-F-ep1-1.jpg (deflated 4%)\n",
            "  adding: content/cropped/yesmemep32.jpg (deflated 6%)\n",
            "  adding: content/cropped/adla-badli-ep52.jpg (deflated 5%)\n",
            "  adding: content/cropped/IMG_1646215780995.jpg (deflated 1%)\n",
            "  adding: content/cropped/MALLIKA-BEAUTY-SECRET.jpg (deflated 4%)\n",
            "  adding: content/cropped/ye-ashiqui-ep2.jpg (deflated 1%)\n",
            "  adding: content/cropped/Drlily.2022.E012.jpg (deflated 1%)\n",
            "  adding: content/cropped/SEX-WITH-FRIEND2.jpg (deflated 1%)\n",
            "  adding: content/cropped/online-ishq-44.jpg (deflated 2%)\n",
            "  adding: content/cropped/Drlily.2022.E03.jpg (deflated 4%)\n",
            "  adding: content/cropped/Doctor-Chaurasiya.E062.jpg (deflated 0%)\n",
            "  adding: content/cropped/IMG_1651984085031.jpg (deflated 1%)\n",
            "  adding: content/cropped/Miss-Teacher-13.jpg (deflated 1%)\n",
            "  adding: content/cropped/Do-Haseena-Part2-ep12.jpg (deflated 1%)\n",
            "  adding: content/cropped/bhookh-ep13.jpg (deflated 1%)\n",
            "  adding: content/cropped/Roopmati-ep63.jpg (deflated 2%)\n",
            "  adding: content/cropped/bidaai-ep3.jpg (deflated 2%)\n",
            "  adding: content/cropped/IMG_16580376712163.jpg (deflated 1%)\n",
            "  adding: content/cropped/IMG_16485319577222.jpg (deflated 0%)\n",
            "  adding: content/cropped/IMG_1661338490280.jpg (deflated 0%)\n",
            "  adding: content/cropped/pahredar-3ep3.jpg (deflated 6%)\n",
            "  adding: content/cropped/Rasiya-1.jpg (deflated 13%)\n",
            "  adding: content/cropped/malkin-bhabhi32.jpg (deflated 2%)\n",
            "  adding: content/cropped/my-i-come-ep3.jpg (deflated 2%)\n",
            "  adding: content/cropped/Tere-Jaisa-Yaar-Kaha-ep5.jpg (deflated 9%)\n",
            "  adding: content/cropped/Chull-Loveria-ep2.jpg (deflated 1%)\n",
            "  adding: content/cropped/IMG_1650074240285.jpg (deflated 2%)\n",
            "  adding: content/cropped/pbynby0cp3k7.jpg (deflated 0%)\n",
            "  adding: content/cropped/hope-ep4.jpg (deflated 0%)\n",
            "  adding: content/cropped/Gaon-Ki-Garmi-3-ep22.jpg (deflated 14%)\n",
            "  adding: content/cropped/n0jpq7rfjhjx.jpg (deflated 3%)\n",
            "  adding: content/cropped/1663957618549-convert.io_2.jpg (deflated 5%)\n",
            "  adding: content/cropped/vlcsnap-2021-06-23-19h18m18s909.jpg (deflated 7%)\n",
            "  adding: content/cropped/Farebi-Yaar-Part-2-Ep52.jpg (deflated 2%)\n",
            "  adding: content/cropped/blackmail-ep3.jpg (deflated 9%)\n",
            "  adding: content/cropped/amrapali-ep5.jpg (deflated 3%)\n",
            "  adding: content/cropped/chaddha.jpg (deflated 11%)\n",
            "  adding: content/cropped/Chaska-ep42.jpg (deflated 1%)\n",
            "  adding: content/cropped/ee92.jpg (deflated 8%)\n",
            "  adding: content/cropped/Desi-Majdur-Ki-Patni.jpg (deflated 7%)\n",
            "  adding: content/cropped/KaroNaa-ep4.jpg (deflated 1%)\n",
            "  adding: content/cropped/Pathshala-3-Ep4.jpg (deflated 4%)\n",
            "  adding: content/cropped/mr-teacher-ep23.jpg (deflated 3%)\n",
            "  adding: content/cropped/Mere-Sapno-Ki-Rani-ep22.jpg (deflated 1%)\n",
            "  adding: content/cropped/Galtiyan-12.jpg (deflated 4%)\n",
            "  adding: content/cropped/sardaar.jpg (deflated 3%)\n",
            "  adding: content/cropped/chiting-sudipa.jpg (deflated 0%)\n",
            "  adding: content/cropped/badan-3-ep10.jpg (deflated 3%)\n",
            "  adding: content/cropped/dream-girl-ep32.jpg (deflated 1%)\n",
            "  adding: content/cropped/IMG_1658170722769.jpg (deflated 1%)\n",
            "  adding: content/cropped/innocent.jpg (deflated 2%)\n",
            "  adding: content/cropped/Secret-Deal2.jpg (deflated 4%)\n",
            "  adding: content/cropped/adla-badli-ep6.jpg (deflated 2%)\n",
            "  adding: content/cropped/Rs1000.2022.E02.Yesma_.jpg (deflated 0%)\n",
            "  adding: content/cropped/IMG_1658494039048.jpg (deflated 0%)\n",
            "  adding: content/cropped/IMG_1660327844076.jpg (deflated 1%)\n",
            "  adding: content/cropped/IMG_16515176359563.jpg (deflated 1%)\n",
            "  adding: content/cropped/vlcsnap-2021-04-14-21h02m50s858.jpg (deflated 0%)\n",
            "  adding: content/cropped/Mukhiya-x-ep17.jpg (deflated 1%)\n",
            "  adding: content/cropped/IMG_1662523422792.jpg (deflated 1%)\n",
            "  adding: content/cropped/Unconditional-.jpg (deflated 1%)\n",
            "  adding: content/cropped/IMG_1661670550899.jpg (deflated 0%)\n",
            "  adding: content/cropped/saniya-Salman-ep6.jpg (deflated 6%)\n",
            "  adding: content/cropped/IMG_16469321356892.jpg (deflated 1%)\n",
            "  adding: content/cropped/download.jpeg-9.jpg (deflated 2%)\n",
            "  adding: content/cropped/akeli-ep22.jpg (deflated 4%)\n",
            "  adding: content/cropped/jabranep5.jpg (deflated 4%)\n",
            "  adding: content/cropped/tehdsfgdh2.jpg (deflated 0%)\n",
            "  adding: content/cropped/IMG_1650642170805.jpg (deflated 0%)\n",
            "  adding: content/cropped/Ghar-Sasur-ep2-.jpg (deflated 3%)\n",
            "  adding: content/cropped/Khalish-ep92.jpg (deflated 2%)\n",
            "  adding: content/cropped/pahredaar-ep32.jpg (deflated 3%)\n",
            "  adding: content/cropped/IMG_20220208_0749553.jpg (deflated 1%)\n",
            "  adding: content/cropped/Surrogate-Mother-fucked2.jpg (deflated 0%)\n",
            "  adding: content/cropped/Mukhiya-x-ep12.jpg (deflated 1%)\n",
            "  adding: content/cropped/1666491071439.jpg (deflated 0%)\n",
            "  adding: content/cropped/IMG_1646374706287.jpg (deflated 1%)\n",
            "  adding: content/cropped/Andha-Dhundh-primeshos.jpg (deflated 6%)\n",
            "  adding: content/cropped/ee9.jpg (deflated 1%)\n",
            "  adding: content/cropped/Step-Daddy-Punishes-Step-Daughter2.jpg (deflated 7%)\n",
            "  adding: content/cropped/IMG_16489235554732.jpg (deflated 2%)\n",
            "  adding: content/cropped/Gandii-Baat-S07E01.jpg (deflated 1%)\n",
            "  adding: content/cropped/IMG_16524558056562.jpg (deflated 1%)\n",
            "  adding: content/cropped/lKbzJM1.jpg (deflated 0%)\n",
            "  adding: content/cropped/Kaand-E22.jpg (deflated 18%)\n",
            "  adding: content/cropped/nath-ep2.jpg (deflated 7%)\n",
            "  adding: content/cropped/Siskiyaan-62.jpg (deflated 3%)\n",
            "  adding: content/cropped/Khalish-ep3.jpg (deflated 4%)\n",
            "  adding: content/cropped/Bijili-12.jpg (deflated 1%)\n",
            "  adding: content/cropped/gachi6.jpg (deflated 2%)\n",
            "  adding: content/cropped/flat-screen-ep12.jpg (deflated 1%)\n",
            "  adding: content/cropped/Ghar-Sasur-ep7.jpg (deflated 3%)\n",
            "  adding: content/cropped/nighty-student2.jpg (deflated 1%)\n",
            "  adding: content/cropped/IMG_16496444666572.jpg (deflated 0%)\n",
            "  adding: content/cropped/laachi-ep22.jpg (deflated 1%)\n",
            "  adding: content/cropped/Kyon-Nahin-Maara-ep4.jpg (deflated 1%)\n",
            "  adding: content/cropped/Yeah-Gandhi-Baat-ep2.jpg (deflated 10%)\n",
            "  adding: content/cropped/p4qFY612.jpg (deflated 2%)\n",
            "  adding: content/cropped/Gunha-Epi-1.jpg (deflated 17%)\n",
            "  adding: content/cropped/Desi-Majdur-Ki-Patni5.jpg (deflated 8%)\n",
            "  adding: content/cropped/IMG_16497300931794.jpg (deflated 1%)\n",
            "  adding: content/cropped/Mukhiya-x-ep1.jpg (deflated 2%)\n",
            "  adding: content/cropped/Maalpani.2022.E02.jpg (deflated 4%)\n",
            "  adding: content/cropped/IMG_1646907302157.jpg (deflated 1%)\n",
            "  adding: content/cropped/1osTUja.jpg (deflated 2%)\n",
            "  adding: content/cropped/download.jpeg.jpg (deflated 2%)\n",
            "  adding: content/cropped/car-washing-ep1.jpg (deflated 1%)\n",
            "  adding: content/cropped/sajani-ep32.jpg (deflated 4%)\n",
            "  adding: content/cropped/dhanno-doodh-wali-ep22.jpg (deflated 0%)\n",
            "  adding: content/cropped/IMG_1656009569895.jpg (deflated 1%)\n",
            "  adding: content/cropped/juaa-ep6.jpg (deflated 2%)\n",
            "  adding: content/cropped/Akgg-kooku_Moment1.jpg (deflated 1%)\n",
            "  adding: content/cropped/Sali-Ke-Kaand-ep1.jpg (deflated 3%)\n",
            "  adding: content/cropped/pahredaar-ep3.jpg (deflated 1%)\n",
            "  adding: content/cropped/IMG_1650078871392.jpg (deflated 2%)\n",
            "  adding: content/cropped/Miss-Teacher-1.jpg (deflated 2%)\n",
            "  adding: content/cropped/maalamaal-ep8.jpg (deflated 1%)\n",
            "  adding: content/cropped/Khalish-ep8.jpg (deflated 4%)\n",
            "  adding: content/cropped/MRDSE62.jpg (deflated 1%)\n",
            "  adding: content/cropped/PROMOTION2.jpg (deflated 2%)\n",
            "  adding: content/cropped/Gaon-Ki-Garmi-3ep8.jpg (deflated 1%)\n",
            "  adding: content/cropped/IMG_1646741504585.jpg (deflated 1%)\n",
            "  adding: content/cropped/Big-Boobs-Step-Mother.jpg (deflated 0%)\n",
            "  adding: content/cropped/Love-Guru-1.jpg (deflated 3%)\n",
            "  adding: content/cropped/The-Neighbour.jpg (deflated 3%)\n",
            "  adding: content/cropped/kitab-ka-raaz-ep4.jpg (deflated 1%)\n",
            "  adding: content/cropped/jara-dhire-dhire-ep2.jpg (deflated 4%)\n",
            "  adding: content/cropped/Unconditional-2.jpg (deflated 1%)\n",
            "  adding: content/cropped/Tharki-Baba.jpg (deflated 0%)\n",
            "  adding: content/cropped/ghar-ka-call-boy-ep4.jpg (deflated 1%)\n",
            "  adding: content/cropped/malai-ep1.jpg (deflated 1%)\n",
            "  adding: content/cropped/nath-ep6.jpg (deflated 2%)\n",
            "  adding: content/cropped/Adhuri-Pyaas-ep2.jpg (deflated 6%)\n",
            "  adding: content/cropped/IMG_1652455805656.jpg (deflated 3%)\n",
            "  adding: content/cropped/hgds.jpg (deflated 0%)\n",
            "  adding: content/cropped/charam-uncut.jpg (deflated 5%)\n",
            "  adding: content/cropped/Mere-Sapno-Ki-Rani-ep1.jpg (deflated 1%)\n",
            "  adding: content/cropped/Sexiest-Mommy-Part-2-2.jpg (deflated 0%)\n",
            "  adding: content/cropped/gachi4.jpg (deflated 2%)\n",
            "  adding: content/cropped/IMG_1660560337358.jpg (deflated 2%)\n",
            "  adding: content/cropped/PYAASI-DULHAN.jpg (deflated 0%)\n",
            "  adding: content/cropped/Sexiest-Mommy-Part-2-.jpg (deflated 1%)\n",
            "  adding: content/cropped/chameli-bhabhi-ep33.jpg (deflated 3%)\n",
            "  adding: content/cropped/IMG_1651429214970.jpg (deflated 10%)\n",
            "  adding: content/cropped/tehdsfgdh.jpg (deflated 1%)\n",
            "  adding: content/cropped/IMG_1647867067641.jpg (deflated 1%)\n",
            "  adding: content/cropped/IMG_1648912547326.jpg (deflated 1%)\n",
            "  adding: content/cropped/AFTER-SCHOOL.jpg (deflated 9%)\n",
            "  adding: content/cropped/wine-dine-692.jpg (deflated 3%)\n",
            "  adding: content/cropped/MRDSE6.jpg (deflated 2%)\n",
            "  adding: content/cropped/bathtub2.jpg (deflated 2%)\n",
            "  adding: content/cropped/IMG_1646489000436.jpg (deflated 2%)\n",
            "  adding: content/cropped/IMG_1650558830731.jpg (deflated 0%)\n",
            "  adding: content/cropped/room-service-ep2.jpg (deflated 15%)\n",
            "  adding: content/cropped/IMG_1645882552560.jpg (deflated 2%)\n",
            "  adding: content/cropped/Teacher-S01E02.jpg (deflated 3%)\n",
            "  adding: content/cropped/download.jpeg-2-1.jpg (deflated 1%)\n",
            "  adding: content/cropped/8LSdSe3.jpg (deflated 1%)\n",
            "  adding: content/cropped/mr-teacher-ep22.jpg (deflated 3%)\n",
            "  adding: content/cropped/Siskiyaan-6.jpg (deflated 7%)\n",
            "  adding: content/cropped/taak-jhaak-ep42.jpg (deflated 2%)\n",
            "  adding: content/cropped/Rikshawala-ep72.jpg (deflated 2%)\n",
            "  adding: content/cropped/nai-naveli.jpg (deflated 2%)\n",
            "  adding: content/cropped/IMG_16615336121482.jpg (deflated 2%)\n",
            "  adding: content/cropped/IMG_1648531957722.jpg (deflated 0%)\n",
            "  adding: content/cropped/IMG_1656422780376.jpg (deflated 4%)\n",
            "  adding: content/cropped/Prehedar2.2022.E2.jpg (deflated 2%)\n",
            "  adding: content/cropped/pinjara-ep13.jpg (deflated 2%)\n",
            "  adding: content/cropped/Prostitute_2.jpg (deflated 1%)\n",
            "  adding: content/cropped/IMG_1645678394793.jpg (deflated 1%)\n",
            "  adding: content/cropped/Dirty-Doctor.jpg (deflated 1%)\n",
            "  adding: content/cropped/adla-badli-ep2.jpg (deflated 0%)\n",
            "  adding: content/cropped/4qUeqKV.jpg (deflated 2%)\n",
            "  adding: content/cropped/juaa-ep12.jpg (deflated 2%)\n",
            "  adding: content/cropped/ep222.jpg (deflated 9%)\n",
            "  adding: content/cropped/Ratri-Kawach-Ep2.jpg (deflated 8%)\n",
            "  adding: content/cropped/epp1.jpg (deflated 1%)\n",
            "  adding: content/cropped/Orange-Hooker.jpg (deflated 2%)\n",
            "  adding: content/cropped/Rangeen-Baatein-2-ep2-1.jpg (deflated 5%)\n",
            "  adding: content/cropped/SUNO_2.jpg (deflated 5%)\n",
            "  adding: content/cropped/liAJEgY.jpg (deflated 1%)\n",
            "  adding: content/cropped/ye-ashiqui-ep1.jpg (deflated 7%)\n",
            "  adding: content/cropped/photographar2.jpg (deflated 1%)\n",
            "  adding: content/cropped/dedi-noukar.jpg (deflated 1%)\n",
            "  adding: content/cropped/IMG_16509651961753.jpg (deflated 7%)\n",
            "  adding: content/cropped/IMG_16503306182842.jpg (deflated 0%)\n",
            "  adding: content/cropped/dirty-didike-sath2.jpg (deflated 0%)\n",
            "  adding: content/cropped/Secretary-ep1.jpg (deflated 3%)\n",
            "  adding: content/cropped/Neon-Green-Gradient-Fitness-YouTube-Thumbnail-1-1.jpg (deflated 11%)\n",
            "  adding: content/cropped/Rangliprt2.52.jpg (deflated 14%)\n",
            "  adding: content/cropped/gachi42.jpg (deflated 4%)\n",
            "  adding: content/cropped/Big-Boobs-Step-Mother2.jpg (deflated 1%)\n",
            "  adding: content/cropped/pahredaar-ep33.jpg (deflated 1%)\n",
            "  adding: content/cropped/Desi-Majdur-Ki-Patni3.jpg (deflated 0%)\n",
            "  adding: content/cropped/Nikah-1.jpg (deflated 1%)\n",
            "  adding: content/cropped/Khalish-ep4.jpg (deflated 1%)\n",
            "  adding: content/cropped/yoga-class.jpg (deflated 0%)\n",
            "  adding: content/cropped/r8.jpg (deflated 9%)\n",
            "  adding: content/cropped/Sreeragam-ep1.jpg (deflated 2%)\n",
            "  adding: content/cropped/teushan-techar-ep3.jpg (deflated 1%)\n",
            "  adding: content/cropped/Psycho-Saiyan-ep23.jpg (deflated 6%)\n",
            "  adding: content/cropped/IMG_1654825844230.jpg (deflated 1%)\n",
            "  adding: content/cropped/Kamasuthram-ep2.jpg (deflated 1%)\n",
            "  adding: content/cropped/download.jpeg-1.jpg (deflated 7%)\n",
            "  adding: content/cropped/desi-tadka.jpg (deflated 2%)\n",
            "  adding: content/cropped/IMG_1660973450301.jpg (deflated 0%)\n",
            "  adding: content/cropped/khidki-part-1-ep2.jpg (deflated 7%)\n",
            "  adding: content/cropped/Khalish-ep52.jpg (deflated 3%)\n",
            "  adding: content/cropped/halala-ep1.jpg (deflated 3%)\n",
            "  adding: content/cropped/rajneeti-ep4.jpg (deflated 1%)\n",
            "  adding: content/cropped/Pyar-Idhar-Udhar-ep6.jpg (deflated 6%)\n",
            "  adding: content/cropped/khidki-2ep6.jpg (deflated 8%)\n",
            "  adding: content/cropped/Haramkhor-MooDx-Originals.jpg (deflated 3%)\n",
            "  adding: content/cropped/IMG_1661700048013.jpg (deflated 0%)\n",
            "  adding: content/cropped/SEX-WITH-FRIEND.jpg (deflated 1%)\n",
            "  adding: content/cropped/IMG_1651169148935.jpg (deflated 0%)\n",
            "  adding: content/cropped/Woodpecker_4.jpg (deflated 16%)\n",
            "  adding: content/cropped/Private-Tution-Teacher-OrchidFilm.jpg (deflated 7%)\n",
            "  adding: content/cropped/my-i-come-ep22.jpg (deflated 1%)\n",
            "  adding: content/cropped/PROMOTION.jpg (deflated 1%)\n",
            "  adding: content/cropped/IMG_1648534484819.jpg (deflated 1%)\n",
            "  adding: content/cropped/damad-ne-saas-ne-ghapaghap-choda.jpg (deflated 6%)\n",
            "  adding: content/cropped/IMG_16628008868202.jpg (deflated 1%)\n",
            "  adding: content/cropped/Kaam-Purush-S01E03-1.jpg (deflated 8%)\n",
            "  adding: content/cropped/Jalebi-ep4.jpg (deflated 2%)\n",
            "  adding: content/cropped/Mere-Sapno-Ki-Rani-ep2.jpg (deflated 2%)\n",
            "  adding: content/cropped/Saheli.Raven-Moives_2.jpg (deflated 5%)\n",
            "  adding: content/cropped/namakep1.jpg (deflated 5%)\n",
            "  adding: content/cropped/juaa-ep1.jpg (deflated 1%)\n",
            "  adding: content/cropped/jabranep53.jpg (deflated 2%)\n",
            "  adding: content/cropped/Rakhail-ep1-1.jpg (deflated 0%)\n",
            "  adding: content/cropped/begam-ka-kotha-Ep3-2.jpg (deflated 2%)\n",
            "  adding: content/cropped/Cheat-Dunki-ep22.jpg (deflated 1%)\n",
            "  adding: content/cropped/Rasili-ep6.jpg (deflated 1%)\n",
            "  adding: content/cropped/hh4.jpg (deflated 2%)\n",
            "  adding: content/cropped/kalpana-ep12.jpg (deflated 13%)\n",
            "  adding: content/cropped/gulabo-e02.jpg (deflated 3%)\n",
            "  adding: content/cropped/Ladies-Tailor-ep12.jpg (deflated 12%)\n",
            "  adding: content/cropped/The-Exchange-E1.jpg (deflated 4%)\n",
            "  adding: content/cropped/babu-ji-ep2.jpg (deflated 0%)\n",
            "  adding: content/cropped/Secret-Deal.jpg (deflated 4%)\n",
            "  adding: content/cropped/Big-Boobs-Step-Mother3.jpg (deflated 0%)\n",
            "  adding: content/cropped/Bijili-13.jpg (deflated 2%)\n",
            "  adding: content/cropped/ooyo-kand-ep2.jpg (deflated 9%)\n",
            "  adding: content/cropped/laachi-ep5.jpg (deflated 5%)\n",
            "  adding: content/cropped/IMG_20220208_074955.jpg (deflated 2%)\n",
            "  adding: content/cropped/IMG_16497300931793.jpg (deflated 0%)\n",
            "  adding: content/cropped/IMG_1657890324660.jpg (deflated 1%)\n",
            "  adding: content/cropped/kuwari-dulhan-ep1.jpg (deflated 0%)\n",
            "  adding: content/cropped/Laila-ep2.jpg (deflated 0%)\n",
            "  adding: content/cropped/IMG_16554896091252.jpg (deflated 2%)\n",
            "  adding: content/cropped/mr-teacher-ep4.jpg (deflated 1%)\n",
            "  adding: content/cropped/kelewali.jpg (deflated 5%)\n",
            "  adding: content/cropped/IMG_1651762340451.jpg (deflated 0%)\n",
            "  adding: content/cropped/y15rnracazpv.jpg (deflated 2%)\n",
            "  adding: content/cropped/IMG_1648923555473.jpg (deflated 4%)\n",
            "  adding: content/cropped/samay-yaatra-ep3.jpg (deflated 1%)\n",
            "  adding: content/cropped/IMG_1650736011315.jpg (deflated 0%)\n",
            "  adding: content/cropped/Starngerep2.jpg (deflated 1%)\n",
            "  adding: content/cropped/adla-badli-ep22.jpg (deflated 0%)\n",
            "  adding: content/cropped/chaska-ep72.jpg (deflated 4%)\n",
            "  adding: content/cropped/lifeinsurance22.jpg (deflated 1%)\n",
            "  adding: content/cropped/Desi-Sabjiwali4.jpg (deflated 1%)\n",
            "  adding: content/cropped/adla-badli-ep53.jpg (deflated 1%)\n",
            "  adding: content/cropped/hast-Maithoon-ep23.jpg (deflated 4%)\n",
            "  adding: content/cropped/kitab-ka-raaz-ep42.jpg (deflated 0%)\n",
            "  adding: content/cropped/vasuep32.jpg (deflated 0%)\n",
            "  adding: content/cropped/Paglet.2022.E032.jpg (deflated 2%)\n",
            "  adding: content/cropped/IMG_16566159652792.jpg (deflated 0%)\n",
            "  adding: content/cropped/IMG_16518540733362.jpg (deflated 2%)\n",
            "  adding: content/cropped/sauteli-ep32.jpg (deflated 4%)\n",
            "  adding: content/cropped/jalan-ep5-12.jpg (deflated 3%)\n",
            "  adding: content/cropped/IMG_16509651961752.jpg (deflated 2%)\n",
            "  adding: content/cropped/Tharki-Baba2.jpg (deflated 3%)\n",
            "  adding: content/cropped/Naughty-Sister2.jpg (deflated 1%)\n",
            "  adding: content/cropped/dedi-noukar2.jpg (deflated 1%)\n",
            "  adding: content/cropped/Laila-ep22.jpg (deflated 1%)\n",
            "  adding: content/cropped/Dirty-Entertainer-ep22.jpg (deflated 2%)\n",
            "  adding: content/cropped/samay-yaatra-ep32.jpg (deflated 9%)\n",
            "  adding: content/cropped/amrapali-ep52.jpg (deflated 1%)\n",
            "  adding: content/cropped/Kulta3.Moodx_2.jpg (deflated 5%)\n",
            "  adding: content/cropped/Roopmati-ep62.jpg (deflated 0%)\n",
            "  adding: content/cropped/teushan-techar-ep32.jpg (deflated 1%)\n",
            "  adding: content/cropped/Drlily.2022.E043.jpg (deflated 1%)\n",
            "  adding: content/cropped/adhuri-aas-ep32.jpg (deflated 1%)\n",
            "  adding: content/cropped/darwaza-mat-kholna-ep12.jpg (deflated 0%)\n",
            "  adding: content/cropped/hh52.jpg (deflated 0%)\n",
            "  adding: content/cropped/IMG_16614494157782.jpg (deflated 15%)\n",
            "  adding: content/cropped/vlcsnap-2021-06-22-12h52m32s8812.jpg (deflated 2%)\n",
            "  adding: content/cropped/Sali-Ke-Kaand-ep12.jpg (deflated 0%)\n",
            "  adding: content/cropped/choti-Bahu-ep52.jpg (deflated 1%)\n",
            "  adding: content/cropped/adla-badli-ep42.jpg (deflated 18%)\n",
            "  adding: content/cropped/rasiliep42.jpg (deflated 0%)\n",
            "  adding: content/cropped/IMG_16490057931872.jpg (deflated 1%)\n",
            "  adding: content/cropped/Desire-2ep12.jpg (deflated 1%)\n",
            "  adding: content/cropped/Sapna-S02-Ep322.jpg (deflated 7%)\n",
            "  adding: content/cropped/IMG_16588185695292.jpg (deflated 1%)\n",
            "  adding: content/cropped/IMG_16520299176544.jpg (deflated 1%)\n",
            "  adding: content/cropped/Dalal-X-13.jpg (deflated 3%)\n",
            "  adding: content/cropped/IMG_16616705508992.jpg (deflated 0%)\n",
            "  adding: content/cropped/Drlily.2022.E044.jpg (deflated 1%)\n",
            "  adding: content/cropped/IMG_16489627961046.jpg (deflated 1%)\n",
            "  adding: content/cropped/chupan-chupai-ep4-12.jpg (deflated 3%)\n",
            "  adding: content/cropped/IMG_16500788713922.jpg (deflated 1%)\n",
            "  adding: content/cropped/vlcsnap-2021-06-13-11h25m07s1772.jpg (deflated 3%)\n",
            "  adding: content/cropped/IMG_16489627961042.jpg (deflated 2%)\n",
            "  adding: content/cropped/babu-ji-ep63.jpg (deflated 0%)\n",
            "  adding: content/cropped/IMG_16500754596882.jpg (deflated 1%)\n",
            "  adding: content/cropped/IMG_16574749507832.jpg (deflated 0%)\n",
            "  adding: content/cropped/Teacher-No-12.jpg (deflated 0%)\n",
            "  adding: content/cropped/pyar-ki-tadap-ep42.jpg (deflated 2%)\n",
            "  adding: content/cropped/Gupchup.2022.E042.jpg (deflated 3%)\n",
            "  adding: content/cropped/Jalebi-3-ep52.jpg (deflated 1%)\n",
            "  adding: content/cropped/Mangalik-3-43.jpg (deflated 1%)\n",
            "  adding: content/cropped/IMG_16548258442302.jpg (deflated 1%)\n",
            "  adding: content/cropped/bhookh-ep12.jpg (deflated 1%)\n",
            "  adding: content/cropped/dnfvdjww5glw2.jpg (deflated 2%)\n",
            "  adding: content/cropped/kamini-ep22.jpg (deflated 1%)\n",
            "  adding: content/cropped/kuwari-dulhan-ep12.jpg (deflated 1%)\n",
            "  adding: content/cropped/Mukhiya-x-ep15.jpg (deflated 4%)\n",
            "  adding: content/cropped/cxye09rg63ot2.jpg (deflated 1%)\n",
            "  adding: content/cropped/Babi123.42.jpg (deflated 3%)\n",
            "  adding: content/cropped/choti-Bahu-ep62.jpg (deflated 3%)\n",
            "  adding: content/cropped/photographar42.jpg (deflated 2%)\n",
            "  adding: content/cropped/AFTER-SCHOOL5.jpg (deflated 11%)\n",
            "  adding: content/cropped/desi-tadka3.jpg (deflated 2%)\n",
            "  adding: content/cropped/Hardcore-Fuck-with-Step-Sister4.jpg (deflated 4%)\n",
            "  adding: content/cropped/5q6n20g4wo342.jpg (deflated 1%)\n",
            "  adding: content/cropped/IMG_16469149888072.jpg (deflated 1%)\n",
            "  adding: content/cropped/IMG_16560095698952.jpg (deflated 1%)\n",
            "  adding: content/cropped/mol-ki-bahu-ep12.jpg (deflated 1%)\n",
            "  adding: content/cropped/IMG_16520299176543.jpg (deflated 2%)\n",
            "  adding: content/cropped/one-boy-two-girls2.jpg (deflated 2%)\n",
            "  adding: content/cropped/klpd2.jpg (deflated 1%)\n",
            "  adding: content/cropped/maalamaal-ep63.jpg (deflated 1%)\n",
            "  adding: content/cropped/Roopmati-ep52.jpg (deflated 3%)\n",
            "  adding: content/cropped/Tere-Jaisa-Yaar-Kaha-ep52.jpg (deflated 3%)\n",
            "  adding: content/cropped/jhol-jhal-ep22.jpg (deflated 2%)\n",
            "  adding: content/cropped/badan-3-ep92.jpg (deflated 1%)\n",
            "  adding: content/cropped/jalebi-3-ep12.jpg (deflated 0%)\n",
            "  adding: content/cropped/MISS-BRIGANZA-ep22.jpg (deflated 1%)\n",
            "  adding: content/cropped/IMG_16572072371942.jpg (deflated 21%)\n",
            "  adding: content/cropped/IMG_16515200750872.jpg (deflated 0%)\n",
            "  adding: content/cropped/unxJMRF2.jpg (deflated 1%)\n",
            "  adding: content/cropped/ranjish-ep32.jpg (deflated 10%)\n",
            "  adding: content/cropped/IMG_16477855824142.jpg (deflated 1%)\n",
            "  adding: content/cropped/hanymoon-22.jpg (deflated 1%)\n",
            "  adding: content/cropped/309081349_1-12.jpg (deflated 2%)\n",
            "  adding: content/cropped/Mangalik-3-42.jpg (deflated 0%)\n",
            "  adding: content/cropped/IMG_20220208_0749554.jpg (deflated 1%)\n",
            "  adding: content/cropped/IMG_16581707227692.jpg (deflated 1%)\n",
            "  adding: content/cropped/samay-yaatra-ep22.jpg (deflated 1%)\n",
            "  adding: content/cropped/Pulinchikka-ep12.jpg (deflated 3%)\n",
            "  adding: content/cropped/saniya-Salman-2ep22.jpg (deflated 1%)\n",
            "  adding: content/cropped/lesbian3.jpg (deflated 5%)\n",
            "  adding: content/cropped/tueshan-teacher-ep42.jpg (deflated 5%)\n",
            "  adding: content/cropped/Dalal-X-12.jpg (deflated 2%)\n",
            "  adding: content/cropped/vlcsnap-2021-04-14-21h30m04s1992.jpg (deflated 1%)\n",
            "  adding: content/cropped/IMG_16515176359562.jpg (deflated 7%)\n",
            "  adding: content/cropped/Manchaha-ep42.jpg (deflated 3%)\n",
            "  adding: content/cropped/nai-naveli2.jpg (deflated 6%)\n",
            "  adding: content/cropped/IMG_16616705514462.jpg (deflated 2%)\n",
            "  adding: content/cropped/IMG_16484899495183.jpg (deflated 0%)\n",
            "  adding: content/cropped/ek-sath-teen-teen-ep12.jpg (deflated 1%)\n",
            "  adding: content/cropped/Kodaikanal-ep23.jpg (deflated 1%)\n",
            "  adding: content/cropped/iloveyouep22.jpg (deflated 1%)\n",
            "  adding: content/cropped/Naughty-Sister-ep22.jpg (deflated 1%)\n",
            "  adding: content/cropped/Vaidya-ep32.jpg (deflated 1%)\n",
            "  adding: content/cropped/taak-jhaak-ep44.jpg (deflated 1%)\n",
            "  adding: content/cropped/Antrvasna.2022.E22.jpg (deflated 1%)\n",
            "  adding: content/cropped/taak-jhaak-ep43.jpg (deflated 1%)\n",
            "  adding: content/cropped/IMG_16462460535242.jpg (deflated 1%)\n",
            "  adding: content/cropped/IMG_16604746482702.jpg (deflated 0%)\n",
            "  adding: content/cropped/good-luck-ep42.jpg (deflated 1%)\n",
            "  adding: content/cropped/lesbian2.jpg (deflated 4%)\n",
            "  adding: content/cropped/Hope-5-4.jpg (deflated 2%)\n",
            "  adding: content/cropped/Desi-Sabjiwali-part-22.jpg (deflated 4%)\n",
            "  adding: content/cropped/chiting-sudipa2.jpg (deflated 0%)\n",
            "  adding: content/cropped/Grand_Masti4.jpg (deflated 11%)\n",
            "  adding: content/cropped/jabran-part1-ep22.jpg (deflated 1%)\n",
            "  adding: content/cropped/Maalpani.2022.E022.jpg (deflated 1%)\n",
            "  adding: content/cropped/Dirty-Doctor2.jpg (deflated 1%)\n",
            "  adding: content/cropped/fuljhadi-bhabhi-ep12.jpg (deflated 2%)\n",
            "  adding: content/cropped/Avihitham-ep22.jpg (deflated 1%)\n",
            "  adding: content/cropped/badan-3-ep93.jpg (deflated 3%)\n",
            "  adding: content/cropped/Devrani-Jethani-Aur-Woh-ep12.jpg (deflated 3%)\n",
            "  adding: content/cropped/JaanBujKar_22.jpg (deflated 2%)\n",
            "  adding: content/cropped/Love-Guru-22.jpg (deflated 1%)\n",
            "  adding: content/cropped/Malkin-hardcore2.jpg (deflated 9%)\n",
            "  adding: content/cropped/IMG_16497300931792.jpg (deflated 1%)\n",
            "  adding: content/cropped/hope-ep22.jpg (deflated 0%)\n",
            "  adding: content/cropped/chaska-ep22.jpg (deflated 3%)\n",
            "  adding: content/cropped/IMG_16484899495184.jpg (deflated 2%)\n",
            "  adding: content/cropped/ghar-ka-call-boy-ep42.jpg (deflated 0%)\n",
            "  adding: content/cropped/jhol-jhal-ep23.jpg (deflated 0%)\n",
            "  adding: content/cropped/Tohfa-ep22.jpg (deflated 6%)\n",
            "  adding: content/cropped/SHAUKEEN-BHAUJI2.jpg (deflated 0%)\n",
            "  adding: content/cropped/Salman-Ep42.jpg (deflated 1%)\n",
            "  adding: content/cropped/adla-badli-ep62.jpg (deflated 4%)\n",
            "  adding: content/cropped/Chaska-ep52.jpg (deflated 4%)\n",
            "  adding: content/cropped/y15rnracazpv2.jpg (deflated 4%)\n",
            "  adding: content/cropped/Gaon-Ki-Biwi-ep12.jpg (deflated 1%)\n",
            "  adding: content/cropped/Gaon-Ki-Garmi-3ep72.jpg (deflated 3%)\n",
            "  adding: content/cropped/IMG_16484899495182.jpg (deflated 1%)\n",
            "  adding: content/cropped/IMG_16614101471782.jpg (deflated 1%)\n",
            "  adding: content/cropped/Woodpecker_42.jpg (deflated 12%)\n",
            "  adding: content/cropped/AFTER-SCHOOL6.jpg (deflated 9%)\n",
            "  adding: content/cropped/gulabo-e023.jpg (deflated 3%)\n",
            "  adding: content/cropped/IMG_16460210801802.jpg (deflated 1%)\n",
            "  adding: content/cropped/laachi-ep52.jpg (deflated 8%)\n",
            "  adding: content/cropped/IMG_16520299176545.jpg (deflated 0%)\n",
            "  adding: content/cropped/khidki-part-1-ep12.jpg (deflated 2%)\n",
            "  adding: content/cropped/play-boy-2-fliz2.jpg (deflated 8%)\n",
            "  adding: content/cropped/IMG_20220208_0749552.jpg (deflated 1%)\n",
            "  adding: content/cropped/babu-ji-ep22.jpg (deflated 1%)\n",
            "  adding: content/cropped/IMG_16476256323442.jpg (deflated 1%)\n",
            "  adding: content/cropped/garmi-ep-32.jpg (deflated 0%)\n",
            "  adding: content/cropped/download.jpeg-12.jpg (deflated 1%)\n",
            "  adding: content/cropped/AFTER-SCHOOL2.jpg (deflated 6%)\n",
            "  adding: content/cropped/IMG_16523833931552.jpg (deflated 1%)\n",
            "  adding: content/cropped/pahredaar-ep42.jpg (deflated 2%)\n",
            "  adding: content/cropped/IMG_16562639542213.jpg (deflated 0%)\n",
            "  adding: content/cropped/Hardcore-Fuck-with-Step-Sister2.jpg (deflated 3%)\n",
            "  adding: content/cropped/Drlily.2022.E042.jpg (deflated 2%)\n",
            "  adding: content/cropped/IMG_16485344848192.jpg (deflated 2%)\n",
            "  adding: content/cropped/kamini-ep23.jpg (deflated 35%)\n",
            "  adding: content/cropped/Farebi-yaar-ep12.jpg (deflated 0%)\n",
            "  adding: content/cropped/IMG_16575199117152.jpg (deflated 1%)\n",
            "  adding: content/cropped/Desi-Sabjiwali5.jpg (deflated 4%)\n"
          ]
        }
      ]
    },
    {
      "cell_type": "code",
      "source": [
        "!cp /content/cropped.zip /content/drive/MyDrive/cropped.zip"
      ],
      "metadata": {
        "id": "QCfw2IEFK7gE"
      },
      "execution_count": null,
      "outputs": []
    },
    {
      "cell_type": "code",
      "source": [
        "import os\n",
        "import shutil\n",
        "\n",
        "def extract_jpg_files(parent_folder, output_folder):\n",
        "    # Create the output folder if it doesn't exist\n",
        "    os.makedirs(output_folder, exist_ok=True)\n",
        "\n",
        "    # Traverse through the folder structure\n",
        "    for root, _, files in os.walk(parent_folder):\n",
        "        for file_name in files:\n",
        "            file_path = os.path.join(root, file_name)\n",
        "\n",
        "            # Check if the file is a JPG image\n",
        "            if file_name.lower().endswith('.jpg') and os.path.isfile(file_path):\n",
        "                # Copy the file to the output folder\n",
        "                shutil.copy(file_path, output_folder)\n",
        "                print(f'Copied {file_name} to {output_folder}')\n",
        "\n",
        "# Specify the parent folder path and the output folder path\n",
        "parent_folder = '/content/sad'\n",
        "output_folder = '/content/indian'\n",
        "\n",
        "# Call the function to extract JPG files from the folder structure\n",
        "extract_jpg_files(parent_folder, output_folder)\n",
        "\n"
      ],
      "metadata": {
        "colab": {
          "base_uri": "https://localhost:8080/"
        },
        "id": "QTMNzPAZcwkI",
        "outputId": "f1698a4e-8807-45b9-d231-577703136146"
      },
      "execution_count": null,
      "outputs": [
        {
          "output_type": "stream",
          "name": "stdout",
          "text": [
            "Copied tennis-014.jpg to /content/savita\n",
            "Copied tennis-014.jpg to /content/savita\n",
            "Copied tennis-007.jpg to /content/savita\n",
            "Copied tennis-0074.jpg to /content/savita\n",
            "Copied tennis-0072.jpg to /content/savita\n",
            "Copied tennis-0073.jpg to /content/savita\n",
            "Copied tennis-0075.jpg to /content/savita\n",
            "Copied tennis-007.jpg to /content/savita\n",
            "Copied tennis-0076.jpg to /content/savita\n",
            "Copied tennis-019.jpg to /content/savita\n",
            "Copied tennis-0192.jpg to /content/savita\n",
            "Copied tennis-019.jpg to /content/savita\n",
            "Copied tennis-028.jpg to /content/savita\n",
            "Copied tennis-017.jpg to /content/savita\n",
            "Copied tennis-026.jpg to /content/savita\n",
            "Copied tennis-026.jpg to /content/savita\n",
            "Copied tennis-0262.jpg to /content/savita\n",
            "Copied tennis-0263.jpg to /content/savita\n",
            "Copied tennis-029.jpg to /content/savita\n",
            "Copied tennis-029.jpg to /content/savita\n",
            "Copied tennis-0292.jpg to /content/savita\n",
            "Copied tennis-021.jpg to /content/savita\n",
            "Copied tennis-021.jpg to /content/savita\n",
            "Copied tennis-0212.jpg to /content/savita\n",
            "Copied tennis-013.jpg to /content/savita\n",
            "Copied tennis-0134.jpg to /content/savita\n",
            "Copied tennis-013.jpg to /content/savita\n",
            "Copied tennis-0132.jpg to /content/savita\n",
            "Copied tennis-0133.jpg to /content/savita\n",
            "Copied tennis-002.jpg to /content/savita\n",
            "Copied tennis-0024.jpg to /content/savita\n",
            "Copied tennis-0023.jpg to /content/savita\n",
            "Copied tennis-002.jpg to /content/savita\n",
            "Copied tennis-0022.jpg to /content/savita\n",
            "Copied tennis-0025.jpg to /content/savita\n",
            "Copied tennis-027.jpg to /content/savita\n",
            "Copied tennis-027.jpg to /content/savita\n",
            "Copied tennis-012.jpg to /content/savita\n",
            "Copied tennis-0122.jpg to /content/savita\n",
            "Copied tennis-012.jpg to /content/savita\n",
            "Copied tennis-020.jpg to /content/savita\n",
            "Copied tennis-020.jpg to /content/savita\n",
            "Copied tennis-0202.jpg to /content/savita\n",
            "Copied tennis-0203.jpg to /content/savita\n",
            "Copied tennis-0204.jpg to /content/savita\n",
            "Copied tennis-008.jpg to /content/savita\n",
            "Copied tennis-0082.jpg to /content/savita\n",
            "Copied tennis-0085.jpg to /content/savita\n",
            "Copied tennis-0083.jpg to /content/savita\n",
            "Copied tennis-0084.jpg to /content/savita\n",
            "Copied tennis-008.jpg to /content/savita\n",
            "Copied tennis-010.jpg to /content/savita\n",
            "Copied tennis-010.jpg to /content/savita\n",
            "Copied tennis-016.jpg to /content/savita\n",
            "Copied tennis-016.jpg to /content/savita\n",
            "Copied tennis-023.jpg to /content/savita\n",
            "Copied tennis-023.jpg to /content/savita\n",
            "Copied tennis-005.jpg to /content/savita\n",
            "Copied tennis-0057.jpg to /content/savita\n",
            "Copied tennis-0056.jpg to /content/savita\n",
            "Copied tennis-0059.jpg to /content/savita\n",
            "Copied tennis-0053.jpg to /content/savita\n",
            "Copied tennis-0054.jpg to /content/savita\n",
            "Copied tennis-0058.jpg to /content/savita\n",
            "Copied tennis-0052.jpg to /content/savita\n",
            "Copied tennis-005.jpg to /content/savita\n",
            "Copied tennis-0055.jpg to /content/savita\n",
            "Copied tennis-000.jpg to /content/savita\n",
            "Copied tennis-000.jpg to /content/savita\n",
            "Copied tennis-003.jpg to /content/savita\n",
            "Copied tennis-0034.jpg to /content/savita\n",
            "Copied tennis-0035.jpg to /content/savita\n",
            "Copied tennis-0033.jpg to /content/savita\n",
            "Copied tennis-0032.jpg to /content/savita\n",
            "Copied tennis-003.jpg to /content/savita\n",
            "Copied tennis-0036.jpg to /content/savita\n",
            "Copied tennis-006.jpg to /content/savita\n",
            "Copied tennis-0065.jpg to /content/savita\n",
            "Copied tennis-0064.jpg to /content/savita\n",
            "Copied tennis-0068.jpg to /content/savita\n",
            "Copied tennis-0063.jpg to /content/savita\n",
            "Copied tennis-0062.jpg to /content/savita\n",
            "Copied tennis-00611.jpg to /content/savita\n",
            "Copied tennis-00610.jpg to /content/savita\n",
            "Copied tennis-006.jpg to /content/savita\n",
            "Copied tennis-0066.jpg to /content/savita\n",
            "Copied tennis-0069.jpg to /content/savita\n",
            "Copied tennis-0067.jpg to /content/savita\n",
            "Copied tennis-025.jpg to /content/savita\n",
            "Copied tennis-0252.jpg to /content/savita\n",
            "Copied tennis-025.jpg to /content/savita\n",
            "Copied tennis-024.jpg to /content/savita\n",
            "Copied tennis-0243.jpg to /content/savita\n",
            "Copied tennis-0244.jpg to /content/savita\n",
            "Copied tennis-0242.jpg to /content/savita\n",
            "Copied tennis-024.jpg to /content/savita\n",
            "Copied tennis-004.jpg to /content/savita\n",
            "Copied tennis-0046.jpg to /content/savita\n",
            "Copied tennis-0044.jpg to /content/savita\n",
            "Copied tennis-0047.jpg to /content/savita\n",
            "Copied tennis-0045.jpg to /content/savita\n",
            "Copied tennis-0043.jpg to /content/savita\n",
            "Copied tennis-0042.jpg to /content/savita\n",
            "Copied tennis-004.jpg to /content/savita\n",
            "Copied tennis-0048.jpg to /content/savita\n",
            "Copied tennis-001.jpg to /content/savita\n",
            "Copied tennis-0014.jpg to /content/savita\n",
            "Copied tennis-0015.jpg to /content/savita\n",
            "Copied tennis-0016.jpg to /content/savita\n",
            "Copied tennis-0012.jpg to /content/savita\n",
            "Copied tennis-001.jpg to /content/savita\n",
            "Copied tennis-0013.jpg to /content/savita\n",
            "Copied tennis-015.jpg to /content/savita\n",
            "Copied tennis-015.jpg to /content/savita\n",
            "Copied tennis-0152.jpg to /content/savita\n",
            "Copied tennis-0153.jpg to /content/savita\n",
            "Copied tennis-018.jpg to /content/savita\n",
            "Copied tennis-018.jpg to /content/savita\n",
            "Copied tennis-0182.jpg to /content/savita\n",
            "Copied tennis-030.jpg to /content/savita\n",
            "Copied tennis-0307.jpg to /content/savita\n",
            "Copied tennis-0304.jpg to /content/savita\n",
            "Copied tennis-0302.jpg to /content/savita\n",
            "Copied tennis-0305.jpg to /content/savita\n",
            "Copied tennis-0303.jpg to /content/savita\n",
            "Copied tennis-030.jpg to /content/savita\n",
            "Copied tennis-0308.jpg to /content/savita\n",
            "Copied tennis-0306.jpg to /content/savita\n",
            "Copied tennis-011.jpg to /content/savita\n",
            "Copied tennis-0114.jpg to /content/savita\n",
            "Copied tennis-0115.jpg to /content/savita\n",
            "Copied tennis-0112.jpg to /content/savita\n",
            "Copied tennis-0113.jpg to /content/savita\n",
            "Copied tennis-011.jpg to /content/savita\n",
            "Copied tennis-009.jpg to /content/savita\n",
            "Copied tennis-0096.jpg to /content/savita\n",
            "Copied tennis-0097.jpg to /content/savita\n",
            "Copied tennis-0094.jpg to /content/savita\n",
            "Copied tennis-009.jpg to /content/savita\n",
            "Copied tennis-0092.jpg to /content/savita\n",
            "Copied tennis-0095.jpg to /content/savita\n",
            "Copied tennis-0093.jpg to /content/savita\n",
            "Copied tennis-022.jpg to /content/savita\n",
            "Copied tennis-022.jpg to /content/savita\n",
            "Copied tennis-0223.jpg to /content/savita\n",
            "Copied tennis-0222.jpg to /content/savita\n"
          ]
        }
      ]
    }
  ]
}